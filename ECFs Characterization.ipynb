{
 "cells": [
  {
   "cell_type": "code",
   "execution_count": 1,
   "id": "sought-cancellation",
   "metadata": {},
   "outputs": [],
   "source": [
    "import numpy as np\n",
    "import pandas as pd\n",
    "import matplotlib.pyplot as plt\n",
    "import seaborn as sns\n",
    "from scipy.optimize import curve_fit"
   ]
  },
  {
   "cell_type": "code",
   "execution_count": 2,
   "id": "civil-little",
   "metadata": {},
   "outputs": [],
   "source": [
    "def hill_activation(x, K, n, ymin, ymax):\n",
    "    \n",
    "    return ymin + (ymax - ymin) * (x**n / (K**n + x**n))\n",
    "\n",
    "def read_datasets(folder):\n",
    "    \n",
    "    names = ['fluos', 'ods', 'fluos-lower-1', 'fluos-lower-2']\n",
    "    datasets = []\n",
    "    for name in names:\n",
    "        datasets.append(pd.read_csv('datasets/experiment/{}/{}.csv'.format(folder, name), index_col='time'))\n",
    "    return datasets"
   ]
  },
  {
   "cell_type": "code",
   "execution_count": 3,
   "id": "laughing-found",
   "metadata": {},
   "outputs": [],
   "source": [
    "promoters = ['pBAD/Ara', 'pCin/OHC14', 'pCymRC/Cuma', 'pLuxB/AHL', 'pPhlF/DAPG', 'pSalTTC/Sal', 'pRhaB/Rha']\n",
    "ecfs = ['e11x33', 'e15x33', 'e16x33','e20x33', 'e32x33', 'e34x33', 'e38x33', 'e41x33', 'e42x33']\n",
    "gates = ['e11x32STPhoRadA', 'e15x32NpuSspS2', 'e16x33NrdA2', 'e20x32gp411', 'e32x30SspGyrB', 'e34x30MjaKlbA',\n",
    "         'e38x32gp418', 'e41x32NrdJ1', 'e42x32STIMPDH1']"
   ]
  },
  {
   "cell_type": "markdown",
   "id": "traditional-recipe",
   "metadata": {},
   "source": [
    "#### ECFs characterization"
   ]
  },
  {
   "cell_type": "code",
   "execution_count": null,
   "id": "honey-flush",
   "metadata": {},
   "outputs": [],
   "source": [
    "def ecf_plots(row, col, data, gates, ecfs, sharex=True, sharey=False, od=False):\n",
    "\n",
    "    lim1, lim2 = 1, 30\n",
    "    f, axs = plt.subplots(row, col, sharex=sharex, sharey=sharey, figsize=(col*3, row*1.5))\n",
    "    for i in range(row):\n",
    "        for j in range(col):\n",
    "            gate = gates[i]\n",
    "            ecf = ecfs[i]\n",
    "            d1 = data['{}_{}'.format(ecf, j)]\n",
    "            d2 = data['{}_{}'.format(gate, j)]\n",
    "            axs[i, j].plot(d1.index[lim1:lim2]/60, d1[lim1:lim2], label='intact ECF')\n",
    "            axs[i, j].plot(d2.index[lim1:lim2]/60, d2[lim1:lim2], label='split ECF')\n",
    "            axs[i, j].set_title('{}_{}'.format(gate, j))\n",
    "            axs[i, j].legend()\n",
    "            axs[i, j].set_ylabel('OD' if od else 'Fluo (a.u)')\n",
    "            axs[i, j].set_xlabel('Hour')\n",
    "        sns.despine()\n",
    "    plt.tight_layout()\n",
    "\n",
    "def compare_ecf_plots(row, col, datas, gates, ecfs, sharex=True, sharey=False, od=False):\n",
    "\n",
    "    f, axs = plt.subplots(row, col, sharex=sharex, sharey=sharey, figsize=(col*3, row*2))\n",
    "    for i in range(row):\n",
    "        for j in range(col):\n",
    "            gate = gates[i]\n",
    "            ecf = ecfs[i]\n",
    "            d1 = datas[0]['{}_{}'.format(ecf, j)]\n",
    "            d2 = datas[1]['{}_{}'.format(ecf, j)]\n",
    "            d3 = datas[0]['{}_{}'.format(gate, j)]\n",
    "            d4 = datas[1]['{}_{}'.format(gate, j)]\n",
    "            axs[i, j].plot(d1.index/60, d1, label='intact ECF - 1')\n",
    "            axs[i, j].plot(d2.index/60, d2, label='intact ECF - 2')\n",
    "            axs[i, j].plot(d3.index/60, d3, label='split ECF - 1')\n",
    "            axs[i, j].plot(d4.index/60, d4, label='split ECF - 2')\n",
    "            axs[i, j].set_title('{}_{}'.format(gate, j))\n",
    "            #axs[i, j].legend()\n",
    "            axs[i, j].set_ylabel('OD' if od else 'Fluo (a.u)')\n",
    "            axs[i, j].set_xlabel('Hour')\n",
    "            #axs[i, j].set_ylim([0, 1.5])\n",
    "        sns.despine()\n",
    "    plt.tight_layout()"
   ]
  },
  {
   "cell_type": "code",
   "execution_count": null,
   "id": "racial-motorcycle",
   "metadata": {},
   "outputs": [],
   "source": [
    "#folder = '005-intact-vs-gate-ecfs'\n",
    "#fluos_005, ods_005, fluos_1_005, fluos_2_005 = read_datasets(folder)\n",
    "folder = '009-intact-vs-gate-ecfs'\n",
    "fluos, ods, fluos_1, fluos_2 = read_datasets(folder)"
   ]
  },
  {
   "cell_type": "code",
   "execution_count": null,
   "id": "adjacent-declaration",
   "metadata": {},
   "outputs": [],
   "source": [
    "#005 & 007\n",
    "#aras = [0, 0.81, 3.25, 13, 52, 208]\n",
    "#cumas = [0, 6.25, 12.5, 25, 50, 100]\n",
    "#009\n",
    "aras = [0, 26, 52, 104, 208, 416]\n",
    "cumas = [0, 50, 100, 200, 400, 800]\n",
    "ecfs = ['e20x33', 'e32x33', 'e34x33', 'e38x33', 'e41x33', 'e42x33']\n",
    "gates = ['e20x32gp411', 'e32x30SspGyrB', 'e34x30MjaKlbA', 'e38x32gp418', 'e41x32NrdJ1', 'e42x32STIMPDH1']"
   ]
  },
  {
   "cell_type": "code",
   "execution_count": null,
   "id": "physical-cooperation",
   "metadata": {},
   "outputs": [],
   "source": [
    "compare_ecf_plots(6, 6, [(fluos_2_005), (fluos_2_007)], gates, ecfs)"
   ]
  },
  {
   "cell_type": "code",
   "execution_count": null,
   "id": "immune-frontier",
   "metadata": {},
   "outputs": [],
   "source": [
    "compare_ecf_plots(6, 6, [ods_005, ods_007], gates, ecfs)"
   ]
  },
  {
   "cell_type": "code",
   "execution_count": null,
   "id": "broad-audio",
   "metadata": {},
   "outputs": [],
   "source": [
    "ecf_plots(6, 6, fluos_2, gates, ecfs)"
   ]
  },
  {
   "cell_type": "code",
   "execution_count": null,
   "id": "opposite-brunei",
   "metadata": {},
   "outputs": [],
   "source": [
    "ecf_plots(6, 6, ods, gates, ecfs, od=True)"
   ]
  },
  {
   "cell_type": "code",
   "execution_count": null,
   "id": "julian-trace",
   "metadata": {},
   "outputs": [],
   "source": [
    "ecf_plots(6, 6, fluos_2, gates, ecfs)"
   ]
  },
  {
   "cell_type": "markdown",
   "id": "continued-bruce",
   "metadata": {},
   "source": [
    "#### Initial Experiments"
   ]
  },
  {
   "cell_type": "code",
   "execution_count": null,
   "id": "engaging-finish",
   "metadata": {},
   "outputs": [],
   "source": [
    "f_fluos = pd.read_csv('datasets/induction_matrix_and/fluos.csv', index_col='time')\n",
    "f_ods = pd.read_csv('datasets/induction_matrix_and/ods.csv', index_col='time')\n",
    "r0_fluos = pd.read_csv('datasets/experiment/plate-1/plate1-fluos.csv', index_col='time')\n",
    "r0_ods = pd.read_csv('datasets/experiment/plate-1/plate1-ods.csv', index_col='time')\n",
    "r1_fluos = pd.read_csv('datasets/experiment/plate-2/plate2-fluos.csv', index_col='time')\n",
    "r1_ods = pd.read_csv('datasets/experiment/plate-2/plate2-ods.csv', index_col='time')\n",
    "r2_fluos = pd.read_csv('datasets/experiment/plate-3/plate3-fluos.csv', index_col='time')\n",
    "r2_ods = pd.read_csv('datasets/experiment/plate-3/plate3-ods.csv', index_col='time')\n",
    "\n",
    "r0l_fluos = pd.read_csv('datasets/experiment/plate-1/plate1-fluos-gain-lower-1.csv', index_col='time')\n",
    "r0ll_fluos = pd.read_csv('datasets/experiment/plate-1/plate1-fluos-gain-lower-2.csv', index_col='time')\n",
    "r1l_fluos = pd.read_csv('datasets/experiment/plate-2/plate2-fluos-gain-lower-1.csv', index_col='time')\n",
    "r1ll_fluos = pd.read_csv('datasets/experiment/plate-2/plate2-fluos-gain-lower-2.csv', index_col='time')\n",
    "r2l_fluos = pd.read_csv('datasets/experiment/plate-3/plate3-fluos-gain-lower-1.csv', index_col='time')\n",
    "r2ll_fluos = pd.read_csv('datasets/experiment/plate-3/plate3-fluos-gain-lower-2.csv', index_col='time')"
   ]
  },
  {
   "cell_type": "markdown",
   "id": "inappropriate-arthur",
   "metadata": {},
   "source": [
    "### EDA"
   ]
  },
  {
   "cell_type": "code",
   "execution_count": null,
   "id": "elder-moisture",
   "metadata": {},
   "outputs": [],
   "source": [
    "xs = np.arange(6)\n",
    "aras = [0, 0, 3.25, 13, 52, 208, 832]\n",
    "ohcs = [0, 0, 0.04, 0.16, 0.63, 2.5, 10]\n",
    "cumas = [0, 0, 6.25, 12.5, 25, 50, 100]\n",
    "ahls = [0, 0, 0.04, 0.16, 0.63, 2.5, 10]\n",
    "dapgs = [0, 0, 0.1, 0.39, 1.56, 6.25, 25]\n",
    "sals = [0, 0, 0.39, 1.56, 6.25, 25, 100]\n",
    "rhas = [0, 0, 59.76, 239, 956, 3825, 15300]\n",
    "inducers = [aras, ohcs, cumas, ahls, dapgs, sals, rhas]"
   ]
  },
  {
   "cell_type": "code",
   "execution_count": null,
   "id": "smart-routine",
   "metadata": {},
   "outputs": [],
   "source": [
    "idx = 30\n",
    "gfp = r0ll_fluos[filter(lambda x: x.startswith('positive-control'), r0ll_fluos.columns)].mean(axis=1)\n",
    "af = r0ll_fluos[filter(lambda x: x.startswith('negative-control-amp'), r0ll_fluos.columns)].mean(axis=1)\n",
    "\n",
    "gfp10, af10 = gfp.iloc[idx], af.iloc[idx]\n",
    "gfp10, af10"
   ]
  },
  {
   "cell_type": "code",
   "execution_count": null,
   "id": "cognitive-spiritual",
   "metadata": {},
   "outputs": [],
   "source": [
    "idx = 30\n",
    "responses = []\n",
    "f, axs = plt.subplots(2, 4, sharex=False, sharey=True, figsize=(16, 6))\n",
    "axr = axs.ravel()\n",
    "for i, ax in enumerate(axr):\n",
    "    if i < len(promoters):\n",
    "        response = []\n",
    "        for j in range(6):\n",
    "            r = r0ll_fluos['{}_{}'.format(promoters[i], j)]\n",
    "            rpu = (r.iloc[idx] - af.iloc[idx]) / (gfp.iloc[idx] - af.iloc[idx])\n",
    "            ax.scatter(xs[j], rpu, color='blue')\n",
    "            \n",
    "            r = r1ll_fluos['{}_{}'.format(promoters[i], j)]\n",
    "            rpu = (r.iloc[idx] - af.iloc[idx]) / (gfp.iloc[idx] - af.iloc[idx])\n",
    "            ax.scatter(xs[j], rpu, color='red')\n",
    "            \n",
    "            response.append(rpu)\n",
    "            #responses.append(pd.Series(r.iloc[30], index=xs[j]))\n",
    "        ax.set_title('{}_{}'.format(promoters[i], j))\n",
    "        ax.set_xticklabels(inducers[i])\n",
    "        responses.append(response)\n",
    "    else:\n",
    "        ax.set_visible(False)\n",
    "sns.despine()\n",
    "plt.tight_layout()"
   ]
  },
  {
   "cell_type": "code",
   "execution_count": null,
   "id": "antique-register",
   "metadata": {},
   "outputs": [],
   "source": [
    "ind_names = ['Ara', 'OHC14', 'Cuma', 'AHL', 'DAPG', 'Sal', 'Rha']\n",
    "f, axs = plt.subplots(2, 4, sharex=False, sharey=False, figsize=(12, 5))\n",
    "axr = axs.ravel()\n",
    "for i, ax in enumerate(axr):\n",
    "    if i < len(promoters):\n",
    "        y = np.array(responses[i])\n",
    "        init_guess = [10, 1, y.min(), y.max()]\n",
    "        gate_bounds = [[0, 0, y.min()-0.1, y.max()-0.1],\n",
    "                       [100, 4, y.min()+0.1, y.max()+0.1]]\n",
    "        popt, pcov = curve_fit(hill_activation, np.arange(6), y, p0=init_guess, bounds=gate_bounds)\n",
    "        ax.scatter(np.arange(6), y, color='purple', s=25)\n",
    "        ax.plot(np.arange(0, 6, 0.1), hill_activation(np.arange(0, 6, 0.1), *popt), color='gray')\n",
    "        #ax.axhline(1, linestyle='dotted', label='J101_4A3')\n",
    "        ax.set_title('{}'.format(promoters[i]))\n",
    "        ax.set_xticks(np.arange(6))\n",
    "        ax.set_xticklabels(inducers[i][1:])\n",
    "        ax.set_ylabel('RPU')\n",
    "        ax.set_xlabel('{} ({})'.format(ind_names[i], u\"\\u03bcM\"))\n",
    "        #ax.legend()\n",
    "    else:\n",
    "        ax.set_visible(False)\n",
    "    sns.despine()\n",
    "plt.tight_layout()"
   ]
  },
  {
   "cell_type": "code",
   "execution_count": null,
   "id": "coated-radio",
   "metadata": {},
   "outputs": [],
   "source": [
    "responses[0], responses[2]"
   ]
  },
  {
   "cell_type": "code",
   "execution_count": null,
   "id": "theoretical-oliver",
   "metadata": {},
   "outputs": [],
   "source": [
    "idx = 30\n",
    "fgfp = f_fluos[filter(lambda x: x.startswith('positive_control_4AE'), f_fluos.columns)].mean(axis=1)\n",
    "faf = f_fluos[filter(lambda x: x.startswith('negative_control_4AE'), f_fluos.columns)].mean(axis=1)\n",
    "fgfp.iloc[idx], faf.iloc[idx]"
   ]
  },
  {
   "cell_type": "code",
   "execution_count": null,
   "id": "wooden-young",
   "metadata": {},
   "outputs": [],
   "source": [
    "f_fluos2 = f_fluos[filter(lambda x: x.startswith('e11x32STPhoRadA'), f_fluos.columns)]\n",
    "fluo = (f_fluos2.iloc[idx] - faf.iloc[idx]) / (fgfp.iloc[idx] - faf.iloc[idx])\n",
    "fluo_t = fluo.transpose().reset_index().rename(columns={'index': 'gate'})\n",
    "fluo_t['cuma'] = fluo_t['gate'].str[-2]\n",
    "fluo_t['ara'] = fluo_t['gate'].str[-1]\n",
    "#fluo_pvt = fluo_t.drop('gate', axis=1).pivot('cuma', 'ara', t)\n",
    "fluo_t"
   ]
  },
  {
   "cell_type": "code",
   "execution_count": null,
   "id": "excellent-atmosphere",
   "metadata": {},
   "outputs": [],
   "source": [
    "f_fluos2"
   ]
  },
  {
   "cell_type": "code",
   "execution_count": null,
   "id": "center-killer",
   "metadata": {},
   "outputs": [],
   "source": [
    "cumas_rpu = [np.round(x, 2) for x in responses[3]]\n",
    "aras_rpu = [np.round(x, 2) for x in responses[6]]"
   ]
  },
  {
   "cell_type": "code",
   "execution_count": null,
   "id": "intensive-decision",
   "metadata": {},
   "outputs": [],
   "source": [
    "cumas_rpu, aras_rpu"
   ]
  },
  {
   "cell_type": "code",
   "execution_count": null,
   "id": "wired-skill",
   "metadata": {},
   "outputs": [],
   "source": [
    "def plot_heatmap(fluos, gates, num_row, num_col, t=600):\n",
    "    \n",
    "    f, axs = plt.subplots(num_row, num_col, sharex=False, sharey=False, figsize=(16, num_row*3))\n",
    "    axr = axs.ravel()\n",
    "    for i, ax in enumerate(axr):\n",
    "        if i < len(gates):\n",
    "            gate = gates[i]\n",
    "            fluo = f_fluos[filter(lambda x: x.startswith(gate), f_fluos.columns)]\n",
    "            fluo = (fluo.iloc[idx] - faf.iloc[idx]) / (fgfp.iloc[idx] - faf.iloc[idx])\n",
    "            fluo_t = fluo.transpose().reset_index().rename(columns={'index': 'gate'})\n",
    "            fluo_t['cuma'] = fluo_t['gate'].str[-2]\n",
    "            fluo_t['ara'] = fluo_t['gate'].str[-1]\n",
    "            fluo_pvt = fluo_t.drop('gate', axis=1).pivot('cuma', 'ara', t)\n",
    "            fluo_pvt.index = cumas_rpu\n",
    "            fluo_pvt.columns = aras_rpu\n",
    "            sns.heatmap(fluo_pvt, annot=True, fmt='.2f', ax=ax, cmap='cividis')\n",
    "            ax.set_xlabel('Ara [RPU]')\n",
    "            ax.set_ylabel('Cuma [RPU]')\n",
    "            ax.set_title(gate)\n",
    "        else:\n",
    "            ax.set_visible(False)\n",
    "    plt.tight_layout()\n",
    "    plt.show()\n",
    "    \n",
    "plot_heatmap(fluo, gates, 3, 3)"
   ]
  },
  {
   "cell_type": "code",
   "execution_count": null,
   "id": "peaceful-rochester",
   "metadata": {},
   "outputs": [],
   "source": [
    "f, axs = plt.subplots(7, 6, sharex=True, sharey=False, figsize=(14, 10))\n",
    "for i in range(7):\n",
    "    for j in range(6):\n",
    "        r0 = r0_ods['{}_{}'.format(promoters[i], j)]\n",
    "        #axs[i, j].axvline(r0[r0==r0.max()].index[0]/60, color='gray')\n",
    "        #r1 = r1_ods['{}_{}'.format(promoters[i], j)]\n",
    "        #axs[i, j].axvline(r1[r1==r1.max()].index[0]/60, color='black')\n",
    "        axs[i, j].plot(r0.index/60, r0, color='darkblue')\n",
    "        #axs[i, j].plot(r1.index/60, r1, label='plate2')\n",
    "        axs[i, j].axvline(10, color='red', linestyle='--', label='10h')\n",
    "        axs[i, j].legend()\n",
    "        axs[i, j].set_title('{}_{}'.format(promoters[i], j))\n",
    "        axs[i, j].set_ylabel('Fluo (a.u.)')\n",
    "        axs[i, j].set_xlabel('Hour')\n",
    "sns.despine()\n",
    "plt.tight_layout()"
   ]
  },
  {
   "cell_type": "code",
   "execution_count": null,
   "id": "flush-girlfriend",
   "metadata": {},
   "outputs": [],
   "source": [
    "f, axs = plt.subplots(7, 6, sharex=True, sharey=True, figsize=(14, 10))\n",
    "for i in range(7):\n",
    "    for j in range(6):\n",
    "        r0 = r0ll_fluos['{}_{}'.format(promoters[i], j)]\n",
    "        #axs[i, j].axvline(r0[r0==r0.max()].index[0]/60, color='gray')\n",
    "        #r1 = r1_ods['{}_{}'.format(promoters[i], j)]\n",
    "        #axs[i, j].axvline(r1[r1==r1.max()].index[0]/60, color='black')\n",
    "        axs[i, j].plot(r0.index/60, r0, color='darkgreen')\n",
    "        #axs[i, j].plot(r1.index/60, r1, label='plate2')\n",
    "        axs[i, j].axvline(10, color='red', linestyle='--', label='10h')\n",
    "        axs[i, j].legend()\n",
    "        axs[i, j].set_title('{}_{}'.format(promoters[i], j))\n",
    "        axs[i, j].set_ylabel('Fluo (a.u.)')\n",
    "        axs[i, j].set_xlabel('Hour')\n",
    "sns.despine()\n",
    "plt.tight_layout()"
   ]
  },
  {
   "cell_type": "code",
   "execution_count": null,
   "id": "distinct-observation",
   "metadata": {},
   "outputs": [],
   "source": [
    "r0ll_fluos.index[30]/60"
   ]
  },
  {
   "cell_type": "code",
   "execution_count": null,
   "id": "boolean-smooth",
   "metadata": {},
   "outputs": [],
   "source": [
    "f, axs = plt.subplots(6, 6, sharex=True, sharey=True, figsize=(14, 10))\n",
    "for i in range(6):\n",
    "    for j in range(6):\n",
    "        r0 = r0ll_fluos['{}_{}'.format(promoters[i], j)]\n",
    "        r1 = r1ll_fluos['{}_{}'.format(promoters[i], j)]\n",
    "        axs[i, j].plot(r0.index/60, r0, label='plate1')\n",
    "        axs[i, j].plot(r1.index/60, r1, label='plate2')\n",
    "        axs[i, j].legend()\n",
    "        axs[i, j].set_title('{}_{}'.format(promoters[i], j))\n",
    "sns.despine()\n",
    "plt.tight_layout()"
   ]
  },
  {
   "cell_type": "code",
   "execution_count": null,
   "id": "banned-acquisition",
   "metadata": {},
   "outputs": [],
   "source": [
    "f, axs = plt.subplots(6, 6, sharex=True, sharey=False, figsize=(12, 8))\n",
    "gate = gates[1]\n",
    "print(gate)\n",
    "for i in range(6):\n",
    "    for j in range(6):\n",
    "        fg = f_ods['{}_{}{}'.format(gate, i, j)]\n",
    "        fg_ = remove_outliers(fg)\n",
    "        axs[i, j].plot(fg.index/60, fg)\n",
    "        axs[i, j].plot(fg_.index/60, fg_)\n",
    "        axs[i, j].set_title('{}_{}{}'.format(gate, i, j))\n",
    "    sns.despine()\n",
    "plt.tight_layout()"
   ]
  },
  {
   "cell_type": "code",
   "execution_count": null,
   "id": "italic-manitoba",
   "metadata": {},
   "outputs": [],
   "source": [
    "def remove_outliers(ts):\n",
    "    \n",
    "    from sklearn.cluster import DBSCAN\n",
    "    cl = DBSCAN(eps=0.1, min_samples=7).fit(np.array(ts).reshape(-1,1))\n",
    "    labels = cl.labels_\n",
    "    #outlier_pos = np.where(labels==-1)[0]\n",
    "    thres = np.where(ts==ts.median())[0][0]\n",
    "    #print(thres)\n",
    "    removed = pd.Series([a if b==0 else np.NaN for a, b in zip(ts.tolist(), labels)])\n",
    "    #removed = removed.fillna(removed.rolling(20, min_periods=1,).mean()).tolist()\n",
    "    #removed = removed.interpolate(method='slinear').tolist()\n",
    "    #print(thres, ts.iloc[thres], ts.median(), np.array(removed), np.array(ts.iloc[:thres].tolist() + removed[thres:]))\n",
    "    print(thres, removed)\n",
    "    return pd.Series(ts.iloc[:thres].tolist() + removed[thres:], index=ts.index)"
   ]
  },
  {
   "cell_type": "markdown",
   "id": "strong-gospel",
   "metadata": {},
   "source": [
    "### Time-series outliers removal"
   ]
  },
  {
   "cell_type": "code",
   "execution_count": null,
   "id": "generous-maryland",
   "metadata": {},
   "outputs": [],
   "source": [
    "new_ts = remove_outliers(fluos_2['e20x32gp411_3'])\n",
    "r2_fluos['e20x32gp411_3'].plot()\n",
    "#new_ts.plot()"
   ]
  },
  {
   "cell_type": "markdown",
   "id": "formal-sending",
   "metadata": {},
   "source": [
    "### Gates"
   ]
  },
  {
   "cell_type": "code",
   "execution_count": null,
   "id": "congressional-hindu",
   "metadata": {},
   "outputs": [],
   "source": [
    "r1l_gfp = r1l_fluos[filter(lambda x: x.startswith('positive-control-amp'), r1l_fluos.columns)].mean(axis=1)\n",
    "r1l_neg = r1l_fluos[filter(lambda x: x.startswith('negative-control-amp'), r1l_fluos.columns)].mean(axis=1)\n",
    "r1l_fluos_rpu = np.abs(r1l_fluos - neg.iloc[idx]) / np.abs(gfp.iloc[idx] - neg.iloc[idx])"
   ]
  },
  {
   "cell_type": "code",
   "execution_count": null,
   "id": "royal-idaho",
   "metadata": {},
   "outputs": [],
   "source": [
    "data = pd.concat([r0l_fluos, r2l_fluos], axis=1)\n",
    "data"
   ]
  },
  {
   "cell_type": "code",
   "execution_count": null,
   "id": "interracial-retrieval",
   "metadata": {},
   "outputs": [],
   "source": [
    "f, axs = plt.subplots(4, 5, sharex=True, sharey=True, figsize=(16, 8))\n",
    "for i in range(5, 9):\n",
    "    for j in range(5):\n",
    "        gate = gates[i]\n",
    "        ecf = ecfs[i]\n",
    "        e = data['{}_{}'.format(ecf, j)]\n",
    "        g = data['{}_{}'.format(gate, j)]\n",
    "        axs[i-5, j].plot(e.index[:45]/60, e[:45], label='intact ECF')\n",
    "        axs[i-5, j].plot(g.index[:45]/60, g[:45], label='split ECF')\n",
    "        axs[i-5, j].set_title('{}_{}'.format(gate[:6], j))\n",
    "        axs[i-5, j].legend()\n",
    "        axs[i-5, j].set_ylabel('Fluo (a.u)')\n",
    "        axs[i-5, j].set_xlabel('Hour')\n",
    "    sns.despine()\n",
    "plt.tight_layout()"
   ]
  },
  {
   "cell_type": "code",
   "execution_count": null,
   "id": "going-cross",
   "metadata": {},
   "outputs": [],
   "source": [
    "f, axs = plt.subplots(6, 5, sharex=True, sharey=True, figsize=(16, 10))\n",
    "for i, gate in enumerate(gates[3:]):\n",
    "    for j in range(5):\n",
    "        fg = f_fluos['{}_{}{}'.format(gate, j, j)]\n",
    "        r2g = r2_fluos['{}_{}'.format(gate, j)]\n",
    "        #axs[i, j-1].plot(fg.index/60, fg, label='Filipe')\n",
    "        axs[i, j].plot(r2g.index/60, r2g, label='Plate-3')\n",
    "        axs[i, j].set_title('{}_{}'.format(gate, j))\n",
    "        axs[i, j].legend()\n",
    "    sns.despine()\n",
    "plt.tight_layout()"
   ]
  },
  {
   "cell_type": "code",
   "execution_count": null,
   "id": "under-steps",
   "metadata": {},
   "outputs": [],
   "source": []
  },
  {
   "cell_type": "code",
   "execution_count": null,
   "id": "chief-touch",
   "metadata": {},
   "outputs": [],
   "source": []
  },
  {
   "cell_type": "code",
   "execution_count": null,
   "id": "certified-state",
   "metadata": {},
   "outputs": [],
   "source": []
  },
  {
   "cell_type": "code",
   "execution_count": null,
   "id": "complimentary-reach",
   "metadata": {},
   "outputs": [],
   "source": [
    "plt.figure(figsize=[10, 3])\n",
    "plt.subplot(121)\n",
    "f_neg = f_ods[filter(lambda x: x.startswith('negative_control'), f_ods.columns)]\n",
    "plt.plot(f_neg.index/60, f_neg)\n",
    "plt.title('Filipe - negative control')\n",
    "sns.despine()\n",
    "plt.subplot(122)\n",
    "f_pos = f_ods[filter(lambda x: x.startswith('positive_control_4AE'), f_ods.columns)]\n",
    "plt.plot(f_pos.index/60, f_pos)\n",
    "plt.title('Filipe - positive control')\n",
    "sns.despine()"
   ]
  },
  {
   "cell_type": "code",
   "execution_count": null,
   "id": "ranking-representative",
   "metadata": {},
   "outputs": [],
   "source": [
    "plt.figure(figsize=[12, 3])\n",
    "plt.subplot(141)\n",
    "r0_neg = r0_ods[filter(lambda x: x.startswith('negative-control'), r0_ods.columns)]\n",
    "plt.plot((r0_neg.index+160)/60, r0_neg)\n",
    "plt.title('Plate 1 - negative control')\n",
    "sns.despine()\n",
    "plt.subplot(142)\n",
    "r0_pos = r0_ods[filter(lambda x: x.startswith('positive-control'), r0_ods.columns)]\n",
    "plt.plot((r0_pos.index+160)/60, r0_pos)\n",
    "plt.title('Plate 1 - positive control')\n",
    "sns.despine()\n",
    "plt.subplot(143)\n",
    "r1_neg = r1_ods[filter(lambda x: x.startswith('negative-control'), r1_ods.columns)]\n",
    "plt.plot(r1_neg.index/60, r1_neg)\n",
    "plt.title('Plate 2 - negative control')\n",
    "sns.despine()\n",
    "plt.subplot(144)\n",
    "r1_pos = r1_ods[filter(lambda x: x.startswith('positive-control'), r1_ods.columns)]\n",
    "plt.plot(r1_pos.index/60, r1_pos)\n",
    "plt.title('Plate 2 - positive control')\n",
    "sns.despine()"
   ]
  },
  {
   "cell_type": "code",
   "execution_count": null,
   "id": "minute-techno",
   "metadata": {},
   "outputs": [],
   "source": [
    "plt.figure(figsize=[10, 3])\n",
    "plt.subplot(121)\n",
    "f_neg = f_fluos[filter(lambda x: x.startswith('negative_control_4AE'), f_fluos.columns)]\n",
    "plt.plot(f_neg.index/60, f_neg)\n",
    "plt.title('Filipe - negative control')\n",
    "#plt.ylim([0, 80000])\n",
    "sns.despine()\n",
    "plt.subplot(122)\n",
    "f_pos = f_fluos[filter(lambda x: x.startswith('positive_control_4AE'), f_fluos.columns)]\n",
    "plt.plot(f_pos.index/60, f_pos)\n",
    "plt.title('Filipe - positive control')\n",
    "#plt.ylim([0, 80000])\n",
    "sns.despine()"
   ]
  },
  {
   "cell_type": "code",
   "execution_count": null,
   "id": "asian-kidney",
   "metadata": {},
   "outputs": [],
   "source": [
    "plt.figure(figsize=[16, 2.5])\n",
    "plt.subplot(141)\n",
    "r0_neg = r0_fluos[filter(lambda x: x.startswith('negative-control-amp'), r0_fluos.columns)]\n",
    "plt.plot((r0_neg.index+160)/60, r0_neg)\n",
    "plt.title('Plate 1 - negative control')\n",
    "#plt.ylim([0, 80000])\n",
    "sns.despine()\n",
    "plt.subplot(142)\n",
    "r0_pos = r0_fluos[filter(lambda x: x.startswith('positive-control'), r0_fluos.columns)]\n",
    "plt.plot((r0_pos.index+160)/60, r0_pos)\n",
    "plt.title('Plate 1 - positive control')\n",
    "#plt.ylim([0, 80000])\n",
    "sns.despine()\n",
    "plt.subplot(143)\n",
    "r1_neg = r1_fluos[filter(lambda x: x.startswith('negative-control-amp'), r1_fluos.columns)]\n",
    "plt.plot(r1_neg.index/60, r1_neg)\n",
    "plt.title('Plate 2 - negative control')\n",
    "#plt.ylim([0, 80000])\n",
    "sns.despine()\n",
    "plt.subplot(144)\n",
    "r1_pos = r1_fluos[filter(lambda x: x.startswith('positive-control'), r1_fluos.columns)]\n",
    "plt.plot(r1_pos.index/60, r1_pos)\n",
    "plt.title('Plate 2 - positive control')\n",
    "#plt.ylim([0, 80000])\n",
    "sns.despine()"
   ]
  },
  {
   "cell_type": "markdown",
   "id": "mexican-relations",
   "metadata": {},
   "source": [
    "### ECFs Control"
   ]
  },
  {
   "cell_type": "code",
   "execution_count": null,
   "id": "insured-transmission",
   "metadata": {},
   "outputs": [],
   "source": [
    "f, axs = plt.subplots(3, 5, sharex=True, sharey=True, figsize=(16, 6))\n",
    "for i, gate in enumerate(ecfs[:3]):\n",
    "    for j in range(5):\n",
    "        #fg = f_fluos['{}_{}{}'.format(gate, j, j)]\n",
    "        r0g = r3_fluos['{}_{}'.format(gate, j)]\n",
    "        r1g = r4_fluos['{}_{}'.format(gate, j)]\n",
    "        #axs[i, j].plot(fg.index/60, fg, label='Filipe')\n",
    "        axs[i, j].plot(r0g.index/60, r0g, label='Plate-1')\n",
    "        axs[i, j].plot(r1g.index/60, r1g, label='Plate-2')\n",
    "        axs[i, j].set_title('{}_{}'.format(gate, j))\n",
    "        axs[i, j].legend()\n",
    "    sns.despine()\n",
    "plt.tight_layout()"
   ]
  },
  {
   "cell_type": "code",
   "execution_count": null,
   "id": "preceding-degree",
   "metadata": {},
   "outputs": [],
   "source": [
    "f, axs = plt.subplots(6, 5, sharex=True, sharey=True, figsize=(16, 10))\n",
    "for i, gate in enumerate(ecfs[:3]):\n",
    "    for j in range(5):\n",
    "        r2g = r4_fluos['{}_{}'.format(gate, j)]\n",
    "        axs[i, j].plot(r2g.index/60, r2g, label='Plate-3')\n",
    "        axs[i, j].set_title('{}_{}'.format(gate, j))\n",
    "        axs[i, j].legend()\n",
    "    sns.despine()\n",
    "plt.tight_layout()"
   ]
  },
  {
   "cell_type": "code",
   "execution_count": null,
   "id": "advised-heater",
   "metadata": {},
   "outputs": [],
   "source": [
    "r2_fluos.columns"
   ]
  },
  {
   "cell_type": "code",
   "execution_count": null,
   "id": "plain-difference",
   "metadata": {},
   "outputs": [],
   "source": [
    "ts = r2_fluos['e42x32STIMPDH1_4']\n",
    "ts.plot()\n",
    "plt.axhline(ts.std()*2.5)\n",
    "plt.axhline(ts.median(), color='r')"
   ]
  },
  {
   "cell_type": "code",
   "execution_count": null,
   "id": "approximate-revision",
   "metadata": {},
   "outputs": [],
   "source": [
    "r0_ods['negative-control-amp_1.1'].plot()"
   ]
  },
  {
   "cell_type": "code",
   "execution_count": null,
   "id": "printable-section",
   "metadata": {},
   "outputs": [],
   "source": [
    "from sklearn.cluster import DBSCAN\n",
    "ts = r0_ods['negative-control-amp_1.1']\n",
    "clustering1 = DBSCAN(eps=0.1, min_samples=6).fit(np.array(ts).reshape(-1,1))\n",
    "labels = clustering1.labels_\n",
    "outlier_pos = np.where(labels==-1)[0]\n",
    "\n",
    "x, y = [], []\n",
    "for pos in outlier_pos:\n",
    "    x.append(ts.index[pos])\n",
    "    y.append(np.array(ts)[pos])\n",
    "    \n",
    "plt.plot(ts, '-')\n",
    "plt.plot(x, y, 'r*', markersize=8)  \n",
    "plt.legend(['Actual', 'Anomaly Detected'])\n",
    "plt.show()"
   ]
  },
  {
   "cell_type": "code",
   "execution_count": null,
   "id": "offensive-making",
   "metadata": {},
   "outputs": [],
   "source": [
    "thres = np.where(ts==ts.median())[0][0]\n",
    "removed = pd.Series([a if b==0 else np.NaN for a, b in zip(ts.tolist(), labels)])\n",
    "removed = removed.fillna(removed.rolling(3, min_periods=1,).mean()).tolist()\n",
    "new_ts = pd.Series(ts.iloc[:thres].tolist() + removed[thres:]).plot()"
   ]
  },
  {
   "cell_type": "code",
   "execution_count": null,
   "id": "identified-collapse",
   "metadata": {},
   "outputs": [],
   "source": [
    "ta = r2_fluos['e20x33_0']\n",
    "sns.kdeplot(ta)\n",
    "plt.axvline(ta.mean(), c='b')\n",
    "plt.axvline(ta.median(), c='r')"
   ]
  },
  {
   "cell_type": "code",
   "execution_count": null,
   "id": "quantitative-trouble",
   "metadata": {},
   "outputs": [],
   "source": [
    "ts.iloc[np.where(ts==ts.median())[0][0]:].plot()"
   ]
  },
  {
   "cell_type": "code",
   "execution_count": null,
   "id": "musical-douglas",
   "metadata": {},
   "outputs": [],
   "source": [
    "ts.iloc[39], ts.median()"
   ]
  },
  {
   "cell_type": "code",
   "execution_count": null,
   "id": "confidential-plumbing",
   "metadata": {},
   "outputs": [],
   "source": [
    "labels[np.where(ts==ts.median())[0][0]:]"
   ]
  },
  {
   "cell_type": "code",
   "execution_count": null,
   "id": "tribal-hierarchy",
   "metadata": {},
   "outputs": [],
   "source": [
    "np.where(labels[np.where(ts==ts.median())[0][0]:]==-1)"
   ]
  },
  {
   "cell_type": "code",
   "execution_count": null,
   "id": "protected-inspection",
   "metadata": {},
   "outputs": [],
   "source": []
  }
 ],
 "metadata": {
  "kernelspec": {
   "display_name": "Python 3",
   "language": "python",
   "name": "python3"
  },
  "language_info": {
   "codemirror_mode": {
    "name": "ipython",
    "version": 3
   },
   "file_extension": ".py",
   "mimetype": "text/x-python",
   "name": "python",
   "nbconvert_exporter": "python",
   "pygments_lexer": "ipython3",
   "version": "3.9.2"
  }
 },
 "nbformat": 4,
 "nbformat_minor": 5
}
