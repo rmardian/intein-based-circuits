{
 "cells": [
  {
   "cell_type": "code",
   "execution_count": null,
   "id": "68d50280",
   "metadata": {},
   "outputs": [],
   "source": [
    "import pandas as pd\n",
    "pd.set_option('display.max_columns', None)\n",
    "pd.set_option('display.max_rows', None)\n",
    "import numpy as np\n",
    "import matplotlib.pyplot as plt\n",
    "import seaborn as sns\n",
    "from tqdm import tqdm\n",
    "import warnings\n",
    "warnings.filterwarnings(\"ignore\")\n",
    "from scipy.optimize import curve_fit\n",
    "from sklearn.ensemble import RandomForestRegressor\n",
    "from sklearn.model_selection import train_test_split, cross_validate, cross_val_score, KFold\n",
    "from sklearn.metrics import r2_score\n",
    "\n",
    "from utils.model import hill_activation, hill_activation_and, random_search\n",
    "from utils.helper import setup_header, read_map, read_dict, generate_metadata, transpose_data, generate_data, \\\n",
    "                         get_blank_corrected, get_neg_ctrl_corrected\n",
    "from utils.plotter import plot_heatmap"
   ]
  },
  {
   "cell_type": "code",
   "execution_count": null,
   "id": "e4cea44c",
   "metadata": {},
   "outputs": [],
   "source": [
    "folder = '033-all-and-gates-characterization'\n",
    "cumas = np.round([2.1140508404516445e-16, 0.013913767421852795, 0.04708753302668632, 0.1481921474634383,\n",
    "                  0.38432925220642106, 0.706446628596465], 3)\n",
    "aras = np.round([1.0957813643749393e-17, 1.2060287427482614, 2.636411170614044, 4.633309896886311,\n",
    "                 6.3697279021373925, 7.370992838892073], 3)"
   ]
  },
  {
   "cell_type": "code",
   "execution_count": null,
   "id": "3d7e4db0",
   "metadata": {},
   "outputs": [],
   "source": [
    "group = raw_data['Group'].unique().tolist()\n",
    "group"
   ]
  },
  {
   "cell_type": "code",
   "execution_count": null,
   "id": "2e1fee10",
   "metadata": {
    "scrolled": false
   },
   "outputs": [],
   "source": [
    "raw_data = setup_header(pd.read_csv('datasets/experiment/{}/induction_matrix/plate{}.csv'.format(folder, 1)))\n",
    "raw_data"
   ]
  },
  {
   "cell_type": "code",
   "execution_count": null,
   "id": "74a008b4",
   "metadata": {},
   "outputs": [],
   "source": [
    "sample_map = generate_map(pd.read_csv('datasets/dictionary.csv'))\n",
    "plate_map = read_map(pd.read_csv('datasets/experiment/{}/induction_matrix/plate{}_map.csv'.format(folder, 1)))\n",
    "plate_map"
   ]
  },
  {
   "cell_type": "code",
   "execution_count": null,
   "id": "7590070e",
   "metadata": {},
   "outputs": [],
   "source": [
    "sample_map"
   ]
  },
  {
   "cell_type": "code",
   "execution_count": null,
   "id": "73469d0b",
   "metadata": {},
   "outputs": [],
   "source": [
    "raw_data[raw_data['Group']=='A']"
   ]
  },
  {
   "cell_type": "code",
   "execution_count": null,
   "id": "ec32564a",
   "metadata": {},
   "outputs": [],
   "source": [
    "metadata = generate_metadata(raw_data[raw_data['Group']=='A']['Well'], plate_map, sample_map)\n",
    "metadata"
   ]
  },
  {
   "cell_type": "code",
   "execution_count": null,
   "id": "24866a38",
   "metadata": {},
   "outputs": [],
   "source": [
    "heatmaps = []\n",
    "responses = []\n",
    "h = 6\n",
    "timepoint = 3 * h\n",
    "for i in tqdm(range(6)):\n",
    "    \n",
    "    ctrl_replicate = 3 if i!=5 else 2\n",
    "    sample_map = generate_map(pd.read_csv('datasets/dictionary.csv'))\n",
    "    plate_map = read_map(pd.read_csv('datasets/experiment/{}/induction_matrix/plate{}_map.csv'.format(folder, i+1)),\n",
    "                         ctrl_replicate)\n",
    "    raw_data = setup_header(pd.read_csv('datasets/experiment/{}/induction_matrix/plate{}.csv'.format(folder, i+1)))\n",
    "    metadata = generate_metadata(raw_data['Well'], plate_map, sample_map)\n",
    "    datas = generate_data(raw_data[raw_data['Well'].isin(metadata['Well'])].reset_index(drop=True),\n",
    "                          metadata['short_name'], datapoint=int((raw_data.shape[1] - 3)/4))\n",
    "    \n",
    "    samples = get_neg_ctrl_corrected(datas[1][filter(lambda x: '-amp' not in x, datas[1].columns)],\n",
    "                                 datas[0][filter(lambda x: '-amp' not in x, datas[0].columns)])\n",
    "    reporter = get_neg_ctrl_corrected(datas[1][filter(lambda x: '-amp' in x, datas[1].columns)],\n",
    "                              datas[0][filter(lambda x: '-amp' in x, datas[0].columns)])\n",
    "    \n",
    "    samples_t = samples.iloc[timepoint]\n",
    "    \n",
    "    for col in [e for e in plate_map['value'].unique() if e.startswith('A')]:\n",
    "        \n",
    "        fluo = samples_t[filter(lambda x: x.startswith(sample_map[col]), samples_t.index)]\n",
    "        fluo_t = fluo.reset_index().rename(columns={'short_name': 'gate'})\n",
    "        fluo_t['cuma'] = fluo_t['gate'].str[-2]\n",
    "        fluo_t['ara'] = fluo_t['gate'].str[-1]\n",
    "        fluo_t[18] = fluo_t[18]#/np.mean(reporter.values)\n",
    "        responses.append(fluo_t)\n",
    "        fluo_pvt = fluo_t.drop('gate', axis=1).pivot('cuma', 'ara')\n",
    "        fluo_pvt.index = cumas\n",
    "        fluo_pvt.columns = aras\n",
    "        heatmaps.append((sample_map[col], fluo_pvt/np.mean(reporter.values)))\n",
    "        #heatmaps.append((sample_map[col], fluo_pvt))\n",
    "        "
   ]
  },
  {
   "cell_type": "code",
   "execution_count": null,
   "id": "ef842ffa",
   "metadata": {},
   "outputs": [],
   "source": [
    "datas[3]"
   ]
  },
  {
   "cell_type": "code",
   "execution_count": null,
   "id": "7656c13d",
   "metadata": {},
   "outputs": [],
   "source": [
    "len(heatmaps)"
   ]
  },
  {
   "cell_type": "code",
   "execution_count": null,
   "id": "360d26a5",
   "metadata": {},
   "outputs": [],
   "source": [
    "plot_heatmap(heatmaps[:12])"
   ]
  },
  {
   "cell_type": "code",
   "execution_count": null,
   "id": "fcfdb87d",
   "metadata": {},
   "outputs": [],
   "source": [
    "plot_heatmap(heatmaps[6:12])"
   ]
  },
  {
   "cell_type": "code",
   "execution_count": null,
   "id": "bf5664e3",
   "metadata": {},
   "outputs": [],
   "source": [
    "def read_map(P1, P2, induction_lvl=6, ctrl_replicate=2):\n",
    "    \n",
    "    plate_map_builder = [[P1] * 6 + [P2] * 6 for _ in range(6)]\n",
    "    plate_map_builder.append([None] * 12)\n",
    "    plate_map_builder.append([None, None, 'BK', 'BK', '3K3-N', '3K3-N', 'BA', 'BA', '4A3-N', '4A3-N', '4A3-P', '4A3-P'])\n",
    "    plate_map = pd.concat([pd.Series(['A', 'B', 'C', 'D', 'E', 'F', 'G', 'H']),\n",
    "               pd.DataFrame(np.array(plate_map_builder))], axis=1)\n",
    "    plate_map.columns = ['group', '1', '2', '3', '4', '5', '6', '7', '8', '9', '10', '11', '12']\n",
    "    plate_map = plate_map.melt(id_vars=['group'])\n",
    "    plate_map['variable'] = plate_map['variable'].astype(int)\n",
    "    plate_map['Well'] = plate_map['group'] + plate_map['variable'].apply(lambda x: '{:02d}'.format(x))\n",
    "    plate_map.loc[~plate_map['group'].isin(['G', 'H']), 'suffix'] = (plate_map['group'].apply(lambda x: str(ord(x)- 65))) + ((plate_map['variable'] - 1) % induction_lvl).astype(str)\n",
    "    plate_map.loc[plate_map['group'].isin(['G', 'H']), 'suffix'] = (plate_map['variable'] - 1) % ctrl_replicate\n",
    "    return plate_map[['Well', 'value', 'suffix']].dropna()"
   ]
  },
  {
   "cell_type": "code",
   "execution_count": null,
   "id": "df91fa54",
   "metadata": {},
   "outputs": [],
   "source": [
    "gates_list = pd.read_csv('datasets/experiment/{}/plate_map.csv'.format(folder))\n",
    "#heatmaps = []\n",
    "\n",
    "for i in tqdm(range(len(gates_list))):\n",
    "    \n",
    "    P1, P2 = gates_list.iloc[i].tolist()\n",
    "    plate_map = read_map(P1, P2)\n",
    "    \n",
    "    a, b = str(i*2+1).zfill(3), str(i*2+2).zfill(3)\n",
    "    raw_data = pd.read_csv('datasets/experiment/{}/{}-{}.csv'.format(folder, a, b), skiprows=[0])\n",
    "    sample_map = generate_map(pd.read_csv('datasets/dictionary.csv'))\n",
    "    metadata = generate_metadata(raw_data['Well'], plate_map, sample_map)\n",
    "    data = raw_data[raw_data['Well'].isin(metadata['Well'])].reset_index(drop=True)\n",
    "    datas = generate_data(data, metadata['short_name'], datapoint=int((raw_data.shape[1] - 3)/4))\n",
    "    \n",
    "    samples = get_neg_ctrl_corrected(datas[1][filter(lambda x: '-amp' not in x, datas[1].columns)],\n",
    "                                 datas[0][filter(lambda x: '-amp' not in x, datas[0].columns)])\n",
    "    reporter = get_neg_ctrl_corrected(datas[1][filter(lambda x: '-amp' in x, datas[1].columns)],\n",
    "                                  datas[0][filter(lambda x: '-amp' in x, datas[0].columns)])\n",
    "    \n",
    "    samples_t = samples.mean()\n",
    "    \n",
    "    fluo = samples_t[filter(lambda x: x.startswith(sample_map[P1]), samples_t.index)]\n",
    "    fluo_t = fluo.reset_index().rename(columns={'short_name': 'gate'})\n",
    "    fluo_t['cuma'] = fluo_t['gate'].str[-2]\n",
    "    fluo_t['ara'] = fluo_t['gate'].str[-1]\n",
    "    responses.append(fluo_t)\n",
    "    fluo_pvt = fluo_t.drop('gate', axis=1).pivot('cuma', 'ara')\n",
    "    fluo_pvt.index = cumas\n",
    "    fluo_pvt.columns = aras\n",
    "    heatmaps.append((sample_map[P1], fluo_pvt/np.mean(reporter.values)))\n",
    "    \n",
    "    fluo = samples_t[filter(lambda x: x.startswith(sample_map[P2]), samples_t.index)]\n",
    "    fluo_t = fluo.reset_index().rename(columns={'short_name': 'gate'})\n",
    "    fluo_t['cuma'] = fluo_t['gate'].str[-2]\n",
    "    fluo_t['ara'] = fluo_t['gate'].str[-1]\n",
    "    responses.append(fluo_t)\n",
    "    fluo_pvt = fluo_t.drop('gate', axis=1).pivot('cuma', 'ara')\n",
    "    fluo_pvt.index = cumas\n",
    "    fluo_pvt.columns = aras\n",
    "    heatmaps.append((sample_map[P2], fluo_pvt/np.mean(reporter.values))) "
   ]
  },
  {
   "cell_type": "code",
   "execution_count": null,
   "id": "16ffe31e",
   "metadata": {},
   "outputs": [],
   "source": [
    "len(responses)"
   ]
  },
  {
   "cell_type": "code",
   "execution_count": null,
   "id": "7ea9ed0f",
   "metadata": {},
   "outputs": [],
   "source": []
  },
  {
   "cell_type": "code",
   "execution_count": null,
   "id": "6a046a90",
   "metadata": {},
   "outputs": [],
   "source": [
    "data = responses[1].copy()\n",
    "data['cumas'] = data['cuma'].apply(lambda x: cumas[int(x)])\n",
    "data['aras'] = data['ara'].apply(lambda x: aras[int(x)])\n",
    "X = data[['cumas', 'aras']]\n",
    "y = data[timepoint]"
   ]
  },
  {
   "cell_type": "code",
   "execution_count": null,
   "id": "60e0f812",
   "metadata": {},
   "outputs": [],
   "source": [
    "X_train, X_test, y_train, y_test = train_test_split(X, y, test_size=0.2)\n",
    "regr = RandomForestRegressor(random_state=0)\n",
    "regr.fit(X_train, y_train)"
   ]
  },
  {
   "cell_type": "code",
   "execution_count": null,
   "id": "c79cc361",
   "metadata": {},
   "outputs": [],
   "source": [
    "r2_score(y_test, regr.predict(X_test))"
   ]
  },
  {
   "cell_type": "code",
   "execution_count": null,
   "id": "9dcee831",
   "metadata": {},
   "outputs": [],
   "source": [
    "regr = RandomForestRegressor()\n",
    "cross_val_score(regr, X, y, scoring='r2', cv=KFold(shuffle=True))"
   ]
  },
  {
   "cell_type": "code",
   "execution_count": null,
   "id": "dd2d71aa",
   "metadata": {},
   "outputs": [],
   "source": [
    "resp_perfs = []\n",
    "resp_perfs = []\n",
    "for data in tqdm(responses[:9]):\n",
    "    \n",
    "    data['cumas'] = data['cuma'].apply(lambda x: cumas[int(x)])\n",
    "    data['aras'] = data['ara'].apply(lambda x: aras[int(x)])\n",
    "    X = data[['cumas', 'aras']]\n",
    "    y = data[timepoint]\n",
    "    \n",
    "    resp_perf = []\n",
    "    for i in range(10):\n",
    "        \n",
    "        X_train, X_test, y_train, y_test = train_test_split(X, y, test_size=0.2)\n",
    "        regr = RandomForestRegressor()\n",
    "        resp_perf.append(cross_val_score(regr, X, y, scoring='r2', cv=KFold(shuffle=True)))\n",
    "        \n",
    "    resp_perfs.append(resp_perf)"
   ]
  },
  {
   "cell_type": "code",
   "execution_count": null,
   "id": "f316f262",
   "metadata": {},
   "outputs": [],
   "source": [
    "gates = ['E11', 'E15', 'E16', 'E20', 'E32', 'E34', 'E38', 'E41']\n",
    "plt.figure(figsize=[8, 3])\n",
    "for i, resp in enumerate(resp_perfs[:8]):\n",
    "    plt.errorbar(gates[i], np.mean(resp), np.std(resp), color='darkblue', marker='o')\n",
    "plt.ylim([0, 1.2])\n",
    "plt.show()"
   ]
  },
  {
   "cell_type": "markdown",
   "id": "82402b63",
   "metadata": {},
   "source": [
    "#### Plotting"
   ]
  },
  {
   "cell_type": "code",
   "execution_count": null,
   "id": "55076c04",
   "metadata": {},
   "outputs": [],
   "source": [
    "heatmaps[0][1]"
   ]
  },
  {
   "cell_type": "code",
   "execution_count": null,
   "id": "698ba8b7",
   "metadata": {},
   "outputs": [],
   "source": [
    "hill_params = []\n",
    "fluo = heatmaps[0][1]\n",
    "fluo = fluo.reset_index().melt('index', var_name='ara', value_name='fluo')\n",
    "fluo.rename(columns={'index': 'cuma'}, inplace=True)\n",
    "\n",
    "x1, x2 = np.meshgrid(cumas, aras)\n",
    "x = np.vstack((x1.ravel(), x2.ravel()))\n",
    "y = np.abs(fluo['fluo'].values)\n",
    "\n",
    "gate_bounds = [[0, 0, 0, 0, 0, 0, 0, 0],\n",
    "               [1e3, 1e3, 4, 4, y.min()+0.1, y.min()+0.1, y.max()+0.5*y.max(), y.max()+0.5*y.max()]]\n",
    "\n",
    "init_guess = random_search(30, x, y, gate_bounds, hill_activation_and)\n",
    "popt, pcov = curve_fit(hill_activation_and, x, y, p0=init_guess, bounds=gate_bounds)\n",
    "\n",
    "y_pred = hill_activation_and(x, *popt)\n",
    "hill_params.append((heatmaps[i][0], *popt))\n",
    "\n",
    "#ys.append((heatmaps[i][0], y, y_pred))\n",
    "\n",
    "arr_ind1 = np.arange(0, np.max(cumas), 0.005)\n",
    "arr_ind2 = np.arange(0, np.max(aras), 0.05)\n",
    "x1_, x2_ = np.meshgrid(arr_ind1, arr_ind2)\n",
    "x_ = np.vstack((x1_.ravel(), x2_.ravel()))\n",
    "y_pred_ = hill_activation_and(x_, *popt)"
   ]
  },
  {
   "cell_type": "code",
   "execution_count": null,
   "id": "57d2e3d1",
   "metadata": {},
   "outputs": [],
   "source": []
  },
  {
   "cell_type": "code",
   "execution_count": null,
   "id": "d278149c",
   "metadata": {},
   "outputs": [],
   "source": [
    "sns.regplot(y, y_pred)"
   ]
  },
  {
   "cell_type": "code",
   "execution_count": null,
   "id": "50d28bc9",
   "metadata": {},
   "outputs": [],
   "source": [
    "data = responses[17].copy()\n",
    "cuma_lvl = data['cuma'].unique()\n",
    "for cuma in cuma_lvl:\n",
    "    selection = data[data['cuma']==cuma].reset_index(drop=True)\n",
    "    plt.plot(selection.index, selection[0], label=cuma)\n",
    "plt.legend()\n",
    "plt.show()"
   ]
  },
  {
   "cell_type": "code",
   "execution_count": null,
   "id": "57bda7f4",
   "metadata": {},
   "outputs": [],
   "source": [
    "responses[15]"
   ]
  },
  {
   "cell_type": "code",
   "execution_count": null,
   "id": "6488fe7c",
   "metadata": {},
   "outputs": [],
   "source": [
    "data = responses[4].copy()\n",
    "selection = data[data['cuma']=='5'].reset_index(drop=True)\n",
    "selection"
   ]
  },
  {
   "cell_type": "code",
   "execution_count": null,
   "id": "54c89f8f",
   "metadata": {},
   "outputs": [],
   "source": [
    "x = aras\n",
    "f, axs = plt.subplots(3, 3, sharex=False, sharey=False, figsize=(16, 10))\n",
    "axr = axs.ravel()\n",
    "hill_params = []\n",
    "for i, ax in enumerate(axr):\n",
    "    if i < len(responses[:9]):\n",
    "        data = responses[i].copy()\n",
    "        cuma_lvl = data['cuma'].unique()\n",
    "        for cuma in cuma_lvl:\n",
    "            selection = data[data['cuma']==cuma].reset_index(drop=True)\n",
    "\n",
    "            y = np.abs(selection[18])\n",
    "            gate_bounds = [[0, 0, 0, 0],\n",
    "                           [1e2, 4, y.min()+0.1, y.max()+0.5*y.max()]]\n",
    "\n",
    "            init_guess = random_search(30, x, y, gate_bounds, hill_activation)\n",
    "            popt, pcov = curve_fit(hill_activation, x, y, p0=init_guess, bounds=gate_bounds)\n",
    "\n",
    "            y_pred = hill_activation(np.arange(0, np.max(x), 0.05), *popt)\n",
    "            hill_params.append((cumas[int(cuma)], *popt))\n",
    "\n",
    "            ax.plot(np.arange(0, np.max(x), 0.05), y_pred, label=cumas[int(cuma)], linestyle='dashed')\n",
    "            ax.scatter(x, y)\n",
    "\n",
    "        ax.set_xticks(x)\n",
    "        ax.set_xlabel('Ara (RPU)')\n",
    "        ax.set_ylabel('GFP (RPU)')\n",
    "        ax.set_title(data['gate'].iloc[0][:-3])\n",
    "        ax.legend()\n",
    "    else:\n",
    "        ax.set_visible(False)\n",
    "\n",
    "plt.tight_layout()"
   ]
  },
  {
   "cell_type": "code",
   "execution_count": null,
   "id": "53a32ef2",
   "metadata": {},
   "outputs": [],
   "source": [
    "x = cumas\n",
    "f, axs = plt.subplots(3, 3, sharex=False, sharey=False, figsize=(16, 10))\n",
    "axr = axs.ravel()\n",
    "for i, ax in enumerate(axr):\n",
    "    if i < len(responses[:9]):\n",
    "        data = responses[i].copy()\n",
    "        ara_lvl = data['ara'].unique()\n",
    "        for ara in ara_lvl:\n",
    "            selection = data[data['ara']==ara].reset_index(drop=True)\n",
    "\n",
    "            y = np.abs(selection[18])\n",
    "            gate_bounds = [[0, 0, 0, 0],\n",
    "                           [1e2, 100, y.min()+0.1, y.max()+0.5*y.max()]]\n",
    "\n",
    "            init_guess = random_search(30, x, y, gate_bounds, hill_activation)\n",
    "            popt, pcov = curve_fit(hill_activation, x, y, p0=init_guess, bounds=gate_bounds)\n",
    "\n",
    "            y_pred = hill_activation(np.arange(0, np.max(x), 0.05), *popt)\n",
    "            \n",
    "            #ax.loglog()\n",
    "            ax.plot(np.arange(0, np.max(x), 0.05), y_pred, label=aras[int(ara)], linestyle='dashed')\n",
    "            ax.scatter(x, y)\n",
    "\n",
    "        ax.set_xticks(x)\n",
    "        ax.set_xticklabels(x, rotation=90)\n",
    "        ax.set_xlabel('Cuma (RPU)')\n",
    "        ax.set_ylabel('GFP (RPU)')\n",
    "        ax.set_title(data['gate'].iloc[0][:-3])\n",
    "        ax.legend(loc=4)\n",
    "    else:\n",
    "        ax.set_visible(False)\n",
    "\n",
    "plt.tight_layout()"
   ]
  },
  {
   "cell_type": "code",
   "execution_count": null,
   "id": "7fe7bee6",
   "metadata": {},
   "outputs": [],
   "source": [
    "data = responses[1].copy()\n",
    "ara_lvl = data['ara'].unique()\n",
    "for ara in ara_lvl:\n",
    "    selection = data[data['ara']==ara].reset_index(drop=True)\n",
    "    plt.plot(selection.index, selection[18], label=ara)\n",
    "plt.legend()\n",
    "plt.show()"
   ]
  },
  {
   "cell_type": "code",
   "execution_count": null,
   "id": "c371b7fe",
   "metadata": {},
   "outputs": [],
   "source": []
  }
 ],
 "metadata": {
  "kernelspec": {
   "display_name": "Python 3 (ipykernel)",
   "language": "python",
   "name": "python3"
  },
  "language_info": {
   "codemirror_mode": {
    "name": "ipython",
    "version": 3
   },
   "file_extension": ".py",
   "mimetype": "text/x-python",
   "name": "python",
   "nbconvert_exporter": "python",
   "pygments_lexer": "ipython3",
   "version": "3.9.6"
  }
 },
 "nbformat": 4,
 "nbformat_minor": 5
}
