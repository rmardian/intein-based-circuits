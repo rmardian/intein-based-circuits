{
 "cells": [
  {
   "cell_type": "code",
   "execution_count": 2,
   "id": "ef6d1aa6",
   "metadata": {},
   "outputs": [],
   "source": [
    "import pandas as pd\n",
    "import numpy as np\n",
    "import matplotlib.pyplot as plt\n",
    "import seaborn as sns\n",
    "from tqdm import tqdm\n",
    "from itertools import product\n",
    "\n",
    "from sklearn.neural_network import MLPRegressor\n",
    "from sklearn.model_selection import train_test_split\n",
    "from sklearn.metrics import r2_score"
   ]
  },
  {
   "cell_type": "code",
   "execution_count": 3,
   "id": "4b2cc392",
   "metadata": {},
   "outputs": [
    {
     "data": {
      "text/html": [
       "<div>\n",
       "<style scoped>\n",
       "    .dataframe tbody tr th:only-of-type {\n",
       "        vertical-align: middle;\n",
       "    }\n",
       "\n",
       "    .dataframe tbody tr th {\n",
       "        vertical-align: top;\n",
       "    }\n",
       "\n",
       "    .dataframe thead th {\n",
       "        text-align: right;\n",
       "    }\n",
       "</style>\n",
       "<table border=\"1\" class=\"dataframe\">\n",
       "  <thead>\n",
       "    <tr style=\"text-align: right;\">\n",
       "      <th></th>\n",
       "      <th>cin</th>\n",
       "      <th>X1</th>\n",
       "      <th>X2</th>\n",
       "      <th>S</th>\n",
       "    </tr>\n",
       "  </thead>\n",
       "  <tbody>\n",
       "    <tr>\n",
       "      <th>0</th>\n",
       "      <td>0</td>\n",
       "      <td>0</td>\n",
       "      <td>0</td>\n",
       "      <td>0</td>\n",
       "    </tr>\n",
       "    <tr>\n",
       "      <th>1</th>\n",
       "      <td>0</td>\n",
       "      <td>0</td>\n",
       "      <td>1</td>\n",
       "      <td>0</td>\n",
       "    </tr>\n",
       "    <tr>\n",
       "      <th>2</th>\n",
       "      <td>0</td>\n",
       "      <td>1</td>\n",
       "      <td>0</td>\n",
       "      <td>0</td>\n",
       "    </tr>\n",
       "    <tr>\n",
       "      <th>3</th>\n",
       "      <td>0</td>\n",
       "      <td>1</td>\n",
       "      <td>1</td>\n",
       "      <td>0</td>\n",
       "    </tr>\n",
       "    <tr>\n",
       "      <th>4</th>\n",
       "      <td>1</td>\n",
       "      <td>0</td>\n",
       "      <td>0</td>\n",
       "      <td>0</td>\n",
       "    </tr>\n",
       "    <tr>\n",
       "      <th>5</th>\n",
       "      <td>1</td>\n",
       "      <td>0</td>\n",
       "      <td>1</td>\n",
       "      <td>0</td>\n",
       "    </tr>\n",
       "    <tr>\n",
       "      <th>6</th>\n",
       "      <td>1</td>\n",
       "      <td>1</td>\n",
       "      <td>0</td>\n",
       "      <td>0</td>\n",
       "    </tr>\n",
       "    <tr>\n",
       "      <th>7</th>\n",
       "      <td>1</td>\n",
       "      <td>1</td>\n",
       "      <td>1</td>\n",
       "      <td>1</td>\n",
       "    </tr>\n",
       "  </tbody>\n",
       "</table>\n",
       "</div>"
      ],
      "text/plain": [
       "   cin  X1  X2  S\n",
       "0    0   0   0  0\n",
       "1    0   0   1  0\n",
       "2    0   1   0  0\n",
       "3    0   1   1  0\n",
       "4    1   0   0  0\n",
       "5    1   0   1  0\n",
       "6    1   1   0  0\n",
       "7    1   1   1  1"
      ]
     },
     "execution_count": 3,
     "metadata": {},
     "output_type": "execute_result"
    }
   ],
   "source": [
    "adder = pd.DataFrame(product([0, 1], [0, 1], [0, 1]), columns=['cin', 'X1', 'X2'])\n",
    "#adder['S'] = [0, 1, 1, 0, 1, 0, 0, 1]\n",
    "#adder['cout'] = [0, 0, 0, 1, 0, 1, 1, 1]\n",
    "adder['S'] = [0, 0, 0, 0, 0, 0, 0, 1]\n",
    "adder"
   ]
  },
  {
   "cell_type": "code",
   "execution_count": 9,
   "id": "e54f37b3",
   "metadata": {},
   "outputs": [],
   "source": [
    "limit = [[0.0, 0.2], [0.8, 1.0]]"
   ]
  },
  {
   "cell_type": "code",
   "execution_count": 19,
   "id": "5d7cf580",
   "metadata": {},
   "outputs": [],
   "source": [
    "limit = [[0.1, 0.05], [0.9, 0.05]]"
   ]
  },
  {
   "cell_type": "code",
   "execution_count": 20,
   "id": "4ba7bb91",
   "metadata": {},
   "outputs": [
    {
     "data": {
      "text/html": [
       "<div>\n",
       "<style scoped>\n",
       "    .dataframe tbody tr th:only-of-type {\n",
       "        vertical-align: middle;\n",
       "    }\n",
       "\n",
       "    .dataframe tbody tr th {\n",
       "        vertical-align: top;\n",
       "    }\n",
       "\n",
       "    .dataframe thead th {\n",
       "        text-align: right;\n",
       "    }\n",
       "</style>\n",
       "<table border=\"1\" class=\"dataframe\">\n",
       "  <thead>\n",
       "    <tr style=\"text-align: right;\">\n",
       "      <th></th>\n",
       "      <th>cin</th>\n",
       "      <th>X1</th>\n",
       "      <th>X2</th>\n",
       "      <th>S</th>\n",
       "    </tr>\n",
       "  </thead>\n",
       "  <tbody>\n",
       "    <tr>\n",
       "      <th>0</th>\n",
       "      <td>0.086152</td>\n",
       "      <td>0.128389</td>\n",
       "      <td>0.075257</td>\n",
       "      <td>0.058929</td>\n",
       "    </tr>\n",
       "    <tr>\n",
       "      <th>1</th>\n",
       "      <td>0.095020</td>\n",
       "      <td>0.126475</td>\n",
       "      <td>0.940072</td>\n",
       "      <td>0.104557</td>\n",
       "    </tr>\n",
       "    <tr>\n",
       "      <th>2</th>\n",
       "      <td>0.101836</td>\n",
       "      <td>0.883936</td>\n",
       "      <td>0.101151</td>\n",
       "      <td>0.109729</td>\n",
       "    </tr>\n",
       "    <tr>\n",
       "      <th>3</th>\n",
       "      <td>0.091494</td>\n",
       "      <td>0.956312</td>\n",
       "      <td>0.979634</td>\n",
       "      <td>0.056462</td>\n",
       "    </tr>\n",
       "    <tr>\n",
       "      <th>4</th>\n",
       "      <td>0.900500</td>\n",
       "      <td>0.090859</td>\n",
       "      <td>0.136872</td>\n",
       "      <td>0.092072</td>\n",
       "    </tr>\n",
       "    <tr>\n",
       "      <th>...</th>\n",
       "      <td>...</td>\n",
       "      <td>...</td>\n",
       "      <td>...</td>\n",
       "      <td>...</td>\n",
       "    </tr>\n",
       "    <tr>\n",
       "      <th>79995</th>\n",
       "      <td>0.168471</td>\n",
       "      <td>0.904538</td>\n",
       "      <td>0.931893</td>\n",
       "      <td>0.131077</td>\n",
       "    </tr>\n",
       "    <tr>\n",
       "      <th>79996</th>\n",
       "      <td>0.972029</td>\n",
       "      <td>0.153607</td>\n",
       "      <td>0.082576</td>\n",
       "      <td>0.049062</td>\n",
       "    </tr>\n",
       "    <tr>\n",
       "      <th>79997</th>\n",
       "      <td>0.860044</td>\n",
       "      <td>0.084402</td>\n",
       "      <td>0.941752</td>\n",
       "      <td>0.207385</td>\n",
       "    </tr>\n",
       "    <tr>\n",
       "      <th>79998</th>\n",
       "      <td>0.903877</td>\n",
       "      <td>0.930557</td>\n",
       "      <td>0.109219</td>\n",
       "      <td>0.055992</td>\n",
       "    </tr>\n",
       "    <tr>\n",
       "      <th>79999</th>\n",
       "      <td>0.908408</td>\n",
       "      <td>0.992733</td>\n",
       "      <td>0.845267</td>\n",
       "      <td>0.844943</td>\n",
       "    </tr>\n",
       "  </tbody>\n",
       "</table>\n",
       "<p>80000 rows × 4 columns</p>\n",
       "</div>"
      ],
      "text/plain": [
       "            cin        X1        X2         S\n",
       "0      0.086152  0.128389  0.075257  0.058929\n",
       "1      0.095020  0.126475  0.940072  0.104557\n",
       "2      0.101836  0.883936  0.101151  0.109729\n",
       "3      0.091494  0.956312  0.979634  0.056462\n",
       "4      0.900500  0.090859  0.136872  0.092072\n",
       "...         ...       ...       ...       ...\n",
       "79995  0.168471  0.904538  0.931893  0.131077\n",
       "79996  0.972029  0.153607  0.082576  0.049062\n",
       "79997  0.860044  0.084402  0.941752  0.207385\n",
       "79998  0.903877  0.930557  0.109219  0.055992\n",
       "79999  0.908408  0.992733  0.845267  0.844943\n",
       "\n",
       "[80000 rows x 4 columns]"
      ]
     },
     "execution_count": 20,
     "metadata": {},
     "output_type": "execute_result"
    }
   ],
   "source": [
    "dataset = []\n",
    "for i in range(10000):\n",
    "    for x, j in adder.iterrows():\n",
    "        num = j.tolist()\n",
    "        #dataset.append([np.random.uniform(*limit[i]) for i in num])\n",
    "        dataset.append([np.random.normal(*limit[i]) for i in num])\n",
    "df = pd.DataFrame(dataset, columns=adder.columns)\n",
    "df"
   ]
  },
  {
   "cell_type": "code",
   "execution_count": 21,
   "id": "2b524ff7",
   "metadata": {},
   "outputs": [],
   "source": [
    "X = df[['cin', 'X1', 'X2']]\n",
    "y = df['S']\n",
    "X_train, X_test, y_train, y_test = train_test_split(X, y, test_size=0.2)"
   ]
  },
  {
   "cell_type": "code",
   "execution_count": 22,
   "id": "0a8b520a",
   "metadata": {},
   "outputs": [
    {
     "data": {
      "text/plain": [
       "0.8968567142370483"
      ]
     },
     "execution_count": 22,
     "metadata": {},
     "output_type": "execute_result"
    }
   ],
   "source": [
    "model = MLPRegressor(hidden_layer_sizes=(1,), activation='logistic')\n",
    "model.fit(X_train, y_train)\n",
    "y_pred = model.predict(X_test)\n",
    "r2_score(y_test, y_pred)"
   ]
  },
  {
   "cell_type": "code",
   "execution_count": 24,
   "id": "1382b3aa",
   "metadata": {},
   "outputs": [
    {
     "data": {
      "image/png": "[encoded data removed]",
      "text/plain": [
       "<Figure size 640x480 with 1 Axes>"
      ]
     },
     "metadata": {},
     "output_type": "display_data"
    }
   ],
   "source": [
    "sns.regplot(y_test, y_pred)\n",
    "plt.show()"
   ]
  },
  {
   "cell_type": "code",
   "execution_count": 25,
   "id": "86079676",
   "metadata": {},
   "outputs": [
    {
     "data": {
      "text/plain": [
       "[array([[-3.09014095],\n",
       "        [-3.08828899],\n",
       "        [-3.0968227 ]]),\n",
       " array([[-1.9164648]])]"
      ]
     },
     "execution_count": 25,
     "metadata": {},
     "output_type": "execute_result"
    }
   ],
   "source": [
    "model.coefs_"
   ]
  },
  {
   "cell_type": "code",
   "execution_count": null,
   "id": "1092f8ea",
   "metadata": {},
   "outputs": [],
   "source": []
  }
 ],
 "metadata": {
  "kernelspec": {
   "display_name": "Python 3 (ipykernel)",
   "language": "python",
   "name": "python3"
  },
  "language_info": {
   "codemirror_mode": {
    "name": "ipython",
    "version": 3
   },
   "file_extension": ".py",
   "mimetype": "text/x-python",
   "name": "python",
   "nbconvert_exporter": "python",
   "pygments_lexer": "ipython3",
   "version": "3.9.12"
  }
 },
 "nbformat": 4,
 "nbformat_minor": 5
}
