{
 "cells": [
  {
   "cell_type": "code",
   "execution_count": 1,
   "id": "subtle-portable",
   "metadata": {},
   "outputs": [],
   "source": [
    "import numpy as np\n",
    "import pandas as pd\n",
    "%matplotlib inline\n",
    "import matplotlib.pyplot as plt\n",
    "import seaborn as sns\n",
    "\n",
    "#point-based estimate\n",
    "from scipy.optimize import curve_fit\n",
    "from scipy.integrate import odeint\n",
    "\n",
    "#interval-based estimate\n",
    "import pystan\n",
    "import arviz as az\n",
    "\n",
    "#animation\n",
    "from matplotlib.animation import FuncAnimation, FFMpegWriter\n",
    "from IPython import display\n",
    "plt.rcParams['animation.ffmpeg_path'] = 'utils/ffmpeg'"
   ]
  },
  {
   "cell_type": "code",
   "execution_count": null,
   "id": "coastal-pressing",
   "metadata": {},
   "outputs": [],
   "source": [
    "#point-based estimated best\n",
    "hill_params = {\n",
    "    'e11x32STPhoRadA': [8.19215086e+00, 2.77324618e+00, 6.00000000e+00, 1.24643956e+00, 5.95605924e+00, 3.46957143e-09, 2.99296531e+02, 5.36128135e+02],\n",
    "    'e15x32NpuSspS2': [9.8458614, 8.7957319, 2.89598247, 1., 36.84876916, 30.33289918, 156.72063863, 156.06142356],\n",
    "    'e16x33NrdA2': [10.13165313, 6.30849837, 5.02963422, 1.26435637, 15.99371476, 6.8959355, 380.68087314, 387.7069378],\n",
    "    'e20x32gp411': [12.53828935, 1., 2.78451886, 1.49241488, 8.39069666, 27.77880598, 314.77726787, 311.65818168],\n",
    "    'e32x30SspGyrB': [10.77387795, 8.56616674, 3.12574014, 1.07032582, 15.2982435, 11.91592347, 342.96437349, 343.5314864],\n",
    "    'e34x30MjaKlbA': [8.42632247, 13.40974257, 3.28555513, 1.81757507, 3.4673668, 20.82148359, 307.13693296, 290.48137472],\n",
    "    'e38x32gp418': [7.61231223, 1.51099399, 5.04169259, 1.4068252, 26.05989294, 20.59322098, 218.62810381, 218.64413488],\n",
    "    'e41x32NrdJ1': [9.59574651, 12.05238497, 3.84271899, 1., 21.72980962, 19.19063999, 277.09322359, 275.39980816],\n",
    "    'e42x32STIMPDH1': [10.41225458, 5.87647366, 4.30770405, 1.01184319, 22.82771137, 18.70845616, 228.18083668, 227.98611955]\n",
    "}"
   ]
  },
  {
   "cell_type": "markdown",
   "id": "straight-metro",
   "metadata": {},
   "source": [
    "#### OD data"
   ]
  },
  {
   "cell_type": "code",
   "execution_count": null,
   "id": "covered-burner",
   "metadata": {},
   "outputs": [],
   "source": [
    "ods = pd.read_csv('datasets/marionette_od.csv', index_col='time')\n",
    "all_gates = list(set([i[:-3] for i in ods.columns.tolist()]))\n",
    "gates = [g for g in all_gates if g not in ['blank', 'positive_control', 'negative_control']]"
   ]
  },
  {
   "cell_type": "markdown",
   "id": "exclusive-mineral",
   "metadata": {},
   "source": [
    "Read od parameters."
   ]
  },
  {
   "cell_type": "code",
   "execution_count": null,
   "id": "piano-veteran",
   "metadata": {},
   "outputs": [],
   "source": [
    "od_params = {}\n",
    "for gate in gates:\n",
    "    od_params[gate] = pd.read_csv('datasets/stan_ods/' + gate + '.csv')['mean'][[0, 1, 3]].tolist()\n",
    "od_params"
   ]
  },
  {
   "cell_type": "code",
   "execution_count": null,
   "id": "prepared-garbage",
   "metadata": {},
   "outputs": [],
   "source": [
    "def growth_rate(OD, r, c):\n",
    "    return (r * (1 - (OD/c)))\n",
    "\n",
    "def od_inference(t, r, c, y0):\n",
    "\n",
    "    def od_model(OD, t, r, c):\n",
    "        dOD = growth_rate(OD[0], r, c) * OD[0]\n",
    "        return dOD\n",
    "    \n",
    "    solution = odeint(od_model, y0, t, (r, c))\n",
    "    return np.array(solution.T[0])"
   ]
  },
  {
   "cell_type": "code",
   "execution_count": null,
   "id": "selective-industry",
   "metadata": {},
   "outputs": [],
   "source": [
    "gate = 'e42x32STIMPDH1'\n",
    "od = ods.loc[:, ods.columns.str.startswith(gate)].iloc[:,3]\n",
    "plt.plot(ods.index/60, od_inference(ods.index, *sampled), label='predicted', c='purple', linewidth=2.5)\n",
    "plt.scatter(ods.index/60, od, label='real', s=10, c='gray')\n",
    "sns.despine()"
   ]
  },
  {
   "cell_type": "code",
   "execution_count": null,
   "id": "heated-neighbor",
   "metadata": {},
   "outputs": [],
   "source": [
    "f, axs = plt.subplots(2, 5, sharex=False, sharey=False, figsize=(12, 4))\n",
    "axr = axs.ravel()\n",
    "for i, ax in enumerate(axr):\n",
    "    if i<len(gates):\n",
    "        od = ods.loc[:, ods.columns.str.startswith(gates[i])].iloc[:,3]\n",
    "        ax.plot(ods.index/60, od_inference(ods.index, *od_params[gates[i]]), label='predicted', c='purple', linewidth=2.5)\n",
    "        ax.scatter(ods.index/60, od, label='real', s=10, c='gray')\n",
    "        ax.set_title(gates[i])\n",
    "    else:\n",
    "        ax.set_visible(False)\n",
    "plt.tight_layout()\n",
    "sns.despine()"
   ]
  },
  {
   "cell_type": "markdown",
   "id": "filled-criminal",
   "metadata": {},
   "source": [
    "Fluorescence data."
   ]
  },
  {
   "cell_type": "code",
   "execution_count": 2,
   "id": "spectacular-calculation",
   "metadata": {},
   "outputs": [],
   "source": [
    "def plot_trace(param, param2, param_name='parameter'):\n",
    "    \"\"\"Plot the trace and posterior of a parameter.\"\"\"\n",
    "    \n",
    "    plt.figure(figsize=(10, 6))\n",
    "\n",
    "    # Summary statistics\n",
    "    mean = np.mean(param)\n",
    "    median = np.median(param)\n",
    "    cred_min, cred_max = np.percentile(param, 2.5), np.percentile(param, 97.5)\n",
    "    \n",
    "    mean2 = np.mean(param2)\n",
    "    median2 = np.median(param2)\n",
    "    cred_min2, cred_max2 = np.percentile(param2, 2.5), np.percentile(param2, 97.5)\n",
    "\n",
    "    # Plotting\n",
    "    plt.subplot(2,2,1)\n",
    "    plt.plot(param)\n",
    "    plt.xlabel('samples')\n",
    "    plt.ylabel(param_name)\n",
    "    plt.axhline(mean, color='r', lw=2, linestyle='--')\n",
    "    plt.axhline(median, color='c', lw=2, linestyle='--')\n",
    "    plt.axhline(cred_min, linestyle=':', color='k', alpha=0.2)\n",
    "    plt.axhline(cred_max, linestyle=':', color='k', alpha=0.2)\n",
    "    #plt.title('Trace and Posterior Distribution for {}'.format(param_name))\n",
    "\n",
    "    plt.subplot(2,2,2)\n",
    "    plt.hist(param, 30, density=True); sns.kdeplot(param, shade=True)\n",
    "    plt.xlabel(param_name)\n",
    "    plt.ylabel('density')\n",
    "    plt.axvline(mean, color='r', lw=2, linestyle='--',label='mean')\n",
    "    plt.axvline(median, color='c', lw=2, linestyle='--',label='median')\n",
    "    plt.axvline(cred_min, linestyle=':', color='k', alpha=0.2, label='95% CI')\n",
    "    plt.axvline(cred_max, linestyle=':', color='k', alpha=0.2)\n",
    "\n",
    "    # Plotting\n",
    "    plt.subplot(2,2,3)\n",
    "    plt.plot(param2)\n",
    "    plt.xlabel('samples')\n",
    "    plt.ylabel(param_name)\n",
    "    plt.axhline(mean2, color='r', lw=2, linestyle='--')\n",
    "    plt.axhline(median2, color='c', lw=2, linestyle='--')\n",
    "    plt.axhline(cred_min2, linestyle=':', color='k', alpha=0.2)\n",
    "    plt.axhline(cred_max2, linestyle=':', color='k', alpha=0.2)\n",
    "    #plt.title('Trace and Posterior Distribution for {}'.format(param_name))\n",
    "\n",
    "    plt.subplot(2,2,4)\n",
    "    plt.hist(param2, 30, density=True); sns.kdeplot(param2, shade=True)\n",
    "    plt.xlabel(param_name)\n",
    "    plt.ylabel('density')\n",
    "    plt.axvline(mean2, color='r', lw=2, linestyle='--',label='mean')\n",
    "    plt.axvline(median2, color='c', lw=2, linestyle='--',label='median')\n",
    "    plt.axvline(cred_min2, linestyle=':', color='k', alpha=0.2, label='95% CI')\n",
    "    plt.axvline(cred_max2, linestyle=':', color='k', alpha=0.2)\n",
    "    \n",
    "    plt.suptitle(param_name)\n",
    "\n",
    "    plt.tight_layout()\n",
    "    plt.legend()\n",
    "    plt.show()"
   ]
  },
  {
   "cell_type": "markdown",
   "id": "pointed-moisture",
   "metadata": {},
   "source": [
    "### Hill Function"
   ]
  },
  {
   "cell_type": "code",
   "execution_count": null,
   "id": "periodic-ebony",
   "metadata": {},
   "outputs": [],
   "source": [
    "loaded = az.from_netcdf('datasets/stan_hills/PyStan3-Hill-e42x32STIMPDH1-new-001.nc')\n",
    "#az.plot_trace(loaded, figsize=(6, 4))\n",
    "#sns.despine()"
   ]
  },
  {
   "cell_type": "code",
   "execution_count": null,
   "id": "inappropriate-mambo",
   "metadata": {},
   "outputs": [],
   "source": [
    "az.plot_trace(loaded, figsize=(6, 4))\n",
    "sns.despine()"
   ]
  },
  {
   "cell_type": "code",
   "execution_count": null,
   "id": "sealed-microwave",
   "metadata": {},
   "outputs": [],
   "source": [
    "plot_trace(np.array(loaded['posterior']['sigma'][8]), np.array(loaded['posterior']['sigma'][9]), 'sigma')"
   ]
  },
  {
   "cell_type": "code",
   "execution_count": null,
   "id": "referenced-cocktail",
   "metadata": {},
   "outputs": [],
   "source": [
    "num_params = np.array(loaded['posterior']['theta']).shape[2]\n",
    "thetas= []\n",
    "for i in range(num_params):\n",
    "    thetas.append(np.array(loaded['posterior']['theta'])[:,:,i])"
   ]
  },
  {
   "cell_type": "code",
   "execution_count": null,
   "id": "motivated-moisture",
   "metadata": {},
   "outputs": [],
   "source": [
    "plot_trace(thetas[7][6], thetas[7][7], 'theta0')"
   ]
  },
  {
   "cell_type": "markdown",
   "id": "black-immunology",
   "metadata": {},
   "source": [
    "#### Simple Model"
   ]
  },
  {
   "cell_type": "code",
   "execution_count": 3,
   "id": "prepared-poland",
   "metadata": {},
   "outputs": [],
   "source": [
    "loaded = az.from_netcdf('datasets/alternative/PyStan3-Alternative-e41x32NrdJ1-003.nc')\n",
    "#az.plot_trace(loaded, figsize=(6, 4))\n",
    "#sns.despine()"
   ]
  },
  {
   "cell_type": "code",
   "execution_count": null,
   "id": "consecutive-steps",
   "metadata": {},
   "outputs": [],
   "source": [
    "az.plot_trace(loaded, figsize=(6, 4))\n",
    "sns.despine()"
   ]
  },
  {
   "cell_type": "code",
   "execution_count": 4,
   "id": "excellent-meeting",
   "metadata": {},
   "outputs": [],
   "source": [
    "num_params = np.array(loaded['posterior']['theta']).shape[2]\n",
    "thetas= []\n",
    "for i in range(num_params):\n",
    "    thetas.append(np.array(loaded['posterior']['theta'])[:,:,i])"
   ]
  },
  {
   "cell_type": "code",
   "execution_count": null,
   "id": "focal-stage",
   "metadata": {},
   "outputs": [],
   "source": [
    "plot_trace(np.array(loaded['posterior']['y0'][0]), np.array(loaded['posterior']['y0'][1]), 'y0')"
   ]
  },
  {
   "cell_type": "code",
   "execution_count": 7,
   "id": "brave-hollow",
   "metadata": {},
   "outputs": [
    {
     "data": {
      "image/png": "[encoded data removed]",
      "text/plain": [
       "<Figure size 720x432 with 4 Axes>"
      ]
     },
     "metadata": {
      "needs_background": "light"
     },
     "output_type": "display_data"
    }
   ],
   "source": [
    "plot_trace(thetas[0][8], thetas[0][9], 'theta0')"
   ]
  },
  {
   "cell_type": "code",
   "execution_count": null,
   "id": "modular-basics",
   "metadata": {},
   "outputs": [],
   "source": [
    "plot_trace(thetas[0][2], thetas[0][3], 'theta0')"
   ]
  },
  {
   "cell_type": "code",
   "execution_count": null,
   "id": "overhead-ceiling",
   "metadata": {},
   "outputs": [],
   "source": [
    "plot_trace(thetas[0][4], thetas[0][5], 'theta0')"
   ]
  },
  {
   "cell_type": "code",
   "execution_count": null,
   "id": "deluxe-independence",
   "metadata": {},
   "outputs": [],
   "source": [
    "plot_trace(thetas[0][6], thetas[0][7], 'theta0')"
   ]
  },
  {
   "cell_type": "code",
   "execution_count": null,
   "id": "incoming-advocate",
   "metadata": {},
   "outputs": [],
   "source": [
    "plot_trace(thetas[1][8], thetas[1][9], 'theta0')"
   ]
  },
  {
   "cell_type": "code",
   "execution_count": null,
   "id": "architectural-albert",
   "metadata": {},
   "outputs": [],
   "source": []
  },
  {
   "cell_type": "code",
   "execution_count": null,
   "id": "spoken-charger",
   "metadata": {},
   "outputs": [],
   "source": []
  },
  {
   "cell_type": "code",
   "execution_count": null,
   "id": "seasonal-bankruptcy",
   "metadata": {},
   "outputs": [],
   "source": []
  },
  {
   "cell_type": "code",
   "execution_count": null,
   "id": "major-tsunami",
   "metadata": {},
   "outputs": [],
   "source": [
    "f_params = [thetas[m][1][100] for m in range(len(thetas))]"
   ]
  },
  {
   "cell_type": "code",
   "execution_count": null,
   "id": "absolute-television",
   "metadata": {},
   "outputs": [],
   "source": [
    "f_params"
   ]
  },
  {
   "cell_type": "code",
   "execution_count": null,
   "id": "incoming-philippines",
   "metadata": {},
   "outputs": [],
   "source": [
    "od_params = {\n",
    "    'e16x33NrdA2': [0.0148194554039306, 1.2408917618889663, 0.0251889022569271],\n",
    "    'e42x32STIMPDH1': [0.013165608798406, 1.278935730092542, 0.0216016431163906],\n",
    "    'e32x30SspGyrB': [0.0159760283755244, 1.150249628464946, 0.0196547733645749],\n",
    "    'e11x32STPhoRadA': [0.0070462352099844, 1.1229375761211622, 0.0973103761235306],\n",
    "    'e34x30MjaKlbA': [0.0139910399333654, 1.147632550566836, 0.0235340568336425],\n",
    "    'e41x32NrdJ1': [0.0136188162357974, 1.2375665371324622, 0.0300644005159601],\n",
    "    'e20x32gp411': [0.0155212086766198, 1.2780552798586051, 0.0193773015388865],\n",
    "    'e38x32gp418': [0.0155869734557929, 1.2060333912302554, 0.0247131234412902],\n",
    "    'e15x32NpuSspS2': [0.0158706098949703, 1.1961969417584624, 0.0235672266874314]\n",
    "}"
   ]
  },
  {
   "cell_type": "code",
   "execution_count": null,
   "id": "medieval-proceeding",
   "metadata": {},
   "outputs": [],
   "source": [
    "params = {'bn': [1e-1, 0, 1e1],\n",
    "    'bc': [1e-1, 0, 1e1],\n",
    "    'bg': [1e-2, 0, 1e1],\n",
    "    'syn_ECFn': [4e0, 0, 1e2],\n",
    "    'syn_ECFc': [4e0, 0, 1e2],\n",
    "    'syn_ECF': [50e-10, 0, 1e-4],\n",
    "    'deg': [7e-3, 0, 1e-1],\n",
    "    'syn_GFP': [1e4, 0, 1e5],\n",
    "    'deg_GFP': [1e-2, 0, 1e0],\n",
    "    # 'a': [1e-2, 0, 1e1],\n",
    "    'K': [1e-1, 0, 1e2],\n",
    "    'n': [2e0, 0, 4],\n",
    "    'alpha': [1e0, 0, 1],\n",
    "    'beta': [1e0, 0, 2],\n",
    "    'c0': [1e-2, 0, 0.1]}\n",
    "pars = list(params.keys())"
   ]
  },
  {
   "cell_type": "code",
   "execution_count": null,
   "id": "quiet-lying",
   "metadata": {},
   "outputs": [],
   "source": [
    "#static model\n",
    "def hill_equation(x, K, n):\n",
    "    return x**n / (K**n + x**n)\n",
    "\n",
    "def growth_rate(t, OD, alpha, beta):\n",
    "    return (alpha * (1 - (OD/beta)))\n",
    "\n",
    "#growth curve\n",
    "def od_wrapper(t, r, c, c0):\n",
    "\n",
    "    def od_model(OD, t, r, c):\n",
    "        dOD = growth_rate(t, OD[0], r, c) * OD[0]\n",
    "        return dOD\n",
    "    \n",
    "    od_sol = odeint(od_model, c0, t, (r, c))\n",
    "    return np.array(od_sol[:,0])\n",
    "\n",
    "#model with auto-fluorescence term\n",
    "def gate_wrapper_complete(t, bn, bc, bg, syn_ECFn, syn_ECFc, syn_ECF, deg, syn_GFP, deg_GFP, a, K, n, ind1, ind2, extra, y0):\n",
    "    \n",
    "    #fixed parameters\n",
    "    alpha, beta = extra\n",
    "\n",
    "    def gate_model(y, t):\n",
    "        \n",
    "        #dependent variables\n",
    "        ECFn, ECFc, ECF, GFP, Auto, OD = y\n",
    "        \n",
    "        gamma = growth_rate(t, OD, alpha, beta)\n",
    "        #differential equations\n",
    "        dOD = gamma * OD\n",
    "        dECFn = bn + syn_ECFn * ind1 - (deg + gamma) * ECFn\n",
    "        dECFc = bc + syn_ECFc * ind2 - (deg + gamma) * ECFc\n",
    "        dECF = syn_ECF * ECFn * ECFc - (deg + gamma) * ECF\n",
    "        \n",
    "        dGFP = bg + syn_GFP * hill_equation(ECF, K, n) - (deg_GFP + gamma) * GFP\n",
    "        dAuto = a - gamma * Auto\n",
    "\n",
    "        return [dECFn, dECFc, dECF, dGFP, dAuto, dOD]\n",
    "    \n",
    "    solution = odeint(gate_model, y0, t)\n",
    "    return solution.transpose()\n",
    "\n",
    "#model without auto-fluorescence term\n",
    "def gate_wrapper(t, bn, bc, bg, syn_ECFn, syn_ECFc, syn_ECF, deg, syn_GFP, deg_GFP, K, n, ind1, ind2, extra, y0):\n",
    "    \n",
    "    #fixed parameters\n",
    "    alpha, beta = extra\n",
    "\n",
    "    def gate_model(y, t):\n",
    "        \n",
    "        #dependent variables\n",
    "        ECFn, ECFc, ECF, GFP, OD = y\n",
    "        \n",
    "        gamma = growth_rate(t, OD, alpha, beta)\n",
    "        #differential equations\n",
    "        dOD = gamma * OD\n",
    "        dECFn = bn + syn_ECFn * ind1 - (deg + gamma) * ECFn\n",
    "        dECFc = bc + syn_ECFc * ind2 - (deg + gamma) * ECFc\n",
    "        dECF = syn_ECF * ECFn * ECFc - (deg + gamma) * ECF\n",
    "        \n",
    "        dGFP = bg + syn_GFP * hill_equation(ECF, K, n) - (deg_GFP + gamma) * GFP\n",
    "\n",
    "        return [dECFn, dECFc, dECF, dGFP, dOD]\n",
    "    \n",
    "    solution = odeint(gate_model, y0, t)\n",
    "    return solution.transpose()\n",
    "\n",
    "#model only auto-fluorescence term\n",
    "def gate_wrapper_auto(t, a, ind1, ind2, extra, y0):\n",
    "    \n",
    "    #fixed parameters\n",
    "    alpha, beta = extra\n",
    "\n",
    "    def gate_model(y, t):\n",
    "        \n",
    "        #dependent variables\n",
    "        Auto, OD = y\n",
    "        gamma = growth_rate(t, OD, alpha, beta)\n",
    "        #differential equations\n",
    "        dOD = gamma * OD\n",
    "        dAuto = a - gamma * Auto\n",
    "        return [dAuto, dOD]\n",
    "    \n",
    "    solution = odeint(gate_model, y0, t)\n",
    "    return solution.transpose()\n",
    "\n",
    "def gate_wrapper_gfp(t, syn_GFP, deg_GFP, extra, y0):\n",
    "    \n",
    "    def gate_model(y, t):\n",
    "        \n",
    "        GFP, OD = y\n",
    "        alpha, beta = extra\n",
    "        \n",
    "        gamma = growth_rate(t, OD, alpha, beta)\n",
    "        dOD = gamma * OD\n",
    "        dGFP = syn_GFP - (deg_GFP + gamma) * GFP\n",
    "\n",
    "        return [dGFP, dOD]\n",
    "    \n",
    "    solution = odeint(gate_model, y0, t)\n",
    "    return solution.transpose()"
   ]
  },
  {
   "cell_type": "code",
   "execution_count": null,
   "id": "native-actor",
   "metadata": {},
   "outputs": [],
   "source": [
    "gate = 'e42x32STIMPDH1'\n",
    "print(gate)\n",
    "fluo = fluos.loc[:, fluos.columns.str.startswith(gate)].iloc[:,3]"
   ]
  },
  {
   "cell_type": "code",
   "execution_count": null,
   "id": "fifth-baseline",
   "metadata": {},
   "outputs": [],
   "source": [
    "def fit_single_state(fluo, f_params, od_params, ind1, ind2):\n",
    "    \n",
    "    num_od_params = 3\n",
    "    num_vars = 4\n",
    "    \n",
    "    def model_fit(t, a, b, c, d, e, f, g, h, i, j, k):\n",
    "        fit = gate_wrapper(t, a, b, c, d, e, f, g, h, i, j, k, ind1, ind2, (od_params[0], od_params[1]), pd.Series(np.append(np.zeros(num_vars), od_params[2])))\n",
    "        return pd.Series(fit[3])\n",
    "    \n",
    "    f_sim = model_fit(fluo.index, *f_params)\n",
    "    \n",
    "    return f_sim, fluo.index, fluo\n",
    "\n",
    "a, b, c = fit_single_state(fluo, f_params, od_params[gate], 1, 1)"
   ]
  },
  {
   "cell_type": "code",
   "execution_count": null,
   "id": "occupational-worthy",
   "metadata": {},
   "outputs": [],
   "source": [
    "tests = []\n",
    "for k in range(100):\n",
    "    f_params = [thetas[m][1][k] for m in range(len(thetas))]\n",
    "    a, b, c = fit_single_state(fluo, f_params, od_params[gate], 1, 1)\n",
    "    plt.plot(b/60, a, color='darkred')\n",
    "#plt.plot(b/60, c, color='gray')\n",
    "plt.title(gate)\n",
    "sns.despine()"
   ]
  },
  {
   "cell_type": "code",
   "execution_count": null,
   "id": "emerging-professor",
   "metadata": {},
   "outputs": [],
   "source": [
    "plt.plot(b/60, a, color='darkred')\n",
    "plt.scatter(b/60, c, color='gray', s=10)\n",
    "plt.title(gate)\n",
    "sns.despine()"
   ]
  },
  {
   "cell_type": "code",
   "execution_count": null,
   "id": "meaning-neighbor",
   "metadata": {},
   "outputs": [],
   "source": []
  },
  {
   "cell_type": "code",
   "execution_count": null,
   "id": "another-calculator",
   "metadata": {},
   "outputs": [],
   "source": [
    "m = 8\n",
    "plot_trace(thetas[m][0], thetas[m][1], pars[m])"
   ]
  },
  {
   "cell_type": "code",
   "execution_count": null,
   "id": "psychological-scott",
   "metadata": {},
   "outputs": [],
   "source": []
  },
  {
   "cell_type": "code",
   "execution_count": null,
   "id": "industrial-contamination",
   "metadata": {},
   "outputs": [],
   "source": []
  },
  {
   "cell_type": "code",
   "execution_count": null,
   "id": "upset-freeze",
   "metadata": {},
   "outputs": [],
   "source": []
  },
  {
   "cell_type": "code",
   "execution_count": null,
   "id": "forward-safety",
   "metadata": {},
   "outputs": [],
   "source": []
  },
  {
   "cell_type": "code",
   "execution_count": null,
   "id": "hearing-girlfriend",
   "metadata": {},
   "outputs": [],
   "source": []
  },
  {
   "cell_type": "code",
   "execution_count": null,
   "id": "inclusive-asset",
   "metadata": {},
   "outputs": [],
   "source": []
  },
  {
   "cell_type": "code",
   "execution_count": null,
   "id": "chronic-gross",
   "metadata": {},
   "outputs": [],
   "source": []
  },
  {
   "cell_type": "code",
   "execution_count": null,
   "id": "incorporate-anchor",
   "metadata": {},
   "outputs": [],
   "source": []
  },
  {
   "cell_type": "code",
   "execution_count": null,
   "id": "concrete-rugby",
   "metadata": {},
   "outputs": [],
   "source": []
  },
  {
   "cell_type": "code",
   "execution_count": null,
   "id": "clinical-innocent",
   "metadata": {},
   "outputs": [],
   "source": []
  },
  {
   "cell_type": "code",
   "execution_count": null,
   "id": "unable-pipeline",
   "metadata": {},
   "outputs": [],
   "source": []
  },
  {
   "cell_type": "code",
   "execution_count": null,
   "id": "appropriate-person",
   "metadata": {},
   "outputs": [],
   "source": [
    "sns.pairplot(pd.DataFrame([t[0] for t in thetas]).T, corner=True)\n",
    "plt.show()"
   ]
  },
  {
   "cell_type": "code",
   "execution_count": null,
   "id": "flying-hampshire",
   "metadata": {},
   "outputs": [],
   "source": [
    "sns.pairplot(pd.DataFrame([t[1] for t in thetas]).T, corner=True)\n",
    "plt.show()"
   ]
  },
  {
   "cell_type": "code",
   "execution_count": null,
   "id": "happy-comparative",
   "metadata": {},
   "outputs": [],
   "source": []
  },
  {
   "cell_type": "code",
   "execution_count": null,
   "id": "dying-winter",
   "metadata": {},
   "outputs": [],
   "source": []
  },
  {
   "cell_type": "code",
   "execution_count": null,
   "id": "finite-malaysia",
   "metadata": {},
   "outputs": [],
   "source": [
    "loaded = az.from_netcdf('datasets/stan_hills/Pystan3-Hill-e42x32STIMPDH1.nc')"
   ]
  },
  {
   "cell_type": "code",
   "execution_count": null,
   "id": "clinical-heading",
   "metadata": {},
   "outputs": [],
   "source": [
    "num_params = np.array(loaded['posterior']['theta']).shape[2]\n",
    "thetas= []\n",
    "for i in range(num_params):\n",
    "    thetas.append(np.array(loaded['posterior']['theta'])[:,:,i])"
   ]
  },
  {
   "cell_type": "code",
   "execution_count": null,
   "id": "usual-subscriber",
   "metadata": {},
   "outputs": [],
   "source": [
    "num_params"
   ]
  },
  {
   "cell_type": "code",
   "execution_count": null,
   "id": "important-execution",
   "metadata": {},
   "outputs": [],
   "source": [
    "sns.pairplot(pd.DataFrame([t[1] for t in thetas]).T, corner=True)\n",
    "plt.show()"
   ]
  },
  {
   "cell_type": "code",
   "execution_count": null,
   "id": "metallic-monte",
   "metadata": {},
   "outputs": [],
   "source": [
    "sns.pairplot(pd.DataFrame([t[1] for t in thetas]).T, corner=True)\n",
    "plt.show()"
   ]
  },
  {
   "cell_type": "code",
   "execution_count": null,
   "id": "changing-mambo",
   "metadata": {},
   "outputs": [],
   "source": [
    "plot_trace(thetas[0][0], thetas[0][1], 'theta0')"
   ]
  },
  {
   "cell_type": "code",
   "execution_count": null,
   "id": "dense-horror",
   "metadata": {},
   "outputs": [],
   "source": [
    "plot_trace(thetas[1][0], thetas[1][1], 'theta1')"
   ]
  },
  {
   "cell_type": "code",
   "execution_count": null,
   "id": "opening-asthma",
   "metadata": {},
   "outputs": [],
   "source": [
    "plot_trace(thetas[2][0], thetas[2][1], 'theta1')"
   ]
  },
  {
   "cell_type": "code",
   "execution_count": null,
   "id": "southeast-influence",
   "metadata": {},
   "outputs": [],
   "source": [
    "plot_trace(thetas[3][0], thetas[3][1], 'theta1')"
   ]
  },
  {
   "cell_type": "code",
   "execution_count": null,
   "id": "incorporate-danger",
   "metadata": {},
   "outputs": [],
   "source": [
    "plot_trace(thetas[4][0], thetas[4][1], 'theta1')"
   ]
  },
  {
   "cell_type": "code",
   "execution_count": null,
   "id": "significant-christianity",
   "metadata": {},
   "outputs": [],
   "source": [
    "fluo_t[['cuma', 'ara', 1440]]"
   ]
  },
  {
   "cell_type": "code",
   "execution_count": null,
   "id": "educational-poster",
   "metadata": {
    "scrolled": true
   },
   "outputs": [],
   "source": [
    "fluo_t[1440].values"
   ]
  },
  {
   "cell_type": "code",
   "execution_count": null,
   "id": "abstract-republican",
   "metadata": {},
   "outputs": [],
   "source": [
    "fluo_pvt.values.ravel()"
   ]
  },
  {
   "cell_type": "markdown",
   "id": "complex-jacob",
   "metadata": {},
   "source": [
    "#### Alternative Kinetics Modeling"
   ]
  },
  {
   "cell_type": "code",
   "execution_count": null,
   "id": "revolutionary-bumper",
   "metadata": {},
   "outputs": [],
   "source": [
    "fluos = pd.read_csv('datasets/induction_matrix/induction_fluo.csv', index_col='time')\n",
    "gates = ['e11x32STPhoRadA', 'e15x32NpuSspS2', 'e16x33NrdA2', 'e20x32gp411', 'e32x30SspGyrB',\n",
    "         'e34x30MjaKlbA', 'e38x32gp418', 'e41x32NrdJ1', 'e42x32STIMPDH1']\n",
    "cuma_list = [0, 6.25, 12.5, 25, 50, 100]\n",
    "ara_list = [0, 0.8125, 3.25, 13, 52, 208]\n",
    "\n",
    "gate = 'e42x32STIMPDH1'\n",
    "at_m = 1440\n",
    "\n",
    "fluo = fluos[filter(lambda x: x.startswith(gate), fluos.columns)]\n",
    "fluo_t = fluo.transpose().reset_index().rename(columns={'index': 'gate'})\n",
    "fluo_t['cuma'] = fluo_t['gate'].str[-2]\n",
    "fluo_t['ara'] = fluo_t['gate'].str[-1]\n",
    "#fluo_pvt = fluo_t.drop('gate', axis=1).pivot('cuma', 'ara', at_m)"
   ]
  },
  {
   "cell_type": "code",
   "execution_count": null,
   "id": "registered-large",
   "metadata": {},
   "outputs": [],
   "source": [
    "model = \"\"\"\n",
    "    functions {\n",
    "        real hill_activation(real x, real K, real n, real ymin, real ymax) {\n",
    "            real hill;\n",
    "            hill = ymin + (ymax - ymin) * (pow(x, n) / (pow(K, n) + pow(x, n)));\n",
    "            return hill;\n",
    "        }\n",
    "        real[] hill_activation_and(real[] x1, real[] x2, real[] theta, int T) {\n",
    "            \n",
    "            real K1 = theta[1];\n",
    "            real K2 = theta[2];\n",
    "            real n1 = theta[3];\n",
    "            real n2 = theta[4];\n",
    "            real ymin1 = theta[5];\n",
    "            real ymin2 = theta[6];\n",
    "            real ymax1 = theta[7];\n",
    "            real ymax2 = theta[8];\n",
    "            real hill[T];\n",
    "            for (t in 1:T) {\n",
    "                hill[t] = hill_activation(x1[t], K1, n1, ymin1, ymax1) + hill_activation(x2[t], K2, n2, ymin2, ymax2);\n",
    "            }\n",
    "            return hill;\n",
    "        }\n",
    "    }\n",
    "    data {\n",
    "        int<lower=1> T;\n",
    "        real x1[T];\n",
    "        real x2[T];\n",
    "        real y[T];\n",
    "        real ymin;\n",
    "        real ymax;\n",
    "    }\n",
    "    transformed data {\n",
    "        real h = ymax - ymin;\n",
    "    }\n",
    "    parameters {\n",
    "        real<lower=0> sigma;\n",
    "        real<lower=0> theta[8];\n",
    "    }\n",
    "    model {\n",
    "        real y_hat[T];\n",
    "        sigma ~ normal(0, 0.1);\n",
    "        theta[1] ~ uniform(1, 1e5);\n",
    "        theta[2] ~ uniform(1, 4);\n",
    "        theta[3] ~ uniform(0, ymin-0.5*h);\n",
    "        theta[4] ~ uniform(0, ymax+0.5*h);\n",
    "        theta[5] ~ uniform(1, 1e5);\n",
    "        theta[6] ~ uniform(1, 4);\n",
    "        theta[7] ~ uniform(0, ymin-0.5*h);\n",
    "        theta[8] ~ uniform(0, ymax+0.5*h);\n",
    "        y_hat = hill_activation_and(x1, x2, theta, T);\n",
    "        y ~ normal(y_hat, sigma);\n",
    "    }\n",
    "\"\"\"\n",
    "\n",
    "cuma_list = [0, 6.25, 12.5, 25, 50, 100]\n",
    "ara_list = [0, 0.8125, 3.25, 13, 52, 208]\n",
    "t = len(cuma_list) * len(ara_list)\n",
    "x1, x2 = np.meshgrid(cuma_list, ara_list)\n",
    "y = fluo_t[1440].values\n",
    "\n",
    "data = {\n",
    "    'T': t,\n",
    "    'x1': x1.ravel(),\n",
    "    'x2': x2.ravel(),\n",
    "    'y': y,\n",
    "    'ymin': y.min(),\n",
    "    'ymax': y.max()\n",
    "}\n",
    "\n",
    "# Compile the model\n",
    "sm = pystan.StanModel(model_code=model)\n",
    "# Train the model and generate samples\n",
    "fit = sm.sampling(data=data, iter=100, warmup=50, thin=1, chains=2, verbose=True)\n",
    "print(fit)"
   ]
  },
  {
   "cell_type": "code",
   "execution_count": null,
   "id": "worthy-blank",
   "metadata": {},
   "outputs": [],
   "source": [
    "y = fluo_t[1440].values\n",
    "h = y.max() - y.min()\n",
    "y.max(), y.min(), h"
   ]
  },
  {
   "cell_type": "markdown",
   "id": "directed-statement",
   "metadata": {},
   "source": [
    "#### Marionette Strains"
   ]
  },
  {
   "cell_type": "code",
   "execution_count": null,
   "id": "disabled-saying",
   "metadata": {},
   "outputs": [],
   "source": [
    "fluos = pd.read_csv('datasets/marionette_fluo.csv', index_col='time')\n",
    "ods = pd.read_csv('datasets/marionette_od.csv', index_col='time')\n",
    "all_gates = list(set([i[:-3] for i in fluos.columns.tolist()]))\n",
    "gates = [g for g in all_gates if g not in ['blank', 'positive_control', 'negative_control']]"
   ]
  },
  {
   "cell_type": "code",
   "execution_count": null,
   "id": "weird-thomas",
   "metadata": {},
   "outputs": [],
   "source": [
    "sel = 0\n",
    "gate = gates[sel]\n",
    "print(sel, gate)\n",
    "fluo_sel = fluos.loc[:, fluos.columns.str.startswith(gate)]\n",
    "od_sel = ods.loc[:, fluos.columns.str.startswith(gate)]\n",
    "fluo = fluo_sel.iloc[:,3]\n",
    "od = od_sel.iloc[:,3]"
   ]
  },
  {
   "cell_type": "markdown",
   "id": "blind-recruitment",
   "metadata": {},
   "source": [
    "Import OD parameters."
   ]
  },
  {
   "cell_type": "code",
   "execution_count": null,
   "id": "patent-december",
   "metadata": {},
   "outputs": [],
   "source": [
    "od_params = {\n",
    "    'e38x32gp418': [0.014832545686692651, 1.206999008636522, 0.05586756964448041],\n",
    "    'e20x32gp411': [0.014610032725458771, 1.2772684500977902, 0.04458182544478886],\n",
    "    'e11x32STPhoRadA': [0.007844653484011118, 1.1134153588014837, 0.10602396117757999],\n",
    "    'e34x30MjaKlbA': [0.013408372081617236, 1.14628949032757, 0.052259068950788926],\n",
    "    'e32x30SspGyrB': [0.015133693377991284, 1.151731463297364, 0.04901732064094526],\n",
    "    'e15x32NpuSspS2': [0.015778141196678447, 1.192983296185405, 0.049950021825183724],\n",
    "    'e16x33NrdA2': [0.014463894907212425, 1.2421974135452174, 0.055150036439220534],\n",
    "    'e41x32NrdJ1': [0.013145465488589058, 1.2385872370025641, 0.05941283831303974],\n",
    "    'e42x32STIMPDH1': [0.012125122999895207, 1.2815026045141547, 0.0524312129470823],\n",
    "}"
   ]
  },
  {
   "cell_type": "code",
   "execution_count": null,
   "id": "personalized-saturn",
   "metadata": {},
   "outputs": [],
   "source": [
    "model = \"\"\"\n",
    "    functions {\n",
    "        real[] logisticgrowth(real t,\n",
    "                      real[] y,\n",
    "                      real[] theta,\n",
    "                      real[] x_r,\n",
    "                      int[] x_i\n",
    "                      ) {\n",
    "            real dydt[x_i[1]];\n",
    "            for (i in 1:x_i[1]){\n",
    "                dydt[i] = theta[1] * y[i] * (1-y[i]/theta[2]);\n",
    "            }\n",
    "            return dydt;\n",
    "        }\n",
    "    }\n",
    "    data {\n",
    "        int<lower=1> T;\n",
    "        int<lower=1> n_wells;\n",
    "        real y0[n_wells];\n",
    "        real z[T, n_wells];\n",
    "        real t0;\n",
    "        real ts[T];\n",
    "    }\n",
    "    transformed data {\n",
    "        real x_r[0];\n",
    "        int x_i[1];\n",
    "        x_i[1] = n_wells;\n",
    "    }\n",
    "    parameters {\n",
    "        real<lower=0> theta[2];\n",
    "        real<lower=0> sigma;\n",
    "    }\n",
    "    model {\n",
    "        real y_hat[T, n_wells];\n",
    "        theta ~ cauchy(0,2.5);\n",
    "        sigma ~ normal(0,0.01);\n",
    "        y_hat = integrate_ode_rk45(logisticgrowth, y0, t0, ts, theta, x_r, x_i);\n",
    "        for (t in 1:T) {\n",
    "            for (i in 1:n_wells) {\n",
    "                z[t,i] ~ normal(y_hat[t,i], sigma);\n",
    "            }\n",
    "        }\n",
    "    }\n",
    "\"\"\"\n",
    "\n",
    "data = {\n",
    "    'T': len(od),\n",
    "    'n_wells': 1,\n",
    "    'y0': [0.02],\n",
    "    'z': od.values.reshape(-1, 1),\n",
    "    't0': -20,\n",
    "    'ts': od.index\n",
    "}\n",
    "\n",
    "# Compile the model\n",
    "sm = pystan.StanModel(model_code=model)\n",
    "\n",
    "# Train the model and generate samples\n",
    "fit = sm.sampling(data=data, iter=100, chains=2, n_jobs=1, verbose=True)\n",
    "print(fit)"
   ]
  },
  {
   "cell_type": "code",
   "execution_count": null,
   "id": "aware-diploma",
   "metadata": {},
   "outputs": [],
   "source": [
    "model = \"\"\"\n",
    "    functions {\n",
    "        real[] logisticgrowth(real t,\n",
    "                      real[] y,\n",
    "                      real[] theta,\n",
    "                      real[] x_r,\n",
    "                      int[] x_i\n",
    "                      ) {\n",
    "            real dydt[x_i[1]];\n",
    "            for (i in 1:x_i[1]){\n",
    "                dydt[i] = theta[1] * y[i] * (1-y[i]/theta[2]);\n",
    "            }\n",
    "            return dydt;\n",
    "        }\n",
    "    }\n",
    "    data {\n",
    "        int<lower=1> T;\n",
    "        int<lower=1> n_wells;\n",
    "        real y0[n_wells];\n",
    "        real z[T, n_wells];\n",
    "        real t0;\n",
    "        real ts[T];\n",
    "    }\n",
    "    transformed data {\n",
    "        real x_r[0];\n",
    "        int x_i[1];\n",
    "        x_i[1] = n_wells;\n",
    "    }\n",
    "    parameters {\n",
    "        real<lower=0> theta[2];\n",
    "        real<lower=0> sigma;\n",
    "    }\n",
    "    model {\n",
    "        real y_hat[T, n_wells];\n",
    "        theta ~ cauchy(0,2.5);\n",
    "        sigma ~ normal(0,0.01);\n",
    "        y_hat = integrate_ode_rk45(logisticgrowth, y0, t0, ts, theta, x_r, x_i);\n",
    "        for (t in 1:T) {\n",
    "            for (i in 1:n_wells) {\n",
    "                z[t,i] ~ normal(y_hat[t,i], sigma);\n",
    "            }\n",
    "        }\n",
    "    }\n",
    "\"\"\"\n",
    "\n",
    "data = {\n",
    "    'T': len(od),\n",
    "    'n_wells': 1,\n",
    "    'y0': [0.02],\n",
    "    'z': od.values.reshape(-1, 1),\n",
    "    't0': -20,\n",
    "    'ts': od.index\n",
    "}\n",
    "\n",
    "# Compile the model\n",
    "sm = pystan.StanModel(model_code=model)\n",
    "\n",
    "# Train the model and generate samples\n",
    "fit = sm.sampling(data=data, iter=100, chains=2, n_jobs=1, verbose=True)\n",
    "print(fit)"
   ]
  },
  {
   "cell_type": "code",
   "execution_count": null,
   "id": "hidden-branch",
   "metadata": {},
   "outputs": [],
   "source": [
    "model = \"\"\"\n",
    "    functions {\n",
    "        real[] growth(real t, real[] y, real[] theta, real[] x_r, int[] x_i) {\n",
    "            real dydt[1];\n",
    "            dydt[1] = theta[1] * y[1] * (1-y[1]/theta[2]);\n",
    "            return dydt;\n",
    "        }\n",
    "    }\n",
    "    data {\n",
    "        int<lower=1> T;\n",
    "        int<lower=1> n_states;\n",
    "        //real y0[n_states];\n",
    "        real y[T, n_states];\n",
    "        real t0;\n",
    "        real ts[T];\n",
    "    }\n",
    "    transformed data {\n",
    "        real x_r[0];\n",
    "        int x_i[0];\n",
    "    }\n",
    "    parameters {\n",
    "        real<lower=0> theta[2];\n",
    "        real<lower=0> y0[1];\n",
    "        real<lower=0> sigma;\n",
    "    }\n",
    "    model {\n",
    "        real y_hat[T, n_states];\n",
    "        theta[1] ~ uniform(0, 1);\n",
    "        theta[2] ~ uniform(0, 2);\n",
    "        y0[1] ~ uniform(0, 0.1);\n",
    "        sigma ~ normal(0, 0.2);\n",
    "        y_hat = integrate_ode_rk45(growth, y0, t0, ts, theta, x_r, x_i);\n",
    "        y[,1] ~ normal(y_hat[,1], sigma);\n",
    "    }\n",
    "\"\"\"\n",
    "\n",
    "data = {\n",
    "    'T': len(od),\n",
    "    'n_states': 1,\n",
    "    #'y0': [0.02],\n",
    "    'y': od.values.reshape(-1, 1),\n",
    "    't0': -20,\n",
    "    'ts': od.index\n",
    "}\n",
    "\n",
    "# Compile the model\n",
    "sm = pystan.StanModel(model_code=model)\n",
    "\n",
    "# Train the model and generate samples\n",
    "fit = sm.sampling(data=data, iter=1000, chains=2, n_jobs=-1, verbose=True)\n",
    "print(fit)"
   ]
  },
  {
   "cell_type": "code",
   "execution_count": null,
   "id": "attempted-tomorrow",
   "metadata": {},
   "outputs": [],
   "source": [
    "fit.summary()"
   ]
  },
  {
   "cell_type": "code",
   "execution_count": null,
   "id": "civil-memphis",
   "metadata": {},
   "outputs": [],
   "source": [
    "sns.kdeplot(fit.extract()['theta'][:,0])\n",
    "sns.despine()"
   ]
  },
  {
   "cell_type": "code",
   "execution_count": null,
   "id": "tested-classics",
   "metadata": {},
   "outputs": [],
   "source": [
    "plt.plot(fit.extract()['sigma'])\n",
    "sns.despine()"
   ]
  },
  {
   "cell_type": "code",
   "execution_count": null,
   "id": "killing-instruction",
   "metadata": {},
   "outputs": [],
   "source": [
    "import pickle\n",
    "with open('datasets/first-stan.pkl', 'wb') as f:\n",
    "    pickle.dump({'model': sm, 'fit': fit}, f)"
   ]
  },
  {
   "cell_type": "code",
   "execution_count": null,
   "id": "scientific-composer",
   "metadata": {},
   "outputs": [],
   "source": [
    "with open('datasets/first-stan.pkl', 'rb') as f:\n",
    "    data_dict = pickle.load(f)\n",
    "print(data_dict['fit'])"
   ]
  },
  {
   "cell_type": "code",
   "execution_count": null,
   "id": "polyphonic-burden",
   "metadata": {},
   "outputs": [],
   "source": [
    "az.plot_pair(fit)\n",
    "plt.show()"
   ]
  },
  {
   "cell_type": "code",
   "execution_count": null,
   "id": "impressed-detroit",
   "metadata": {},
   "outputs": [],
   "source": [
    "model = \"\"\"\n",
    "    data {\n",
    "        int<lower=0> N;\n",
    "        vector[N] x;\n",
    "        vector[N] y;\n",
    "    }\n",
    "    parameters {\n",
    "        real alpha;\n",
    "        real beta;\n",
    "        real<lower=0> sigma;\n",
    "    }\n",
    "    model {\n",
    "        y ~ normal(alpha + beta * x, sigma);\n",
    "    }\n",
    "\"\"\"\n",
    "# Put our data in a dictionary\n",
    "data = {'N': len(x), 'x': x, 'y': y}\n",
    "\n",
    "# Compile the model\n",
    "sm = pystan.StanModel(model_code=model)\n",
    "\n",
    "# Train the model and generate samples\n",
    "fit = sm.sampling(data=data, iter=100, chains=2, n_jobs=1)\n",
    "print(fit)"
   ]
  },
  {
   "cell_type": "code",
   "execution_count": null,
   "id": "prerequisite-field",
   "metadata": {},
   "outputs": [],
   "source": [
    "summary_dict = fit.summary()\n",
    "df = pd.DataFrame(summary_dict['summary'], \n",
    "                  columns=summary_dict['summary_colnames'], \n",
    "                  index=summary_dict['summary_rownames'])"
   ]
  },
  {
   "cell_type": "code",
   "execution_count": null,
   "id": "corporate-hearing",
   "metadata": {},
   "outputs": [],
   "source": [
    "df"
   ]
  },
  {
   "cell_type": "code",
   "execution_count": null,
   "id": "computational-invite",
   "metadata": {},
   "outputs": [],
   "source": [
    "fit['theta[1]']"
   ]
  },
  {
   "cell_type": "code",
   "execution_count": null,
   "id": "serious-apparel",
   "metadata": {},
   "outputs": [],
   "source": [
    "alpha_mean, beta_mean = df['mean']['theta[1]'], df['mean']['theta[2]']\n",
    "\n",
    "# Extracting traces\n",
    "alpha = fit['theta[1]']\n",
    "beta = fit['theta[2]']\n",
    "sigma = fit['sigma']"
   ]
  },
  {
   "cell_type": "code",
   "execution_count": null,
   "id": "foreign-stephen",
   "metadata": {},
   "outputs": [],
   "source": [
    "def plot_trace(param, param_name='parameter'):\n",
    "    \"\"\"Plot the trace and posterior of a parameter.\"\"\"\n",
    "\n",
    "    # Summary statistics\n",
    "    mean = np.mean(param)\n",
    "    median = np.median(param)\n",
    "    cred_min, cred_max = np.percentile(param, 2.5), np.percentile(param, 97.5)\n",
    "\n",
    "    # Plotting\n",
    "    plt.subplot(2,1,1)\n",
    "    plt.plot(param)\n",
    "    plt.xlabel('samples')\n",
    "    plt.ylabel(param_name)\n",
    "    plt.axhline(mean, color='r', lw=2, linestyle='--')\n",
    "    plt.axhline(median, color='c', lw=2, linestyle='--')\n",
    "    plt.axhline(cred_min, linestyle=':', color='k', alpha=0.2)\n",
    "    plt.axhline(cred_max, linestyle=':', color='k', alpha=0.2)\n",
    "    plt.title('Trace and Posterior Distribution for {}'.format(param_name))\n",
    "\n",
    "    plt.subplot(2,1,2)\n",
    "    plt.hist(param, 30, density=True); sns.kdeplot(param, shade=True)\n",
    "    plt.xlabel(param_name)\n",
    "    plt.ylabel('density')\n",
    "    plt.axvline(mean, color='r', lw=2, linestyle='--',label='mean')\n",
    "    plt.axvline(median, color='c', lw=2, linestyle='--',label='median')\n",
    "    plt.axvline(cred_min, linestyle=':', color='k', alpha=0.2, label='95% CI')\n",
    "    plt.axvline(cred_max, linestyle=':', color='k', alpha=0.2)\n",
    "\n",
    "    plt.gcf().tight_layout()\n",
    "    plt.legend()"
   ]
  },
  {
   "cell_type": "code",
   "execution_count": null,
   "id": "rental-manitoba",
   "metadata": {},
   "outputs": [],
   "source": [
    "plot_trace(alpha, 'alpha')"
   ]
  },
  {
   "cell_type": "code",
   "execution_count": null,
   "id": "cordless-divorce",
   "metadata": {},
   "outputs": [],
   "source": [
    "plot_trace(sigma, 'sigma')"
   ]
  },
  {
   "cell_type": "code",
   "execution_count": null,
   "id": "sought-official",
   "metadata": {},
   "outputs": [],
   "source": [
    "plot_trace(lp, 'lp__')"
   ]
  }
 ],
 "metadata": {
  "kernelspec": {
   "display_name": "Python 3",
   "language": "python",
   "name": "python3"
  },
  "language_info": {
   "codemirror_mode": {
    "name": "ipython",
    "version": 3
   },
   "file_extension": ".py",
   "mimetype": "text/x-python",
   "name": "python",
   "nbconvert_exporter": "python",
   "pygments_lexer": "ipython3",
   "version": "3.9.2"
  }
 },
 "nbformat": 4,
 "nbformat_minor": 5
}
