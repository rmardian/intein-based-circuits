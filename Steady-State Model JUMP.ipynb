{
 "cells": [
  {
   "cell_type": "code",
   "execution_count": 1,
   "id": "4eaab106",
   "metadata": {},
   "outputs": [],
   "source": [
    "import pandas as pd\n",
    "#pd.set_option('display.max_columns', None)\n",
    "#pd.set_option('display.max_rows', None)\n",
    "import numpy as np\n",
    "import matplotlib.pyplot as plt\n",
    "import seaborn as sns\n",
    "from tqdm import tqdm\n",
    "import json\n",
    "import warnings\n",
    "warnings.filterwarnings(\"ignore\")\n",
    "from scipy.optimize import curve_fit\n",
    "import itertools\n",
    "from sklearn.metrics import mean_squared_log_error\n",
    "\n",
    "from utils.model import *\n",
    "from utils.helper import *\n",
    "from utils.plotter import *"
   ]
  },
  {
   "cell_type": "code",
   "execution_count": null,
   "id": "df74374e",
   "metadata": {},
   "outputs": [],
   "source": [
    "with open('utils/hill-params.json', 'r') as f:\n",
    "    HILL_PARAMS = json.load(f)\n",
    "HILL_PARAMS"
   ]
  },
  {
   "cell_type": "code",
   "execution_count": null,
   "id": "5a4fb2f0",
   "metadata": {},
   "outputs": [],
   "source": [
    "ind_pro_pair = {\n",
    "    'ara': 'PBAD',\n",
    "    'ohc14': 'PCin',\n",
    "    'sal': 'PSalTTC'\n",
    "}\n",
    "pro_ind_pair = {\n",
    "    'PBAD': 'ara',\n",
    "    'PCin': 'ohc14',\n",
    "    'PSalTTC': 'sal'\n",
    "}"
   ]
  },
  {
   "cell_type": "markdown",
   "id": "5072d771",
   "metadata": {},
   "source": [
    "#### Promoter Permutation"
   ]
  },
  {
   "cell_type": "code",
   "execution_count": null,
   "id": "a626eaa9",
   "metadata": {},
   "outputs": [],
   "source": [
    "folder = 'datasets/cleansed/promoter-permutation/non-zero'\n",
    "gates = ['PBAD-PCin-E20', 'PBAD-PSalTTC-E20', 'PCin-PBAD-E20', 'PCin-PSalTTC-E20', 'PSalTTC-PBAD-E20', 'PSalTTC-PCin-E20']\n",
    "gate = pd.read_csv('{}/{}.csv'.format(folder, gates[0]))\n",
    "ind1_key = gate.columns.tolist()[0]\n",
    "ind2_key = gate.columns.tolist()[1]\n",
    "ind1 = sorted(gate[ind1_key].unique().tolist())\n",
    "ind2 = sorted(gate[ind2_key].unique().tolist())"
   ]
  },
  {
   "cell_type": "code",
   "execution_count": null,
   "id": "3854f097",
   "metadata": {},
   "outputs": [],
   "source": [
    "plt.figure(figsize=[6, 4])\n",
    "actual = gate.pivot(ind1_key, ind2_key)\n",
    "actual.index = [np.round(i, 2) for i in ind1]\n",
    "actual.columns = [np.round(i, 4) for i in ind2]\n",
    "sns.heatmap(actual, annot=True, fmt='.2f')\n",
    "plt.xlabel('{} [RPU]'.format(ind2_key))\n",
    "plt.ylabel('{} [RPU]'.format(ind1_key))\n",
    "plt.title('E20')\n",
    "\n",
    "plt.tight_layout()\n",
    "sns.despine()"
   ]
  },
  {
   "cell_type": "code",
   "execution_count": null,
   "id": "7ad5b1bb",
   "metadata": {},
   "outputs": [],
   "source": [
    "ind1_range = np.logspace(np.log10(min(ind1)), np.log10(max(ind1)), 100)\n",
    "ind2_range = np.logspace(np.log10(min(ind2)), np.log10(max(ind2)), 100)"
   ]
  },
  {
   "cell_type": "code",
   "execution_count": null,
   "id": "2c50bc76",
   "metadata": {},
   "outputs": [],
   "source": [
    "fixed_params = [*HILL_PARAMS['e20'], 0.5]#, *HILL_PARAMS['PBAD'], *HILL_PARAMS['PCin']]\n",
    "\n",
    "x2, x1 = np.meshgrid(ind2, ind1)\n",
    "x = np.vstack((x2.ravel(), x1.ravel()))\n",
    "y = np.abs(gate['fluo']).values\n",
    "#gate_bounds = [[(a-0.5) for a in fixed_params],\n",
    "#               [(a+0.8) for a in fixed_params]]\n",
    "gate_bounds = [[0, -5, -5, -5, 0],\n",
    "               [5, 5, 2, 0, 1]]\n",
    "init_guess = random_search(50, x, y, gate_bounds, hill_activation_and_fixing)\n",
    "popt, pcov = curve_fit(hill_activation_and_fixing, x, y, p0=init_guess, bounds=gate_bounds)\n",
    "print(popt)"
   ]
  },
  {
   "cell_type": "code",
   "execution_count": null,
   "id": "29e3efc4",
   "metadata": {},
   "outputs": [],
   "source": [
    "x2, x1 = np.meshgrid(ind2_range, ind1)\n",
    "x = np.vstack((x2.ravel(), x1.ravel()))\n",
    "y_pred = hill_activation_and_fixing(x, *popt)\n",
    "\n",
    "x2_, x1_ = np.meshgrid(ind2, ind1_range)\n",
    "x_ = np.vstack((x2_.ravel(), x1_.ravel()))\n",
    "y_pred_ = hill_activation_and_fixing(x_, *popt)"
   ]
  },
  {
   "cell_type": "code",
   "execution_count": null,
   "id": "34aca8a9",
   "metadata": {},
   "outputs": [],
   "source": [
    "df = pd.DataFrame(x.T)\n",
    "df['y'] = y_pred\n",
    "training = df.pivot(1, 0)\n",
    "training.index = ind1\n",
    "training.columns = ind2_range\n",
    "\n",
    "df_ = pd.DataFrame(x_.T)\n",
    "df_['y'] = y_pred_\n",
    "training_ = df_.pivot(1, 0)\n",
    "training_.index = ind1_range\n",
    "training_.columns = ind2"
   ]
  },
  {
   "cell_type": "code",
   "execution_count": null,
   "id": "2f4637ef",
   "metadata": {},
   "outputs": [],
   "source": [
    "row, col = 1, 2\n",
    "f, axs = plt.subplots(row, col, sharex=False, sharey=False, figsize=(col*6, row*4))\n",
    "ax = axs.ravel()\n",
    "for i in range(len(actual)):\n",
    "    ax[0].scatter(actual.columns, actual.iloc[i, :])#, color=colors[i])#, label='Ara-{}'.format(np.round(aras[i], 3)))\n",
    "    ax[0].plot(training.columns, training.iloc[i, :])#, color=colors[i])\n",
    "ax[0].loglog()\n",
    "ax[0].set_xlabel(ind2_key)\n",
    "\n",
    "for i in range(len(actual.columns)):\n",
    "    ax[1].scatter(actual.index, actual.iloc[:, i])#, color=colors[i], label='OHC14-{}'.format(np.round(ohc14s[i], 3)))\n",
    "    ax[1].plot(training_.index, training_.iloc[:, i])#, color=colors[i])\n",
    "ax[1].loglog()\n",
    "ax[1].set_xlabel(ind1_key)\n",
    "plt.show()"
   ]
  },
  {
   "cell_type": "code",
   "execution_count": null,
   "id": "669afab7",
   "metadata": {},
   "outputs": [],
   "source": []
  },
  {
   "cell_type": "code",
   "execution_count": null,
   "id": "57821aee",
   "metadata": {},
   "outputs": [],
   "source": []
  },
  {
   "cell_type": "markdown",
   "id": "670e92e3",
   "metadata": {},
   "source": [
    "#### Induction matrix 2-input AND gates"
   ]
  },
  {
   "cell_type": "markdown",
   "id": "9a4edbbf",
   "metadata": {},
   "source": [
    "Generate data."
   ]
  },
  {
   "cell_type": "code",
   "execution_count": null,
   "id": "d84f663d",
   "metadata": {},
   "outputs": [],
   "source": [
    "folder = '053-E20-E38-induction-matrix'\n",
    "aras = [0.05078125/4, 0.05078125, 0.203125, 0.8125, 3.25, 13]\n",
    "ohc14s = [0.078125/4, 0.078125, 0.3125, 1.25, 5, 20]\n",
    "inducers = [aras, ohc14s]\n",
    "samples_t = generate_data_at_t(folder, 'raw', 'plate_map', kind='2-input induction matrix', pos_ctrl_map=[(0, 2), (1, 2)])"
   ]
  },
  {
   "cell_type": "markdown",
   "id": "743fcaa2",
   "metadata": {},
   "source": [
    "#### E20 & E38"
   ]
  },
  {
   "cell_type": "code",
   "execution_count": null,
   "id": "1212f501",
   "metadata": {},
   "outputs": [],
   "source": [
    "f, axs = plt.subplots(1, 2, sharex=False, sharey=False, figsize=(10, 4))\n",
    "axr = axs.ravel()\n",
    "\n",
    "fluo_t = samples_t[0].reset_index()\n",
    "fluo_t['ara'] = (fluo_t['name'].str.split('_', expand=True)[1].str[0]).astype(int)\n",
    "fluo_t['ara'] = fluo_t['ara'].apply(lambda x: aras[x])\n",
    "fluo_t['ohc14'] = (fluo_t['name'].str.split('_', expand=True)[1].str[1]).astype(int)\n",
    "fluo_t['ohc14'] = fluo_t['ohc14'].apply(lambda x: ohc14s[x])\n",
    "actual = fluo_t[['8 h ', 'ara', 'ohc14']].pivot('ara', 'ohc14')\n",
    "actual.index = [np.round(i, 2) for i in aras]\n",
    "actual.columns = [np.round(i, 4) for i in ohc14s]\n",
    "sns.heatmap(actual, annot=True, fmt='.2f', ax=axr[0])\n",
    "axr[0].set_xlabel('OHC14 [RPU]')\n",
    "axr[0].set_ylabel('Ara [RPU]')\n",
    "axr[0].set_title('E20')\n",
    "\n",
    "fluo_t = samples_t[1].reset_index()\n",
    "fluo_t['ara'] = (fluo_t['name'].str.split('_', expand=True)[1].str[0]).astype(int)\n",
    "fluo_t['ara'] = fluo_t['ara'].apply(lambda x: aras[x])\n",
    "fluo_t['ohc14'] = (fluo_t['name'].str.split('_', expand=True)[1].str[1]).astype(int)\n",
    "fluo_t['ohc14'] = fluo_t['ohc14'].apply(lambda x: ohc14s[x])\n",
    "actual = fluo_t[['8 h ', 'ara', 'ohc14']].pivot('ara', 'ohc14')\n",
    "actual.index = [np.round(i, 2) for i in aras]\n",
    "actual.columns = [np.round(i, 4) for i in ohc14s]\n",
    "sns.heatmap(actual, annot=True, fmt='.2f', ax=axr[1])\n",
    "axr[1].set_xlabel('OHC14 [RPU]')\n",
    "axr[1].set_ylabel('Ara [RPU]')\n",
    "axr[1].set_title('E38')\n",
    "\n",
    "plt.tight_layout()\n",
    "sns.despine()"
   ]
  },
  {
   "cell_type": "code",
   "execution_count": null,
   "id": "eb0f6a13",
   "metadata": {},
   "outputs": [],
   "source": [
    "fluo_t = samples_t[0].reset_index()\n",
    "fluo_t['ara'] = (fluo_t['name'].str.split('_', expand=True)[1].str[0]).astype(int)\n",
    "fluo_t['ara'] = fluo_t['ara'].apply(lambda x: aras[x])\n",
    "fluo_t['ohc14'] = (fluo_t['name'].str.split('_', expand=True)[1].str[1]).astype(int)\n",
    "fluo_t['ohc14'] = fluo_t['ohc14'].apply(lambda x: ohc14s[x])"
   ]
  },
  {
   "cell_type": "code",
   "execution_count": null,
   "id": "e4b5d98b",
   "metadata": {},
   "outputs": [],
   "source": [
    "x2, x1 = np.meshgrid(ohc14s, aras)\n",
    "x = np.vstack((x2.ravel(), x1.ravel()))\n",
    "y = np.abs(fluo_t['8 h '].values)"
   ]
  },
  {
   "cell_type": "code",
   "execution_count": null,
   "id": "9c48abb5",
   "metadata": {},
   "outputs": [],
   "source": [
    "#gate_bounds = [[0, -3, -2, -3, -2, 0, -15, 0, 0, -12],\n",
    "#               [1, 0, 0, -1, 0, 2, -1, 2, 1, 0]]\n",
    "gate_bounds = [[0, -3, -2, -3],\n",
    "               [1, 0, 0, -1]]\n",
    "init_guess = random_search(50, x, y, gate_bounds, hill_activation_and)\n",
    "popt, pcov = curve_fit(hill_activation_and, x, y, p0=init_guess, bounds=gate_bounds)\n",
    "popt"
   ]
  },
  {
   "cell_type": "code",
   "execution_count": null,
   "id": "e5706d24",
   "metadata": {},
   "outputs": [],
   "source": [
    "popt = HILL_PARAMS['e20'] + HILL_PARAMS['PBAD'][1:] + HILL_PARAMS['PCin'][1:]\n",
    "fluo_t['pred'] = hill_activation_and(x, *popt)"
   ]
  },
  {
   "cell_type": "code",
   "execution_count": null,
   "id": "bf0f1774",
   "metadata": {},
   "outputs": [],
   "source": [
    "actual = fluo_t[['8 h ', 'ara', 'ohc14']].pivot('ara', 'ohc14')\n",
    "actual.index = [np.round(i, 2) for i in aras]\n",
    "actual.columns = [np.round(i, 4) for i in ohc14s]\n",
    "\n",
    "training = fluo_t[['pred', 'ara', 'ohc14']].pivot('ara', 'ohc14')\n",
    "training.index = [np.round(i, 2) for i in aras]\n",
    "training.columns = [np.round(i, 4) for i in ohc14s]"
   ]
  },
  {
   "cell_type": "code",
   "execution_count": null,
   "id": "bc2c2dac",
   "metadata": {},
   "outputs": [],
   "source": [
    "f, axs = plt.subplots(1, 2, sharex=False, sharey=False, figsize=(10, 4))\n",
    "axr = axs.ravel()\n",
    "sns.heatmap(actual, annot=True, fmt='.2f', ax=axr[0])\n",
    "axr[0].set_xlabel('OHC14 [RPU]')\n",
    "axr[0].set_ylabel('Ara [RPU]')\n",
    "axr[0].set_title('Experiment')\n",
    "\n",
    "sns.heatmap(training, annot=True, fmt='.2f', ax=axr[1])\n",
    "axr[1].set_xlabel('OHC14 [RPU]')\n",
    "axr[1].set_ylabel('Ara [RPU]')\n",
    "axr[1].set_title('Model training')\n",
    "\n",
    "plt.suptitle('E20')\n",
    "plt.tight_layout()\n",
    "sns.despine()"
   ]
  },
  {
   "cell_type": "code",
   "execution_count": null,
   "id": "68297691",
   "metadata": {},
   "outputs": [],
   "source": [
    "actual = fluo_t[['8 h ', 'ara', 'ohc14']].pivot('ara', 'ohc14')\n",
    "actual.index = aras #[np.round(i, 2) for i in aras_rpu]\n",
    "actual.columns = ohc14s #[np.round(i, 2) for i in ohc14s_rpu]\n",
    "\n",
    "training = fluo_t[['pred', 'ara', 'ohc14']].pivot('ara', 'ohc14')\n",
    "training.index = aras #[np.round(i, 2) for i in aras_rpu]\n",
    "training.columns = ohc14s #[np.round(i, 2) for i in ohc14s_rpu]"
   ]
  },
  {
   "cell_type": "markdown",
   "id": "44999934",
   "metadata": {},
   "source": [
    "#### Visualization"
   ]
  },
  {
   "cell_type": "code",
   "execution_count": null,
   "id": "2b23efb6",
   "metadata": {},
   "outputs": [],
   "source": [
    "colors = ['#cc0000', '#00cc00', '#0000cc', '#cccc00', '#cc00cc', '#00cccc']"
   ]
  },
  {
   "cell_type": "code",
   "execution_count": null,
   "id": "1ab1f416",
   "metadata": {},
   "outputs": [],
   "source": [
    "aras_lim = np.log10(min(aras)/2), np.log10(max(aras)*2)\n",
    "ohc14s_lim = np.log10(min(ohc14s)/2), np.log10(max(ohc14s)*2)\n",
    "ind1 = np.logspace(*aras_lim, 100)\n",
    "ind2 = np.logspace(*ohc14s_lim, 100)"
   ]
  },
  {
   "cell_type": "code",
   "execution_count": null,
   "id": "1f45d655",
   "metadata": {},
   "outputs": [],
   "source": [
    "x2, x1 = np.meshgrid(ind2, aras)\n",
    "x = np.vstack((x2.ravel(), x1.ravel()))\n",
    "y_pred = hill_activation_and(x, *popt)\n",
    "df = pd.DataFrame(x.T)\n",
    "df['y'] = y_pred\n",
    "training = df.pivot(1, 0)\n",
    "training.index = aras\n",
    "training.columns = ind2"
   ]
  },
  {
   "cell_type": "code",
   "execution_count": null,
   "id": "271ed623",
   "metadata": {},
   "outputs": [],
   "source": [
    "plt.figure(figsize=[6, 3])\n",
    "print(popt)\n",
    "for i in range(len(actual)):\n",
    "    plt.scatter(actual.columns, actual.iloc[i, :], color=colors[i], label='Ara-{}'.format(np.round(aras[i], 3)))\n",
    "    plt.plot(training.columns, training.iloc[i, :], color=colors[i])\n",
    "plt.loglog()\n",
    "plt.legend(loc='center left', bbox_to_anchor=(1.0, 0.5))\n",
    "plt.ylabel('GFP [RPU]')\n",
    "plt.xlabel('Ara')\n",
    "sns.despine()"
   ]
  },
  {
   "cell_type": "code",
   "execution_count": null,
   "id": "bcb187a8",
   "metadata": {},
   "outputs": [],
   "source": [
    "x2_, x1_ = np.meshgrid(ohc14s, ind1)\n",
    "x_ = np.vstack((x2_.ravel(), x1_.ravel()))\n",
    "y_pred_ = hill_activation_and(x_, *popt)\n",
    "df_ = pd.DataFrame(x_.T)\n",
    "df_['y'] = y_pred_\n",
    "training_ = df_.pivot(1, 0)\n",
    "training_.index = ind1\n",
    "training_.columns = ohc14s"
   ]
  },
  {
   "cell_type": "code",
   "execution_count": null,
   "id": "f0b86d85",
   "metadata": {},
   "outputs": [],
   "source": [
    "plt.figure(figsize=[6, 3])\n",
    "print(popt)\n",
    "for i in range(len(actual.columns)):\n",
    "    plt.scatter(actual.index, actual.iloc[:, i], color=colors[i], label='OHC14-{}'.format(np.round(ohc14s[i], 3)))\n",
    "    plt.plot(training_.index, training_.iloc[:, i], color=colors[i])\n",
    "plt.loglog()\n",
    "plt.legend(loc='center left', bbox_to_anchor=(1.0, 0.5))\n",
    "plt.ylabel('GFP [RPU]')\n",
    "plt.xlabel('Ara')\n",
    "sns.despine()"
   ]
  },
  {
   "cell_type": "markdown",
   "id": "d75e1ed6",
   "metadata": {},
   "source": [
    "#### 3-input AND gate"
   ]
  },
  {
   "cell_type": "code",
   "execution_count": null,
   "id": "dac9b3ae",
   "metadata": {},
   "outputs": [],
   "source": [
    "def hill_activation_and_3(x):\n",
    "\n",
    "    x1, x2, x3 = x\n",
    "    \n",
    "    agi1, Ki1, ni1, epsi1 = HILL_PARAMS['PBAD']\n",
    "    agi2, Ki2, ni2, epsi2 = HILL_PARAMS['PCin']\n",
    "    agi3, Ki3, ni3, epsi3 = HILL_PARAMS['PSalTTC']\n",
    "    ag1, K1, n1, eps1 = HILL_PARAMS['e38']\n",
    "    ag2, K2, n2, eps2 = HILL_PARAMS['e20']\n",
    "    \n",
    "    inner_hill = hill_activation(hill_activation(x1, Ki1, ni1, epsi1)*hill_activation(x2, Ki2, ni2, epsi2), K1, n1, eps1)\n",
    "    return 10**ag2 * hill_activation(inner_hill*hill_activation(x3, Ki3, ni3, epsi3), K2, n2, eps2)"
   ]
  },
  {
   "cell_type": "code",
   "execution_count": null,
   "id": "d25159c6",
   "metadata": {},
   "outputs": [],
   "source": [
    "aras = [0.8125/4, 0.8125, 3.25, 13]\n",
    "ohc14s = [2.5/2, 2.5, 5, 10]\n",
    "sals = [25/2, 25, 50, 100]\n",
    "inducers = [aras, ohc14s, sals]\n",
    "x = pd.DataFrame(itertools.product(*inducers)).T.values\n",
    "\n",
    "circuit = pd.read_csv('datasets/experiment/900-cleansed/3i-and-gates-jump.csv')\n",
    "y = circuit['e38-e20'].values"
   ]
  },
  {
   "cell_type": "code",
   "execution_count": null,
   "id": "d3269a71",
   "metadata": {},
   "outputs": [],
   "source": [
    "pred = pd.concat([pd.DataFrame(itertools.product(*inducers)), pd.DataFrame(hill_activation_and_3(x))], axis=1)\n",
    "pred.columns = ['ara', 'ohc14', 'sal', 'prediction']\n",
    "pred['actual'] = y"
   ]
  },
  {
   "cell_type": "code",
   "execution_count": null,
   "id": "ba063bb6",
   "metadata": {},
   "outputs": [],
   "source": [
    "pred"
   ]
  },
  {
   "cell_type": "code",
   "execution_count": null,
   "id": "a896c7de",
   "metadata": {},
   "outputs": [],
   "source": [
    "def plot_3i_responses(data, inds, inds_lbl, row=2, col=2, xlabel='RPU', ylabel='GFP'):\n",
    "    \n",
    "    f, axs = plt.subplots(row, col, sharex=False, sharey=False, figsize=(col*6, row*3))\n",
    "    axr = axs.ravel()\n",
    "    for i, ax in enumerate(axr):\n",
    "        if i < len(inds[0]):\n",
    "            y = data[data[inds_lbl[0]]==inds[0][i]]\n",
    "            for j, o in enumerate(inds[1]):\n",
    "                d = y[y[inds_lbl[1]]==o]\n",
    "                ax.scatter(d[inds_lbl[2]], d['actual'])\n",
    "                ax.plot(d[inds_lbl[2]], d['prediction'], label='{}-{}'.format(inds_lbl[1], inds[1][j]))\n",
    "            ax.set_xlabel(inds_lbl[2])\n",
    "            ax.set_ylabel(ylabel)\n",
    "            ax.loglog()\n",
    "            ax.set_title('{}-{}'.format(inds_lbl[0], inds[0][i]))\n",
    "            ax.legend()\n",
    "        else:\n",
    "            ax.set_visible(False)\n",
    "    plt.tight_layout()\n",
    "    sns.despine()"
   ]
  },
  {
   "cell_type": "code",
   "execution_count": null,
   "id": "57701d0e",
   "metadata": {},
   "outputs": [],
   "source": [
    "plot_3i_responses(pred, [aras, sals, ohc14s], ['ara', 'sal', 'ohc14'])"
   ]
  },
  {
   "cell_type": "code",
   "execution_count": null,
   "id": "804f8ad8",
   "metadata": {},
   "outputs": [],
   "source": [
    "df = pd.DataFrame([(a, b) for a, b in zip(y, hill_activation_and_3(pd.DataFrame(itertools.product(*inducers)).T.values))])\n",
    "plt.bar(df.index, df[0])\n",
    "plt.title('Actual')\n",
    "plt.ylabel('GFP')\n",
    "plt.xlabel('Induction states')\n",
    "sns.despine()"
   ]
  },
  {
   "cell_type": "code",
   "execution_count": null,
   "id": "787c7223",
   "metadata": {},
   "outputs": [],
   "source": [
    "plt.bar(df.index, df[1])\n",
    "plt.title('Prediction')\n",
    "plt.ylabel('GFP')\n",
    "plt.xlabel('Induction states')\n",
    "sns.despine()"
   ]
  },
  {
   "cell_type": "code",
   "execution_count": null,
   "id": "dfb2e947",
   "metadata": {},
   "outputs": [],
   "source": []
  },
  {
   "cell_type": "code",
   "execution_count": null,
   "id": "b8db479a",
   "metadata": {},
   "outputs": [],
   "source": []
  },
  {
   "cell_type": "code",
   "execution_count": null,
   "id": "a7cfafbc",
   "metadata": {},
   "outputs": [],
   "source": []
  },
  {
   "cell_type": "code",
   "execution_count": null,
   "id": "1a064469",
   "metadata": {},
   "outputs": [],
   "source": []
  },
  {
   "cell_type": "code",
   "execution_count": null,
   "id": "0a0fcc7a",
   "metadata": {},
   "outputs": [],
   "source": []
  }
 ],
 "metadata": {
  "kernelspec": {
   "display_name": "Python 3 (ipykernel)",
   "language": "python",
   "name": "python3"
  },
  "language_info": {
   "codemirror_mode": {
    "name": "ipython",
    "version": 3
   },
   "file_extension": ".py",
   "mimetype": "text/x-python",
   "name": "python",
   "nbconvert_exporter": "python",
   "pygments_lexer": "ipython3",
   "version": "3.9.16"
  }
 },
 "nbformat": 4,
 "nbformat_minor": 5
}
