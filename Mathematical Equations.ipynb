{
 "cells": [
  {
   "cell_type": "code",
   "execution_count": 22,
   "id": "1b70ebd8",
   "metadata": {},
   "outputs": [],
   "source": [
    "from sympy import *"
   ]
  },
  {
   "cell_type": "markdown",
   "id": "3cf504d5",
   "metadata": {},
   "source": [
    "Hill function."
   ]
  },
  {
   "cell_type": "code",
   "execution_count": 2,
   "id": "28ccf317",
   "metadata": {},
   "outputs": [
    {
     "data": {
      "text/latex": [
       "$\\displaystyle \\frac{x^{n}}{K^{n} + x^{n}}$"
      ],
      "text/plain": [
       "x**n/(K**n + x**n)"
      ]
     },
     "execution_count": 2,
     "metadata": {},
     "output_type": "execute_result"
    }
   ],
   "source": [
    "x, K, n = symbols('x K n')\n",
    "hill = x**n / (K**n + x**n)\n",
    "hill"
   ]
  },
  {
   "cell_type": "code",
   "execution_count": 3,
   "id": "3124ed78",
   "metadata": {},
   "outputs": [],
   "source": [
    "ara, cin, Kara, Kcin, nara, ncin = symbols('x_1 x_2 K_1 K_2 n_1 n_2')"
   ]
  },
  {
   "cell_type": "code",
   "execution_count": 4,
   "id": "445ecfc0",
   "metadata": {},
   "outputs": [
    {
     "data": {
      "text/latex": [
       "$\\displaystyle \\frac{x_{1}^{n_{1}}}{K_{1}^{n_{1}} + x_{1}^{n_{1}}}$"
      ],
      "text/plain": [
       "x_1**n_1/(K_1**n_1 + x_1**n_1)"
      ]
     },
     "execution_count": 4,
     "metadata": {},
     "output_type": "execute_result"
    }
   ],
   "source": [
    "hill_n = hill.subs(x, ara)\n",
    "hill_n = hill_n.subs(K, Kara)\n",
    "hill_n = hill_n.subs(n, nara)\n",
    "hill_n"
   ]
  },
  {
   "cell_type": "code",
   "execution_count": 5,
   "id": "7141449e",
   "metadata": {},
   "outputs": [
    {
     "data": {
      "text/latex": [
       "$\\displaystyle \\frac{x_{2}^{n_{2}}}{K_{2}^{n_{2}} + x_{2}^{n_{2}}}$"
      ],
      "text/plain": [
       "x_2**n_2/(K_2**n_2 + x_2**n_2)"
      ]
     },
     "execution_count": 5,
     "metadata": {},
     "output_type": "execute_result"
    }
   ],
   "source": [
    "hill_c = hill.subs(x, cin)\n",
    "hill_c = hill_c.subs(K, Kcin)\n",
    "hill_c = hill_c.subs(n, ncin)\n",
    "hill_c"
   ]
  },
  {
   "cell_type": "code",
   "execution_count": 14,
   "id": "92ebc65f",
   "metadata": {},
   "outputs": [
    {
     "data": {
      "text/latex": [
       "$\\displaystyle \\frac{\\frac{a_{n} x_{1}^{n_{1}}}{K_{1}^{n_{1}} + x_{1}^{n_{1}}} + b_{n}}{d_{n}}$"
      ],
      "text/plain": [
       "(a_n*x_1**n_1/(K_1**n_1 + x_1**n_1) + b_n)/d_n"
      ]
     },
     "execution_count": 14,
     "metadata": {},
     "output_type": "execute_result"
    }
   ],
   "source": [
    "bn, an, dn = symbols('b_n a_n d_n')\n",
    "En = (bn + an * hill_n) / dn\n",
    "En"
   ]
  },
  {
   "cell_type": "code",
   "execution_count": 15,
   "id": "04e99fee",
   "metadata": {},
   "outputs": [
    {
     "data": {
      "text/latex": [
       "$\\displaystyle \\frac{\\frac{a_{c} x_{2}^{n_{2}}}{K_{2}^{n_{2}} + x_{2}^{n_{2}}} + b_{c}}{d_{c}}$"
      ],
      "text/plain": [
       "(a_c*x_2**n_2/(K_2**n_2 + x_2**n_2) + b_c)/d_c"
      ]
     },
     "execution_count": 15,
     "metadata": {},
     "output_type": "execute_result"
    }
   ],
   "source": [
    "bc, ac, dc = symbols('b_c a_c d_c')\n",
    "Ec = (bc + ac * hill_c) / dc\n",
    "Ec"
   ]
  },
  {
   "cell_type": "code",
   "execution_count": 16,
   "id": "64ed0cd5",
   "metadata": {},
   "outputs": [
    {
     "data": {
      "text/latex": [
       "$\\displaystyle \\frac{a_{e} \\left(\\frac{a_{c} x_{2}^{n_{2}}}{K_{2}^{n_{2}} + x_{2}^{n_{2}}} + b_{c}\\right) \\left(\\frac{a_{n} x_{1}^{n_{1}}}{K_{1}^{n_{1}} + x_{1}^{n_{1}}} + b_{n}\\right)}{d_{c} d_{e} d_{n}}$"
      ],
      "text/plain": [
       "a_e*(a_c*x_2**n_2/(K_2**n_2 + x_2**n_2) + b_c)*(a_n*x_1**n_1/(K_1**n_1 + x_1**n_1) + b_n)/(d_c*d_e*d_n)"
      ]
     },
     "execution_count": 16,
     "metadata": {},
     "output_type": "execute_result"
    }
   ],
   "source": [
    "ae, de = symbols('a_e d_e')\n",
    "Ecf = ae * En * Ec / de\n",
    "Ecf"
   ]
  },
  {
   "cell_type": "code",
   "execution_count": 17,
   "id": "cd6945a9",
   "metadata": {},
   "outputs": [
    {
     "data": {
      "text/latex": [
       "$\\displaystyle \\frac{a_{e} \\left(\\frac{a_{c} x_{2}^{n_{2}}}{K_{2}^{n_{2}} + x_{2}^{n_{2}}} + b_{c}\\right) \\left(\\frac{a_{n} x_{1}^{n_{1}}}{K_{1}^{n_{1}} + x_{1}^{n_{1}}} + b_{n}\\right)}{d_{c} d_{e} d_{n}}$"
      ],
      "text/plain": [
       "a_e*(a_c*x_2**n_2/(K_2**n_2 + x_2**n_2) + b_c)*(a_n*x_1**n_1/(K_1**n_1 + x_1**n_1) + b_n)/(d_c*d_e*d_n)"
      ]
     },
     "execution_count": 17,
     "metadata": {},
     "output_type": "execute_result"
    }
   ],
   "source": [
    "a = ae / (Ec * En * de)\n",
    "Ecf"
   ]
  },
  {
   "cell_type": "code",
   "execution_count": 19,
   "id": "8570b28a",
   "metadata": {},
   "outputs": [],
   "source": [
    "Kecf, necf = symbols('K_ecf n_ecf')"
   ]
  },
  {
   "cell_type": "code",
   "execution_count": 20,
   "id": "c85aa76b",
   "metadata": {},
   "outputs": [
    {
     "data": {
      "text/latex": [
       "$\\displaystyle \\frac{\\left(\\frac{a_{e} \\left(\\frac{a_{c} x_{2}^{n_{2}}}{K_{2}^{n_{2}} + x_{2}^{n_{2}}} + b_{c}\\right) \\left(\\frac{a_{n} x_{1}^{n_{1}}}{K_{1}^{n_{1}} + x_{1}^{n_{1}}} + b_{n}\\right)}{d_{c} d_{e} d_{n}}\\right)^{n_{ecf}}}{K_{ecf}^{n_{ecf}} + \\left(\\frac{a_{e} \\left(\\frac{a_{c} x_{2}^{n_{2}}}{K_{2}^{n_{2}} + x_{2}^{n_{2}}} + b_{c}\\right) \\left(\\frac{a_{n} x_{1}^{n_{1}}}{K_{1}^{n_{1}} + x_{1}^{n_{1}}} + b_{n}\\right)}{d_{c} d_{e} d_{n}}\\right)^{n_{ecf}}}$"
      ],
      "text/plain": [
       "(a_e*(a_c*x_2**n_2/(K_2**n_2 + x_2**n_2) + b_c)*(a_n*x_1**n_1/(K_1**n_1 + x_1**n_1) + b_n)/(d_c*d_e*d_n))**n_ecf/(K_ecf**n_ecf + (a_e*(a_c*x_2**n_2/(K_2**n_2 + x_2**n_2) + b_c)*(a_n*x_1**n_1/(K_1**n_1 + x_1**n_1) + b_n)/(d_c*d_e*d_n))**n_ecf)"
      ]
     },
     "execution_count": 20,
     "metadata": {},
     "output_type": "execute_result"
    }
   ],
   "source": [
    "hill_e = hill.subs(x, Ecf)\n",
    "hill_e = hill_e.subs(K, Kecf)\n",
    "hill_e = hill_e.subs(n, necf)\n",
    "hill_e"
   ]
  },
  {
   "cell_type": "code",
   "execution_count": 21,
   "id": "fe58e6cd",
   "metadata": {},
   "outputs": [
    {
     "data": {
      "text/latex": [
       "$\\displaystyle \\frac{a_{g} \\left(\\frac{a_{e} \\left(\\frac{a_{c} x_{2}^{n_{2}}}{K_{2}^{n_{2}} + x_{2}^{n_{2}}} + b_{c}\\right) \\left(\\frac{a_{n} x_{1}^{n_{1}}}{K_{1}^{n_{1}} + x_{1}^{n_{1}}} + b_{n}\\right)}{d_{c} d_{e} d_{n}}\\right)^{n_{ecf}}}{d_{g} \\left(K_{ecf}^{n_{ecf}} + \\left(\\frac{a_{e} \\left(\\frac{a_{c} x_{2}^{n_{2}}}{K_{2}^{n_{2}} + x_{2}^{n_{2}}} + b_{c}\\right) \\left(\\frac{a_{n} x_{1}^{n_{1}}}{K_{1}^{n_{1}} + x_{1}^{n_{1}}} + b_{n}\\right)}{d_{c} d_{e} d_{n}}\\right)^{n_{ecf}}\\right)} + b_{g}$"
      ],
      "text/plain": [
       "a_g*(a_e*(a_c*x_2**n_2/(K_2**n_2 + x_2**n_2) + b_c)*(a_n*x_1**n_1/(K_1**n_1 + x_1**n_1) + b_n)/(d_c*d_e*d_n))**n_ecf/(d_g*(K_ecf**n_ecf + (a_e*(a_c*x_2**n_2/(K_2**n_2 + x_2**n_2) + b_c)*(a_n*x_1**n_1/(K_1**n_1 + x_1**n_1) + b_n)/(d_c*d_e*d_n))**n_ecf)) + b_g"
      ]
     },
     "execution_count": 21,
     "metadata": {},
     "output_type": "execute_result"
    }
   ],
   "source": [
    "bg, ag, dg = symbols('b_g a_g d_g')\n",
    "Gfp = bg + ag * hill_e / dg\n",
    "Gfp"
   ]
  },
  {
   "cell_type": "code",
   "execution_count": 27,
   "id": "9b5bdd3c",
   "metadata": {},
   "outputs": [],
   "source": [
    "def replace"
   ]
  },
  {
   "cell_type": "code",
   "execution_count": 28,
   "id": "c0e118b4",
   "metadata": {},
   "outputs": [
    {
     "data": {
      "text/latex": [
       "$\\displaystyle \\frac{a_{g} \\left(\\frac{a_{e} \\left(\\frac{a_{c} x_{2}^{n_{2}}}{K_{2}^{n_{2}} + x_{2}^{n_{2}}} + b_{c}\\right) \\left(\\frac{a_{n} x_{1}^{n_{1}}}{K_{1}^{n_{1}} + x_{1}^{n_{1}}} + b_{n}\\right)}{d_{c} d_{e} d_{n}}\\right)^{n_{ecf}}}{d_{g} \\left(K_{ecf}^{n_{ecf}} + \\left(\\frac{a_{e} \\left(\\frac{a_{c} x_{2}^{n_{2}}}{K_{2}^{n_{2}} + x_{2}^{n_{2}}} + b_{c}\\right) \\left(\\frac{a_{n} x_{1}^{n_{1}}}{K_{1}^{n_{1}} + x_{1}^{n_{1}}} + b_{n}\\right)}{d_{c} d_{e} d_{n}}\\right)^{n_{ecf}}\\right)} + b_{g}$"
      ],
      "text/plain": [
       "a_g*(a_e*(a_c*x_2**n_2/(K_2**n_2 + x_2**n_2) + b_c)*(a_n*x_1**n_1/(K_1**n_1 + x_1**n_1) + b_n)/(d_c*d_e*d_n))**n_ecf/(d_g*(K_ecf**n_ecf + (a_e*(a_c*x_2**n_2/(K_2**n_2 + x_2**n_2) + b_c)*(a_n*x_1**n_1/(K_1**n_1 + x_1**n_1) + b_n)/(d_c*d_e*d_n))**n_ecf)) + b_g"
      ]
     },
     "execution_count": 28,
     "metadata": {},
     "output_type": "execute_result"
    }
   ],
   "source": [
    "Gfp"
   ]
  },
  {
   "cell_type": "code",
   "execution_count": 26,
   "id": "940ac90f",
   "metadata": {},
   "outputs": [
    {
     "data": {
      "text/latex": [
       "$\\displaystyle \\frac{a_{g} \\left(\\frac{a_{e} \\left(\\frac{a_{c} x_{2}^{n_{2}}}{K_{2}^{n_{2}} + x_{2}^{n_{2}}} + b_{c}\\right) \\left(\\frac{a_{n} x_{1}^{n_{1}}}{K_{1}^{n_{1}} + x_{1}^{n_{1}}} + b_{n}\\right)}{d_{c} d_{e} d_{n}}\\right)^{n_{ecf}}}{d_{g} \\left(K_{ecf}^{n_{ecf}} + \\left(\\frac{a_{e} \\left(\\frac{a_{c} x_{2}^{n_{2}}}{K_{2}^{n_{2}} + x_{2}^{n_{2}}} + b_{c}\\right) \\left(\\frac{a_{n} x_{1}^{n_{1}}}{K_{1}^{n_{1}} + x_{1}^{n_{1}}} + b_{n}\\right)}{d_{c} d_{e} d_{n}}\\right)^{n_{ecf}}\\right)} + b_{g}$"
      ],
      "text/plain": [
       "a_g*(a_e*(a_c*x_2**n_2/(K_2**n_2 + x_2**n_2) + b_c)*(a_n*x_1**n_1/(K_1**n_1 + x_1**n_1) + b_n)/(d_c*d_e*d_n))**n_ecf/(d_g*(K_ecf**n_ecf + (a_e*(a_c*x_2**n_2/(K_2**n_2 + x_2**n_2) + b_c)*(a_n*x_1**n_1/(K_1**n_1 + x_1**n_1) + b_n)/(d_c*d_e*d_n))**n_ecf)) + b_g"
      ]
     },
     "execution_count": 26,
     "metadata": {},
     "output_type": "execute_result"
    }
   ],
   "source": [
    "simplify(Gfp)"
   ]
  },
  {
   "cell_type": "code",
   "execution_count": 37,
   "id": "393348de",
   "metadata": {},
   "outputs": [
    {
     "data": {
      "text/latex": [
       "$\\displaystyle GFP_{ss} = \\frac{a_{g} \\left(\\frac{a_{e} \\left(\\frac{a_{c} x_{2}^{n_{2}}}{K_{2}^{n_{2}} + x_{2}^{n_{2}}} + b_{c}\\right) \\left(\\frac{a_{n} x_{1}^{n_{1}}}{K_{1}^{n_{1}} + x_{1}^{n_{1}}} + b_{n}\\right)}{E_{c} E_{n} d_{e}}\\right)^{n_{ecf}}}{d_{g} \\left(K_{ecf}^{n_{ecf}} + \\left(\\frac{a_{e} \\left(\\frac{a_{c} x_{2}^{n_{2}}}{K_{2}^{n_{2}} + x_{2}^{n_{2}}} + b_{c}\\right) \\left(\\frac{a_{n} x_{1}^{n_{1}}}{K_{1}^{n_{1}} + x_{1}^{n_{1}}} + b_{n}\\right)}{E_{c} E_{n} d_{e}}\\right)^{n_{ecf}}\\right)} + b_{g}$"
      ],
      "text/plain": [
       "Eq(GFP_ss, a_g*(a_e*(a_c*x_2**n_2/(K_2**n_2 + x_2**n_2) + b_c)*(a_n*x_1**n_1/(K_1**n_1 + x_1**n_1) + b_n)/(E_c*E_n*d_e))**n_ecf/(d_g*(K_ecf**n_ecf + (a_e*(a_c*x_2**n_2/(K_2**n_2 + x_2**n_2) + b_c)*(a_n*x_1**n_1/(K_1**n_1 + x_1**n_1) + b_n)/(E_c*E_n*d_e))**n_ecf)) + b_g)"
      ]
     },
     "execution_count": 37,
     "metadata": {},
     "output_type": "execute_result"
    }
   ],
   "source": [
    "gfp_ss = symbols('GFP_ss')\n",
    "Eq(gfp_ss, Gfp)"
   ]
  },
  {
   "cell_type": "code",
   "execution_count": null,
   "id": "168385a9",
   "metadata": {},
   "outputs": [],
   "source": []
  }
 ],
 "metadata": {
  "kernelspec": {
   "display_name": "Python 3 (ipykernel)",
   "language": "python",
   "name": "python3"
  },
  "language_info": {
   "codemirror_mode": {
    "name": "ipython",
    "version": 3
   },
   "file_extension": ".py",
   "mimetype": "text/x-python",
   "name": "python",
   "nbconvert_exporter": "python",
   "pygments_lexer": "ipython3",
   "version": "3.8.9"
  }
 },
 "nbformat": 4,
 "nbformat_minor": 5
}
