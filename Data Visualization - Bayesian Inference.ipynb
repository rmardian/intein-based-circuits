{
 "cells": [
  {
   "cell_type": "code",
   "execution_count": 1,
   "id": "composite-municipality",
   "metadata": {},
   "outputs": [],
   "source": [
    "import numpy as np\n",
    "import pandas as pd\n",
    "%matplotlib inline\n",
    "import matplotlib.pyplot as plt\n",
    "import seaborn as sns\n",
    "from tqdm import tqdm\n",
    "\n",
    "#point-based estimate\n",
    "from scipy.optimize import curve_fit\n",
    "from scipy.integrate import odeint\n",
    "\n",
    "#interval-based estimate\n",
    "import pystan\n",
    "import arviz as az\n",
    "\n",
    "from sklearn.metrics import r2_score\n",
    "\n",
    "#animation\n",
    "from matplotlib.animation import FuncAnimation, FFMpegWriter\n",
    "from IPython import display\n",
    "plt.rcParams['animation.ffmpeg_path'] = 'utils/ffmpeg'"
   ]
  },
  {
   "cell_type": "code",
   "execution_count": 2,
   "id": "leading-eligibility",
   "metadata": {},
   "outputs": [],
   "source": [
    "def hill_activation(x, K, n, ymin, ymax):\n",
    "    \n",
    "    return ymin + (ymax - ymin) * (x**n / (K**n + x**n))\n",
    "\n",
    "def hill_activation_and(x, K1, K2, n1, n2, ymin1, ymin2, ymax1, ymax2):\n",
    "    \n",
    "    x1, x2 = x\n",
    "    return hill_activation(x1, K1, n1, ymin1, ymax1) * hill_activation(x2, K2, n2, ymin2, ymax2)\n",
    "\n",
    "def gate_wrapper(t, r, y0, synGFP, degGFP, x1, x2, params):\n",
    "    \n",
    "    K1, K2, n1, n2, ymin1, ymin2, ymax1, ymax2 = params\n",
    "    ymax = hill_activation_and((x1, x2), K1, K2, n1, n2, ymin1, ymin2, ymax1, ymax2)\n",
    "    \n",
    "    def gate_model(y, t):\n",
    "        y1, GFP = y\n",
    "        dy1 = r * (1 - (y1/ymax)) * y1\n",
    "        dGFP = synGFP * y1 - degGFP * GFP\n",
    "        return [dy1, dGFP]\n",
    "    \n",
    "    solution = odeint(gate_model, [y0, 0], t)\n",
    "    return solution.transpose()"
   ]
  },
  {
   "cell_type": "code",
   "execution_count": 3,
   "id": "rotary-stability",
   "metadata": {},
   "outputs": [],
   "source": [
    "def plot_trace(params, param_name='parameter', num_cols=2):\n",
    "    \n",
    "    num_rows = int(len(params)/num_cols)\n",
    "    f, ax = plt.subplots(num_rows, num_cols*2, figsize=(7*num_cols, 2*num_rows))\n",
    "    \n",
    "    for i in tqdm(range(num_rows)):\n",
    "        for j in range(num_cols):\n",
    "            \n",
    "            param = params[i*num_cols+j]\n",
    "        \n",
    "            mean = np.mean(param)\n",
    "            median = np.median(param)\n",
    "            cred_min, cred_max = np.percentile(param, 2.5), np.percentile(param, 97.5)\n",
    "\n",
    "            ax[i, j*2].plot(param, label='chain-{}'.format(i*num_cols+j))\n",
    "            ax[i, j*2].axhline(mean, color='r', lw=2, linestyle='--')\n",
    "            ax[i, j*2].axhline(median, color='c', lw=2, linestyle='--')\n",
    "            ax[i, j*2].axhline(cred_min, linestyle=':', color='k')\n",
    "            ax[i, j*2].axhline(cred_max, linestyle=':', color='k')\n",
    "            ax[i, j*2].legend(loc=1)\n",
    "\n",
    "            ax[i, j*2+1].hist(param, 30, density=True);\n",
    "            sns.kdeplot(param, shade=True, ax=ax[i, j*2+1])\n",
    "            ax[i, j*2+1].axvline(mean, color='r', lw=2, linestyle='--', label='mean')\n",
    "            ax[i, j*2+1].axvline(median, color='c', lw=2, linestyle='--', label='median')\n",
    "            ax[i, j*2+1].axvline(cred_min, linestyle=':', color='k', label='95% CI')\n",
    "            ax[i, j*2+1].axvline(cred_max, linestyle=':', color='k')\n",
    "            ax[i, j*2+1].set_ylabel(None)\n",
    "            ax[i, j*2+1].legend(loc=1)\n",
    "    \n",
    "    plt.suptitle(param_name)\n",
    "    plt.tight_layout()\n",
    "    plt.subplots_adjust(top=0.95)\n",
    "    plt.show()"
   ]
  },
  {
   "cell_type": "code",
   "execution_count": 4,
   "id": "varying-exchange",
   "metadata": {},
   "outputs": [],
   "source": [
    "fluos = pd.read_csv('datasets/induction_matrix/induction_fluo.csv', index_col='time')\n",
    "ods = pd.read_csv('datasets/induction_matrix/induction_od.csv', index_col='time')\n",
    "gates = ['e11x32STPhoRadA', 'e15x32NpuSspS2', 'e16x33NrdA2', 'e20x32gp411', 'e32x30SspGyrB',\n",
    "         'e34x30MjaKlbA', 'e38x32gp418', 'e41x32NrdJ1', 'e42x32STIMPDH1']\n",
    "cumas = [0, 6.25, 12.5, 25, 50, 100]\n",
    "aras = [0, 0.8125, 3.25, 13, 52, 208]"
   ]
  },
  {
   "cell_type": "markdown",
   "id": "distinguished-cardiff",
   "metadata": {},
   "source": [
    "### OD Model"
   ]
  },
  {
   "cell_type": "code",
   "execution_count": null,
   "id": "dramatic-species",
   "metadata": {},
   "outputs": [],
   "source": []
  },
  {
   "cell_type": "code",
   "execution_count": null,
   "id": "suspended-segment",
   "metadata": {},
   "outputs": [],
   "source": []
  },
  {
   "cell_type": "markdown",
   "id": "interim-southeast",
   "metadata": {},
   "source": [
    "### Hill Function"
   ]
  },
  {
   "cell_type": "code",
   "execution_count": null,
   "id": "declared-probability",
   "metadata": {},
   "outputs": [],
   "source": [
    "labels = ['K1', 'K2', 'n1', 'n2', 'ymin1', 'ymin2', 'ymax1', 'ymax2']\n",
    "gate = 'e11x32STPhoRadA'\n",
    "t = 1440"
   ]
  },
  {
   "cell_type": "code",
   "execution_count": null,
   "id": "noble-rachel",
   "metadata": {},
   "outputs": [],
   "source": [
    "x1, x2 = np.meshgrid(cumas, aras)\n",
    "x = np.vstack((x1.ravel(), x2.ravel()))\n",
    "fluo = fluos[filter(lambda x: x.startswith(gate), fluos.columns)]\n",
    "fluo_t = fluo.transpose().reset_index().rename(columns={'index': 'gate'})\n",
    "y = fluo_t[t]"
   ]
  },
  {
   "cell_type": "code",
   "execution_count": null,
   "id": "primary-remove",
   "metadata": {},
   "outputs": [],
   "source": [
    "loaded = az.from_netcdf('datasets/bayesian-trial-2/P3-Hill-{}-{}.nc'.format(gate, t))\n",
    "thetas= []\n",
    "for i in range(np.array(loaded['posterior']['theta']).shape[2]):\n",
    "    thetas.append(np.array(loaded['posterior']['theta'])[:,:,i])\n",
    "sigma = np.array(loaded['posterior']['sigma'])"
   ]
  },
  {
   "cell_type": "code",
   "execution_count": null,
   "id": "reduced-malta",
   "metadata": {},
   "outputs": [],
   "source": [
    "plot_trace(sigma, 'sigma')"
   ]
  },
  {
   "cell_type": "code",
   "execution_count": null,
   "id": "impaired-matthew",
   "metadata": {},
   "outputs": [],
   "source": [
    "i = 7\n",
    "plot_trace(thetas[i], labels[i])"
   ]
  },
  {
   "cell_type": "markdown",
   "id": "environmental-lawsuit",
   "metadata": {},
   "source": [
    "Simulating the parameters."
   ]
  },
  {
   "cell_type": "code",
   "execution_count": null,
   "id": "acoustic-motor",
   "metadata": {},
   "outputs": [],
   "source": [
    "y_std = (y - y.mean()) / y.std()\n",
    "x1_, x2_ = x1.ravel(), x2.ravel()\n",
    "x1_std = (x1_ - x1_.mean()) / x1_.std()\n",
    "x2_std = (x2_ - x2_.mean()) / x2_.std()\n",
    "x_std = np.vstack((x1_std, x2_std))"
   ]
  },
  {
   "cell_type": "code",
   "execution_count": null,
   "id": "mediterranean-volume",
   "metadata": {},
   "outputs": [],
   "source": [
    "popt = [19.417468199900505,\n",
    " 19.796305648408687,\n",
    " 5.006270368883731,\n",
    " 4.990379304603606,\n",
    " 50.18749863385959,\n",
    " 50.25055068229069,\n",
    " 101.58235065313463,\n",
    " 101.45629068698557]"
   ]
  },
  {
   "cell_type": "code",
   "execution_count": null,
   "id": "correct-correlation",
   "metadata": {},
   "outputs": [],
   "source": [
    "y_hat = hill_activation_and(x, *popt)\n",
    "print(r2_score(y, y_hat))\n",
    "sns.regplot(y, y_hat)\n",
    "sns.despine()"
   ]
  },
  {
   "cell_type": "code",
   "execution_count": null,
   "id": "nasty-artist",
   "metadata": {},
   "outputs": [],
   "source": [
    "chain, idx = 0, 1000\n",
    "popt = [theta[chain][idx] for theta in thetas]\n",
    "y_hat = hill_activation_and(x, *popt)\n",
    "#print(r2_score(y_std, y_hat))\n",
    "#print(np.corrcoef(y_std, y_hat)[0][1])\n",
    "sns.regplot(y, y_hat)\n",
    "sns.despine()"
   ]
  },
  {
   "cell_type": "code",
   "execution_count": null,
   "id": "loving-passenger",
   "metadata": {},
   "outputs": [],
   "source": []
  },
  {
   "cell_type": "code",
   "execution_count": null,
   "id": "sitting-clerk",
   "metadata": {},
   "outputs": [],
   "source": [
    "[(a, b) for a, b in zip(y_std, y_hat)]"
   ]
  },
  {
   "cell_type": "code",
   "execution_count": null,
   "id": "impaired-paste",
   "metadata": {},
   "outputs": [],
   "source": [
    "import sympy as sp"
   ]
  },
  {
   "cell_type": "code",
   "execution_count": null,
   "id": "persistent-donor",
   "metadata": {},
   "outputs": [],
   "source": [
    "k1,k2,n1,n2,y1min,y2min,y1max,y2max,x1,x1mean,x1std,x2,x2mean,x2std,y,ymean,ystd=sp.symbols('k1 k2 n1 n2 y1min y2min y1max y2max x1 x1mean x1std x2 x2mean x2std y ymean ystd',real=True)"
   ]
  },
  {
   "cell_type": "code",
   "execution_count": null,
   "id": "enclosed-bhutan",
   "metadata": {},
   "outputs": [],
   "source": [
    "y=ystd*((y1min+((y1max-y1min)*(((x1-x1mean)/x1std)**n1/(((x1-x1mean)/x1std)**n1 + k1**n1))))*(y2min+((y2max-y2min)*(((x2-x2mean)/x2std)**n2/(((x2-x2mean)/x2std)**n2 + k2**n2)))))+ymean\n",
    "y"
   ]
  },
  {
   "cell_type": "code",
   "execution_count": null,
   "id": "exotic-archive",
   "metadata": {},
   "outputs": [],
   "source": [
    "sp.simplify(y)"
   ]
  },
  {
   "cell_type": "code",
   "execution_count": null,
   "id": "fixed-grammar",
   "metadata": {},
   "outputs": [],
   "source": [
    "y=((y1min+((y1max-y1min)*((x1-x1mean)/x1std)))*(y2min+((y2max-y2min)*((x2-x2mean)/x2std))))\n",
    "y"
   ]
  },
  {
   "cell_type": "code",
   "execution_count": null,
   "id": "about-pioneer",
   "metadata": {},
   "outputs": [],
   "source": []
  },
  {
   "cell_type": "markdown",
   "id": "complex-mills",
   "metadata": {},
   "source": [
    "### Alternative Model"
   ]
  },
  {
   "cell_type": "code",
   "execution_count": null,
   "id": "vietnamese-litigation",
   "metadata": {},
   "outputs": [],
   "source": [
    "#at 24h\n",
    "hill_params = {\n",
    "    'e11x32STPhoRadA': [8.19215086e+00, 2.77324618e+00, 6.00000000e+00, 1.24643956e+00, 3.56423426e+00, 1.50252702e-10, 3.55907011e+02, 4.95959256e+02],\n",
    "    'e15x32NpuSspS2': [9.8458614, 8.7957319, 2.89598247, 1.0 , 33.3864939, 26.68735596, 157.80098788, 157.51127152],\n",
    "    'e16x33NrdA2': [10.13165313, 6.30849837, 5.02963422, 1.26435637, 12.31034403, 5.56520849, 389.61315225, 399.52903402],\n",
    "    'e20x32gp411': [12.53828935, 1.0, 2.78451886, 1.49241488, 8.42038183, 19.770931, 316.74400613, 314.41729987],\n",
    "    'e32x30SspGyrB': [10.77387795, 8.56616674, 3.12574014, 1.07032582, 12.42641636, 10.01199595, 353.07383233, 353.36938984],\n",
    "    'e34x30MjaKlbA': [8.42632247, 13.40974257, 3.28555513, 1.81757507, 8.91852601, 20.20877259, 289.53290172, 287.92030858],\n",
    "    'e38x32gp418': [7.61231223, 1.51099399, 5.04169259, 1.4068252, 22.75331651, 18.846011, 222.80791219, 223.15092773],\n",
    "    'e41x32NrdJ1': [9.59574651, 12.05238497, 3.84271899, 1.0, 20.50936546, 14.68953094, 279.98024852, 280.45758993],\n",
    "    'e42x32STIMPDH1': [10.41225458, 5.87647366, 4.30770405, 1.01184319, 19.08872036, 15.87715881, 232.88219568, 232.90886374]\n",
    "}"
   ]
  },
  {
   "cell_type": "code",
   "execution_count": null,
   "id": "ultimate-cannon",
   "metadata": {},
   "outputs": [],
   "source": [
    "gate = 'e15x32NpuSspS2'\n",
    "a, b = 5, 5\n",
    "cuma, ara = cumas[a], aras[b]\n",
    "fluo = fluos['{}_{}{}'.format(gate, a, b)]"
   ]
  },
  {
   "cell_type": "code",
   "execution_count": null,
   "id": "touched-background",
   "metadata": {},
   "outputs": [],
   "source": [
    "fluo.plot()\n",
    "plt.axhline(fluo.min())\n",
    "plt.axhline(fluo.max())"
   ]
  },
  {
   "cell_type": "code",
   "execution_count": null,
   "id": "manufactured-publication",
   "metadata": {},
   "outputs": [],
   "source": [
    "yy = fluo.copy()\n",
    "yyy = (yy - yy.mean()) / yy.std()"
   ]
  },
  {
   "cell_type": "code",
   "execution_count": null,
   "id": "ongoing-supplement",
   "metadata": {},
   "outputs": [],
   "source": [
    "plt.plot(yyy)\n",
    "plt.axhline(yyy.min())\n",
    "plt.axhline(yyy.max())"
   ]
  },
  {
   "cell_type": "code",
   "execution_count": null,
   "id": "preliminary-trading",
   "metadata": {},
   "outputs": [],
   "source": []
  },
  {
   "cell_type": "code",
   "execution_count": null,
   "id": "authorized-prison",
   "metadata": {},
   "outputs": [],
   "source": []
  },
  {
   "cell_type": "code",
   "execution_count": null,
   "id": "confirmed-region",
   "metadata": {},
   "outputs": [],
   "source": [
    "loaded['posterior']"
   ]
  },
  {
   "cell_type": "code",
   "execution_count": null,
   "id": "reported-intro",
   "metadata": {},
   "outputs": [],
   "source": [
    "loaded = az.from_netcdf('datasets/bayesian-trial-2/alternative/P3-Alternative-{}-{}{}.nc'.format(gate, a, b))\n",
    "num_params = np.array(loaded['posterior']['theta']).shape[2]\n",
    "thetas= []\n",
    "for i in range(num_params):\n",
    "    thetas.append(np.array(loaded['posterior']['theta'])[:,:,i])\n",
    "y0 = np.array(loaded['posterior']['y0'])\n",
    "sigma = np.array(loaded['posterior']['sigma'])"
   ]
  },
  {
   "cell_type": "code",
   "execution_count": null,
   "id": "enabling-pharmacy",
   "metadata": {},
   "outputs": [],
   "source": [
    "loaded = az.from_netcdf('datasets/bayesian-trial-2/Metropolis-Alternative-e11x32STPhoRadA-55.nc')\n",
    "r = np.array(loaded['posterior']['r'])\n",
    "y0 = np.array(loaded['posterior']['y0'])\n",
    "synGFP = np.array(loaded['posterior']['synGFP'])"
   ]
  },
  {
   "cell_type": "code",
   "execution_count": null,
   "id": "scheduled-pollution",
   "metadata": {},
   "outputs": [],
   "source": [
    "plt.hist(y0[1])"
   ]
  },
  {
   "cell_type": "code",
   "execution_count": null,
   "id": "alternative-sending",
   "metadata": {},
   "outputs": [],
   "source": [
    "plot_trace(y0, 'y0')"
   ]
  },
  {
   "cell_type": "code",
   "execution_count": null,
   "id": "colonial-bride",
   "metadata": {},
   "outputs": [],
   "source": [
    "plot_trace(thetas[0], 'r')"
   ]
  },
  {
   "cell_type": "code",
   "execution_count": null,
   "id": "photographic-zoning",
   "metadata": {},
   "outputs": [],
   "source": [
    "plot_trace(thetas[1], 'synGFP')"
   ]
  },
  {
   "cell_type": "markdown",
   "id": "simplified-former",
   "metadata": {},
   "source": [
    "Simulating the parameters."
   ]
  },
  {
   "cell_type": "code",
   "execution_count": null,
   "id": "civil-conspiracy",
   "metadata": {},
   "outputs": [],
   "source": [
    "chain, idx = 1, 1000\n",
    "popt = [thetas[0][chain][idx], np.array(loaded['posterior']['y0'])[chain][idx], thetas[1][chain][idx], 0.01]\n",
    "sim = gate_wrapper(fluo.index, *popt, cuma, ara, hill_params[gate])\n",
    "plt.plot(fluo.index/60, sim[0], color='red', label='gate')\n",
    "plt.plot(fluo.index/60, sim[1], color='purple', label='GFP')\n",
    "plt.scatter(fluo.index/60, fluo, color='gray', label='data', s=10)\n",
    "plt.legend()\n",
    "sns.despine()"
   ]
  },
  {
   "cell_type": "markdown",
   "id": "manufactured-pottery",
   "metadata": {},
   "source": [
    "### Alternative Model"
   ]
  },
  {
   "cell_type": "code",
   "execution_count": null,
   "id": "strange-departure",
   "metadata": {},
   "outputs": [],
   "source": []
  },
  {
   "cell_type": "code",
   "execution_count": null,
   "id": "determined-phoenix",
   "metadata": {},
   "outputs": [],
   "source": [
    "#at 20h\n",
    "hill_params = {\n",
    "    'e11x32STPhoRadA': [8.19215086e+00, 2.77324618e+00, 6.00000000e+00, 1.24643956e+00, 3.56423426e+00, 1.50252702e-10, 3.55907011e+02, 4.95959256e+02],\n",
    "    'e15x32NpuSspS2': [9.8458614, 8.7957319, 2.89598247, 1.0 , 33.3864939, 26.68735596, 157.80098788, 157.51127152],\n",
    "    'e16x33NrdA2': [10.13165313, 6.30849837, 5.02963422, 1.26435637, 12.31034403, 5.56520849, 389.61315225, 399.52903402],\n",
    "    'e20x32gp411': [12.53828935, 1.0, 2.78451886, 1.49241488, 8.42038183, 19.770931, 316.74400613, 314.41729987],\n",
    "    'e32x30SspGyrB': [10.77387795, 8.56616674, 3.12574014, 1.07032582, 12.42641636, 10.01199595, 353.07383233, 353.36938984],\n",
    "    'e34x30MjaKlbA': [8.42632247, 13.40974257, 3.28555513, 1.81757507, 8.91852601, 20.20877259, 289.53290172, 287.92030858],\n",
    "    'e38x32gp418': [7.61231223, 1.51099399, 5.04169259, 1.4068252, 22.75331651, 18.846011, 222.80791219, 223.15092773],\n",
    "    'e41x32NrdJ1': [9.59574651, 12.05238497, 3.84271899, 1.0, 20.50936546, 14.68953094, 279.98024852, 280.45758993],\n",
    "    'e42x32STIMPDH1': [10.41225458, 5.87647366, 4.30770405, 1.01184319, 19.08872036, 15.87715881, 232.88219568, 232.90886374]\n",
    "}"
   ]
  },
  {
   "cell_type": "code",
   "execution_count": null,
   "id": "early-twelve",
   "metadata": {},
   "outputs": [],
   "source": []
  },
  {
   "cell_type": "code",
   "execution_count": null,
   "id": "social-netherlands",
   "metadata": {},
   "outputs": [],
   "source": [
    "print(gate, a, b)\n",
    "sim = gate_wrapper(fluo.index, *gate_params, cumas[a], aras[b], hill_params[gate])\n",
    "plt.plot(fluos.index/60, sim[0], color='red', label='gate')\n",
    "plt.plot(fluos.index/60, sim[1], color='purple', label='GFP')\n",
    "plt.scatter(fluos.index/60, fluo, color='gray', label='data', s=10)\n",
    "plt.legend()\n",
    "sns.despine()"
   ]
  },
  {
   "cell_type": "code",
   "execution_count": null,
   "id": "looking-elephant",
   "metadata": {},
   "outputs": [],
   "source": []
  },
  {
   "cell_type": "code",
   "execution_count": null,
   "id": "ordinary-place",
   "metadata": {},
   "outputs": [],
   "source": []
  },
  {
   "cell_type": "code",
   "execution_count": null,
   "id": "alone-rugby",
   "metadata": {},
   "outputs": [],
   "source": [
    "### STATIC MODELS ###\n",
    "def hill_equation(x, K, n):\n",
    "    return x**n / (K**n + x**n)\n",
    "\n",
    "def growth_rate(t, OD, alpha, beta):\n",
    "    return (alpha * (1 - (OD/beta)))\n",
    "\n",
    "### ODE ###\n",
    "\n",
    "#growth curve\n",
    "def od_wrapper(t, r, c, c0):\n",
    "\n",
    "    def od_model(OD, t, r, c):\n",
    "        dOD = growth_rate(t, OD[0], r, c) * OD[0]\n",
    "        return dOD\n",
    "    \n",
    "    od_sol = odeint(od_model, c0, t, (r, c))\n",
    "    return np.array(od_sol[:,0])\n",
    "\n",
    "#model with auto-fluorescence term\n",
    "def gate_wrapper_complete(t, bn, bc, bg, syn_ECFn, syn_ECFc, syn_ECF, deg, syn_GFP, deg_GFP, a, K, n, ind1, ind2, extra, y0):\n",
    "    \n",
    "    #fixed parameters\n",
    "    alpha, beta = extra\n",
    "\n",
    "    def gate_model(y, t):\n",
    "        \n",
    "        #dependent variables\n",
    "        ECFn, ECFc, ECF, GFP, Auto, OD = y\n",
    "        \n",
    "        gamma = growth_rate(t, OD, alpha, beta)\n",
    "        #differential equations\n",
    "        dOD = gamma * OD\n",
    "        dECFn = bn + syn_ECFn * ind1 - (deg + gamma) * ECFn\n",
    "        dECFc = bc + syn_ECFc * ind2 - (deg + gamma) * ECFc\n",
    "        dECF = syn_ECF * ECFn * ECFc - (deg + gamma) * ECF\n",
    "        \n",
    "        dGFP = bg + syn_GFP * hill_equation(ECF, K, n) - (deg_GFP + gamma) * GFP\n",
    "        dAuto = a - gamma * Auto\n",
    "\n",
    "        return [dECFn, dECFc, dECF, dGFP, dAuto, dOD]\n",
    "    \n",
    "    solution = odeint(gate_model, y0, t)\n",
    "    return solution.transpose()\n",
    "\n",
    "#model with auto-fluorescence term\n",
    "def gate_wrapper_complete(t, bn, bc, bg, syn_ECFn, syn_ECFc, syn_ECF, deg, syn_GFP, deg_GFP, a, K, n, ind1, ind2, extra, y0):\n",
    "    \n",
    "    #fixed parameters\n",
    "    alpha, beta = extra\n",
    "\n",
    "    def gate_model(y, t):\n",
    "        \n",
    "        #dependent variables\n",
    "        ECFn, ECFc, ECF, GFP, Auto, OD = y\n",
    "        \n",
    "        gamma = growth_rate(t, OD, alpha, beta)\n",
    "        #differential equations\n",
    "        dOD = gamma * OD\n",
    "        dECFn = bn + syn_ECFn * ind1 - (deg + gamma) * ECFn\n",
    "        dECFc = bc + syn_ECFc * ind2 - (deg + gamma) * ECFc\n",
    "        dECF = syn_ECF * ECFn * ECFc - (deg + gamma) * ECF\n",
    "        \n",
    "        dGFP = bg + syn_GFP * hill_equation(ECF, K, n) - (deg_GFP + gamma) * GFP\n",
    "        dAuto = a - gamma * Auto\n",
    "\n",
    "        return [dECFn, dECFc, dECF, dGFP, dAuto, dOD]\n",
    "    \n",
    "    solution = odeint(gate_model, y0, t)\n",
    "    return solution.transpose()\n",
    "\n",
    "#model without auto-fluorescence term\n",
    "def gate_wrapper(t, bn, bc, bg, syn_ECFn, syn_ECFc, syn_ECF, deg, syn_GFP, deg_GFP, K, n, ind1, ind2, extra, y0):\n",
    "    \n",
    "    #fixed parameters\n",
    "    alpha, beta = extra\n",
    "\n",
    "    def gate_model(y, t):\n",
    "        \n",
    "        #dependent variables\n",
    "        ECFn, ECFc, ECF, GFP, OD = y\n",
    "        \n",
    "        gamma = growth_rate(t, OD, alpha, beta)\n",
    "        #differential equations\n",
    "        dOD = gamma * OD\n",
    "        dECFn = bn + syn_ECFn * ind1 - (deg + gamma) * ECFn\n",
    "        dECFc = bc + syn_ECFc * ind2 - (deg + gamma) * ECFc\n",
    "        dECF = syn_ECF * ECFn * ECFc - (deg + gamma) * ECF\n",
    "        \n",
    "        dGFP = bg + syn_GFP * hill_equation(ECF, K, n) - (deg_GFP + gamma) * GFP\n",
    "\n",
    "        return [dECFn, dECFc, dECF, dGFP, dOD]\n",
    "    \n",
    "    solution = odeint(gate_model, y0, t)\n",
    "    return solution.transpose()\n",
    "\n",
    "#model only auto-fluorescence term\n",
    "def gate_wrapper_auto(t, a, ind1, ind2, extra, y0):\n",
    "    \n",
    "    #fixed parameters\n",
    "    alpha, beta = extra\n",
    "\n",
    "    def gate_model(y, t):\n",
    "        \n",
    "        #dependent variables\n",
    "        Auto, OD = y\n",
    "        gamma = growth_rate(t, OD, alpha, beta)\n",
    "        #differential equations\n",
    "        dOD = gamma * OD\n",
    "        dAuto = a - gamma * Auto\n",
    "        return [dAuto, dOD]\n",
    "    \n",
    "    solution = odeint(gate_model, y0, t)\n",
    "    return solution.transpose()\n",
    "\n",
    "#model only auto-fluorescence term\n",
    "def gate_wrapper_gfp(t, syn_GFP, deg_GFP, extra, y0):\n",
    "    \n",
    "    def gate_model(y, t):\n",
    "        \n",
    "        GFP, OD = y\n",
    "        alpha, beta = extra\n",
    "        \n",
    "        gamma = growth_rate(t, OD, alpha, beta)\n",
    "        dOD = gamma * OD\n",
    "        dGFP = syn_GFP - (deg_GFP + gamma) * GFP\n",
    "\n",
    "        return [dGFP, dOD]\n",
    "    \n",
    "    solution = odeint(gate_model, y0, t)\n",
    "    return solution.transpose()"
   ]
  },
  {
   "cell_type": "code",
   "execution_count": null,
   "id": "complex-cathedral",
   "metadata": {},
   "outputs": [],
   "source": [
    "def simulate_single_state(fluo, f_params, od_params):\n",
    "    \n",
    "    num_od_params = 3\n",
    "    num_vars = 4\n",
    "    ind1, ind2 = 1, 1\n",
    "    \n",
    "    def model_fit(t, a, b, c, d, e, f, g, h, i, j, k):\n",
    "        fit = gate_wrapper(t, a, b, c, d, e, f, g, h, i, j, k, ind1, ind2, (od_params[0], od_params[1]), pd.Series(np.append(np.zeros(num_vars), od_params[2])))\n",
    "        return pd.Series(fit[3])\n",
    "    \n",
    "    return model_fit(fluo.index, *f_params)"
   ]
  },
  {
   "cell_type": "code",
   "execution_count": null,
   "id": "distant-coral",
   "metadata": {},
   "outputs": [],
   "source": [
    "od_params = {\n",
    "    'e11x32STPhoRadA': [0.0070462352099844, 1.1229375761211622, 0.0973103761235306],\n",
    "    'e15x32NpuSspS2': [0.0158706098949703, 1.1961969417584624, 0.0235672266874314],\n",
    "    'e16x33NrdA2': [0.0148194554039306, 1.2408917618889663, 0.0251889022569271],\n",
    "    'e20x32gp411': [0.0155212086766198, 1.2780552798586051, 0.0193773015388865],\n",
    "    'e32x30SspGyrB': [0.0159760283755244, 1.150249628464946, 0.0196547733645749],\n",
    "    'e34x30MjaKlbA': [0.0139910399333654, 1.147632550566836, 0.0235340568336425],\n",
    "    'e38x32gp418': [0.0155869734557929, 1.2060333912302554, 0.0247131234412902],\n",
    "    'e41x32NrdJ1': [0.0136188162357974, 1.2375665371324622, 0.0300644005159601],\n",
    "    'e42x32STIMPDH1': [0.013165608798406, 1.278935730092542, 0.0216016431163906]\n",
    "}\n",
    "\n",
    "f_params = {\n",
    "    'e42x32STIMPDH1': [3.603791540777875, 1.3511898653916996, 39.9998176845689, 6.065998344052423, \n",
    "                        3.3384474103706507, 0.4875070387022843, 0.6772492193102161, 0.19905746983366815, \n",
    "                        0.013290264735609849, 3.2059353187892787, 2.253921913358458]\n",
    "}"
   ]
  },
  {
   "cell_type": "code",
   "execution_count": null,
   "id": "western-defense",
   "metadata": {},
   "outputs": [],
   "source": [
    "fluos = pd.read_csv('datasets/marionette_fluo.csv', index_col='time')\n",
    "gate = 'e42x32STIMPDH1'\n",
    "fluo = fluos.loc[:, fluos.columns.str.startswith(gate)].iloc[:,3]\n",
    "\n",
    "simulated = simulate_single_state(fluo, f_params[gate], od_params[gate])"
   ]
  },
  {
   "cell_type": "code",
   "execution_count": null,
   "id": "widespread-scanning",
   "metadata": {},
   "outputs": [],
   "source": [
    "plt.plot(fluo.index/60, simulated, color='darkred')\n",
    "plt.scatter(fluo.index/60, fluo, color='gray', s=10)\n",
    "plt.title(gate)\n",
    "sns.despine()"
   ]
  },
  {
   "cell_type": "markdown",
   "id": "chemical-quantity",
   "metadata": {},
   "source": [
    "### Animation"
   ]
  },
  {
   "cell_type": "code",
   "execution_count": null,
   "id": "beneficial-profession",
   "metadata": {},
   "outputs": [],
   "source": [
    "%matplotlib inline\n",
    "from matplotlib.animation import FuncAnimation, FFMpegWriter\n",
    "from IPython import display\n",
    "plt.rcParams['animation.ffmpeg_path'] = 'utils/ffmpeg'\n",
    "\n",
    "fig, ax = plt.subplots(figsize=(16, 6))\n",
    "xdata, ydata = [], []\n",
    "ln, = plt.plot([], [], 'ro')\n",
    "\n",
    "def init():\n",
    "    ax.set_xlim(0, 2*np.pi)\n",
    "    ax.set_ylim(-1, 1)\n",
    "    return ln,\n",
    "\n",
    "def update(frame):\n",
    "    xdata.append(frame)\n",
    "    ydata.append(np.sin(frame))\n",
    "    ln.set_data(xdata, ydata)\n",
    "    return ln,\n",
    "\n",
    "anim = FuncAnimation(fig, update, frames=np.linspace(0, 2*np.pi, 128),\n",
    "                    init_func=init, blit=True)\n",
    "#video = anim.to_html5_video()\n",
    "#html = display.HTML(video)\n",
    "#display.display(html)\n",
    "#plt.close()\n",
    "FFwriter = FFMpegWriter()\n",
    "anim.save('datasets/basic_animation.mp4', writer=FFwriter)"
   ]
  },
  {
   "cell_type": "code",
   "execution_count": null,
   "id": "banner-memorial",
   "metadata": {},
   "outputs": [],
   "source": []
  },
  {
   "cell_type": "code",
   "execution_count": null,
   "id": "rolled-shock",
   "metadata": {},
   "outputs": [],
   "source": [
    "from matplotlib import animation\n",
    "from matplotlib.animation import FuncAnimation\n",
    "\n",
    "# First set up the figure, the axis, and the plot element we want to animate\n",
    "fig = plt.figure()\n",
    "ax = plt.axes(xlim=(0, 2), ylim=(-2, 2))\n",
    "line, = ax.plot([], [], lw=2)\n",
    "\n",
    "# initialization function: plot the background of each frame\n",
    "def init():\n",
    "    line.set_data([], [])\n",
    "    return line,\n",
    "\n",
    "# animation function.  This is called sequentially\n",
    "def animate(i):\n",
    "    x = np.linspace(0, 2, 1000)\n",
    "    y = np.sin(2 * np.pi * (x - 0.01 * i))\n",
    "    line.set_data(x, y)\n",
    "    return line,\n",
    "\n",
    "# call the animator.  blit=True means only re-draw the parts that have changed.\n",
    "anim = animation.FuncAnimation(fig, animate, init_func=init,\n",
    "                               frames=200, interval=20, blit=True)\n",
    "anim.save('datasets/test.gif', writer='imagemagick')\n",
    "plt.show()"
   ]
  },
  {
   "cell_type": "code",
   "execution_count": null,
   "id": "expanded-consultation",
   "metadata": {},
   "outputs": [],
   "source": []
  }
 ],
 "metadata": {
  "kernelspec": {
   "display_name": "Python 3",
   "language": "python",
   "name": "python3"
  },
  "language_info": {
   "codemirror_mode": {
    "name": "ipython",
    "version": 3
   },
   "file_extension": ".py",
   "mimetype": "text/x-python",
   "name": "python",
   "nbconvert_exporter": "python",
   "pygments_lexer": "ipython3",
   "version": "3.9.2"
  }
 },
 "nbformat": 4,
 "nbformat_minor": 5
}
