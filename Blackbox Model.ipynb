{
 "cells": [
  {
   "cell_type": "code",
   "execution_count": 2,
   "id": "foster-april",
   "metadata": {},
   "outputs": [],
   "source": [
    "import statsmodels.api as sm\n",
    "from statsmodels.formula.api import ols\n",
    "import pandas as pd\n",
    "import numpy as np\n",
    "import matplotlib.pyplot as plt\n",
    "import seaborn as sns\n",
    "sns.set_style('white')\n",
    "\n",
    "from sklearn.ensemble import GradientBoostingRegressor\n",
    "from sklearn.inspection import plot_partial_dependence\n",
    "from sklearn.metrics import r2_score"
   ]
  },
  {
   "cell_type": "code",
   "execution_count": 3,
   "id": "smooth-custody",
   "metadata": {},
   "outputs": [
    {
     "data": {
      "text/html": [
       "<div>\n",
       "<style scoped>\n",
       "    .dataframe tbody tr th:only-of-type {\n",
       "        vertical-align: middle;\n",
       "    }\n",
       "\n",
       "    .dataframe tbody tr th {\n",
       "        vertical-align: top;\n",
       "    }\n",
       "\n",
       "    .dataframe thead th {\n",
       "        text-align: right;\n",
       "    }\n",
       "</style>\n",
       "<table border=\"1\" class=\"dataframe\">\n",
       "  <thead>\n",
       "    <tr style=\"text-align: right;\">\n",
       "      <th></th>\n",
       "      <th>degECFc</th>\n",
       "      <th>degECFn</th>\n",
       "      <th>SynECF</th>\n",
       "      <th>degECF</th>\n",
       "      <th>SynGFP</th>\n",
       "      <th>degGFP</th>\n",
       "      <th>SSE</th>\n",
       "    </tr>\n",
       "  </thead>\n",
       "  <tbody>\n",
       "    <tr>\n",
       "      <th>0</th>\n",
       "      <td>2.929277e-14</td>\n",
       "      <td>4.161247e-14</td>\n",
       "      <td>0.005669</td>\n",
       "      <td>4.316271e-19</td>\n",
       "      <td>4917.189119</td>\n",
       "      <td>0.10884</td>\n",
       "      <td>6.246284e+07</td>\n",
       "    </tr>\n",
       "    <tr>\n",
       "      <th>1</th>\n",
       "      <td>1.414069e-14</td>\n",
       "      <td>8.661054e-15</td>\n",
       "      <td>0.005669</td>\n",
       "      <td>8.940203e-17</td>\n",
       "      <td>4917.184897</td>\n",
       "      <td>0.10884</td>\n",
       "      <td>6.246284e+07</td>\n",
       "    </tr>\n",
       "    <tr>\n",
       "      <th>2</th>\n",
       "      <td>8.268599e-20</td>\n",
       "      <td>1.254472e-20</td>\n",
       "      <td>0.005669</td>\n",
       "      <td>4.719039e-22</td>\n",
       "      <td>4917.182045</td>\n",
       "      <td>0.10884</td>\n",
       "      <td>6.246284e+07</td>\n",
       "    </tr>\n",
       "    <tr>\n",
       "      <th>3</th>\n",
       "      <td>3.316351e-13</td>\n",
       "      <td>4.672636e-19</td>\n",
       "      <td>0.005669</td>\n",
       "      <td>7.270744e-21</td>\n",
       "      <td>4917.180937</td>\n",
       "      <td>0.10884</td>\n",
       "      <td>6.246284e+07</td>\n",
       "    </tr>\n",
       "    <tr>\n",
       "      <th>4</th>\n",
       "      <td>1.513165e-15</td>\n",
       "      <td>1.243168e-15</td>\n",
       "      <td>0.005669</td>\n",
       "      <td>3.093753e-18</td>\n",
       "      <td>4917.178318</td>\n",
       "      <td>0.10884</td>\n",
       "      <td>6.246284e+07</td>\n",
       "    </tr>\n",
       "  </tbody>\n",
       "</table>\n",
       "</div>"
      ],
      "text/plain": [
       "        degECFc       degECFn    SynECF        degECF       SynGFP   degGFP  \\\n",
       "0  2.929277e-14  4.161247e-14  0.005669  4.316271e-19  4917.189119  0.10884   \n",
       "1  1.414069e-14  8.661054e-15  0.005669  8.940203e-17  4917.184897  0.10884   \n",
       "2  8.268599e-20  1.254472e-20  0.005669  4.719039e-22  4917.182045  0.10884   \n",
       "3  3.316351e-13  4.672636e-19  0.005669  7.270744e-21  4917.180937  0.10884   \n",
       "4  1.513165e-15  1.243168e-15  0.005669  3.093753e-18  4917.178318  0.10884   \n",
       "\n",
       "            SSE  \n",
       "0  6.246284e+07  \n",
       "1  6.246284e+07  \n",
       "2  6.246284e+07  \n",
       "3  6.246284e+07  \n",
       "4  6.246284e+07  "
      ]
     },
     "execution_count": 3,
     "metadata": {},
     "output_type": "execute_result"
    }
   ],
   "source": [
    "df = pd.read_csv('datasets/13-e16STPhoRadA-regr.csv', skiprows=1,\n",
    "                 names=['degECFc', 'degECFn', 'SynECF', 'degECF', 'SynGFP', 'degGFP', 'SSE'])\n",
    "df.head()"
   ]
  },
  {
   "cell_type": "code",
   "execution_count": 4,
   "id": "paperback-sentence",
   "metadata": {},
   "outputs": [
    {
     "data": {
      "text/plain": [
       "62462842.55014091"
      ]
     },
     "execution_count": 4,
     "metadata": {},
     "output_type": "execute_result"
    }
   ],
   "source": [
    "df['SSE'].min()"
   ]
  },
  {
   "cell_type": "code",
   "execution_count": 5,
   "id": "horizontal-approval",
   "metadata": {},
   "outputs": [],
   "source": [
    "X = df.drop('SSE', axis=1)\n",
    "Y = df['SSE']\n",
    "\n",
    "X = sm.add_constant(X)\n",
    "model = sm.OLS(Y, X)"
   ]
  },
  {
   "cell_type": "code",
   "execution_count": 6,
   "id": "passive-elder",
   "metadata": {},
   "outputs": [
    {
     "data": {
      "text/html": [
       "<table class=\"simpletable\">\n",
       "<caption>OLS Regression Results</caption>\n",
       "<tr>\n",
       "  <th>Dep. Variable:</th>           <td>SSE</td>       <th>  R-squared:         </th> <td>   0.761</td> \n",
       "</tr>\n",
       "<tr>\n",
       "  <th>Model:</th>                   <td>OLS</td>       <th>  Adj. R-squared:    </th> <td>   0.758</td> \n",
       "</tr>\n",
       "<tr>\n",
       "  <th>Method:</th>             <td>Least Squares</td>  <th>  F-statistic:       </th> <td>   262.0</td> \n",
       "</tr>\n",
       "<tr>\n",
       "  <th>Date:</th>             <td>Wed, 24 Mar 2021</td> <th>  Prob (F-statistic):</th> <td>7.87e-150</td>\n",
       "</tr>\n",
       "<tr>\n",
       "  <th>Time:</th>                 <td>13:22:00</td>     <th>  Log-Likelihood:    </th> <td> -9971.3</td> \n",
       "</tr>\n",
       "<tr>\n",
       "  <th>No. Observations:</th>      <td>   500</td>      <th>  AIC:               </th> <td>1.996e+04</td>\n",
       "</tr>\n",
       "<tr>\n",
       "  <th>Df Residuals:</th>          <td>   493</td>      <th>  BIC:               </th> <td>1.999e+04</td>\n",
       "</tr>\n",
       "<tr>\n",
       "  <th>Df Model:</th>              <td>     6</td>      <th>                     </th>     <td> </td>    \n",
       "</tr>\n",
       "<tr>\n",
       "  <th>Covariance Type:</th>      <td>nonrobust</td>    <th>                     </th>     <td> </td>    \n",
       "</tr>\n",
       "</table>\n",
       "<table class=\"simpletable\">\n",
       "<tr>\n",
       "     <td></td>        <th>coef</th>     <th>std err</th>      <th>t</th>      <th>P>|t|</th>  <th>[0.025</th>    <th>0.975]</th>  \n",
       "</tr>\n",
       "<tr>\n",
       "  <th>const</th>   <td> 9.606e+08</td> <td> 1.83e+07</td> <td>   52.591</td> <td> 0.000</td> <td> 9.25e+08</td> <td> 9.96e+08</td>\n",
       "</tr>\n",
       "<tr>\n",
       "  <th>degECFc</th> <td> 8.798e+04</td> <td>    8e+04</td> <td>    1.099</td> <td> 0.272</td> <td>-6.92e+04</td> <td> 2.45e+05</td>\n",
       "</tr>\n",
       "<tr>\n",
       "  <th>degECFn</th> <td> 9.324e+04</td> <td> 7.01e+04</td> <td>    1.330</td> <td> 0.184</td> <td>-4.45e+04</td> <td> 2.31e+05</td>\n",
       "</tr>\n",
       "<tr>\n",
       "  <th>SynECF</th>  <td>  1.68e+05</td> <td>  3.7e+04</td> <td>    4.544</td> <td> 0.000</td> <td> 9.54e+04</td> <td> 2.41e+05</td>\n",
       "</tr>\n",
       "<tr>\n",
       "  <th>degECF</th>  <td>-2.269e+05</td> <td> 6.57e+04</td> <td>   -3.451</td> <td> 0.001</td> <td>-3.56e+05</td> <td>-9.77e+04</td>\n",
       "</tr>\n",
       "<tr>\n",
       "  <th>SynGFP</th>  <td> 9.633e+04</td> <td> 8466.872</td> <td>   11.377</td> <td> 0.000</td> <td> 7.97e+04</td> <td> 1.13e+05</td>\n",
       "</tr>\n",
       "<tr>\n",
       "  <th>degGFP</th>  <td>-1.153e+10</td> <td> 4.38e+08</td> <td>  -26.355</td> <td> 0.000</td> <td>-1.24e+10</td> <td>-1.07e+10</td>\n",
       "</tr>\n",
       "</table>\n",
       "<table class=\"simpletable\">\n",
       "<tr>\n",
       "  <th>Omnibus:</th>       <td>64.799</td> <th>  Durbin-Watson:     </th> <td>   1.041</td>\n",
       "</tr>\n",
       "<tr>\n",
       "  <th>Prob(Omnibus):</th> <td> 0.000</td> <th>  Jarque-Bera (JB):  </th> <td>  97.690</td>\n",
       "</tr>\n",
       "<tr>\n",
       "  <th>Skew:</th>          <td> 0.857</td> <th>  Prob(JB):          </th> <td>6.12e-22</td>\n",
       "</tr>\n",
       "<tr>\n",
       "  <th>Kurtosis:</th>      <td> 4.322</td> <th>  Cond. No.          </th> <td>3.94e+05</td>\n",
       "</tr>\n",
       "</table><br/><br/>Notes:<br/>[1] Standard Errors assume that the covariance matrix of the errors is correctly specified.<br/>[2] The condition number is large, 3.94e+05. This might indicate that there are<br/>strong multicollinearity or other numerical problems."
      ],
      "text/plain": [
       "<class 'statsmodels.iolib.summary.Summary'>\n",
       "\"\"\"\n",
       "                            OLS Regression Results                            \n",
       "==============================================================================\n",
       "Dep. Variable:                    SSE   R-squared:                       0.761\n",
       "Model:                            OLS   Adj. R-squared:                  0.758\n",
       "Method:                 Least Squares   F-statistic:                     262.0\n",
       "Date:                Wed, 24 Mar 2021   Prob (F-statistic):          7.87e-150\n",
       "Time:                        13:22:00   Log-Likelihood:                -9971.3\n",
       "No. Observations:                 500   AIC:                         1.996e+04\n",
       "Df Residuals:                     493   BIC:                         1.999e+04\n",
       "Df Model:                           6                                         \n",
       "Covariance Type:            nonrobust                                         \n",
       "==============================================================================\n",
       "                 coef    std err          t      P>|t|      [0.025      0.975]\n",
       "------------------------------------------------------------------------------\n",
       "const       9.606e+08   1.83e+07     52.591      0.000    9.25e+08    9.96e+08\n",
       "degECFc     8.798e+04      8e+04      1.099      0.272   -6.92e+04    2.45e+05\n",
       "degECFn     9.324e+04   7.01e+04      1.330      0.184   -4.45e+04    2.31e+05\n",
       "SynECF       1.68e+05    3.7e+04      4.544      0.000    9.54e+04    2.41e+05\n",
       "degECF     -2.269e+05   6.57e+04     -3.451      0.001   -3.56e+05   -9.77e+04\n",
       "SynGFP      9.633e+04   8466.872     11.377      0.000    7.97e+04    1.13e+05\n",
       "degGFP     -1.153e+10   4.38e+08    -26.355      0.000   -1.24e+10   -1.07e+10\n",
       "==============================================================================\n",
       "Omnibus:                       64.799   Durbin-Watson:                   1.041\n",
       "Prob(Omnibus):                  0.000   Jarque-Bera (JB):               97.690\n",
       "Skew:                           0.857   Prob(JB):                     6.12e-22\n",
       "Kurtosis:                       4.322   Cond. No.                     3.94e+05\n",
       "==============================================================================\n",
       "\n",
       "Notes:\n",
       "[1] Standard Errors assume that the covariance matrix of the errors is correctly specified.\n",
       "[2] The condition number is large, 3.94e+05. This might indicate that there are\n",
       "strong multicollinearity or other numerical problems.\n",
       "\"\"\""
      ]
     },
     "execution_count": 6,
     "metadata": {},
     "output_type": "execute_result"
    }
   ],
   "source": [
    "results = model.fit()\n",
    "results.summary()"
   ]
  },
  {
   "cell_type": "code",
   "execution_count": 7,
   "id": "fatty-services",
   "metadata": {},
   "outputs": [
    {
     "data": {
      "text/html": [
       "<table class=\"simpletable\">\n",
       "<caption>OLS Regression Results</caption>\n",
       "<tr>\n",
       "  <th>Dep. Variable:</th>           <td>SSE</td>       <th>  R-squared:         </th> <td>   0.761</td> \n",
       "</tr>\n",
       "<tr>\n",
       "  <th>Model:</th>                   <td>OLS</td>       <th>  Adj. R-squared:    </th> <td>   0.758</td> \n",
       "</tr>\n",
       "<tr>\n",
       "  <th>Method:</th>             <td>Least Squares</td>  <th>  F-statistic:       </th> <td>   262.0</td> \n",
       "</tr>\n",
       "<tr>\n",
       "  <th>Date:</th>             <td>Wed, 24 Mar 2021</td> <th>  Prob (F-statistic):</th> <td>7.87e-150</td>\n",
       "</tr>\n",
       "<tr>\n",
       "  <th>Time:</th>                 <td>13:22:00</td>     <th>  Log-Likelihood:    </th> <td> -9971.3</td> \n",
       "</tr>\n",
       "<tr>\n",
       "  <th>No. Observations:</th>      <td>   500</td>      <th>  AIC:               </th> <td>1.996e+04</td>\n",
       "</tr>\n",
       "<tr>\n",
       "  <th>Df Residuals:</th>          <td>   493</td>      <th>  BIC:               </th> <td>1.999e+04</td>\n",
       "</tr>\n",
       "<tr>\n",
       "  <th>Df Model:</th>              <td>     6</td>      <th>                     </th>     <td> </td>    \n",
       "</tr>\n",
       "<tr>\n",
       "  <th>Covariance Type:</th>      <td>nonrobust</td>    <th>                     </th>     <td> </td>    \n",
       "</tr>\n",
       "</table>\n",
       "<table class=\"simpletable\">\n",
       "<tr>\n",
       "      <td></td>         <th>coef</th>     <th>std err</th>      <th>t</th>      <th>P>|t|</th>  <th>[0.025</th>    <th>0.975]</th>  \n",
       "</tr>\n",
       "<tr>\n",
       "  <th>Intercept</th> <td> 9.606e+08</td> <td> 1.83e+07</td> <td>   52.591</td> <td> 0.000</td> <td> 9.25e+08</td> <td> 9.96e+08</td>\n",
       "</tr>\n",
       "<tr>\n",
       "  <th>degECFc</th>   <td> 8.798e+04</td> <td>    8e+04</td> <td>    1.099</td> <td> 0.272</td> <td>-6.92e+04</td> <td> 2.45e+05</td>\n",
       "</tr>\n",
       "<tr>\n",
       "  <th>degECFn</th>   <td> 9.324e+04</td> <td> 7.01e+04</td> <td>    1.330</td> <td> 0.184</td> <td>-4.45e+04</td> <td> 2.31e+05</td>\n",
       "</tr>\n",
       "<tr>\n",
       "  <th>SynECF</th>    <td>  1.68e+05</td> <td>  3.7e+04</td> <td>    4.544</td> <td> 0.000</td> <td> 9.54e+04</td> <td> 2.41e+05</td>\n",
       "</tr>\n",
       "<tr>\n",
       "  <th>degECF</th>    <td>-2.269e+05</td> <td> 6.57e+04</td> <td>   -3.451</td> <td> 0.001</td> <td>-3.56e+05</td> <td>-9.77e+04</td>\n",
       "</tr>\n",
       "<tr>\n",
       "  <th>SynGFP</th>    <td> 9.633e+04</td> <td> 8466.872</td> <td>   11.377</td> <td> 0.000</td> <td> 7.97e+04</td> <td> 1.13e+05</td>\n",
       "</tr>\n",
       "<tr>\n",
       "  <th>degGFP</th>    <td>-1.153e+10</td> <td> 4.38e+08</td> <td>  -26.355</td> <td> 0.000</td> <td>-1.24e+10</td> <td>-1.07e+10</td>\n",
       "</tr>\n",
       "</table>\n",
       "<table class=\"simpletable\">\n",
       "<tr>\n",
       "  <th>Omnibus:</th>       <td>64.799</td> <th>  Durbin-Watson:     </th> <td>   1.041</td>\n",
       "</tr>\n",
       "<tr>\n",
       "  <th>Prob(Omnibus):</th> <td> 0.000</td> <th>  Jarque-Bera (JB):  </th> <td>  97.690</td>\n",
       "</tr>\n",
       "<tr>\n",
       "  <th>Skew:</th>          <td> 0.857</td> <th>  Prob(JB):          </th> <td>6.12e-22</td>\n",
       "</tr>\n",
       "<tr>\n",
       "  <th>Kurtosis:</th>      <td> 4.322</td> <th>  Cond. No.          </th> <td>3.94e+05</td>\n",
       "</tr>\n",
       "</table><br/><br/>Notes:<br/>[1] Standard Errors assume that the covariance matrix of the errors is correctly specified.<br/>[2] The condition number is large, 3.94e+05. This might indicate that there are<br/>strong multicollinearity or other numerical problems."
      ],
      "text/plain": [
       "<class 'statsmodels.iolib.summary.Summary'>\n",
       "\"\"\"\n",
       "                            OLS Regression Results                            \n",
       "==============================================================================\n",
       "Dep. Variable:                    SSE   R-squared:                       0.761\n",
       "Model:                            OLS   Adj. R-squared:                  0.758\n",
       "Method:                 Least Squares   F-statistic:                     262.0\n",
       "Date:                Wed, 24 Mar 2021   Prob (F-statistic):          7.87e-150\n",
       "Time:                        13:22:00   Log-Likelihood:                -9971.3\n",
       "No. Observations:                 500   AIC:                         1.996e+04\n",
       "Df Residuals:                     493   BIC:                         1.999e+04\n",
       "Df Model:                           6                                         \n",
       "Covariance Type:            nonrobust                                         \n",
       "==============================================================================\n",
       "                 coef    std err          t      P>|t|      [0.025      0.975]\n",
       "------------------------------------------------------------------------------\n",
       "Intercept   9.606e+08   1.83e+07     52.591      0.000    9.25e+08    9.96e+08\n",
       "degECFc     8.798e+04      8e+04      1.099      0.272   -6.92e+04    2.45e+05\n",
       "degECFn     9.324e+04   7.01e+04      1.330      0.184   -4.45e+04    2.31e+05\n",
       "SynECF       1.68e+05    3.7e+04      4.544      0.000    9.54e+04    2.41e+05\n",
       "degECF     -2.269e+05   6.57e+04     -3.451      0.001   -3.56e+05   -9.77e+04\n",
       "SynGFP      9.633e+04   8466.872     11.377      0.000    7.97e+04    1.13e+05\n",
       "degGFP     -1.153e+10   4.38e+08    -26.355      0.000   -1.24e+10   -1.07e+10\n",
       "==============================================================================\n",
       "Omnibus:                       64.799   Durbin-Watson:                   1.041\n",
       "Prob(Omnibus):                  0.000   Jarque-Bera (JB):               97.690\n",
       "Skew:                           0.857   Prob(JB):                     6.12e-22\n",
       "Kurtosis:                       4.322   Cond. No.                     3.94e+05\n",
       "==============================================================================\n",
       "\n",
       "Notes:\n",
       "[1] Standard Errors assume that the covariance matrix of the errors is correctly specified.\n",
       "[2] The condition number is large, 3.94e+05. This might indicate that there are\n",
       "strong multicollinearity or other numerical problems.\n",
       "\"\"\""
      ]
     },
     "execution_count": 7,
     "metadata": {},
     "output_type": "execute_result"
    }
   ],
   "source": [
    "model2 = ols(\"SSE ~ degECFc + degECFn + SynECF + degECF + SynGFP + degGFP\", data=df).fit()\n",
    "model2.summary()"
   ]
  },
  {
   "cell_type": "code",
   "execution_count": 21,
   "id": "working-transportation",
   "metadata": {},
   "outputs": [
    {
     "data": {
      "image/png": "[encoded data removed]",
      "text/plain": [
       "<Figure size 432x288 with 1 Axes>"
      ]
     },
     "metadata": {
      "needs_background": "light"
     },
     "output_type": "display_data"
    }
   ],
   "source": [
    "fig = sm.graphics.influence_plot(model2, criterion=\"cooks\")\n",
    "fig.tight_layout(pad=1.0)"
   ]
  },
  {
   "cell_type": "code",
   "execution_count": 8,
   "id": "impaired-advocacy",
   "metadata": {},
   "outputs": [],
   "source": [
    "X = df.drop('SSE', axis=1)\n",
    "Y = df['SSE']"
   ]
  },
  {
   "cell_type": "code",
   "execution_count": 9,
   "id": "equipped-archive",
   "metadata": {},
   "outputs": [
    {
     "data": {
      "text/plain": [
       "GradientBoostingRegressor()"
      ]
     },
     "execution_count": 9,
     "metadata": {},
     "output_type": "execute_result"
    }
   ],
   "source": [
    "my_model = GradientBoostingRegressor()\n",
    "my_model.fit(X, Y)"
   ]
  },
  {
   "cell_type": "code",
   "execution_count": null,
   "id": "worth-porter",
   "metadata": {},
   "outputs": [],
   "source": []
  },
  {
   "cell_type": "code",
   "execution_count": 12,
   "id": "norwegian-bumper",
   "metadata": {},
   "outputs": [
    {
     "data": {
      "text/plain": [
       "<Figure size 720x360 with 0 Axes>"
      ]
     },
     "metadata": {},
     "output_type": "display_data"
    },
    {
     "data": {
      "image/png": "[encoded data removed]",
      "text/plain": [
       "<Figure size 432x288 with 7 Axes>"
      ]
     },
     "metadata": {},
     "output_type": "display_data"
    }
   ],
   "source": [
    "plt.figure(figsize=[10, 5])\n",
    "my_plots = plot_partial_dependence(my_model,       \n",
    "                                   features=[0, 1, 2, 3, 4, 5], # column numbers of plots we want to show\n",
    "                                   X=X, method='brute',            # raw predictors data.\n",
    "                                   grid_resolution=10\n",
    "                                  )\n",
    "plt.tight_layout()\n",
    "plt.show()"
   ]
  },
  {
   "cell_type": "code",
   "execution_count": 11,
   "id": "weekly-turning",
   "metadata": {},
   "outputs": [
    {
     "data": {
      "text/plain": [
       "<Figure size 720x360 with 0 Axes>"
      ]
     },
     "metadata": {},
     "output_type": "display_data"
    },
    {
     "data": {
      "image/png": "[encoded data removed]",
      "text/plain": [
       "<Figure size 432x288 with 4 Axes>"
      ]
     },
     "metadata": {},
     "output_type": "display_data"
    }
   ],
   "source": [
    "plt.figure(figsize=[10, 5])\n",
    "my_plots = plot_partial_dependence(my_model,       \n",
    "                                   features=[3, 4, 5], # column numbers of plots we want to show\n",
    "                                   X=X, method='brute'            # raw predictors data.\n",
    "                                  )\n",
    "plt.show()"
   ]
  },
  {
   "cell_type": "code",
   "execution_count": 49,
   "id": "african-express",
   "metadata": {},
   "outputs": [
    {
     "data": {
      "text/plain": [
       "-200000000.0"
      ]
     },
     "execution_count": 49,
     "metadata": {},
     "output_type": "execute_result"
    }
   ],
   "source": [
    "-2e8"
   ]
  },
  {
   "cell_type": "code",
   "execution_count": null,
   "id": "attractive-transport",
   "metadata": {},
   "outputs": [],
   "source": []
  }
 ],
 "metadata": {
  "kernelspec": {
   "display_name": "Python 3",
   "language": "python",
   "name": "python3"
  },
  "language_info": {
   "codemirror_mode": {
    "name": "ipython",
    "version": 3
   },
   "file_extension": ".py",
   "mimetype": "text/x-python",
   "name": "python",
   "nbconvert_exporter": "python",
   "pygments_lexer": "ipython3",
   "version": "3.9.2"
  }
 },
 "nbformat": 4,
 "nbformat_minor": 5
}
