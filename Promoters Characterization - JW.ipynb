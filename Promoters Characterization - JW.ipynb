{
 "cells": [
  {
   "cell_type": "code",
   "execution_count": 1,
   "id": "sought-cancellation",
   "metadata": {},
   "outputs": [],
   "source": [
    "import numpy as np\n",
    "import pandas as pd\n",
    "pd.set_option('display.max_columns', None)\n",
    "pd.set_option('display.max_rows', None)\n",
    "import matplotlib.pyplot as plt\n",
    "import seaborn as sns\n",
    "from scipy.optimize import curve_fit\n",
    "from sklearn.metrics import r2_score"
   ]
  },
  {
   "cell_type": "code",
   "execution_count": 2,
   "id": "dress-aggregate",
   "metadata": {},
   "outputs": [],
   "source": [
    "def hill_activation(x, K, n, ymin, ymax):\n",
    "    \n",
    "    return ymin + (ymax - ymin) * (x**n / (K**n + x**n))"
   ]
  },
  {
   "cell_type": "code",
   "execution_count": 3,
   "id": "collected-surface",
   "metadata": {},
   "outputs": [],
   "source": [
    "def read_map(plate_map):\n",
    "    \n",
    "    plate_map = plate_map.melt(id_vars=['group'])\n",
    "    plate_map['variable'] = plate_map['variable'].astype(int)\n",
    "    plate_map['Well'] = plate_map['group'] + plate_map['variable'].apply(lambda x: '{:02d}'.format(x))\n",
    "    plate_map.loc[~plate_map['group'].isin(['H']), 'suffix'] = (plate_map['variable'] - 1) % 12\n",
    "    plate_map.loc[plate_map['group'].isin(['H']), 'suffix'] = (plate_map['variable'] - 1) % 2\n",
    "    return plate_map[['Well', 'value', 'suffix']]\n",
    "\n",
    "def generate_metadata(well, plate_map, sample_map):\n",
    "    \n",
    "    df = pd.merge(well, plate_map, on='Well', how='left').dropna(subset=['value']).reset_index(drop=True)\n",
    "    df['short_name'] = df['value'].map(sample_map) + '_' + df['suffix'].astype(int).astype(str)\n",
    "    return df.dropna()\n",
    "\n",
    "def transpose_data(df, col, timepoint=20):\n",
    "    \n",
    "    df.set_index(col, inplace=True)\n",
    "    df = df.transpose().reset_index(drop=True)\n",
    "    df.index = df.index * timepoint\n",
    "    return df\n",
    "\n",
    "def generate_data(df, name, datapoint=2, num_data=4, start_idx=3, col='short_name'):\n",
    "    \n",
    "    datas = []\n",
    "    idxs = [start_idx]\n",
    "    for i in range(1, num_data+1):\n",
    "        idxs.append(idxs[i-1] + datapoint)\n",
    "        data = (df.iloc[:, idxs[i-1]:idxs[i]]).astype(float)\n",
    "        data = pd.concat([name, data], axis=1)\n",
    "        data = transpose_data(data, col)\n",
    "        datas.append(data)\n",
    "    return datas\n",
    "\n",
    "def get_blank_corrected(data):\n",
    "    \n",
    "    blank_corrected = data.sub(data[filter(lambda x: x.startswith('blank'), data.columns)].mean(axis=1), axis=0)\n",
    "    return blank_corrected.drop(filter(lambda x: x.startswith('blank'), blank_corrected.columns), axis=1).reset_index(drop=True)\n",
    "\n",
    "def get_neg_ctrl_corrected(fluo, od):\n",
    "    \n",
    "    blank_corr_fluo = get_blank_corrected(fluo)\n",
    "    blank_corr_od = get_blank_corrected(od)\n",
    "    data = blank_corr_fluo / blank_corr_od\n",
    "    neg_corrected = data.sub(data[filter(lambda x: x.startswith('negative-control'), data.columns)].mean(axis=1), axis=0)\n",
    "    return neg_corrected.drop(filter(lambda x: x.startswith('negative-control'), neg_corrected.columns), axis=1)"
   ]
  },
  {
   "cell_type": "code",
   "execution_count": 55,
   "id": "excess-opportunity",
   "metadata": {},
   "outputs": [],
   "source": [
    "def generate_responses(data, promoters, inducers):\n",
    "    \n",
    "    df_res = pd.DataFrame([data[data.index.str.startswith(promoter)].values for promoter in promoters]).T\n",
    "    df_res.columns = promoters\n",
    "    df_ind = pd.DataFrame(inducers).T\n",
    "    df_ind.columns = promoters\n",
    "    return df_res, df_ind\n",
    "\n",
    "def plot_responses(row, col, datas, inducers, promoters, sharex=True, sharey=False, log_scale=False):\n",
    "    \n",
    "    labels = ['GFP', 'mCherry']\n",
    "    colors = ['green', 'pink']\n",
    "    f, axs = plt.subplots(row, col, sharex=sharex, sharey=sharey, figsize=(col*5, row*2))\n",
    "    axr = axs.ravel()\n",
    "    for i, ax in enumerate(axr):\n",
    "        if i < len(promoters):\n",
    "            for j, data in enumerate(datas):\n",
    "                #print(i, j, data.shape)\n",
    "                response = data[data.index.str.startswith(promoters[i])].values\n",
    "                #print(i, j, response)\n",
    "                ax.scatter(inducers[i], response, color=colors[j], label=labels[j])\n",
    "                if log_scale:\n",
    "                    ax.loglog()\n",
    "                    #ax.scatter(np.log(inducers[i]), np.log(response), color=colors[j], label=labels[j])\n",
    "                #else:\n",
    "                #    ax.scatter(inducers[i], response, color=colors[j], label=labels[j])\n",
    "            ax.set_title('{}'.format(promoters[i]))\n",
    "            ax.legend()\n",
    "        else:\n",
    "            ax.set_visible(False)\n",
    "    \n",
    "    sns.despine()\n",
    "    plt.tight_layout()"
   ]
  },
  {
   "cell_type": "code",
   "execution_count": 56,
   "id": "valid-forwarding",
   "metadata": {},
   "outputs": [],
   "source": [
    "sample_map = {\n",
    "    'P62': 'pBAD-rJ/Ara',\n",
    "    'P63': 'araC-pBAD-rJ/Ara',\n",
    "    'P64': 'pCin-rJ/OHC14',\n",
    "    'P65': 'pCymRC-rJ/Cuma',\n",
    "    'P66': 'cymRC-pCymRC-rJ/Cuma',\n",
    "    'P67': 'pLux2-rJ/AHL',\n",
    "    'P68': 'pLuxB-rJ/AHL',\n",
    "    'P69': 'pPhlF-rJ/DAPG',\n",
    "    'P70': 'pSalTTC-rJ/Sal',\n",
    "    'P71': 'pVanCC-rJ/Van',\n",
    "    'P72': 'rhaS-pRhaB-rJ/Rha',\n",
    "    'P73': 'araC-pBAD/Ara',\n",
    "    'BK': 'blank-kan',\n",
    "    'BA': 'blank-amp',\n",
    "    '3K3-N': 'negative-control-kan',\n",
    "    '4A3-N': 'negative-control-amp',\n",
    "    '4A3-P': 'positive-control-amp'\n",
    "}\n",
    "\n",
    "def read_data(folder, filename, plate_map):\n",
    "    \n",
    "    plate_map = read_map(pd.read_csv('datasets/experiment/{}/{}.csv'.format(folder, plate_map)))\n",
    "    raw_data = pd.read_csv('datasets/experiment/{}/{}.csv'.format(folder, filename), skiprows=[0])\n",
    "    metadata = generate_metadata(raw_data['Well'], plate_map, sample_map)\n",
    "    data = raw_data[raw_data['Well'].isin(metadata['Well'])].reset_index(drop=True)\n",
    "    return generate_data(data, metadata['short_name'], datapoint=int((raw_data.shape[1] - 3)/4))\n",
    "\n",
    "def get_data_at(fluos, ods, h=6):\n",
    "    \n",
    "    samples = get_neg_ctrl_corrected(fluos[filter(lambda x: '-amp' not in x, fluos.columns)],\n",
    "                                 ods[filter(lambda x: '-amp' not in x, ods.columns)])\n",
    "    reporter = get_neg_ctrl_corrected(fluos[filter(lambda x: '-amp' in x, fluos.columns)],\n",
    "                                      ods[filter(lambda x: '-amp' in x, ods.columns)])\n",
    "    #print(reporter)\n",
    "    return samples.iloc[int(h * 60/20)].apply(lambda x:  x / reporter.iloc[int(h * 60/20)].mean())"
   ]
  },
  {
   "cell_type": "code",
   "execution_count": 43,
   "id": "aquatic-sodium",
   "metadata": {},
   "outputs": [],
   "source": [
    "folder = '200-JW-promoters-characterization'\n",
    "map_name = 'plate_map'\n",
    "\n",
    "promoters = ['pBAD-rJ/Ara', 'araC-pBAD-rJ/Ara', 'araC-pBAD/Ara',\n",
    "             'pCymRC-rJ/Cuma', 'cymRC-pCymRC-rJ/Cuma', 'rhaS-pRhaB-rJ/Rha']\n",
    "\n",
    "induction_lvl = 11\n",
    "max_inducers = [52, 52, 52, 200, 200, 15300] #ara, ohc14, cuma, ahl, dapg, sal, rha\n",
    "inducers = []\n",
    "for x, mi in enumerate(max_inducers):\n",
    "    dil = 4 if x < 3 else 2\n",
    "    inducer = ([mi] + [mi/i for i in [dil**j for j in range(1, induction_lvl+1)]])\n",
    "    inducer.reverse()\n",
    "    #inducer[0] = 0\n",
    "    inducers.append(inducer)"
   ]
  },
  {
   "cell_type": "code",
   "execution_count": 57,
   "id": "advance-belfast",
   "metadata": {},
   "outputs": [],
   "source": [
    "filename = 'JW-promoter-characterization-01-repeat'\n",
    "ods_gfp, fluos_gfp, fluos_1_gfp, fluos_2_gfp = read_data(folder, filename, map_name)\n",
    "df_gfp = get_data_at(fluos_2_gfp, ods_gfp, h=12)\n",
    "#df_res_gfp, df_ind_gfp = generate_responses(df_gfp, promoters, inducers)\n",
    "#plot_responses(3, 3, df_gfp, inducers, promoters, sharex=False, log_scale=True)"
   ]
  },
  {
   "cell_type": "code",
   "execution_count": 59,
   "id": "signal-penetration",
   "metadata": {},
   "outputs": [],
   "source": [
    "filename = 'JW-promoter-characterization-02-repeat'\n",
    "ods_mc, fluos_mc, fluos_1_mc, fluos_2_mc = read_data(folder, filename, map_name)\n",
    "df_mc = get_data_at(fluos_2_mc, ods_mc, h=12)\n",
    "#df_res, df_ind = generate_responses(df, promoters, inducers)\n",
    "#plot_responses(3, 3, df, inducers, promoters, sharex=False, log_scale=True)"
   ]
  },
  {
   "cell_type": "code",
   "execution_count": 60,
   "id": "preliminary-engagement",
   "metadata": {},
   "outputs": [
    {
     "data": {
      "image/png": "[encoded data removed]",
      "text/plain": [
       "<Figure size 1080x432 with 9 Axes>"
      ]
     },
     "metadata": {
      "needs_background": "light"
     },
     "output_type": "display_data"
    }
   ],
   "source": [
    "plot_responses(3, 3, [df_gfp, df_mc], inducers, promoters, sharex=False, log_scale=True)"
   ]
  },
  {
   "cell_type": "code",
   "execution_count": null,
   "id": "placed-assembly",
   "metadata": {},
   "outputs": [],
   "source": []
  },
  {
   "cell_type": "code",
   "execution_count": null,
   "id": "novel-vector",
   "metadata": {},
   "outputs": [],
   "source": []
  }
 ],
 "metadata": {
  "kernelspec": {
   "display_name": "Python 3",
   "language": "python",
   "name": "python3"
  },
  "language_info": {
   "codemirror_mode": {
    "name": "ipython",
    "version": 3
   },
   "file_extension": ".py",
   "mimetype": "text/x-python",
   "name": "python",
   "nbconvert_exporter": "python",
   "pygments_lexer": "ipython3",
   "version": "3.9.2"
  }
 },
 "nbformat": 4,
 "nbformat_minor": 5
}
