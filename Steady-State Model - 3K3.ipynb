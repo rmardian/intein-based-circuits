{
 "cells": [
  {
   "cell_type": "code",
   "execution_count": 17,
   "id": "crucial-shower",
   "metadata": {},
   "outputs": [],
   "source": [
    "import pandas as pd\n",
    "pd.set_option('display.max_columns', None)\n",
    "pd.set_option('display.max_rows', None)\n",
    "import numpy as np\n",
    "import matplotlib.pyplot as plt\n",
    "import seaborn as sns\n",
    "from tqdm import tqdm\n",
    "import warnings\n",
    "warnings.filterwarnings(\"ignore\")\n",
    "from scipy.optimize import curve_fit\n",
    "import itertools\n",
    "\n",
    "from utils.model import hill_activation, hill_activation_single, hill_activation_and, random_search, hill_activation_ymin_ymax\n",
    "from utils.helper import generate_data_at_t, \\\n",
    "                       get_blank_corrected, get_neg_ctrl_corrected, get_pos_ctrl_corrected, \\\n",
    "                       generate_data, setup_header, read_map\n",
    "from utils.plotter import plot_heatmap"
   ]
  },
  {
   "cell_type": "code",
   "execution_count": 2,
   "id": "d09ac782",
   "metadata": {},
   "outputs": [],
   "source": [
    "HILL_PARAMS_PROMOTER = {\n",
    "    'PBAD': [10**0.88, 10**0.29, 10**0.33, 10**-2.82],\n",
    "    'PCymRC': [10**0.1, 10**1.81, 10**0.53, 10**-2.94]\n",
    "}\n",
    "gates = ['e11x32STPhoRadA', 'e15x32NpuSspS2', 'e16x33NrdA2', 'e20x32gp411', 'e32x30SspGyrB',\n",
    "         'e34x30MjaKlbA', 'e38x32gp418', 'e41x32NrdJ1', 'e42x32STIMPDH1']"
   ]
  },
  {
   "cell_type": "code",
   "execution_count": 3,
   "id": "aade242c",
   "metadata": {},
   "outputs": [],
   "source": [
    "folder = '033-all-and-gates-characterization/induction_matrix'\n",
    "cumas = [0, 6.25, 12.5, 25, 50, 100]\n",
    "aras = [0, 0.8125, 3.25, 13, 52, 208]\n",
    "inducers = [aras, cumas]"
   ]
  },
  {
   "cell_type": "code",
   "execution_count": 4,
   "id": "3ced432f",
   "metadata": {},
   "outputs": [
    {
     "name": "stdout",
     "output_type": "stream",
     "text": [
      "[0.011481536214968831, 1.0216094089843173, 5.683218062541121, 7.456853829419365, 7.579011602828942, 7.585426288573858]\n",
      "[0.0014454397707459278, 0.0019057554535797324, 0.006249131232988513, 0.04999229196321327, 0.3736971000332177, 1.026212159295428]\n"
     ]
    }
   ],
   "source": [
    "aras_rpu = [hill_activation_single(i, *HILL_PARAMS_PROMOTER['PBAD']) for i in inducers[0]]\n",
    "cumas_rpu = [hill_activation_single(i, *HILL_PARAMS_PROMOTER['PCymRC']) for i in inducers[1]]\n",
    "print(aras_rpu)\n",
    "print(cumas_rpu)"
   ]
  },
  {
   "cell_type": "code",
   "execution_count": 8,
   "id": "fe001428",
   "metadata": {},
   "outputs": [],
   "source": [
    "filename = 'plate1'\n",
    "map_file = 'plate1_map'\n",
    "samples_t = generate_data_at_t(folder, filename, map_file, kind='2-input induction matrix', pos_ctrl_map=[(0, 2)])[0]\n",
    "e1 = np.abs(samples_t[filter(lambda x: x.startswith('e11x32STPhoRadA'), samples_t.index)])\n",
    "e2 = np.abs(samples_t[filter(lambda x: x.startswith('e15x32NpuSspS2'), samples_t.index)])\n",
    "\n",
    "filename = 'plate2'\n",
    "map_file = 'plate2_map'\n",
    "samples_t = generate_data_at_t(folder, filename, map_file, kind='2-input induction matrix', pos_ctrl_map=[(0, 2)])[0]\n",
    "e3 = np.abs(samples_t[filter(lambda x: x.startswith('e16x33NrdA2'), samples_t.index)])\n",
    "e4 = np.abs(samples_t[filter(lambda x: x.startswith('e20x32gp411'), samples_t.index)])\n",
    "\n",
    "filename = 'plate3'\n",
    "map_file = 'plate3_map'\n",
    "samples_t = generate_data_at_t(folder, filename, map_file, kind='2-input induction matrix', pos_ctrl_map=[(0, 2)])[0]\n",
    "e5 = np.abs(samples_t[filter(lambda x: x.startswith('e32x30SspGyrB'), samples_t.index)])\n",
    "e6 = np.abs(samples_t[filter(lambda x: x.startswith('e34x30MjaKlbA'), samples_t.index)])\n",
    "\n",
    "filename = 'plate4'\n",
    "map_file = 'plate4_map'\n",
    "samples_t = generate_data_at_t(folder, filename, map_file, kind='2-input induction matrix', pos_ctrl_map=[(0, 2)])[0]\n",
    "e7 = np.abs(samples_t[filter(lambda x: x.startswith('e38x32gp418'), samples_t.index)])\n",
    "e8 = np.abs(samples_t[filter(lambda x: x.startswith('e41x32NrdJ1'), samples_t.index)])\n",
    "\n",
    "filename = 'plate5'\n",
    "map_file = 'plate5_map'\n",
    "samples_t = generate_data_at_t(folder, filename, map_file, kind='2-input induction matrix', pos_ctrl_map=[(0, 2)])[0]\n",
    "e9 = np.abs(samples_t[filter(lambda x: x.startswith('e42x32STIMPDH1'), samples_t.index)])"
   ]
  },
  {
   "cell_type": "code",
   "execution_count": 16,
   "id": "051c0955",
   "metadata": {},
   "outputs": [],
   "source": [
    "and_gates = pd.concat([e1.reset_index(drop=True), e2.reset_index(drop=True), e3.reset_index(drop=True),\n",
    "                       e4.reset_index(drop=True), e5.reset_index(drop=True), e6.reset_index(drop=True),\n",
    "                       e7.reset_index(drop=True), e8.reset_index(drop=True), e9.reset_index(drop=True)], axis=1)\n",
    "and_gates.columns = gates\n",
    "and_gates.to_csv('datasets/experiment/{}/selected-9-and-gates.csv'.format(folder), index=False)"
   ]
  },
  {
   "cell_type": "code",
   "execution_count": 20,
   "id": "14626336",
   "metadata": {},
   "outputs": [
    {
     "data": {
      "text/plain": [
       "[0.0014454397707459278,\n",
       " 0.0014454397707459278,\n",
       " 0.0014454397707459278,\n",
       " 0.0014454397707459278,\n",
       " 0.0014454397707459278,\n",
       " 0.0014454397707459278,\n",
       " 0.0019057554535797324,\n",
       " 0.0019057554535797324,\n",
       " 0.0019057554535797324,\n",
       " 0.0019057554535797324,\n",
       " 0.0019057554535797324,\n",
       " 0.0019057554535797324,\n",
       " 0.006249131232988513,\n",
       " 0.006249131232988513,\n",
       " 0.006249131232988513,\n",
       " 0.006249131232988513,\n",
       " 0.006249131232988513,\n",
       " 0.006249131232988513,\n",
       " 0.04999229196321327,\n",
       " 0.04999229196321327,\n",
       " 0.04999229196321327,\n",
       " 0.04999229196321327,\n",
       " 0.04999229196321327,\n",
       " 0.04999229196321327,\n",
       " 0.3736971000332177,\n",
       " 0.3736971000332177,\n",
       " 0.3736971000332177,\n",
       " 0.3736971000332177,\n",
       " 0.3736971000332177,\n",
       " 0.3736971000332177,\n",
       " 1.026212159295428,\n",
       " 1.026212159295428,\n",
       " 1.026212159295428,\n",
       " 1.026212159295428,\n",
       " 1.026212159295428,\n",
       " 1.026212159295428]"
      ]
     },
     "execution_count": 20,
     "metadata": {},
     "output_type": "execute_result"
    }
   ],
   "source": [
    "inducers = [cumas_rpu, aras_rpu]\n",
    "[a[0] for a in (itertools.product(*inducers))]\n"
   ]
  },
  {
   "cell_type": "code",
   "execution_count": null,
   "id": "8cfc9678",
   "metadata": {},
   "outputs": [],
   "source": []
  },
  {
   "cell_type": "code",
   "execution_count": null,
   "id": "2ba02ba3",
   "metadata": {},
   "outputs": [],
   "source": []
  },
  {
   "cell_type": "code",
   "execution_count": null,
   "id": "23f1a1b1",
   "metadata": {},
   "outputs": [],
   "source": []
  },
  {
   "cell_type": "code",
   "execution_count": 31,
   "id": "3cc0e04e",
   "metadata": {},
   "outputs": [],
   "source": [
    "fluo_t = e2.reset_index()\n",
    "fluo_t['ara'] = (fluo_t['name'].str.split('_', expand=True)[1].str[1]).astype(int)\n",
    "fluo_t['ara'] = fluo_t['ara'].apply(lambda x: aras_rpu[x])\n",
    "fluo_t['cuma'] = (fluo_t['name'].str.split('_', expand=True)[1].str[0]).astype(int)\n",
    "fluo_t['cuma'] = fluo_t['cuma'].apply(lambda x: cumas_rpu[x])"
   ]
  },
  {
   "cell_type": "code",
   "execution_count": 24,
   "id": "6071f38a",
   "metadata": {},
   "outputs": [
    {
     "ename": "ValueError",
     "evalue": "Residuals are not finite in the initial point.",
     "output_type": "error",
     "traceback": [
      "\u001b[0;31m---------------------------------------------------------------------------\u001b[0m",
      "\u001b[0;31mValueError\u001b[0m                                Traceback (most recent call last)",
      "Input \u001b[0;32mIn [24]\u001b[0m, in \u001b[0;36m<cell line: 6>\u001b[0;34m()\u001b[0m\n\u001b[1;32m      3\u001b[0m y \u001b[38;5;241m=\u001b[39m np\u001b[38;5;241m.\u001b[39mabs(fluo_t[\u001b[38;5;124m'\u001b[39m\u001b[38;5;124m8 h \u001b[39m\u001b[38;5;124m'\u001b[39m]\u001b[38;5;241m.\u001b[39mvalues)\n\u001b[1;32m      4\u001b[0m gate_bounds \u001b[38;5;241m=\u001b[39m [[\u001b[38;5;241m0\u001b[39m, \u001b[38;5;241m0.01\u001b[39m, \u001b[38;5;241m0\u001b[39m, \u001b[38;5;241m0\u001b[39m],\n\u001b[1;32m      5\u001b[0m                [\u001b[38;5;241m1e4\u001b[39m, \u001b[38;5;241m1e3\u001b[39m, \u001b[38;5;241m1e2\u001b[39m, \u001b[38;5;241m1e-1\u001b[39m]]\n\u001b[0;32m----> 6\u001b[0m init_guess \u001b[38;5;241m=\u001b[39m \u001b[43mrandom_search\u001b[49m\u001b[43m(\u001b[49m\u001b[38;5;241;43m50\u001b[39;49m\u001b[43m,\u001b[49m\u001b[43m \u001b[49m\u001b[43mx\u001b[49m\u001b[43m,\u001b[49m\u001b[43m \u001b[49m\u001b[43my\u001b[49m\u001b[43m,\u001b[49m\u001b[43m \u001b[49m\u001b[43mgate_bounds\u001b[49m\u001b[43m,\u001b[49m\u001b[43m \u001b[49m\u001b[43mhill_activation_and\u001b[49m\u001b[43m)\u001b[49m\n\u001b[1;32m      7\u001b[0m popt, pcov \u001b[38;5;241m=\u001b[39m curve_fit(hill_activation_and, x, y, p0\u001b[38;5;241m=\u001b[39minit_guess, bounds\u001b[38;5;241m=\u001b[39mgate_bounds)\n\u001b[1;32m      8\u001b[0m popt\n",
      "File \u001b[0;32m~/Documents/Edinburgh/intein-based-circuits/utils/model.py:65\u001b[0m, in \u001b[0;36mrandom_search\u001b[0;34m(n, ts, data, bounds, func)\u001b[0m\n\u001b[1;32m     63\u001b[0m \u001b[38;5;28;01mfor\u001b[39;00m k \u001b[38;5;129;01min\u001b[39;00m \u001b[38;5;28mrange\u001b[39m(n):\n\u001b[1;32m     64\u001b[0m     p0 \u001b[38;5;241m=\u001b[39m [np\u001b[38;5;241m.\u001b[39mrandom\u001b[38;5;241m.\u001b[39muniform(low\u001b[38;5;241m=\u001b[39mlow, high\u001b[38;5;241m=\u001b[39mhigh) \u001b[38;5;28;01mfor\u001b[39;00m low, high \u001b[38;5;129;01min\u001b[39;00m \u001b[38;5;28mzip\u001b[39m(bounds[\u001b[38;5;241m0\u001b[39m], bounds[\u001b[38;5;241m1\u001b[39m])]\n\u001b[0;32m---> 65\u001b[0m     error \u001b[38;5;241m=\u001b[39m \u001b[43mcompute_sse\u001b[49m\u001b[43m(\u001b[49m\u001b[43mts\u001b[49m\u001b[43m,\u001b[49m\u001b[43m \u001b[49m\u001b[43mdata\u001b[49m\u001b[43m,\u001b[49m\u001b[43m \u001b[49m\u001b[43mp0\u001b[49m\u001b[43m,\u001b[49m\u001b[43m \u001b[49m\u001b[43mbounds\u001b[49m\u001b[43m,\u001b[49m\u001b[43m \u001b[49m\u001b[43mfunc\u001b[49m\u001b[43m)\u001b[49m\n\u001b[1;32m     66\u001b[0m     init_guess\u001b[38;5;241m.\u001b[39mappend((error, p0))\n\u001b[1;32m     67\u001b[0m \u001b[38;5;28;01mreturn\u001b[39;00m \u001b[38;5;28msorted\u001b[39m(init_guess)[\u001b[38;5;241m0\u001b[39m][\u001b[38;5;241m1\u001b[39m]\n",
      "File \u001b[0;32m~/Documents/Edinburgh/intein-based-circuits/utils/model.py:55\u001b[0m, in \u001b[0;36mcompute_sse\u001b[0;34m(t, data, p0, bounds, func)\u001b[0m\n\u001b[1;32m     53\u001b[0m \u001b[38;5;28;01mdef\u001b[39;00m \u001b[38;5;21mcompute_sse\u001b[39m(t, data, p0, bounds, func):\n\u001b[0;32m---> 55\u001b[0m     popt, _ \u001b[38;5;241m=\u001b[39m \u001b[43mcurve_fit\u001b[49m\u001b[43m(\u001b[49m\u001b[43mfunc\u001b[49m\u001b[43m,\u001b[49m\u001b[43m \u001b[49m\u001b[43mt\u001b[49m\u001b[43m,\u001b[49m\u001b[43m \u001b[49m\u001b[43mdata\u001b[49m\u001b[43m,\u001b[49m\u001b[43m \u001b[49m\u001b[43mp0\u001b[49m\u001b[38;5;241;43m=\u001b[39;49m\u001b[43mp0\u001b[49m\u001b[43m,\u001b[49m\u001b[43m \u001b[49m\u001b[43mbounds\u001b[49m\u001b[38;5;241;43m=\u001b[39;49m\u001b[43mbounds\u001b[49m\u001b[43m)\u001b[49m\n\u001b[1;32m     56\u001b[0m     sim \u001b[38;5;241m=\u001b[39m func(t, \u001b[38;5;241m*\u001b[39mpopt)\n\u001b[1;32m     57\u001b[0m     \u001b[38;5;28;01mreturn\u001b[39;00m \u001b[38;5;28msum\u001b[39m([(act \u001b[38;5;241m-\u001b[39m pred)\u001b[38;5;241m*\u001b[39m\u001b[38;5;241m*\u001b[39m\u001b[38;5;241m2\u001b[39m \u001b[38;5;28;01mfor\u001b[39;00m act, pred \u001b[38;5;129;01min\u001b[39;00m \u001b[38;5;28mzip\u001b[39m(data, sim)])\n",
      "File \u001b[0;32m~/Documents/Edinburgh/intein-based-circuits/env/lib/python3.9/site-packages/scipy/optimize/minpack.py:800\u001b[0m, in \u001b[0;36mcurve_fit\u001b[0;34m(f, xdata, ydata, p0, sigma, absolute_sigma, check_finite, bounds, method, jac, **kwargs)\u001b[0m\n\u001b[1;32m    797\u001b[0m \u001b[38;5;28;01mif\u001b[39;00m \u001b[38;5;124m'\u001b[39m\u001b[38;5;124mmax_nfev\u001b[39m\u001b[38;5;124m'\u001b[39m \u001b[38;5;129;01mnot\u001b[39;00m \u001b[38;5;129;01min\u001b[39;00m kwargs:\n\u001b[1;32m    798\u001b[0m     kwargs[\u001b[38;5;124m'\u001b[39m\u001b[38;5;124mmax_nfev\u001b[39m\u001b[38;5;124m'\u001b[39m] \u001b[38;5;241m=\u001b[39m kwargs\u001b[38;5;241m.\u001b[39mpop(\u001b[38;5;124m'\u001b[39m\u001b[38;5;124mmaxfev\u001b[39m\u001b[38;5;124m'\u001b[39m, \u001b[38;5;28;01mNone\u001b[39;00m)\n\u001b[0;32m--> 800\u001b[0m res \u001b[38;5;241m=\u001b[39m \u001b[43mleast_squares\u001b[49m\u001b[43m(\u001b[49m\u001b[43mfunc\u001b[49m\u001b[43m,\u001b[49m\u001b[43m \u001b[49m\u001b[43mp0\u001b[49m\u001b[43m,\u001b[49m\u001b[43m \u001b[49m\u001b[43mjac\u001b[49m\u001b[38;5;241;43m=\u001b[39;49m\u001b[43mjac\u001b[49m\u001b[43m,\u001b[49m\u001b[43m \u001b[49m\u001b[43mbounds\u001b[49m\u001b[38;5;241;43m=\u001b[39;49m\u001b[43mbounds\u001b[49m\u001b[43m,\u001b[49m\u001b[43m \u001b[49m\u001b[43mmethod\u001b[49m\u001b[38;5;241;43m=\u001b[39;49m\u001b[43mmethod\u001b[49m\u001b[43m,\u001b[49m\n\u001b[1;32m    801\u001b[0m \u001b[43m                    \u001b[49m\u001b[38;5;241;43m*\u001b[39;49m\u001b[38;5;241;43m*\u001b[39;49m\u001b[43mkwargs\u001b[49m\u001b[43m)\u001b[49m\n\u001b[1;32m    803\u001b[0m \u001b[38;5;28;01mif\u001b[39;00m \u001b[38;5;129;01mnot\u001b[39;00m res\u001b[38;5;241m.\u001b[39msuccess:\n\u001b[1;32m    804\u001b[0m     \u001b[38;5;28;01mraise\u001b[39;00m \u001b[38;5;167;01mRuntimeError\u001b[39;00m(\u001b[38;5;124m\"\u001b[39m\u001b[38;5;124mOptimal parameters not found: \u001b[39m\u001b[38;5;124m\"\u001b[39m \u001b[38;5;241m+\u001b[39m res\u001b[38;5;241m.\u001b[39mmessage)\n",
      "File \u001b[0;32m~/Documents/Edinburgh/intein-based-circuits/env/lib/python3.9/site-packages/scipy/optimize/_lsq/least_squares.py:827\u001b[0m, in \u001b[0;36mleast_squares\u001b[0;34m(fun, x0, jac, bounds, method, ftol, xtol, gtol, x_scale, loss, f_scale, diff_step, tr_solver, tr_options, jac_sparsity, max_nfev, verbose, args, kwargs)\u001b[0m\n\u001b[1;32m    823\u001b[0m     \u001b[38;5;28;01mraise\u001b[39;00m \u001b[38;5;167;01mValueError\u001b[39;00m(\u001b[38;5;124m\"\u001b[39m\u001b[38;5;124m`fun` must return at most 1-d array_like. \u001b[39m\u001b[38;5;124m\"\u001b[39m\n\u001b[1;32m    824\u001b[0m                      \u001b[38;5;124m\"\u001b[39m\u001b[38;5;124mf0.shape: \u001b[39m\u001b[38;5;132;01m{0}\u001b[39;00m\u001b[38;5;124m\"\u001b[39m\u001b[38;5;241m.\u001b[39mformat(f0\u001b[38;5;241m.\u001b[39mshape))\n\u001b[1;32m    826\u001b[0m \u001b[38;5;28;01mif\u001b[39;00m \u001b[38;5;129;01mnot\u001b[39;00m np\u001b[38;5;241m.\u001b[39mall(np\u001b[38;5;241m.\u001b[39misfinite(f0)):\n\u001b[0;32m--> 827\u001b[0m     \u001b[38;5;28;01mraise\u001b[39;00m \u001b[38;5;167;01mValueError\u001b[39;00m(\u001b[38;5;124m\"\u001b[39m\u001b[38;5;124mResiduals are not finite in the initial point.\u001b[39m\u001b[38;5;124m\"\u001b[39m)\n\u001b[1;32m    829\u001b[0m n \u001b[38;5;241m=\u001b[39m x0\u001b[38;5;241m.\u001b[39msize\n\u001b[1;32m    830\u001b[0m m \u001b[38;5;241m=\u001b[39m f0\u001b[38;5;241m.\u001b[39msize\n",
      "\u001b[0;31mValueError\u001b[0m: Residuals are not finite in the initial point."
     ]
    }
   ],
   "source": [
    "x2, x1 = np.meshgrid(cumas_rpu, aras_rpu)\n",
    "x = np.vstack((x2.ravel(), x1.ravel()))\n",
    "y = np.abs(fluo_t['8 h '].values)\n",
    "gate_bounds = [[0, 0.01, 0, 0],\n",
    "               [1e4, 1e3, 1e2, 1e-1]]\n",
    "init_guess = random_search(50, x, y, gate_bounds, hill_activation_and)\n",
    "popt, pcov = curve_fit(hill_activation_and, x, y, p0=init_guess, bounds=gate_bounds)\n",
    "popt"
   ]
  },
  {
   "cell_type": "code",
   "execution_count": null,
   "id": "9d2b26e9",
   "metadata": {},
   "outputs": [],
   "source": [
    "y_pred = hill_activation_and(x, *popt)\n",
    "sum_squared_error(y, y_pred)"
   ]
  },
  {
   "cell_type": "code",
   "execution_count": null,
   "id": "0b660857",
   "metadata": {},
   "outputs": [],
   "source": [
    "fluo_t['pred'] = hill_activation_and(x, *popt)\n",
    "\n",
    "actual = fluo_t[['8 h ', 'ara', 'cuma']].pivot('ara', 'cuma')\n",
    "actual.index = aras_rpu #[np.round(i, 2) for i in aras_rpu]\n",
    "actual.columns = cumas_rpu #[np.round(i, 2) for i in ohc14s_rpu]\n",
    "\n",
    "training = fluo_t[['pred', 'ara', 'cuma']].pivot('ara', 'cuma')\n",
    "training.index = aras_rpu #[np.round(i, 2) for i in aras_rpu]\n",
    "training.columns = cumas_rpu #[np.round(i, 2) for i in ohc14s_rpu]"
   ]
  },
  {
   "cell_type": "code",
   "execution_count": 32,
   "id": "bfdf6bdd",
   "metadata": {},
   "outputs": [],
   "source": [
    "actual = fluo_t[['8 h ', 'ara', 'cuma']].pivot('cuma', 'ara')\n",
    "actual.index = aras_rpu #[np.round(i, 2) for i in aras_rpu]\n",
    "actual.columns = cumas_rpu #[np.round(i, 2) for i in ohc14s_rpu]"
   ]
  },
  {
   "cell_type": "code",
   "execution_count": 33,
   "id": "7867ed67",
   "metadata": {},
   "outputs": [
    {
     "data": {
      "text/plain": [
       "Text(0.5, 1.0, 'Experiment')"
      ]
     },
     "execution_count": 33,
     "metadata": {},
     "output_type": "execute_result"
    },
    {
     "data": {
      "image/png": "[encoded data removed]",
      "text/plain": [
       "<Figure size 1000x400 with 3 Axes>"
      ]
     },
     "metadata": {},
     "output_type": "display_data"
    }
   ],
   "source": [
    "f, axs = plt.subplots(1, 2, sharex=False, sharey=False, figsize=(10, 4))\n",
    "axr = axs.ravel()\n",
    "sns.heatmap(actual, annot=True, fmt='.2f', ax=axr[0])\n",
    "axr[0].set_xlabel('Cuma [RPU]')\n",
    "axr[0].set_ylabel('Ara [RPU]')\n",
    "axr[0].set_title('Experiment')"
   ]
  },
  {
   "cell_type": "code",
   "execution_count": null,
   "id": "c57192d9",
   "metadata": {},
   "outputs": [],
   "source": [
    "f, axs = plt.subplots(1, 2, sharex=False, sharey=False, figsize=(10, 4))\n",
    "axr = axs.ravel()\n",
    "sns.heatmap(actual, annot=True, fmt='.2f', ax=axr[0])\n",
    "axr[0].set_xlabel('Cuma [RPU]')\n",
    "axr[0].set_ylabel('Ara [RPU]')\n",
    "axr[0].set_title('Experiment')\n",
    "\n",
    "sns.heatmap(training, annot=True, fmt='.2f', ax=axr[1])\n",
    "axr[1].set_xlabel('Cuma [RPU]')\n",
    "axr[1].set_ylabel('Ara [RPU]')\n",
    "axr[1].set_title('Model training')\n",
    "\n",
    "plt.suptitle('A18')\n",
    "plt.tight_layout()\n",
    "sns.despine()"
   ]
  },
  {
   "cell_type": "code",
   "execution_count": null,
   "id": "a66cc63c",
   "metadata": {},
   "outputs": [],
   "source": [
    "plt.figure(figsize=[10, 6])\n",
    "data = fluo_t[['name', '8 h ', 'pred']].rename(columns={'8 h ': 'actual', 'pred': 'training'}).melt(id_vars='name')\n",
    "sns.barplot(x='name', y='value', hue='variable', data=data)\n",
    "plt.xlabel('Induction states')\n",
    "plt.xticks(ticks=np.arange(36), rotation=90)\n",
    "plt.ylabel('RPU')\n",
    "sns.despine()"
   ]
  },
  {
   "cell_type": "code",
   "execution_count": null,
   "id": "cb23fa52",
   "metadata": {},
   "outputs": [],
   "source": [
    "plt.scatter(np.arange(actual.shape[1]), actual.iloc[5, :], color='orange')\n",
    "plt.scatter(np.arange(actual.shape[1]), actual.iloc[4, :], color='green')\n",
    "plt.scatter(np.arange(actual.shape[1]), actual.iloc[3, :], color='red')\n",
    "plt.scatter(np.arange(actual.shape[1]), actual.iloc[2, :], color='purple')\n",
    "\n",
    "plt.plot(np.arange(training.shape[1]), training.iloc[5, :], color='orange')\n",
    "plt.plot(np.arange(training.shape[1]), training.iloc[4, :], color='green')\n",
    "plt.plot(np.arange(training.shape[1]), training.iloc[3, :], color='red')\n",
    "plt.plot(np.arange(training.shape[1]), training.iloc[2, :], color='purple')\n",
    "#plt.loglog()\n",
    "#plt.yscale('log')\n",
    "sns.despine()"
   ]
  },
  {
   "cell_type": "code",
   "execution_count": null,
   "id": "41a8a6d9",
   "metadata": {},
   "outputs": [],
   "source": [
    "plt.scatter(np.arange(actual.shape[0]), actual.iloc[:, 5], color='orange')\n",
    "plt.scatter(np.arange(actual.shape[0]), actual.iloc[:, 4], color='green')\n",
    "plt.scatter(np.arange(actual.shape[0]), actual.iloc[:, 3], color='red')\n",
    "plt.scatter(np.arange(actual.shape[0]), actual.iloc[:, 2], color='purple')\n",
    "\n",
    "plt.plot(np.arange(training.shape[0]), training.iloc[:, 5], color='orange')\n",
    "plt.plot(np.arange(training.shape[0]), training.iloc[:, 4], color='green')\n",
    "plt.plot(np.arange(training.shape[0]), training.iloc[:, 3], color='red')\n",
    "plt.plot(np.arange(training.shape[0]), training.iloc[:, 2], color='purple')\n",
    "#plt.loglog()\n",
    "#plt.yscale('log')\n",
    "sns.despine()"
   ]
  },
  {
   "cell_type": "code",
   "execution_count": null,
   "id": "a22bbf46",
   "metadata": {},
   "outputs": [],
   "source": [
    "arr_ind1 = np.arange(0, len(aras_rpu), 0.5)\n",
    "arr_ind2 = np.arange(0, len(cumas_rpu), 0.1)\n",
    "x2_, x1_ = np.meshgrid(arr_ind2, np.arange(len(aras_rpu)))\n",
    "x_ = np.vstack((x2_.ravel(), x1_.ravel()))\n",
    "y_ = hill_activation_and(x_, *popt)"
   ]
  },
  {
   "cell_type": "code",
   "execution_count": null,
   "id": "19e4bcbe",
   "metadata": {},
   "outputs": [],
   "source": [
    "df = pd.DataFrame(x_.T)\n",
    "df['y'] = y_\n",
    "training = df.pivot(1, 0)\n",
    "training.index = aras_rpu\n",
    "training.columns = arr_ind2\n",
    "training"
   ]
  },
  {
   "cell_type": "code",
   "execution_count": null,
   "id": "6384df22",
   "metadata": {},
   "outputs": [],
   "source": [
    "plt.plot(training.columns, training.iloc[5, :], color='orange')\n",
    "plt.plot(training.columns, training.iloc[4, :], color='green')\n",
    "plt.plot(training.columns, training.iloc[3, :], color='red')\n",
    "plt.plot(training.columns, training.iloc[2, :], color='purple')\n",
    "#plt.loglog()\n",
    "#plt.xscale('log')\n",
    "sns.despine()"
   ]
  },
  {
   "cell_type": "markdown",
   "id": "brave-nudist",
   "metadata": {},
   "source": [
    "#### New gates"
   ]
  },
  {
   "cell_type": "code",
   "execution_count": null,
   "id": "abroad-special",
   "metadata": {},
   "outputs": [],
   "source": [
    "new_fluos = pd.read_csv('datasets/experiment/028-A65-A191-repeat/fluos-lower-2.csv', index_col='time')\n",
    "new_gates = ['e16x30SspGyrB', 'e32x33NrdJ1']"
   ]
  },
  {
   "cell_type": "code",
   "execution_count": null,
   "id": "laughing-antique",
   "metadata": {},
   "outputs": [],
   "source": [
    "plot_heatmap(new_fluos.iloc[24], new_gates, 1, 2, cumas, aras)"
   ]
  },
  {
   "cell_type": "code",
   "execution_count": null,
   "id": "alike-wrapping",
   "metadata": {},
   "outputs": [],
   "source": [
    "new_gfp = new_fluos[filter(lambda x: x.startswith('positive-control-amp'), new_fluos.columns)].mean(axis=1)\n",
    "new_neg_amp = new_fluos[filter(lambda x: x.startswith('negative-control-amp'), new_fluos.columns)].mean(axis=1)\n",
    "new_neg_kan = new_fluos[filter(lambda x: x.startswith('negative-control-kan'), new_fluos.columns)].mean(axis=1)"
   ]
  },
  {
   "cell_type": "code",
   "execution_count": null,
   "id": "confirmed-antenna",
   "metadata": {},
   "outputs": [],
   "source": [
    "idx = 3 * 8\n",
    "new_fluos_rpu = []\n",
    "for i in range(len(new_gates)):\n",
    "    new_fluos_rpu.append(np.abs((new_fluos[filter(lambda x: x.startswith('{}'.format(new_gates[i])), new_fluos.columns)].iloc[idx] - new_neg_kan.iloc[idx]) / (new_gfp.iloc[idx] - new_neg_amp.iloc[idx])))\n",
    "new_rpus = pd.concat(new_fluos_rpu)"
   ]
  },
  {
   "cell_type": "code",
   "execution_count": null,
   "id": "universal-advertiser",
   "metadata": {},
   "outputs": [],
   "source": [
    "plot_heatmap(new_rpus, new_gates, 1, 2, np.round(cumas_rpu, 2), np.round(aras_rpu, 2))"
   ]
  },
  {
   "cell_type": "code",
   "execution_count": null,
   "id": "regular-viewer",
   "metadata": {},
   "outputs": [],
   "source": [
    "new_hill_params = plot_colormap(new_rpus, new_gates, 1, 2, np.round(cumas_rpu, 2), np.round(aras_rpu, 2))"
   ]
  },
  {
   "cell_type": "code",
   "execution_count": null,
   "id": "logical-learning",
   "metadata": {},
   "outputs": [],
   "source": [
    "new_hill_params"
   ]
  },
  {
   "cell_type": "code",
   "execution_count": null,
   "id": "similar-republic",
   "metadata": {},
   "outputs": [],
   "source": []
  },
  {
   "cell_type": "markdown",
   "id": "every-bernard",
   "metadata": {},
   "source": [
    "#### Import datasets"
   ]
  },
  {
   "cell_type": "code",
   "execution_count": null,
   "id": "convinced-adaptation",
   "metadata": {},
   "outputs": [],
   "source": [
    "fluos = pd.read_csv('datasets/induction_matrix_and/induction_fluos.csv', index_col='time')\n",
    "gates = ['e11x32STPhoRadA', 'e15x32NpuSspS2', 'e16x33NrdA2', 'e20x32gp411', 'e32x30SspGyrB',\n",
    "         'e34x30MjaKlbA', 'e38x32gp418', 'e41x32NrdJ1', 'e42x32STIMPDH1']\n",
    "cumas = [0, 6.25, 12.5, 25, 50, 100]\n",
    "aras = [0, 0.8125, 3.25, 13, 52, 208]"
   ]
  },
  {
   "cell_type": "code",
   "execution_count": null,
   "id": "eligible-flesh",
   "metadata": {},
   "outputs": [],
   "source": [
    "def plot_heatmap(fluos, gates, num_row, num_col, row_lbl, col_lbl):\n",
    "    \n",
    "    f, axs = plt.subplots(num_row, num_col, sharex=False, sharey=False, figsize=(18, num_row*3))\n",
    "    axr = axs.ravel()\n",
    "    for i, ax in enumerate(axr):\n",
    "        if i < len(gates):\n",
    "            gate = gates[i]\n",
    "            fluo = fluos[filter(lambda x: x.startswith(gate), fluos.index)]\n",
    "            \n",
    "            fluo_t = fluo.reset_index().rename(columns={'index': 'gate'})\n",
    "            fluo_t['ara'] = fluo_t['gate'].str[-2]\n",
    "            fluo_t['cuma'] = fluo_t['gate'].str[-1]\n",
    "            fluo_pvt = fluo_t.drop('gate', axis=1).pivot('cuma', 'ara')\n",
    "            fluo_pvt.index = row_lbl\n",
    "            fluo_pvt.columns = col_lbl\n",
    "            \n",
    "            sns.heatmap(fluo_pvt, annot=True, fmt='.2f', ax=ax, cmap='cividis')\n",
    "            ax.set_xlabel('Ara')\n",
    "            ax.set_ylabel('Cuma')\n",
    "            ax.set_title(gate)\n",
    "        else:\n",
    "            ax.set_visible(False)\n",
    "    plt.tight_layout()\n",
    "    plt.show()"
   ]
  },
  {
   "cell_type": "code",
   "execution_count": null,
   "id": "sharing-harmony",
   "metadata": {
    "scrolled": true
   },
   "outputs": [],
   "source": [
    "plot_heatmap(fluos.iloc[24], gates, 5, 2, cumas, aras)"
   ]
  },
  {
   "cell_type": "markdown",
   "id": "french-miller",
   "metadata": {},
   "source": [
    "#### Generate RPU"
   ]
  },
  {
   "cell_type": "code",
   "execution_count": null,
   "id": "informational-horizon",
   "metadata": {},
   "outputs": [],
   "source": [
    "gfp, neg_amp, neg_kan = [], [], []\n",
    "for i in range(1, 6): # because there are 5 plates\n",
    "    #print(fluos[filter(lambda x: x.startswith('positive_control_4AE_{}'.format(i)), fluos.columns)].mean(axis=1))\n",
    "    gfp.append(fluos[filter(lambda x: x.startswith('positive_control_4AE_{}'.format(i)), fluos.columns)].mean(axis=1))\n",
    "    neg_amp.append(fluos[filter(lambda x: x.startswith('negative_control_4AE_{}'.format(i)), fluos.columns)].mean(axis=1))\n",
    "    neg_kan.append(fluos[filter(lambda x: x.startswith('negative_control_3K3_{}'.format(i)), fluos.columns)].mean(axis=1))"
   ]
  },
  {
   "cell_type": "code",
   "execution_count": null,
   "id": "floating-reporter",
   "metadata": {},
   "outputs": [],
   "source": [
    "idx = 3 * 8\n",
    "fluos_rpu = []\n",
    "for i in range(len(gates)):\n",
    "    fluos_rpu.append(np.abs((fluos[filter(lambda x: x.startswith('{}'.format(gates[i])), fluos.columns)].iloc[idx] - neg_kan[int(i/2)].iloc[idx]) / (gfp[int(i/2)].iloc[idx] - neg_amp[int(i/2)].iloc[idx])))\n",
    "rpus = pd.concat(fluos_rpu)"
   ]
  },
  {
   "cell_type": "code",
   "execution_count": null,
   "id": "bizarre-cycling",
   "metadata": {},
   "outputs": [],
   "source": [
    "#cumas_rpu = [0.008406122909455404, 0.01691033499518672, 0.0419429064630855, 0.13469857887527883, 0.41592994783178494, 0.9254681484868258]\n",
    "aras_rpu = [3.2872421314081804e-15, 0.00434816732064938, 0.24818419739411732, 6.256329570408148, 10.686683759188524, 10.81787045340335]\n",
    "#aras_rpu = [0.047939271361185865, 6.176181163335466, 16.23080022197073, 16.87552797718598, 16.891198083491762, 16.89156436110603]\n",
    "cumas_rpu = [5.160308727625551e-22, 0.1503530957891216, 0.30298032564481925, 0.5678111055145855, 0.9488899036690079, 1.371938809116961]\n",
    "#aras_rpu = [0.018662727197652017, 3.178003346532333, 12.947615590104748, 16.501814366047896, 16.823954625777105, 16.846887772258317]"
   ]
  },
  {
   "cell_type": "code",
   "execution_count": null,
   "id": "molecular-retention",
   "metadata": {},
   "outputs": [],
   "source": [
    "cumas_rpu = [2.1140508404516445e-16, 0.013913767421852795, 0.04708753302668632, 0.1481921474634383, 0.38432925220642106, 0.706446628596465]\n",
    "aras_rpu = [1.0957813643749393e-17, 1.2106667891676, 4.633309896886311, 7.370992838892073, 7.99133502045251, 8.080680676620355]"
   ]
  },
  {
   "cell_type": "code",
   "execution_count": null,
   "id": "incident-sight",
   "metadata": {},
   "outputs": [],
   "source": [
    "plot_heatmap(rpus, gates, 3, 3, np.round(cumas_rpu, 2), np.round(aras_rpu, 2))"
   ]
  },
  {
   "cell_type": "code",
   "execution_count": null,
   "id": "cooked-victorian",
   "metadata": {},
   "outputs": [],
   "source": [
    "plot_heatmap(rpus, gates, 3, 3, np.round(cumas_rpu, 2), np.round(aras_rpu, 2))"
   ]
  },
  {
   "cell_type": "markdown",
   "id": "functioning-thailand",
   "metadata": {},
   "source": [
    "#### Static Models"
   ]
  },
  {
   "cell_type": "code",
   "execution_count": null,
   "id": "mathematical-genre",
   "metadata": {},
   "outputs": [],
   "source": [
    "#objective function\n",
    "def computeSSE(ts, data, p0, bounds, func):\n",
    "    \n",
    "    popt, _ = curve_fit(func, ts, data, p0=p0, bounds=bounds)\n",
    "    sim = hill_activation_and(ts, *popt)\n",
    "    \n",
    "    return sum([(act - pred)**2 for act, pred in zip(data, sim)])\n",
    "\n",
    "#generate random numbers from a uniform distribution for the initial guesses\n",
    "def randomSearch(iterations, ts, data, bounds, func):\n",
    "    \n",
    "    init_guess = []\n",
    "    for k in tqdm(range(iterations)):\n",
    "        p0 = [np.random.uniform(low=low, high=high) for low, high in zip(bounds[0], bounds[1])]\n",
    "        error = computeSSE(ts, data, p0, bounds, func)\n",
    "        init_guess.append((error, p0))\n",
    "    return sorted(init_guess)[0][1]"
   ]
  },
  {
   "cell_type": "code",
   "execution_count": null,
   "id": "turkish-scientist",
   "metadata": {},
   "outputs": [],
   "source": [
    "#complete\n",
    "def hill_activation(x, K, n, ymin, ymax):\n",
    "    \n",
    "    return ymin + (ymax - ymin) * (x**n / (K**n + x**n))\n",
    "\n",
    "def hill_activation_and(x, K1, K2, n1, n2, ymin1, ymin2, ymax1, ymax2):\n",
    "    \n",
    "    x1, x2 = x\n",
    "    return hill_activation(x1, K1, n1, ymin1, ymax1) * hill_activation(x2, K2, n2, ymin2, ymax2)"
   ]
  },
  {
   "cell_type": "code",
   "execution_count": null,
   "id": "tender-sound",
   "metadata": {
    "scrolled": true
   },
   "outputs": [],
   "source": [
    "def plot_colormap(fluos, gates, num_row, num_col, ind1, ind2):\n",
    "    \n",
    "    hill_params = {}\n",
    "    f, axs = plt.subplots(num_row, num_col, sharex=False, sharey=False, figsize=(18, num_row*3))\n",
    "    axr = axs.ravel()\n",
    "    for i, ax in enumerate(axr):\n",
    "        if i < len(gates):\n",
    "            gate = gates[i]\n",
    "            fluo = fluos[filter(lambda x: x.startswith(gate), fluos.index)]\n",
    "            #fluo_t = fluo.reset_index().rename(columns={'index': 'gate'})\n",
    "            #fluo_t['cuma'] = fluo_t['gate'].str[-2]\n",
    "            #fluo_t['ara'] = fluo_t['gate'].str[-1]\n",
    "            #fluo_pvt = fluo_t.drop('gate', axis=1).pivot('cuma', 'ara')\n",
    "            #fluo_pvt.index = row_lbl\n",
    "            #fluo_pvt.columns = col_lbl\n",
    "            #sns.heatmap(fluo_pvt, annot=True, fmt='.2f', ax=ax, cmap='cividis')\n",
    "            \n",
    "            #print(fluo_t[])\n",
    "            #break\n",
    "            \n",
    "            x1, x2 = np.meshgrid(ind1, ind2)\n",
    "            x = np.vstack((x1.ravel(), x2.ravel()))\n",
    "            y = fluo.values\n",
    "            #init_guess = [10, 10, 1, 1, y.min(), y.min(), y.max(), y.max()]\n",
    "            gate_bounds = [[0, 0, 0, 0, 0, 0, 0, 0],\n",
    "                           [1e3, 1e3, 4, 4, y.min()+0.2*y.min(), y.min()+0.2*y.min(), y.max()+0.5*y.max(), y.max()+0.5*y.max()]]\n",
    "            init_guess = randomSearch(30, x, y, gate_bounds, hill_activation_and)\n",
    "            popt, pcov = curve_fit(hill_activation_and, x, y, p0=init_guess, bounds=gate_bounds)\n",
    "            \n",
    "            y_pred = hill_activation_and(x, *popt)\n",
    "            #print(gate, popt, r2_score(y, y_pred))\n",
    "            hill_params[gate] = popt\n",
    "            \n",
    "            arr_ind1 = np.arange(0, np.max(ind1), 0.05)\n",
    "            arr_ind2 = np.arange(0, np.max(ind2), 0.05)\n",
    "            x1_, x2_ = np.meshgrid(arr_ind1, arr_ind2)\n",
    "            x_ = np.vstack((x1_.ravel(), x2_.ravel()))\n",
    "            y_pred_ = hill_activation_and(x_, *popt)\n",
    "            \n",
    "            cf = ax.pcolormesh(x2_, x1_, y_pred_.reshape(-1, len(arr_ind1)), cmap='viridis')\n",
    "            f.colorbar(cf, ax=ax)\n",
    "            \n",
    "            #sns.heatmap(y_pred_.reshape(-1, len(arr_ind1)), ax=ax)\n",
    "            \n",
    "            #plt.clim(0, 5)\n",
    "            #ax.axvline(h, color='red')\n",
    "            #ax.axhline(h, color='red')\n",
    "            \n",
    "            #ax.axvline(0.01866272721909743, color='red')\n",
    "            #ax.axvline(1.365845205649679e-12, color='red')\n",
    "            #ax.axvline(3.575023694350424e-27, color='red')\n",
    "            #ax.axvline(2.9144583244448006e-14, color='red')\n",
    "            #ax.axvline(1.302244740421529, color='red')\n",
    "            #ax.axvline(1.8474063001429318e-17, color='red')\n",
    "            #ax.axvline(0.1215231788079449, color='red')\n",
    "            \n",
    "            #ax.set_xlim([0, 2])\n",
    "            #ax.set_ylim([0, 0.5])\n",
    "            \n",
    "            ax.set_xlabel('Ara')\n",
    "            ax.set_ylabel('Cuma')\n",
    "            ax.set_title(gate)\n",
    "        else:\n",
    "            ax.set_visible(False)\n",
    "    plt.tight_layout()\n",
    "    plt.show()\n",
    "    \n",
    "    return hill_params\n",
    "\n",
    "hill_params = plot_colormap(rpus, gates, 3, 3, np.round(cumas_rpu, 2), np.round(aras_rpu, 2))"
   ]
  },
  {
   "cell_type": "code",
   "execution_count": null,
   "id": "medical-conjunction",
   "metadata": {},
   "outputs": [],
   "source": [
    "hill_params"
   ]
  },
  {
   "cell_type": "code",
   "execution_count": null,
   "id": "stylish-delaware",
   "metadata": {},
   "outputs": [],
   "source": [
    "def plot_prediction(fluos, gates, row, col, hill_params, cumas, aras):\n",
    "    \n",
    "    x1, x2 = np.meshgrid(cumas, aras)\n",
    "    x = np.vstack((x1.ravel(), x2.ravel()))\n",
    "    \n",
    "    f, axs = plt.subplots(row, col, sharex=False, sharey=False, figsize=(16, 5))\n",
    "    axr = axs.ravel()\n",
    "    for i, ax in enumerate(axr):\n",
    "        if i < len(gates):\n",
    "            gate = gates[i]\n",
    "            popt = hill_params[gate]\n",
    "            fluo = fluos[filter(lambda x: x.startswith(gate), fluos.index)]\n",
    "            y = fluo.values\n",
    "            \n",
    "            pred = hill_activation_and(x, *popt)\n",
    "            sns.regplot(y, pred, ax=ax, label='R2={}'.format(round(r2_score(y, pred), 2)))\n",
    "            ax.set_title(gates[i])\n",
    "            ax.set_xlabel('Experiment')\n",
    "            ax.set_ylabel('Predicted')\n",
    "            ax.legend(loc=4)\n",
    "            sns.despine()\n",
    "        else:\n",
    "            ax.set_visible(False)\n",
    "    plt.tight_layout()\n",
    "    \n",
    "plot_prediction(rpus, gates, 2, 5, hill_params, np.round(cumas_rpu, 2), np.round(aras_rpu, 2))"
   ]
  },
  {
   "cell_type": "markdown",
   "id": "fiscal-craps",
   "metadata": {},
   "source": [
    "### No regulators"
   ]
  },
  {
   "cell_type": "code",
   "execution_count": null,
   "id": "imperial-cisco",
   "metadata": {},
   "outputs": [],
   "source": [
    "cumas_rpu = [4.351624888479863e-17, 0.12836646443345376, 0.4554069181682603, 1.4320915855505334, 3.36251583462493, 5.260842521395112]\n",
    "aras_rpu = [0.039068156451732144, 4.874070477308016, 13.399205481456802, 14.060790558956999, 14.079395648916492, 14.07989419214939]"
   ]
  },
  {
   "cell_type": "code",
   "execution_count": null,
   "id": "stuffed-balloon",
   "metadata": {},
   "outputs": [],
   "source": [
    "plot_heatmap(rpus, gates, 3, 3, np.round(cumas_rpu, 2), np.round(aras_rpu, 2))"
   ]
  },
  {
   "cell_type": "code",
   "execution_count": null,
   "id": "signal-oklahoma",
   "metadata": {},
   "outputs": [],
   "source": [
    "hill_params = plot_colormap(rpus, gates, 3, 3, np.round(cumas_rpu, 2), np.round(aras_rpu, 2))"
   ]
  },
  {
   "cell_type": "code",
   "execution_count": null,
   "id": "bronze-permission",
   "metadata": {},
   "outputs": [],
   "source": [
    "hill_params"
   ]
  },
  {
   "cell_type": "code",
   "execution_count": null,
   "id": "marine-cornell",
   "metadata": {},
   "outputs": [],
   "source": [
    "plot_prediction(rpus, gates, 2, 5, hill_params, np.round(cumas_rpu, 2), np.round(aras_rpu, 2))"
   ]
  },
  {
   "cell_type": "code",
   "execution_count": null,
   "id": "unnecessary-paradise",
   "metadata": {},
   "outputs": [],
   "source": []
  },
  {
   "cell_type": "code",
   "execution_count": null,
   "id": "about-memphis",
   "metadata": {},
   "outputs": [],
   "source": []
  },
  {
   "cell_type": "code",
   "execution_count": null,
   "id": "parental-ready",
   "metadata": {},
   "outputs": [],
   "source": []
  },
  {
   "cell_type": "code",
   "execution_count": null,
   "id": "occupational-subsection",
   "metadata": {},
   "outputs": [],
   "source": []
  },
  {
   "cell_type": "code",
   "execution_count": null,
   "id": "according-package",
   "metadata": {},
   "outputs": [],
   "source": []
  },
  {
   "cell_type": "code",
   "execution_count": null,
   "id": "unlike-brown",
   "metadata": {},
   "outputs": [],
   "source": []
  },
  {
   "cell_type": "code",
   "execution_count": null,
   "id": "municipal-government",
   "metadata": {},
   "outputs": [],
   "source": []
  },
  {
   "cell_type": "code",
   "execution_count": null,
   "id": "opening-arabic",
   "metadata": {},
   "outputs": [],
   "source": []
  },
  {
   "cell_type": "code",
   "execution_count": null,
   "id": "authorized-joining",
   "metadata": {},
   "outputs": [],
   "source": []
  },
  {
   "cell_type": "code",
   "execution_count": null,
   "id": "hawaiian-treasury",
   "metadata": {},
   "outputs": [],
   "source": [
    "arr_ind1 = np.arange(0, np.max(cumas_rpu), 0.005)\n",
    "arr_ind2 = np.arange(0, np.max(aras_rpu), 0.05)\n",
    "x1_, x2_ = np.meshgrid(arr_ind1, arr_ind2)\n",
    "x_ = np.vstack((x1_.ravel(), x2_.ravel()))\n",
    "y_pred = hill_activation_and(x_, *hill_params['e34x30MjaKlbA'])\n",
    "cf = plt.pcolormesh(x2_, x1_, y_pred.reshape(-1, len(arr_ind1)), cmap='viridis')\n",
    "plt.colorbar(cf)\n",
    "\n",
    "half_point = y_pred.max()/2\n",
    "y_err = [np.abs(i-half_point) for i in y_pred]\n",
    "min_err = y_pred[y_err.index(min(y_err))]\n",
    "idx = (np.where(y_pred.reshape(-1, len(arr_ind1))==min_err)[1][0])\n",
    "plt.axvline(x2_[idx][0], color='red')\n",
    "print(half_point)\n",
    "plt.show()"
   ]
  },
  {
   "cell_type": "code",
   "execution_count": null,
   "id": "4ff1f7e1",
   "metadata": {},
   "outputs": [],
   "source": [
    "x2_[5][0]"
   ]
  },
  {
   "cell_type": "code",
   "execution_count": null,
   "id": "informal-motion",
   "metadata": {},
   "outputs": [],
   "source": [
    "hill_params = plot_colormap(rpus, gates, 3, 3, np.round(cumas_rpu, 2), np.round(aras_rpu, 2))"
   ]
  },
  {
   "cell_type": "code",
   "execution_count": null,
   "id": "criminal-prime",
   "metadata": {},
   "outputs": [],
   "source": [
    "def plot_prediction(fluos, gates, row, col, hill_params, cumas, aras):\n",
    "    \n",
    "    x1, x2 = np.meshgrid(cumas, aras)\n",
    "    x = np.vstack((x1.ravel(), x2.ravel()))\n",
    "    \n",
    "    f, axs = plt.subplots(row, col, sharex=False, sharey=False, figsize=(16, 5))\n",
    "    axr = axs.ravel()\n",
    "    for i, ax in enumerate(axr):\n",
    "        if i < len(gates):\n",
    "            gate = gates[i]\n",
    "            popt = hill_params[gate]\n",
    "            fluo = fluos[filter(lambda x: x.startswith(gate), fluos.index)]\n",
    "            y = fluo.values\n",
    "            \n",
    "            pred = hill_activation_and(x, *popt)\n",
    "            sns.regplot(y, pred, ax=ax, label='R2={}'.format(round(r2_score(y, pred), 2)))\n",
    "            ax.set_title(gates[i])\n",
    "            ax.set_xlabel('Experiment')\n",
    "            ax.set_ylabel('Predicted')\n",
    "            ax.legend(loc=4)\n",
    "            sns.despine()\n",
    "        else:\n",
    "            ax.set_visible(False)\n",
    "    plt.tight_layout()\n",
    "    \n",
    "plot_prediction(rpus, gates, 2, 5, hill_params, np.round(cumas_rpu, 2), np.round(aras_rpu, 2))"
   ]
  },
  {
   "cell_type": "markdown",
   "id": "chief-steps",
   "metadata": {},
   "source": [
    "#### Modeling a Single Gate"
   ]
  },
  {
   "cell_type": "code",
   "execution_count": null,
   "id": "opened-methodology",
   "metadata": {},
   "outputs": [],
   "source": [
    "#complete\n",
    "real_data = []\n",
    "predicted_data = []\n",
    "\n",
    "x1, x2 = np.meshgrid(cumas_rpu, aras_rpu)\n",
    "x = np.vstack((x1.ravel(), x2.ravel()))\n",
    "\n",
    "def plot_hill_equation(fluos, gates, num_row, num_col, t=600):\n",
    "    \n",
    "    f, axs = plt.subplots(num_row, num_col, sharex=False, sharey=False, figsize=(14, num_row*4))\n",
    "    #axr = axs.ravel()\n",
    "    for i, gate in enumerate(gates):\n",
    "        \n",
    "        fluo = fluos[filter(lambda x: x.startswith(gate), fluos.index)]\n",
    "        fluo_t = fluo.transpose().reset_index().rename(columns={'index': 'gate'})\n",
    "        fluo_t['cuma'] = fluo_t['gate'].str[-2]\n",
    "        fluo_t['ara'] = fluo_t['gate'].str[-1]\n",
    "        #fluo_pvt = fluo_t.drop('gate', axis=1).pivot('cuma', 'ara', 1440)\n",
    "\n",
    "        y = fluo_t[t]\n",
    "        h = y.max()-y.min()\n",
    "        init_guess = [10, 10, 1, 1, y.min(), y.min(), y.max(), y.max()]\n",
    "        gate_bounds = [[1, 1, 1, 1, 0, 0, 0, 0],\n",
    "                       [1e4, 1e4, 5, 5, y.min()+0.1*y.min(), y.min()+0.1*y.min(), y.max()+0.2*y.max(), y.max()+0.2*y.max()]]\n",
    "        #init_guess = randomSearch(30, len(gate_bounds[0]), x, y, gate_bounds)\n",
    "        \n",
    "        popt, pcov = curve_fit(hill_activation_and, x, y, p0=init_guess, bounds=gate_bounds)\n",
    "        \n",
    "        real_data.append(y.values)\n",
    "        predicted_data.append(hill_activation_and(x, *popt))\n",
    "        \n",
    "        #print(gate, popt)\n",
    "        \n",
    "        fluo_pvt = fluo_t.drop('gate', axis=1).pivot('cuma', 'ara', t)\n",
    "        fluo_pvt.index = [np.round(c, 2) for c in cumas_rpu]\n",
    "        fluo_pvt.columns = [np.round(a, 2) for a in aras_rpu]\n",
    "        sns.heatmap(fluo_pvt, annot=True, fmt='.2f', ax=axs[i, 0])\n",
    "        \n",
    "        #cf = axs[i, 0].pcolormesh(x1, x2, y.values.reshape(-1, 6), cmap='afmhot')\n",
    "        #f.colorbar(cf, ax=axs[i, 0])\n",
    "        axs[i, 0].set_xlabel('Cuma')\n",
    "        axs[i, 0].set_ylabel('Ara')\n",
    "        axs[i, 0].set_title(gate)\n",
    "        #cf = axs[i, 1].pcolormesh(x1, x2, hill_activation_and(x, *popt).reshape(-1, 6), cmap='afmhot')\n",
    "        #f.colorbar(cf, ax=axs[i, 1])\n",
    "        \n",
    "        y_hat = hill_activation_and(x, *popt)\n",
    "        print(gate, popt)\n",
    "        dy_hat = pd.DataFrame(pd.Series(y_hat, name='y_hat'))\n",
    "        dy_hat['cuma'] = fluo_t['cuma']\n",
    "        dy_hat['ara'] = fluo_t['ara']\n",
    "        yhat_pvt = dy_hat.pivot('cuma', 'ara', 'y_hat')\n",
    "        yhat_pvt.index = [np.round(c, 2) for c in cumas_rpu]\n",
    "        yhat_pvt.columns = [np.round(a, 2) for a in aras_rpu]\n",
    "        \n",
    "        sns.heatmap(yhat_pvt, annot=True, fmt='.2f', ax=axs[i, 1])\n",
    "        \n",
    "        axs[i, 1].set_xlabel('Cuma')\n",
    "        axs[i, 1].set_ylabel('Ara')\n",
    "        axs[i, 1].set_title(gate)\n",
    "        \n",
    "    plt.tight_layout()\n",
    "    plt.show()\n",
    "    \n",
    "plot_hill_equation(rpus, gates, 9, 2)"
   ]
  },
  {
   "cell_type": "code",
   "execution_count": null,
   "id": "conditional-january",
   "metadata": {},
   "outputs": [],
   "source": [
    "hill_params = {\n",
    "    'e11x32STPhoRadA': [78.88757093255623, 13.423008910592088, 0.06750072135001235, 1.6087509603668955, 2.784245477923627, 0.31393617048589656, 5.893511281459714, 7.640639282598571],\n",
    "    'e15x32NpuSspS2': [161.72360792194488, 42.22139131099884, 3.4464354202384095, 1.8800531362253823, 1.4684533238357385, 0.00615977819222413, 0.17478411118449844, 2.3896879847149957],\n",
    "    'e16x33NrdA2': [0.06667890526878588, 17.489173790194126, 1.629379603920326, 3.3825169891085607, 0.0924586810761503, 0.012970301242177351, 4.883669391506718, 3.1393795603137873],\n",
    "    'e20x32gp411': [156.47926227589696, 3.27145504457037, 0.1993818805303378, 1.3127871275197236, 0.6543687015953281, 0.030066033935069236, 4.994020106948165, 2.397995876040257],\n",
    "    'e32x30SspGyrB': [29.115796033435117, 13.282145271696637, 0.17150169903483523, 4.4706534361172965, 0.9074242149763572, 0.05992322196815236, 4.594477595477401, 5.430775818547262],\n",
    "    'e34x30MjaKlbA': [63.40240087241315, 12.585642653598384, 0.4049285326646396, 5.505373783820655, 0.14923511220024105, 0.24580246176832277, 2.808119136718859, 4.978363038236083],\n",
    "    'e38x32gp418': [0.08036169728356057, 25.02984462636371, 2.9450169512324167, 1.5105557004035912, 0.5537568195542529, 0.011498806155622848, 1.8177940601768499, 2.3465260616139325],\n",
    "    'e41x32NrdJ1': [91.61690207014269, 9.613173708802204, 0.19604072857578225, 4.49429075998229, 0.2633101293644491, 0.5478652267796729, 2.451050770893331, 3.742884762485401],\n",
    "    'e42x32STIMPDH1': [63.191093905390304, 22.03854650130675, 0.3783875188853484, 1.8773027662146493, 0.26438112540855013, 0.23387627861636953, 3.7897947944862724, 4.004964003363907]\n",
    "}"
   ]
  },
  {
   "cell_type": "code",
   "execution_count": null,
   "id": "precise-export",
   "metadata": {},
   "outputs": [],
   "source": [
    "hill_params = {\n",
    "    'e11x32STPhoRadA': [1.00000000e+00, 4.61903689e+01, 1.00000000e+00, 1.24264136e+00,\n",
    "     6.58271567e-05, 6.58271547e-05, 5.82677024e+00, 5.82677027e+00],\n",
    "    'e15x32NpuSspS2': [1.00000000e+00, 4.31811340e+00, 1.00000000e+00, 5.00000000e+00,\n",
    "     4.32578458e-04, 2.26057479e-04, 7.83945013e-01, 7.83945013e-01],\n",
    "    'e16x33NrdA2': [1.00000000e+00, 2.00042563e+01, 1.00000000e+00, 5.00000000e+00,\n",
    "     1.97194788e-03, 1.97194788e-03, 5.18562536e+00, 5.18562536e+00],\n",
    "    'e20x32gp411': [1.00000000e+00, 5.75626011e+00, 1.00000000e+00, 1.00000000e+00,\n",
    "     6.63951643e-47, 6.35405428e-03, 2.92437918e+00, 2.24162243e+00],\n",
    "    'e32x30SspGyrB': [1.00000000e+00, 1.98898429e+01, 1.00000000e+00, 5.00000000e+00,\n",
    "     9.49640288e-03, 9.49640288e-03, 4.40624314e+00, 4.40624314e+00],\n",
    "    'e34x30MjaKlbA': [1.00000000e+00, 1.71615282e+01, 1.00000000e+00, 5.00000000e+00,\n",
    "     1.07303987e-02, 1.60662491e-14, 2.50722595e+00, 2.50722595e+00],\n",
    "    'e38x32gp418': [1.,         5.67659974, 1.,        1.81776222, 0.0108867,  0.0108867,\n",
    "     1.691971,   1.691971  ],\n",
    "    'e41x32NrdJ1': [1.00000000e+00, 1.67517917e+01, 1.00000000e+00, 5.00000000e+00,\n",
    "     7.69138489e-03, 3.03973228e-03, 2.58100461e+00, 2.58100461e+00],\n",
    "    'e42x32STIMPDH1': [1.00000000e+00, 1.52172822e+01, 1.00000000e+00, 5.00000000e+00,\n",
    "     2.96954423e-03, 2.96954423e-03, 2.05393704e+00, 2.05393704e+00]\n",
    "}"
   ]
  },
  {
   "cell_type": "code",
   "execution_count": null,
   "id": "agricultural-crazy",
   "metadata": {},
   "outputs": [],
   "source": [
    "#complete\n",
    "#1440\n",
    "f, axs = plt.subplots(2, 5, sharex=False, sharey=False, figsize=(16, 5))\n",
    "axr = axs.ravel()\n",
    "for i, ax in enumerate(axr):\n",
    "    if i < len(gates):\n",
    "        sns.regplot(real_data[i].ravel(), predicted_data[i].ravel(), ax=ax, label='R2={}'.format(round(r2_score(real_data[i].ravel(), predicted_data[i].ravel()), 2)))\n",
    "        #print(np.corrcoef(real_data[i].ravel(), predicted_data[i].ravel())[0][1])\n",
    "        print(r2_score(real_data[i].ravel(), predicted_data[i].ravel()))\n",
    "        ax.set_title(gates[i])\n",
    "        ax.set_xlabel('Experiment')\n",
    "        ax.set_ylabel('Predicted')\n",
    "        ax.legend(loc=4)\n",
    "        sns.despine()\n",
    "    else:\n",
    "        ax.set_visible(False)\n",
    "    plt.tight_layout()"
   ]
  },
  {
   "cell_type": "markdown",
   "id": "mounted-india",
   "metadata": {},
   "source": [
    "### Multiple Datapoints Individually"
   ]
  },
  {
   "cell_type": "code",
   "execution_count": null,
   "id": "recovered-hampshire",
   "metadata": {},
   "outputs": [],
   "source": [
    "#without sampling\n",
    "real_datas = []\n",
    "predicted_datas = []\n",
    "popt_datas = []\n",
    "\n",
    "for gate in tqdm(gates):\n",
    "    \n",
    "    fluo = fluos[filter(lambda x: x.startswith(gate), fluos.columns)]\n",
    "    fluo_t = fluo.transpose().reset_index().rename(columns={'index': 'gate'})\n",
    "    real_data = []\n",
    "    predicted_data = []\n",
    "    popt_data = []\n",
    "\n",
    "    for i in range(0, 1460, 20):\n",
    "        \n",
    "        y = fluo_t[i]\n",
    "        y[y < 0] = 0.01 #replace negative values\n",
    "        \n",
    "        init_guess = [10, 10, 1, 1, y.min(), y.min(), y.max(), y.max()]\n",
    "        gate_bounds = [[1, 1, 1, 1, 0, 0, 0, 0],\n",
    "                       [1e4, 1e4, 6, 6, y.min()+0.1*y.min(), y.min()+0.1*y.min(), y.max()+0.2*y.max(), y.max()+0.2*y.max()]]\n",
    "        #init_guess = randomSearch(30, len(gate_bounds[0]), x, y, gate_bounds)\n",
    "        \n",
    "        popt, pcov = curve_fit(hill_activation_and, x, y, p0=init_guess, bounds=gate_bounds)\n",
    "        popt_data.append(popt)\n",
    "        real_data.append(y.values)\n",
    "        predicted_data.append(hill_activation_and(x, *popt))\n",
    "    \n",
    "    popt_datas.append(popt_data)\n",
    "    real_datas.append(np.array(real_data).ravel())\n",
    "    predicted_datas.append(np.array(predicted_data).ravel())"
   ]
  },
  {
   "cell_type": "code",
   "execution_count": null,
   "id": "given-makeup",
   "metadata": {},
   "outputs": [],
   "source": [
    "#complete\n",
    "f, axs = plt.subplots(2, 5, sharex=False, sharey=False, figsize=(16, 5))\n",
    "axr = axs.ravel()\n",
    "for i, ax in enumerate(axr):\n",
    "    if i < len(gates):\n",
    "        r2 = 'R\\u00b2={:.2f}'.format(r2_score(real_datas[i], predicted_datas[i]))\n",
    "        ax.scatter(real_datas[i], predicted_datas[i], s=5, label=r2)\n",
    "        ax.set_title(gates[i])\n",
    "        ax.set_xlabel('Experiment')\n",
    "        ax.set_ylabel('Predicted')\n",
    "        ax.legend(loc=4)\n",
    "        sns.despine()\n",
    "    else:\n",
    "        ax.set_visible(False)\n",
    "    plt.tight_layout()"
   ]
  },
  {
   "cell_type": "code",
   "execution_count": null,
   "id": "outdoor-group",
   "metadata": {},
   "outputs": [],
   "source": [
    "#with sampling, somehow it does not work\n",
    "real_datas = []\n",
    "predicted_datas = []\n",
    "popt_datas = []\n",
    "\n",
    "for gate in gates:\n",
    "    \n",
    "    print(gate)\n",
    "    fluo = rpus[filter(lambda x: x.startswith(gate), rpus.index)]\n",
    "    fluo_t = fluo.transpose().reset_index().rename(columns={'index': 'gate'})\n",
    "    real_data = []\n",
    "    predicted_data = []\n",
    "    popt_data = []\n",
    "\n",
    "    y = fluo_t[600]\n",
    "    y[y < 0] = 0.01 #replace negative values\n",
    "    h = y.max() - y.min()\n",
    "\n",
    "    #init_guess = [10, 10, 1, 1, y.min(), y.min(), y.max(), y.max()]\n",
    "    gate_bounds = [[1, 1, 1, 1, 0, 0, 0, 0],\n",
    "                   [1e4, 1e4, 6, 6, y.min()+h, y.min()+h, y.max()+h, y.max()+h]]\n",
    "    init_guess = randomSearch(20, x, y, gate_bounds, hill_activation_and)\n",
    "\n",
    "    popt, pcov = curve_fit(hill_activation_and, x, y, p0=init_guess, bounds=gate_bounds, maxfev=5000)\n",
    "    popt_data.append(popt)\n",
    "    real_data.append(y.values)\n",
    "    predicted_data.append(hill_activation_and(x, *popt))\n",
    "    \n",
    "    popt_datas.append(popt_data)\n",
    "    real_datas.append(np.array(real_data).ravel())\n",
    "    predicted_datas.append(np.array(predicted_data).ravel())"
   ]
  },
  {
   "cell_type": "code",
   "execution_count": null,
   "id": "smooth-thousand",
   "metadata": {},
   "outputs": [],
   "source": [
    "param_names = ['K1', 'K2', 'n1', 'n2', 'ymin1', 'ymin2', 'ymax1', 'ymax2']\n",
    "df_params = pd.DataFrame()\n",
    "for i in range(len(gates)):\n",
    "    temp = pd.DataFrame(popt_datas[i], columns=param_names)\n",
    "    temp['gate'] = gates[i]\n",
    "    df_params = df_params.append(temp)"
   ]
  },
  {
   "cell_type": "code",
   "execution_count": null,
   "id": "sunrise-mailman",
   "metadata": {},
   "outputs": [],
   "source": [
    "#complete\n",
    "f, axs = plt.subplots(2, 4, sharex=False, sharey=False, figsize=(16, 8))\n",
    "axr = axs.ravel()\n",
    "for i, ax in enumerate(axr):\n",
    "    if i < len(param_names):\n",
    "        single_param = df_params[['gate', param_names[i]]]\n",
    "        sns.boxplot(x='gate', y=param_names[i], data=single_param, showfliers=False, ax=ax)\n",
    "        ax.set_title(param_names[i])\n",
    "        ax.set_xticklabels(gates, rotation=90)\n",
    "        sns.despine()\n",
    "    else:\n",
    "        ax.set_visible(False)\n",
    "    plt.tight_layout()"
   ]
  },
  {
   "cell_type": "code",
   "execution_count": null,
   "id": "prepared-marble",
   "metadata": {},
   "outputs": [],
   "source": [
    "popt_datas"
   ]
  },
  {
   "cell_type": "markdown",
   "id": "colored-lindsay",
   "metadata": {},
   "source": [
    "#### Fitting at the Same Time"
   ]
  },
  {
   "cell_type": "code",
   "execution_count": null,
   "id": "fatal-thanksgiving",
   "metadata": {},
   "outputs": [],
   "source": [
    "def test_multiple():\n",
    "    \n",
    "    def hill_activation_simplified(x, K, n, ymin):\n",
    "    \n",
    "        return ymin + (1 - ymin) * (x**n / (K**n + x**n))\n",
    "    \n",
    "    def hill_activation_simple(x, K1, K2, n1, n2, ymin1, ymin2):\n",
    "    \n",
    "        x1, x2 = x\n",
    "        return hill_activation_simplified(x1, K1, n1, ymin1) * hill_activation_simplified(x2, K2, n2, ymin2)\n",
    "    \n",
    "    def hill_activation_combined(x, K1, K2, n1, n2, ymin1, ymin2):\n",
    "        \n",
    "        result = []\n",
    "        for i in range(start, end, gap):\n",
    "            temp = hill_activation_simple(x, K1, K2, n1, n2, ymin1, ymin2)\n",
    "            result = np.append(result, temp)   \n",
    "        return result\n",
    "    \n",
    "    x1, x2 = np.meshgrid(cumas, aras)\n",
    "    x = np.vstack((x1.ravel(), x2.ravel()))\n",
    "    f_params = []\n",
    "    \n",
    "    #gate = 'e20x32gp411'\n",
    "    for gate in tqdm(gates):\n",
    "        \n",
    "        fluo = fluos[filter(lambda x: x.startswith(gate), fluos.columns)]\n",
    "        fluo_t = fluo.transpose().reset_index().rename(columns={'index': 'gate'})\n",
    "\n",
    "        y = pd.Series()\n",
    "        start, end, gap = 0, 1460, 20\n",
    "        dp = int((end-start)/gap)\n",
    "        for t in range(start, end, gap):\n",
    "            y_ = fluo_t[t]\n",
    "            y_[y_ < 0] = 0.01 #replace negative values\n",
    "            y_ = y_ / y_.max()\n",
    "            y = y.append(y_)\n",
    "        '''\n",
    "        minmax_init = dp * [y.min(), y.min(), y.max(), y.max()]\n",
    "        minmax_low = dp * [0, 0, 0, 0]\n",
    "        minmax_up = dp * [y.min()+0.1*y.min(), y.min()+0.1*y.min(), y.max()+0.2*y.max(), y.max()+0.2*y.max()]\n",
    "        init_guess = np.append([10, 10, 1, 1], minmax_init)\n",
    "        gate_bounds = [np.append([1, 1, 1, 1], minmax_low), np.append([1e5, 1e5, 7, 7], minmax_up)]\n",
    "        '''\n",
    "        \n",
    "        \n",
    "        init_guess = [10, 10, 1, 1, y.min(), y.min()]\n",
    "        gate_bounds = [[1, 1, 1, 1, y.min()-0.01, y.min()-0.01],\n",
    "                   [1e4, 1e4, 5, 5, y.min()+0.1*y.min(), y.min()+0.1*y.min()]]\n",
    "        '''\n",
    "\n",
    "        init_guess = [10, 10, 1, 1, y.min(), y.min(), y.max(), y.max()]\n",
    "        gate_bounds = [[1, 1, 1, 1, 0, 0, 0, 0], [1e4, 1e4, 6, 6, y.min()+0.1*y.min(), y.min()+0.1*y.min(), y.max()+0.2*y.max(), y.max()+0.2*y.max()]]\n",
    "        '''\n",
    "        f_param, f_cov = curve_fit(hill_activation_combined, x, y, p0=init_guess, bounds=gate_bounds)\n",
    "        f_params.append(f_param)\n",
    "    \n",
    "    return f_params\n",
    "    \n",
    "f_params = test_multiple()"
   ]
  },
  {
   "cell_type": "code",
   "execution_count": null,
   "id": "nervous-startup",
   "metadata": {},
   "outputs": [],
   "source": [
    "f_params"
   ]
  },
  {
   "cell_type": "code",
   "execution_count": null,
   "id": "spiritual-source",
   "metadata": {},
   "outputs": [],
   "source": [
    "def hill_activation_simple(x, K1, K2, n1, n2, ymin1, ymin2):\n",
    "\n",
    "    x1, x2 = x\n",
    "    return hill_activation_simplified(x1, K1, n1, ymin1) * hill_activation_simplified(x2, K2, n2, ymin2)\n",
    "\n",
    "\n",
    "def hill_activation_simplified(x, K, n, ymin):\n",
    "\n",
    "    return ymin + (1 - ymin) * (x**n / (K**n + x**n))"
   ]
  },
  {
   "cell_type": "code",
   "execution_count": null,
   "id": "helpful-console",
   "metadata": {},
   "outputs": [],
   "source": [
    "#gate = gates[6]\n",
    "real_datas = []\n",
    "predicted_datas = []\n",
    "for gate in gates:\n",
    "    fluo = fluos[filter(lambda x: x.startswith(gate), fluos.columns)]\n",
    "    fluo_t = fluo.transpose().reset_index().rename(columns={'index': 'gate'})\n",
    "    real_data = []\n",
    "    predicted_data = []\n",
    "    for t in range(0, 1460, 20):\n",
    "        train = fluo_t[t]\n",
    "        train_max = train.max()\n",
    "        train = train / train_max\n",
    "        test = hill_activation_simple(x, *f_params[6])\n",
    "        real_data.append(train)\n",
    "        predicted_data.append(test)\n",
    "        \n",
    "        print(gate, t, r2_score(train, test))\n",
    "    real_datas.append(np.array(real_data).ravel())\n",
    "    predicted_datas.append(np.array(predicted_data).ravel())\n",
    "    #print(gate, r2_score(np.array(real_data).ravel(), np.array(predicted_data).ravel()))"
   ]
  },
  {
   "cell_type": "code",
   "execution_count": null,
   "id": "bibliographic-location",
   "metadata": {},
   "outputs": [],
   "source": [
    "gates[5]"
   ]
  },
  {
   "cell_type": "code",
   "execution_count": null,
   "id": "false-questionnaire",
   "metadata": {},
   "outputs": [],
   "source": [
    "sns.regplot(train, test)"
   ]
  },
  {
   "cell_type": "code",
   "execution_count": null,
   "id": "parental-poverty",
   "metadata": {},
   "outputs": [],
   "source": [
    "#simplified\n",
    "f, axs = plt.subplots(2, 5, sharex=False, sharey=False, figsize=(16, 5))\n",
    "axr = axs.ravel()\n",
    "for i, ax in enumerate(axr):\n",
    "    if i < len(gates):\n",
    "        r2 = 'R\\u00b2={:.2f}'.format(r2_score(real_datas[i], predicted_datas[i]))\n",
    "        ax.scatter(real_datas[i], predicted_datas[i], s=5, label=r2)\n",
    "        ax.set_title(gates[i])\n",
    "        ax.set_xlabel('Experiment')\n",
    "        ax.set_ylabel('Predicted')\n",
    "        ax.legend(loc=4)\n",
    "        sns.despine()\n",
    "    else:\n",
    "        ax.set_visible(False)\n",
    "    plt.tight_layout()"
   ]
  },
  {
   "cell_type": "markdown",
   "id": "republican-charge",
   "metadata": {},
   "source": [
    "### Dynamic Models"
   ]
  },
  {
   "cell_type": "code",
   "execution_count": null,
   "id": "temporal-jones",
   "metadata": {},
   "outputs": [],
   "source": [
    "#at 24h\n",
    "hill_params = {\n",
    "    'e11x32STPhoRadA': [8.19215086e+00, 2.77324618e+00, 6.00000000e+00, 1.24643956e+00, 5.95605924e+00, 3.46957143e-09, 2.99296531e+02, 5.36128135e+02],\n",
    "    'e15x32NpuSspS2': [9.8458614, 8.7957319, 2.89598247, 1., 36.84876916, 30.33289918, 156.72063863, 156.06142356],\n",
    "    'e16x33NrdA2': [10.13165313, 6.30849837, 5.02963422, 1.26435637, 15.99371476, 6.8959355, 380.68087314, 387.7069378],\n",
    "    'e20x32gp411': [12.53828935, 1., 2.78451886, 1.49241488, 8.39069666, 27.77880598, 314.77726787, 311.65818168],\n",
    "    'e32x30SspGyrB': [10.77387795, 8.56616674, 3.12574014, 1.07032582, 15.2982435, 11.91592347, 342.96437349, 343.5314864],\n",
    "    'e34x30MjaKlbA': [8.42632247, 13.40974257, 3.28555513, 1.81757507, 3.4673668, 20.82148359, 307.13693296, 290.48137472],\n",
    "    'e38x32gp418': [7.61231223, 1.51099399, 5.04169259, 1.4068252, 26.05989294, 20.59322098, 218.62810381, 218.64413488],\n",
    "    'e41x32NrdJ1': [9.59574651, 12.05238497, 3.84271899, 1., 21.72980962, 19.19063999, 277.09322359, 275.39980816],\n",
    "    'e42x32STIMPDH1': [10.41225458, 5.87647366, 4.30770405, 1.01184319, 22.82771137, 18.70845616, 228.18083668, 227.98611955]\n",
    "}"
   ]
  },
  {
   "cell_type": "code",
   "execution_count": null,
   "id": "inappropriate-sunset",
   "metadata": {},
   "outputs": [],
   "source": [
    "#objective function\n",
    "def computeSSE(f_p0, f_t, f_data, f_bounds, ind1, ind2, params):\n",
    "    \n",
    "    def model_fit(t, r, y0, synGFP, degGFP):\n",
    "        \n",
    "        fit = gate_wrapper(t, r, y0, synGFP, degGFP, ind1, ind2, params)\n",
    "        return fit[1]\n",
    "    \n",
    "    popt, pcov = curve_fit(model_fit, f_t, f_data, p0=f_p0, bounds=f_bounds)\n",
    "    print(popt)\n",
    "    f_sim = model_fit(f_t, *popt)\n",
    "    \n",
    "    error = [(val-sal)**2 for val, sal in zip(f_sim, f_data)]\n",
    "    \n",
    "    return sum(error)\n",
    "\n",
    "#generate random numbers from a uniform distribution for the initial guesses\n",
    "def randomSearch(iterations, num_params, f_t, f_data, bounds, ind1, ind2, params):\n",
    "    \n",
    "    initialGuesses = []\n",
    "    for k in range(iterations):\n",
    "        guess = [np.random.uniform(low=low, high=high) for low, high in zip(bounds[0], bounds[1])]\n",
    "        error = computeSSE(guess, f_t, f_data, bounds, ind1, ind2, params)\n",
    "        initialGuesses.append((error, guess))\n",
    "    \n",
    "    sortedGuesses = sorted(initialGuesses)\n",
    "    bestGuess = sortedGuesses[0][1]\n",
    "    \n",
    "    return bestGuess"
   ]
  },
  {
   "cell_type": "code",
   "execution_count": null,
   "id": "latest-boundary",
   "metadata": {},
   "outputs": [],
   "source": [
    "def growth_rate(OD, alpha, beta):\n",
    "    return (alpha * (1 - (OD/beta)))\n",
    "\n",
    "def gate_wrapper(t, r, y0, synGFP, degGFP, x1, x2, params):\n",
    "    \n",
    "    K1, K2, n1, n2, ymin1, ymin2, ymax1, ymax2 = params\n",
    "    ymax = hill_activation_and((x1, x2), K1, K2, n1, n2, ymin1, ymin2, ymax1, ymax2)\n",
    "    \n",
    "    def gate_model(y, t):\n",
    "        y1, GFP = y\n",
    "        dy1 = r * (1 - (y1/ymax)) * y1\n",
    "        dGFP = synGFP * y1 - degGFP * GFP\n",
    "        return [dy1, dGFP]\n",
    "    \n",
    "    solution = odeint(gate_model, [y0, 0], t)\n",
    "    return solution.transpose()\n",
    "\n",
    "def fit_simple(fluo, ind1, ind2, params):\n",
    "    \n",
    "    f_t = fluo.index\n",
    "    f_data = fluo.copy()\n",
    "    \n",
    "    parameters = ['r', 'y0', 'synGFP', 'degGFP']\n",
    "    init_guess = [0.1, 0.1, 0, 0.02]\n",
    "    gate_bounds_together = [[0, 1e-3, 0, 0], [1e4, 1e4, 1e4, 1e2]]\n",
    "    #init_guess = randomSearch(20, len(gate_bounds_together[0]), f_t, f_data, gate_bounds_together, ind1, ind2, params)\n",
    "    \n",
    "    def model_fit(t, r, y0, synGFP, degGFP):\n",
    "        \n",
    "        fit = gate_wrapper(t, r, y0, synGFP, degGFP, ind1, ind2, params)\n",
    "        return fit[1]\n",
    "    \n",
    "    f_params, f_cov = curve_fit(model_fit, f_t, f_data, p0=init_guess, bounds=gate_bounds_together)#, method='dogbox')\n",
    "    f_sim = pd.Series(model_fit(f_t, *f_params), index=f_t)\n",
    "    f_df = pd.DataFrame({'Parameters': parameters, 'Value': f_params, 'Err': np.sqrt(np.diag(f_cov))})\n",
    "    return f_df, f_sim, f_data\n",
    "\n",
    "def fit_simple_fixed_deg(fluo, ind1, ind2, params):\n",
    "    \n",
    "    f_t = fluo.index\n",
    "    f_data = fluo.copy()\n",
    "    \n",
    "    parameters = ['r', 'y0', 'synGFP']\n",
    "    init_guess = [1, 0.1, 0]\n",
    "    gate_bounds_together = [[0, 1e-1, 0], [1e2, 1e4, 1e5]]\n",
    "    \n",
    "    def model_fit(t, r, y0, synGFP):\n",
    "        \n",
    "        fit = gate_wrapper(t, r, y0, synGFP, 0.01, ind1, ind2, params)\n",
    "        return fit[1]\n",
    "    \n",
    "    f_params, f_cov = curve_fit(model_fit, f_t, f_data, p0=init_guess, bounds=gate_bounds_together)#, method='dogbox')\n",
    "    f_sim = pd.Series(model_fit(f_t, *f_params), index=f_t)\n",
    "    f_df = pd.DataFrame({'Parameters': parameters, 'Value': f_params, 'Err': np.sqrt(np.diag(f_cov))})\n",
    "    return f_df, f_sim, f_data\n",
    "\n",
    "\n",
    "def gate_wrapper2(t, r, y0, x1, x2, params):\n",
    "    \n",
    "    K1, K2, n1, n2, ymin1, ymin2, ymax1, ymax2 = params\n",
    "    ymax = hill_activation_and((x1, x2), K1, K2, n1, n2, ymin1, ymin2, ymax1, ymax2)\n",
    "    \n",
    "    def gate_model(y, t):\n",
    "        y1 = y[0]\n",
    "        dy1 = r * (1 - (y1/ymax)) * y1\n",
    "        return [dy1]\n",
    "    \n",
    "    solution = odeint(gate_model, [y0], t)\n",
    "    return solution.transpose()\n",
    "\n",
    "def gate_wrapper3(t, r, y0, synGFP, x1, x2, hill_params, od_params):\n",
    "    \n",
    "    K1, K2, n1, n2, ymin1, ymin2, ymax1, ymax2 = hill_params\n",
    "    ymax = hill_activation_and((x1, x2), K1, K2, n1, n2, ymin1, ymin2, ymax1, ymax2)\n",
    "    print(ymax)\n",
    "    \n",
    "    def gate_model(y, t):\n",
    "        y1, GFP, OD = y\n",
    "        dil = growth_rate(OD, od_params[0], od_params[1])\n",
    "        dOD = dil * OD\n",
    "        dy1 = r * (1 - (y1/ymax)) * y1\n",
    "        dGFP = synGFP * y1 - dil * GFP\n",
    "        return [dy1, dGFP, dOD]\n",
    "    \n",
    "    solution = odeint(gate_model, [y0, 0, 0], t)\n",
    "    return solution.transpose()\n",
    "\n",
    "def fit_simple2(fluo, ind1, ind2, params):\n",
    "    \n",
    "    f_t = fluo.index\n",
    "    f_data = fluo.copy()\n",
    "    \n",
    "    parameters = ['r', 'y0']\n",
    "    init_guess = [0.1, 0.1]\n",
    "    gate_bounds_together = [[0, 1e-1], [1e2, 1e4]]\n",
    "    \n",
    "    def model_fit(t, r, y0):\n",
    "        \n",
    "        fit = gate_wrapper2(t, r, y0, ind1, ind2, params)\n",
    "        return fit[0]\n",
    "    \n",
    "    f_params, f_cov = curve_fit(model_fit, f_t, f_data, p0=init_guess, bounds=gate_bounds_together)#, method='dogbox')\n",
    "    f_sim = pd.Series(model_fit(f_t, *f_params), index=f_t)\n",
    "    f_df = pd.DataFrame({'Parameters': parameters, 'Value': f_params, 'Err': np.sqrt(np.diag(f_cov))})\n",
    "    return f_df, f_sim, f_data\n",
    "\n",
    "def fit_simple_new(fluo, ind1, ind2, hill_params, od_params):\n",
    "    \n",
    "    f_t = fluo.index\n",
    "    f_data = fluo.copy()\n",
    "    \n",
    "    parameters = ['r', 'y0', 'synGFP']\n",
    "    init_guess = [1, 0.1, 0]\n",
    "    gate_bounds_together = [[0, 1e-1, 0], [1e2, 1e4, 1e5]]\n",
    "    \n",
    "    def model_fit(t, r, y0, synGFP):\n",
    "        \n",
    "        fit = gate_wrapper3(t, r, y0, synGFP, ind1, ind2, hill_params, od_params)\n",
    "        return fit[1]\n",
    "    \n",
    "    f_params, f_cov = curve_fit(model_fit, f_t, f_data, p0=init_guess, bounds=gate_bounds_together)#, method='dogbox')\n",
    "    f_sim = pd.Series(model_fit(f_t, *f_params), index=f_t)\n",
    "    f_df = pd.DataFrame({'Parameters': parameters, 'Value': f_params, 'Err': np.sqrt(np.diag(f_cov))})\n",
    "    return f_df, f_sim, f_data\n",
    "\n",
    "def fit_simple_fixed(fluo, ind1, ind2, params):\n",
    "    \n",
    "    f_t = fluo.index\n",
    "    f_data = fluo.copy()\n",
    "    \n",
    "    parameters = ['r']\n",
    "    init_guess = [0.5]\n",
    "    gate_bounds_together = [[0], [1]]\n",
    "    \n",
    "    def model_fit(t, r):\n",
    "        \n",
    "        fit = gate_wrapper(t, r, 0.1, 0.1, 0.3, ind1, ind2, params)\n",
    "        return fit[1]\n",
    "    \n",
    "    f_params, f_cov = curve_fit(model_fit, f_t, f_data, p0=init_guess, bounds=gate_bounds_together)#, method='dogbox')\n",
    "    #f_params, f_cov = curve_fit(model_fit, f_t, f_data)#, method='dogbox')\n",
    "    \n",
    "    f_sim = pd.Series(model_fit(f_t, *f_params), index=f_t)\n",
    "    f_df = pd.DataFrame({'Parameters': parameters, 'Value': f_params, 'Err': np.sqrt(np.diag(f_cov))})\n",
    "    return f_df, f_sim, f_data"
   ]
  },
  {
   "cell_type": "code",
   "execution_count": null,
   "id": "minute-teens",
   "metadata": {},
   "outputs": [],
   "source": [
    "gate = 'e42x32STIMPDH1'\n",
    "print(gate)\n",
    "a = 5\n",
    "b = 5\n",
    "cuma = cumas[a]\n",
    "ara = aras[b]\n",
    "fluo = fluos['{}_{}{}'.format(gate, a, b)]\n",
    "#f_df, f_sim, f_data = fit_simple_new(fluo, cuma, ara, hill_params[gate], od_params['{}_{}{}'.format(gate, a, b)])\n",
    "#f_df, f_sim, f_data = fit_simple_fixed_deg(fluo, cuma, ara, hill_params[gate])\n",
    "f_df, f_sim, f_data = fit_simple(fluo, cuma, ara, hill_params[gate])"
   ]
  },
  {
   "cell_type": "code",
   "execution_count": null,
   "id": "becoming-incentive",
   "metadata": {
    "scrolled": false
   },
   "outputs": [],
   "source": [
    "plt.scatter(fluo.index/60, fluo, s=7, color='gray')\n",
    "plt.plot(fluo.index/60, f_sim, color='purple')\n",
    "sns.despine()"
   ]
  },
  {
   "cell_type": "code",
   "execution_count": null,
   "id": "systematic-console",
   "metadata": {},
   "outputs": [],
   "source": [
    "sim = gate_wrapper(fluo.index, *f_df['Value'].tolist(), cuma, ara, hill_params[gate])\n",
    "plt.scatter(fluo.index/60, fluo, s=7, color='gray')\n",
    "plt.plot(fluo.index/60, sim[0], color='red', label='gate')\n",
    "plt.plot(fluo.index/60, sim[1], color='purple', label='GFP')\n",
    "plt.legend()\n",
    "sns.despine()"
   ]
  },
  {
   "cell_type": "code",
   "execution_count": null,
   "id": "sought-enclosure",
   "metadata": {},
   "outputs": [],
   "source": [
    "f_df"
   ]
  },
  {
   "cell_type": "code",
   "execution_count": null,
   "id": "incorporated-glass",
   "metadata": {},
   "outputs": [],
   "source": [
    "gate_params = pd.DataFrame()"
   ]
  },
  {
   "cell_type": "code",
   "execution_count": null,
   "id": "hundred-expert",
   "metadata": {},
   "outputs": [],
   "source": [
    "f, axs = plt.subplots(2, 5, sharex=False, sharey=False, figsize=(16, 5))\n",
    "axr = axs.ravel()\n",
    "for i, ax in tqdm(enumerate(axr)):\n",
    "    if i < len(gates):\n",
    "        gate = gates[i]\n",
    "        #j = 5\n",
    "        for k in range(6):\n",
    "            fluo = fluos['{}_{}{}'.format(gate, k, k)]\n",
    "            f_df, f_sim, f_data = fit_simple(fluo, cumas[k], aras[k], hill_params[gate])\n",
    "            f_df['gate'] = '{}'.format(gate)\n",
    "            #gate_params = gate_params.append(f_df)\n",
    "            ax.scatter(fluo.index/60, fluo, s=7, color='gray')\n",
    "            ax.plot(fluo.index/60, f_sim, color='purple')\n",
    "        ax.set_title(gate)\n",
    "        sns.despine()\n",
    "    else:\n",
    "        ax.set_visible(False)\n",
    "plt.tight_layout()"
   ]
  },
  {
   "cell_type": "code",
   "execution_count": null,
   "id": "polished-azerbaijan",
   "metadata": {},
   "outputs": [],
   "source": [
    "r_gate_params = gate_params[gate_params['Parameters']=='r']\n",
    "y0_gate_params = gate_params[gate_params['Parameters']=='y0']\n",
    "synGFP_gate_params = gate_params[gate_params['Parameters']=='synGFP']\n",
    "degGFP_gate_params = gate_params[gate_params['Parameters']=='degGFP']"
   ]
  },
  {
   "cell_type": "code",
   "execution_count": null,
   "id": "acting-louisiana",
   "metadata": {},
   "outputs": [],
   "source": [
    "f, axs = plt.subplots(1, 4, sharex=False, sharey=False, figsize=(18, 5))\n",
    "ax = axs.ravel()\n",
    "sns.boxplot(x='gate', y='Value', data=r_gate_params, showfliers=False, ax=ax[0])\n",
    "ax[0].set_xticklabels(gates, rotation=90)\n",
    "ax[0].set_title('r')\n",
    "sns.despine()\n",
    "sns.boxplot(x='gate', y='Value', data=y0_gate_params, showfliers=False, ax=ax[1])\n",
    "ax[1].set_xticklabels(gates, rotation=90)\n",
    "ax[1].set_title('y0')\n",
    "sns.despine()\n",
    "sns.boxplot(x='gate', y='Value', data=synGFP_gate_params, showfliers=False, ax=ax[2])\n",
    "ax[2].set_xticklabels(gates, rotation=90)\n",
    "ax[2].set_title('synGFP')\n",
    "sns.despine()\n",
    "sns.boxplot(x='gate', y='Value', data=degGFP_gate_params, showfliers=False, ax=ax[3])\n",
    "ax[3].set_xticklabels(gates, rotation=90)\n",
    "ax[3].set_title('degGFP')\n",
    "sns.despine()\n",
    "plt.tight_layout()"
   ]
  },
  {
   "cell_type": "code",
   "execution_count": null,
   "id": "psychological-turkish",
   "metadata": {},
   "outputs": [],
   "source": [
    "gate_params2"
   ]
  },
  {
   "cell_type": "code",
   "execution_count": null,
   "id": "unexpected-ivory",
   "metadata": {},
   "outputs": [],
   "source": [
    "f, axs = plt.subplots(2, 5, sharex=False, sharey=False, figsize=(16, 5))\n",
    "axr = axs.ravel()\n",
    "for i, ax in tqdm(enumerate(axr)):\n",
    "    if i < len(gates):\n",
    "        gate = gates[i]\n",
    "        fluo = fluos['{}_{}{}'.format(gate, 5, 5)]\n",
    "        f_df, f_sim, f_data = fit_simple(fluo, cumas[5], aras[5], hill_params[gate])\n",
    "        f_df['gate'] = '{}'.format(gate)\n",
    "        \n",
    "        sim = gate_wrapper(fluo.index, *f_df['Value'].tolist(), cumas[5], aras[5], hill_params[gate])\n",
    "        ax.scatter(fluo.index/60, fluo, s=7, color='gray')\n",
    "        ax.plot(fluo.index/60, sim[0], color='red', label='gate')\n",
    "        ax.plot(fluo.index/60, sim[1], color='purple', label='GFP')\n",
    "        ax.legend()\n",
    "        \n",
    "        ax.set_title(gate)\n",
    "        sns.despine()\n",
    "    else:\n",
    "        ax.set_visible(False)\n",
    "plt.tight_layout()"
   ]
  },
  {
   "cell_type": "markdown",
   "id": "streaming-consumption",
   "metadata": {},
   "source": [
    "#### Fixing y0 and synGFP"
   ]
  },
  {
   "cell_type": "code",
   "execution_count": null,
   "id": "alien-whale",
   "metadata": {},
   "outputs": [],
   "source": [
    "y0_gate_params['Value'].median(), synGFP_gate_params['Value'].median()"
   ]
  },
  {
   "cell_type": "code",
   "execution_count": null,
   "id": "reliable-acquisition",
   "metadata": {},
   "outputs": [],
   "source": [
    " "
   ]
  },
  {
   "cell_type": "code",
   "execution_count": null,
   "id": "prospective-advertiser",
   "metadata": {},
   "outputs": [],
   "source": [
    "gate_params = pd.DataFrame()\n",
    "for gate in tqdm(gates):\n",
    "    #gate = 'e42x32STIMPDH1'\n",
    "    for i in range(6):\n",
    "        for j in range(6):\n",
    "            fluo = fluos['{}_{}{}'.format(gate, i, j)]\n",
    "            f_df, f_sim, f_data = fit_simple(fluo, cuma_list[i], ara_list[j], hill_params[gate])\n",
    "            #gate_params['{}_{}{}'.format(gate, i, j)] = f_df['Value'].tolist()\n",
    "            f_df['gate'] = '{}'.format(gate)\n",
    "            gate_params = gate_params.append(f_df)"
   ]
  },
  {
   "cell_type": "code",
   "execution_count": null,
   "id": "adjacent-conference",
   "metadata": {},
   "outputs": [],
   "source": [
    "sns.boxplot(x='gate', y='Value', data=gate_params, showfliers=False)\n",
    "plt.xticks(rotation=90)\n",
    "sns.despine()\n",
    "plt.tight_layout()"
   ]
  },
  {
   "cell_type": "code",
   "execution_count": null,
   "id": "running-description",
   "metadata": {},
   "outputs": [],
   "source": [
    "gate_params.groupby(['gate', 'Parameters']).median()['Value']"
   ]
  },
  {
   "cell_type": "code",
   "execution_count": null,
   "id": "altered-designer",
   "metadata": {},
   "outputs": [],
   "source": [
    "sim = gate_wrapper(fluo.index, 2.32417559e-02, 1.24218505e+02, 1.84759326, 0.2, cuma_list[3], ara_list[3], hill_params[gate])\n",
    "plt.plot(fluo.index, sim[0], label='gate')\n",
    "plt.plot(fluo.index, sim[1], label='reporter')\n",
    "plt.legend()\n",
    "sns.despine()"
   ]
  },
  {
   "cell_type": "code",
   "execution_count": null,
   "id": "digital-validity",
   "metadata": {},
   "outputs": [],
   "source": [
    "sim = gate_wrapper(fluo.index, 2.32417559e-02, 1.24218505e+02, 1.84759326e-02, 0.2, cuma_list[5], ara_list[5], hill_params[gate])\n",
    "plt.plot(fluo.index, sim[0], label='gate')\n",
    "plt.plot(fluo.index, sim[1], label='reporter')\n",
    "plt.legend()\n",
    "sns.despine()"
   ]
  },
  {
   "cell_type": "code",
   "execution_count": null,
   "id": "stretch-doctrine",
   "metadata": {},
   "outputs": [],
   "source": [
    "for i in range(6):\n",
    "    plt.plot(fluo.index, gate_wrapper(fluo.index, 2.32417559e-02, 1.24218505e+02, 1.84759326e-02, 0.02, cuma_list[i], ara_list[i], hill_params[gate])[1], label=i)\n",
    "plt.legend()\n",
    "sns.despine()"
   ]
  },
  {
   "cell_type": "markdown",
   "id": "otherwise-envelope",
   "metadata": {},
   "source": [
    "#### Fitting Altogether"
   ]
  },
  {
   "cell_type": "code",
   "execution_count": null,
   "id": "mobile-sound",
   "metadata": {},
   "outputs": [],
   "source": [
    "f_dfs = []\n",
    "f_sims = []\n",
    "f_ts = []\n",
    "f_datas = []\n",
    "for sel, gate in tqdm(enumerate(gates)):\n",
    "    \n",
    "    gate = gates[sel]\n",
    "    #print(sel, gate)\n",
    "    fluo_sel = pd.concat([fluos[i].iloc[:,sel] for i in range(4)], axis=1)\n",
    "    od_sel = pd.concat([ods[i].iloc[:,sel] for i in range(4)], axis=1)\n",
    "    \n",
    "    od_params_sel = od_inference(od_sel)\n",
    "    #od_params.append(od_params_sel)\n",
    "    \n",
    "    f_df, f_sim, f_t, f_data = fit_single_state(fluo_sel.iloc[:,n], od_params_sel[n], int(n/2), n%2)\n",
    "    f_dfs.append(f_df)\n",
    "    f_sims.append(f_sim)\n",
    "    f_ts.append(f_t)\n",
    "    f_datas.append(f_data)\n",
    "    \n",
    "#len(od_params)"
   ]
  },
  {
   "cell_type": "markdown",
   "id": "helpful-conflict",
   "metadata": {},
   "source": [
    "Fitting with sampling initial guesses."
   ]
  },
  {
   "cell_type": "code",
   "execution_count": null,
   "id": "preliminary-monthly",
   "metadata": {},
   "outputs": [],
   "source": [
    "f, axs = plt.subplots(2, 6, sharex=True, sharey=True, figsize=(14, 4))\n",
    "axr = axs.ravel()\n",
    "for i, ax in enumerate(axr):\n",
    "    if i < len(gates):\n",
    "        ax.scatter(f_ts[i]/60, f_datas[i], c='slategrey', s=7)\n",
    "        ax.plot(f_ts[i]/60, f_sims[i], c='deeppink')\n",
    "        ax.set_title(gates[i])\n",
    "        ax.set_xlabel('Time (h)')\n",
    "    else:\n",
    "        ax.set_visible(False)\n",
    "plt.tight_layout()\n",
    "sns.despine()"
   ]
  },
  {
   "cell_type": "markdown",
   "id": "planned-mauritius",
   "metadata": {},
   "source": [
    "Fitting without sampling initial guesses."
   ]
  },
  {
   "cell_type": "code",
   "execution_count": null,
   "id": "apart-diving",
   "metadata": {},
   "outputs": [],
   "source": [
    "f, axs = plt.subplots(2, 6, sharex=True, sharey=False, figsize=(14, 4))\n",
    "axr = axs.ravel()\n",
    "for i, ax in enumerate(axr):\n",
    "    if i < len(gates):\n",
    "        ax.scatter(f_ts[i]/60, f_datas[i], c='slategrey', s=7)\n",
    "        ax.plot(f_ts[i]/60, f_sims[i], c='deeppink')\n",
    "        ax.set_title(gates[i])\n",
    "        ax.set_xlabel('Time (h)')\n",
    "    else:\n",
    "        ax.set_visible(False)\n",
    "plt.tight_layout()\n",
    "sns.despine()"
   ]
  },
  {
   "cell_type": "markdown",
   "id": "disciplinary-richmond",
   "metadata": {},
   "source": [
    "#### Parameters"
   ]
  },
  {
   "cell_type": "code",
   "execution_count": null,
   "id": "enhanced-spyware",
   "metadata": {},
   "outputs": [],
   "source": [
    "def plot_parameters(f_df, show_err=True):\n",
    "    \n",
    "    parameters = f_df[0]['Parameters'].values\n",
    "    n_paras = len(parameters)\n",
    "    values = np.stack([df['Value'].values for df in f_df])\n",
    "    errors = np.stack([df['Err'].values for df in f_df])\n",
    "    \n",
    "    f, axs = plt.subplots(int(n_paras/3), 3, sharex=True, figsize=(16, (n_paras+1)/2))\n",
    "    for i, ax in enumerate(axs.ravel()):\n",
    "        if i < n_paras:\n",
    "            if show_err:\n",
    "                ax.errorbar(gates, values[:,i], errors[:,i], fmt='o', label='experiment')\n",
    "            else:\n",
    "                ax.scatter(gates, values[:,i], label='experiment')\n",
    "            ax.set_ylabel(parameters[i])\n",
    "        else:\n",
    "            ax.set_visible(False)\n",
    "        #ax.set_xticks(rotation=90) \n",
    "        ax.set_xticklabels(gates, rotation=90)\n",
    "    sns.despine()\n",
    "    plt.tight_layout()\n",
    "    \n",
    "plot_parameters(f_dfs)"
   ]
  },
  {
   "cell_type": "markdown",
   "id": "listed-freeware",
   "metadata": {},
   "source": [
    "#### Manual Fitting"
   ]
  },
  {
   "cell_type": "code",
   "execution_count": null,
   "id": "adapted-blues",
   "metadata": {},
   "outputs": [],
   "source": [
    "def simulate_single_state(fluo, od_params, title, ind1, ind2):\n",
    "    \n",
    "    parameters = ['bn', 'bc', 'bg', 'syn_ECFn', 'syn_ECFc', 'syn_ECF', 'deg', 'syn_GFP', 'deg_GFP', 'a', 'K', 'n']\n",
    "    f_t = fluo.index\n",
    "    f_data = fluo.copy()\n",
    "    extra = (od_params[0], od_params[1])\n",
    "    y0 = pd.Series(np.append(np.zeros(4), od_params[2]))\n",
    "    \n",
    "    def model_fit(t, a, b, c, d, e, f, g, h, i, j, k):\n",
    "        fit = gate_wrapper(t, a, b, c, d, e, f, g, h, i, j, k, ind1, ind2, extra, y0)\n",
    "        return pd.Series(fit[3])\n",
    "    \n",
    "    f_params = [par[i] for i in parameters]\n",
    "    f_sim = model_fit(f_t, *f_params)\n",
    "    return f_t, f_data, f_sim"
   ]
  },
  {
   "cell_type": "code",
   "execution_count": null,
   "id": "blank-dress",
   "metadata": {},
   "outputs": [],
   "source": [
    "par = {\n",
    "    'bn': 1 * 10**-1,\n",
    "    'bc': 1 * 10**-1,\n",
    "    'bg': 1 * 10**-2,\n",
    "    'syn_ECFn': 4 * 10**0,\n",
    "    'syn_ECFc': 4 * 10**0,\n",
    "    'syn_ECF': 50 * 10**-10,\n",
    "    'deg': 7 * 10**-3,\n",
    "    'syn_GFP': 1 * 10**4,\n",
    "    'deg_GFP': 1 * 10**-2,\n",
    "    'K': 1 * 10**-1,\n",
    "    'n': 2 * 10**0\n",
    "}"
   ]
  },
  {
   "cell_type": "code",
   "execution_count": null,
   "id": "driving-president",
   "metadata": {},
   "outputs": [],
   "source": [
    "f, axs = plt.subplots(3, 4, figsize=(16, 2*3), sharey=False)\n",
    "for m in range(1, 2):\n",
    "    for i in range(0, 5):\n",
    "\n",
    "        par = {\n",
    "            'bn': 1 * 10**-10,\n",
    "            'bc': 1 * 10**-10,\n",
    "            'bg': 8 * 10**1,\n",
    "            'syn_ECFn': 4 * 10**1,\n",
    "            'syn_ECFc': 4 * 10**1,\n",
    "            'syn_ECF': 50 * 10**-10,\n",
    "            'deg': 7 * 10**-3,\n",
    "            'syn_GFP': 3 * 10**3,\n",
    "            'deg_GFP': 2 * 10**-2,\n",
    "            'K': 5 * 10**-1,\n",
    "            'n': 2 * 10**0\n",
    "        }\n",
    "        #print(par['n'])\n",
    "        for n in range(4):\n",
    "            f_t_sin, f_data_sin, f_sim_sin = simulate_single_state(fluo_sel.iloc[:,n], od_params_sel[n], gates[sel], int(n/2), n%2)\n",
    "            axs[m-1, n].plot(f_t_sin/60, f_sim_sin, label=i)\n",
    "            axs[m-1, n].legend()\n",
    "plt.xticks(rotation=90)\n",
    "sns.despine()\n",
    "plt.tight_layout()"
   ]
  },
  {
   "cell_type": "code",
   "execution_count": null,
   "id": "horizontal-diesel",
   "metadata": {},
   "outputs": [],
   "source": [
    "f_t = np.concatenate([fluo_sel.index] * 4)\n",
    "f_data = pd.concat([fluo_sel.iloc[:,i] for i in range(4)])\n",
    "f, axs = plt.subplots(1, 4, sharex=True, sharey=False, figsize=(12, 3))\n",
    "axr = axs.ravel()\n",
    "idx = len(fluo_sel.iloc[:,0])\n",
    "for i, ax in enumerate(axr):\n",
    "    ax.scatter(f_t[idx*i:idx*(i+1)]/60, f_data[idx*i:idx*(i+1)], c='slategrey', s=7)\n",
    "    ax.set_title(gate + '-' + format(i, '02b'))\n",
    "    ax.set_xlabel('Time (h)')\n",
    "plt.tight_layout()\n",
    "sns.despine()"
   ]
  },
  {
   "cell_type": "markdown",
   "id": "confident-korean",
   "metadata": {},
   "source": [
    "#### More elegant fitting"
   ]
  },
  {
   "cell_type": "code",
   "execution_count": null,
   "id": "polar-venue",
   "metadata": {},
   "outputs": [],
   "source": [
    "#objective function\n",
    "def computeSSE(init_params, f_t, f_data, bounds, od_params, ind1, ind2):\n",
    "    \n",
    "    extra = (od_params[0], od_params[1])\n",
    "    y0 = pd.Series(np.append(np.zeros(4), od_params[2]))\n",
    "    \n",
    "    def model_fit(t, a, b, c, d, e, f, g, h, i, j, k):\n",
    "        fit = gate_wrapper(t, a, b, c, d, e, f, g, h, i, j, k, ind1, ind2, extra, y0)\n",
    "        return pd.Series(fit[3])\n",
    "    \n",
    "    f_params, _ = curve_fit(model_fit, f_t, f_data, p0=init_params, bounds=bounds)\n",
    "    solution = model_fit(f_t, *f_params)\n",
    "    error = [(val-sal)**2 for val, sal in zip(solution, f_data)]\n",
    "    \n",
    "    return sum(error)\n",
    "\n",
    "#generate random numbers from a uniform distribution for initial guesses\n",
    "def randomSearch(iterations, num_params, f_t, f_data, bounds, od_params, ind1, ind2):\n",
    "    \n",
    "    initialGuesses = []\n",
    "    for k in tqdm(range(iterations)):\n",
    "        guess = [np.random.uniform(low=low, high=high) for low, high in zip(bounds[0], bounds[1])]\n",
    "        #guess.append(np.random.uniform(low=1,high=4))\n",
    "        error = computeSSE(guess, f_t, f_data, bounds, od_params, ind1, ind2)\n",
    "        initialGuesses.append((error, guess))\n",
    "    \n",
    "    sortedGuesses = sorted(initialGuesses)\n",
    "    bestGuess = sortedGuesses[0][1]\n",
    "    \n",
    "    return bestGuess"
   ]
  },
  {
   "cell_type": "code",
   "execution_count": null,
   "id": "comic-public",
   "metadata": {},
   "outputs": [],
   "source": [
    "def fit_single_state(fluo, od_params, ind1, ind2):\n",
    "    \n",
    "    parameters = ['bn', 'bc', 'bg', 'syn_ECFn', 'syn_ECFc', 'syn_ECF', 'deg', 'syn_GFP', 'deg_GFP', 'K', 'n']\n",
    "    f_t = fluo.index\n",
    "    f_data = fluo.copy()\n",
    "    extra = (od_params[0], od_params[1])\n",
    "    y0 = pd.Series(np.append(np.zeros(4), od_params[2]))\n",
    "    \n",
    "    lower_bounds = [0, 0, 0, 0, 0, 0, 0, 0, 0, 0, 1]\n",
    "    upper_bounds = [1e1, 1e1, 1e1, 1e2, 1e2, 1e-4, 1e-1, 1e5, 1e0, 1e2, 4]\n",
    "    gate_bounds = [lower_bounds, upper_bounds]\n",
    "    \n",
    "    init_guesses = randomSearch(10, len(parameters), f_t, f_data, gate_bounds, od_params, ind1, ind2)\n",
    "    \n",
    "    def model_fit(t, a, b, c, d, e, f, g, h, i, j, k):\n",
    "        fit = gate_wrapper(t, a, b, c, d, e, f, g, h, i, j, k, ind1, ind2, extra, y0)\n",
    "        return pd.Series(fit[3])\n",
    "    \n",
    "    f_params, f_cov = curve_fit(model_fit, f_t, f_data, p0=init_guesses, bounds=gate_bounds)\n",
    "    f_sim = model_fit(f_t, *f_params)\n",
    "    f_df = pd.DataFrame({'Parameters': parameters, 'Value': f_params, 'Err': np.sqrt(np.diag(f_cov))})\n",
    "    return f_df, f_sim, f_t, f_data"
   ]
  },
  {
   "cell_type": "code",
   "execution_count": null,
   "id": "floppy-today",
   "metadata": {},
   "outputs": [],
   "source": [
    "f_df_sin_all = []\n",
    "for n in range(4):\n",
    "    f_df_sin, f_sim_sin, f_t_sin, f_data_sin = fit_single_state(fluo_sel.iloc[:,n], od_params_sel[n], int(n/2), n%2)\n",
    "    f_df_sin_all.append(f_df_sin)"
   ]
  },
  {
   "cell_type": "code",
   "execution_count": null,
   "id": "graphic-seven",
   "metadata": {},
   "outputs": [],
   "source": [
    "guesses = []\n",
    "lowers = []\n",
    "uppers = []\n",
    "for param in tqdm(f_df_sin['Parameters']):\n",
    "    vals = [i.loc[i['Parameters']==param, 'Value'].values for i in f_df_sin_all]\n",
    "    lows = [(i.loc[i['Parameters']==param, 'Value'].values - i.loc[i['Parameters']==param, 'Err'].values) for i in f_df_sin_all]\n",
    "    highs = [(i.loc[i['Parameters']==param, 'Value'].values + i.loc[i['Parameters']==param, 'Err'].values) for i in f_df_sin_all]\n",
    "    #print('v', vals) \n",
    "    #print('l', lows)\n",
    "    #print('h', highs)\n",
    "    guesses.append(np.mean(vals))\n",
    "    lowers.append(np.mean(lows))\n",
    "    uppers.append(np.mean(highs))\n",
    "lowers = [i if i >= 0 else 0 for i in lowers]"
   ]
  },
  {
   "cell_type": "code",
   "execution_count": null,
   "id": "democratic-pontiac",
   "metadata": {},
   "outputs": [],
   "source": [
    "#objective function\n",
    "def computeSSE_global(init_params, f_t, f_data, bounds, od_params):\n",
    "    \n",
    "    def model_fit_inner(t, a, b, c, d, e, f, g, h, i, j, k, ind1, ind2, extra, y0):\n",
    "        fit = gate_wrapper(t, a, b, c, d, e, f, g, h, i, j, k, ind1, ind2, extra, y0)\n",
    "        return pd.Series(fit[3])\n",
    "    \n",
    "    def model_fit(t, a, b, c, d, e, f, g, h, i, j, k):\n",
    "        result = [model_fit_inner(f_t[:int(len(f_t)/4)], a, b, c, d, e, f, g, h, i, j, k, int(n/2), n%2, \\\n",
    "                                   (od_params[n][0], od_params[n][1]), np.append(np.zeros(4), od_params[n][2])) \\\n",
    "                                   for n in range(4)]\n",
    "        return pd.concat(result)\n",
    "    \n",
    "    f_params, _ = curve_fit(model_fit, f_t, f_data, p0=init_params, bounds=bounds)\n",
    "    solution = model_fit(f_t, *f_params)\n",
    "    error = [(val-sal)**2 for val, sal in zip(solution, f_data)]\n",
    "    \n",
    "    return sum(error)\n",
    "\n",
    "\n",
    "#generate random numbers from a uniform distribution for initial guesses\n",
    "def randomSearch_global(iterations, num_params, f_t, f_data, bounds, od_params):\n",
    "    \n",
    "    initialGuesses = []\n",
    "    for k in tqdm(range(iterations)):\n",
    "        guess = [np.random.uniform(low=low, high=high) for low, high in zip(bounds[0], bounds[1])]\n",
    "        error = computeSSE_global(guess, f_t, f_data, bounds, od_params)\n",
    "        initialGuesses.append((error, guess))\n",
    "    \n",
    "    sortedGuesses = sorted(initialGuesses)\n",
    "    bestGuess = sortedGuesses[0][1]\n",
    "    \n",
    "    return bestGuess"
   ]
  },
  {
   "cell_type": "code",
   "execution_count": null,
   "id": "electric-reasoning",
   "metadata": {},
   "outputs": [],
   "source": [
    "def fit_all_states(fluo, od_params, _init_guesses, lower_bounds, upper_bounds):\n",
    "    \n",
    "    num_states = 4\n",
    "    parameters = ['bn', 'bc', 'bg', 'syn_ECFn', 'syn_ECFc', 'syn_ECF', 'deg', 'syn_GFP', 'deg_GFP', 'K', 'n']\n",
    "    \n",
    "    title = fluo.columns.tolist()[0] #take the first entry only because they are all the same\n",
    "    f_t = np.concatenate([fluo.index] * num_states)\n",
    "    f_data = pd.concat([fluo.iloc[:,i] for i in range(num_states)]) \n",
    "    y0 = pd.concat([pd.Series(np.append(np.zeros(4), od_params[i][2])) for i in range(num_states)])\n",
    "    \n",
    "    gate_bounds = [lower_bounds, upper_bounds]\n",
    "    \n",
    "    init_guesses = randomSearch_global(10, len(parameters), f_t, f_data, gate_bounds, od_params)\n",
    "    \n",
    "    def model_fit_inner(t, a, b, c, d, e, f, g, h, i, j, k, ind1, ind2, extra, y0):\n",
    "        fit = gate_wrapper(t, a, b, c, d, e, f, g, h, i, j, k, ind1, ind2, extra, y0)\n",
    "        return pd.Series(fit[3])\n",
    "    \n",
    "    def model_fit(t, a, b, c, d, e, f, g, h, i, j, k):\n",
    "        result = [model_fit_inner(fluo.index, a, b, c, d, e, f, g, h, i, j, k, int(n/2), n%2, \\\n",
    "                                   (od_params[n][0], od_params[n][1]), np.append(np.zeros(4), od_params[n][2])) \\\n",
    "                                   for n in range(num_states)]\n",
    "        return pd.concat(result)\n",
    "    \n",
    "    f_params, f_cov = curve_fit(model_fit, f_t, f_data, p0=init_guesses, bounds=gate_bounds)#, method='dogbox')\n",
    "    #f_params, f_cov = curve_fit(model_fit, f_t, f_data, p0=init_guesses)\n",
    "    f_sim = model_fit(f_t, *f_params)\n",
    "    f_df = pd.DataFrame({'Parameters': parameters, 'Value': f_params, 'Err': np.sqrt(np.diag(f_cov))})\n",
    "    return f_df, f_sim, f_t, f_data"
   ]
  },
  {
   "cell_type": "code",
   "execution_count": null,
   "id": "common-wisdom",
   "metadata": {},
   "outputs": [],
   "source": [
    "f_df_res, f_sim_res, f_t_res, f_data_res = fit_all_states(fluo_sel, od_params_sel, guesses, lowers, uppers)"
   ]
  },
  {
   "cell_type": "code",
   "execution_count": null,
   "id": "outside-bachelor",
   "metadata": {},
   "outputs": [],
   "source": [
    "f, axs = plt.subplots(1, 4, sharex=True, sharey=False, figsize=(12, 3))\n",
    "axr = axs.ravel()\n",
    "idx = len(fluo_sel.iloc[:,0])\n",
    "for i, ax in enumerate(axr):\n",
    "    ax.scatter(f_t_res[idx*i:idx*(i+1)]/60, f_data_res[idx*i:idx*(i+1)], c='slategrey', s=7)\n",
    "    ax.plot(f_t_res[idx*i:idx*(i+1)]/60, f_sim_res[idx*i:idx*(i+1)], c='deeppink')\n",
    "    ax.set_title(gate + '-' + format(i, '02b'))\n",
    "    ax.set_xlabel('Time (h)')\n",
    "plt.tight_layout()\n",
    "sns.despine()"
   ]
  },
  {
   "cell_type": "code",
   "execution_count": null,
   "id": "forty-major",
   "metadata": {},
   "outputs": [],
   "source": [
    "plt.errorbar(f_df_res['Parameters'], f_df_res['Value'], f_df_res['Err'], fmt='.')\n",
    "plt.xticks(rotation=90)\n",
    "plt.show()"
   ]
  },
  {
   "cell_type": "markdown",
   "id": "premier-catering",
   "metadata": {},
   "source": [
    "#### Tuning the Parameter Grid"
   ]
  },
  {
   "cell_type": "code",
   "execution_count": null,
   "id": "superior-anger",
   "metadata": {},
   "outputs": [],
   "source": [
    "def simulate_all_states(fluo, od_params, g):\n",
    "    \n",
    "    num_states = 4\n",
    "    parameters = ['bn', 'bc', 'bg', 'syn_ECFn', 'syn_ECFc', 'syn_ECF', 'deg', 'syn_GFP', 'deg_GFP', 'K', 'n']\n",
    "    \n",
    "    title = fluo.columns.tolist()[0] #take the first entry only because they are all the same\n",
    "    f_t = np.concatenate([fluo.index] * num_states)\n",
    "    f_data = pd.concat([fluo.iloc[:,i] for i in range(num_states)]) \n",
    "    y0 = pd.concat([pd.Series(np.append(np.zeros(4), od_params[i][2])) for i in range(num_states)])\n",
    "    \n",
    "    #gate_bounds = [lower_bounds, upper_bounds]\n",
    "    \n",
    "    #init_guesses = randomSearch_global(10, len(parameters), f_t, f_data, gate_bounds, od_params)\n",
    "    f_params = [g[par] for par in parameters]\n",
    "    \n",
    "    def model_fit_inner(t, a, b, c, d, e, f, g, h, i, j, k, ind1, ind2, extra, y0):\n",
    "        fit = gate_wrapper(t, a, b, c, d, e, f, g, h, i, j, k, ind1, ind2, extra, y0)\n",
    "        return pd.Series(fit[3])\n",
    "    \n",
    "    def model_fit(t, a, b, c, d, e, f, g, h, i, j, k):\n",
    "        result = [model_fit_inner(fluo.index, a, b, c, d, e, f, g, h, i, j, k, int(n/2), n%2, \\\n",
    "                                   (od_params[n][0], od_params[n][1]), np.append(np.zeros(4), od_params[n][2])) \\\n",
    "                                   for n in range(num_states)]\n",
    "        return pd.concat(result)\n",
    "    \n",
    "    #f_params, f_cov = curve_fit(model_fit, f_t, f_data, p0=init_guesses, bounds=gate_bounds)#, method='dogbox')\n",
    "    #f_params, f_cov = curve_fit(model_fit, f_t, f_data, p0=init_guesses)\n",
    "    f_sim = model_fit(f_t, *f_params)\n",
    "    f_df = pd.DataFrame({'Parameters': parameters, 'Value': f_params})#, 'Err': np.sqrt(np.diag(f_cov))})\n",
    "    return f_df, f_sim, f_t, f_data"
   ]
  },
  {
   "cell_type": "code",
   "execution_count": null,
   "id": "becoming-banana",
   "metadata": {},
   "outputs": [],
   "source": [
    "from sklearn.model_selection import ParameterGrid\n",
    "\n",
    "params = {\n",
    "    'bn': [1e0, 1e-1],\n",
    "    'bc': [1e0, 1e-1],\n",
    "    'bg': [1e-3, 1e-2],\n",
    "    'syn_ECFn': [4e1, 4e0],\n",
    "    'syn_ECFc': [4e1, 4e0],\n",
    "    'syn_ECF': [50e-11, 50e-10],\n",
    "    'deg': [7e-4, 7e-3],\n",
    "    'syn_GFP': [1e5, 1e4],\n",
    "    'deg_GFP': [1e-3, 1e-2],\n",
    "    'K': [1e-2, 1e-1],\n",
    "    'n': [2, 3]\n",
    "}\n",
    "\n",
    "tuned_results = []\n",
    "grid = ParameterGrid(params)\n",
    "for g in tqdm(grid):\n",
    "    #print(g)\n",
    "    f_df_res, f_sim_res, f_t_res, f_data_res = simulate_all_states(fluo_sel, od_params_sel, g)\n",
    "    tuned_results.append((f_df_res, f_sim_res))"
   ]
  },
  {
   "cell_type": "code",
   "execution_count": null,
   "id": "biological-commission",
   "metadata": {},
   "outputs": [],
   "source": [
    "oridata = f_data_res.reset_index(drop=True) * 4\n",
    "errs = []\n",
    "for i in range(len(tuned_results)):\n",
    "    tardata = tuned_results[i][1].reset_index(drop=True)\n",
    "    errs.append(np.sum((oridata - tardata)**2))"
   ]
  },
  {
   "cell_type": "code",
   "execution_count": null,
   "id": "listed-mongolia",
   "metadata": {},
   "outputs": [],
   "source": [
    "errs.index(np.min(errs)), errs[errs.index(np.min(errs))]"
   ]
  },
  {
   "cell_type": "code",
   "execution_count": null,
   "id": "closed-roller",
   "metadata": {},
   "outputs": [],
   "source": [
    "f, axs = plt.subplots(1, 4, sharex=True, sharey=False, figsize=(12, 3))\n",
    "axr = axs.ravel()\n",
    "idx = len(fluo_sel.iloc[:,0])\n",
    "for i, ax in enumerate(axr):\n",
    "    ax.scatter(f_t_res[idx*i:idx*(i+1)]/60, f_data_res[idx*i:idx*(i+1)], c='slategrey', s=7)\n",
    "    ax.plot(f_t_res[idx*i:idx*(i+1)]/60, tuned_results[errs.index(np.min(errs))][1][idx*i:idx*(i+1)], c='deeppink')\n",
    "    ax.set_title(gate + '-' + format(i, '02b'))\n",
    "    ax.set_xlabel('Time (h)')\n",
    "plt.tight_layout()\n",
    "sns.despine()"
   ]
  },
  {
   "cell_type": "code",
   "execution_count": null,
   "id": "macro-element",
   "metadata": {},
   "outputs": [],
   "source": [
    "np.min(errs), np.max(errs)"
   ]
  },
  {
   "cell_type": "code",
   "execution_count": null,
   "id": "alone-receiver",
   "metadata": {},
   "outputs": [],
   "source": [
    "f, axs = plt.subplots(1, 4, sharex=True, sharey=False, figsize=(12, 3))\n",
    "axr = axs.ravel()\n",
    "idx = len(fluo_sel.iloc[:,0])\n",
    "for i, ax in enumerate(axr):\n",
    "    ax.scatter(f_t_res[idx*i:idx*(i+1)]/60, f_data_res[idx*i:idx*(i+1)], c='slategrey', s=7)\n",
    "    ax.plot(f_t_res[idx*i:idx*(i+1)]/60, f_sim_res[idx*i:idx*(i+1)], c='deeppink')\n",
    "    ax.set_title(gate + '-' + format(i, '02b'))\n",
    "    ax.set_xlabel('Time (h)')\n",
    "plt.tight_layout()\n",
    "sns.despine()"
   ]
  },
  {
   "cell_type": "code",
   "execution_count": null,
   "id": "imposed-tuesday",
   "metadata": {},
   "outputs": [],
   "source": [
    "plt.errorbar(f_df_res['Parameters'], f_df_res['Value'], f_df_res['Err'], fmt='.')\n",
    "plt.xticks(rotation=90)\n",
    "plt.show()"
   ]
  },
  {
   "cell_type": "markdown",
   "id": "executed-report",
   "metadata": {},
   "source": [
    "#### Simulated Data"
   ]
  },
  {
   "cell_type": "code",
   "execution_count": null,
   "id": "indirect-moral",
   "metadata": {},
   "outputs": [],
   "source": [
    "od_sim_data = []\n",
    "for r, K, c0 in od_params_sel:\n",
    "    #r, K, c0 = od_params_selected[sel]\n",
    "    od_sim = od_wrapper(od_sel.index, r, K, c0)\n",
    "    od_noise = (od_sim.max() * 0.01) * np.random.normal(size=idx)\n",
    "    od_t = od_sel.index\n",
    "    od_new = pd.Series(od_sim+od_noise, index=od_t)\n",
    "    od_sim_data.append(od_new)\n",
    "    plt.plot(od_t/60, od_new, label=gates[sel])\n",
    "#plt.legend()\n",
    "plt.title('Simulated OD')\n",
    "sns.despine()\n",
    "plt.show()"
   ]
  },
  {
   "cell_type": "code",
   "execution_count": null,
   "id": "august-information",
   "metadata": {},
   "outputs": [],
   "source": [
    "od_sim_df = pd.concat([od_sim_data[0], od_sim_data[1]], axis=1)\n",
    "od_sim_df = pd.concat([od_sim_df, od_sim_data[2]], axis=1)\n",
    "od_sim_df = pd.concat([od_sim_df, od_sim_data[3]], axis=1)\n",
    "od_sim_df = od_sim_df.set_axis(['00', '01', '10', '11'], axis=1)"
   ]
  },
  {
   "cell_type": "code",
   "execution_count": null,
   "id": "simple-linux",
   "metadata": {},
   "outputs": [],
   "source": [
    "idx = len(fluo_sel.iloc[:,0])\n",
    "noise = (f_sim_res.max() * 0.01) * np.random.normal(size=idx)\n",
    "sim_00 = pd.Series(f_sim_res[0*idx:1*idx]+noise, index=f_t_res[0*idx:1*idx])\n",
    "sim_01 = pd.Series(f_sim_res[1*idx:2*idx]+noise, index=f_t_res[1*idx:2*idx])\n",
    "sim_10 = pd.Series(f_sim_res[2*idx:3*idx]+noise, index=f_t_res[2*idx:3*idx])\n",
    "sim_11 = pd.Series(f_sim_res[3*idx:4*idx]+noise, index=f_t_res[3*idx:4*idx])\n",
    "\n",
    "plt.plot(f_t_res[0*idx:1*idx], sim_00)\n",
    "plt.plot(f_t_res[1*idx:2*idx], sim_01)\n",
    "plt.plot(f_t_res[2*idx:3*idx], sim_10)\n",
    "plt.plot(f_t_res[3*idx:4*idx], sim_11)\n",
    "plt.title('Simulated Fluorescence')\n",
    "sns.despine()\n",
    "plt.show()"
   ]
  },
  {
   "cell_type": "code",
   "execution_count": null,
   "id": "designed-homework",
   "metadata": {},
   "outputs": [],
   "source": [
    "fluo_sel2 = pd.concat([sim_00, sim_01], axis=1)\n",
    "fluo_sel2 = pd.concat([fluo_sel2, sim_10], axis=1)\n",
    "fluo_sel2 = pd.concat([fluo_sel2, sim_11], axis=1)\n",
    "\n",
    "od_params_sel2 = od_inference(od_sim_df)\n",
    "\n",
    "f_t_res2, f_df_res2, f_sim_res2, f_data_res2 = fit_multiple(fluo_sel2, od_params_sel2)"
   ]
  },
  {
   "cell_type": "code",
   "execution_count": null,
   "id": "interior-negotiation",
   "metadata": {},
   "outputs": [],
   "source": [
    "fig, ax = plt.subplots()\n",
    "trans1 = Affine2D().translate(-0.1, 0.0) + ax.transData\n",
    "trans2 = Affine2D().translate(+0.1, 0.0) + ax.transData\n",
    "er1 = ax.errorbar(f_df_res['Parameters'], f_df_res['Value'], f_df_res['Err'], fmt='.', transform=trans1, label='experiment')\n",
    "er2 = ax.errorbar(f_df_res2['Parameters'], f_df_res2['Value'], f_df_res2['Err'], fmt='.', transform=trans2, label='simulated')\n",
    "plt.legend()\n",
    "plt.xticks(rotation=90)\n",
    "plt.show()"
   ]
  },
  {
   "cell_type": "markdown",
   "id": "geographic-contemporary",
   "metadata": {},
   "source": [
    "#### Modeling All Gates"
   ]
  },
  {
   "cell_type": "code",
   "execution_count": null,
   "id": "missing-society",
   "metadata": {},
   "outputs": [],
   "source": [
    "gates = fluo11.columns.tolist()\n",
    "#gates.remove('e38TerThyXS2') #for some reasons it did not work with this gate, so remove it for now\n",
    "f_t_res_all = []\n",
    "f_df_res_all = []\n",
    "f_sim_res_all = []\n",
    "f_data_res_all = []\n",
    "od_simulated_df_all = []\n",
    "\n",
    "for gate in tqdm(gates):\n",
    "    \n",
    "    fluo_selected = pd.concat([fluo00[gate], fluo01[gate]], axis=1)\n",
    "    fluo_selected = pd.concat([fluo_selected, fluo10[gate]], axis=1)\n",
    "    fluo_selected = pd.concat([fluo_selected, fluo11[gate]], axis=1)\n",
    "    od_selected = pd.concat([od00[gate], od01[gate]], axis=1)\n",
    "    od_selected = pd.concat([od_selected, od10[gate]], axis=1)\n",
    "    od_selected = pd.concat([od_selected, od11[gate]], axis=1)\n",
    "    \n",
    "    od_params_selected = od_inference(od_selected)\n",
    "    \n",
    "    od_simulated_data = []\n",
    "    for r, K, c0 in od_params_selected:\n",
    "        #r, K, c0 = od_params_selected[sel]\n",
    "        od_sim = od_wrapper(od_selected.index, r, K, c0)\n",
    "        od_noise = (od_sim.max() * 0.01) * np.random.normal(size=len(od_sim))\n",
    "        od_t = od_selected.index\n",
    "        od_new_data = pd.Series(od_sim+od_noise, index=od_t)\n",
    "        od_simulated_data.append(od_new_data)\n",
    "    \n",
    "    od_simulated_df = pd.concat([od_simulated_data[0], od_simulated_data[1]], axis=1)\n",
    "    od_simulated_df = pd.concat([od_simulated_df, od_simulated_data[2]], axis=1)\n",
    "    od_simulated_df = pd.concat([od_simulated_df, od_simulated_data[3]], axis=1)\n",
    "    od_simulated_df_all.append(od_simulated_df)\n",
    "    \n",
    "    f_t_res, f_df_res, f_sim_res, f_data_res = fit_multiple(fluo_selected, od_params_selected)\n",
    "    f_t_res_all.append(f_t_res)\n",
    "    f_df_res_all.append(f_df_res)\n",
    "    f_sim_res_all.append(f_sim_res)\n",
    "    f_data_res_all.append(f_data_res)"
   ]
  },
  {
   "cell_type": "code",
   "execution_count": null,
   "id": "altered-disposition",
   "metadata": {},
   "outputs": [],
   "source": [
    "f_t_res_all2 = []\n",
    "f_df_res_all2 = []\n",
    "f_sim_res_all2 = []\n",
    "f_data_res_all2 = []\n",
    "\n",
    "for sel in tqdm(range(len(gates))):\n",
    "    \n",
    "    idx = len(fluo_selected.iloc[:,0])\n",
    "    noise = (f_sim_res_all[sel].max() * 0.01) * np.random.normal(size=idx)\n",
    "    simulated_00 = pd.Series(f_sim_res_all[sel][0*idx:1*idx]+noise, index=f_t_res_all[sel][0*idx:1*idx])\n",
    "    simulated_01 = pd.Series(f_sim_res_all[sel][1*idx:2*idx]+noise, index=f_t_res_all[sel][1*idx:2*idx])\n",
    "    simulated_10 = pd.Series(f_sim_res_all[sel][2*idx:3*idx]+noise, index=f_t_res_all[sel][2*idx:3*idx])\n",
    "    simulated_11 = pd.Series(f_sim_res_all[sel][3*idx:4*idx]+noise, index=f_t_res_all[sel][3*idx:4*idx])\n",
    "\n",
    "    fluo_selected2 = pd.concat([simulated_00, simulated_01], axis=1)\n",
    "    fluo_selected2 = pd.concat([fluo_selected2, simulated_10], axis=1)\n",
    "    fluo_selected2 = pd.concat([fluo_selected2, simulated_11], axis=1)\n",
    "\n",
    "    od_params_selected2 = od_inference(od_simulated_df_all[sel])\n",
    "\n",
    "    f_t_res2, f_df_res2, f_sim_res2, f_data_res2 = fit_multiple(fluo_selected2, od_params_selected2)\n",
    "    f_t_res_all2.append(f_t_res2)\n",
    "    f_df_res_all2.append(f_df_res2)\n",
    "    f_sim_res_all2.append(f_sim_res2)\n",
    "    f_data_res_all2.append(f_data_res2)"
   ]
  },
  {
   "cell_type": "code",
   "execution_count": null,
   "id": "muslim-laundry",
   "metadata": {},
   "outputs": [],
   "source": [
    "f, axs = plt.subplots(4, 6, sharex=True, sharey=False, figsize=(18, 8))\n",
    "axr = axs.ravel()\n",
    "idx = len(fluo_selected.iloc[:,0])\n",
    "for i, ax in enumerate(axr):\n",
    "    if i < len(f_t_res_all):\n",
    "        ax.scatter(f_t_res_all[i][-len(fluo_selected.iloc[:,0]):]/60, f_data_res_all[i][-len(fluo_selected.iloc[:,0]):], c='slategrey', s=7)\n",
    "        ax.plot(f_t_res_all[i][-len(fluo_selected.iloc[:,0]):]/60, f_sim_res_all[i][-len(fluo_selected.iloc[:,0]):], c='deeppink')\n",
    "        ax.set_title(gates[i] + ' - 11')\n",
    "        ax.set_xlabel('Time (h)')\n",
    "    else:\n",
    "        ax.set_visible(False)\n",
    "plt.tight_layout()\n",
    "sns.despine()"
   ]
  },
  {
   "cell_type": "code",
   "execution_count": null,
   "id": "victorian-firewall",
   "metadata": {},
   "outputs": [],
   "source": [
    "f, axs = plt.subplots(4, 6, sharex=True, sharey=False, figsize=(18, 8))\n",
    "axr = axs.ravel()\n",
    "idx = len(fluo_selected.iloc[:,0])\n",
    "for i, ax in enumerate(axr):\n",
    "    if i < len(gates):\n",
    "        ax.scatter(f_t_res_all[i][:len(fluo_selected.iloc[:,0])]/60, f_data_res_all[i][:len(fluo_selected.iloc[:,0])], c='slategrey', s=7)\n",
    "        ax.plot(f_t_res_all[i][:len(fluo_selected.iloc[:,0])]/60, f_sim_res_all[i][:len(fluo_selected.iloc[:,0])], c='deeppink')\n",
    "        ax.set_title(gates[i] + ' - 00')\n",
    "        ax.set_xlabel('Time (h)')\n",
    "    else:\n",
    "        ax.set_visible(False)\n",
    "plt.tight_layout()\n",
    "sns.despine()"
   ]
  },
  {
   "cell_type": "code",
   "execution_count": null,
   "id": "devoted-horizon",
   "metadata": {},
   "outputs": [],
   "source": [
    "f, axs = plt.subplots(4, 6, sharex=True, sharey=False, figsize=(18, 8))\n",
    "axr = axs.ravel()\n",
    "idx = len(fluo_selected.iloc[:,0])\n",
    "for i, ax in enumerate(axr):\n",
    "    if i < len(gates):\n",
    "        ax.scatter(f_t_res_all[i][idx:2*idx]/60, f_data_res_all[i][idx:2*idx], c='slategrey', s=7)\n",
    "        ax.plot(f_t_res_all[i][idx:2*idx]/60, f_sim_res_all[i][idx:2*idx], c='deeppink')\n",
    "        ax.set_title(gates[i] + ' - 01')\n",
    "        ax.set_xlabel('Time (h)')\n",
    "    else:\n",
    "        ax.set_visible(False)\n",
    "plt.tight_layout()\n",
    "sns.despine()"
   ]
  },
  {
   "cell_type": "code",
   "execution_count": null,
   "id": "level-evanescence",
   "metadata": {},
   "outputs": [],
   "source": [
    "f, axs = plt.subplots(4, 6, sharex=True, sharey=False, figsize=(18, 8))\n",
    "axr = axs.ravel()\n",
    "idx = len(fluo_selected.iloc[:,0])\n",
    "for i, ax in enumerate(axr):\n",
    "    if i < len(gates):\n",
    "        ax.scatter(f_t_res_all[i][2*idx:3*idx]/60, f_data_res_all[i][2*idx:3*idx], c='slategrey', s=7)\n",
    "        ax.plot(f_t_res_all[i][2*idx:3*idx]/60, f_sim_res_all[i][2*idx:3*idx], c='deeppink')\n",
    "        ax.set_title(gates[i] + ' - 10')\n",
    "        ax.set_xlabel('Time (h)')\n",
    "    else:\n",
    "        ax.set_visible(False)\n",
    "plt.tight_layout()\n",
    "sns.despine()"
   ]
  },
  {
   "cell_type": "code",
   "execution_count": null,
   "id": "fossil-antenna",
   "metadata": {},
   "outputs": [],
   "source": [
    "def plot_parameters(f_df, f_df2=None, show_err=True, compare=False):\n",
    "    \n",
    "    parameters = f_df[0]['Parameters'].values\n",
    "    n_paras = len(parameters)\n",
    "    values = np.stack([df['Value'].values for df in f_df])\n",
    "    errors = np.stack([df['Err'].values for df in f_df])\n",
    "    \n",
    "    if f_df2 is not None:\n",
    "        parameters2 = f_df2[0]['Parameters'].values\n",
    "        #n_paras = len(parameters)\n",
    "        values2 = np.stack([df2['Value'].values for df2 in f_df2])\n",
    "        errors2 = np.stack([df2['Err'].values for df2 in f_df2])\n",
    "\n",
    "    f, axs = plt.subplots(n_paras, 1, sharex=True, figsize=(10, 2*(n_paras+1)))\n",
    "    for i, ax in enumerate(axs):\n",
    "\n",
    "        trans1 = Affine2D().translate(-0.2, 0.0) + ax.transData\n",
    "        trans2 = Affine2D().translate(+0.2, 0.0) + ax.transData\n",
    "\n",
    "        if show_err:\n",
    "            ax.errorbar(gates, values[:,i], errors[:,i], fmt='o', label='experiment', transform=trans1)\n",
    "            if compare:\n",
    "                ax.errorbar(gates, values2[:,i], errors2[:,i], fmt='o', label='simulated', transform=trans2)\n",
    "        else:\n",
    "            ax.scatter(gates, values[:,i], label='experiment', transform=trans1)\n",
    "            if compare:\n",
    "                ax.scatter(gates, values2[:,i], label='simulated', transform=trans2)\n",
    "        ax.set_ylabel(parameters[i])\n",
    "        if compare:\n",
    "            ax.legend()\n",
    "    plt.xticks(rotation=90)\n",
    "    sns.despine()\n",
    "    \n",
    "plot_parameters(f_df_res_all)"
   ]
  },
  {
   "cell_type": "code",
   "execution_count": null,
   "id": "connected-rental",
   "metadata": {},
   "outputs": [],
   "source": [
    "plot_parameters(f_df_res_all, show_err=False)"
   ]
  },
  {
   "cell_type": "code",
   "execution_count": null,
   "id": "accomplished-senegal",
   "metadata": {},
   "outputs": [],
   "source": [
    "f, axs = plt.subplots(4, 6, sharex=True, sharey=False, figsize=(18, 8))\n",
    "axr = axs.ravel()\n",
    "for i, ax in enumerate(axr):\n",
    "    if i < len(gates):\n",
    "        ax.errorbar(f_df_res_all[i]['Parameters'], f_df_res_all[i]['Value'], f_df_res_all[i]['Err'], fmt='.')\n",
    "        #ax.set_xticks(rotation=90)\n",
    "        ax.set_xticklabels(f_df_res_all[i]['Parameters'], rotation=90)\n",
    "        ax.set_title(gates[i])\n",
    "    else:\n",
    "        ax.set_visible(False)\n",
    "plt.tight_layout()\n",
    "sns.despine()"
   ]
  },
  {
   "cell_type": "code",
   "execution_count": null,
   "id": "periodic-juice",
   "metadata": {},
   "outputs": [],
   "source": [
    "plot_parameters(f_df_res_all, f_df_res_all2, compare=True, show_err=False)"
   ]
  },
  {
   "cell_type": "code",
   "execution_count": null,
   "id": "expired-holder",
   "metadata": {},
   "outputs": [],
   "source": [
    "plot_parameters(f_df_res_all, f_df_res_all2, compare=True, show_err=True)"
   ]
  },
  {
   "cell_type": "code",
   "execution_count": null,
   "id": "thirty-optics",
   "metadata": {},
   "outputs": [],
   "source": [
    "f, axs = plt.subplots(4, 6, sharex=True, sharey=False, figsize=(18, 8))\n",
    "trans1 = Affine2D().translate(-0.1, 0.0) + ax.transData\n",
    "trans2 = Affine2D().translate(+0.1, 0.0) + ax.transData\n",
    "axr = axs.ravel()\n",
    "for i, ax in enumerate(axr):\n",
    "    if i < len(gates):\n",
    "        ax.errorbar(f_df_res_all[i]['Parameters'], f_df_res_all[i]['Value'], f_df_res_all[i]['Err'], fmt='.', label='experiment')\n",
    "        ax.errorbar(f_df_res_all2[i]['Parameters'], f_df_res_all2[i]['Value'], f_df_res_all2[i]['Err'], fmt='.', label='simulated')\n",
    "\n",
    "        ax.set_xticklabels(f_df_res_all[i]['Parameters'], rotation=90)\n",
    "        ax.set_title(gates[i])\n",
    "        ax.legend()\n",
    "    else:\n",
    "        ax.set_visible(False)\n",
    "plt.tight_layout()\n",
    "sns.despine()"
   ]
  },
  {
   "cell_type": "code",
   "execution_count": null,
   "id": "dominican-vehicle",
   "metadata": {},
   "outputs": [],
   "source": [
    "f, axs = plt.subplots(4, 6, sharex=True, sharey=False, figsize=(18, 8))\n",
    "axr = axs.ravel()\n",
    "idx = len(fluo_selected.iloc[:,0])\n",
    "for i, ax in enumerate(axr):\n",
    "    if i < len(f_t_res_all2):\n",
    "        ax.scatter(f_t_res_all2[i][-len(fluo_selected.iloc[:,0]):]/60, f_data_res_all2[i][-len(fluo_selected.iloc[:,0]):], c='slategrey', s=7)\n",
    "        ax.plot(f_t_res_all2[i][-len(fluo_selected.iloc[:,0]):]/60, f_sim_res_all2[i][-len(fluo_selected.iloc[:,0]):], c='deeppink')\n",
    "        ax.set_title(gates[i] + ' - 11')\n",
    "        ax.set_xlabel('Time (h)')\n",
    "    else:\n",
    "        ax.set_visible(False)\n",
    "plt.tight_layout()\n",
    "sns.despine()"
   ]
  },
  {
   "cell_type": "code",
   "execution_count": null,
   "id": "indirect-oklahoma",
   "metadata": {},
   "outputs": [],
   "source": [
    "def generic_sigmoid(t, r, v, ymax, ind, y0):\n",
    "    \n",
    "    def gate_model(y, t):\n",
    "        dy = r * (1 - (y[0]/(ind * ymax))**v) * y[0]\n",
    "        return [dy]\n",
    "    \n",
    "    solution = odeint(gate_model, y0, t)\n",
    "    return solution.transpose()\n",
    "\n",
    "def double_sigmoid(t, r1, ymax1, v1, r2, ymax2, v2, y0):\n",
    "    \n",
    "    def gate_model(y, t):\n",
    "        dy = (r1 * (1 - (y[0]/ymax1)**v1) * y[0]) + (r2 * (1 - (y[0]/ymax2)**v2) * y[0])\n",
    "        return [dy]\n",
    "    \n",
    "    solution = odeint(gate_model, y0, t)\n",
    "    return solution.transpose()"
   ]
  }
 ],
 "metadata": {
  "kernelspec": {
   "display_name": "Python 3 (ipykernel)",
   "language": "python",
   "name": "python3"
  },
  "language_info": {
   "codemirror_mode": {
    "name": "ipython",
    "version": 3
   },
   "file_extension": ".py",
   "mimetype": "text/x-python",
   "name": "python",
   "nbconvert_exporter": "python",
   "pygments_lexer": "ipython3",
   "version": "3.9.12"
  }
 },
 "nbformat": 4,
 "nbformat_minor": 5
}
