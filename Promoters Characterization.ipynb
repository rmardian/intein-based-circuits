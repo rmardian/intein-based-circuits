{
 "cells": [
  {
   "cell_type": "code",
   "execution_count": 1,
   "id": "sought-cancellation",
   "metadata": {},
   "outputs": [],
   "source": [
    "import numpy as np\n",
    "import pandas as pd\n",
    "pd.set_option('display.max_columns', None)\n",
    "pd.set_option('display.max_rows', None)\n",
    "import matplotlib.pyplot as plt\n",
    "import seaborn as sns\n",
    "from scipy.optimize import curve_fit\n",
    "from sklearn.metrics import r2_score"
   ]
  },
  {
   "cell_type": "code",
   "execution_count": 2,
   "id": "af739d8f",
   "metadata": {},
   "outputs": [],
   "source": [
    "def hill_activation(x, K, n, ymin, ymax):\n",
    "    \n",
    "    return ymin + (ymax - ymin) * (x**n / (K**n + x**n))"
   ]
  },
  {
   "cell_type": "code",
   "execution_count": 3,
   "id": "homeless-pattern",
   "metadata": {},
   "outputs": [],
   "source": [
    "def read_map(plate_map):\n",
    "    \n",
    "    plate_map = plate_map.melt(id_vars=['group'])\n",
    "    plate_map['variable'] = plate_map['variable'].astype(int)\n",
    "    plate_map['Well'] = plate_map['group'] + plate_map['variable'].apply(lambda x: '{:02d}'.format(x))\n",
    "    plate_map.loc[~plate_map['group'].isin(['H']), 'suffix'] = (plate_map['variable'] - 1) % 12\n",
    "    plate_map.loc[plate_map['group'].isin(['H']), 'suffix'] = (plate_map['variable'] - 1) % 2\n",
    "    return plate_map[['Well', 'value', 'suffix']]\n",
    "\n",
    "def generate_metadata(well, plate_map, sample_map):\n",
    "    \n",
    "    df = pd.merge(well, plate_map, on='Well', how='left').dropna(subset=['value']).reset_index(drop=True)\n",
    "    df['short_name'] = df['value'].map(sample_map) + '_' + df['suffix'].astype(int).astype(str)\n",
    "    return df.dropna()\n",
    "\n",
    "def transpose_data(df, col, timepoint=20):\n",
    "    \n",
    "    df.set_index(col, inplace=True)\n",
    "    df = df.transpose().reset_index(drop=True)\n",
    "    df.index = df.index * timepoint\n",
    "    return df\n",
    "\n",
    "def generate_data(df, name, datapoint=2, num_data=4, start_idx=3, col='short_name'):\n",
    "    \n",
    "    datas = []\n",
    "    idxs = [start_idx]\n",
    "    for i in range(1, num_data+1):\n",
    "        idxs.append(idxs[i-1] + datapoint)\n",
    "        data = (df.iloc[:, idxs[i-1]:idxs[i]]).astype(float)\n",
    "        data = pd.concat([name, data], axis=1)\n",
    "        data = transpose_data(data, col)\n",
    "        datas.append(data)\n",
    "    return datas\n",
    "\n",
    "def get_blank_corrected(data):\n",
    "    \n",
    "    blank_corrected = data.sub(data[filter(lambda x: x.startswith('blank'), data.columns)].mean(axis=1), axis=0)\n",
    "    return blank_corrected.drop(filter(lambda x: x.startswith('blank'), blank_corrected.columns), axis=1).reset_index(drop=True)\n",
    "\n",
    "def get_neg_ctrl_corrected(fluo, od):\n",
    "    \n",
    "    blank_corr_fluo = get_blank_corrected(fluo)\n",
    "    blank_corr_od = get_blank_corrected(od)\n",
    "    data = blank_corr_fluo / blank_corr_od\n",
    "    neg_corrected = data.sub(data[filter(lambda x: x.startswith('negative-control'), data.columns)].mean(axis=1), axis=0)\n",
    "    return neg_corrected.drop(filter(lambda x: x.startswith('negative-control'), neg_corrected.columns), axis=1)"
   ]
  },
  {
   "cell_type": "code",
   "execution_count": 4,
   "id": "growing-capitol",
   "metadata": {},
   "outputs": [],
   "source": [
    "sample_map = {\n",
    "    'P62': 'pBAD-rJ/Ara',\n",
    "    'P63': 'araC-pBAD-rJ/Ara',\n",
    "    'P64': 'pCin-rJ/OHC14',\n",
    "    'P65': 'pCymRC-rJ/Cuma',\n",
    "    'P66': 'cymRC-pCymRC-rJ/Cuma',\n",
    "    'P67': 'pLux2-rJ/AHL',\n",
    "    'P68': 'pLuxB-rJ/AHL',\n",
    "    'P69': 'pPhlF-rJ/DAPG',\n",
    "    'P70': 'pSalTTC-rJ/Sal',\n",
    "    'P71': 'pVanCC-rJ/Van',\n",
    "    'P72': 'rhaS-pRhaB-rJ/Rha',\n",
    "    'P73': 'araC-pBAD/Ara',\n",
    "    'BK': 'blank-kan',\n",
    "    'BA': 'blank-amp',\n",
    "    '3K3-N': 'negative-control-kan',\n",
    "    '4A3-N': 'negative-control-amp',\n",
    "    '4A3-P': 'positive-control-amp'\n",
    "}\n",
    "\n",
    "folder = '106-promoters-characterization'\n",
    "plate_map = read_map(pd.read_csv('datasets/experiment/{}/plate_map.csv'.format(folder)))\n",
    "raw_data = pd.read_csv('datasets/experiment/{}/006-promoters-characterization-01.csv'.format(folder), skiprows=[0])\n",
    "metadata = generate_metadata(raw_data['Well'], plate_map, sample_map)\n",
    "data = raw_data[raw_data['Well'].isin(metadata['Well'])].reset_index(drop=True)\n",
    "ods, fluos, fluos_1, fluos_2 = generate_data(data, metadata['short_name'], datapoint=int((raw_data.shape[1] - 3)/4)) "
   ]
  },
  {
   "cell_type": "code",
   "execution_count": 5,
   "id": "initial-anchor",
   "metadata": {},
   "outputs": [],
   "source": [
    "promoters = ['pBAD-rJ/Ara', 'pCin-rJ/OHC14', 'cymRC-pCymRC-rJ/Cuma',\n",
    "             'pLuxB-rJ/AHL', 'pPhlF-rJ/DAPG', 'pSalTTC-rJ/Sal', 'rhaS-pRhaB-rJ/Rha']\n",
    "induction_lvl = 11\n",
    "max_inducers = [416, 160, 800, 20, 50, 1600, 15300] #ara, ohc14, cuma, ahl, dapg, sal, rha\n",
    "inducers = []\n",
    "dil = 2\n",
    "for x, mi in enumerate(max_inducers):\n",
    "    inducer = ([mi] + [mi/i for i in [dil**j for j in range(1, induction_lvl)]] + [0])\n",
    "    inducer.reverse()\n",
    "    inducers.append(inducer)"
   ]
  },
  {
   "cell_type": "code",
   "execution_count": 6,
   "id": "novel-feature",
   "metadata": {},
   "outputs": [],
   "source": [
    "samples = get_neg_ctrl_corrected(fluos_2[filter(lambda x: '-amp' not in x, fluos_2.columns)],\n",
    "                                 ods[filter(lambda x: '-amp' not in x, ods.columns)])\n",
    "reporter = get_neg_ctrl_corrected(fluos_2[filter(lambda x: '-amp' in x, fluos_2.columns)],\n",
    "                                  ods[filter(lambda x: '-amp' in x, ods.columns)])"
   ]
  },
  {
   "cell_type": "code",
   "execution_count": 8,
   "id": "exact-champion",
   "metadata": {},
   "outputs": [
    {
     "data": {
      "text/plain": [
       "short_name\n",
       "pBAD-rJ/Ara_0               0.023194\n",
       "pBAD-rJ/Ara_1               0.505662\n",
       "pBAD-rJ/Ara_2               2.005926\n",
       "pBAD-rJ/Ara_3               5.305853\n",
       "pBAD-rJ/Ara_4               9.202376\n",
       "pBAD-rJ/Ara_5              12.100361\n",
       "pBAD-rJ/Ara_6              14.709606\n",
       "pBAD-rJ/Ara_7              14.970996\n",
       "pBAD-rJ/Ara_8              14.576975\n",
       "pBAD-rJ/Ara_9              15.241332\n",
       "pBAD-rJ/Ara_10             11.818084\n",
       "pBAD-rJ/Ara_11             13.010940\n",
       "pCin-rJ/OHC14_0             0.003216\n",
       "pCin-rJ/OHC14_1             0.007015\n",
       "pCin-rJ/OHC14_2             0.004144\n",
       "pCin-rJ/OHC14_3             0.004356\n",
       "pCin-rJ/OHC14_4             0.004955\n",
       "pCin-rJ/OHC14_5             0.004248\n",
       "pCin-rJ/OHC14_6             0.003663\n",
       "pCin-rJ/OHC14_7             0.033988\n",
       "pCin-rJ/OHC14_8             0.939296\n",
       "pCin-rJ/OHC14_9             3.010860\n",
       "pCin-rJ/OHC14_10            4.210621\n",
       "pCin-rJ/OHC14_11            3.639139\n",
       "cymRC-pCymRC-rJ/Cuma_0      0.001170\n",
       "cymRC-pCymRC-rJ/Cuma_1      0.001843\n",
       "cymRC-pCymRC-rJ/Cuma_2      0.003532\n",
       "cymRC-pCymRC-rJ/Cuma_3      0.006673\n",
       "cymRC-pCymRC-rJ/Cuma_4      0.035317\n",
       "cymRC-pCymRC-rJ/Cuma_5      0.183045\n",
       "cymRC-pCymRC-rJ/Cuma_6      0.772254\n",
       "cymRC-pCymRC-rJ/Cuma_7      1.082985\n",
       "cymRC-pCymRC-rJ/Cuma_8      1.425150\n",
       "cymRC-pCymRC-rJ/Cuma_9      1.652625\n",
       "cymRC-pCymRC-rJ/Cuma_10     1.619241\n",
       "cymRC-pCymRC-rJ/Cuma_11     2.310106\n",
       "pLuxB-rJ/AHL_0              0.040938\n",
       "pLuxB-rJ/AHL_1              0.976145\n",
       "pLuxB-rJ/AHL_2              1.566370\n",
       "pLuxB-rJ/AHL_3              2.325583\n",
       "pLuxB-rJ/AHL_4              3.143313\n",
       "pLuxB-rJ/AHL_5              5.727835\n",
       "pLuxB-rJ/AHL_6              7.529518\n",
       "pLuxB-rJ/AHL_7              6.351116\n",
       "pLuxB-rJ/AHL_8              7.283952\n",
       "pLuxB-rJ/AHL_9              9.384316\n",
       "pLuxB-rJ/AHL_10            10.020710\n",
       "pLuxB-rJ/AHL_11            10.875317\n",
       "pPhlF-rJ/DAPG_0             1.316288\n",
       "pPhlF-rJ/DAPG_1             1.440086\n",
       "pPhlF-rJ/DAPG_2             1.668968\n",
       "pPhlF-rJ/DAPG_3             2.400186\n",
       "pPhlF-rJ/DAPG_4             4.014715\n",
       "pPhlF-rJ/DAPG_5             7.371127\n",
       "pPhlF-rJ/DAPG_6             9.621587\n",
       "pPhlF-rJ/DAPG_7            11.360676\n",
       "pPhlF-rJ/DAPG_8            11.276271\n",
       "pPhlF-rJ/DAPG_9            11.784069\n",
       "pPhlF-rJ/DAPG_10           12.348004\n",
       "pPhlF-rJ/DAPG_11           13.528623\n",
       "pSalTTC-rJ/Sal_0            0.004376\n",
       "pSalTTC-rJ/Sal_1            0.004731\n",
       "pSalTTC-rJ/Sal_2            0.006080\n",
       "pSalTTC-rJ/Sal_3            0.014858\n",
       "pSalTTC-rJ/Sal_4            0.066152\n",
       "pSalTTC-rJ/Sal_5            0.326020\n",
       "pSalTTC-rJ/Sal_6            1.126702\n",
       "pSalTTC-rJ/Sal_7            2.212119\n",
       "pSalTTC-rJ/Sal_8            3.158216\n",
       "pSalTTC-rJ/Sal_9            4.177519\n",
       "pSalTTC-rJ/Sal_10           5.520517\n",
       "pSalTTC-rJ/Sal_11           7.977761\n",
       "rhaS-pRhaB-rJ/Rha_0         0.016177\n",
       "rhaS-pRhaB-rJ/Rha_1         0.209772\n",
       "rhaS-pRhaB-rJ/Rha_2         0.265018\n",
       "rhaS-pRhaB-rJ/Rha_3         0.376548\n",
       "rhaS-pRhaB-rJ/Rha_4         0.565197\n",
       "rhaS-pRhaB-rJ/Rha_5         0.895647\n",
       "rhaS-pRhaB-rJ/Rha_6         1.467760\n",
       "rhaS-pRhaB-rJ/Rha_7         2.571292\n",
       "rhaS-pRhaB-rJ/Rha_8         4.664295\n",
       "rhaS-pRhaB-rJ/Rha_9         7.278174\n",
       "rhaS-pRhaB-rJ/Rha_10       10.608130\n",
       "rhaS-pRhaB-rJ/Rha_11       12.556537\n",
       "Name: 48, dtype: float64"
      ]
     },
     "execution_count": 8,
     "metadata": {},
     "output_type": "execute_result"
    }
   ],
   "source": [
    "h = 16\n",
    "samples.iloc[int(h * 60/20)].apply(lambda x:  x / reporter.iloc[int(h * 60/20)].mean())"
   ]
  },
  {
   "cell_type": "markdown",
   "id": "periodic-rebate",
   "metadata": {},
   "source": [
    "#### Promoters Characterization"
   ]
  },
  {
   "cell_type": "code",
   "execution_count": 15,
   "id": "unavailable-future",
   "metadata": {},
   "outputs": [
    {
     "name": "stderr",
     "output_type": "stream",
     "text": [
      "<ipython-input-15-8923e92793c1>:24: UserWarning: Data has no positive values, and therefore cannot be log-scaled.\n",
      "  ax.loglog()\n",
      "<ipython-input-15-8923e92793c1>:23: UserWarning: Data has no positive values, and therefore cannot be log-scaled.\n",
      "  ax.scatter(inducers[i][j], rpu, label=np.round(inducers[i][j], 5))\n"
     ]
    },
    {
     "data": {
      "image/png": "[encoded data removed]",
      "text/plain": [
       "<Figure size 1080x432 with 9 Axes>"
      ]
     },
     "metadata": {
      "needs_background": "light"
     },
     "output_type": "display_data"
    }
   ],
   "source": [
    "def get_control(fluos, idx):\n",
    "\n",
    "    gfp = fluos[filter(lambda x: x.startswith('positive-control-amp'), fluos.columns)].mean(axis=1)\n",
    "    neg_amp = fluos[filter(lambda x: x.startswith('negative-control-amp'), fluos.columns)].mean(axis=1)\n",
    "    neg_kan = fluos[filter(lambda x: x.startswith('negative-control-kan'), fluos.columns)].mean(axis=1)\n",
    "    neg_kan_h, gfp_h, neg_amp_h= neg_kan.iloc[idx], gfp.iloc[idx], neg_amp.iloc[idx]\n",
    "    return neg_kan_h, gfp_h, neg_amp_h\n",
    "\n",
    "def promoters_plots(row, col, data, inducers, promoters, h=8, sharex=True, sharey=False):\n",
    "    \n",
    "    idx = 3 * h\n",
    "    responses = []\n",
    "    ctrl = get_control(fluos_2, idx)\n",
    "    \n",
    "    f, axs = plt.subplots(row, col, sharex=sharex, sharey=sharey, figsize=(col*5, row*2))\n",
    "    axr = axs.ravel()\n",
    "    for i, ax in enumerate(axr):\n",
    "        if i < len(promoters):\n",
    "            response = []\n",
    "            for j in range(12):\n",
    "                d = data['{}_{}'.format(promoters[i], j)]\n",
    "                rpu = (d.iloc[idx] - ctrl[0]) / (ctrl[1] - ctrl[2])\n",
    "                ax.scatter(inducers[i][j], rpu, label=np.round(inducers[i][j], 5))\n",
    "                ax.loglog()\n",
    "                response.append(rpu)\n",
    "            ax.set_title('{}_{}'.format(promoters[i], j))\n",
    "            responses.append(response)\n",
    "        else:\n",
    "            ax.set_visible(False)\n",
    "    \n",
    "    sns.despine()\n",
    "    plt.tight_layout()\n",
    "    return responses\n",
    "\n",
    "responses1 = promoters_plots(3, 3, fluos_2, inducers, promoters, 16, sharex=False)"
   ]
  },
  {
   "cell_type": "code",
   "execution_count": 16,
   "id": "several-window",
   "metadata": {},
   "outputs": [
    {
     "ename": "FileNotFoundError",
     "evalue": "[Errno 2] No such file or directory: 'datasets/experiment/011-3-promoters-detailed-characterization/006-promoters-characterization-01.csv'",
     "output_type": "error",
     "traceback": [
      "\u001b[0;31m---------------------------------------------------------------------------\u001b[0m",
      "\u001b[0;31mFileNotFoundError\u001b[0m                         Traceback (most recent call last)",
      "\u001b[0;32m<ipython-input-16-36cf2ea0fdcc>\u001b[0m in \u001b[0;36m<module>\u001b[0;34m\u001b[0m\n\u001b[1;32m      1\u001b[0m \u001b[0mfolder\u001b[0m \u001b[0;34m=\u001b[0m \u001b[0;34m'011-3-promoters-detailed-characterization'\u001b[0m\u001b[0;34m\u001b[0m\u001b[0;34m\u001b[0m\u001b[0m\n\u001b[1;32m      2\u001b[0m \u001b[0mplate_map\u001b[0m \u001b[0;34m=\u001b[0m \u001b[0mread_map\u001b[0m\u001b[0;34m(\u001b[0m\u001b[0mpd\u001b[0m\u001b[0;34m.\u001b[0m\u001b[0mread_csv\u001b[0m\u001b[0;34m(\u001b[0m\u001b[0;34m'datasets/experiment/{}/plate_map.csv'\u001b[0m\u001b[0;34m.\u001b[0m\u001b[0mformat\u001b[0m\u001b[0;34m(\u001b[0m\u001b[0mfolder\u001b[0m\u001b[0;34m)\u001b[0m\u001b[0;34m)\u001b[0m\u001b[0;34m)\u001b[0m\u001b[0;34m\u001b[0m\u001b[0;34m\u001b[0m\u001b[0m\n\u001b[0;32m----> 3\u001b[0;31m \u001b[0mraw_data\u001b[0m \u001b[0;34m=\u001b[0m \u001b[0mpd\u001b[0m\u001b[0;34m.\u001b[0m\u001b[0mread_csv\u001b[0m\u001b[0;34m(\u001b[0m\u001b[0;34m'datasets/experiment/{}/006-promoters-characterization-01.csv'\u001b[0m\u001b[0;34m.\u001b[0m\u001b[0mformat\u001b[0m\u001b[0;34m(\u001b[0m\u001b[0mfolder\u001b[0m\u001b[0;34m)\u001b[0m\u001b[0;34m,\u001b[0m \u001b[0mskiprows\u001b[0m\u001b[0;34m=\u001b[0m\u001b[0;34m[\u001b[0m\u001b[0;36m0\u001b[0m\u001b[0;34m]\u001b[0m\u001b[0;34m)\u001b[0m\u001b[0;34m\u001b[0m\u001b[0;34m\u001b[0m\u001b[0m\n\u001b[0m\u001b[1;32m      4\u001b[0m \u001b[0mmetadata\u001b[0m \u001b[0;34m=\u001b[0m \u001b[0mgenerate_metadata\u001b[0m\u001b[0;34m(\u001b[0m\u001b[0mraw_data\u001b[0m\u001b[0;34m[\u001b[0m\u001b[0;34m'Well'\u001b[0m\u001b[0;34m]\u001b[0m\u001b[0;34m,\u001b[0m \u001b[0mplate_map\u001b[0m\u001b[0;34m,\u001b[0m \u001b[0msample_map\u001b[0m\u001b[0;34m)\u001b[0m\u001b[0;34m\u001b[0m\u001b[0;34m\u001b[0m\u001b[0m\n\u001b[1;32m      5\u001b[0m \u001b[0mdata\u001b[0m \u001b[0;34m=\u001b[0m \u001b[0mraw_data\u001b[0m\u001b[0;34m[\u001b[0m\u001b[0mraw_data\u001b[0m\u001b[0;34m[\u001b[0m\u001b[0;34m'Well'\u001b[0m\u001b[0;34m]\u001b[0m\u001b[0;34m.\u001b[0m\u001b[0misin\u001b[0m\u001b[0;34m(\u001b[0m\u001b[0mmetadata\u001b[0m\u001b[0;34m[\u001b[0m\u001b[0;34m'Well'\u001b[0m\u001b[0;34m]\u001b[0m\u001b[0;34m)\u001b[0m\u001b[0;34m]\u001b[0m\u001b[0;34m.\u001b[0m\u001b[0mreset_index\u001b[0m\u001b[0;34m(\u001b[0m\u001b[0mdrop\u001b[0m\u001b[0;34m=\u001b[0m\u001b[0;32mTrue\u001b[0m\u001b[0;34m)\u001b[0m\u001b[0;34m\u001b[0m\u001b[0;34m\u001b[0m\u001b[0m\n",
      "\u001b[0;32m~/Documents/Edinburgh/Notebook/env/lib/python3.9/site-packages/pandas/io/parsers.py\u001b[0m in \u001b[0;36mread_csv\u001b[0;34m(filepath_or_buffer, sep, delimiter, header, names, index_col, usecols, squeeze, prefix, mangle_dupe_cols, dtype, engine, converters, true_values, false_values, skipinitialspace, skiprows, skipfooter, nrows, na_values, keep_default_na, na_filter, verbose, skip_blank_lines, parse_dates, infer_datetime_format, keep_date_col, date_parser, dayfirst, cache_dates, iterator, chunksize, compression, thousands, decimal, lineterminator, quotechar, quoting, doublequote, escapechar, comment, encoding, dialect, error_bad_lines, warn_bad_lines, delim_whitespace, low_memory, memory_map, float_precision, storage_options)\u001b[0m\n\u001b[1;32m    608\u001b[0m     \u001b[0mkwds\u001b[0m\u001b[0;34m.\u001b[0m\u001b[0mupdate\u001b[0m\u001b[0;34m(\u001b[0m\u001b[0mkwds_defaults\u001b[0m\u001b[0;34m)\u001b[0m\u001b[0;34m\u001b[0m\u001b[0;34m\u001b[0m\u001b[0m\n\u001b[1;32m    609\u001b[0m \u001b[0;34m\u001b[0m\u001b[0m\n\u001b[0;32m--> 610\u001b[0;31m     \u001b[0;32mreturn\u001b[0m \u001b[0m_read\u001b[0m\u001b[0;34m(\u001b[0m\u001b[0mfilepath_or_buffer\u001b[0m\u001b[0;34m,\u001b[0m \u001b[0mkwds\u001b[0m\u001b[0;34m)\u001b[0m\u001b[0;34m\u001b[0m\u001b[0;34m\u001b[0m\u001b[0m\n\u001b[0m\u001b[1;32m    611\u001b[0m \u001b[0;34m\u001b[0m\u001b[0m\n\u001b[1;32m    612\u001b[0m \u001b[0;34m\u001b[0m\u001b[0m\n",
      "\u001b[0;32m~/Documents/Edinburgh/Notebook/env/lib/python3.9/site-packages/pandas/io/parsers.py\u001b[0m in \u001b[0;36m_read\u001b[0;34m(filepath_or_buffer, kwds)\u001b[0m\n\u001b[1;32m    460\u001b[0m \u001b[0;34m\u001b[0m\u001b[0m\n\u001b[1;32m    461\u001b[0m     \u001b[0;31m# Create the parser.\u001b[0m\u001b[0;34m\u001b[0m\u001b[0;34m\u001b[0m\u001b[0;34m\u001b[0m\u001b[0m\n\u001b[0;32m--> 462\u001b[0;31m     \u001b[0mparser\u001b[0m \u001b[0;34m=\u001b[0m \u001b[0mTextFileReader\u001b[0m\u001b[0;34m(\u001b[0m\u001b[0mfilepath_or_buffer\u001b[0m\u001b[0;34m,\u001b[0m \u001b[0;34m**\u001b[0m\u001b[0mkwds\u001b[0m\u001b[0;34m)\u001b[0m\u001b[0;34m\u001b[0m\u001b[0;34m\u001b[0m\u001b[0m\n\u001b[0m\u001b[1;32m    463\u001b[0m \u001b[0;34m\u001b[0m\u001b[0m\n\u001b[1;32m    464\u001b[0m     \u001b[0;32mif\u001b[0m \u001b[0mchunksize\u001b[0m \u001b[0;32mor\u001b[0m \u001b[0miterator\u001b[0m\u001b[0;34m:\u001b[0m\u001b[0;34m\u001b[0m\u001b[0;34m\u001b[0m\u001b[0m\n",
      "\u001b[0;32m~/Documents/Edinburgh/Notebook/env/lib/python3.9/site-packages/pandas/io/parsers.py\u001b[0m in \u001b[0;36m__init__\u001b[0;34m(self, f, engine, **kwds)\u001b[0m\n\u001b[1;32m    817\u001b[0m             \u001b[0mself\u001b[0m\u001b[0;34m.\u001b[0m\u001b[0moptions\u001b[0m\u001b[0;34m[\u001b[0m\u001b[0;34m\"has_index_names\"\u001b[0m\u001b[0;34m]\u001b[0m \u001b[0;34m=\u001b[0m \u001b[0mkwds\u001b[0m\u001b[0;34m[\u001b[0m\u001b[0;34m\"has_index_names\"\u001b[0m\u001b[0;34m]\u001b[0m\u001b[0;34m\u001b[0m\u001b[0;34m\u001b[0m\u001b[0m\n\u001b[1;32m    818\u001b[0m \u001b[0;34m\u001b[0m\u001b[0m\n\u001b[0;32m--> 819\u001b[0;31m         \u001b[0mself\u001b[0m\u001b[0;34m.\u001b[0m\u001b[0m_engine\u001b[0m \u001b[0;34m=\u001b[0m \u001b[0mself\u001b[0m\u001b[0;34m.\u001b[0m\u001b[0m_make_engine\u001b[0m\u001b[0;34m(\u001b[0m\u001b[0mself\u001b[0m\u001b[0;34m.\u001b[0m\u001b[0mengine\u001b[0m\u001b[0;34m)\u001b[0m\u001b[0;34m\u001b[0m\u001b[0;34m\u001b[0m\u001b[0m\n\u001b[0m\u001b[1;32m    820\u001b[0m \u001b[0;34m\u001b[0m\u001b[0m\n\u001b[1;32m    821\u001b[0m     \u001b[0;32mdef\u001b[0m \u001b[0mclose\u001b[0m\u001b[0;34m(\u001b[0m\u001b[0mself\u001b[0m\u001b[0;34m)\u001b[0m\u001b[0;34m:\u001b[0m\u001b[0;34m\u001b[0m\u001b[0;34m\u001b[0m\u001b[0m\n",
      "\u001b[0;32m~/Documents/Edinburgh/Notebook/env/lib/python3.9/site-packages/pandas/io/parsers.py\u001b[0m in \u001b[0;36m_make_engine\u001b[0;34m(self, engine)\u001b[0m\n\u001b[1;32m   1048\u001b[0m             )\n\u001b[1;32m   1049\u001b[0m         \u001b[0;31m# error: Too many arguments for \"ParserBase\"\u001b[0m\u001b[0;34m\u001b[0m\u001b[0;34m\u001b[0m\u001b[0;34m\u001b[0m\u001b[0m\n\u001b[0;32m-> 1050\u001b[0;31m         \u001b[0;32mreturn\u001b[0m \u001b[0mmapping\u001b[0m\u001b[0;34m[\u001b[0m\u001b[0mengine\u001b[0m\u001b[0;34m]\u001b[0m\u001b[0;34m(\u001b[0m\u001b[0mself\u001b[0m\u001b[0;34m.\u001b[0m\u001b[0mf\u001b[0m\u001b[0;34m,\u001b[0m \u001b[0;34m**\u001b[0m\u001b[0mself\u001b[0m\u001b[0;34m.\u001b[0m\u001b[0moptions\u001b[0m\u001b[0;34m)\u001b[0m  \u001b[0;31m# type: ignore[call-arg]\u001b[0m\u001b[0;34m\u001b[0m\u001b[0;34m\u001b[0m\u001b[0m\n\u001b[0m\u001b[1;32m   1051\u001b[0m \u001b[0;34m\u001b[0m\u001b[0m\n\u001b[1;32m   1052\u001b[0m     \u001b[0;32mdef\u001b[0m \u001b[0m_failover_to_python\u001b[0m\u001b[0;34m(\u001b[0m\u001b[0mself\u001b[0m\u001b[0;34m)\u001b[0m\u001b[0;34m:\u001b[0m\u001b[0;34m\u001b[0m\u001b[0;34m\u001b[0m\u001b[0m\n",
      "\u001b[0;32m~/Documents/Edinburgh/Notebook/env/lib/python3.9/site-packages/pandas/io/parsers.py\u001b[0m in \u001b[0;36m__init__\u001b[0;34m(self, src, **kwds)\u001b[0m\n\u001b[1;32m   1865\u001b[0m \u001b[0;34m\u001b[0m\u001b[0m\n\u001b[1;32m   1866\u001b[0m         \u001b[0;31m# open handles\u001b[0m\u001b[0;34m\u001b[0m\u001b[0;34m\u001b[0m\u001b[0;34m\u001b[0m\u001b[0m\n\u001b[0;32m-> 1867\u001b[0;31m         \u001b[0mself\u001b[0m\u001b[0;34m.\u001b[0m\u001b[0m_open_handles\u001b[0m\u001b[0;34m(\u001b[0m\u001b[0msrc\u001b[0m\u001b[0;34m,\u001b[0m \u001b[0mkwds\u001b[0m\u001b[0;34m)\u001b[0m\u001b[0;34m\u001b[0m\u001b[0;34m\u001b[0m\u001b[0m\n\u001b[0m\u001b[1;32m   1868\u001b[0m         \u001b[0;32massert\u001b[0m \u001b[0mself\u001b[0m\u001b[0;34m.\u001b[0m\u001b[0mhandles\u001b[0m \u001b[0;32mis\u001b[0m \u001b[0;32mnot\u001b[0m \u001b[0;32mNone\u001b[0m\u001b[0;34m\u001b[0m\u001b[0;34m\u001b[0m\u001b[0m\n\u001b[1;32m   1869\u001b[0m         \u001b[0;32mfor\u001b[0m \u001b[0mkey\u001b[0m \u001b[0;32min\u001b[0m \u001b[0;34m(\u001b[0m\u001b[0;34m\"storage_options\"\u001b[0m\u001b[0;34m,\u001b[0m \u001b[0;34m\"encoding\"\u001b[0m\u001b[0;34m,\u001b[0m \u001b[0;34m\"memory_map\"\u001b[0m\u001b[0;34m,\u001b[0m \u001b[0;34m\"compression\"\u001b[0m\u001b[0;34m)\u001b[0m\u001b[0;34m:\u001b[0m\u001b[0;34m\u001b[0m\u001b[0;34m\u001b[0m\u001b[0m\n",
      "\u001b[0;32m~/Documents/Edinburgh/Notebook/env/lib/python3.9/site-packages/pandas/io/parsers.py\u001b[0m in \u001b[0;36m_open_handles\u001b[0;34m(self, src, kwds)\u001b[0m\n\u001b[1;32m   1360\u001b[0m         \u001b[0mLet\u001b[0m \u001b[0mthe\u001b[0m \u001b[0mreaders\u001b[0m \u001b[0mopen\u001b[0m \u001b[0mIOHanldes\u001b[0m \u001b[0mafter\u001b[0m \u001b[0mthey\u001b[0m \u001b[0mare\u001b[0m \u001b[0mdone\u001b[0m \u001b[0;32mwith\u001b[0m \u001b[0mtheir\u001b[0m \u001b[0mpotential\u001b[0m \u001b[0mraises\u001b[0m\u001b[0;34m.\u001b[0m\u001b[0;34m\u001b[0m\u001b[0;34m\u001b[0m\u001b[0m\n\u001b[1;32m   1361\u001b[0m         \"\"\"\n\u001b[0;32m-> 1362\u001b[0;31m         self.handles = get_handle(\n\u001b[0m\u001b[1;32m   1363\u001b[0m             \u001b[0msrc\u001b[0m\u001b[0;34m,\u001b[0m\u001b[0;34m\u001b[0m\u001b[0;34m\u001b[0m\u001b[0m\n\u001b[1;32m   1364\u001b[0m             \u001b[0;34m\"r\"\u001b[0m\u001b[0;34m,\u001b[0m\u001b[0;34m\u001b[0m\u001b[0;34m\u001b[0m\u001b[0m\n",
      "\u001b[0;32m~/Documents/Edinburgh/Notebook/env/lib/python3.9/site-packages/pandas/io/common.py\u001b[0m in \u001b[0;36mget_handle\u001b[0;34m(path_or_buf, mode, encoding, compression, memory_map, is_text, errors, storage_options)\u001b[0m\n\u001b[1;32m    640\u001b[0m                 \u001b[0merrors\u001b[0m \u001b[0;34m=\u001b[0m \u001b[0;34m\"replace\"\u001b[0m\u001b[0;34m\u001b[0m\u001b[0;34m\u001b[0m\u001b[0m\n\u001b[1;32m    641\u001b[0m             \u001b[0;31m# Encoding\u001b[0m\u001b[0;34m\u001b[0m\u001b[0;34m\u001b[0m\u001b[0;34m\u001b[0m\u001b[0m\n\u001b[0;32m--> 642\u001b[0;31m             handle = open(\n\u001b[0m\u001b[1;32m    643\u001b[0m                 \u001b[0mhandle\u001b[0m\u001b[0;34m,\u001b[0m\u001b[0;34m\u001b[0m\u001b[0;34m\u001b[0m\u001b[0m\n\u001b[1;32m    644\u001b[0m                 \u001b[0mioargs\u001b[0m\u001b[0;34m.\u001b[0m\u001b[0mmode\u001b[0m\u001b[0;34m,\u001b[0m\u001b[0;34m\u001b[0m\u001b[0;34m\u001b[0m\u001b[0m\n",
      "\u001b[0;31mFileNotFoundError\u001b[0m: [Errno 2] No such file or directory: 'datasets/experiment/011-3-promoters-detailed-characterization/006-promoters-characterization-01.csv'"
     ]
    }
   ],
   "source": [
    "folder = '011-3-promoters-detailed-characterization'\n",
    "plate_map = read_map(pd.read_csv('datasets/experiment/{}/plate_map.csv'.format(folder)))\n",
    "raw_data = pd.read_csv('datasets/experiment/{}/006-promoters-characterization-01.csv'.format(folder), skiprows=[0])\n",
    "metadata = generate_metadata(raw_data['Well'], plate_map, sample_map)\n",
    "data = raw_data[raw_data['Well'].isin(metadata['Well'])].reset_index(drop=True)\n",
    "ods, fluos, fluos_1, fluos_2 = generate_data(data, metadata['short_name'], datapoint=int((raw_data.shape[1] - 3)/4)) "
   ]
  },
  {
   "cell_type": "code",
   "execution_count": null,
   "id": "heated-bacon",
   "metadata": {},
   "outputs": [],
   "source": []
  },
  {
   "cell_type": "code",
   "execution_count": null,
   "id": "apparent-advancement",
   "metadata": {},
   "outputs": [],
   "source": []
  },
  {
   "cell_type": "code",
   "execution_count": null,
   "id": "numerical-working",
   "metadata": {},
   "outputs": [],
   "source": []
  },
  {
   "cell_type": "code",
   "execution_count": null,
   "id": "removed-poster",
   "metadata": {},
   "outputs": [],
   "source": []
  },
  {
   "cell_type": "code",
   "execution_count": null,
   "id": "manual-allocation",
   "metadata": {},
   "outputs": [],
   "source": []
  },
  {
   "cell_type": "markdown",
   "id": "7630e3cb",
   "metadata": {},
   "source": [
    "#### New promoters characterization"
   ]
  },
  {
   "cell_type": "code",
   "execution_count": null,
   "id": "0ee17d32",
   "metadata": {},
   "outputs": [],
   "source": [
    "folder = '029-new-promoters-characterization'\n",
    "fluos, ods, fluos_1, fluos_2, raw_fluos, raw_ods, raw_fluos_1, raw_fluos_2 = read_datasets(folder)"
   ]
  },
  {
   "cell_type": "code",
   "execution_count": 10,
   "id": "floppy-automation",
   "metadata": {},
   "outputs": [],
   "source": [
    "def get_control(fluos, h=8):\n",
    "\n",
    "    idx = 3 * h\n",
    "    gfp = fluos[filter(lambda x: x.startswith('positive-control-amp'), fluos.columns)].mean(axis=1)\n",
    "    neg_amp = fluos[filter(lambda x: x.startswith('negative-control-amp'), fluos.columns)].mean(axis=1)\n",
    "    neg_kan = fluos[filter(lambda x: x.startswith('negative-control-kan'), fluos.columns)].mean(axis=1)\n",
    "    neg_kan_10, gfp_10, neg_amp_10 = neg_kan.iloc[idx], gfp.iloc[idx], neg_amp.iloc[idx]\n",
    "    return neg_kan_10, gfp_10, neg_amp_10\n",
    "\n",
    "def promoters_plots(row, col, data, inducers, promoters, ctrl, h=8, sharex=True, sharey=False):\n",
    "    \n",
    "    idx = 3 * h\n",
    "    responses = []\n",
    "    f, axs = plt.subplots(row, col, sharex=sharex, sharey=sharey, figsize=(col*5, row*2))\n",
    "    axr = axs.ravel()\n",
    "    for i, ax in enumerate(axr):\n",
    "        if i < len(promoters):\n",
    "            response = []\n",
    "            for j in range(12):\n",
    "                #if j < 12:\n",
    "                #    if j%2==1:\n",
    "                #        continue\n",
    "                #else:\n",
    "                #    if j%2==0:\n",
    "                #        continue\n",
    "                d = data['{}_{}'.format(promoters[i], j)]\n",
    "                rpu = (d.iloc[idx] - ctrl[0]) / (ctrl[1] - ctrl[2])\n",
    "                ax.scatter(inducers[i][j], rpu, label=np.round(inducers[i][j], 5))\n",
    "                ax.loglog()\n",
    "                #ax.set_xscale('symlog')\n",
    "                #ax.set_yscale('symlog')\n",
    "                #print(promoters[i], j, inducers[i][j])\n",
    "                response.append(rpu)\n",
    "            ax.set_title('{}_{}'.format(promoters[i], j))\n",
    "            #ax.set_xticks(np.arange(12))\n",
    "            #ax.set_xticklabels([np.round(u, 2) for u in inducers[i]], rotation=45)\n",
    "            #ax.legend()\n",
    "            responses.append(response)\n",
    "        else:\n",
    "            ax.set_visible(False)\n",
    "    sns.despine()\n",
    "    plt.tight_layout()\n",
    "    return responses"
   ]
  },
  {
   "cell_type": "code",
   "execution_count": 11,
   "id": "controversial-excess",
   "metadata": {},
   "outputs": [
    {
     "name": "stderr",
     "output_type": "stream",
     "text": [
      "<ipython-input-10-bf74b397df7b>:29: UserWarning: Data has no positive values, and therefore cannot be log-scaled.\n",
      "  ax.loglog()\n",
      "<ipython-input-10-bf74b397df7b>:28: UserWarning: Data has no positive values, and therefore cannot be log-scaled.\n",
      "  ax.scatter(inducers[i][j], rpu, label=np.round(inducers[i][j], 5))\n"
     ]
    },
    {
     "data": {
      "image/png": "[encoded data removed]",
      "text/plain": [
       "<Figure size 1080x432 with 9 Axes>"
      ]
     },
     "metadata": {
      "needs_background": "light"
     },
     "output_type": "display_data"
    }
   ],
   "source": [
    "responses = promoters_plots(3, 3, fluos_2, inducers, promoters, get_control(fluos_2, 16), 16, sharex=False)"
   ]
  },
  {
   "cell_type": "code",
   "execution_count": 12,
   "id": "minor-israeli",
   "metadata": {},
   "outputs": [],
   "source": [
    "df_res = pd.DataFrame(responses).T\n",
    "df_res.columns = promoters\n",
    "df_ind = pd.DataFrame(inducers).T\n",
    "df_ind.columns = promoters"
   ]
  },
  {
   "cell_type": "code",
   "execution_count": 13,
   "id": "liked-catholic",
   "metadata": {},
   "outputs": [
    {
     "name": "stdout",
     "output_type": "stream",
     "text": [
      "pBAD-rJ/Ara [3.30929997e+00 1.12185088e+00 5.24081979e-28 1.32542523e+01] 0.973802627732464\n",
      "pCin-rJ/OHC14 [3.28522426e+01 3.13605062e+00 7.12052679e-04 3.91649925e+00] 0.9935501531516496\n",
      "cymRC-pCymRC-rJ/Cuma [1.06628108e+02 9.83806398e-01 1.12323003e-17 2.20707121e+00] 0.9851802439469716\n",
      "pLuxB-rJ/AHL [1.07805096 0.60221414 0.13479265 9.19764476] 0.9497127491189341\n",
      "pPhlF-rJ/DAPG [ 0.71837886  1.72611199  1.29979407 13.33088302] 0.9895907278474223\n",
      "pSalTTC-rJ/Sal [2.69565094e+02 1.16627689e+00 3.38790853e-11 8.15672356e+00] 0.9868516989190894\n",
      "rhaS-pRhaB-rJ/Rha [2.71126209e+03 1.56892461e+00 1.22150768e-01 1.43044137e+01] 0.994515027495554\n"
     ]
    },
    {
     "data": {
      "image/png": "[encoded data removed]",
      "text/plain": [
       "<Figure size 864x360 with 9 Axes>"
      ]
     },
     "metadata": {
      "needs_background": "light"
     },
     "output_type": "display_data"
    }
   ],
   "source": [
    "all_params = []\n",
    "f, axs = plt.subplots(3, 3, sharex=False, sharey=False, figsize=(12, 5))\n",
    "axr = axs.ravel()\n",
    "for i, ax in enumerate(axr):\n",
    "    if i < len(promoters):\n",
    "        y = df_res[promoters[i]]\n",
    "        x = df_ind[promoters[i]]\n",
    "        init_guess = [1, 1, y.min(), y.max()]\n",
    "        gate_bounds = [[0, 0, 0, 0],\n",
    "                       [1e4, 4, y.min()+0.1, y.max()+0.1]]\n",
    "        \n",
    "        popt, pcov = curve_fit(hill_activation, x, y, p0=init_guess, bounds=gate_bounds)\n",
    "        \n",
    "        ax.scatter(x, y, color='purple', s=25)\n",
    "        err = np.round(r2_score(y, hill_activation(x, *popt)), 2)\n",
    "        #err = np.sum([(a - b)**2 for a, b in zip(y, hill_activation(x, *popt))])\n",
    "        ax.plot(np.arange(x.max()), hill_activation(np.arange(x.max()), *popt), color='gray', label='R2='+str(err))\n",
    "        \n",
    "        all_params.append(popt)\n",
    "        print(promoters[i], popt, r2_score(y, hill_activation(x, *popt)))\n",
    "        #ax.loglog()\n",
    "        #\n",
    "        ax.set_xscale('symlog')\n",
    "        ax.set_yscale('symlog')\n",
    "        \n",
    "        ax.set_title('{}'.format(promoters[i]))\n",
    "        ax.set_ylabel('RPU')\n",
    "        ax.set_xlabel('{} ({})'.format(promoters[i].split('/')[1], u\"\\u03bcM\"))\n",
    "        ax.legend(loc=4)\n",
    "    else:\n",
    "        ax.set_visible(False)\n",
    "    sns.despine()\n",
    "plt.tight_layout()"
   ]
  },
  {
   "cell_type": "code",
   "execution_count": 14,
   "id": "wooden-suicide",
   "metadata": {},
   "outputs": [
    {
     "data": {
      "text/plain": [
       "[array([3.30929997e+00, 1.12185088e+00, 5.24081979e-28, 1.32542523e+01]),\n",
       " array([3.28522426e+01, 3.13605062e+00, 7.12052679e-04, 3.91649925e+00]),\n",
       " array([1.06628108e+02, 9.83806398e-01, 1.12323003e-17, 2.20707121e+00]),\n",
       " array([1.07805096, 0.60221414, 0.13479265, 9.19764476]),\n",
       " array([ 0.71837886,  1.72611199,  1.29979407, 13.33088302]),\n",
       " array([2.69565094e+02, 1.16627689e+00, 3.38790853e-11, 8.15672356e+00]),\n",
       " array([2.71126209e+03, 1.56892461e+00, 1.22150768e-01, 1.43044137e+01])]"
      ]
     },
     "execution_count": 14,
     "metadata": {},
     "output_type": "execute_result"
    }
   ],
   "source": [
    "all_params"
   ]
  },
  {
   "cell_type": "code",
   "execution_count": null,
   "id": "enhanced-lewis",
   "metadata": {},
   "outputs": [],
   "source": [
    "cumas_gate = [0, 6.25, 12.5, 25, 50, 100]\n",
    "aras_gate = [0, 0.8125, 3.25, 13, 52, 208]\n",
    "cumas_rpu = [hill_activation(i, *all_params[2]) for i in cumas_gate]\n",
    "aras_rpu = [hill_activation(i, *all_params[0]) for i in aras_gate]\n",
    "print(cumas_rpu)\n",
    "print(aras_rpu)"
   ]
  },
  {
   "cell_type": "code",
   "execution_count": null,
   "id": "angry-violence",
   "metadata": {},
   "outputs": [],
   "source": [
    "cumas_rpu = [hill_activation(i, *all_params[2]) for i in inducers[2]]\n",
    "aras_rpu = [hill_activation(i, *all_params[0]) for i in inducers[0]]\n",
    "print(cumas_rpu)\n",
    "print(aras_rpu)"
   ]
  },
  {
   "cell_type": "code",
   "execution_count": null,
   "id": "expanded-fundamental",
   "metadata": {},
   "outputs": [],
   "source": []
  },
  {
   "cell_type": "code",
   "execution_count": null,
   "id": "18028722",
   "metadata": {},
   "outputs": [],
   "source": [
    "f, axs = plt.subplots(7, 2, sharex=True, sharey=False, figsize=(6, 14))\n",
    "for i in range(7):\n",
    "    for j in range(0, 6):\n",
    "        r0 = fluos['{}_{}'.format(promoters[i], j)]\n",
    "        axs[i, 0].plot(r0.index/60, r0, label=j)#, color='darkblue')\n",
    "        axs[i, 0].axvline(8, color='red', linestyle='--')\n",
    "        axs[i, 0].legend()\n",
    "        axs[i, 0].set_title('{}_{}'.format(promoters[i], j))\n",
    "        axs[i, 0].set_ylabel('OD')\n",
    "        axs[i, 0].set_xlabel('Hour')\n",
    "    for j in range(6, 12):\n",
    "        r0 = ods['{}_{}'.format(promoters[i], j)]\n",
    "        axs[i, 1].plot(r0.index/60, r0, label=j)#, color='darkblue')\n",
    "        axs[i, 1].axvline(8, color='red', linestyle='--')\n",
    "        axs[i, 1].legend()\n",
    "        axs[i, 1].set_title('{}_{}'.format(promoters[i], j))\n",
    "        axs[i, 1].set_ylabel('OD')\n",
    "        axs[i, 1].set_xlabel('Hour')\n",
    "sns.despine()\n",
    "plt.tight_layout()"
   ]
  },
  {
   "cell_type": "code",
   "execution_count": null,
   "id": "871ed945",
   "metadata": {},
   "outputs": [],
   "source": []
  },
  {
   "cell_type": "markdown",
   "id": "empirical-sociology",
   "metadata": {},
   "source": [
    "#### Cherrypicking 3 Promoters Characterization - 24 induction levels"
   ]
  },
  {
   "cell_type": "code",
   "execution_count": null,
   "id": "legitimate-mexican",
   "metadata": {},
   "outputs": [],
   "source": [
    "folder = '011-3-promoters-detailed-characterization'\n",
    "fluos, ods, fluos_1, fluos_2 = read_datasets(folder)"
   ]
  },
  {
   "cell_type": "code",
   "execution_count": null,
   "id": "express-corpus",
   "metadata": {},
   "outputs": [],
   "source": [
    "promoters = ['pBAD/Ara', 'pCymRC/Cuma', 'pRhaB/Rha']\n",
    "aras = [0, 4.95911E-05, 9.91821E-05, 0.000198364, 0.000396729, 0.000793457, 0.001586914, 0.003173828, 0.006347656, 0.012695313, 0.025390625, 0.05078125, 0, 0.1015625, 0.203125, 0.40625, 0.8125, 1.625, 3.25, 6.5, 13, 26, 52, 104]\n",
    "cumas = [0, 0.001525879, 0.003051758, 0.006103516, 0.012207031, 0.024414063, 0.048828125, 0.09765625, 0.1953125, 0.390625, 0.78125, 1.5625, 0, 3.125, 6.25, 12.5, 25, 50, 100, 200, 400, 800, 1600, 3200]\n",
    "rhas = [0, 0.014591217, 0.029182434, 0.058364868, 0.116729736, 0.233459473, 0.466918945, 0.933837891, 1.867675781, 3.735351563, 7.470703125, 14.94140625, 0, 29.8828125, 59.765625, 119.53125, 239.0625, 478.125, 956.25, 1912.5, 3825, 7650, 15300, 30600]\n",
    "inducers = [aras, cumas, rhas]"
   ]
  },
  {
   "cell_type": "code",
   "execution_count": null,
   "id": "molecular-second",
   "metadata": {},
   "outputs": [],
   "source": [
    "f, axs = plt.subplots(3, 4, sharex=True, sharey=False, figsize=(12, 6))\n",
    "for i in range(3):\n",
    "    for j in range(0, 6):\n",
    "        r0 = ods['{}_{}'.format(promoters[i], j)]\n",
    "        axs[i, 0].plot(r0.index/60, r0, label=j)#, color='darkblue')\n",
    "        axs[i, 0].axvline(10, color='red', linestyle='--')\n",
    "        axs[i, 0].legend()\n",
    "        axs[i, 0].set_title('{}_{}'.format(promoters[i], j))\n",
    "        axs[i, 0].set_ylabel('OD')\n",
    "        axs[i, 0].set_xlabel('Hour')\n",
    "    for j in range(6, 12):\n",
    "        r0 = ods['{}_{}'.format(promoters[i], j)]\n",
    "        axs[i, 1].plot(r0.index/60, r0, label=j)#, color='darkblue')\n",
    "        axs[i, 1].axvline(10, color='red', linestyle='--')\n",
    "        axs[i, 1].legend()\n",
    "        axs[i, 1].set_title('{}_{}'.format(promoters[i], j))\n",
    "        axs[i, 1].set_ylabel('OD')\n",
    "        axs[i, 1].set_xlabel('Hour')\n",
    "    for j in range(12, 18):\n",
    "        r0 = ods['{}_{}'.format(promoters[i], j)]\n",
    "        axs[i, 2].plot(r0.index/60, r0, label=j)#, color='darkblue')\n",
    "        axs[i, 2].axvline(10, color='red', linestyle='--')\n",
    "        axs[i, 2].legend()\n",
    "        axs[i, 2].set_title('{}_{}'.format(promoters[i], j))\n",
    "        axs[i, 2].set_ylabel('OD')\n",
    "        axs[i, 2].set_xlabel('Hour')\n",
    "    for j in range(18, 24):\n",
    "        r0 = ods['{}_{}'.format(promoters[i], j)]\n",
    "        axs[i, 3].plot(r0.index/60, r0, label=j)#, color='darkblue')\n",
    "        axs[i, 3].axvline(10, color='red', linestyle='--')\n",
    "        axs[i, 3].legend()\n",
    "        axs[i, 3].set_title('{}_{}'.format(promoters[i], j))\n",
    "        axs[i, 3].set_ylabel('OD')\n",
    "        axs[i, 3].set_xlabel('Hour')\n",
    "sns.despine()\n",
    "plt.tight_layout()"
   ]
  },
  {
   "cell_type": "code",
   "execution_count": null,
   "id": "dutch-stomach",
   "metadata": {},
   "outputs": [],
   "source": [
    "def get_control(fluos, h):\n",
    "\n",
    "    idx = 3 * h\n",
    "    gfp = fluos[filter(lambda x: x.startswith('positive-control-amp'), fluos.columns)].mean(axis=1)\n",
    "    neg_amp = fluos[filter(lambda x: x.startswith('negative-control-amp'), fluos.columns)].mean(axis=1)\n",
    "    neg_kan = fluos[filter(lambda x: x.startswith('negative-control-kan'), fluos.columns)].mean(axis=1)\n",
    "    neg_kan_10, gfp_10, neg_amp_10 = neg_kan.iloc[idx], gfp.iloc[idx], neg_amp.iloc[idx]\n",
    "    return neg_kan_10, gfp_10, neg_amp_10\n",
    "\n",
    "def promoters_plots(row, col, data, inducers, promoters, ctrl, h, sharex=True, sharey=False):\n",
    "    \n",
    "    idx = 3 * h\n",
    "    responses = []\n",
    "    f, axs = plt.subplots(row, col, sharex=sharex, sharey=sharey, figsize=(col*5, row*2))\n",
    "    axr = axs.ravel()\n",
    "    for i, ax in enumerate(axr):\n",
    "        if i < len(promoters):\n",
    "            response = []\n",
    "            for j in range(12):\n",
    "                #if j < 12:\n",
    "                #    if j%2==1:\n",
    "                #        continue\n",
    "                #else:\n",
    "                #    if j%2==0:\n",
    "                #        continue\n",
    "                d = data['{}_{}'.format(promoters[i], j)]\n",
    "                rpu = (d.iloc[idx] - ctrl[0]) / (ctrl[1] - ctrl[2])\n",
    "                ax.scatter(inducers[i][j], rpu, label=np.round(inducers[i][j], 5))\n",
    "                ax.loglog()\n",
    "                #ax.set_xscale('symlog')\n",
    "                #ax.set_yscale('symlog')\n",
    "                #print(promoters[i], j, inducers[i][j])\n",
    "                response.append(rpu)\n",
    "            ax.set_title('{}_{}'.format(promoters[i], j))\n",
    "            #ax.set_xticks(np.arange(12))\n",
    "            #ax.set_xticklabels([np.round(u, 2) for u in inducers[i]], rotation=45)\n",
    "            #ax.legend()\n",
    "            responses.append(response)\n",
    "        else:\n",
    "            ax.set_visible(False)\n",
    "    sns.despine()\n",
    "    plt.tight_layout()\n",
    "    return responses"
   ]
  },
  {
   "cell_type": "code",
   "execution_count": null,
   "id": "disabled-appendix",
   "metadata": {},
   "outputs": [],
   "source": [
    "aras_cp = [(4.95911e-05/4), 4.95911e-05, 0.000198364, 0.000793457, 0.003173828, 0.012695313, 0.05078125, 0.203125, 0.8125, 3.25, 13, 52]\n",
    "rhas_cp = [(0.014591217/4), 0.014591217, 0.058364868, 0.233459473, 0.933837891, 3.735351563, 14.94140625, 59.765625, 239.0625, 956.25, 3825, 15300]\n",
    "inducers_cp = [aras_cp, rhas_cp]\n",
    "promoters_cp = ['pBAD/Ara', 'pRhaB/Rha']"
   ]
  },
  {
   "cell_type": "code",
   "execution_count": null,
   "id": "corresponding-finnish",
   "metadata": {},
   "outputs": [],
   "source": [
    "responses = promoters_plots(1, 2, fluos_2, inducers_cp, promoters_cp, get_control(fluos_2, 10), 10, sharex=False)"
   ]
  },
  {
   "cell_type": "code",
   "execution_count": null,
   "id": "active-sense",
   "metadata": {},
   "outputs": [],
   "source": [
    "responses = promoters_plots(1, 3, fluos_2, inducers, promoters, get_control(fluos_2, 10), 10, sharex=False)"
   ]
  },
  {
   "cell_type": "markdown",
   "id": "scientific-missouri",
   "metadata": {},
   "source": [
    "#### Promoters Characterization - 6 induction levels"
   ]
  },
  {
   "cell_type": "code",
   "execution_count": null,
   "id": "considerable-carrier",
   "metadata": {},
   "outputs": [],
   "source": [
    "folder = '004-promoters-characterization'\n",
    "fluos, ods, fluos_1, fluos_2 = read_datasets(folder)\n",
    "fluos_ods = fluos_2 / ods"
   ]
  },
  {
   "cell_type": "code",
   "execution_count": null,
   "id": "extra-offering",
   "metadata": {},
   "outputs": [],
   "source": [
    "aras = [0, 0.8125, 3.25, 13, 52, 208]\n",
    "ohcs = [0, 0.039, 0.156, 0.625, 2.5, 10]\n",
    "cumas = [0, 6.25, 12.5, 25, 50, 100]\n",
    "ahls = [0, 0.039, 0.156, 0.625, 2.5, 10]\n",
    "dapgs = [0, 0.098, 0.391, 1.563, 6.25, 25]\n",
    "sals = [0, 0.391, 1.563, 6.25, 25, 100]\n",
    "rhas = [0, 59.766, 239.063, 956.25, 3825, 15300]\n",
    "inducers = [aras, ohcs, cumas, ahls, dapgs, sals, rhas]"
   ]
  },
  {
   "cell_type": "code",
   "execution_count": null,
   "id": "controlled-stress",
   "metadata": {},
   "outputs": [],
   "source": [
    "idx = 3 * 10\n",
    "gfp = fluos_2[filter(lambda x: x.startswith('positive-control-amp'), fluos_ods.columns)].mean(axis=1)\n",
    "neg = fluos_2[filter(lambda x: x.startswith('negative-control-kan'), fluos_ods.columns)].mean(axis=1)\n",
    "gfp10, neg10 = gfp.iloc[idx], neg.iloc[idx]\n",
    "gfp10, neg10"
   ]
  },
  {
   "cell_type": "code",
   "execution_count": null,
   "id": "jewish-simulation",
   "metadata": {},
   "outputs": [],
   "source": [
    "f, axs = plt.subplots(7, 2, sharex=True, sharey=False, figsize=(6, 10))\n",
    "for i in range(7):\n",
    "    for j in range(3):\n",
    "        r0 = ods['{}_{}'.format(promoters[i], j)]\n",
    "        axs[i, 0].plot(r0.index/60, r0, label=j)#, color='darkblue')\n",
    "        axs[i, 0].axvline(10, color='red', linestyle='--')\n",
    "        axs[i, 0].legend()\n",
    "        axs[i, 0].set_title('{}_{}'.format(promoters[i], j))\n",
    "        axs[i, 0].set_ylabel('OD')\n",
    "        axs[i, 0].set_xlabel('Hour')\n",
    "    for j in range(3, 6):\n",
    "        r0 = ods['{}_{}'.format(promoters[i], j)]\n",
    "        axs[i, 1].plot(r0.index/60, r0, label=j)#, color='darkblue')\n",
    "        axs[i, 1].axvline(10, color='red', linestyle='--')\n",
    "        axs[i, 1].legend()\n",
    "        axs[i, 1].set_title('{}_{}'.format(promoters[i], j))\n",
    "        axs[i, 1].set_ylabel('OD')\n",
    "        axs[i, 1].set_xlabel('Hour')\n",
    "sns.despine()\n",
    "plt.tight_layout()"
   ]
  },
  {
   "cell_type": "code",
   "execution_count": null,
   "id": "informational-devon",
   "metadata": {},
   "outputs": [],
   "source": [
    "def promoters_plots(row, col, data, promoters, sharex=True, sharey=False):\n",
    "    \n",
    "    #xs = np.arange(12)\n",
    "    responses = []\n",
    "    f, axs = plt.subplots(row, col, sharex=sharex, sharey=sharey, figsize=(col*3, row*2))\n",
    "    axr = axs.ravel()\n",
    "    for i, ax in enumerate(axr):\n",
    "        if i < len(promoters):\n",
    "            response = []\n",
    "            for j in range(6):\n",
    "                d = data['{}_{}'.format(promoters[i], j)]\n",
    "                rpu = (d.iloc[idx] - neg.iloc[idx]) / (gfp.iloc[idx] - neg.iloc[idx])\n",
    "                ax.scatter(np.log(inducers[i][j]), np.log(rpu))\n",
    "                response.append(rpu)\n",
    "            ax.set_title('{}_{}'.format(promoters[i], j))\n",
    "            #ax.set_xticks(np.arange(12))\n",
    "            #ax.set_xticklabels([np.round(u, 2) for u in inducers[i]], rotation=45)\n",
    "            responses.append(response)\n",
    "        else:\n",
    "            ax.set_visible(False)\n",
    "    sns.despine()\n",
    "    plt.tight_layout()\n",
    "    \n",
    "    return responses\n",
    "\n",
    "responses = promoters_plots(2, 4, fluos_2, promoters, sharex=False, sharey=False)"
   ]
  },
  {
   "cell_type": "markdown",
   "id": "pediatric-notion",
   "metadata": {},
   "source": [
    "#### Promoters Characterization - 12 induction levels"
   ]
  },
  {
   "cell_type": "code",
   "execution_count": null,
   "id": "alike-bankruptcy",
   "metadata": {},
   "outputs": [],
   "source": [
    "def get_control(fluos, h):\n",
    "\n",
    "    idx = 3 * h\n",
    "    gfp = fluos[filter(lambda x: x.startswith('positive-control-amp'), fluos.columns)].mean(axis=1)\n",
    "    neg_amp = fluos[filter(lambda x: x.startswith('negative-control-amp'), fluos.columns)].mean(axis=1)\n",
    "    neg_kan = fluos[filter(lambda x: x.startswith('negative-control-kan'), fluos.columns)].mean(axis=1)\n",
    "    neg_kan_10, gfp_10, neg_amp_10 = neg_kan.iloc[idx], gfp.iloc[idx], neg_amp.iloc[idx]\n",
    "    return neg_kan_10, gfp_10, neg_amp_10\n",
    "\n",
    "def promoters_plots(row, col, data, inducers, promoters, ctrl, h, sharex=True, sharey=False):\n",
    "    \n",
    "    idx = 3 * h\n",
    "    responses = []\n",
    "    f, axs = plt.subplots(row, col, sharex=sharex, sharey=sharey, figsize=(col*3, row*2))\n",
    "    axr = axs.ravel()\n",
    "    for i, ax in enumerate(axr):\n",
    "        if i < len(promoters):\n",
    "            response = []\n",
    "            for j in range(12):\n",
    "                d = data['{}_{}'.format(promoters[i], j)]\n",
    "                rpu = (d.iloc[idx] - ctrl[0]) / (ctrl[1] - ctrl[2])\n",
    "                ax.scatter(inducers[i][j], rpu, label=np.round(inducers[i][j], 2))\n",
    "                ax.loglog()\n",
    "                #ax.set_xscale('symlog')\n",
    "                #ax.set_yscale('symlog')\n",
    "                response.append(rpu)\n",
    "            ax.set_title('{}_{}'.format(promoters[i], j))\n",
    "            #ax.set_xticks(np.arange(12))\n",
    "            #ax.set_xticklabels([np.round(u, 2) for u in inducers[i]], rotation=45)\n",
    "            #ax.legend(bbox_to_anchor=(1.1, 1.1))\n",
    "            responses.append(response)\n",
    "        else:\n",
    "            ax.set_visible(False)\n",
    "    sns.despine()\n",
    "    plt.tight_layout()\n",
    "    return responses"
   ]
  },
  {
   "cell_type": "code",
   "execution_count": null,
   "id": "framed-editing",
   "metadata": {},
   "outputs": [],
   "source": [
    "#006\n",
    "folder = '006-promoters-characterization'\n",
    "fluos, ods, fluos_1, fluos_2 = read_datasets(folder)\n",
    "aras = [(0.40625/4), 0.40625, 0.8125, 1.625, 3.25, 6.5, 13, 26, 52, 104, 208, 416]\n",
    "ohcs = [(0.15625/4), 0.15625, 0.3125, 0.625, 1.25, 2.5, 5, 10, 20, 40, 80, 160]\n",
    "cumas = [(0.78125/4), 0.78125, 1.5625, 3.125, 6.25, 12.5, 25, 50, 100, 200, 400, 800]\n",
    "ahls = [(0.01953125/4), 0.01953125, 0.0390625, 0.078125, 0.15625, 0.3125, 0.625, 1.25, 2.5, 5, 10, 20]\n",
    "dapgs = [(0.048828125/4), 0.048828125, 0.09765625, 0.1953125, 0.390625, 0.78125, 1.5625, 3.125, 6.25, 12.5, 25, 50]\n",
    "sals = [(1.5625/4), 1.5625, 3.125, 6.25, 12.5, 25, 50, 100, 200, 400, 800, 1600]\n",
    "rhas = [(14.94140625/4), 14.94140625, 29.8828125, 59.765625, 119.53125, 239.0625, 478.125, 956.25, 1912.5, 3825, 7650, 15300]\n",
    "inducers = [ohcs, cumas, dapgs, sals]\n",
    "promoters = ['pCin/OHC14', 'pCymRC/Cuma', 'pPhlF/DAPG', 'pSalTTC/Sal']\n",
    "responses = promoters_plots(1, 4, fluos_2, inducers, promoters, get_control(fluos_2, 10), 10, sharex=False)"
   ]
  },
  {
   "cell_type": "code",
   "execution_count": null,
   "id": "absent-comfort",
   "metadata": {},
   "outputs": [],
   "source": [
    "df_res1 = pd.DataFrame(responses).T\n",
    "df_res1.columns = promoters\n",
    "df_ind1 = pd.DataFrame(inducers).T\n",
    "df_ind1.columns = promoters"
   ]
  },
  {
   "cell_type": "code",
   "execution_count": null,
   "id": "infrared-lambda",
   "metadata": {},
   "outputs": [],
   "source": [
    "#010 - AHL & Rha\n",
    "folder = '010-promoters-characterization'\n",
    "fluos, ods, fluos_1, fluos_2 = read_datasets(folder)\n",
    "aras = [(0.406/8), 0.406, 0.609, 0.813, 1.219, 1.625, 2.438, 3.25, 6.5, 13, 26, 104]\n",
    "ohcs = [(8/4), 8, 10, 16, 20, 32, 40, 64, 80, 128, 160, 320]\n",
    "cumas = [(3.125/4), 3.125, 6.25, 12.5, 25, 50, 100, 200, 400, 800, 1600, 3200]\n",
    "ahls = [(3.81e-5/8), 3.81e-5, 1.53e-4, 6.1e-4, 2.44e-3, 9.77e-3, 3.91e-2, 0.156, 0.625, 2.5, 10, 40]\n",
    "dapgs = [(0.048828125/4), 0.048828125, 0.09765625, 0.1953125, 0.390625, 0.78125, 1.5625, 3.125, 6.25, 12.5, 25, 50] #does not matter\n",
    "sals = [(25/4), 25, 50, 100, 200, 400, 800, 1600, 3200, 6400, 12800, 25600]\n",
    "rhas = [(29.88/4), 29.88, 59.76, 119.53, 239.06, 478.125, 956.25, 1912.5, 3825, 7650, 15300, 30600]\n",
    "inducers = [ahls]\n",
    "promoters = [ 'pLuxB/AHL']\n",
    "responses = promoters_plots(1, 2, fluos_2, inducers, promoters, get_control(fluos_2, 10), 10, sharex=False)"
   ]
  },
  {
   "cell_type": "code",
   "execution_count": null,
   "id": "cooked-edward",
   "metadata": {},
   "outputs": [],
   "source": [
    "df_res2 = pd.DataFrame(responses).T\n",
    "df_res2.columns = promoters\n",
    "df_ind2 = pd.DataFrame(inducers).T\n",
    "df_ind2.columns = promoters"
   ]
  },
  {
   "cell_type": "code",
   "execution_count": null,
   "id": "expected-solid",
   "metadata": {},
   "outputs": [],
   "source": [
    "df_res = pd.concat([df_res1, df_res2], axis=1)\n",
    "df_ind = pd.concat([df_ind1, df_ind2], axis=1)"
   ]
  },
  {
   "cell_type": "code",
   "execution_count": null,
   "id": "impaired-viewer",
   "metadata": {},
   "outputs": [],
   "source": [
    "#011\n",
    "folder = '011-3-promoters-detailed-characterization'\n",
    "fluos, ods, fluos_1, fluos_2 = read_datasets(folder)\n",
    "aras_cp = [(4.95911e-05/8), 4.95911e-05, 0.000198364, 0.000793457, 0.003173828, 0.012695313, 0.05078125, 0.203125, 0.8125, 3.25, 13, 52]\n",
    "rhas_cp = [(0.014591217/8), 0.014591217, 0.058364868, 0.233459473, 0.933837891, 3.735351563, 14.94140625, 59.765625, 239.0625, 956.25, 3825, 15300]\n",
    "inducers = [aras_cp, rhas_cp]\n",
    "promoters = ['pBAD/Ara', 'pRhaB/Rha']\n",
    "\n",
    "responses = promoters_plots(1, 2, fluos_2, inducers, promoters, get_control(fluos_2, 10), 10, sharex=False)"
   ]
  },
  {
   "cell_type": "code",
   "execution_count": null,
   "id": "welsh-vampire",
   "metadata": {},
   "outputs": [],
   "source": [
    "df_res3 = pd.DataFrame(responses).T\n",
    "df_res3.columns = promoters\n",
    "df_ind3 = pd.DataFrame(inducers).T\n",
    "df_ind3.columns = promoters"
   ]
  },
  {
   "cell_type": "code",
   "execution_count": null,
   "id": "little-drilling",
   "metadata": {},
   "outputs": [],
   "source": [
    "df_res = pd.concat([df_res, df_res3], axis=1)\n",
    "df_ind = pd.concat([df_ind, df_ind3], axis=1)"
   ]
  },
  {
   "cell_type": "code",
   "execution_count": null,
   "id": "gothic-prince",
   "metadata": {},
   "outputs": [],
   "source": [
    "def promoters_combined_plots(row, col, data, inducers):\n",
    "    \n",
    "    cols = ['pBAD/Ara', 'pCin/OHC14', 'pCymRC/Cuma', 'pLuxB/AHL', 'pPhlF/DAPG', 'pSalTTC/Sal', 'pRhaB/Rha']\n",
    "    #ind_names = ['OHC14', 'Cuma', 'DAPG', 'Sal', 'AHL', 'Ara', 'Rha']\n",
    "    #cols = data.columns.tolist()\n",
    "    f, axs = plt.subplots(row, col, sharex=False, sharey=False, figsize=(col*3, row*2))\n",
    "    axr = axs.ravel()\n",
    "    for i, ax in enumerate(axr):\n",
    "        if i < len(cols):\n",
    "            for x, y in zip(inducers[cols[i]], data[cols[i]]):\n",
    "                ax.scatter(x, y)\n",
    "                ax.loglog()\n",
    "            ax.set_title('{}'.format(cols[i]))\n",
    "            ax.set_ylabel('RPU')\n",
    "            ax.set_xlabel('{} ({})'.format(cols[i].split('/')[1], u\"\\u03bcM\"))\n",
    "        else:\n",
    "            ax.set_visible(False)\n",
    "    sns.despine()\n",
    "    plt.tight_layout()\n",
    "                         \n",
    "promoters_combined_plots(2, 4, df_res, df_ind)"
   ]
  },
  {
   "cell_type": "code",
   "execution_count": null,
   "id": "invalid-newcastle",
   "metadata": {},
   "outputs": [],
   "source": [
    "df_res.to_csv('datasets/experiment/responses.csv', index=False)\n",
    "df_ind.to_csv('datasets/experiment/inducers.csv', index=False)"
   ]
  },
  {
   "cell_type": "markdown",
   "id": "postal-power",
   "metadata": {},
   "source": [
    "#### Response Function"
   ]
  },
  {
   "cell_type": "code",
   "execution_count": null,
   "id": "purple-smoke",
   "metadata": {},
   "outputs": [],
   "source": [
    "promoters = ['pBAD/Ara', 'pCin/OHC14', 'pCymRC/Cuma', 'pLuxB/AHL', 'pPhlF/DAPG', 'pSalTTC/Sal', 'pRhaB/Rha']\n",
    "responses = pd.read_csv('datasets/experiment/responses.csv')\n",
    "inducers = pd.read_csv('datasets/experiment/inducers.csv')"
   ]
  },
  {
   "cell_type": "code",
   "execution_count": null,
   "id": "split-grenada",
   "metadata": {},
   "outputs": [],
   "source": [
    "for i in range(responses.shape[1]):\n",
    "    responses.iloc[:,i] = (responses.iloc[:,i] - responses.iloc[:,i].min())\n",
    "responses"
   ]
  },
  {
   "cell_type": "code",
   "execution_count": null,
   "id": "scenic-blind",
   "metadata": {},
   "outputs": [],
   "source": [
    "np.round(responses[['pBAD/Ara', 'pCymRC/Cuma']].T, 2)"
   ]
  },
  {
   "cell_type": "code",
   "execution_count": null,
   "id": "bronze-elements",
   "metadata": {},
   "outputs": [],
   "source": [
    "all_params = []\n",
    "f, axs = plt.subplots(2, 4, sharex=False, sharey=False, figsize=(12, 5))\n",
    "axr = axs.ravel()\n",
    "for i, ax in enumerate(axr):\n",
    "    if i < len(promoters):\n",
    "        y = responses[promoters[i]]\n",
    "        x = np.arange(1, len(y)+1)\n",
    "        #x = inducers[promoters[i]]\n",
    "        init_guess = [1, 1, y.min(), y.max()]\n",
    "        gate_bounds = [[0, 0, y.min()-1, y.max()-1],\n",
    "                       [1e4, 10, y.min()+1, y.max()+1]]\n",
    "        \n",
    "        popt, pcov = curve_fit(hill_activation, x, y, p0=init_guess, bounds=gate_bounds)\n",
    "        \n",
    "        ax.scatter(x, y, color='purple', s=25)\n",
    "        err = np.round(r2_score(y, hill_activation(x, *popt)), 2)\n",
    "        #err = np.sum([(a - b)**2 for a, b in zip(y, hill_activation(x, *popt))])\n",
    "        ax.plot(np.arange(0, x.max()+2, 0.5), hill_activation(np.arange(0, x.max()+2, 0.5), *popt), color='gray', label='R2=' + str(err))\n",
    "        \n",
    "        all_params.append(popt)\n",
    "        print(promoters[i], popt, r2_score(y, hill_activation(x, *popt)))\n",
    "        #ax.loglog()\n",
    "        #ax.set_xscale('symlog')\n",
    "        #ax.set_yscale('symlog')\n",
    "        #ax.set_xticks(np.arange(len(inducers[promoters[i]])))\n",
    "        #ax.set_xticklabels(None)\n",
    "        \n",
    "        ax.set_title('{}'.format(promoters[i]))\n",
    "        ax.set_ylabel('RPU')\n",
    "        ax.set_xlabel('{} ({})'.format(promoters[i].split('/')[1], u\"\\u03bcM\"))\n",
    "        ax.legend(loc=4)\n",
    "    else:\n",
    "        ax.set_visible(False)\n",
    "    sns.despine()\n",
    "plt.tight_layout()"
   ]
  },
  {
   "cell_type": "code",
   "execution_count": null,
   "id": "smoking-stopping",
   "metadata": {
    "scrolled": true
   },
   "outputs": [],
   "source": [
    "all_params = []\n",
    "f, axs = plt.subplots(2, 4, sharex=False, sharey=False, figsize=(12, 5))\n",
    "axr = axs.ravel()\n",
    "for i, ax in enumerate(axr):\n",
    "    if i < len(promoters):\n",
    "        y = responses[promoters[i]]\n",
    "        x = inducers[promoters[i]]\n",
    "        init_guess = [1, 1, y.min(), y.max()]\n",
    "        gate_bounds = [[0, 0, 0, 0],\n",
    "                       [1e4, 4, y.min()+0.1, y.max()+0.1]]\n",
    "        \n",
    "        popt, pcov = curve_fit(hill_activation, x, y, p0=init_guess, bounds=gate_bounds)\n",
    "        \n",
    "        ax.scatter(x, y, color='purple', s=25)\n",
    "        err = np.round(r2_score(y, hill_activation(x, *popt)), 2)\n",
    "        #err = np.sum([(a - b)**2 for a, b in zip(y, hill_activation(x, *popt))])\n",
    "        ax.plot(np.arange(x.max()), hill_activation(np.arange(x.max()), *popt), color='gray', label='R2='+str(err))\n",
    "        \n",
    "        all_params.append(popt)\n",
    "        print(promoters[i], popt, r2_score(y, hill_activation(x, *popt)))\n",
    "        #ax.loglog()\n",
    "        #ax.set_xscale('symlog')\n",
    "        #ax.set_yscale('symlog')\n",
    "        \n",
    "        ax.set_title('{}'.format(promoters[i]))\n",
    "        ax.set_ylabel('RPU')\n",
    "        ax.set_xlabel('{} ({})'.format(promoters[i].split('/')[1], u\"\\u03bcM\"))\n",
    "        ax.legend(loc=4)\n",
    "    else:\n",
    "        ax.set_visible(False)\n",
    "    sns.despine()\n",
    "plt.tight_layout()"
   ]
  },
  {
   "cell_type": "code",
   "execution_count": null,
   "id": "varied-cyprus",
   "metadata": {},
   "outputs": [],
   "source": [
    "inducers"
   ]
  },
  {
   "cell_type": "code",
   "execution_count": null,
   "id": "bright-machine",
   "metadata": {},
   "outputs": [],
   "source": [
    "for j, c in enumerate(promoters):\n",
    "    print('\"', c.split('/')[1].lower(), '_rpu\":', [hill_activation(i, *all_params[j]) for i in inducers[c]])"
   ]
  },
  {
   "cell_type": "code",
   "execution_count": null,
   "id": "statistical-poison",
   "metadata": {},
   "outputs": [],
   "source": [
    "#cumas_gate = [0, 6.25, 12.5, 25, 50, 100]\n",
    "#aras_gate = [0, 0.8125, 3.25, 13, 52, 208]\n",
    "cumas_gate = [0, 6.25, 12.5, 25, 50, 100]\n",
    "aras_gate = [0, 0.8125, 1.625, 3.25, 6.5, 13]\n",
    "cumas_rpu = [hill_activation(i, *all_params[2]) for i in cumas_gate]\n",
    "aras_rpu = [hill_activation(i, *all_params[0]) for i in aras_gate]\n",
    "print(cumas_rpu)\n",
    "print(aras_rpu)"
   ]
  },
  {
   "cell_type": "markdown",
   "id": "healthy-smile",
   "metadata": {},
   "source": [
    "Data Inspections"
   ]
  },
  {
   "cell_type": "code",
   "execution_count": null,
   "id": "designing-privilege",
   "metadata": {},
   "outputs": [],
   "source": [
    "f, axs = plt.subplots(7, 2, sharex=False, sharey=False, figsize=(6, 10))\n",
    "for i in range(7):\n",
    "    for j in range(5, 6):\n",
    "        r0 = ods['{}_{}'.format(promoters[i], j)]\n",
    "        axs[i, 0].plot(r0.index/60, r0)#, color='darkblue')\n",
    "        axs[i, 0].axvline(10, color='red', linestyle='--', label='10h')\n",
    "        #axs[i, 1].legend()\n",
    "        axs[i, 0].set_title('{}_{}'.format(promoters[i], j))\n",
    "        axs[i, 0].set_ylabel('OD')\n",
    "        axs[i, 0].set_xlabel('Hour')\n",
    "    for j in range(6, 12):\n",
    "        r0 = ods['{}_{}'.format(promoters[i], j)]\n",
    "        axs[i, 1].plot(r0.index/60, r0)#, color='darkblue')\n",
    "        axs[i, 1].axvline(10, color='red', linestyle='--', label='10h')\n",
    "        #axs[i, 1].legend()\n",
    "        axs[i, 1].set_title('{}_{}'.format(promoters[i], j))\n",
    "        axs[i, 1].set_ylabel('OD')\n",
    "        axs[i, 1].set_xlabel('Hour')\n",
    "sns.despine()\n",
    "plt.tight_layout()"
   ]
  },
  {
   "cell_type": "code",
   "execution_count": null,
   "id": "desirable-overhead",
   "metadata": {},
   "outputs": [],
   "source": [
    "f, axs = plt.subplots(7, 12, sharex=True, sharey=True, figsize=(20, 10))\n",
    "for i in range(7):\n",
    "    for j in range(12):\n",
    "        r0 = fluos_2['{}_{}'.format(promoters[i], j)]\n",
    "        axs[i, j].plot(r0.index/60, r0, color='darkblue')\n",
    "        axs[i, j].axvline(10, color='red', linestyle='--', label='10h')\n",
    "        axs[i, j].legend()\n",
    "        axs[i, j].set_title('{}_{}'.format(promoters[i], j))\n",
    "        axs[i, j].set_ylabel('Fluo (a.u.)')\n",
    "        axs[i, j].set_xlabel('Hour')\n",
    "sns.despine()\n",
    "plt.tight_layout()"
   ]
  }
 ],
 "metadata": {
  "kernelspec": {
   "display_name": "Python 3",
   "language": "python",
   "name": "python3"
  },
  "language_info": {
   "codemirror_mode": {
    "name": "ipython",
    "version": 3
   },
   "file_extension": ".py",
   "mimetype": "text/x-python",
   "name": "python",
   "nbconvert_exporter": "python",
   "pygments_lexer": "ipython3",
   "version": "3.9.2"
  }
 },
 "nbformat": 4,
 "nbformat_minor": 5
}
