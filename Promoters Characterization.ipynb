{
 "cells": [
  {
   "cell_type": "code",
   "execution_count": 1,
   "id": "sought-cancellation",
   "metadata": {},
   "outputs": [],
   "source": [
    "import numpy as np\n",
    "import pandas as pd\n",
    "pd.set_option('display.max_columns', None)\n",
    "pd.set_option('display.max_rows', None)\n",
    "import matplotlib.pyplot as plt\n",
    "import seaborn as sns\n",
    "from scipy.optimize import curve_fit\n",
    "from sklearn.metrics import r2_score"
   ]
  },
  {
   "cell_type": "code",
   "execution_count": 2,
   "id": "af739d8f",
   "metadata": {},
   "outputs": [],
   "source": [
    "def hill_activation(x, K, n, ymin, ymax):\n",
    "    \n",
    "    return ymin + (ymax - ymin) * (x**n / (K**n + x**n))"
   ]
  },
  {
   "cell_type": "code",
   "execution_count": 3,
   "id": "homeless-pattern",
   "metadata": {},
   "outputs": [],
   "source": [
    "def read_map(plate_map):\n",
    "    \n",
    "    plate_map = plate_map.melt(id_vars=['group'])\n",
    "    plate_map['variable'] = plate_map['variable'].astype(int)\n",
    "    plate_map['Well'] = plate_map['group'] + plate_map['variable'].apply(lambda x: '{:02d}'.format(x))\n",
    "    plate_map.loc[~plate_map['group'].isin(['H']), 'suffix'] = (plate_map['variable'] - 1) % 12\n",
    "    plate_map.loc[plate_map['group'].isin(['H']), 'suffix'] = (plate_map['variable'] - 1) % 2\n",
    "    return plate_map[['Well', 'value', 'suffix']]\n",
    "\n",
    "def generate_metadata(well, plate_map, sample_map):\n",
    "    \n",
    "    df = pd.merge(well, plate_map, on='Well', how='left').dropna(subset=['value']).reset_index(drop=True)\n",
    "    df['short_name'] = df['value'].map(sample_map) + '_' + df['suffix'].astype(int).astype(str)\n",
    "    return df.dropna()\n",
    "\n",
    "def transpose_data(df, col, timepoint=20):\n",
    "    \n",
    "    df.set_index(col, inplace=True)\n",
    "    df = df.transpose().reset_index(drop=True)\n",
    "    df.index = df.index * timepoint\n",
    "    return df\n",
    "\n",
    "def generate_data(df, name, datapoint=2, num_data=4, start_idx=3, col='short_name'):\n",
    "    \n",
    "    datas = []\n",
    "    idxs = [start_idx]\n",
    "    for i in range(1, num_data+1):\n",
    "        idxs.append(idxs[i-1] + datapoint)\n",
    "        data = (df.iloc[:, idxs[i-1]:idxs[i]]).astype(float)\n",
    "        data = pd.concat([name, data], axis=1)\n",
    "        data = transpose_data(data, col)\n",
    "        datas.append(data)\n",
    "    return datas\n",
    "\n",
    "def get_blank_corrected(data):\n",
    "    \n",
    "    blank_corrected = data.sub(data[filter(lambda x: x.startswith('blank'), data.columns)].mean(axis=1), axis=0)\n",
    "    return blank_corrected.drop(filter(lambda x: x.startswith('blank'), blank_corrected.columns), axis=1).reset_index(drop=True)\n",
    "\n",
    "def get_neg_ctrl_corrected(fluo, od):\n",
    "    \n",
    "    blank_corr_fluo = get_blank_corrected(fluo)\n",
    "    blank_corr_od = get_blank_corrected(od)\n",
    "    data = blank_corr_fluo / blank_corr_od\n",
    "    neg_corrected = data.sub(data[filter(lambda x: x.startswith('negative-control'), data.columns)].mean(axis=1), axis=0)\n",
    "    return neg_corrected.drop(filter(lambda x: x.startswith('negative-control'), neg_corrected.columns), axis=1)"
   ]
  },
  {
   "cell_type": "code",
   "execution_count": 92,
   "id": "8f06dde1",
   "metadata": {},
   "outputs": [],
   "source": [
    "def generate_responses(data, promoters, inducers):\n",
    "    \n",
    "    df_res = pd.DataFrame([data[data.index.str.startswith(promoter)].values for promoter in promoters]).T\n",
    "    df_res.columns = promoters\n",
    "    df_ind = pd.DataFrame(inducers).T\n",
    "    df_ind.columns = promoters\n",
    "    return df_res, df_ind\n",
    "\n",
    "def plot_responses(row, col, data, inducers, promoters, sharex=True, sharey=False, log_scale=False):\n",
    "    \n",
    "    f, axs = plt.subplots(row, col, sharex=sharex, sharey=sharey, figsize=(col*5, row*2))\n",
    "    axr = axs.ravel()\n",
    "    for i, ax in enumerate(axr):\n",
    "        if i < len(promoters):\n",
    "            response = data[data.index.str.startswith(promoters[i])].values\n",
    "            ax.scatter(inducers[i], response)\n",
    "            if log_scale:\n",
    "                ax.loglog()\n",
    "            ax.set_title('{}'.format(promoters[i]))\n",
    "        else:\n",
    "            ax.set_visible(False)\n",
    "    \n",
    "    sns.despine()\n",
    "    plt.tight_layout()"
   ]
  },
  {
   "cell_type": "code",
   "execution_count": 4,
   "id": "growing-capitol",
   "metadata": {},
   "outputs": [],
   "source": [
    "sample_map = {\n",
    "    'P62': 'pBAD-rJ/Ara',\n",
    "    'P63': 'araC-pBAD-rJ/Ara',\n",
    "    'P64': 'pCin-rJ/OHC14',\n",
    "    'P65': 'pCymRC-rJ/Cuma',\n",
    "    'P66': 'cymRC-pCymRC-rJ/Cuma',\n",
    "    'P67': 'pLux2-rJ/AHL',\n",
    "    'P68': 'pLuxB-rJ/AHL',\n",
    "    'P69': 'pPhlF-rJ/DAPG',\n",
    "    'P70': 'pSalTTC-rJ/Sal',\n",
    "    'P71': 'pVanCC-rJ/Van',\n",
    "    'P72': 'rhaS-pRhaB-rJ/Rha',\n",
    "    'P73': 'araC-pBAD/Ara',\n",
    "    'BK': 'blank-kan',\n",
    "    'BA': 'blank-amp',\n",
    "    '3K3-N': 'negative-control-kan',\n",
    "    '4A3-N': 'negative-control-amp',\n",
    "    '4A3-P': 'positive-control-amp'\n",
    "}\n",
    "\n",
    "def read_data(folder, filename, plate_map):\n",
    "    \n",
    "    plate_map = read_map(pd.read_csv('datasets/experiment/{}/{}.csv'.format(folder, plate_map)))\n",
    "    raw_data = pd.read_csv('datasets/experiment/{}/{}.csv'.format(folder, filename), skiprows=[0])\n",
    "    metadata = generate_metadata(raw_data['Well'], plate_map, sample_map)\n",
    "    data = raw_data[raw_data['Well'].isin(metadata['Well'])].reset_index(drop=True)\n",
    "    return generate_data(data, metadata['short_name'], datapoint=int((raw_data.shape[1] - 3)/4))\n",
    "\n",
    "def get_data_at(fluos, ods, h=6):\n",
    "    \n",
    "    samples = get_neg_ctrl_corrected(fluos[filter(lambda x: '-amp' not in x, fluos.columns)],\n",
    "                                 ods[filter(lambda x: '-amp' not in x, ods.columns)])\n",
    "    reporter = get_neg_ctrl_corrected(fluos[filter(lambda x: '-amp' in x, fluos.columns)],\n",
    "                                      ods[filter(lambda x: '-amp' in x, ods.columns)])\n",
    "    return samples.iloc[int(h * 60/20)].apply(lambda x:  x / reporter.iloc[int(h * 60/20)].mean())"
   ]
  },
  {
   "cell_type": "markdown",
   "id": "fd99525f",
   "metadata": {},
   "source": [
    "### 006"
   ]
  },
  {
   "cell_type": "code",
   "execution_count": 99,
   "id": "initial-anchor",
   "metadata": {},
   "outputs": [],
   "source": [
    "folder = '106-promoters-characterization'\n",
    "filename = '006-promoters-characterization-01'\n",
    "map_name = '006-plate_map'\n",
    "\n",
    "promoters = ['pBAD-rJ/Ara', 'pCin-rJ/OHC14', 'cymRC-pCymRC-rJ/Cuma',\n",
    "             'pLuxB-rJ/AHL', 'pPhlF-rJ/DAPG', 'pSalTTC-rJ/Sal', 'rhaS-pRhaB-rJ/Rha']\n",
    "\n",
    "induction_lvl = 11\n",
    "max_inducers = [416, 160, 800, 20, 50, 1600, 15300] #ara, ohc14, cuma, ahl, dapg, sal, rha\n",
    "inducers = []\n",
    "dil = 2\n",
    "for x, mi in enumerate(max_inducers):\n",
    "    inducer = ([mi] + [mi/i for i in [dil**j for j in range(1, induction_lvl)]] + [0])\n",
    "    inducer.reverse()\n",
    "    inducers.append(inducer)"
   ]
  },
  {
   "cell_type": "code",
   "execution_count": 100,
   "id": "e00afcb7",
   "metadata": {},
   "outputs": [
    {
     "data": {
      "image/png": "[encoded data removed]",
      "text/plain": [
       "<Figure size 1080x432 with 9 Axes>"
      ]
     },
     "metadata": {
      "needs_background": "light"
     },
     "output_type": "display_data"
    }
   ],
   "source": [
    "ods, fluos, fluos_1, fluos_2 = read_data(folder, filename, map_name)\n",
    "df = get_data_at(fluos_2, ods, h=10)\n",
    "df_res, df_ind = generate_responses(df, promoters, inducers)\n",
    "plot_responses(3, 3, df, inducers, promoters, sharex=False)"
   ]
  },
  {
   "cell_type": "markdown",
   "id": "0c5f0edb",
   "metadata": {},
   "source": [
    "### 008"
   ]
  },
  {
   "cell_type": "code",
   "execution_count": 101,
   "id": "9ce232b1",
   "metadata": {},
   "outputs": [],
   "source": [
    "filename = '008-promoters-characterization-02'\n",
    "map_name = '006-plate_map' #same plate map with experiment 006\n",
    "\n",
    "promoters = ['pBAD-rJ/Ara', 'pCin-rJ/OHC14', 'cymRC-pCymRC-rJ/Cuma',\n",
    "             'pLuxB-rJ/AHL', 'pPhlF-rJ/DAPG', 'pSalTTC-rJ/Sal', 'rhaS-pRhaB-rJ/Rha']\n",
    "\n",
    "induction_lvl = 11\n",
    "max_inducers = [416, 160, 800, 20, 50, 1600, 15300] #ara, ohc14, cuma, ahl, dapg, sal, rha\n",
    "inducers = []\n",
    "dil = 2\n",
    "for x, mi in enumerate(max_inducers):\n",
    "    inducer = ([mi] + [mi/i for i in [dil**j for j in range(1, induction_lvl)]] + [0])\n",
    "    inducer.reverse()\n",
    "    inducers.append(inducer)"
   ]
  },
  {
   "cell_type": "code",
   "execution_count": 102,
   "id": "e51f2256",
   "metadata": {},
   "outputs": [
    {
     "data": {
      "image/png": "[encoded data removed]",
      "text/plain": [
       "<Figure size 1080x432 with 9 Axes>"
      ]
     },
     "metadata": {
      "needs_background": "light"
     },
     "output_type": "display_data"
    }
   ],
   "source": [
    "ods, fluos, fluos_1, fluos_2 = read_data(folder, filename, map_name)\n",
    "df = get_data_at(fluos_2, ods, h=10)\n",
    "df_res_2, df_ind_2 = generate_responses(df, promoters, inducers)\n",
    "plot_responses(3, 3, df, inducers, promoters, sharex=False)"
   ]
  },
  {
   "cell_type": "markdown",
   "id": "periodic-rebate",
   "metadata": {},
   "source": [
    "#### Promoters Characterization"
   ]
  },
  {
   "cell_type": "code",
   "execution_count": 42,
   "id": "unavailable-future",
   "metadata": {},
   "outputs": [
    {
     "name": "stderr",
     "output_type": "stream",
     "text": [
      "C:\\Users\\rmardian\\AppData\\Local\\Temp/ipykernel_2152/3430363872.py:24: UserWarning: Data has no positive values, and therefore cannot be log-scaled.\n",
      "  ax.loglog()\n",
      "C:\\Users\\rmardian\\AppData\\Local\\Temp/ipykernel_2152/3430363872.py:23: UserWarning: Data has no positive values, and therefore cannot be log-scaled.\n",
      "  ax.scatter(inducers[i][j], rpu, label=np.round(inducers[i][j], 5))\n"
     ]
    },
    {
     "data": {
      "image/png": "[encoded data removed]",
      "text/plain": [
       "<Figure size 1080x432 with 9 Axes>"
      ]
     },
     "metadata": {
      "needs_background": "light"
     },
     "output_type": "display_data"
    }
   ],
   "source": [
    "def get_control(fluos, idx):\n",
    "\n",
    "    gfp = fluos[filter(lambda x: x.startswith('positive-control-amp'), fluos.columns)].mean(axis=1)\n",
    "    neg_amp = fluos[filter(lambda x: x.startswith('negative-control-amp'), fluos.columns)].mean(axis=1)\n",
    "    neg_kan = fluos[filter(lambda x: x.startswith('negative-control-kan'), fluos.columns)].mean(axis=1)\n",
    "    neg_kan_h, gfp_h, neg_amp_h= neg_kan.iloc[idx], gfp.iloc[idx], neg_amp.iloc[idx]\n",
    "    return neg_kan_h, gfp_h, neg_amp_h\n",
    "\n",
    "def promoters_plots(row, col, data, inducers, promoters, h=8, sharex=True, sharey=False):\n",
    "    \n",
    "    idx = 3 * h\n",
    "    responses = []\n",
    "    ctrl = get_control(fluos_2, idx)\n",
    "    \n",
    "    f, axs = plt.subplots(row, col, sharex=sharex, sharey=sharey, figsize=(col*5, row*2))\n",
    "    axr = axs.ravel()\n",
    "    for i, ax in enumerate(axr):\n",
    "        if i < len(promoters):\n",
    "            response = []\n",
    "            for j in range(12):\n",
    "                d = data['{}_{}'.format(promoters[i], j)]\n",
    "                rpu = (d.iloc[idx] - ctrl[0]) / (ctrl[1] - ctrl[2])\n",
    "                ax.scatter(inducers[i][j], rpu, label=np.round(inducers[i][j], 5))\n",
    "                ax.loglog()\n",
    "                response.append(rpu)\n",
    "            ax.set_title('{}_{}'.format(promoters[i], j))\n",
    "            responses.append(response)\n",
    "        else:\n",
    "            ax.set_visible(False)\n",
    "    \n",
    "    sns.despine()\n",
    "    plt.tight_layout()\n",
    "    df_res = pd.DataFrame(responses).T\n",
    "    df_res.columns = promoters\n",
    "    df_ind = pd.DataFrame(inducers).T\n",
    "    df_ind.columns = inducers\n",
    "    return df_res, df_ind\n",
    "\n",
    "df_res, df_ind = promoters_plots(3, 3, fluos_2, inducers, promoters, 10, sharex=False)"
   ]
  },
  {
   "cell_type": "code",
   "execution_count": null,
   "id": "several-window",
   "metadata": {},
   "outputs": [],
   "source": [
    "folder = '011-3-promoters-detailed-characterization'\n",
    "plate_map = read_map(pd.read_csv('datasets/experiment/{}/plate_map.csv'.format(folder)))\n",
    "raw_data = pd.read_csv('datasets/experiment/{}/006-promoters-characterization-01.csv'.format(folder), skiprows=[0])\n",
    "metadata = generate_metadata(raw_data['Well'], plate_map, sample_map)\n",
    "data = raw_data[raw_data['Well'].isin(metadata['Well'])].reset_index(drop=True)\n",
    "ods, fluos, fluos_1, fluos_2 = generate_data(data, metadata['short_name'], datapoint=int((raw_data.shape[1] - 3)/4)) "
   ]
  },
  {
   "cell_type": "code",
   "execution_count": null,
   "id": "heated-bacon",
   "metadata": {},
   "outputs": [],
   "source": []
  },
  {
   "cell_type": "code",
   "execution_count": null,
   "id": "apparent-advancement",
   "metadata": {},
   "outputs": [],
   "source": []
  },
  {
   "cell_type": "code",
   "execution_count": null,
   "id": "numerical-working",
   "metadata": {},
   "outputs": [],
   "source": []
  },
  {
   "cell_type": "code",
   "execution_count": null,
   "id": "removed-poster",
   "metadata": {},
   "outputs": [],
   "source": []
  },
  {
   "cell_type": "code",
   "execution_count": null,
   "id": "manual-allocation",
   "metadata": {},
   "outputs": [],
   "source": []
  },
  {
   "cell_type": "markdown",
   "id": "7630e3cb",
   "metadata": {},
   "source": [
    "#### New promoters characterization"
   ]
  },
  {
   "cell_type": "code",
   "execution_count": null,
   "id": "0ee17d32",
   "metadata": {},
   "outputs": [],
   "source": [
    "folder = '029-new-promoters-characterization'\n",
    "fluos, ods, fluos_1, fluos_2, raw_fluos, raw_ods, raw_fluos_1, raw_fluos_2 = read_datasets(folder)"
   ]
  },
  {
   "cell_type": "code",
   "execution_count": null,
   "id": "floppy-automation",
   "metadata": {},
   "outputs": [],
   "source": [
    "def get_control(fluos, h=8):\n",
    "\n",
    "    idx = 3 * h\n",
    "    gfp = fluos[filter(lambda x: x.startswith('positive-control-amp'), fluos.columns)].mean(axis=1)\n",
    "    neg_amp = fluos[filter(lambda x: x.startswith('negative-control-amp'), fluos.columns)].mean(axis=1)\n",
    "    neg_kan = fluos[filter(lambda x: x.startswith('negative-control-kan'), fluos.columns)].mean(axis=1)\n",
    "    neg_kan_10, gfp_10, neg_amp_10 = neg_kan.iloc[idx], gfp.iloc[idx], neg_amp.iloc[idx]\n",
    "    return neg_kan_10, gfp_10, neg_amp_10\n",
    "\n",
    "def promoters_plots(row, col, data, inducers, promoters, ctrl, h=8, sharex=True, sharey=False):\n",
    "    \n",
    "    idx = 3 * h\n",
    "    responses = []\n",
    "    f, axs = plt.subplots(row, col, sharex=sharex, sharey=sharey, figsize=(col*5, row*2))\n",
    "    axr = axs.ravel()\n",
    "    for i, ax in enumerate(axr):\n",
    "        if i < len(promoters):\n",
    "            response = []\n",
    "            for j in range(12):\n",
    "                #if j < 12:\n",
    "                #    if j%2==1:\n",
    "                #        continue\n",
    "                #else:\n",
    "                #    if j%2==0:\n",
    "                #        continue\n",
    "                d = data['{}_{}'.format(promoters[i], j)]\n",
    "                rpu = (d.iloc[idx] - ctrl[0]) / (ctrl[1] - ctrl[2])\n",
    "                ax.scatter(inducers[i][j], rpu, label=np.round(inducers[i][j], 5))\n",
    "                ax.loglog()\n",
    "                #ax.set_xscale('symlog')\n",
    "                #ax.set_yscale('symlog')\n",
    "                #print(promoters[i], j, inducers[i][j])\n",
    "                response.append(rpu)\n",
    "            ax.set_title('{}_{}'.format(promoters[i], j))\n",
    "            #ax.set_xticks(np.arange(12))\n",
    "            #ax.set_xticklabels([np.round(u, 2) for u in inducers[i]], rotation=45)\n",
    "            #ax.legend()\n",
    "            responses.append(response)\n",
    "        else:\n",
    "            ax.set_visible(False)\n",
    "    sns.despine()\n",
    "    plt.tight_layout()\n",
    "    return responses"
   ]
  },
  {
   "cell_type": "code",
   "execution_count": null,
   "id": "controversial-excess",
   "metadata": {},
   "outputs": [],
   "source": [
    "responses = promoters_plots(3, 3, fluos_2, inducers, promoters, get_control(fluos_2, 16), 16, sharex=False)"
   ]
  },
  {
   "cell_type": "code",
   "execution_count": null,
   "id": "minor-israeli",
   "metadata": {},
   "outputs": [],
   "source": [
    "df_res = pd.DataFrame(responses).T\n",
    "df_res.columns = promoters\n",
    "df_ind = pd.DataFrame(inducers).T\n",
    "df_ind.columns = promoters"
   ]
  },
  {
   "cell_type": "code",
   "execution_count": null,
   "id": "liked-catholic",
   "metadata": {},
   "outputs": [],
   "source": [
    "all_params = []\n",
    "f, axs = plt.subplots(3, 3, sharex=False, sharey=False, figsize=(12, 5))\n",
    "axr = axs.ravel()\n",
    "for i, ax in enumerate(axr):\n",
    "    if i < len(promoters):\n",
    "        y = df_res[promoters[i]]\n",
    "        x = df_ind[promoters[i]]\n",
    "        init_guess = [1, 1, y.min(), y.max()]\n",
    "        gate_bounds = [[0, 0, 0, 0],\n",
    "                       [1e4, 4, y.min()+0.1, y.max()+0.1]]\n",
    "        \n",
    "        popt, pcov = curve_fit(hill_activation, x, y, p0=init_guess, bounds=gate_bounds)\n",
    "        \n",
    "        ax.scatter(x, y, color='purple', s=25)\n",
    "        err = np.round(r2_score(y, hill_activation(x, *popt)), 2)\n",
    "        #err = np.sum([(a - b)**2 for a, b in zip(y, hill_activation(x, *popt))])\n",
    "        ax.plot(np.arange(x.max()), hill_activation(np.arange(x.max()), *popt), color='gray', label='R2='+str(err))\n",
    "        \n",
    "        all_params.append(popt)\n",
    "        print(promoters[i], popt, r2_score(y, hill_activation(x, *popt)))\n",
    "        #ax.loglog()\n",
    "        #\n",
    "        ax.set_xscale('symlog')\n",
    "        ax.set_yscale('symlog')\n",
    "        \n",
    "        ax.set_title('{}'.format(promoters[i]))\n",
    "        ax.set_ylabel('RPU')\n",
    "        ax.set_xlabel('{} ({})'.format(promoters[i].split('/')[1], u\"\\u03bcM\"))\n",
    "        ax.legend(loc=4)\n",
    "    else:\n",
    "        ax.set_visible(False)\n",
    "    sns.despine()\n",
    "plt.tight_layout()"
   ]
  },
  {
   "cell_type": "code",
   "execution_count": null,
   "id": "wooden-suicide",
   "metadata": {},
   "outputs": [],
   "source": [
    "all_params"
   ]
  },
  {
   "cell_type": "code",
   "execution_count": null,
   "id": "enhanced-lewis",
   "metadata": {},
   "outputs": [],
   "source": [
    "cumas_gate = [0, 6.25, 12.5, 25, 50, 100]\n",
    "aras_gate = [0, 0.8125, 3.25, 13, 52, 208]\n",
    "cumas_rpu = [hill_activation(i, *all_params[2]) for i in cumas_gate]\n",
    "aras_rpu = [hill_activation(i, *all_params[0]) for i in aras_gate]\n",
    "print(cumas_rpu)\n",
    "print(aras_rpu)"
   ]
  },
  {
   "cell_type": "code",
   "execution_count": null,
   "id": "angry-violence",
   "metadata": {},
   "outputs": [],
   "source": [
    "cumas_rpu = [hill_activation(i, *all_params[2]) for i in inducers[2]]\n",
    "aras_rpu = [hill_activation(i, *all_params[0]) for i in inducers[0]]\n",
    "print(cumas_rpu)\n",
    "print(aras_rpu)"
   ]
  },
  {
   "cell_type": "code",
   "execution_count": null,
   "id": "expanded-fundamental",
   "metadata": {},
   "outputs": [],
   "source": []
  },
  {
   "cell_type": "code",
   "execution_count": null,
   "id": "18028722",
   "metadata": {},
   "outputs": [],
   "source": [
    "f, axs = plt.subplots(7, 2, sharex=True, sharey=False, figsize=(6, 14))\n",
    "for i in range(7):\n",
    "    for j in range(0, 6):\n",
    "        r0 = fluos['{}_{}'.format(promoters[i], j)]\n",
    "        axs[i, 0].plot(r0.index/60, r0, label=j)#, color='darkblue')\n",
    "        axs[i, 0].axvline(8, color='red', linestyle='--')\n",
    "        axs[i, 0].legend()\n",
    "        axs[i, 0].set_title('{}_{}'.format(promoters[i], j))\n",
    "        axs[i, 0].set_ylabel('OD')\n",
    "        axs[i, 0].set_xlabel('Hour')\n",
    "    for j in range(6, 12):\n",
    "        r0 = ods['{}_{}'.format(promoters[i], j)]\n",
    "        axs[i, 1].plot(r0.index/60, r0, label=j)#, color='darkblue')\n",
    "        axs[i, 1].axvline(8, color='red', linestyle='--')\n",
    "        axs[i, 1].legend()\n",
    "        axs[i, 1].set_title('{}_{}'.format(promoters[i], j))\n",
    "        axs[i, 1].set_ylabel('OD')\n",
    "        axs[i, 1].set_xlabel('Hour')\n",
    "sns.despine()\n",
    "plt.tight_layout()"
   ]
  },
  {
   "cell_type": "code",
   "execution_count": null,
   "id": "871ed945",
   "metadata": {},
   "outputs": [],
   "source": []
  },
  {
   "cell_type": "markdown",
   "id": "empirical-sociology",
   "metadata": {},
   "source": [
    "#### Cherrypicking 3 Promoters Characterization - 24 induction levels"
   ]
  },
  {
   "cell_type": "code",
   "execution_count": null,
   "id": "legitimate-mexican",
   "metadata": {},
   "outputs": [],
   "source": [
    "folder = '011-3-promoters-detailed-characterization'\n",
    "fluos, ods, fluos_1, fluos_2 = read_datasets(folder)"
   ]
  },
  {
   "cell_type": "code",
   "execution_count": null,
   "id": "express-corpus",
   "metadata": {},
   "outputs": [],
   "source": [
    "promoters = ['pBAD/Ara', 'pCymRC/Cuma', 'pRhaB/Rha']\n",
    "aras = [0, 4.95911E-05, 9.91821E-05, 0.000198364, 0.000396729, 0.000793457, 0.001586914, 0.003173828, 0.006347656, 0.012695313, 0.025390625, 0.05078125, 0, 0.1015625, 0.203125, 0.40625, 0.8125, 1.625, 3.25, 6.5, 13, 26, 52, 104]\n",
    "cumas = [0, 0.001525879, 0.003051758, 0.006103516, 0.012207031, 0.024414063, 0.048828125, 0.09765625, 0.1953125, 0.390625, 0.78125, 1.5625, 0, 3.125, 6.25, 12.5, 25, 50, 100, 200, 400, 800, 1600, 3200]\n",
    "rhas = [0, 0.014591217, 0.029182434, 0.058364868, 0.116729736, 0.233459473, 0.466918945, 0.933837891, 1.867675781, 3.735351563, 7.470703125, 14.94140625, 0, 29.8828125, 59.765625, 119.53125, 239.0625, 478.125, 956.25, 1912.5, 3825, 7650, 15300, 30600]\n",
    "inducers = [aras, cumas, rhas]"
   ]
  },
  {
   "cell_type": "code",
   "execution_count": null,
   "id": "molecular-second",
   "metadata": {},
   "outputs": [],
   "source": [
    "f, axs = plt.subplots(3, 4, sharex=True, sharey=False, figsize=(12, 6))\n",
    "for i in range(3):\n",
    "    for j in range(0, 6):\n",
    "        r0 = ods['{}_{}'.format(promoters[i], j)]\n",
    "        axs[i, 0].plot(r0.index/60, r0, label=j)#, color='darkblue')\n",
    "        axs[i, 0].axvline(10, color='red', linestyle='--')\n",
    "        axs[i, 0].legend()\n",
    "        axs[i, 0].set_title('{}_{}'.format(promoters[i], j))\n",
    "        axs[i, 0].set_ylabel('OD')\n",
    "        axs[i, 0].set_xlabel('Hour')\n",
    "    for j in range(6, 12):\n",
    "        r0 = ods['{}_{}'.format(promoters[i], j)]\n",
    "        axs[i, 1].plot(r0.index/60, r0, label=j)#, color='darkblue')\n",
    "        axs[i, 1].axvline(10, color='red', linestyle='--')\n",
    "        axs[i, 1].legend()\n",
    "        axs[i, 1].set_title('{}_{}'.format(promoters[i], j))\n",
    "        axs[i, 1].set_ylabel('OD')\n",
    "        axs[i, 1].set_xlabel('Hour')\n",
    "    for j in range(12, 18):\n",
    "        r0 = ods['{}_{}'.format(promoters[i], j)]\n",
    "        axs[i, 2].plot(r0.index/60, r0, label=j)#, color='darkblue')\n",
    "        axs[i, 2].axvline(10, color='red', linestyle='--')\n",
    "        axs[i, 2].legend()\n",
    "        axs[i, 2].set_title('{}_{}'.format(promoters[i], j))\n",
    "        axs[i, 2].set_ylabel('OD')\n",
    "        axs[i, 2].set_xlabel('Hour')\n",
    "    for j in range(18, 24):\n",
    "        r0 = ods['{}_{}'.format(promoters[i], j)]\n",
    "        axs[i, 3].plot(r0.index/60, r0, label=j)#, color='darkblue')\n",
    "        axs[i, 3].axvline(10, color='red', linestyle='--')\n",
    "        axs[i, 3].legend()\n",
    "        axs[i, 3].set_title('{}_{}'.format(promoters[i], j))\n",
    "        axs[i, 3].set_ylabel('OD')\n",
    "        axs[i, 3].set_xlabel('Hour')\n",
    "sns.despine()\n",
    "plt.tight_layout()"
   ]
  },
  {
   "cell_type": "code",
   "execution_count": null,
   "id": "dutch-stomach",
   "metadata": {},
   "outputs": [],
   "source": [
    "def get_control(fluos, h):\n",
    "\n",
    "    idx = 3 * h\n",
    "    gfp = fluos[filter(lambda x: x.startswith('positive-control-amp'), fluos.columns)].mean(axis=1)\n",
    "    neg_amp = fluos[filter(lambda x: x.startswith('negative-control-amp'), fluos.columns)].mean(axis=1)\n",
    "    neg_kan = fluos[filter(lambda x: x.startswith('negative-control-kan'), fluos.columns)].mean(axis=1)\n",
    "    neg_kan_10, gfp_10, neg_amp_10 = neg_kan.iloc[idx], gfp.iloc[idx], neg_amp.iloc[idx]\n",
    "    return neg_kan_10, gfp_10, neg_amp_10\n",
    "\n",
    "def promoters_plots(row, col, data, inducers, promoters, ctrl, h, sharex=True, sharey=False):\n",
    "    \n",
    "    idx = 3 * h\n",
    "    responses = []\n",
    "    f, axs = plt.subplots(row, col, sharex=sharex, sharey=sharey, figsize=(col*5, row*2))\n",
    "    axr = axs.ravel()\n",
    "    for i, ax in enumerate(axr):\n",
    "        if i < len(promoters):\n",
    "            response = []\n",
    "            for j in range(12):\n",
    "                #if j < 12:\n",
    "                #    if j%2==1:\n",
    "                #        continue\n",
    "                #else:\n",
    "                #    if j%2==0:\n",
    "                #        continue\n",
    "                d = data['{}_{}'.format(promoters[i], j)]\n",
    "                rpu = (d.iloc[idx] - ctrl[0]) / (ctrl[1] - ctrl[2])\n",
    "                ax.scatter(inducers[i][j], rpu, label=np.round(inducers[i][j], 5))\n",
    "                ax.loglog()\n",
    "                #ax.set_xscale('symlog')\n",
    "                #ax.set_yscale('symlog')\n",
    "                #print(promoters[i], j, inducers[i][j])\n",
    "                response.append(rpu)\n",
    "            ax.set_title('{}_{}'.format(promoters[i], j))\n",
    "            #ax.set_xticks(np.arange(12))\n",
    "            #ax.set_xticklabels([np.round(u, 2) for u in inducers[i]], rotation=45)\n",
    "            #ax.legend()\n",
    "            responses.append(response)\n",
    "        else:\n",
    "            ax.set_visible(False)\n",
    "    sns.despine()\n",
    "    plt.tight_layout()\n",
    "    return responses"
   ]
  },
  {
   "cell_type": "code",
   "execution_count": null,
   "id": "disabled-appendix",
   "metadata": {},
   "outputs": [],
   "source": [
    "aras_cp = [(4.95911e-05/4), 4.95911e-05, 0.000198364, 0.000793457, 0.003173828, 0.012695313, 0.05078125, 0.203125, 0.8125, 3.25, 13, 52]\n",
    "rhas_cp = [(0.014591217/4), 0.014591217, 0.058364868, 0.233459473, 0.933837891, 3.735351563, 14.94140625, 59.765625, 239.0625, 956.25, 3825, 15300]\n",
    "inducers_cp = [aras_cp, rhas_cp]\n",
    "promoters_cp = ['pBAD/Ara', 'pRhaB/Rha']"
   ]
  },
  {
   "cell_type": "code",
   "execution_count": null,
   "id": "corresponding-finnish",
   "metadata": {},
   "outputs": [],
   "source": [
    "responses = promoters_plots(1, 2, fluos_2, inducers_cp, promoters_cp, get_control(fluos_2, 10), 10, sharex=False)"
   ]
  },
  {
   "cell_type": "code",
   "execution_count": null,
   "id": "active-sense",
   "metadata": {},
   "outputs": [],
   "source": [
    "responses = promoters_plots(1, 3, fluos_2, inducers, promoters, get_control(fluos_2, 10), 10, sharex=False)"
   ]
  },
  {
   "cell_type": "markdown",
   "id": "scientific-missouri",
   "metadata": {},
   "source": [
    "#### Promoters Characterization - 6 induction levels"
   ]
  },
  {
   "cell_type": "code",
   "execution_count": null,
   "id": "considerable-carrier",
   "metadata": {},
   "outputs": [],
   "source": [
    "folder = '004-promoters-characterization'\n",
    "fluos, ods, fluos_1, fluos_2 = read_datasets(folder)\n",
    "fluos_ods = fluos_2 / ods"
   ]
  },
  {
   "cell_type": "code",
   "execution_count": null,
   "id": "extra-offering",
   "metadata": {},
   "outputs": [],
   "source": [
    "aras = [0, 0.8125, 3.25, 13, 52, 208]\n",
    "ohcs = [0, 0.039, 0.156, 0.625, 2.5, 10]\n",
    "cumas = [0, 6.25, 12.5, 25, 50, 100]\n",
    "ahls = [0, 0.039, 0.156, 0.625, 2.5, 10]\n",
    "dapgs = [0, 0.098, 0.391, 1.563, 6.25, 25]\n",
    "sals = [0, 0.391, 1.563, 6.25, 25, 100]\n",
    "rhas = [0, 59.766, 239.063, 956.25, 3825, 15300]\n",
    "inducers = [aras, ohcs, cumas, ahls, dapgs, sals, rhas]"
   ]
  },
  {
   "cell_type": "code",
   "execution_count": null,
   "id": "controlled-stress",
   "metadata": {},
   "outputs": [],
   "source": [
    "idx = 3 * 10\n",
    "gfp = fluos_2[filter(lambda x: x.startswith('positive-control-amp'), fluos_ods.columns)].mean(axis=1)\n",
    "neg = fluos_2[filter(lambda x: x.startswith('negative-control-kan'), fluos_ods.columns)].mean(axis=1)\n",
    "gfp10, neg10 = gfp.iloc[idx], neg.iloc[idx]\n",
    "gfp10, neg10"
   ]
  },
  {
   "cell_type": "code",
   "execution_count": null,
   "id": "jewish-simulation",
   "metadata": {},
   "outputs": [],
   "source": [
    "f, axs = plt.subplots(7, 2, sharex=True, sharey=False, figsize=(6, 10))\n",
    "for i in range(7):\n",
    "    for j in range(3):\n",
    "        r0 = ods['{}_{}'.format(promoters[i], j)]\n",
    "        axs[i, 0].plot(r0.index/60, r0, label=j)#, color='darkblue')\n",
    "        axs[i, 0].axvline(10, color='red', linestyle='--')\n",
    "        axs[i, 0].legend()\n",
    "        axs[i, 0].set_title('{}_{}'.format(promoters[i], j))\n",
    "        axs[i, 0].set_ylabel('OD')\n",
    "        axs[i, 0].set_xlabel('Hour')\n",
    "    for j in range(3, 6):\n",
    "        r0 = ods['{}_{}'.format(promoters[i], j)]\n",
    "        axs[i, 1].plot(r0.index/60, r0, label=j)#, color='darkblue')\n",
    "        axs[i, 1].axvline(10, color='red', linestyle='--')\n",
    "        axs[i, 1].legend()\n",
    "        axs[i, 1].set_title('{}_{}'.format(promoters[i], j))\n",
    "        axs[i, 1].set_ylabel('OD')\n",
    "        axs[i, 1].set_xlabel('Hour')\n",
    "sns.despine()\n",
    "plt.tight_layout()"
   ]
  },
  {
   "cell_type": "code",
   "execution_count": null,
   "id": "informational-devon",
   "metadata": {},
   "outputs": [],
   "source": [
    "def promoters_plots(row, col, data, promoters, sharex=True, sharey=False):\n",
    "    \n",
    "    #xs = np.arange(12)\n",
    "    responses = []\n",
    "    f, axs = plt.subplots(row, col, sharex=sharex, sharey=sharey, figsize=(col*3, row*2))\n",
    "    axr = axs.ravel()\n",
    "    for i, ax in enumerate(axr):\n",
    "        if i < len(promoters):\n",
    "            response = []\n",
    "            for j in range(6):\n",
    "                d = data['{}_{}'.format(promoters[i], j)]\n",
    "                rpu = (d.iloc[idx] - neg.iloc[idx]) / (gfp.iloc[idx] - neg.iloc[idx])\n",
    "                ax.scatter(np.log(inducers[i][j]), np.log(rpu))\n",
    "                response.append(rpu)\n",
    "            ax.set_title('{}_{}'.format(promoters[i], j))\n",
    "            #ax.set_xticks(np.arange(12))\n",
    "            #ax.set_xticklabels([np.round(u, 2) for u in inducers[i]], rotation=45)\n",
    "            responses.append(response)\n",
    "        else:\n",
    "            ax.set_visible(False)\n",
    "    sns.despine()\n",
    "    plt.tight_layout()\n",
    "    \n",
    "    return responses\n",
    "\n",
    "responses = promoters_plots(2, 4, fluos_2, promoters, sharex=False, sharey=False)"
   ]
  },
  {
   "cell_type": "markdown",
   "id": "pediatric-notion",
   "metadata": {},
   "source": [
    "#### Promoters Characterization - 12 induction levels"
   ]
  },
  {
   "cell_type": "code",
   "execution_count": null,
   "id": "alike-bankruptcy",
   "metadata": {},
   "outputs": [],
   "source": [
    "def get_control(fluos, h):\n",
    "\n",
    "    idx = 3 * h\n",
    "    gfp = fluos[filter(lambda x: x.startswith('positive-control-amp'), fluos.columns)].mean(axis=1)\n",
    "    neg_amp = fluos[filter(lambda x: x.startswith('negative-control-amp'), fluos.columns)].mean(axis=1)\n",
    "    neg_kan = fluos[filter(lambda x: x.startswith('negative-control-kan'), fluos.columns)].mean(axis=1)\n",
    "    neg_kan_10, gfp_10, neg_amp_10 = neg_kan.iloc[idx], gfp.iloc[idx], neg_amp.iloc[idx]\n",
    "    return neg_kan_10, gfp_10, neg_amp_10\n",
    "\n",
    "def promoters_plots(row, col, data, inducers, promoters, ctrl, h, sharex=True, sharey=False):\n",
    "    \n",
    "    idx = 3 * h\n",
    "    responses = []\n",
    "    f, axs = plt.subplots(row, col, sharex=sharex, sharey=sharey, figsize=(col*3, row*2))\n",
    "    axr = axs.ravel()\n",
    "    for i, ax in enumerate(axr):\n",
    "        if i < len(promoters):\n",
    "            response = []\n",
    "            for j in range(12):\n",
    "                d = data['{}_{}'.format(promoters[i], j)]\n",
    "                rpu = (d.iloc[idx] - ctrl[0]) / (ctrl[1] - ctrl[2])\n",
    "                ax.scatter(inducers[i][j], rpu, label=np.round(inducers[i][j], 2))\n",
    "                ax.loglog()\n",
    "                #ax.set_xscale('symlog')\n",
    "                #ax.set_yscale('symlog')\n",
    "                response.append(rpu)\n",
    "            ax.set_title('{}_{}'.format(promoters[i], j))\n",
    "            #ax.set_xticks(np.arange(12))\n",
    "            #ax.set_xticklabels([np.round(u, 2) for u in inducers[i]], rotation=45)\n",
    "            #ax.legend(bbox_to_anchor=(1.1, 1.1))\n",
    "            responses.append(response)\n",
    "        else:\n",
    "            ax.set_visible(False)\n",
    "    sns.despine()\n",
    "    plt.tight_layout()\n",
    "    return responses"
   ]
  },
  {
   "cell_type": "code",
   "execution_count": null,
   "id": "framed-editing",
   "metadata": {},
   "outputs": [],
   "source": [
    "#006\n",
    "folder = '006-promoters-characterization'\n",
    "fluos, ods, fluos_1, fluos_2 = read_datasets(folder)\n",
    "aras = [(0.40625/4), 0.40625, 0.8125, 1.625, 3.25, 6.5, 13, 26, 52, 104, 208, 416]\n",
    "ohcs = [(0.15625/4), 0.15625, 0.3125, 0.625, 1.25, 2.5, 5, 10, 20, 40, 80, 160]\n",
    "cumas = [(0.78125/4), 0.78125, 1.5625, 3.125, 6.25, 12.5, 25, 50, 100, 200, 400, 800]\n",
    "ahls = [(0.01953125/4), 0.01953125, 0.0390625, 0.078125, 0.15625, 0.3125, 0.625, 1.25, 2.5, 5, 10, 20]\n",
    "dapgs = [(0.048828125/4), 0.048828125, 0.09765625, 0.1953125, 0.390625, 0.78125, 1.5625, 3.125, 6.25, 12.5, 25, 50]\n",
    "sals = [(1.5625/4), 1.5625, 3.125, 6.25, 12.5, 25, 50, 100, 200, 400, 800, 1600]\n",
    "rhas = [(14.94140625/4), 14.94140625, 29.8828125, 59.765625, 119.53125, 239.0625, 478.125, 956.25, 1912.5, 3825, 7650, 15300]\n",
    "inducers = [ohcs, cumas, dapgs, sals]\n",
    "promoters = ['pCin/OHC14', 'pCymRC/Cuma', 'pPhlF/DAPG', 'pSalTTC/Sal']\n",
    "responses = promoters_plots(1, 4, fluos_2, inducers, promoters, get_control(fluos_2, 10), 10, sharex=False)"
   ]
  },
  {
   "cell_type": "code",
   "execution_count": null,
   "id": "absent-comfort",
   "metadata": {},
   "outputs": [],
   "source": [
    "df_res1 = pd.DataFrame(responses).T\n",
    "df_res1.columns = promoters\n",
    "df_ind1 = pd.DataFrame(inducers).T\n",
    "df_ind1.columns = promoters"
   ]
  },
  {
   "cell_type": "code",
   "execution_count": null,
   "id": "infrared-lambda",
   "metadata": {},
   "outputs": [],
   "source": [
    "#010 - AHL & Rha\n",
    "folder = '010-promoters-characterization'\n",
    "fluos, ods, fluos_1, fluos_2 = read_datasets(folder)\n",
    "aras = [(0.406/8), 0.406, 0.609, 0.813, 1.219, 1.625, 2.438, 3.25, 6.5, 13, 26, 104]\n",
    "ohcs = [(8/4), 8, 10, 16, 20, 32, 40, 64, 80, 128, 160, 320]\n",
    "cumas = [(3.125/4), 3.125, 6.25, 12.5, 25, 50, 100, 200, 400, 800, 1600, 3200]\n",
    "ahls = [(3.81e-5/8), 3.81e-5, 1.53e-4, 6.1e-4, 2.44e-3, 9.77e-3, 3.91e-2, 0.156, 0.625, 2.5, 10, 40]\n",
    "dapgs = [(0.048828125/4), 0.048828125, 0.09765625, 0.1953125, 0.390625, 0.78125, 1.5625, 3.125, 6.25, 12.5, 25, 50] #does not matter\n",
    "sals = [(25/4), 25, 50, 100, 200, 400, 800, 1600, 3200, 6400, 12800, 25600]\n",
    "rhas = [(29.88/4), 29.88, 59.76, 119.53, 239.06, 478.125, 956.25, 1912.5, 3825, 7650, 15300, 30600]\n",
    "inducers = [ahls]\n",
    "promoters = [ 'pLuxB/AHL']\n",
    "responses = promoters_plots(1, 2, fluos_2, inducers, promoters, get_control(fluos_2, 10), 10, sharex=False)"
   ]
  },
  {
   "cell_type": "code",
   "execution_count": null,
   "id": "cooked-edward",
   "metadata": {},
   "outputs": [],
   "source": [
    "df_res2 = pd.DataFrame(responses).T\n",
    "df_res2.columns = promoters\n",
    "df_ind2 = pd.DataFrame(inducers).T\n",
    "df_ind2.columns = promoters"
   ]
  },
  {
   "cell_type": "code",
   "execution_count": null,
   "id": "expected-solid",
   "metadata": {},
   "outputs": [],
   "source": [
    "df_res = pd.concat([df_res1, df_res2], axis=1)\n",
    "df_ind = pd.concat([df_ind1, df_ind2], axis=1)"
   ]
  },
  {
   "cell_type": "code",
   "execution_count": null,
   "id": "impaired-viewer",
   "metadata": {},
   "outputs": [],
   "source": [
    "#011\n",
    "folder = '011-3-promoters-detailed-characterization'\n",
    "fluos, ods, fluos_1, fluos_2 = read_datasets(folder)\n",
    "aras_cp = [(4.95911e-05/8), 4.95911e-05, 0.000198364, 0.000793457, 0.003173828, 0.012695313, 0.05078125, 0.203125, 0.8125, 3.25, 13, 52]\n",
    "rhas_cp = [(0.014591217/8), 0.014591217, 0.058364868, 0.233459473, 0.933837891, 3.735351563, 14.94140625, 59.765625, 239.0625, 956.25, 3825, 15300]\n",
    "inducers = [aras_cp, rhas_cp]\n",
    "promoters = ['pBAD/Ara', 'pRhaB/Rha']\n",
    "\n",
    "responses = promoters_plots(1, 2, fluos_2, inducers, promoters, get_control(fluos_2, 10), 10, sharex=False)"
   ]
  },
  {
   "cell_type": "code",
   "execution_count": null,
   "id": "welsh-vampire",
   "metadata": {},
   "outputs": [],
   "source": [
    "df_res3 = pd.DataFrame(responses).T\n",
    "df_res3.columns = promoters\n",
    "df_ind3 = pd.DataFrame(inducers).T\n",
    "df_ind3.columns = promoters"
   ]
  },
  {
   "cell_type": "code",
   "execution_count": null,
   "id": "little-drilling",
   "metadata": {},
   "outputs": [],
   "source": [
    "df_res = pd.concat([df_res, df_res3], axis=1)\n",
    "df_ind = pd.concat([df_ind, df_ind3], axis=1)"
   ]
  },
  {
   "cell_type": "code",
   "execution_count": null,
   "id": "gothic-prince",
   "metadata": {},
   "outputs": [],
   "source": [
    "def promoters_combined_plots(row, col, data, inducers):\n",
    "    \n",
    "    cols = ['pBAD/Ara', 'pCin/OHC14', 'pCymRC/Cuma', 'pLuxB/AHL', 'pPhlF/DAPG', 'pSalTTC/Sal', 'pRhaB/Rha']\n",
    "    #ind_names = ['OHC14', 'Cuma', 'DAPG', 'Sal', 'AHL', 'Ara', 'Rha']\n",
    "    #cols = data.columns.tolist()\n",
    "    f, axs = plt.subplots(row, col, sharex=False, sharey=False, figsize=(col*3, row*2))\n",
    "    axr = axs.ravel()\n",
    "    for i, ax in enumerate(axr):\n",
    "        if i < len(cols):\n",
    "            for x, y in zip(inducers[cols[i]], data[cols[i]]):\n",
    "                ax.scatter(x, y)\n",
    "                ax.loglog()\n",
    "            ax.set_title('{}'.format(cols[i]))\n",
    "            ax.set_ylabel('RPU')\n",
    "            ax.set_xlabel('{} ({})'.format(cols[i].split('/')[1], u\"\\u03bcM\"))\n",
    "        else:\n",
    "            ax.set_visible(False)\n",
    "    sns.despine()\n",
    "    plt.tight_layout()\n",
    "                         \n",
    "promoters_combined_plots(2, 4, df_res, df_ind)"
   ]
  },
  {
   "cell_type": "code",
   "execution_count": null,
   "id": "invalid-newcastle",
   "metadata": {},
   "outputs": [],
   "source": [
    "df_res.to_csv('datasets/experiment/responses.csv', index=False)\n",
    "df_ind.to_csv('datasets/experiment/inducers.csv', index=False)"
   ]
  },
  {
   "cell_type": "markdown",
   "id": "postal-power",
   "metadata": {},
   "source": [
    "#### Response Function"
   ]
  },
  {
   "cell_type": "code",
   "execution_count": null,
   "id": "purple-smoke",
   "metadata": {},
   "outputs": [],
   "source": [
    "promoters = ['pBAD/Ara', 'pCin/OHC14', 'pCymRC/Cuma', 'pLuxB/AHL', 'pPhlF/DAPG', 'pSalTTC/Sal', 'pRhaB/Rha']\n",
    "responses = pd.read_csv('datasets/experiment/responses.csv')\n",
    "inducers = pd.read_csv('datasets/experiment/inducers.csv')"
   ]
  },
  {
   "cell_type": "code",
   "execution_count": null,
   "id": "split-grenada",
   "metadata": {},
   "outputs": [],
   "source": [
    "for i in range(responses.shape[1]):\n",
    "    responses.iloc[:,i] = (responses.iloc[:,i] - responses.iloc[:,i].min())\n",
    "responses"
   ]
  },
  {
   "cell_type": "code",
   "execution_count": null,
   "id": "scenic-blind",
   "metadata": {},
   "outputs": [],
   "source": [
    "np.round(responses[['pBAD/Ara', 'pCymRC/Cuma']].T, 2)"
   ]
  },
  {
   "cell_type": "code",
   "execution_count": null,
   "id": "bronze-elements",
   "metadata": {},
   "outputs": [],
   "source": [
    "all_params = []\n",
    "f, axs = plt.subplots(2, 4, sharex=False, sharey=False, figsize=(12, 5))\n",
    "axr = axs.ravel()\n",
    "for i, ax in enumerate(axr):\n",
    "    if i < len(promoters):\n",
    "        y = responses[promoters[i]]\n",
    "        x = np.arange(1, len(y)+1)\n",
    "        #x = inducers[promoters[i]]\n",
    "        init_guess = [1, 1, y.min(), y.max()]\n",
    "        gate_bounds = [[0, 0, y.min()-1, y.max()-1],\n",
    "                       [1e4, 10, y.min()+1, y.max()+1]]\n",
    "        \n",
    "        popt, pcov = curve_fit(hill_activation, x, y, p0=init_guess, bounds=gate_bounds)\n",
    "        \n",
    "        ax.scatter(x, y, color='purple', s=25)\n",
    "        err = np.round(r2_score(y, hill_activation(x, *popt)), 2)\n",
    "        #err = np.sum([(a - b)**2 for a, b in zip(y, hill_activation(x, *popt))])\n",
    "        ax.plot(np.arange(0, x.max()+2, 0.5), hill_activation(np.arange(0, x.max()+2, 0.5), *popt), color='gray', label='R2=' + str(err))\n",
    "        \n",
    "        all_params.append(popt)\n",
    "        print(promoters[i], popt, r2_score(y, hill_activation(x, *popt)))\n",
    "        #ax.loglog()\n",
    "        #ax.set_xscale('symlog')\n",
    "        #ax.set_yscale('symlog')\n",
    "        #ax.set_xticks(np.arange(len(inducers[promoters[i]])))\n",
    "        #ax.set_xticklabels(None)\n",
    "        \n",
    "        ax.set_title('{}'.format(promoters[i]))\n",
    "        ax.set_ylabel('RPU')\n",
    "        ax.set_xlabel('{} ({})'.format(promoters[i].split('/')[1], u\"\\u03bcM\"))\n",
    "        ax.legend(loc=4)\n",
    "    else:\n",
    "        ax.set_visible(False)\n",
    "    sns.despine()\n",
    "plt.tight_layout()"
   ]
  },
  {
   "cell_type": "code",
   "execution_count": null,
   "id": "smoking-stopping",
   "metadata": {
    "scrolled": true
   },
   "outputs": [],
   "source": [
    "all_params = []\n",
    "f, axs = plt.subplots(2, 4, sharex=False, sharey=False, figsize=(12, 5))\n",
    "axr = axs.ravel()\n",
    "for i, ax in enumerate(axr):\n",
    "    if i < len(promoters):\n",
    "        y = responses[promoters[i]]\n",
    "        x = inducers[promoters[i]]\n",
    "        init_guess = [1, 1, y.min(), y.max()]\n",
    "        gate_bounds = [[0, 0, 0, 0],\n",
    "                       [1e4, 4, y.min()+0.1, y.max()+0.1]]\n",
    "        \n",
    "        popt, pcov = curve_fit(hill_activation, x, y, p0=init_guess, bounds=gate_bounds)\n",
    "        \n",
    "        ax.scatter(x, y, color='purple', s=25)\n",
    "        err = np.round(r2_score(y, hill_activation(x, *popt)), 2)\n",
    "        #err = np.sum([(a - b)**2 for a, b in zip(y, hill_activation(x, *popt))])\n",
    "        ax.plot(np.arange(x.max()), hill_activation(np.arange(x.max()), *popt), color='gray', label='R2='+str(err))\n",
    "        \n",
    "        all_params.append(popt)\n",
    "        print(promoters[i], popt, r2_score(y, hill_activation(x, *popt)))\n",
    "        #ax.loglog()\n",
    "        #ax.set_xscale('symlog')\n",
    "        #ax.set_yscale('symlog')\n",
    "        \n",
    "        ax.set_title('{}'.format(promoters[i]))\n",
    "        ax.set_ylabel('RPU')\n",
    "        ax.set_xlabel('{} ({})'.format(promoters[i].split('/')[1], u\"\\u03bcM\"))\n",
    "        ax.legend(loc=4)\n",
    "    else:\n",
    "        ax.set_visible(False)\n",
    "    sns.despine()\n",
    "plt.tight_layout()"
   ]
  },
  {
   "cell_type": "code",
   "execution_count": null,
   "id": "varied-cyprus",
   "metadata": {},
   "outputs": [],
   "source": [
    "inducers"
   ]
  },
  {
   "cell_type": "code",
   "execution_count": null,
   "id": "bright-machine",
   "metadata": {},
   "outputs": [],
   "source": [
    "for j, c in enumerate(promoters):\n",
    "    print('\"', c.split('/')[1].lower(), '_rpu\":', [hill_activation(i, *all_params[j]) for i in inducers[c]])"
   ]
  },
  {
   "cell_type": "code",
   "execution_count": null,
   "id": "statistical-poison",
   "metadata": {},
   "outputs": [],
   "source": [
    "#cumas_gate = [0, 6.25, 12.5, 25, 50, 100]\n",
    "#aras_gate = [0, 0.8125, 3.25, 13, 52, 208]\n",
    "cumas_gate = [0, 6.25, 12.5, 25, 50, 100]\n",
    "aras_gate = [0, 0.8125, 1.625, 3.25, 6.5, 13]\n",
    "cumas_rpu = [hill_activation(i, *all_params[2]) for i in cumas_gate]\n",
    "aras_rpu = [hill_activation(i, *all_params[0]) for i in aras_gate]\n",
    "print(cumas_rpu)\n",
    "print(aras_rpu)"
   ]
  },
  {
   "cell_type": "markdown",
   "id": "healthy-smile",
   "metadata": {},
   "source": [
    "Data Inspections"
   ]
  },
  {
   "cell_type": "code",
   "execution_count": null,
   "id": "designing-privilege",
   "metadata": {},
   "outputs": [],
   "source": [
    "f, axs = plt.subplots(7, 2, sharex=False, sharey=False, figsize=(6, 10))\n",
    "for i in range(7):\n",
    "    for j in range(5, 6):\n",
    "        r0 = ods['{}_{}'.format(promoters[i], j)]\n",
    "        axs[i, 0].plot(r0.index/60, r0)#, color='darkblue')\n",
    "        axs[i, 0].axvline(10, color='red', linestyle='--', label='10h')\n",
    "        #axs[i, 1].legend()\n",
    "        axs[i, 0].set_title('{}_{}'.format(promoters[i], j))\n",
    "        axs[i, 0].set_ylabel('OD')\n",
    "        axs[i, 0].set_xlabel('Hour')\n",
    "    for j in range(6, 12):\n",
    "        r0 = ods['{}_{}'.format(promoters[i], j)]\n",
    "        axs[i, 1].plot(r0.index/60, r0)#, color='darkblue')\n",
    "        axs[i, 1].axvline(10, color='red', linestyle='--', label='10h')\n",
    "        #axs[i, 1].legend()\n",
    "        axs[i, 1].set_title('{}_{}'.format(promoters[i], j))\n",
    "        axs[i, 1].set_ylabel('OD')\n",
    "        axs[i, 1].set_xlabel('Hour')\n",
    "sns.despine()\n",
    "plt.tight_layout()"
   ]
  },
  {
   "cell_type": "code",
   "execution_count": null,
   "id": "desirable-overhead",
   "metadata": {},
   "outputs": [],
   "source": [
    "f, axs = plt.subplots(7, 12, sharex=True, sharey=True, figsize=(20, 10))\n",
    "for i in range(7):\n",
    "    for j in range(12):\n",
    "        r0 = fluos_2['{}_{}'.format(promoters[i], j)]\n",
    "        axs[i, j].plot(r0.index/60, r0, color='darkblue')\n",
    "        axs[i, j].axvline(10, color='red', linestyle='--', label='10h')\n",
    "        axs[i, j].legend()\n",
    "        axs[i, j].set_title('{}_{}'.format(promoters[i], j))\n",
    "        axs[i, j].set_ylabel('Fluo (a.u.)')\n",
    "        axs[i, j].set_xlabel('Hour')\n",
    "sns.despine()\n",
    "plt.tight_layout()"
   ]
  }
 ],
 "metadata": {
  "kernelspec": {
   "display_name": "Python 3 (ipykernel)",
   "language": "python",
   "name": "python3"
  },
  "language_info": {
   "codemirror_mode": {
    "name": "ipython",
    "version": 3
   },
   "file_extension": ".py",
   "mimetype": "text/x-python",
   "name": "python",
   "nbconvert_exporter": "python",
   "pygments_lexer": "ipython3",
   "version": "3.9.6"
  }
 },
 "nbformat": 4,
 "nbformat_minor": 5
}
