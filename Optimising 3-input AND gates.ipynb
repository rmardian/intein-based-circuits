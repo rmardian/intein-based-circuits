{
 "cells": [
  {
   "cell_type": "code",
   "execution_count": 1,
   "id": "8f8f96a6",
   "metadata": {},
   "outputs": [],
   "source": [
    "import pandas as pd\n",
    "pd.set_option('display.max_columns', None)\n",
    "pd.set_option('display.max_rows', None)\n",
    "import numpy as np\n",
    "import matplotlib.pyplot as plt\n",
    "import seaborn as sns\n",
    "from tqdm import tqdm\n",
    "import warnings\n",
    "warnings.filterwarnings(\"ignore\")\n",
    "import random\n",
    "from scipy.optimize import curve_fit\n",
    "from sklearn.metrics import r2_score, mean_absolute_error, mean_squared_error\n",
    "\n",
    "from sklearn.ensemble import RandomForestRegressor\n",
    "from sklearn.model_selection import train_test_split, cross_validate, cross_val_score, KFold\n",
    "\n",
    "from utils.model import hill_activation, hill_activation_and, random_search\n",
    "from utils.helper import setup_header, read_map, read_dict, generate_data, \\\n",
    "                         get_blank_corrected, get_neg_ctrl_corrected, get_pos_ctrl_corrected\n",
    "from utils.plotter import plot_heatmap"
   ]
  },
  {
   "cell_type": "code",
   "execution_count": 2,
   "id": "1ba1ee36",
   "metadata": {},
   "outputs": [],
   "source": [
    "def generate_samples_at_t(folder, kind='3-input on-off', fluo_idx=3, rpu=True, h=8, single_measurement=False):\n",
    "    \n",
    "    raw_data = setup_header(pd.read_csv('datasets/experiment/{}/raw.csv'.format(folder)))\n",
    "    plate_map = 'plate_map' if kind=='3-input on-off' else 'plate_map_induction'\n",
    "    sample_map = read_map(pd.read_csv('datasets/experiment/{}/{}.csv'.format(folder, plate_map)))\n",
    "\n",
    "    group = 'A'\n",
    "    contents = ['Sample', 'Blank', 'Negative control']\n",
    "    all_datas = []\n",
    "    for content in contents:\n",
    "        datas = generate_data(raw_data[(raw_data['Group']==group) & (raw_data['Content'].str.startswith(content))],\n",
    "                              sample_map, content, kind=kind)\n",
    "        all_datas.append(datas)\n",
    "\n",
    "    group = 'B'\n",
    "    contents = ['Positive control', 'Blank', 'Negative control']\n",
    "    all_ctrls = []\n",
    "    for content in contents:\n",
    "        datas = generate_data(raw_data[(raw_data['Group']==group) & (raw_data['Content'].str.startswith(content))],\n",
    "                              sample_map, content, kind=kind)\n",
    "        all_ctrls.append(datas)\n",
    "    \n",
    "    od_idx = 0\n",
    "    timepoint = 3 * h\n",
    "    if rpu:\n",
    "        samples = get_pos_ctrl_corrected([all_datas[0][fluo_idx], all_datas[1][fluo_idx], all_datas[2][fluo_idx],\n",
    "                                          all_datas[0][od_idx], all_datas[1][od_idx], all_datas[2][od_idx]],\n",
    "                                         [all_ctrls[0][fluo_idx], all_ctrls[1][fluo_idx], all_ctrls[2][fluo_idx],\n",
    "                                          all_ctrls[0][od_idx], all_ctrls[1][od_idx], all_ctrls[2][od_idx]])\n",
    "    else:\n",
    "        samples = get_neg_ctrl_corrected([all_datas[0][fluo_idx], all_datas[1][fluo_idx], all_datas[2][fluo_idx],\n",
    "                                          all_datas[0][od_idx], all_datas[1][od_idx], all_datas[2][od_idx]])\n",
    "    if not single_measurement:\n",
    "        samples_t = samples.iloc[timepoint]\n",
    "    else:\n",
    "        samples_t = samples.mean()\n",
    "        \n",
    "    return samples_t\n",
    "\n",
    "def generate_matrix(samples_t, on_states=[3, 3, 3]):\n",
    "    \n",
    "    induction_matrix = samples_t.reset_index()\n",
    "    induction_matrix['ara'] = induction_matrix['name'].str[-3].astype(int)\n",
    "    induction_matrix['ohc14'] = induction_matrix['name'].str[-2].astype(int)\n",
    "    induction_matrix['sal'] = induction_matrix['name'].str[-1].astype(int)\n",
    "    induction_matrix['ara_'] = induction_matrix['ara'].map({a:b for a, b in zip(list(range(len(aras))), aras)})\n",
    "    induction_matrix['ohc14_'] = induction_matrix['ohc14'].map({a:b for a, b in zip(list(range(len(ohc14s))), ohc14s)})\n",
    "    induction_matrix['sal_'] = induction_matrix['sal'].map({a:b for a, b in zip(list(range(len(sals))), sals)})\n",
    "\n",
    "    max_induction = induction_matrix[((induction_matrix['ara']==0) | (induction_matrix['ara']==on_states[0])) &\n",
    "                                 ((induction_matrix['ohc14']==0) | (induction_matrix['ohc14']==on_states[1])) &\n",
    "                                 ((induction_matrix['sal']==0) | (induction_matrix['sal']==on_states[2]))].set_index('name').iloc[:, 0]\n",
    "    \n",
    "    return induction_matrix, max_induction"
   ]
  },
  {
   "cell_type": "code",
   "execution_count": 57,
   "id": "25f69230",
   "metadata": {},
   "outputs": [],
   "source": [
    "aras = [0, 0.8125, 3.25, 13]\n",
    "ohc14s = [0, 2.5, 5, 10]\n",
    "sals = [0, 25, 50, 100]\n",
    "\n",
    "folder = '047-3i-AND-gates-induction-matrix-circuit-5'\n",
    "samples_t = generate_samples_at_t(folder, kind='3-input induction matrix')\n",
    "\n",
    "#folder = '045-3i-AND-gates-induction-matrix-fixed-1'\n",
    "#samples_t = generate_samples_at_t(folder, kind='3-input induction matrix', single_measurement=True)\n",
    "\n",
    "induction_matrix, max_induction = generate_matrix(samples_t)"
   ]
  },
  {
   "cell_type": "code",
   "execution_count": 58,
   "id": "275df87f",
   "metadata": {},
   "outputs": [
    {
     "data": {
      "text/plain": [
       "array([0.96865285, 0.92105931, 0.7766983 , 0.82036941, 0.85251573])"
      ]
     },
     "execution_count": 58,
     "metadata": {},
     "output_type": "execute_result"
    }
   ],
   "source": [
    "X = induction_matrix[['ara', 'ohc14', 'sal']]\n",
    "y = induction_matrix.iloc[:, 1]\n",
    "regr = RandomForestRegressor()\n",
    "cross_val_score(regr, X, y, scoring='r2', cv=KFold(shuffle=True))"
   ]
  },
  {
   "cell_type": "code",
   "execution_count": 67,
   "id": "d7b2ad2a",
   "metadata": {},
   "outputs": [
    {
     "data": {
      "text/plain": [
       "0.06897916134456493"
      ]
     },
     "execution_count": 67,
     "metadata": {},
     "output_type": "execute_result"
    }
   ],
   "source": [
    "np.std([0.96865285, 0.92105931, 0.7766983 , 0.82036941, 0.85251573])"
   ]
  },
  {
   "cell_type": "code",
   "execution_count": 59,
   "id": "f36657f4",
   "metadata": {},
   "outputs": [
    {
     "data": {
      "text/plain": [
       "array([0.88101628, 0.92624743, 0.72353509, 0.73526577, 0.85424926])"
      ]
     },
     "execution_count": 59,
     "metadata": {},
     "output_type": "execute_result"
    }
   ],
   "source": [
    "X = induction_matrix[['ara_', 'ohc14_', 'sal_']]\n",
    "y = induction_matrix.iloc[:, 1]\n",
    "regr = RandomForestRegressor()\n",
    "cross_val_score(regr, X, y, scoring='r2', cv=KFold(shuffle=True))"
   ]
  },
  {
   "cell_type": "code",
   "execution_count": 60,
   "id": "921eb15b",
   "metadata": {},
   "outputs": [
    {
     "data": {
      "text/plain": [
       "RandomForestRegressor()"
      ]
     },
     "execution_count": 60,
     "metadata": {},
     "output_type": "execute_result"
    }
   ],
   "source": [
    "gfp_regr = RandomForestRegressor()\n",
    "gfp_regr.fit(X, y)"
   ]
  },
  {
   "cell_type": "code",
   "execution_count": 61,
   "id": "751e1631",
   "metadata": {},
   "outputs": [],
   "source": [
    "class GeneticAlgorithm:\n",
    "\n",
    "    def __init__(self, gfp_model, induction_lim, min_max, population_size=100, generations=30, mutation_rate=0.02, elite_size=0.1):\n",
    "        \n",
    "        self.gfp_model = gfp_model\n",
    "        #self.mc_model = mc_model\n",
    "        self.induction_lim = induction_lim\n",
    "        self.num_inputs = len(induction_lim)\n",
    "        self.num_selection = len(induction_lim) - 1\n",
    "        self.population_size = population_size\n",
    "        self.generations = generations\n",
    "        self.mutation_rate = mutation_rate\n",
    "        self.num_elite = int(elite_size * population_size)\n",
    "        \n",
    "        self.input_states = [format(x, '0{}b'.format(self.num_inputs)) for x in list(range(2**self.num_inputs))]\n",
    "        self.on_states = [7] #specific for full adder, numbers represent index where output is on\n",
    "        self.expected = [min_max[1] if i in self.on_states else min_max[0] for i in range(2**self.num_inputs)]\n",
    "        \n",
    "        self.best_populations = []\n",
    "       \n",
    "    def create_population(self):\n",
    "        \n",
    "        return [[np.random.uniform(ind[0], ind[1]) for ind in self.induction_lim]\n",
    "                for _ in range(self.population_size)] #repeated arrangement is allowed\n",
    "\n",
    "    def calculate_fitness(self, population):\n",
    "        \n",
    "        new_population = []\n",
    "        for indiv in population:\n",
    "            \n",
    "            induction_lvl = []\n",
    "            for input_state in self.input_states:\n",
    "                induction_lvl.append([inducer*int(j) for inducer, j in zip(indiv, input_state)])  \n",
    "            new_population.append(induction_lvl)\n",
    "        \n",
    "        fitness = []\n",
    "        for pop in new_population:\n",
    "            \n",
    "            gfp_output = self.gfp_model.predict(pop)\n",
    "            #mc_output = self.mc_model.predict(pop)\n",
    "            \n",
    "            mse = mean_squared_error(self.expected, gfp_output)\n",
    "            fitness.append(mse)\n",
    "            \n",
    "            #min_on = np.min([output[i] for i in list(range(len(self.input_states))) if i in self.on_states])\n",
    "            #max_off = np.max([output[i] for i in list(range(len(self.input_states))) if i not in self.on_states])\n",
    "            #dyn_range = min_on/max_off\n",
    "            #fitness.append(dyn_range)\n",
    "\n",
    "        return fitness\n",
    "\n",
    "    def rank_population(self, population):\n",
    "\n",
    "        fitness = self.calculate_fitness(population)\n",
    "        return sorted([(a, b) for a, b in zip(population, fitness)], key=lambda x: x[1])#, reverse=True)\n",
    "    \n",
    "    def selection(self, sorted_pop):\n",
    "\n",
    "        #might need to define another selection method later\n",
    "        selected_pop = []\n",
    "        df = pd.DataFrame(sorted_pop, columns=['index', 'fitness'])\n",
    "        df['cum_sum'] = df['fitness'].cumsum()\n",
    "        df['cum_perc'] = 100 * df['cum_sum'] / df['fitness'].sum()\n",
    "\n",
    "        for i in range(self.num_elite): #ellitists\n",
    "            selected_pop.append(sorted_pop[i][0])\n",
    "\n",
    "        for i in range(len(sorted_pop) - self.num_elite): #remainings\n",
    "            pick = 100 * random.random()\n",
    "            for i in range(len(sorted_pop)):\n",
    "                if pick <= df.iat[i, 3]:\n",
    "                    selected_pop.append(sorted_pop[i][0])\n",
    "                    break\n",
    "\n",
    "        return selected_pop\n",
    "    \n",
    "    def mating_pool(self, population):\n",
    "    \n",
    "        return [selected for selected in population] #might need some fixing?\n",
    "    \n",
    "    def crossover(self, parent1, parent2):\n",
    "        \n",
    "        midpoint = random.randint(0, len(parent1))\n",
    "        child_p1 = parent1[:midpoint]    \n",
    "        child_p2 = parent1[midpoint:] \n",
    "        child = child_p1 + child_p2\n",
    "        \n",
    "        return child\n",
    "    \n",
    "    def original_crossover(self, parent1, parent2):\n",
    "    \n",
    "        child_p1 = []\n",
    "        child_p2 = []\n",
    "        gene_A = int(random.random() * len(parent1))\n",
    "        gene_B = int(random.random() * len(parent1))\n",
    "        \n",
    "        start_gene = min(gene_A, gene_B)\n",
    "        end_gene = max(gene_A, gene_B)\n",
    "        child_p1 = [parent1[i] for i in range(start_gene, end_gene)]    \n",
    "        child_p2 = [item for item in parent2 if item not in child_p1]\n",
    "        child = child_p1 + child_p2\n",
    "        \n",
    "        return child\n",
    "\n",
    "    def crossover_population(self, mating_pop):\n",
    "\n",
    "        children = []\n",
    "        non_elite = len(mating_pop) - self.num_elite\n",
    "        pool = random.choices(mating_pop, k=len(mating_pop))\n",
    "        \n",
    "        for i in range(self.num_elite):\n",
    "            children.append(mating_pop[i])\n",
    "\n",
    "        for i in range(non_elite):\n",
    "            child = self.crossover(pool[i], pool[len(mating_pop)-i-1])\n",
    "            children.append(child[:self.num_inputs])\n",
    "        \n",
    "        return children\n",
    "    \n",
    "    def mutate(self, individual):\n",
    "\n",
    "        for swapped in range(len(individual)):\n",
    "            if(random.random() < self.mutation_rate):\n",
    "                mutant = int(random.random() * len(individual))\n",
    "                individual[mutant] = np.random.uniform(self.induction_lim[mutant][0], self.induction_lim[mutant][1])\n",
    "        return individual\n",
    "\n",
    "    def original_mutate(self, individual):\n",
    "\n",
    "        for swapped in range(len(individual)):\n",
    "            if(random.random() < self.mutation_rate):\n",
    "                swapwith = int(random.random() * len(individual))\n",
    "                temp = individual[swapped]\n",
    "                individual[swapped] = individual[swapwith]\n",
    "                individual[swapwith] = temp\n",
    "        return individual\n",
    "\n",
    "    def mutate_population(self, population):\n",
    "    \n",
    "        return [self.mutate(indiv) for indiv in population]\n",
    "    \n",
    "    def next_generation(self, current_pop):\n",
    "    \n",
    "        ranked_pop = self.rank_population(current_pop)\n",
    "        selected_pop = self.selection(ranked_pop)\n",
    "        mating_pop = self.mating_pool(selected_pop)\n",
    "        children = self.crossover_population(mating_pop)\n",
    "        next_pop = self.mutate_population(children)\n",
    "        \n",
    "        return next_pop\n",
    "    \n",
    "    def best_individuals(self, num_indiv=1):\n",
    "        \n",
    "        return self.best_populations[:num_indiv]\n",
    "\n",
    "    def run(self):\n",
    "\n",
    "        pop = self.create_population()\n",
    "        #init_pop = pop.copy()\n",
    "        for i in tqdm(range(self.generations)):\n",
    "            #print('***', pop)\n",
    "            pop = self.next_generation(pop)\n",
    "        \n",
    "        self.best_populations = self.rank_population(pop)"
   ]
  },
  {
   "cell_type": "code",
   "execution_count": 62,
   "id": "e9b79809",
   "metadata": {},
   "outputs": [
    {
     "name": "stderr",
     "output_type": "stream",
     "text": [
      "100%|███████████████████████████████████████████| 50/50 [16:27<00:00, 19.75s/it]\n"
     ]
    },
    {
     "data": {
      "text/plain": [
       "[([0.8917239224846851, 9.724399613043769, 61.47349792658484],\n",
       "  0.008950092500000001),\n",
       " ([0.9027867728394972, 8.694631983296233, 49.37524025705413],\n",
       "  0.008950092500000001),\n",
       " ([1.4712029631847277, 9.724399613043769, 49.37524025705413],\n",
       "  0.008950092500000001)]"
      ]
     },
     "execution_count": 62,
     "metadata": {},
     "output_type": "execute_result"
    }
   ],
   "source": [
    "ga = GeneticAlgorithm(gfp_regr, [(0, 13), (0, 10), (0, 100)], (y.min(), y.max()),\n",
    "                      population_size=1000, generations=50)\n",
    "ga.run()\n",
    "best3 = ga.best_individuals(3)\n",
    "best3"
   ]
  },
  {
   "cell_type": "code",
   "execution_count": 63,
   "id": "c1185ca9",
   "metadata": {},
   "outputs": [],
   "source": [
    "candidate = best3[0][0]"
   ]
  },
  {
   "cell_type": "code",
   "execution_count": 64,
   "id": "cf242d59",
   "metadata": {},
   "outputs": [
    {
     "data": {
      "text/plain": [
       "([[0.0, 0.0, 0.0],\n",
       "  [0.0, 0.0, 61.47349792658484],\n",
       "  [0.0, 9.724399613043769, 0.0],\n",
       "  [0.0, 9.724399613043769, 61.47349792658484],\n",
       "  [0.8917239224846851, 0.0, 0.0],\n",
       "  [0.8917239224846851, 0.0, 61.47349792658484],\n",
       "  [0.8917239224846851, 9.724399613043769, 0.0],\n",
       "  [0.8917239224846851, 9.724399613043769, 61.47349792658484]],\n",
       " array([0.02176, 0.02543, 0.0536 , 0.24422, 0.02228, 0.02659, 0.07035,\n",
       "        0.44601]),\n",
       " 1.8262632053066905)"
      ]
     },
     "execution_count": 64,
     "metadata": {},
     "output_type": "execute_result"
    }
   ],
   "source": [
    "X_test = []\n",
    "xs = [format(x, '0{}b'.format(3)) for x in list(range(8))]\n",
    "for state in [format(x, '0{}b'.format(3)) for x in list(range(8))]:\n",
    "    X_test.append([int(a)*b for a, b in zip(state, candidate)])\n",
    "y_pred = gfp_regr.predict(X_test)\n",
    "dr = y_pred[-1]/y_pred[:-1].max()\n",
    "X_test, y_pred, dr"
   ]
  },
  {
   "cell_type": "code",
   "execution_count": 65,
   "id": "153cb205",
   "metadata": {},
   "outputs": [
    {
     "data": {
      "text/plain": [
       "<BarContainer object of 8 artists>"
      ]
     },
     "execution_count": 65,
     "metadata": {},
     "output_type": "execute_result"
    },
    {
     "data": {
      "image/png": "[encoded data removed]",
      "text/plain": [
       "<Figure size 432x288 with 1 Axes>"
      ]
     },
     "metadata": {
      "needs_background": "light"
     },
     "output_type": "display_data"
    }
   ],
   "source": [
    "plt.bar(np.arange(len(y_pred)), y_pred)"
   ]
  },
  {
   "cell_type": "code",
   "execution_count": null,
   "id": "b547a674",
   "metadata": {},
   "outputs": [],
   "source": [
    "X_test = []\n",
    "xs = [format(x, '0{}b'.format(3)) for x in list(range(8))]\n",
    "for state in [format(x, '0{}b'.format(3)) for x in list(range(8))]:\n",
    "    X_test.append([int(a)*b for a, b in zip(state, candidate)])\n",
    "y_pred = gfp_regr.predict(X_test)\n",
    "dr = y_pred[-1]/y_pred[:-1].max()\n",
    "X_test, y_pred, dr"
   ]
  },
  {
   "cell_type": "code",
   "execution_count": null,
   "id": "0d01164d",
   "metadata": {},
   "outputs": [],
   "source": [
    "gfp_regr.predict([[0.6776408602092698, 7.855044785951622, 58.55498594885952]])"
   ]
  },
  {
   "cell_type": "code",
   "execution_count": null,
   "id": "40d0b590",
   "metadata": {},
   "outputs": [],
   "source": []
  }
 ],
 "metadata": {
  "kernelspec": {
   "display_name": "Python 3 (ipykernel)",
   "language": "python",
   "name": "python3"
  },
  "language_info": {
   "codemirror_mode": {
    "name": "ipython",
    "version": 3
   },
   "file_extension": ".py",
   "mimetype": "text/x-python",
   "name": "python",
   "nbconvert_exporter": "python",
   "pygments_lexer": "ipython3",
   "version": "3.8.9"
  }
 },
 "nbformat": 4,
 "nbformat_minor": 5
}
