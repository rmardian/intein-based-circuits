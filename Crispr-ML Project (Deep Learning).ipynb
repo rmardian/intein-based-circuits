{
 "cells": [
  {
   "cell_type": "code",
   "execution_count": 1,
   "id": "fifth-communication",
   "metadata": {},
   "outputs": [],
   "source": [
    "import numpy as np\n",
    "import pandas as pd\n",
    "import matplotlib.pyplot as plt\n",
    "import seaborn as sns\n",
    "from tqdm import tqdm\n",
    "import warnings\n",
    "warnings.filterwarnings(\"ignore\")\n",
    "\n",
    "from sklearn.model_selection import train_test_split\n",
    "from sklearn.feature_extraction.text import CountVectorizer\n",
    "from tensorflow.keras.utils import to_categorical\n",
    "from tensorflow.keras.models import Sequential\n",
    "from tensorflow.keras.layers import Conv1D, MaxPooling1D, Dense, Flatten, Dropout, LSTM, Embedding\n",
    "from tensorflow.keras.utils import to_categorical\n",
    "\n",
    "from sklearn.metrics import mean_squared_error"
   ]
  },
  {
   "cell_type": "code",
   "execution_count": 54,
   "id": "expressed-light",
   "metadata": {},
   "outputs": [],
   "source": [
    "rnafold = pd.read_csv('datasets/yuanli.csv')\n",
    "rnafold['sequence'] = rna['53-syn-domain'] + rna['A'] + rna['B'] + rna['40-syn-domain']"
   ]
  },
  {
   "cell_type": "code",
   "execution_count": 15,
   "id": "wooden-furniture",
   "metadata": {},
   "outputs": [],
   "source": [
    "#rnafold = pd.read_csv('datasets/rnacofold.csv')\n",
    "#rnafold['sequence'] = rnafold['crRNA'] + rnafold['tracrRNA']"
   ]
  },
  {
   "cell_type": "code",
   "execution_count": 55,
   "id": "unknown-acquisition",
   "metadata": {},
   "outputs": [],
   "source": [
    "rnafold = rnafold.dropna()"
   ]
  },
  {
   "cell_type": "code",
   "execution_count": 56,
   "id": "satisfactory-flooring",
   "metadata": {},
   "outputs": [],
   "source": [
    "def getKmers(sequence, size=3):\n",
    "    return [sequence[x:x+size].lower() for x in range(len(sequence) - size + 1)]\n",
    "rnafold['words'] = rnafold.apply(lambda x: getKmers(x['sequence']), axis=1)\n",
    "texts = list(rnafold['words'])\n",
    "for item in range(len(texts)):\n",
    "    texts[item] = ' '.join(texts[item])"
   ]
  },
  {
   "cell_type": "code",
   "execution_count": 57,
   "id": "electrical-divorce",
   "metadata": {},
   "outputs": [],
   "source": [
    "cv = CountVectorizer()\n",
    "X = cv.fit_transform(texts).toarray()\n",
    "y = rnafold['fluo_8h']\n",
    "num_classes = 3\n",
    "yc = pd.qcut(y, num_classes, labels=False)\n",
    "yh = to_categorical(yc)"
   ]
  },
  {
   "cell_type": "markdown",
   "id": "dominant-mortgage",
   "metadata": {},
   "source": [
    "### Classification"
   ]
  },
  {
   "cell_type": "markdown",
   "id": "blank-removal",
   "metadata": {},
   "source": [
    "#### Multi-layer Perceptrons"
   ]
  },
  {
   "cell_type": "code",
   "execution_count": 58,
   "id": "decreased-democracy",
   "metadata": {},
   "outputs": [
    {
     "name": "stdout",
     "output_type": "stream",
     "text": [
      "(31, 66) (8, 66) (31, 3) (8, 3)\n"
     ]
    }
   ],
   "source": [
    "X_train, X_test, y_train, y_test = train_test_split(X, yh, test_size=0.2, random_state=42)\n",
    "print(X_train.shape, X_test.shape, y_train.shape, y_test.shape)"
   ]
  },
  {
   "cell_type": "code",
   "execution_count": 59,
   "id": "indian-unknown",
   "metadata": {},
   "outputs": [
    {
     "name": "stdout",
     "output_type": "stream",
     "text": [
      "Model: \"sequential_5\"\n",
      "_________________________________________________________________\n",
      "Layer (type)                 Output Shape              Param #   \n",
      "=================================================================\n",
      "dense_10 (Dense)             (None, 100)               6700      \n",
      "_________________________________________________________________\n",
      "dense_11 (Dense)             (None, 3)                 303       \n",
      "=================================================================\n",
      "Total params: 7,003\n",
      "Trainable params: 7,003\n",
      "Non-trainable params: 0\n",
      "_________________________________________________________________\n"
     ]
    }
   ],
   "source": [
    "model = Sequential()\n",
    "model.add(Dense(100, activation='relu', input_dim=X_train.shape[1]))\n",
    "model.add(Dense(y_train.shape[1], activation='sigmoid'))\n",
    "\n",
    "model.compile(loss='binary_crossentropy', optimizer='adam', metrics = ['accuracy'])\n",
    "model.summary()"
   ]
  },
  {
   "cell_type": "code",
   "execution_count": 62,
   "id": "incomplete-jenny",
   "metadata": {},
   "outputs": [
    {
     "name": "stdout",
     "output_type": "stream",
     "text": [
      "Epoch 1/5\n",
      "1/1 [==============================] - 0s 5ms/step - loss: 0.5632 - accuracy: 0.7419\n",
      "Epoch 2/5\n",
      "1/1 [==============================] - 0s 6ms/step - loss: 0.5423 - accuracy: 0.7742\n",
      "Epoch 3/5\n",
      "1/1 [==============================] - 0s 15ms/step - loss: 0.5147 - accuracy: 0.7742\n",
      "Epoch 4/5\n",
      "1/1 [==============================] - 0s 9ms/step - loss: 0.4831 - accuracy: 0.8065\n",
      "Epoch 5/5\n",
      "1/1 [==============================] - 0s 14ms/step - loss: 0.4514 - accuracy: 0.8065\n"
     ]
    }
   ],
   "source": [
    "history = model.fit(X_train, y_train, batch_size=100, epochs=5)"
   ]
  },
  {
   "cell_type": "code",
   "execution_count": 63,
   "id": "structural-detection",
   "metadata": {},
   "outputs": [
    {
     "name": "stdout",
     "output_type": "stream",
     "text": [
      "1/1 [==============================] - 0s 21ms/step - loss: 0.7406 - accuracy: 0.2500\n",
      "accuracy = 0.25\n"
     ]
    }
   ],
   "source": [
    "_, acc = model.evaluate(X_test, y_test, verbose=1)\n",
    "print(\"accuracy = \" + str(acc))"
   ]
  },
  {
   "cell_type": "markdown",
   "id": "downtown-condition",
   "metadata": {},
   "source": [
    "#### CNN"
   ]
  },
  {
   "cell_type": "code",
   "execution_count": 64,
   "id": "moral-fusion",
   "metadata": {},
   "outputs": [
    {
     "name": "stdout",
     "output_type": "stream",
     "text": [
      "(31, 66, 1) (8, 66, 1) (31, 1) (8, 1)\n"
     ]
    }
   ],
   "source": [
    "X_train, X_test, y_train, y_test = train_test_split(X, yc, test_size=0.2, random_state=42)\n",
    "\n",
    "#reshape\n",
    "X_train = X_train.reshape((X_train.shape[0], X_train.shape[1], 1))\n",
    "X_test = X_test.reshape((X_test.shape[0], X_test.shape[1], 1))\n",
    "y_train = y_train.values.reshape((y_train.shape[0], 1))\n",
    "y_test = y_test.values.reshape((y_test.shape[0], 1))\n",
    "\n",
    "print(X_train.shape, X_test.shape, y_train.shape, y_test.shape)"
   ]
  },
  {
   "cell_type": "code",
   "execution_count": 65,
   "id": "lined-workstation",
   "metadata": {},
   "outputs": [
    {
     "name": "stdout",
     "output_type": "stream",
     "text": [
      "Model: \"sequential_6\"\n",
      "_________________________________________________________________\n",
      "Layer (type)                 Output Shape              Param #   \n",
      "=================================================================\n",
      "conv1d_4 (Conv1D)            (None, 64, 64)            256       \n",
      "_________________________________________________________________\n",
      "conv1d_5 (Conv1D)            (None, 62, 64)            12352     \n",
      "_________________________________________________________________\n",
      "dropout_2 (Dropout)          (None, 62, 64)            0         \n",
      "_________________________________________________________________\n",
      "max_pooling1d_2 (MaxPooling1 (None, 31, 64)            0         \n",
      "_________________________________________________________________\n",
      "flatten_2 (Flatten)          (None, 1984)              0         \n",
      "_________________________________________________________________\n",
      "dense_12 (Dense)             (None, 100)               198500    \n",
      "_________________________________________________________________\n",
      "dense_13 (Dense)             (None, 1)                 101       \n",
      "=================================================================\n",
      "Total params: 211,209\n",
      "Trainable params: 211,209\n",
      "Non-trainable params: 0\n",
      "_________________________________________________________________\n"
     ]
    }
   ],
   "source": [
    "verbose, epochs, batch_size = 0, 5, 100\n",
    "n_timesteps, n_features, n_outputs = X_train.shape[1], 1, y_train.shape[1]\n",
    "model = Sequential()\n",
    "model.add(Conv1D(filters=64, kernel_size=3, activation='relu', input_shape=(n_timesteps, n_features)))\n",
    "model.add(Conv1D(filters=64, kernel_size=3, activation='relu'))\n",
    "model.add(Dropout(0.5))\n",
    "model.add(MaxPooling1D(pool_size=2))\n",
    "model.add(Flatten())\n",
    "model.add(Dense(100, activation='relu'))\n",
    "model.add(Dense(n_outputs, activation='sigmoid'))\n",
    "model.compile(loss='categorical_crossentropy', optimizer='adam', metrics=['accuracy'])\n",
    "model.summary()"
   ]
  },
  {
   "cell_type": "code",
   "execution_count": 66,
   "id": "contained-netscape",
   "metadata": {},
   "outputs": [
    {
     "name": "stdout",
     "output_type": "stream",
     "text": [
      "Epoch 1/5\n",
      "1/1 [==============================] - 1s 536ms/step - loss: 0.0000e+00 - accuracy: 0.3226\n",
      "Epoch 2/5\n",
      "1/1 [==============================] - 0s 20ms/step - loss: 0.0000e+00 - accuracy: 0.3548\n",
      "Epoch 3/5\n",
      "1/1 [==============================] - 0s 23ms/step - loss: 0.0000e+00 - accuracy: 0.3548\n",
      "Epoch 4/5\n",
      "1/1 [==============================] - 0s 24ms/step - loss: 0.0000e+00 - accuracy: 0.3548\n",
      "Epoch 5/5\n",
      "1/1 [==============================] - 0s 27ms/step - loss: 0.0000e+00 - accuracy: 0.3548\n",
      "WARNING:tensorflow:5 out of the last 6 calls to <function Model.make_test_function.<locals>.test_function at 0x14e973040> triggered tf.function retracing. Tracing is expensive and the excessive number of tracings could be due to (1) creating @tf.function repeatedly in a loop, (2) passing tensors with different shapes, (3) passing Python objects instead of tensors. For (1), please define your @tf.function outside of the loop. For (2), @tf.function has experimental_relax_shapes=True option that relaxes argument shapes that can avoid unnecessary retracing. For (3), please refer to https://www.tensorflow.org/guide/function#controlling_retracing and https://www.tensorflow.org/api_docs/python/tf/function for  more details.\n"
     ]
    },
    {
     "data": {
      "text/plain": [
       "0.125"
      ]
     },
     "execution_count": 66,
     "metadata": {},
     "output_type": "execute_result"
    }
   ],
   "source": [
    "model.fit(X_train, y_train, epochs=epochs, batch_size=batch_size, verbose=1)\n",
    "_, accuracy = model.evaluate(X_test, y_test, verbose=0)\n",
    "accuracy"
   ]
  },
  {
   "cell_type": "markdown",
   "id": "excessive-lexington",
   "metadata": {},
   "source": [
    "#### RNN"
   ]
  },
  {
   "cell_type": "code",
   "execution_count": 67,
   "id": "naked-storm",
   "metadata": {},
   "outputs": [
    {
     "name": "stdout",
     "output_type": "stream",
     "text": [
      "(31, 66, 1) (8, 66, 1) (31, 1) (8, 1)\n"
     ]
    }
   ],
   "source": [
    "X_train, X_test, y_train, y_test = train_test_split(X, yc, test_size=0.2, random_state=42)\n",
    "\n",
    "#reshape\n",
    "X_train = X_train.reshape((X_train.shape[0], X_train.shape[1], 1))\n",
    "X_test = X_test.reshape((X_test.shape[0], X_test.shape[1], 1))\n",
    "y_train = y_train.values.reshape((y_train.shape[0], 1))\n",
    "y_test = y_test.values.reshape((y_test.shape[0], 1))\n",
    "\n",
    "print(X_train.shape, X_test.shape, y_train.shape, y_test.shape)"
   ]
  },
  {
   "cell_type": "code",
   "execution_count": 68,
   "id": "accepting-multiple",
   "metadata": {},
   "outputs": [
    {
     "name": "stdout",
     "output_type": "stream",
     "text": [
      "Model: \"sequential_7\"\n",
      "_________________________________________________________________\n",
      "Layer (type)                 Output Shape              Param #   \n",
      "=================================================================\n",
      "lstm_2 (LSTM)                (None, 64)                16896     \n",
      "_________________________________________________________________\n",
      "dense_14 (Dense)             (None, 64)                4160      \n",
      "_________________________________________________________________\n",
      "dense_15 (Dense)             (None, 1)                 65        \n",
      "=================================================================\n",
      "Total params: 21,121\n",
      "Trainable params: 21,121\n",
      "Non-trainable params: 0\n",
      "_________________________________________________________________\n"
     ]
    }
   ],
   "source": [
    "model = Sequential()\n",
    "'''\n",
    "top_words = 5000\n",
    "max_review_length = 500\n",
    "embedding_vecor_length = 32\n",
    "model.add(Embedding(top_words, embedding_vecor_length, input_length=max_review_length))\n",
    "'''\n",
    "model.add(LSTM(64, input_shape=(n_timesteps, n_features)))\n",
    "model.add(Dense(64, activation=\"relu\"))\n",
    "model.add(Dense(1, activation=\"sigmoid\"))\n",
    "#model.add(Dense(100, activation='relu', input_dim=X_train.shape[1]))\n",
    "#model.add(Dense(y_train.shape[1], activation='sigmoid'))\n",
    "model.compile(loss='categorical_crossentropy', optimizer='adam', metrics = ['accuracy'])\n",
    "model.summary()"
   ]
  },
  {
   "cell_type": "code",
   "execution_count": 69,
   "id": "awful-production",
   "metadata": {},
   "outputs": [
    {
     "name": "stdout",
     "output_type": "stream",
     "text": [
      "Epoch 1/5\n",
      "1/1 [==============================] - 2s 2s/step - loss: 0.0000e+00 - accuracy: 0.3548\n",
      "Epoch 2/5\n",
      "1/1 [==============================] - 0s 43ms/step - loss: 0.0000e+00 - accuracy: 0.3548\n",
      "Epoch 3/5\n",
      "1/1 [==============================] - 0s 44ms/step - loss: 0.0000e+00 - accuracy: 0.3548\n",
      "Epoch 4/5\n",
      "1/1 [==============================] - 0s 43ms/step - loss: 0.0000e+00 - accuracy: 0.3548\n",
      "Epoch 5/5\n",
      "1/1 [==============================] - 0s 41ms/step - loss: 0.0000e+00 - accuracy: 0.3548\n",
      "WARNING:tensorflow:6 out of the last 7 calls to <function Model.make_test_function.<locals>.test_function at 0x1512a0160> triggered tf.function retracing. Tracing is expensive and the excessive number of tracings could be due to (1) creating @tf.function repeatedly in a loop, (2) passing tensors with different shapes, (3) passing Python objects instead of tensors. For (1), please define your @tf.function outside of the loop. For (2), @tf.function has experimental_relax_shapes=True option that relaxes argument shapes that can avoid unnecessary retracing. For (3), please refer to https://www.tensorflow.org/guide/function#controlling_retracing and https://www.tensorflow.org/api_docs/python/tf/function for  more details.\n"
     ]
    },
    {
     "data": {
      "text/plain": [
       "0.25"
      ]
     },
     "execution_count": 69,
     "metadata": {},
     "output_type": "execute_result"
    }
   ],
   "source": [
    "model.fit(X_train, y_train, epochs=epochs, batch_size=batch_size, verbose=1)\n",
    "_, accuracy = model.evaluate(X_test, y_test, verbose=0)\n",
    "accuracy"
   ]
  },
  {
   "cell_type": "markdown",
   "id": "corresponding-truth",
   "metadata": {},
   "source": [
    "### Regression"
   ]
  },
  {
   "cell_type": "markdown",
   "id": "robust-forestry",
   "metadata": {},
   "source": [
    "#### CNN"
   ]
  },
  {
   "cell_type": "code",
   "execution_count": 70,
   "id": "computational-spanish",
   "metadata": {},
   "outputs": [
    {
     "name": "stdout",
     "output_type": "stream",
     "text": [
      "(31, 66, 1) (8, 66, 1) (31, 1) (8, 1)\n"
     ]
    }
   ],
   "source": [
    "X_train, X_test, y_train, y_test = train_test_split(X, y, test_size=0.2)\n",
    "\n",
    "#reshape\n",
    "X_train = X_train.reshape((X_train.shape[0], X_train.shape[1], 1))\n",
    "X_test = X_test.reshape((X_test.shape[0], X_test.shape[1], 1))\n",
    "y_train = y_train.values.reshape((y_train.shape[0], 1))\n",
    "y_test = y_test.values.reshape((y_test.shape[0], 1))\n",
    "\n",
    "print(X_train.shape, X_test.shape, y_train.shape, y_test.shape)"
   ]
  },
  {
   "cell_type": "code",
   "execution_count": 71,
   "id": "elder-primary",
   "metadata": {},
   "outputs": [
    {
     "name": "stdout",
     "output_type": "stream",
     "text": [
      "Model: \"sequential_8\"\n",
      "_________________________________________________________________\n",
      "Layer (type)                 Output Shape              Param #   \n",
      "=================================================================\n",
      "conv1d_6 (Conv1D)            (None, 64, 64)            256       \n",
      "_________________________________________________________________\n",
      "conv1d_7 (Conv1D)            (None, 62, 64)            12352     \n",
      "_________________________________________________________________\n",
      "dropout_3 (Dropout)          (None, 62, 64)            0         \n",
      "_________________________________________________________________\n",
      "max_pooling1d_3 (MaxPooling1 (None, 31, 64)            0         \n",
      "_________________________________________________________________\n",
      "flatten_3 (Flatten)          (None, 1984)              0         \n",
      "_________________________________________________________________\n",
      "dense_16 (Dense)             (None, 100)               198500    \n",
      "_________________________________________________________________\n",
      "dense_17 (Dense)             (None, 1)                 101       \n",
      "=================================================================\n",
      "Total params: 211,209\n",
      "Trainable params: 211,209\n",
      "Non-trainable params: 0\n",
      "_________________________________________________________________\n"
     ]
    }
   ],
   "source": [
    "verbose, epochs, batch_size = 0, 5, 100\n",
    "n_timesteps, n_features, n_outputs = X_train.shape[1], 1, y_train.shape[1]\n",
    "model = Sequential()\n",
    "model.add(Conv1D(filters=64, kernel_size=3, activation='relu', input_shape=(n_timesteps, n_features)))\n",
    "model.add(Conv1D(filters=64, kernel_size=3, activation='relu'))\n",
    "model.add(Dropout(0.5))\n",
    "model.add(MaxPooling1D(pool_size=2))\n",
    "model.add(Flatten())\n",
    "model.add(Dense(100, activation='relu'))\n",
    "model.add(Dense(n_outputs))\n",
    "model.compile(loss='mean_squared_error', optimizer='adam')\n",
    "model.summary()"
   ]
  },
  {
   "cell_type": "code",
   "execution_count": 72,
   "id": "acquired-parent",
   "metadata": {},
   "outputs": [
    {
     "name": "stdout",
     "output_type": "stream",
     "text": [
      "Epoch 1/100\n",
      "7/7 [==============================] - 0s 6ms/step - loss: 38684.4766\n",
      "Epoch 2/100\n",
      "7/7 [==============================] - 0s 9ms/step - loss: 34233.0742\n",
      "Epoch 3/100\n",
      "7/7 [==============================] - 0s 8ms/step - loss: 32249.3066\n",
      "Epoch 4/100\n",
      "7/7 [==============================] - 0s 9ms/step - loss: 30188.4336\n",
      "Epoch 5/100\n",
      "7/7 [==============================] - 0s 10ms/step - loss: 29781.8262\n",
      "Epoch 6/100\n",
      "7/7 [==============================] - 0s 9ms/step - loss: 30013.3945\n",
      "Epoch 7/100\n",
      "7/7 [==============================] - 0s 6ms/step - loss: 29028.1582\n",
      "Epoch 8/100\n",
      "7/7 [==============================] - 0s 7ms/step - loss: 28671.6895\n",
      "Epoch 9/100\n",
      "7/7 [==============================] - 0s 7ms/step - loss: 28990.7090\n",
      "Epoch 10/100\n",
      "7/7 [==============================] - 0s 7ms/step - loss: 27811.0059\n",
      "Epoch 11/100\n",
      "7/7 [==============================] - 0s 7ms/step - loss: 27688.5586\n",
      "Epoch 12/100\n",
      "7/7 [==============================] - 0s 8ms/step - loss: 27300.0527\n",
      "Epoch 13/100\n",
      "7/7 [==============================] - 0s 7ms/step - loss: 27112.5918\n",
      "Epoch 14/100\n",
      "7/7 [==============================] - 0s 7ms/step - loss: 25617.3105\n",
      "Epoch 15/100\n",
      "7/7 [==============================] - 0s 7ms/step - loss: 25541.0508\n",
      "Epoch 16/100\n",
      "7/7 [==============================] - 0s 9ms/step - loss: 24687.3281\n",
      "Epoch 17/100\n",
      "7/7 [==============================] - 0s 8ms/step - loss: 22348.3262\n",
      "Epoch 18/100\n",
      "7/7 [==============================] - 0s 7ms/step - loss: 29442.0645\n",
      "Epoch 19/100\n",
      "7/7 [==============================] - 0s 8ms/step - loss: 25135.3125\n",
      "Epoch 20/100\n",
      "7/7 [==============================] - 0s 9ms/step - loss: 22359.4102\n",
      "Epoch 21/100\n",
      "7/7 [==============================] - 0s 10ms/step - loss: 21074.6973\n",
      "Epoch 22/100\n",
      "7/7 [==============================] - 0s 9ms/step - loss: 19211.8789\n",
      "Epoch 23/100\n",
      "7/7 [==============================] - 0s 8ms/step - loss: 17725.6113\n",
      "Epoch 24/100\n",
      "7/7 [==============================] - 0s 7ms/step - loss: 17774.6035\n",
      "Epoch 25/100\n",
      "7/7 [==============================] - 0s 8ms/step - loss: 16827.7734\n",
      "Epoch 26/100\n",
      "7/7 [==============================] - 0s 6ms/step - loss: 15244.7080\n",
      "Epoch 27/100\n",
      "7/7 [==============================] - 0s 7ms/step - loss: 15224.5713\n",
      "Epoch 28/100\n",
      "7/7 [==============================] - 0s 6ms/step - loss: 13430.5264\n",
      "Epoch 29/100\n",
      "7/7 [==============================] - 0s 9ms/step - loss: 12908.7822\n",
      "Epoch 30/100\n",
      "7/7 [==============================] - 0s 8ms/step - loss: 12679.3467\n",
      "Epoch 31/100\n",
      "7/7 [==============================] - 0s 6ms/step - loss: 11413.6279\n",
      "Epoch 32/100\n",
      "7/7 [==============================] - 0s 6ms/step - loss: 11176.4785\n",
      "Epoch 33/100\n",
      "7/7 [==============================] - 0s 7ms/step - loss: 10047.2920\n",
      "Epoch 34/100\n",
      "7/7 [==============================] - 0s 7ms/step - loss: 9479.1875\n",
      "Epoch 35/100\n",
      "7/7 [==============================] - 0s 9ms/step - loss: 7959.4292\n",
      "Epoch 36/100\n",
      "7/7 [==============================] - 0s 7ms/step - loss: 10586.2139\n",
      "Epoch 37/100\n",
      "7/7 [==============================] - 0s 8ms/step - loss: 7715.6631\n",
      "Epoch 38/100\n",
      "7/7 [==============================] - 0s 7ms/step - loss: 9064.7461\n",
      "Epoch 39/100\n",
      "7/7 [==============================] - 0s 16ms/step - loss: 6582.6113\n",
      "Epoch 40/100\n",
      "7/7 [==============================] - 0s 13ms/step - loss: 7512.0840\n",
      "Epoch 41/100\n",
      "7/7 [==============================] - 0s 11ms/step - loss: 5902.9380\n",
      "Epoch 42/100\n",
      "7/7 [==============================] - 0s 7ms/step - loss: 7967.6357\n",
      "Epoch 43/100\n",
      "7/7 [==============================] - 0s 8ms/step - loss: 6106.2739\n",
      "Epoch 44/100\n",
      "7/7 [==============================] - 0s 15ms/step - loss: 7542.0049\n",
      "Epoch 45/100\n",
      "7/7 [==============================] - 0s 7ms/step - loss: 5675.4761\n",
      "Epoch 46/100\n",
      "7/7 [==============================] - 0s 6ms/step - loss: 4099.3647\n",
      "Epoch 47/100\n",
      "7/7 [==============================] - 0s 12ms/step - loss: 3516.9995\n",
      "Epoch 48/100\n",
      "7/7 [==============================] - 0s 7ms/step - loss: 5307.9531\n",
      "Epoch 49/100\n",
      "7/7 [==============================] - 0s 11ms/step - loss: 3599.0776\n",
      "Epoch 50/100\n",
      "7/7 [==============================] - 0s 10ms/step - loss: 4253.1777\n",
      "Epoch 51/100\n",
      "7/7 [==============================] - 0s 9ms/step - loss: 5269.7290\n",
      "Epoch 52/100\n",
      "7/7 [==============================] - 0s 8ms/step - loss: 4477.2822\n",
      "Epoch 53/100\n",
      "7/7 [==============================] - 0s 11ms/step - loss: 3945.0696\n",
      "Epoch 54/100\n",
      "7/7 [==============================] - 0s 9ms/step - loss: 4235.3843\n",
      "Epoch 55/100\n",
      "7/7 [==============================] - 0s 6ms/step - loss: 4106.9551\n",
      "Epoch 56/100\n",
      "7/7 [==============================] - 0s 12ms/step - loss: 5111.3550\n",
      "Epoch 57/100\n",
      "7/7 [==============================] - 0s 14ms/step - loss: 3332.0403 0s - loss: 2669.64\n",
      "Epoch 58/100\n",
      "7/7 [==============================] - 0s 12ms/step - loss: 2639.3181\n",
      "Epoch 59/100\n",
      "7/7 [==============================] - 0s 6ms/step - loss: 2407.1365\n",
      "Epoch 60/100\n",
      "7/7 [==============================] - 0s 5ms/step - loss: 3085.8096\n",
      "Epoch 61/100\n",
      "7/7 [==============================] - 0s 8ms/step - loss: 3059.8638\n",
      "Epoch 62/100\n",
      "7/7 [==============================] - 0s 8ms/step - loss: 1757.3033\n",
      "Epoch 63/100\n",
      "7/7 [==============================] - 0s 9ms/step - loss: 1882.9487\n",
      "Epoch 64/100\n",
      "7/7 [==============================] - 0s 12ms/step - loss: 2252.7397\n",
      "Epoch 65/100\n",
      "7/7 [==============================] - 0s 12ms/step - loss: 1946.7903\n",
      "Epoch 66/100\n",
      "7/7 [==============================] - 0s 14ms/step - loss: 2518.3687\n",
      "Epoch 67/100\n",
      "7/7 [==============================] - 0s 11ms/step - loss: 2122.0330\n",
      "Epoch 68/100\n",
      "7/7 [==============================] - 0s 7ms/step - loss: 3421.5759\n",
      "Epoch 69/100\n",
      "7/7 [==============================] - 0s 13ms/step - loss: 1756.2412\n",
      "Epoch 70/100\n",
      "7/7 [==============================] - 0s 12ms/step - loss: 1255.5676\n",
      "Epoch 71/100\n",
      "7/7 [==============================] - 0s 8ms/step - loss: 1504.5328\n",
      "Epoch 72/100\n",
      "7/7 [==============================] - 0s 10ms/step - loss: 1775.7316\n",
      "Epoch 73/100\n",
      "7/7 [==============================] - 0s 9ms/step - loss: 1027.4619\n",
      "Epoch 74/100\n",
      "7/7 [==============================] - 0s 10ms/step - loss: 1570.7194\n",
      "Epoch 75/100\n",
      "7/7 [==============================] - 0s 9ms/step - loss: 2830.9910\n",
      "Epoch 76/100\n",
      "7/7 [==============================] - 0s 8ms/step - loss: 1981.4077\n",
      "Epoch 77/100\n",
      "7/7 [==============================] - 0s 10ms/step - loss: 1540.1865\n",
      "Epoch 78/100\n",
      "7/7 [==============================] - 0s 10ms/step - loss: 1702.6379\n",
      "Epoch 79/100\n",
      "7/7 [==============================] - 0s 8ms/step - loss: 2294.7935\n",
      "Epoch 80/100\n",
      "7/7 [==============================] - 0s 5ms/step - loss: 2231.4365\n",
      "Epoch 81/100\n",
      "7/7 [==============================] - 0s 5ms/step - loss: 1927.5104\n",
      "Epoch 82/100\n",
      "7/7 [==============================] - 0s 5ms/step - loss: 2069.6907\n",
      "Epoch 83/100\n",
      "7/7 [==============================] - 0s 6ms/step - loss: 2001.1034\n",
      "Epoch 84/100\n",
      "7/7 [==============================] - 0s 13ms/step - loss: 1233.9692\n",
      "Epoch 85/100\n",
      "7/7 [==============================] - 0s 9ms/step - loss: 1075.2416\n",
      "Epoch 86/100\n",
      "7/7 [==============================] - 0s 10ms/step - loss: 1361.0623\n",
      "Epoch 87/100\n",
      "7/7 [==============================] - 0s 13ms/step - loss: 1544.9775\n",
      "Epoch 88/100\n",
      "7/7 [==============================] - 0s 13ms/step - loss: 1291.8237\n",
      "Epoch 89/100\n",
      "7/7 [==============================] - 0s 7ms/step - loss: 1214.7163\n",
      "Epoch 90/100\n",
      "7/7 [==============================] - 0s 11ms/step - loss: 1161.5089\n",
      "Epoch 91/100\n",
      "7/7 [==============================] - 0s 6ms/step - loss: 970.4833\n",
      "Epoch 92/100\n",
      "7/7 [==============================] - 0s 11ms/step - loss: 1131.5186\n",
      "Epoch 93/100\n",
      "7/7 [==============================] - 0s 15ms/step - loss: 1394.8394\n",
      "Epoch 94/100\n",
      "7/7 [==============================] - 0s 14ms/step - loss: 888.8530\n",
      "Epoch 95/100\n",
      "7/7 [==============================] - 0s 12ms/step - loss: 1396.6012\n",
      "Epoch 96/100\n",
      "7/7 [==============================] - 0s 6ms/step - loss: 1059.8125\n",
      "Epoch 97/100\n",
      "7/7 [==============================] - 0s 6ms/step - loss: 1385.9059\n",
      "Epoch 98/100\n",
      "7/7 [==============================] - 0s 9ms/step - loss: 863.9620\n",
      "Epoch 99/100\n",
      "7/7 [==============================] - 0s 7ms/step - loss: 1517.2838\n",
      "Epoch 100/100\n"
     ]
    },
    {
     "name": "stdout",
     "output_type": "stream",
     "text": [
      "1/7 [===>..........................] - ETA: 0s - loss: 661.9416\b\b\b\b\b\b\b\b\b\b\b\b\b\b\b\b\b\b\b\b\b\b\b\b\b\b\b\b\b\b\b\b\b\b\b\b\b\b\b\b\b\b\b\b\b\b\b\b\b\b\b\b\b\b\b\b\b\b\b\b\b\b\b\r",
      "7/7 [==============================] - 0s 7ms/step - loss: 965.0892\n"
     ]
    }
   ],
   "source": [
    "model.fit(X_train, y_train, epochs=100, batch_size=5, verbose=1)\n",
    "y_pred = model.predict(X_test)"
   ]
  },
  {
   "cell_type": "code",
   "execution_count": 73,
   "id": "integral-depth",
   "metadata": {},
   "outputs": [
    {
     "name": "stdout",
     "output_type": "stream",
     "text": [
      "0.6088269928339523\n"
     ]
    },
    {
     "data": {
      "image/png": "[encoded data removed]",
      "text/plain": [
       "<Figure size 432x288 with 1 Axes>"
      ]
     },
     "metadata": {
      "needs_background": "light"
     },
     "output_type": "display_data"
    }
   ],
   "source": [
    "from sklearn.metrics import r2_score\n",
    "sns.regplot(y_test, y_pred)\n",
    "#plt.axhline(y=0, color='r', linestyle='-')\n",
    "plt.title('cNN')\n",
    "print(r2_score(y_test, y_pred))\n",
    "#plt.xticks(rotation=90)\n",
    "plt.xlabel('Fluo_8h')\n",
    "plt.ylabel('Residual')\n",
    "plt.show()"
   ]
  },
  {
   "cell_type": "markdown",
   "id": "liked-bacon",
   "metadata": {},
   "source": [
    "#### RNN"
   ]
  },
  {
   "cell_type": "code",
   "execution_count": 74,
   "id": "guided-audit",
   "metadata": {},
   "outputs": [
    {
     "name": "stdout",
     "output_type": "stream",
     "text": [
      "(31, 66, 1) (8, 66, 1) (31, 1) (8, 1)\n"
     ]
    }
   ],
   "source": [
    "X_train, X_test, y_train, y_test = train_test_split(X, y, test_size=0.2)\n",
    "\n",
    "#reshape\n",
    "X_train = X_train.reshape((X_train.shape[0], X_train.shape[1], 1))\n",
    "X_test = X_test.reshape((X_test.shape[0], X_test.shape[1], 1))\n",
    "y_train = y_train.values.reshape((y_train.shape[0], 1))\n",
    "y_test = y_test.values.reshape((y_test.shape[0], 1))\n",
    "\n",
    "print(X_train.shape, X_test.shape, y_train.shape, y_test.shape)"
   ]
  },
  {
   "cell_type": "code",
   "execution_count": 75,
   "id": "cross-cylinder",
   "metadata": {},
   "outputs": [
    {
     "name": "stdout",
     "output_type": "stream",
     "text": [
      "Model: \"sequential_9\"\n",
      "_________________________________________________________________\n",
      "Layer (type)                 Output Shape              Param #   \n",
      "=================================================================\n",
      "lstm_3 (LSTM)                (None, 64)                16896     \n",
      "_________________________________________________________________\n",
      "dense_18 (Dense)             (None, 64)                4160      \n",
      "_________________________________________________________________\n",
      "dense_19 (Dense)             (None, 1)                 65        \n",
      "=================================================================\n",
      "Total params: 21,121\n",
      "Trainable params: 21,121\n",
      "Non-trainable params: 0\n",
      "_________________________________________________________________\n"
     ]
    }
   ],
   "source": [
    "model = Sequential()\n",
    "model.add(LSTM(64, input_shape=(n_timesteps, n_features)))\n",
    "model.add(Dense(64, activation=\"relu\"))\n",
    "model.add(Dense(n_outputs))\n",
    "model.compile(loss='mean_squared_error', optimizer='adam')\n",
    "model.summary()"
   ]
  },
  {
   "cell_type": "code",
   "execution_count": 76,
   "id": "hourly-commission",
   "metadata": {},
   "outputs": [
    {
     "name": "stdout",
     "output_type": "stream",
     "text": [
      "Epoch 1/100\n",
      "7/7 [==============================] - 2s 27ms/step - loss: 38663.8633\n",
      "Epoch 2/100\n",
      "7/7 [==============================] - 0s 27ms/step - loss: 38575.8750\n",
      "Epoch 3/100\n",
      "7/7 [==============================] - 0s 27ms/step - loss: 38282.2344\n",
      "Epoch 4/100\n",
      "7/7 [==============================] - 0s 27ms/step - loss: 37902.7070\n",
      "Epoch 5/100\n",
      "7/7 [==============================] - 0s 26ms/step - loss: 37463.2344\n",
      "Epoch 6/100\n",
      "7/7 [==============================] - 0s 28ms/step - loss: 36922.0938\n",
      "Epoch 7/100\n",
      "7/7 [==============================] - 0s 26ms/step - loss: 36391.1523\n",
      "Epoch 8/100\n",
      "7/7 [==============================] - 0s 26ms/step - loss: 35833.4258\n",
      "Epoch 9/100\n",
      "7/7 [==============================] - 0s 27ms/step - loss: 35343.6680\n",
      "Epoch 10/100\n",
      "7/7 [==============================] - 0s 28ms/step - loss: 34892.2188\n",
      "Epoch 11/100\n",
      "7/7 [==============================] - 0s 26ms/step - loss: 34489.7031\n",
      "Epoch 12/100\n",
      "7/7 [==============================] - 0s 28ms/step - loss: 34067.9883\n",
      "Epoch 13/100\n",
      "7/7 [==============================] - 0s 28ms/step - loss: 33583.8906\n",
      "Epoch 14/100\n",
      "7/7 [==============================] - 0s 27ms/step - loss: 33249.9258\n",
      "Epoch 15/100\n",
      "7/7 [==============================] - 0s 26ms/step - loss: 32922.9844\n",
      "Epoch 16/100\n",
      "7/7 [==============================] - 0s 27ms/step - loss: 32505.0098\n",
      "Epoch 17/100\n",
      "7/7 [==============================] - 0s 26ms/step - loss: 32352.7715\n",
      "Epoch 18/100\n",
      "7/7 [==============================] - 0s 26ms/step - loss: 32148.8145\n",
      "Epoch 19/100\n",
      "7/7 [==============================] - 0s 26ms/step - loss: 31981.3535\n",
      "Epoch 20/100\n",
      "7/7 [==============================] - 0s 26ms/step - loss: 31837.7031\n",
      "Epoch 21/100\n",
      "7/7 [==============================] - 0s 28ms/step - loss: 31680.4980\n",
      "Epoch 22/100\n",
      "7/7 [==============================] - 0s 28ms/step - loss: 31586.5977\n",
      "Epoch 23/100\n",
      "7/7 [==============================] - 0s 27ms/step - loss: 31455.1934\n",
      "Epoch 24/100\n",
      "7/7 [==============================] - 0s 26ms/step - loss: 31370.9766\n",
      "Epoch 25/100\n",
      "7/7 [==============================] - 0s 25ms/step - loss: 31270.8027\n",
      "Epoch 26/100\n",
      "7/7 [==============================] - 0s 28ms/step - loss: 31240.0449\n",
      "Epoch 27/100\n",
      "7/7 [==============================] - 0s 29ms/step - loss: 30997.3145\n",
      "Epoch 28/100\n",
      "7/7 [==============================] - 0s 30ms/step - loss: 30894.9648\n",
      "Epoch 29/100\n",
      "7/7 [==============================] - 0s 33ms/step - loss: 30793.5527\n",
      "Epoch 30/100\n",
      "7/7 [==============================] - 0s 32ms/step - loss: 30749.3984\n",
      "Epoch 31/100\n",
      "7/7 [==============================] - 0s 27ms/step - loss: 30594.4980\n",
      "Epoch 32/100\n",
      "7/7 [==============================] - 0s 32ms/step - loss: 30553.7383\n",
      "Epoch 33/100\n",
      "7/7 [==============================] - 0s 31ms/step - loss: 30538.2754\n",
      "Epoch 34/100\n",
      "7/7 [==============================] - 0s 35ms/step - loss: 30516.3340\n",
      "Epoch 35/100\n",
      "7/7 [==============================] - 0s 43ms/step - loss: 30496.0859\n",
      "Epoch 36/100\n",
      "7/7 [==============================] - 0s 27ms/step - loss: 30496.3340\n",
      "Epoch 37/100\n",
      "7/7 [==============================] - 0s 30ms/step - loss: 30563.9434\n",
      "Epoch 38/100\n",
      "7/7 [==============================] - 0s 37ms/step - loss: 30411.5605\n",
      "Epoch 39/100\n",
      "7/7 [==============================] - 0s 39ms/step - loss: 30380.6367\n",
      "Epoch 40/100\n",
      "7/7 [==============================] - 0s 34ms/step - loss: 30395.0586\n",
      "Epoch 41/100\n",
      "7/7 [==============================] - 0s 42ms/step - loss: 30393.5195\n",
      "Epoch 42/100\n",
      "7/7 [==============================] - 0s 36ms/step - loss: 30402.7910\n",
      "Epoch 43/100\n",
      "7/7 [==============================] - 0s 40ms/step - loss: 30388.0957\n",
      "Epoch 44/100\n",
      "7/7 [==============================] - 0s 29ms/step - loss: 30386.6719\n",
      "Epoch 45/100\n",
      "7/7 [==============================] - 0s 29ms/step - loss: 30411.6230\n",
      "Epoch 46/100\n",
      "7/7 [==============================] - 0s 31ms/step - loss: 30397.0430\n",
      "Epoch 47/100\n",
      "7/7 [==============================] - 0s 30ms/step - loss: 30410.1523\n",
      "Epoch 48/100\n",
      "7/7 [==============================] - 0s 31ms/step - loss: 30412.3574\n",
      "Epoch 49/100\n",
      "7/7 [==============================] - 0s 30ms/step - loss: 30404.0273\n",
      "Epoch 50/100\n",
      "7/7 [==============================] - 0s 30ms/step - loss: 30377.4258\n",
      "Epoch 51/100\n",
      "7/7 [==============================] - 0s 29ms/step - loss: 30395.2773\n",
      "Epoch 52/100\n",
      "7/7 [==============================] - 0s 28ms/step - loss: 30419.1582\n",
      "Epoch 53/100\n",
      "7/7 [==============================] - 0s 34ms/step - loss: 30372.0098\n",
      "Epoch 54/100\n",
      "7/7 [==============================] - 0s 31ms/step - loss: 30387.2148\n",
      "Epoch 55/100\n",
      "7/7 [==============================] - 0s 52ms/step - loss: 30388.7109\n",
      "Epoch 56/100\n",
      "7/7 [==============================] - 0s 38ms/step - loss: 30406.7734\n",
      "Epoch 57/100\n",
      "7/7 [==============================] - 0s 33ms/step - loss: 30386.2852\n",
      "Epoch 58/100\n",
      "7/7 [==============================] - 0s 26ms/step - loss: 30380.5254\n",
      "Epoch 59/100\n",
      "7/7 [==============================] - 0s 26ms/step - loss: 30378.0371\n",
      "Epoch 60/100\n",
      "7/7 [==============================] - 0s 27ms/step - loss: 30387.4492\n",
      "Epoch 61/100\n",
      "7/7 [==============================] - 0s 26ms/step - loss: 30379.8066\n",
      "Epoch 62/100\n",
      "7/7 [==============================] - 0s 27ms/step - loss: 30383.2715\n",
      "Epoch 63/100\n",
      "7/7 [==============================] - 0s 27ms/step - loss: 30368.7305\n",
      "Epoch 64/100\n",
      "7/7 [==============================] - 0s 27ms/step - loss: 30385.1191\n",
      "Epoch 65/100\n",
      "7/7 [==============================] - 0s 27ms/step - loss: 30375.3184\n",
      "Epoch 66/100\n",
      "7/7 [==============================] - 0s 26ms/step - loss: 30389.0117\n",
      "Epoch 67/100\n",
      "7/7 [==============================] - 0s 27ms/step - loss: 30384.1680\n",
      "Epoch 68/100\n",
      "7/7 [==============================] - 0s 31ms/step - loss: 30387.5176\n",
      "Epoch 69/100\n",
      "7/7 [==============================] - 0s 28ms/step - loss: 30413.8340\n",
      "Epoch 70/100\n",
      "7/7 [==============================] - 0s 29ms/step - loss: 30408.2383\n",
      "Epoch 71/100\n",
      "7/7 [==============================] - 0s 56ms/step - loss: 30389.1152\n",
      "Epoch 72/100\n",
      "7/7 [==============================] - 0s 63ms/step - loss: 30395.4961\n",
      "Epoch 73/100\n",
      "7/7 [==============================] - 0s 54ms/step - loss: 30396.3711\n",
      "Epoch 74/100\n",
      "7/7 [==============================] - 0s 30ms/step - loss: 30388.4727\n",
      "Epoch 75/100\n",
      "7/7 [==============================] - 0s 30ms/step - loss: 30399.5332\n",
      "Epoch 76/100\n",
      "7/7 [==============================] - 0s 32ms/step - loss: 30382.3457\n",
      "Epoch 77/100\n",
      "7/7 [==============================] - 0s 33ms/step - loss: 30421.9531\n",
      "Epoch 78/100\n",
      "7/7 [==============================] - 0s 28ms/step - loss: 30386.0000\n",
      "Epoch 79/100\n",
      "7/7 [==============================] - 0s 47ms/step - loss: 30387.1016\n",
      "Epoch 80/100\n",
      "7/7 [==============================] - 0s 31ms/step - loss: 30383.0801\n",
      "Epoch 81/100\n",
      "7/7 [==============================] - 0s 26ms/step - loss: 30387.8027\n",
      "Epoch 82/100\n",
      "7/7 [==============================] - 0s 30ms/step - loss: 30388.9316\n",
      "Epoch 83/100\n",
      "7/7 [==============================] - 0s 49ms/step - loss: 30369.1953\n",
      "Epoch 84/100\n",
      "7/7 [==============================] - 0s 59ms/step - loss: 30389.9434\n",
      "Epoch 85/100\n",
      "7/7 [==============================] - 0s 62ms/step - loss: 30480.4902\n",
      "Epoch 86/100\n",
      "7/7 [==============================] - 0s 30ms/step - loss: 30417.2617\n",
      "Epoch 87/100\n",
      "7/7 [==============================] - 0s 63ms/step - loss: 30425.4785\n",
      "Epoch 88/100\n",
      "7/7 [==============================] - 0s 56ms/step - loss: 30452.9707\n",
      "Epoch 89/100\n",
      "7/7 [==============================] - 0s 44ms/step - loss: 30407.8281\n",
      "Epoch 90/100\n",
      "7/7 [==============================] - 0s 27ms/step - loss: 30405.8105\n",
      "Epoch 91/100\n",
      "7/7 [==============================] - 0s 65ms/step - loss: 30401.1152\n",
      "Epoch 92/100\n",
      "7/7 [==============================] - 0s 25ms/step - loss: 30403.2461\n",
      "Epoch 93/100\n",
      "7/7 [==============================] - 0s 55ms/step - loss: 30395.7148\n",
      "Epoch 94/100\n",
      "7/7 [==============================] - 0s 26ms/step - loss: 30396.1719\n",
      "Epoch 95/100\n",
      "7/7 [==============================] - 0s 25ms/step - loss: 30395.3730\n",
      "Epoch 96/100\n",
      "7/7 [==============================] - 0s 28ms/step - loss: 30386.7402\n",
      "Epoch 97/100\n",
      "7/7 [==============================] - 0s 32ms/step - loss: 30381.3594\n",
      "Epoch 98/100\n"
     ]
    },
    {
     "name": "stdout",
     "output_type": "stream",
     "text": [
      "7/7 [==============================] - 0s 25ms/step - loss: 30391.1738\n",
      "Epoch 99/100\n",
      "7/7 [==============================] - 0s 24ms/step - loss: 30386.3750\n",
      "Epoch 100/100\n",
      "7/7 [==============================] - 0s 25ms/step - loss: 30383.1738\n"
     ]
    }
   ],
   "source": [
    "model.fit(X_train, y_train, epochs=100, batch_size=5, verbose=1)\n",
    "y_pred = model.predict(X_test)"
   ]
  },
  {
   "cell_type": "code",
   "execution_count": 77,
   "id": "pacific-danger",
   "metadata": {},
   "outputs": [
    {
     "data": {
      "image/png": "[encoded data removed]",
      "text/plain": [
       "<Figure size 432x288 with 1 Axes>"
      ]
     },
     "metadata": {
      "needs_background": "light"
     },
     "output_type": "display_data"
    }
   ],
   "source": [
    "sns.regplot(y_test, y_pred)\n",
    "#plt.axhline(y=0, color='r', linestyle='-')\n",
    "plt.title('RNN')\n",
    "#plt.xticks(rotation=90)\n",
    "plt.xlabel('test')\n",
    "plt.ylabel('pred')\n",
    "plt.show()"
   ]
  },
  {
   "cell_type": "markdown",
   "id": "baking-accordance",
   "metadata": {},
   "source": [
    "### Dataprep"
   ]
  },
  {
   "cell_type": "code",
   "execution_count": null,
   "id": "personal-official",
   "metadata": {},
   "outputs": [],
   "source": [
    "with open('datasets/output.out', 'r') as reader:\n",
    "    #print(reader.read())\n",
    "    output = list(reader)"
   ]
  },
  {
   "cell_type": "code",
   "execution_count": null,
   "id": "alternate-humor",
   "metadata": {},
   "outputs": [],
   "source": [
    "output = [i.strip() for i in output]\n",
    "output = [output[i:i+7] for i in range(0, len(output), 7)]\n",
    "output"
   ]
  },
  {
   "cell_type": "code",
   "execution_count": null,
   "id": "reflected-christopher",
   "metadata": {},
   "outputs": [],
   "source": [
    "df = pd.DataFrame(output)\n",
    "df[7] = df[1].str[:-9]\n",
    "df[1] = df[1].str[-6:-1]\n",
    "df[2] = df[2].str[-6:-1]\n",
    "df[3] = df[3].str.replace('frequency of mfe structure in ensemble', '')\n",
    "df[8] = df[3].apply(lambda x: x.split(';')[0])\n",
    "df[9] = df[3].apply(lambda x: x.split('=')[1])\n",
    "df[10] = df[0].apply(lambda x: x.split('&')[0])\n",
    "df[11] = df[0].apply(lambda x: x.split('&')[1])\n",
    "numbers = pd.Series(np.arange(len(df))+1).astype(str)\n",
    "df[12] = 'c' + numbers\n",
    "df[13] = 't' + numbers\n",
    "df = df[[12, 10, 13, 11, 7, 1, 2, 8, 9]]\n",
    "df[[1, 2, 8, 9]] = df[[1, 2, 8, 9]].astype(float)\n",
    "df[8] = df[8] * 100\n",
    "df = df.rename(columns={12: 'c_index', 10: 'crRNA', 13: 't_index',\n",
    "                        11: 'tracrRNA', 7: 'MFE_structures', 1: 'MFE',\n",
    "                       2: 'free_energy_thermodynamic_ensemble',\n",
    "                       8: 'frequency_MFR_structures', 9: 'delta_G'})\n",
    "\n",
    "df"
   ]
  },
  {
   "cell_type": "code",
   "execution_count": null,
   "id": "relevant-intelligence",
   "metadata": {},
   "outputs": [],
   "source": [
    "df.to_csv('datasets/rnacofold.csv', index=False)"
   ]
  },
  {
   "cell_type": "markdown",
   "id": "blind-composition",
   "metadata": {},
   "source": [
    "### New Dataprep"
   ]
  },
  {
   "cell_type": "code",
   "execution_count": null,
   "id": "comic-ozone",
   "metadata": {},
   "outputs": [],
   "source": [
    "with open('datasets/new_seq.out', 'r') as reader:\n",
    "    #print(reader.read())\n",
    "    output = list(reader)"
   ]
  },
  {
   "cell_type": "code",
   "execution_count": null,
   "id": "pleasant-juvenile",
   "metadata": {},
   "outputs": [],
   "source": [
    "output = [i.strip() for i in output]\n",
    "output = [output[i:i+5] for i in range(0, len(output), 5)]\n",
    "output"
   ]
  },
  {
   "cell_type": "code",
   "execution_count": null,
   "id": "individual-crack",
   "metadata": {},
   "outputs": [],
   "source": [
    "df = pd.DataFrame(output)\n",
    "df[11] = df[1].apply(lambda x: (x.split(' ( ')[0]))\n",
    "df[1] = df[1].apply(lambda x: (x.split(' ( ')[1]).split(')')[0])\n",
    "df[2] = df[2].apply(lambda x: (x.split(' [ ')[1]).split(']')[0])\n",
    "df[31] = df[3].apply(lambda x: ((x.split(' { ')[1]).split(' d=')[1]).split('}')[0])\n",
    "df[32] = df[3].apply(lambda x: (x.split(' { ')[0]))\n",
    "df[3] = df[3].apply(lambda x: (x.split(' { ')[1]).split(' d=')[0])\n",
    "df[41] = df[4].apply(lambda x: (x.split(';')[1]).split(' ')[-1])\n",
    "df[4] = df[4].apply(lambda x: (x.split(';')[0]).split(' ')[-1])\n",
    "#df[2] = df[1].str[-6:-1]\n",
    "df"
   ]
  },
  {
   "cell_type": "code",
   "execution_count": null,
   "id": "innocent-enlargement",
   "metadata": {},
   "outputs": [],
   "source": [
    "df = df[[0, 11, 1, 2, 32, 3, 31, 4, 41]]\n",
    "df = df.rename(columns={0: 'sequence', 11: 'optimal_secondary_structure', 1: 'optimal_mfe',\n",
    "                       2: 'free_energy_thermo_ensemble', 32: 'centroid_secondary_structure',\n",
    "                       3: 'centroid_mfe', 31: 'd', 4: 'freq_mfe_structure_in_ensemble', 41: 'ensemble_diversity'})\n",
    "df"
   ]
  },
  {
   "cell_type": "code",
   "execution_count": null,
   "id": "moving-glenn",
   "metadata": {},
   "outputs": [],
   "source": [
    "df.to_csv('datasets/new_seq.csv', index=False)"
   ]
  }
 ],
 "metadata": {
  "kernelspec": {
   "display_name": "Python 3",
   "language": "python",
   "name": "python3"
  },
  "language_info": {
   "codemirror_mode": {
    "name": "ipython",
    "version": 3
   },
   "file_extension": ".py",
   "mimetype": "text/x-python",
   "name": "python",
   "nbconvert_exporter": "python",
   "pygments_lexer": "ipython3",
   "version": "3.9.2"
  }
 },
 "nbformat": 4,
 "nbformat_minor": 5
}
