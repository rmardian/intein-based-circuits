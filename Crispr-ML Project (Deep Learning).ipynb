{
 "cells": [
  {
   "cell_type": "code",
   "execution_count": 135,
   "id": "fifth-communication",
   "metadata": {},
   "outputs": [],
   "source": [
    "import numpy as np\n",
    "import pandas as pd\n",
    "import matplotlib.pyplot as plt\n",
    "import seaborn as sns\n",
    "from tqdm import tqdm\n",
    "import warnings\n",
    "warnings.filterwarnings(\"ignore\")\n",
    "\n",
    "from sklearn.model_selection import train_test_split\n",
    "from sklearn.feature_extraction.text import CountVectorizer\n",
    "from tensorflow.keras.utils import to_categorical\n",
    "from tensorflow.keras.models import Sequential\n",
    "from tensorflow.keras.layers import Conv1D, MaxPooling1D, Dense, Flatten, Dropout, LSTM, Embedding\n",
    "from tensorflow.keras.utils import to_categorical\n",
    "\n",
    "from sklearn.metrics import mean_squared_error"
   ]
  },
  {
   "cell_type": "code",
   "execution_count": 2,
   "id": "wooden-furniture",
   "metadata": {},
   "outputs": [],
   "source": [
    "rnafold = pd.read_csv('datasets/rnacofold.csv')\n",
    "rnafold['sequence'] = rnafold['crRNA'] + rnafold['tracrRNA']"
   ]
  },
  {
   "cell_type": "code",
   "execution_count": 3,
   "id": "satisfactory-flooring",
   "metadata": {},
   "outputs": [],
   "source": [
    "def getKmers(sequence, size=3):\n",
    "    return [sequence[x:x+size].lower() for x in range(len(sequence) - size + 1)]\n",
    "rnafold['words'] = rnafold.apply(lambda x: getKmers(x['sequence']), axis=1)\n",
    "texts = list(rnafold['words'])\n",
    "for item in range(len(texts)):\n",
    "    texts[item] = ' '.join(texts[item])"
   ]
  },
  {
   "cell_type": "code",
   "execution_count": 14,
   "id": "electrical-divorce",
   "metadata": {},
   "outputs": [],
   "source": [
    "cv = CountVectorizer()\n",
    "X = cv.fit_transform(texts).toarray()\n",
    "y = rnafold['fluo_8h']\n",
    "num_classes = 3\n",
    "yc = pd.qcut(y, num_classes, labels=False)\n",
    "yh = to_categorical(yc)"
   ]
  },
  {
   "cell_type": "markdown",
   "id": "dominant-mortgage",
   "metadata": {},
   "source": [
    "### Classification"
   ]
  },
  {
   "cell_type": "markdown",
   "id": "blank-removal",
   "metadata": {},
   "source": [
    "#### Multi-layer Perceptrons"
   ]
  },
  {
   "cell_type": "code",
   "execution_count": 121,
   "id": "decreased-democracy",
   "metadata": {},
   "outputs": [
    {
     "name": "stdout",
     "output_type": "stream",
     "text": [
      "(72, 256) (18, 256) (72, 3) (18, 3)\n"
     ]
    }
   ],
   "source": [
    "X_train, X_test, y_train, y_test = train_test_split(X, yh, test_size=0.2, random_state=42)\n",
    "print(X_train.shape, X_test.shape, y_train.shape, y_test.shape)"
   ]
  },
  {
   "cell_type": "code",
   "execution_count": 122,
   "id": "indian-unknown",
   "metadata": {},
   "outputs": [
    {
     "name": "stdout",
     "output_type": "stream",
     "text": [
      "Model: \"sequential_36\"\n",
      "_________________________________________________________________\n",
      "Layer (type)                 Output Shape              Param #   \n",
      "=================================================================\n",
      "dense_63 (Dense)             (None, 100)               25700     \n",
      "_________________________________________________________________\n",
      "dense_64 (Dense)             (None, 3)                 303       \n",
      "=================================================================\n",
      "Total params: 26,003\n",
      "Trainable params: 26,003\n",
      "Non-trainable params: 0\n",
      "_________________________________________________________________\n"
     ]
    }
   ],
   "source": [
    "model = Sequential()\n",
    "model.add(Dense(100, activation='relu', input_dim=X_train.shape[1]))\n",
    "model.add(Dense(y_train.shape[1], activation='sigmoid'))\n",
    "\n",
    "model.compile(loss='binary_crossentropy', optimizer='adam', metrics = ['accuracy'])\n",
    "model.summary()"
   ]
  },
  {
   "cell_type": "code",
   "execution_count": 123,
   "id": "incomplete-jenny",
   "metadata": {},
   "outputs": [
    {
     "name": "stdout",
     "output_type": "stream",
     "text": [
      "Epoch 1/5\n",
      "1/1 [==============================] - 0s 429ms/step - loss: 0.7113 - accuracy: 0.3472\n",
      "Epoch 2/5\n",
      "1/1 [==============================] - 0s 7ms/step - loss: 0.6836 - accuracy: 0.3889\n",
      "Epoch 3/5\n",
      "1/1 [==============================] - 0s 13ms/step - loss: 0.6576 - accuracy: 0.4306\n",
      "Epoch 4/5\n",
      "1/1 [==============================] - 0s 8ms/step - loss: 0.6334 - accuracy: 0.5000\n",
      "Epoch 5/5\n",
      "1/1 [==============================] - 0s 9ms/step - loss: 0.6109 - accuracy: 0.5556\n"
     ]
    }
   ],
   "source": [
    "history = model.fit(X_train, y_train, batch_size=100, epochs=5)"
   ]
  },
  {
   "cell_type": "code",
   "execution_count": 124,
   "id": "structural-detection",
   "metadata": {},
   "outputs": [
    {
     "name": "stdout",
     "output_type": "stream",
     "text": [
      "1/1 [==============================] - 0s 153ms/step - loss: 0.6817 - accuracy: 0.2222\n",
      "accuracy = 0.2222222238779068\n"
     ]
    }
   ],
   "source": [
    "_, acc = model.evaluate(X_test, y_test, verbose=1)\n",
    "print(\"accuracy = \" + str(acc))"
   ]
  },
  {
   "cell_type": "markdown",
   "id": "downtown-condition",
   "metadata": {},
   "source": [
    "#### CNN"
   ]
  },
  {
   "cell_type": "code",
   "execution_count": 83,
   "id": "moral-fusion",
   "metadata": {},
   "outputs": [
    {
     "name": "stdout",
     "output_type": "stream",
     "text": [
      "(72, 256, 1) (18, 256, 1) (72, 1) (18, 1)\n"
     ]
    }
   ],
   "source": [
    "X_train, X_test, y_train, y_test = train_test_split(X, yc, test_size=0.2, random_state=42)\n",
    "\n",
    "#reshape\n",
    "X_train = X_train.reshape((X_train.shape[0], X_train.shape[1], 1))\n",
    "X_test = X_test.reshape((X_test.shape[0], X_test.shape[1], 1))\n",
    "y_train = y_train.reshape((y_train.shape[0], 1))\n",
    "y_test = y_test.reshape((y_test.shape[0], 1))\n",
    "\n",
    "print(X_train.shape, X_test.shape, y_train.shape, y_test.shape)"
   ]
  },
  {
   "cell_type": "code",
   "execution_count": 84,
   "id": "lined-workstation",
   "metadata": {},
   "outputs": [
    {
     "name": "stdout",
     "output_type": "stream",
     "text": [
      "Model: \"sequential_20\"\n",
      "_________________________________________________________________\n",
      "Layer (type)                 Output Shape              Param #   \n",
      "=================================================================\n",
      "conv1d_31 (Conv1D)           (None, 254, 64)           256       \n",
      "_________________________________________________________________\n",
      "conv1d_32 (Conv1D)           (None, 252, 64)           12352     \n",
      "_________________________________________________________________\n",
      "dropout_14 (Dropout)         (None, 252, 64)           0         \n",
      "_________________________________________________________________\n",
      "max_pooling1d_15 (MaxPooling (None, 126, 64)           0         \n",
      "_________________________________________________________________\n",
      "flatten_15 (Flatten)         (None, 8064)              0         \n",
      "_________________________________________________________________\n",
      "dense_35 (Dense)             (None, 100)               806500    \n",
      "_________________________________________________________________\n",
      "dense_36 (Dense)             (None, 1)                 101       \n",
      "=================================================================\n",
      "Total params: 819,209\n",
      "Trainable params: 819,209\n",
      "Non-trainable params: 0\n",
      "_________________________________________________________________\n"
     ]
    }
   ],
   "source": [
    "verbose, epochs, batch_size = 0, 5, 100\n",
    "n_timesteps, n_features, n_outputs = X_train.shape[1], 1, y_train.shape[1]\n",
    "model = Sequential()\n",
    "model.add(Conv1D(filters=64, kernel_size=3, activation='relu', input_shape=(n_timesteps, n_features)))\n",
    "model.add(Conv1D(filters=64, kernel_size=3, activation='relu'))\n",
    "model.add(Dropout(0.5))\n",
    "model.add(MaxPooling1D(pool_size=2))\n",
    "model.add(Flatten())\n",
    "model.add(Dense(100, activation='relu'))\n",
    "model.add(Dense(n_outputs, activation='sigmoid'))\n",
    "model.compile(loss='categorical_crossentropy', optimizer='adam', metrics=['accuracy'])\n",
    "model.summary()"
   ]
  },
  {
   "cell_type": "code",
   "execution_count": 85,
   "id": "contained-netscape",
   "metadata": {},
   "outputs": [
    {
     "name": "stdout",
     "output_type": "stream",
     "text": [
      "Epoch 1/5\n",
      "1/1 [==============================] - 1s 1s/step - loss: 0.0000e+00 - accuracy: 0.4167\n",
      "Epoch 2/5\n",
      "1/1 [==============================] - 0s 96ms/step - loss: 0.0000e+00 - accuracy: 0.4583\n",
      "Epoch 3/5\n",
      "1/1 [==============================] - 0s 89ms/step - loss: 0.0000e+00 - accuracy: 0.5139\n",
      "Epoch 4/5\n",
      "1/1 [==============================] - 0s 115ms/step - loss: 0.0000e+00 - accuracy: 0.5417\n",
      "Epoch 5/5\n",
      "1/1 [==============================] - 0s 264ms/step - loss: 0.0000e+00 - accuracy: 0.5417\n"
     ]
    },
    {
     "data": {
      "text/plain": [
       "0.3888888955116272"
      ]
     },
     "execution_count": 85,
     "metadata": {},
     "output_type": "execute_result"
    }
   ],
   "source": [
    "model.fit(X_train, y_train, epochs=epochs, batch_size=batch_size, verbose=1)\n",
    "_, accuracy = model.evaluate(X_test, y_test, verbose=0)\n",
    "accuracy"
   ]
  },
  {
   "cell_type": "markdown",
   "id": "excessive-lexington",
   "metadata": {},
   "source": [
    "#### RNN"
   ]
  },
  {
   "cell_type": "code",
   "execution_count": 101,
   "id": "naked-storm",
   "metadata": {},
   "outputs": [
    {
     "name": "stdout",
     "output_type": "stream",
     "text": [
      "(72, 256, 1) (18, 256, 1) (72, 1) (18, 1)\n"
     ]
    }
   ],
   "source": [
    "X_train, X_test, y_train, y_test = train_test_split(X, yc, test_size=0.2, random_state=42)\n",
    "\n",
    "#reshape\n",
    "X_train = X_train.reshape((X_train.shape[0], X_train.shape[1], 1))\n",
    "X_test = X_test.reshape((X_test.shape[0], X_test.shape[1], 1))\n",
    "y_train = y_train.reshape((y_train.shape[0], 1))\n",
    "y_test = y_test.reshape((y_test.shape[0], 1))\n",
    "\n",
    "print(X_train.shape, X_test.shape, y_train.shape, y_test.shape)"
   ]
  },
  {
   "cell_type": "code",
   "execution_count": 111,
   "id": "accepting-multiple",
   "metadata": {},
   "outputs": [
    {
     "name": "stdout",
     "output_type": "stream",
     "text": [
      "Model: \"sequential_33\"\n",
      "_________________________________________________________________\n",
      "Layer (type)                 Output Shape              Param #   \n",
      "=================================================================\n",
      "lstm_10 (LSTM)               (None, 64)                16896     \n",
      "_________________________________________________________________\n",
      "dense_57 (Dense)             (None, 64)                4160      \n",
      "_________________________________________________________________\n",
      "dense_58 (Dense)             (None, 1)                 65        \n",
      "=================================================================\n",
      "Total params: 21,121\n",
      "Trainable params: 21,121\n",
      "Non-trainable params: 0\n",
      "_________________________________________________________________\n"
     ]
    }
   ],
   "source": [
    "model = Sequential()\n",
    "'''\n",
    "top_words = 5000\n",
    "max_review_length = 500\n",
    "embedding_vecor_length = 32\n",
    "model.add(Embedding(top_words, embedding_vecor_length, input_length=max_review_length))\n",
    "'''\n",
    "model.add(LSTM(64, input_shape=(n_timesteps, n_features)))\n",
    "model.add(Dense(64, activation=\"relu\"))\n",
    "model.add(Dense(1, activation=\"sigmoid\"))\n",
    "#model.add(Dense(100, activation='relu', input_dim=X_train.shape[1]))\n",
    "#model.add(Dense(y_train.shape[1], activation='sigmoid'))\n",
    "model.compile(loss='categorical_crossentropy', optimizer='adam', metrics = ['accuracy'])\n",
    "model.summary()"
   ]
  },
  {
   "cell_type": "code",
   "execution_count": 112,
   "id": "awful-production",
   "metadata": {},
   "outputs": [
    {
     "name": "stdout",
     "output_type": "stream",
     "text": [
      "Epoch 1/5\n",
      "1/1 [==============================] - 3s 3s/step - loss: 0.0000e+00 - accuracy: 0.3194\n",
      "Epoch 2/5\n",
      "1/1 [==============================] - 0s 182ms/step - loss: 0.0000e+00 - accuracy: 0.2500\n",
      "Epoch 3/5\n",
      "1/1 [==============================] - 0s 175ms/step - loss: 0.0000e+00 - accuracy: 0.2917\n",
      "Epoch 4/5\n",
      "1/1 [==============================] - 0s 181ms/step - loss: 0.0000e+00 - accuracy: 0.3472\n",
      "Epoch 5/5\n",
      "1/1 [==============================] - 0s 190ms/step - loss: 0.0000e+00 - accuracy: 0.3472\n"
     ]
    },
    {
     "data": {
      "text/plain": [
       "0.2777777910232544"
      ]
     },
     "execution_count": 112,
     "metadata": {},
     "output_type": "execute_result"
    }
   ],
   "source": [
    "model.fit(X_train, y_train, epochs=epochs, batch_size=batch_size, verbose=1)\n",
    "_, accuracy = model.evaluate(X_test, y_test, verbose=0)\n",
    "accuracy"
   ]
  },
  {
   "cell_type": "markdown",
   "id": "corresponding-truth",
   "metadata": {},
   "source": [
    "### Regression"
   ]
  },
  {
   "cell_type": "markdown",
   "id": "robust-forestry",
   "metadata": {},
   "source": [
    "#### CNN"
   ]
  },
  {
   "cell_type": "code",
   "execution_count": 152,
   "id": "computational-spanish",
   "metadata": {},
   "outputs": [
    {
     "name": "stdout",
     "output_type": "stream",
     "text": [
      "(72, 256, 1) (18, 256, 1) (72, 1) (18, 1)\n"
     ]
    }
   ],
   "source": [
    "X_train, X_test, y_train, y_test = train_test_split(X, y, test_size=0.2)\n",
    "\n",
    "#reshape\n",
    "X_train = X_train.reshape((X_train.shape[0], X_train.shape[1], 1))\n",
    "X_test = X_test.reshape((X_test.shape[0], X_test.shape[1], 1))\n",
    "y_train = y_train.reshape((y_train.shape[0], 1))\n",
    "y_test = y_test.reshape((y_test.shape[0], 1))\n",
    "\n",
    "print(X_train.shape, X_test.shape, y_train.shape, y_test.shape)"
   ]
  },
  {
   "cell_type": "code",
   "execution_count": 160,
   "id": "elder-primary",
   "metadata": {},
   "outputs": [
    {
     "name": "stdout",
     "output_type": "stream",
     "text": [
      "Model: \"sequential_41\"\n",
      "_________________________________________________________________\n",
      "Layer (type)                 Output Shape              Param #   \n",
      "=================================================================\n",
      "conv1d_41 (Conv1D)           (None, 254, 64)           256       \n",
      "_________________________________________________________________\n",
      "conv1d_42 (Conv1D)           (None, 252, 64)           12352     \n",
      "_________________________________________________________________\n",
      "dropout_19 (Dropout)         (None, 252, 64)           0         \n",
      "_________________________________________________________________\n",
      "max_pooling1d_20 (MaxPooling (None, 126, 64)           0         \n",
      "_________________________________________________________________\n",
      "flatten_20 (Flatten)         (None, 8064)              0         \n",
      "_________________________________________________________________\n",
      "dense_73 (Dense)             (None, 100)               806500    \n",
      "_________________________________________________________________\n",
      "dense_74 (Dense)             (None, 1)                 101       \n",
      "=================================================================\n",
      "Total params: 819,209\n",
      "Trainable params: 819,209\n",
      "Non-trainable params: 0\n",
      "_________________________________________________________________\n"
     ]
    }
   ],
   "source": [
    "verbose, epochs, batch_size = 0, 5, 100\n",
    "n_timesteps, n_features, n_outputs = X_train.shape[1], 1, y_train.shape[1]\n",
    "model = Sequential()\n",
    "model.add(Conv1D(filters=64, kernel_size=3, activation='relu', input_shape=(n_timesteps, n_features)))\n",
    "model.add(Conv1D(filters=64, kernel_size=3, activation='relu'))\n",
    "model.add(Dropout(0.5))\n",
    "model.add(MaxPooling1D(pool_size=2))\n",
    "model.add(Flatten())\n",
    "model.add(Dense(100, activation='relu'))\n",
    "model.add(Dense(n_outputs))\n",
    "model.compile(loss='mean_squared_error', optimizer='adam')\n",
    "model.summary()"
   ]
  },
  {
   "cell_type": "code",
   "execution_count": 168,
   "id": "acquired-parent",
   "metadata": {},
   "outputs": [
    {
     "name": "stdout",
     "output_type": "stream",
     "text": [
      "Epoch 1/100\n",
      "15/15 [==============================] - 0s 14ms/step - loss: 26395748.0000\n",
      "Epoch 2/100\n",
      "15/15 [==============================] - 0s 13ms/step - loss: 24539272.0000\n",
      "Epoch 3/100\n",
      "15/15 [==============================] - 0s 17ms/step - loss: 30086148.0000\n",
      "Epoch 4/100\n",
      "15/15 [==============================] - 0s 14ms/step - loss: 24952028.0000\n",
      "Epoch 5/100\n",
      "15/15 [==============================] - 0s 14ms/step - loss: 29612358.0000\n",
      "Epoch 6/100\n",
      "15/15 [==============================] - 0s 13ms/step - loss: 25851140.0000\n",
      "Epoch 7/100\n",
      "15/15 [==============================] - 0s 14ms/step - loss: 24617916.0000\n",
      "Epoch 8/100\n",
      "15/15 [==============================] - 0s 13ms/step - loss: 31454926.0000\n",
      "Epoch 9/100\n",
      "15/15 [==============================] - 0s 14ms/step - loss: 22609302.0000\n",
      "Epoch 10/100\n",
      "15/15 [==============================] - 0s 14ms/step - loss: 26409182.0000\n",
      "Epoch 11/100\n",
      "15/15 [==============================] - 0s 15ms/step - loss: 27161328.0000\n",
      "Epoch 12/100\n",
      "15/15 [==============================] - 0s 14ms/step - loss: 24531760.0000\n",
      "Epoch 13/100\n",
      "15/15 [==============================] - 0s 13ms/step - loss: 26689306.0000\n",
      "Epoch 14/100\n",
      "15/15 [==============================] - 0s 14ms/step - loss: 28045228.0000\n",
      "Epoch 15/100\n",
      "15/15 [==============================] - 0s 13ms/step - loss: 22697330.0000\n",
      "Epoch 16/100\n",
      "15/15 [==============================] - 0s 14ms/step - loss: 25146506.0000\n",
      "Epoch 17/100\n",
      "15/15 [==============================] - 0s 14ms/step - loss: 27657732.0000\n",
      "Epoch 18/100\n",
      "15/15 [==============================] - 0s 13ms/step - loss: 22168420.0000\n",
      "Epoch 19/100\n",
      "15/15 [==============================] - 0s 14ms/step - loss: 20355450.0000\n",
      "Epoch 20/100\n",
      "15/15 [==============================] - 0s 14ms/step - loss: 31075108.0000\n",
      "Epoch 21/100\n",
      "15/15 [==============================] - 0s 14ms/step - loss: 27274980.0000\n",
      "Epoch 22/100\n",
      "15/15 [==============================] - 0s 14ms/step - loss: 21510180.0000\n",
      "Epoch 23/100\n",
      "15/15 [==============================] - 0s 14ms/step - loss: 23487800.0000\n",
      "Epoch 24/100\n",
      "15/15 [==============================] - 0s 14ms/step - loss: 18482458.0000\n",
      "Epoch 25/100\n",
      "15/15 [==============================] - 0s 15ms/step - loss: 24350924.0000\n",
      "Epoch 26/100\n",
      "15/15 [==============================] - 0s 27ms/step - loss: 26933804.0000\n",
      "Epoch 27/100\n",
      "15/15 [==============================] - 0s 27ms/step - loss: 26089774.0000\n",
      "Epoch 28/100\n",
      "15/15 [==============================] - 0s 17ms/step - loss: 26157976.0000\n",
      "Epoch 29/100\n",
      "15/15 [==============================] - 0s 13ms/step - loss: 21540482.0000\n",
      "Epoch 30/100\n",
      "15/15 [==============================] - 0s 14ms/step - loss: 23988766.0000\n",
      "Epoch 31/100\n",
      "15/15 [==============================] - 0s 16ms/step - loss: 23830106.0000\n",
      "Epoch 32/100\n",
      "15/15 [==============================] - 0s 20ms/step - loss: 19092672.0000\n",
      "Epoch 33/100\n",
      "15/15 [==============================] - 0s 14ms/step - loss: 29067950.0000\n",
      "Epoch 34/100\n",
      "15/15 [==============================] - 0s 15ms/step - loss: 24298092.0000\n",
      "Epoch 35/100\n",
      "15/15 [==============================] - 0s 15ms/step - loss: 17785276.0000\n",
      "Epoch 36/100\n",
      "15/15 [==============================] - 0s 15ms/step - loss: 21749078.0000\n",
      "Epoch 37/100\n",
      "15/15 [==============================] - 0s 15ms/step - loss: 22205550.0000\n",
      "Epoch 38/100\n",
      "15/15 [==============================] - 0s 16ms/step - loss: 21181320.0000\n",
      "Epoch 39/100\n",
      "15/15 [==============================] - 0s 22ms/step - loss: 16822248.0000\n",
      "Epoch 40/100\n",
      "15/15 [==============================] - 0s 15ms/step - loss: 21486654.0000\n",
      "Epoch 41/100\n",
      "15/15 [==============================] - 0s 14ms/step - loss: 20355976.0000\n",
      "Epoch 42/100\n",
      "15/15 [==============================] - 0s 22ms/step - loss: 21454648.0000\n",
      "Epoch 43/100\n",
      "15/15 [==============================] - 0s 22ms/step - loss: 23746818.0000\n",
      "Epoch 44/100\n",
      "15/15 [==============================] - 0s 14ms/step - loss: 16063515.0000\n",
      "Epoch 45/100\n",
      "15/15 [==============================] - 0s 15ms/step - loss: 18460350.0000\n",
      "Epoch 46/100\n",
      "15/15 [==============================] - 0s 16ms/step - loss: 21926300.0000\n",
      "Epoch 47/100\n",
      "15/15 [==============================] - 0s 14ms/step - loss: 21970784.0000\n",
      "Epoch 48/100\n",
      "15/15 [==============================] - 0s 15ms/step - loss: 23416990.0000\n",
      "Epoch 49/100\n",
      "15/15 [==============================] - 0s 15ms/step - loss: 20021140.0000\n",
      "Epoch 50/100\n",
      "15/15 [==============================] - 0s 14ms/step - loss: 19665482.0000\n",
      "Epoch 51/100\n",
      "15/15 [==============================] - 0s 16ms/step - loss: 23374938.0000\n",
      "Epoch 52/100\n",
      "15/15 [==============================] - 0s 17ms/step - loss: 20238236.0000\n",
      "Epoch 53/100\n",
      "15/15 [==============================] - 0s 20ms/step - loss: 23806552.0000\n",
      "Epoch 54/100\n",
      "15/15 [==============================] - 0s 16ms/step - loss: 19379924.0000\n",
      "Epoch 55/100\n",
      "15/15 [==============================] - 0s 22ms/step - loss: 21045008.0000\n",
      "Epoch 56/100\n",
      "15/15 [==============================] - 0s 16ms/step - loss: 17534334.0000\n",
      "Epoch 57/100\n",
      "15/15 [==============================] - 0s 22ms/step - loss: 25270830.0000\n",
      "Epoch 58/100\n",
      "15/15 [==============================] - 0s 20ms/step - loss: 20849808.0000\n",
      "Epoch 59/100\n",
      "15/15 [==============================] - 0s 24ms/step - loss: 26059152.0000\n",
      "Epoch 60/100\n",
      "15/15 [==============================] - 0s 19ms/step - loss: 30900160.0000\n",
      "Epoch 61/100\n",
      "15/15 [==============================] - 0s 23ms/step - loss: 22769800.0000\n",
      "Epoch 62/100\n",
      "15/15 [==============================] - 0s 18ms/step - loss: 20158376.0000\n",
      "Epoch 63/100\n",
      "15/15 [==============================] - 0s 18ms/step - loss: 19580166.0000\n",
      "Epoch 64/100\n",
      "15/15 [==============================] - 0s 16ms/step - loss: 21579266.0000\n",
      "Epoch 65/100\n",
      "15/15 [==============================] - 0s 19ms/step - loss: 23508830.0000\n",
      "Epoch 66/100\n",
      "15/15 [==============================] - 0s 19ms/step - loss: 22534562.0000\n",
      "Epoch 67/100\n",
      "15/15 [==============================] - 0s 22ms/step - loss: 20825944.0000\n",
      "Epoch 68/100\n",
      "15/15 [==============================] - 0s 21ms/step - loss: 17006622.0000\n",
      "Epoch 69/100\n",
      "15/15 [==============================] - 0s 23ms/step - loss: 22157836.0000\n",
      "Epoch 70/100\n",
      "15/15 [==============================] - ETA: 0s - loss: 21108156.00 - 0s 18ms/step - loss: 21146864.0000\n",
      "Epoch 71/100\n",
      "15/15 [==============================] - 0s 29ms/step - loss: 20121460.0000 0s - loss: 22610664.\n",
      "Epoch 72/100\n",
      "15/15 [==============================] - 0s 19ms/step - loss: 15095492.0000\n",
      "Epoch 73/100\n",
      "15/15 [==============================] - 0s 19ms/step - loss: 23562018.0000\n",
      "Epoch 74/100\n",
      "15/15 [==============================] - 0s 21ms/step - loss: 23780704.0000\n",
      "Epoch 75/100\n",
      "15/15 [==============================] - 0s 19ms/step - loss: 26715732.0000\n",
      "Epoch 76/100\n",
      "15/15 [==============================] - 0s 18ms/step - loss: 23357760.0000\n",
      "Epoch 77/100\n",
      "15/15 [==============================] - 0s 18ms/step - loss: 26455634.0000\n",
      "Epoch 78/100\n",
      "15/15 [==============================] - 0s 18ms/step - loss: 19513052.0000\n",
      "Epoch 79/100\n",
      "15/15 [==============================] - 0s 21ms/step - loss: 30574632.0000\n",
      "Epoch 80/100\n",
      "15/15 [==============================] - 0s 21ms/step - loss: 17239246.0000\n",
      "Epoch 81/100\n",
      "15/15 [==============================] - 0s 18ms/step - loss: 21834348.0000\n",
      "Epoch 82/100\n",
      "15/15 [==============================] - 0s 19ms/step - loss: 21351836.0000\n",
      "Epoch 83/100\n",
      "15/15 [==============================] - 0s 22ms/step - loss: 17663082.0000\n",
      "Epoch 84/100\n",
      "15/15 [==============================] - 0s 20ms/step - loss: 16704441.0000\n",
      "Epoch 85/100\n",
      "15/15 [==============================] - 0s 18ms/step - loss: 20808046.0000\n",
      "Epoch 86/100\n",
      "15/15 [==============================] - 0s 16ms/step - loss: 22050840.0000\n",
      "Epoch 87/100\n",
      "15/15 [==============================] - 0s 21ms/step - loss: 17291026.0000\n",
      "Epoch 88/100\n",
      "15/15 [==============================] - 0s 19ms/step - loss: 24484888.0000\n",
      "Epoch 89/100\n",
      "15/15 [==============================] - 0s 19ms/step - loss: 26756246.0000\n",
      "Epoch 90/100\n",
      "15/15 [==============================] - ETA: 0s - loss: 23895518.00 - 0s 22ms/step - loss: 24687916.0000\n",
      "Epoch 91/100\n",
      "15/15 [==============================] - 0s 24ms/step - loss: 20836804.0000\n",
      "Epoch 92/100\n"
     ]
    },
    {
     "name": "stdout",
     "output_type": "stream",
     "text": [
      "15/15 [==============================] - 0s 16ms/step - loss: 22237116.0000\n",
      "Epoch 93/100\n",
      "15/15 [==============================] - 0s 16ms/step - loss: 14113520.0000\n",
      "Epoch 94/100\n",
      "15/15 [==============================] - 0s 21ms/step - loss: 18312652.0000\n",
      "Epoch 95/100\n",
      "15/15 [==============================] - 0s 16ms/step - loss: 16534135.0000\n",
      "Epoch 96/100\n",
      "15/15 [==============================] - 0s 15ms/step - loss: 18133484.0000\n",
      "Epoch 97/100\n",
      "15/15 [==============================] - 0s 13ms/step - loss: 21374406.0000\n",
      "Epoch 98/100\n",
      "15/15 [==============================] - 0s 15ms/step - loss: 23483236.0000\n",
      "Epoch 99/100\n",
      "15/15 [==============================] - 0s 13ms/step - loss: 21607850.0000\n",
      "Epoch 100/100\n",
      "15/15 [==============================] - 0s 13ms/step - loss: 17455040.0000\n"
     ]
    }
   ],
   "source": [
    "model.fit(X_train, y_train, epochs=100, batch_size=5, verbose=1)\n",
    "y_pred = model.predict(X_test)"
   ]
  },
  {
   "cell_type": "code",
   "execution_count": 163,
   "id": "integral-depth",
   "metadata": {},
   "outputs": [
    {
     "data": {
      "image/png": "[encoded data removed]",
      "text/plain": [
       "<Figure size 432x288 with 1 Axes>"
      ]
     },
     "metadata": {
      "needs_background": "light"
     },
     "output_type": "display_data"
    }
   ],
   "source": [
    "plt.scatter(y_test, (y_test - y_pred))\n",
    "plt.axhline(y=0, color='r', linestyle='-')\n",
    "plt.title('cNN')\n",
    "#plt.xticks(rotation=90)\n",
    "plt.xlabel('Fluo_8h')\n",
    "plt.ylabel('Residual')\n",
    "plt.show()"
   ]
  },
  {
   "cell_type": "markdown",
   "id": "liked-bacon",
   "metadata": {},
   "source": [
    "#### RNN"
   ]
  },
  {
   "cell_type": "code",
   "execution_count": 179,
   "id": "guided-audit",
   "metadata": {},
   "outputs": [
    {
     "name": "stdout",
     "output_type": "stream",
     "text": [
      "(72, 256, 1) (18, 256, 1) (72, 1) (18, 1)\n"
     ]
    }
   ],
   "source": [
    "X_train, X_test, y_train, y_test = train_test_split(X, y, test_size=0.2)\n",
    "\n",
    "#reshape\n",
    "X_train = X_train.reshape((X_train.shape[0], X_train.shape[1], 1))\n",
    "X_test = X_test.reshape((X_test.shape[0], X_test.shape[1], 1))\n",
    "y_train = y_train.reshape((y_train.shape[0], 1))\n",
    "y_test = y_test.reshape((y_test.shape[0], 1))\n",
    "\n",
    "print(X_train.shape, X_test.shape, y_train.shape, y_test.shape)"
   ]
  },
  {
   "cell_type": "code",
   "execution_count": 186,
   "id": "cross-cylinder",
   "metadata": {},
   "outputs": [
    {
     "name": "stdout",
     "output_type": "stream",
     "text": [
      "Model: \"sequential_44\"\n",
      "_________________________________________________________________\n",
      "Layer (type)                 Output Shape              Param #   \n",
      "=================================================================\n",
      "lstm_13 (LSTM)               (None, 64)                16896     \n",
      "_________________________________________________________________\n",
      "dense_79 (Dense)             (None, 64)                4160      \n",
      "_________________________________________________________________\n",
      "dense_80 (Dense)             (None, 1)                 65        \n",
      "=================================================================\n",
      "Total params: 21,121\n",
      "Trainable params: 21,121\n",
      "Non-trainable params: 0\n",
      "_________________________________________________________________\n"
     ]
    }
   ],
   "source": [
    "model = Sequential()\n",
    "model.add(LSTM(64, input_shape=(n_timesteps, n_features)))\n",
    "model.add(Dense(64, activation=\"relu\"))\n",
    "model.add(Dense(n_outputs))\n",
    "model.compile(loss='mean_squared_error', optimizer='adam')\n",
    "model.summary()"
   ]
  },
  {
   "cell_type": "code",
   "execution_count": 187,
   "id": "hourly-commission",
   "metadata": {},
   "outputs": [
    {
     "name": "stdout",
     "output_type": "stream",
     "text": [
      "Epoch 1/100\n",
      "15/15 [==============================] - 4s 101ms/step - loss: 2462938624.0000\n",
      "Epoch 2/100\n",
      "15/15 [==============================] - 1s 92ms/step - loss: 2462532608.0000\n",
      "Epoch 3/100\n",
      "15/15 [==============================] - 1s 94ms/step - loss: 2461834240.0000\n",
      "Epoch 4/100\n",
      "15/15 [==============================] - 1s 91ms/step - loss: 2460964096.0000\n",
      "Epoch 5/100\n",
      "15/15 [==============================] - 1s 95ms/step - loss: 2459986944.0000\n",
      "Epoch 6/100\n",
      "15/15 [==============================] - 2s 102ms/step - loss: 2458915328.0000\n",
      "Epoch 7/100\n",
      "15/15 [==============================] - 2s 103ms/step - loss: 2457739520.0000\n",
      "Epoch 8/100\n",
      "15/15 [==============================] - 1s 98ms/step - loss: 2456393216.0000\n",
      "Epoch 9/100\n",
      "15/15 [==============================] - 2s 99ms/step - loss: 2454967808.0000\n",
      "Epoch 10/100\n",
      "15/15 [==============================] - 1s 95ms/step - loss: 2453324800.0000\n",
      "Epoch 11/100\n",
      "15/15 [==============================] - 1s 97ms/step - loss: 2451613952.0000\n",
      "Epoch 12/100\n",
      "15/15 [==============================] - 1s 98ms/step - loss: 2449771520.0000\n",
      "Epoch 13/100\n",
      "15/15 [==============================] - 2s 110ms/step - loss: 2447789056.0000\n",
      "Epoch 14/100\n",
      "15/15 [==============================] - 2s 114ms/step - loss: 2445552640.0000\n",
      "Epoch 15/100\n",
      "15/15 [==============================] - 2s 128ms/step - loss: 2443220480.0000\n",
      "Epoch 16/100\n",
      "15/15 [==============================] - 2s 107ms/step - loss: 2440719616.0000\n",
      "Epoch 17/100\n",
      "15/15 [==============================] - 1s 96ms/step - loss: 2438071296.0000\n",
      "Epoch 18/100\n",
      "15/15 [==============================] - 2s 104ms/step - loss: 2435255296.0000\n",
      "Epoch 19/100\n",
      "15/15 [==============================] - 2s 102ms/step - loss: 2432353280.0000\n",
      "Epoch 20/100\n",
      "15/15 [==============================] - 2s 113ms/step - loss: 2429292800.0000\n",
      "Epoch 21/100\n",
      "15/15 [==============================] - 2s 105ms/step - loss: 2426004480.0000\n",
      "Epoch 22/100\n",
      "15/15 [==============================] - 2s 146ms/step - loss: 2422613248.0000\n",
      "Epoch 23/100\n",
      "15/15 [==============================] - 3s 174ms/step - loss: 2419158784.0000\n",
      "Epoch 24/100\n",
      "15/15 [==============================] - 2s 159ms/step - loss: 2415559424.0000\n",
      "Epoch 25/100\n",
      "15/15 [==============================] - 2s 135ms/step - loss: 2411715584.0000\n",
      "Epoch 26/100\n",
      "15/15 [==============================] - 2s 133ms/step - loss: 2407805440.0000\n",
      "Epoch 27/100\n",
      "15/15 [==============================] - 2s 142ms/step - loss: 2403669760.0000\n",
      "Epoch 28/100\n",
      "15/15 [==============================] - 2s 145ms/step - loss: 2399500032.0000\n",
      "Epoch 29/100\n",
      "15/15 [==============================] - 2s 132ms/step - loss: 2395104256.0000\n",
      "Epoch 30/100\n",
      "15/15 [==============================] - 2s 113ms/step - loss: 2390561792.0000\n",
      "Epoch 31/100\n",
      "15/15 [==============================] - 2s 137ms/step - loss: 2385844224.0000\n",
      "Epoch 32/100\n",
      "15/15 [==============================] - 2s 145ms/step - loss: 2381003264.0000\n",
      "Epoch 33/100\n",
      "15/15 [==============================] - 2s 111ms/step - loss: 2376266496.0000\n",
      "Epoch 34/100\n",
      "15/15 [==============================] - 2s 102ms/step - loss: 2371104512.0000\n",
      "Epoch 35/100\n",
      "15/15 [==============================] - 2s 116ms/step - loss: 2365878784.0000\n",
      "Epoch 36/100\n",
      "15/15 [==============================] - 2s 139ms/step - loss: 2360677376.0000\n",
      "Epoch 37/100\n",
      "15/15 [==============================] - 2s 134ms/step - loss: 2355255552.0000\n",
      "Epoch 38/100\n",
      "15/15 [==============================] - 2s 119ms/step - loss: 2349796864.0000\n",
      "Epoch 39/100\n",
      "15/15 [==============================] - 2s 121ms/step - loss: 2344115968.0000\n",
      "Epoch 40/100\n",
      "15/15 [==============================] - 2s 150ms/step - loss: 2338463232.0000\n",
      "Epoch 41/100\n",
      "15/15 [==============================] - 3s 184ms/step - loss: 2332626688.0000\n",
      "Epoch 42/100\n",
      "15/15 [==============================] - 2s 159ms/step - loss: 2326613504.0000\n",
      "Epoch 43/100\n",
      "15/15 [==============================] - 2s 124ms/step - loss: 2320559872.0000\n",
      "Epoch 44/100\n",
      "15/15 [==============================] - 2s 128ms/step - loss: 2314260736.0000\n",
      "Epoch 45/100\n",
      "15/15 [==============================] - 2s 115ms/step - loss: 2307796736.0000\n",
      "Epoch 46/100\n",
      "15/15 [==============================] - 2s 106ms/step - loss: 2301393920.0000\n",
      "Epoch 47/100\n",
      "15/15 [==============================] - 2s 106ms/step - loss: 2294790144.0000\n",
      "Epoch 48/100\n",
      "15/15 [==============================] - 2s 104ms/step - loss: 2287955712.0000\n",
      "Epoch 49/100\n",
      "15/15 [==============================] - 2s 102ms/step - loss: 2281249536.0000\n",
      "Epoch 50/100\n",
      "15/15 [==============================] - 2s 126ms/step - loss: 2274338560.0000\n",
      "Epoch 51/100\n",
      "15/15 [==============================] - 2s 144ms/step - loss: 2267518208.0000\n",
      "Epoch 52/100\n",
      "15/15 [==============================] - 3s 182ms/step - loss: 2260338688.0000\n",
      "Epoch 53/100\n",
      "15/15 [==============================] - 2s 128ms/step - loss: 2253187328.0000\n",
      "Epoch 54/100\n",
      "15/15 [==============================] - 2s 114ms/step - loss: 2245589248.0000\n",
      "Epoch 55/100\n",
      "15/15 [==============================] - 2s 130ms/step - loss: 2238103040.0000\n",
      "Epoch 56/100\n",
      "15/15 [==============================] - 2s 116ms/step - loss: 2230501376.0000\n",
      "Epoch 57/100\n",
      "15/15 [==============================] - 2s 112ms/step - loss: 2222830592.0000\n",
      "Epoch 58/100\n",
      "15/15 [==============================] - 2s 115ms/step - loss: 2215076864.0000\n",
      "Epoch 59/100\n",
      "15/15 [==============================] - 3s 199ms/step - loss: 2207170048.0000\n",
      "Epoch 60/100\n",
      "15/15 [==============================] - 2s 158ms/step - loss: 2199407104.0000\n",
      "Epoch 61/100\n",
      "15/15 [==============================] - 2s 131ms/step - loss: 2191310592.0000\n",
      "Epoch 62/100\n",
      "15/15 [==============================] - 2s 118ms/step - loss: 2183250432.0000\n",
      "Epoch 63/100\n",
      "15/15 [==============================] - 2s 106ms/step - loss: 2175083520.0000\n",
      "Epoch 64/100\n",
      "15/15 [==============================] - 2s 100ms/step - loss: 2167051008.0000\n",
      "Epoch 65/100\n",
      "15/15 [==============================] - 1s 94ms/step - loss: 2158732288.0000\n",
      "Epoch 66/100\n",
      "15/15 [==============================] - 2s 113ms/step - loss: 2150402048.0000\n",
      "Epoch 67/100\n",
      "15/15 [==============================] - 1s 88ms/step - loss: 2142026368.0000\n",
      "Epoch 68/100\n",
      "15/15 [==============================] - 1s 96ms/step - loss: 2133323264.0000\n",
      "Epoch 69/100\n",
      "15/15 [==============================] - 1s 94ms/step - loss: 2124748288.0000\n",
      "Epoch 70/100\n",
      "15/15 [==============================] - 2s 128ms/step - loss: 2116011392.0000\n",
      "Epoch 71/100\n",
      "15/15 [==============================] - 2s 126ms/step - loss: 2107251584.0000\n",
      "Epoch 72/100\n",
      "15/15 [==============================] - 2s 124ms/step - loss: 2097988224.0000\n",
      "Epoch 73/100\n",
      "15/15 [==============================] - 3s 172ms/step - loss: 2089223552.0000\n",
      "Epoch 74/100\n",
      "15/15 [==============================] - 2s 160ms/step - loss: 2079887616.0000\n",
      "Epoch 75/100\n",
      "15/15 [==============================] - 3s 179ms/step - loss: 2070807040.0000\n",
      "Epoch 76/100\n",
      "15/15 [==============================] - 2s 139ms/step - loss: 2061660416.0000\n",
      "Epoch 77/100\n",
      "15/15 [==============================] - 3s 175ms/step - loss: 2052300544.0000\n",
      "Epoch 78/100\n",
      "15/15 [==============================] - 3s 175ms/step - loss: 2043168768.0000\n",
      "Epoch 79/100\n",
      "15/15 [==============================] - 2s 110ms/step - loss: 2034028800.0000\n",
      "Epoch 80/100\n",
      "15/15 [==============================] - 2s 122ms/step - loss: 2024900608.0000\n",
      "Epoch 81/100\n",
      "15/15 [==============================] - 2s 105ms/step - loss: 2015247232.0000\n",
      "Epoch 82/100\n",
      "15/15 [==============================] - 1s 98ms/step - loss: 2005997056.0000\n",
      "Epoch 83/100\n",
      "15/15 [==============================] - 1s 97ms/step - loss: 1996441344.0000\n",
      "Epoch 84/100\n",
      "15/15 [==============================] - 1s 95ms/step - loss: 1986940288.0000\n",
      "Epoch 85/100\n",
      "15/15 [==============================] - 2s 121ms/step - loss: 1977296000.0000\n",
      "Epoch 86/100\n",
      "15/15 [==============================] - 2s 154ms/step - loss: 1967641088.0000\n",
      "Epoch 87/100\n",
      "15/15 [==============================] - 2s 126ms/step - loss: 1958042112.0000\n",
      "Epoch 88/100\n",
      "15/15 [==============================] - 2s 153ms/step - loss: 1948212608.0000\n",
      "Epoch 89/100\n",
      "15/15 [==============================] - 2s 147ms/step - loss: 1938237184.0000\n",
      "Epoch 90/100\n"
     ]
    },
    {
     "name": "stdout",
     "output_type": "stream",
     "text": [
      "15/15 [==============================] - 2s 158ms/step - loss: 1928252032.0000\n",
      "Epoch 91/100\n",
      "15/15 [==============================] - 2s 154ms/step - loss: 1918283776.0000\n",
      "Epoch 92/100\n",
      "15/15 [==============================] - 2s 150ms/step - loss: 1908298880.0000\n",
      "Epoch 93/100\n",
      "15/15 [==============================] - 2s 129ms/step - loss: 1898326528.0000\n",
      "Epoch 94/100\n",
      "15/15 [==============================] - 2s 138ms/step - loss: 1888335104.0000\n",
      "Epoch 95/100\n",
      "15/15 [==============================] - 2s 144ms/step - loss: 1878104704.0000\n",
      "Epoch 96/100\n",
      "15/15 [==============================] - 2s 156ms/step - loss: 1867824896.0000\n",
      "Epoch 97/100\n",
      "15/15 [==============================] - 2s 128ms/step - loss: 1857760384.0000\n",
      "Epoch 98/100\n",
      "15/15 [==============================] - 2s 156ms/step - loss: 1847330688.0000\n",
      "Epoch 99/100\n",
      "15/15 [==============================] - 2s 151ms/step - loss: 1837269376.0000\n",
      "Epoch 100/100\n",
      "15/15 [==============================] - 2s 132ms/step - loss: 1827238528.0000\n",
      "WARNING:tensorflow:6 out of the last 10 calls to <function Model.make_predict_function.<locals>.predict_function at 0x1264aa820> triggered tf.function retracing. Tracing is expensive and the excessive number of tracings could be due to (1) creating @tf.function repeatedly in a loop, (2) passing tensors with different shapes, (3) passing Python objects instead of tensors. For (1), please define your @tf.function outside of the loop. For (2), @tf.function has experimental_relax_shapes=True option that relaxes argument shapes that can avoid unnecessary retracing. For (3), please refer to https://www.tensorflow.org/guide/function#controlling_retracing and https://www.tensorflow.org/api_docs/python/tf/function for  more details.\n"
     ]
    }
   ],
   "source": [
    "model.fit(X_train, y_train, epochs=100, batch_size=5, verbose=1)\n",
    "y_pred = model.predict(X_test)"
   ]
  },
  {
   "cell_type": "code",
   "execution_count": 190,
   "id": "pacific-danger",
   "metadata": {},
   "outputs": [
    {
     "data": {
      "image/png": "[encoded data removed]",
      "text/plain": [
       "<Figure size 432x288 with 1 Axes>"
      ]
     },
     "metadata": {
      "needs_background": "light"
     },
     "output_type": "display_data"
    }
   ],
   "source": [
    "plt.scatter(y_test, (y_test - y_pred))\n",
    "plt.axhline(y=0, color='r', linestyle='-')\n",
    "plt.title('RNN')\n",
    "#plt.xticks(rotation=90)\n",
    "plt.xlabel('Fluo_8h')\n",
    "plt.ylabel('Residual')\n",
    "plt.show()"
   ]
  },
  {
   "cell_type": "markdown",
   "id": "baking-accordance",
   "metadata": {},
   "source": [
    "### Dataprep"
   ]
  },
  {
   "cell_type": "code",
   "execution_count": null,
   "id": "personal-official",
   "metadata": {},
   "outputs": [],
   "source": [
    "with open('datasets/output.out', 'r') as reader:\n",
    "    #print(reader.read())\n",
    "    output = list(reader)"
   ]
  },
  {
   "cell_type": "code",
   "execution_count": null,
   "id": "alternate-humor",
   "metadata": {},
   "outputs": [],
   "source": [
    "output = [i.strip() for i in output]\n",
    "output = [output[i:i+7] for i in range(0, len(output), 7)]\n",
    "output"
   ]
  },
  {
   "cell_type": "code",
   "execution_count": null,
   "id": "reflected-christopher",
   "metadata": {},
   "outputs": [],
   "source": [
    "df = pd.DataFrame(output)\n",
    "df[7] = df[1].str[:-9]\n",
    "df[1] = df[1].str[-6:-1]\n",
    "df[2] = df[2].str[-6:-1]\n",
    "df[3] = df[3].str.replace('frequency of mfe structure in ensemble', '')\n",
    "df[8] = df[3].apply(lambda x: x.split(';')[0])\n",
    "df[9] = df[3].apply(lambda x: x.split('=')[1])\n",
    "df[10] = df[0].apply(lambda x: x.split('&')[0])\n",
    "df[11] = df[0].apply(lambda x: x.split('&')[1])\n",
    "numbers = pd.Series(np.arange(len(df))+1).astype(str)\n",
    "df[12] = 'c' + numbers\n",
    "df[13] = 't' + numbers\n",
    "df = df[[12, 10, 13, 11, 7, 1, 2, 8, 9]]\n",
    "df[[1, 2, 8, 9]] = df[[1, 2, 8, 9]].astype(float)\n",
    "df[8] = df[8] * 100\n",
    "df = df.rename(columns={12: 'c_index', 10: 'crRNA', 13: 't_index',\n",
    "                        11: 'tracrRNA', 7: 'MFE_structures', 1: 'MFE',\n",
    "                       2: 'free_energy_thermodynamic_ensemble',\n",
    "                       8: 'frequency_MFR_structures', 9: 'delta_G'})\n",
    "\n",
    "df"
   ]
  },
  {
   "cell_type": "code",
   "execution_count": null,
   "id": "relevant-intelligence",
   "metadata": {},
   "outputs": [],
   "source": [
    "df.to_csv('datasets/rnacofold.csv', index=False)"
   ]
  },
  {
   "cell_type": "markdown",
   "id": "blind-composition",
   "metadata": {},
   "source": [
    "### New Dataprep"
   ]
  },
  {
   "cell_type": "code",
   "execution_count": null,
   "id": "comic-ozone",
   "metadata": {},
   "outputs": [],
   "source": [
    "with open('datasets/new_seq.out', 'r') as reader:\n",
    "    #print(reader.read())\n",
    "    output = list(reader)"
   ]
  },
  {
   "cell_type": "code",
   "execution_count": null,
   "id": "pleasant-juvenile",
   "metadata": {},
   "outputs": [],
   "source": [
    "output = [i.strip() for i in output]\n",
    "output = [output[i:i+5] for i in range(0, len(output), 5)]\n",
    "output"
   ]
  },
  {
   "cell_type": "code",
   "execution_count": null,
   "id": "individual-crack",
   "metadata": {},
   "outputs": [],
   "source": [
    "df = pd.DataFrame(output)\n",
    "df[11] = df[1].apply(lambda x: (x.split(' ( ')[0]))\n",
    "df[1] = df[1].apply(lambda x: (x.split(' ( ')[1]).split(')')[0])\n",
    "df[2] = df[2].apply(lambda x: (x.split(' [ ')[1]).split(']')[0])\n",
    "df[31] = df[3].apply(lambda x: ((x.split(' { ')[1]).split(' d=')[1]).split('}')[0])\n",
    "df[32] = df[3].apply(lambda x: (x.split(' { ')[0]))\n",
    "df[3] = df[3].apply(lambda x: (x.split(' { ')[1]).split(' d=')[0])\n",
    "df[41] = df[4].apply(lambda x: (x.split(';')[1]).split(' ')[-1])\n",
    "df[4] = df[4].apply(lambda x: (x.split(';')[0]).split(' ')[-1])\n",
    "#df[2] = df[1].str[-6:-1]\n",
    "df"
   ]
  },
  {
   "cell_type": "code",
   "execution_count": null,
   "id": "innocent-enlargement",
   "metadata": {},
   "outputs": [],
   "source": [
    "df = df[[0, 11, 1, 2, 32, 3, 31, 4, 41]]\n",
    "df = df.rename(columns={0: 'sequence', 11: 'optimal_secondary_structure', 1: 'optimal_mfe',\n",
    "                       2: 'free_energy_thermo_ensemble', 32: 'centroid_secondary_structure',\n",
    "                       3: 'centroid_mfe', 31: 'd', 4: 'freq_mfe_structure_in_ensemble', 41: 'ensemble_diversity'})\n",
    "df"
   ]
  },
  {
   "cell_type": "code",
   "execution_count": null,
   "id": "moving-glenn",
   "metadata": {},
   "outputs": [],
   "source": [
    "df.to_csv('datasets/new_seq.csv', index=False)"
   ]
  }
 ],
 "metadata": {
  "kernelspec": {
   "display_name": "Python 3",
   "language": "python",
   "name": "python3"
  },
  "language_info": {
   "codemirror_mode": {
    "name": "ipython",
    "version": 3
   },
   "file_extension": ".py",
   "mimetype": "text/x-python",
   "name": "python",
   "nbconvert_exporter": "python",
   "pygments_lexer": "ipython3",
   "version": "3.9.2"
  }
 },
 "nbformat": 4,
 "nbformat_minor": 5
}
