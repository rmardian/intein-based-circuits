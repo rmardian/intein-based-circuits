{
 "cells": [
  {
   "cell_type": "code",
   "execution_count": 1,
   "id": "requested-chambers",
   "metadata": {},
   "outputs": [],
   "source": [
    "import pandas as pd\n",
    "pd.set_option('display.max_columns', None)\n",
    "import numpy as np\n",
    "import matplotlib.pyplot as plt\n",
    "import seaborn as sns\n",
    "sns.set_style('white')\n",
    "from scipy.optimize import curve_fit\n",
    "from scipy.integrate import odeint\n",
    "from tqdm import tqdm\n",
    "import itertools\n",
    "import random\n",
    "#import warnings\n",
    "#warnings.filterwarnings('ignore')"
   ]
  },
  {
   "cell_type": "markdown",
   "id": "loving-bishop",
   "metadata": {},
   "source": [
    "#### Import datasets"
   ]
  },
  {
   "cell_type": "markdown",
   "id": "integral-twelve",
   "metadata": {},
   "source": [
    "RPU"
   ]
  },
  {
   "cell_type": "code",
   "execution_count": null,
   "id": "descending-potter",
   "metadata": {},
   "outputs": [],
   "source": [
    "hill_params = {\n",
    "    'e11x32STPhoRadA': [1.87947058e-01, 1.42981978e+02, 4.00000000e+00, 1.20604405e+00, 3.35441402e-33, 7.18114435e-05, 7.28346285e+00, 7.28346285e+00],\n",
    "    'e15x32NpuSspS2': [2.22191566e-01, 1.64021408e+01, 3.17092459e+00, 4.00000000e+00, 4.71903773e-04, 4.71903773e-04, 9.79931266e-01, 9.79931266e-01],\n",
    "    'e16x33NrdA2': [2.41448864e-01, 2.98210618e+01, 4.00000000e+00, 4.00000000e+00, 1.22716190e-28, 2.15121587e-03, 6.48203170e+00, 6.48203170e+00],\n",
    "    'e20x32gp411': [3.06886383e-01, 1.51079177e+01, 2.86700955e+00, 7.09792637e-01, 2.21927034e-33, 1.21149942e-14, 2.20960687e+00, 2.24257299e+00],\n",
    "    'e32x30SspGyrB': [2.60546912e-01, 2.94621122e+01, 3.20198791e+00, 4.00000000e+00, 4.14075104e-16, 4.74372487e-03, 5.50780393e+00, 5.50780393e+00],\n",
    "    'e34x30MjaKlbA': [1.91390868e-01, 2.61109599e+01, 3.54540088e+00, 4.00000000e+00, 1.17058895e-02, 7.94584792e-30, 3.13403244e+00, 3.13403244e+00],\n",
    "    'e38x32gp418': [1.87714265e-01, 4.80916192e+01, 4.00000000e+00, 9.25732586e-01, 1.18764031e-02, 8.94050919e-03, 2.11496375e+00, 2.11496375e+00],\n",
    "    'e41x32NrdJ1': [2.26785525e-01, 2.54492716e+01, 3.87696429e+00, 4.00000000e+00, 8.39060170e-03, 1.70487281e-22, 3.22625576e+00, 3.22625576e+00],\n",
    "    'e42x32STIMPDH1': [2.54897279e-01, 2.38195348e+01, 4.00000000e+00, 3.98508826e+00, 6.41543918e-33, 3.23950280e-03, 2.56742130e+00, 2.56742130e+00]\n",
    "}"
   ]
  },
  {
   "cell_type": "code",
   "execution_count": 2,
   "id": "f60f02a7",
   "metadata": {},
   "outputs": [],
   "source": [
    "hill_params = {'e11x32STPhoRadA': [2.36766927e-02, 1.00000000e+03, 4.00000000e+00, 1.44153218e-01,\n",
    "        4.85020662e-35, 1.05460242e-03, 6.03613733e+00, 1.56850653e+00],\n",
    " 'e15x32NpuSspS2': [2.92755784e-02, 9.56644812e+00, 3.19925784e+00, 4.73602217e-01,\n",
    "        6.43583962e-15, 1.21508540e-03, 1.08890566e+00, 1.08890566e+00],\n",
    " 'e16x33NrdA2': [3.13214865e-02, 1.00000000e+03, 4.00000000e+00, 3.26516831e-01,\n",
    "        6.00075781e-39, 1.03610762e-03, 6.61478933e+00, 3.36137478e+00],\n",
    " 'e20x32gp411': [3.87095907e-02, 2.87402515e-02, 3.21473595e+00, 1.10916549e+00,\n",
    "        5.89561838e-35, 5.50018830e-03, 4.29512074e+00, 6.08724702e-01],\n",
    " 'e32x30SspGyrB': [3.38882129e-02, 1.00000000e+03, 3.54036286e+00, 4.31880965e-01,\n",
    "        2.64511978e-37, 1.03106627e-02, 6.18377096e+00, 4.42459651e+00],\n",
    " 'e34x30MjaKlbA': [2.49883923e-02, 3.19177623e+01, 4.00000000e+00, 1.44104721e+00,\n",
    "        1.20619143e-33, 1.17478406e-02, 3.24902918e+00, 3.24902918e+00],\n",
    " 'e38x32gp418': [2.49200384e-02, 1.00000000e+03, 4.00000000e+00, 1.14015854e-01,\n",
    "        1.19362000e-38, 1.20615103e-02, 2.30753701e+00, 1.57459945e+00],\n",
    " 'e41x32NrdJ1': [2.98530663e-02, 1.93409482e+02, 4.00000000e+00, 5.80382417e-01,\n",
    "        1.38019589e-27, 8.69390911e-03, 3.52150568e+00, 3.52150568e+00],\n",
    " 'e42x32STIMPDH1': [3.37403314e-02, 8.35596420e+02, 4.00000000e+00, 2.65772483e-01,\n",
    "        1.22742612e-40, 2.97909555e-03, 2.34091743e+00, 2.34091743e+00]}"
   ]
  },
  {
   "cell_type": "code",
   "execution_count": 3,
   "id": "greenhouse-cleaners",
   "metadata": {},
   "outputs": [],
   "source": [
    "fluos = pd.read_csv('datasets/induction_matrix_and/induction_fluos.csv', index_col='time')\n",
    "ods = pd.read_csv('datasets/induction_matrix_and/induction_ods.csv', index_col='time')\n",
    "gates = ['e11x32STPhoRadA', 'e15x32NpuSspS2', 'e16x33NrdA2', 'e20x32gp411', 'e32x30SspGyrB',\n",
    "         'e34x30MjaKlbA', 'e38x32gp418', 'e41x32NrdJ1', 'e42x32STIMPDH1']\n",
    "controls = ['positive_control', 'negative_control']"
   ]
  },
  {
   "cell_type": "code",
   "execution_count": null,
   "id": "august-polls",
   "metadata": {},
   "outputs": [],
   "source": [
    "ara_rpu = [0.01866272721909743, 0.018662758406971503, 0.018663174328483034, 0.018669139227864114, 0.018754681366803718, 0.01998134569699118, 0.037553287271685845, 0.2855753748649402, 3.1780033414207476, 12.94761562060246, 16.501814359447273, 16.823954609817722]\n",
    "ohc14_rpu = [1.365845205649679e-12, 1.477809602543448e-08, 2.0126270200342847e-07, 2.7412100433656457e-06, 3.733535555988354e-05, 0.0005084518764194502, 0.0069138207147784935, 0.09210718741881846, 0.9665193941238823, 3.1899661887779125, 3.8382539899376513, 3.8963923018006925]\n",
    "cuma_rpu = [3.575023694350424e-27, 0.015516608586247045, 0.03350318091899451, 0.07165827267981141, 0.15026467493653695, 0.302879007101705, 0.5677451197898489, 0.9489157692128366, 1.3720392703934798, 1.7254466182928356, 1.9569898978633842, 2.085543568949304]\n",
    "ahl_rpu = [2.9144583244448006e-14, 0.016371822448534235, 0.040914484578614636, 0.10129783845740496, 0.24851484541441368, 0.5938269471580947, 1.3351050307360446, 2.6617291185039744, 4.42741186589367, 6.022366723674042, 7.0361136783311125, 7.543994698752634]\n",
    "dapg_rpu = [1.302244740421529, 1.4165373033861792, 1.6930952535547543, 2.566015230022873, 4.788813170869853, 8.30446063763264, 11.13455345004793, 12.416879362194244, 12.84666622178346, 12.97551746744394, 13.012828135465469, 13.023522460886193]\n",
    "sal_rpu = [1.8474063001429318e-17, 0.021875582902283607, 0.05062636029349429, 0.11662623217219029, 0.26586718539192944, 0.5921268964337124, 1.2555468238624077, 2.42583007362859, 4.052115564797809, 5.696489596328492, 6.902604441331279, 7.5950206097534565]\n",
    "rha_rpu = [0.1215231788079449, 0.12152431639173153, 0.12153091685855633, 0.12157581426597619, 0.12188120612820852, 0.12395814087935805, 0.13806748859324755, 0.2332006140108892, 0.8436365830294862, 3.7977990503718893, 9.345042598779557, 11.974360213828955]"
   ]
  },
  {
   "cell_type": "code",
   "execution_count": null,
   "id": "equal-advertiser",
   "metadata": {},
   "outputs": [],
   "source": [
    "cuma_rpu = [3.644412232266454e-29, 0.14859321671075446, 0.3003987463549225, 0.5646900641819714, 0.9459734346336311, 1.3696457907453121]\n",
    "ara_rpu = [2.4755069554527222e-17, 3.156701388720587, 7.851873899455662, 12.926987196028803, 15.586125789996016, 16.48099039736224]"
   ]
  },
  {
   "cell_type": "code",
   "execution_count": null,
   "id": "da21259a",
   "metadata": {},
   "outputs": [],
   "source": [
    "cuma_rpu = [0.008406122909455404, 0.01691033499518672, 0.0419429064630855, 0.13469857887527883, 0.41592994783178494, 0.9254681484868258]\n",
    "ara_rpu = [3.2872421314081804e-15, 0.00434816732064938, 0.24818419739411732, 6.256329570408148, 10.686683759188524, 10.81787045340335]\n",
    "#aras_rpu = [0.047939271361185865, 6.176181163335466, 16.23080022197073, 16.87552797718598, 16.891198083491762, 16.89156436110603]"
   ]
  },
  {
   "cell_type": "code",
   "execution_count": 17,
   "id": "b4e538d6",
   "metadata": {},
   "outputs": [],
   "source": [
    "inducers = [\n",
    "    [0.04793923900410442, 0.04793923904058286, 0.04793924056621433, 0.0479393058980677, 0.04794210359228194, 0.048061907897102074, 0.0531906683345503, 0.26992573739385434, 6.1761811207534105, 16.23080031972892, 16.87552794188468, 16.891198041345216],\n",
    "    [1.365845205649679e-12, 1.477809602543448e-08, 2.0126270200342847e-07, 2.7412100433656457e-06, 3.733535555988354e-05, 0.0005084518764194502, 0.0069138207147784935, 0.09210718741881846, 0.9665193941238823, 3.1899661887779125, 3.8382539899376513, 3.8963923018006925],\n",
    "    [0.008406123940866532, 0.008414392879988193, 0.008439263843670282, 0.00853893430483353, 0.008938268665286834, 0.01053669194722467, 0.016910335586130407, 0.041942906154754836, 0.13469857646952518, 0.41592994328031163, 0.9254681464947414, 1.3412906120725212],\n",
    "    [2.9144583244448006e-14, 0.016371822448534235, 0.040914484578614636, 0.10129783845740496, 0.24851484541441368, 0.5938269471580947, 1.3351050307360446, 2.6617291185039744, 4.42741186589367, 6.022366723674042, 7.0361136783311125, 7.543994698752634],\n",
    "    [1.302244740421529, 1.4165373033861792, 1.6930952535547543, 2.566015230022873, 4.788813170869853, 8.30446063763264, 11.13455345004793, 12.416879362194244, 12.84666622178346, 12.97551746744394, 13.012828135465469, 13.023522460886193],\n",
    "    [1.8474063001429318e-17, 0.021875582902283607, 0.05062636029349429, 0.11662623217219029, 0.26586718539192944, 0.5921268964337124, 1.2555468238624077, 2.42583007362859, 4.052115564797809, 5.696489596328492, 6.902604441331279, 7.5950206097534565],\n",
    "    [0.1215231788079449, 0.12152431639173153, 0.12153091685855633, 0.12157581426597619, 0.12188120612820852, 0.12395814087935805, 0.13806748859324755, 0.2332006140108892, 0.8436365830294862, 3.7977990503718893, 9.345042598779557, 11.974360213828955],\n",
    "    [0.04793923900410442, 0.04793923904058286, 0.04793924056621433, 0.0479393058980677, 0.04794210359228194, 0.048061907897102074, 0.0531906683345503, 0.26992573739385434, 6.1761811207534105, 16.23080031972892, 16.87552794188468, 16.891198041345216]\n",
    "]"
   ]
  },
  {
   "cell_type": "markdown",
   "id": "revised-namibia",
   "metadata": {},
   "source": [
    "#### Static model"
   ]
  },
  {
   "cell_type": "code",
   "execution_count": 5,
   "id": "extra-toner",
   "metadata": {},
   "outputs": [],
   "source": [
    "def hill_activation(x, K, n, ymin, ymax):\n",
    "    return  ymin + (ymax - ymin) * (x**n / (K**n + x**n))\n",
    "\n",
    "def hill_activation_and(x, K1, K2, n1, n2, ymin1, ymin2, ymax1, ymax2):\n",
    "    x1, x2 = x\n",
    "    return hill_activation(x1, K1, n1, ymin1, ymax1) * hill_activation(x2, K2, n2, ymin2, ymax2)"
   ]
  },
  {
   "cell_type": "code",
   "execution_count": 7,
   "id": "stupid-distributor",
   "metadata": {},
   "outputs": [],
   "source": [
    "class Sensor:\n",
    "    \n",
    "    def __init__(self, name, y):\n",
    "        \n",
    "        self.name = name\n",
    "        self.y = y\n",
    "\n",
    "class Gate:\n",
    "    \n",
    "    def __init__(self, name, gate_type, hill_params):\n",
    "        \n",
    "        #metadata\n",
    "        self.name = name\n",
    "        self.gate_type = gate_type\n",
    "        \n",
    "        #parameters\n",
    "        self.K1 = hill_params[0]\n",
    "        self.K2 = hill_params[1]\n",
    "        self.n1 = hill_params[2]\n",
    "        self.n2 = hill_params[3]\n",
    "        self.ymin1 = hill_params[4]\n",
    "        self.ymin2 = hill_params[5]\n",
    "        self.ymax1 = hill_params[6]\n",
    "        self.ymax2 = hill_params[7]\n",
    "        \n",
    "        #input/output\n",
    "        self.x = []\n",
    "        self.y = 0\n",
    "        \n",
    "    def assign_input(self, gate):\n",
    "\n",
    "        self.x.append(gate)\n",
    "\n",
    "    def assign_output(self, value):\n",
    "\n",
    "        self.y = value\n",
    "\n",
    "class Circuit:\n",
    "\n",
    "    def __init__(self, design, inducers, hill_params):\n",
    "\n",
    "        #list of connected components\n",
    "        self.components = []\n",
    "        self.indexing = {}\n",
    "\n",
    "        #sensors\n",
    "        for i, sensor_name in enumerate(design['sensors']):\n",
    "            self.components.append(Sensor(sensor_name, inducers[i]))\n",
    "            self.indexing[sensor_name] = i\n",
    "            \n",
    "        #gates\n",
    "        for i, gate_name in enumerate(design['gates']):\n",
    "            gate_name = gate_name.replace(' ', '')\n",
    "            gate_type = gate_name.split('(')[0]\n",
    "            signals = gate_name.split('(')[1].split(')')[0].split(',')\n",
    "            \n",
    "            gate = Gate(signals[0], gate_type, hill_params[signals[0]])\n",
    "            for j in range(1, len(signals)):\n",
    "                gate.assign_input(self.components[self.indexing[signals[j]]])\n",
    "            \n",
    "            self.components.append(gate)\n",
    "            self.indexing[signals[0]] = i+len(design['sensors'])\n",
    "            \n",
    "    def signal_match(self):\n",
    "        \n",
    "        for g in self.components:\n",
    "            if isinstance(g, Gate):\n",
    "                g.y = hill_activation_and((g.x[0].y, g.x[1].y), g.K1, g.K2, g.n1, g.n2, g.ymin1, g.ymin2, g.ymax1, g.ymax2)\n",
    "                #print(g.name, g.x[0].y, g.x[1].y, g.y)\n",
    "            \n",
    "    def print_design(self):\n",
    "        \n",
    "        print([component.name for component in self.components])\n",
    "        print([component.y for component in self.components])\n",
    "        \n",
    "    def get_output(self):\n",
    "        return self.components[-1].y"
   ]
  },
  {
   "cell_type": "code",
   "execution_count": 6,
   "id": "rural-volleyball",
   "metadata": {},
   "outputs": [],
   "source": [
    "# 4 INPUTS\n",
    "def circuit_designer(inducers, gates):\n",
    "     return {\n",
    "        'name': 'circuit1',\n",
    "        'sensors': ['input_{}'.format(i) for i, ind in enumerate(inducers)],\n",
    "        'gates': [\n",
    "            'AND({},input_0,input_1)'.format(gates[0]),\n",
    "            'AND({},input_2,input_3)'.format(gates[1]),\n",
    "            'AND({},{},{})'.format(gates[2], gates[0], gates[1])\n",
    "        ]\n",
    "    }\n",
    "selected_gates = ['e34x30MjaKlbA', 'e20x32gp411', 'e11x32STPhoRadA']\n",
    "circuit_example = circuit_designer(['ara', 'cuma', 'ara', 'cuma'], selected_gates)"
   ]
  },
  {
   "cell_type": "code",
   "execution_count": 8,
   "id": "inner-handbook",
   "metadata": {},
   "outputs": [
    {
     "name": "stdout",
     "output_type": "stream",
     "text": [
      "['input_0', 'input_1', 'input_2', 'input_3', 'e34x30MjaKlbA', 'e20x32gp411', 'e11x32STPhoRadA']\n",
      "[16.891198041345216, 0.008406123940866532, 16.891198041345216, 1.3412906120725212, 0.03824215612131282, 2.5785589876410033, 2.4597142646146475]\n"
     ]
    }
   ],
   "source": [
    "aras_rpu = inducers[0]\n",
    "cumas_rpu = inducers[2]\n",
    "circuit = Circuit(circuit_example, [aras_rpu[-1], cumas_rpu[0], aras_rpu[-1], cumas_rpu[-1]], hill_params)\n",
    "circuit.signal_match()\n",
    "circuit.print_design()"
   ]
  },
  {
   "cell_type": "code",
   "execution_count": 9,
   "id": "directed-cabin",
   "metadata": {},
   "outputs": [
    {
     "data": {
      "text/plain": [
       "2.4597142646146475"
      ]
     },
     "execution_count": 9,
     "metadata": {},
     "output_type": "execute_result"
    }
   ],
   "source": [
    "circuit.get_output()"
   ]
  },
  {
   "cell_type": "code",
   "execution_count": null,
   "id": "afraid-internet",
   "metadata": {},
   "outputs": [],
   "source": [
    "# 8 INPUTS\n",
    "def circuit_designer(inducers, gates):\n",
    "     return {\n",
    "        'name': 'circuit2',\n",
    "        'sensors': ['input_{}'.format(i) for i, ind in enumerate(inducers)],\n",
    "        'gates': [\n",
    "            'AND({},input_0,input_1)'.format(gates[0]),\n",
    "            'AND({},input_2,input_3)'.format(gates[1]),\n",
    "            'AND({},input_4,input_5)'.format(gates[2]),\n",
    "            'AND({},input_6,input_7)'.format(gates[3]),\n",
    "            'AND({},{},{})'.format(gates[4], gates[0], gates[1]),\n",
    "            'AND({},{},{})'.format(gates[5], gates[2], gates[3]),\n",
    "            'AND({},{},{})'.format(gates[6], gates[4], gates[5])\n",
    "        ]\n",
    "     }\n",
    "selected_gates = gates[:7]\n",
    "circuit_example = circuit_designer(['ara', 'cuma', 'ara', 'cuma', 'ara', 'cuma', 'ara', 'cuma'], selected_gates)"
   ]
  },
  {
   "cell_type": "code",
   "execution_count": 18,
   "id": "union-literature",
   "metadata": {},
   "outputs": [
    {
     "name": "stdout",
     "output_type": "stream",
     "text": [
      "['input_0', 'input_1', 'input_2', 'input_3', 'e34x30MjaKlbA', 'e20x32gp411', 'e11x32STPhoRadA']\n",
      "[0.04793923900410442, 1.365845205649679e-12, 0.008406123940866532, 2.9144583244448006e-14, 0.03554505245461985, 0.00017301131513320598, 0.7628586596766206]\n"
     ]
    }
   ],
   "source": [
    "circuit = Circuit(circuit_example, [inducers[0][0], inducers[1][0], inducers[2][0], inducers[3][0], inducers[4][-1], inducers[5][-1], inducers[6][-1], inducers[7][-1]], hill_params)\n",
    "circuit.signal_match()\n",
    "circuit.print_design()"
   ]
  },
  {
   "cell_type": "code",
   "execution_count": 12,
   "id": "55c2850f",
   "metadata": {},
   "outputs": [
    {
     "data": {
      "text/plain": [
       "0.7628586596766206"
      ]
     },
     "execution_count": 12,
     "metadata": {},
     "output_type": "execute_result"
    }
   ],
   "source": [
    "circuit.get_output()"
   ]
  },
  {
   "cell_type": "markdown",
   "id": "several-mathematics",
   "metadata": {},
   "source": [
    "#### Genetic Algorithm"
   ]
  },
  {
   "cell_type": "code",
   "execution_count": 27,
   "id": "intensive-treasure",
   "metadata": {},
   "outputs": [
    {
     "name": "stderr",
     "output_type": "stream",
     "text": [
      "  0%|                                                                                           | 0/30 [00:00<?, ?it/s]C:\\Users\\rmardian\\AppData\\Local\\Temp/ipykernel_17832/1021110881.py:67: VisibleDeprecationWarning: Creating an ndarray from ragged nested sequences (which is a list-or-tuple of lists-or-tuples-or ndarrays with different lengths or shapes) is deprecated. If you meant to do this, you must specify 'dtype=object' when creating the ndarray.\n",
      "  return np.array(sorted(fitnessResults, key=lambda x: x[1], reverse=True))\n",
      "100%|██████████████████████████████████████████████████████████████████████████████████| 30/30 [00:02<00:00, 12.04it/s]\n"
     ]
    },
    {
     "data": {
      "text/plain": [
       "array([[array([0, 6, 1, 4, 2, 7, 3]), 0.0],\n",
       "       [array([3, 2, 4, 1, 7, 0, 6]), 0.0],\n",
       "       [array([8, 1, 7, 4, 0, 2, 5]), 0.0],\n",
       "       [array([7, 0, 1, 5, 3, 6, 4]), 0.0],\n",
       "       [array([6, 2, 7, 5, 0, 4, 3]), 0.0],\n",
       "       [array([0, 7, 3, 2, 8, 5, 4]), 0.0],\n",
       "       [array([4, 6, 2, 3, 8, 7, 1]), 0.0],\n",
       "       [array([8, 4, 1, 0, 2, 5, 7]), 0.0],\n",
       "       [array([4, 7, 8, 3, 1, 0, 5]), 0.0],\n",
       "       [array([1, 8, 3, 4, 0, 7, 2]), 0.0]], dtype=object)"
      ]
     },
     "execution_count": 27,
     "metadata": {},
     "output_type": "execute_result"
    }
   ],
   "source": [
    "def initialPopulation(pop_size, num_indiv, length):\n",
    "    population = []\n",
    "    arrangement = np.arange(num_indiv)\n",
    "    for i in range(pop_size):\n",
    "        new_arrangement = [i for i in arrangement]\n",
    "        np.random.shuffle(new_arrangement)\n",
    "        population.append(new_arrangement[:length])\n",
    "    return np.array(population)\n",
    "\n",
    "def calculateFitness(pop):\n",
    "    f_t = fluos.index\n",
    "    fitness = []\n",
    "    \n",
    "    for i, p in enumerate(pop):\n",
    "        #circuit = Circuit(fluo_selected, od_selected, gate_params_selected, od_params_selected, None, p)\n",
    "        #model = gate_wrapper2(f_t, circuit)\n",
    "        #gfp = pd.Series(model[33], index=f_t/60)\n",
    "        \n",
    "        #print(p, [gates[g] for g in pop])\n",
    "        outputs = []\n",
    "        '''\n",
    "        for a in range(0, -2, -1):\n",
    "            for b in range(0, -2, -1):\n",
    "                for c in range(0, -2, -1):\n",
    "                    for d in range(0, -2, -1):\n",
    "                        #circuit = Circuit3([gates[g] for g in p], [cuma_rpu[a], ohc14_rpu[b], sal_rpu[c], ahl_rpu[d]])\n",
    "                        #circuit2 = Circuit3([gates[g] for g in p], [cumas_rpu[0], aras_rpu[0], cumas_rpu[5], aras_rpu[5]])\n",
    "                        #circuit2 = Circuit2([gates[g] for g in p], [cumas_rpu[3], aras_rpu[3]] * 4)\n",
    "                        #model = gate_wrapper(fluos.index, circuit, 2)\n",
    "                        #gfp = pd.Series(model[13], index=fluos.index/60)\n",
    "                        #fitness.append(gfp.max()-gfp.min())\n",
    "                        #outputs.append(signal_match(circuit))\n",
    "                        \n",
    "                        circuit_design = circuit_designer(['ara', 'cuma', 'ara', 'cuma']*2, [gates[g] for g in p])\n",
    "                        circuit = Circuit(circuit_design, [ara_rpu[a], cuma_rpu[b], ara_rpu[c], cuma_rpu[d]]*2, hill_params)\n",
    "                        circuit.signal_match()\n",
    "                        outputs.append(circuit.get_output())\n",
    "        '''                \n",
    "                        \n",
    "        #states = []\n",
    "        input_states = [format(x, \"08b\") for x in np.arange(2**8)]\n",
    "        circuit_design = circuit_designer(['x', 'xx', 'xxx', 'xxxx']*2, [gates[g] for g in p])\n",
    "\n",
    "        for in_state in input_states:          \n",
    "            ind_lvl = [inducer[int(i)*-1] for inducer, i in zip(inducers, in_state)]\n",
    "            circuit = Circuit(circuit_design, ind_lvl, hill_params)\n",
    "            circuit.signal_match()\n",
    "            outputs.append(circuit.get_output())\n",
    "                        \n",
    "                        \n",
    "                        \n",
    "        on = outputs[-1]\n",
    "        max_off = np.max(outputs[:-1])\n",
    "        #print(p, [gates[g] for g in p], np.log(on/max_off))\n",
    "        \n",
    "        #print(sorted(outputs))\n",
    "        #fitness.append(np.log(on/max_off))\n",
    "        if max_off!=0:\n",
    "            fitness.append(np.log(on/max_off))\n",
    "        else:\n",
    "            fitness.append(np.log(on/1e-50))\n",
    "    return np.array(fitness)\n",
    "\n",
    "def rankIndiv(population):\n",
    "    fitness = calculateFitness(population)\n",
    "    fitnessResults = [(a, b) for a, b in zip(population, fitness)]\n",
    "    return np.array(sorted(fitnessResults, key=lambda x: x[1], reverse=True))\n",
    "\n",
    "def selection(popRanked, eliteSize):\n",
    "    selectionResults = []\n",
    "    df = pd.DataFrame(np.array(popRanked), columns=[\"Index\",\"Fitness\"])\n",
    "    df['cum_sum'] = df.Fitness.cumsum()\n",
    "    df['cum_perc'] = 100*df.cum_sum/df.Fitness.sum()\n",
    "    \n",
    "    for i in range(0, eliteSize):\n",
    "        selectionResults.append(popRanked[i][0])\n",
    "    for i in range(0, len(popRanked) - eliteSize):\n",
    "        pick = 100*random.random()\n",
    "        for i in range(0, len(popRanked)):\n",
    "            if pick <= df.iat[i,3]:\n",
    "                selectionResults.append(popRanked[i][0])\n",
    "                break\n",
    "    return selectionResults\n",
    "\n",
    "def matingPool(population, selectionResults):\n",
    "    matingpool = []\n",
    "    for i in range(0, len(selectionResults)):\n",
    "        selected = selectionResults[i]\n",
    "        matingpool.append(selected)\n",
    "    return matingpool\n",
    "\n",
    "def breed(parent1, parent2):\n",
    "    child = []\n",
    "    childP1 = []\n",
    "    childP2 = []\n",
    "    \n",
    "    geneA = int(random.random() * len(parent1))\n",
    "    geneB = int(random.random() * len(parent1))\n",
    "    \n",
    "    startGene = min(geneA, geneB)\n",
    "    endGene = max(geneA, geneB)\n",
    "\n",
    "    for i in range(startGene, endGene):\n",
    "        childP1.append(parent1[i])\n",
    "        \n",
    "    childP2 = [item for item in parent2 if item not in childP1]\n",
    "\n",
    "    child = childP1 + childP2\n",
    "    \n",
    "    return child\n",
    "\n",
    "def breedPopulation(matingpool, eliteSize, length):\n",
    "    children = []\n",
    "    nonElite = len(matingpool) - eliteSize\n",
    "    pool = random.choices(matingpool, k=len(matingpool))\n",
    "\n",
    "    for i in range(0, eliteSize):\n",
    "        children.append(matingpool[i])\n",
    "    \n",
    "    for i in range(0, nonElite):\n",
    "        child = breed(pool[i], pool[len(matingpool)-i-1])\n",
    "        children.append(child[:length])\n",
    "    \n",
    "    return np.array(children)\n",
    "\n",
    "def mutate(individual, mutationRate):\n",
    "    for swapped in range(len(individual)):\n",
    "        if(random.random() < mutationRate):\n",
    "            swapWith = int(random.random() * len(individual))\n",
    "            \n",
    "            city1 = individual[swapped]\n",
    "            city2 = individual[swapWith]\n",
    "            \n",
    "            individual[swapped] = city2\n",
    "            individual[swapWith] = city1\n",
    "    return individual\n",
    "\n",
    "def mutatePopulation(population, mutationRate):\n",
    "    mutatedPop = []\n",
    "    \n",
    "    for ind in range(0, len(population)):\n",
    "        mutatedInd = mutate(population[ind], mutationRate)\n",
    "        mutatedPop.append(mutatedInd)\n",
    "    return np.array(mutatedPop)\n",
    "\n",
    "def nextGeneration(currentGen, eliteSize, mutationRate, length):\n",
    "    \n",
    "    popRanked = rankIndiv(currentGen)\n",
    "    selectionResults = selection(popRanked, eliteSize)\n",
    "    matingpool = matingPool(currentGen, selectionResults)\n",
    "    children = breedPopulation(matingpool, eliteSize, length)\n",
    "    nextGeneration = mutatePopulation(children, mutationRate)\n",
    "    return nextGeneration\n",
    "\n",
    "def geneticAlgorithm(popSize, eliteSize, mutationRate, generations, candidates, length):\n",
    "    pop = initialPopulation(popSize, candidates, length)\n",
    "    pop_copy = [i for i in pop]\n",
    "    \n",
    "    for i in tqdm(range(0, generations)):\n",
    "        pop = nextGeneration(pop, eliteSize, mutationRate, length)\n",
    "    return pop_copy, rankIndiv(pop)\n",
    "\n",
    "pop_copy, result = geneticAlgorithm(popSize=100, eliteSize=10, mutationRate=0.01, generations=30, candidates=len(gates), length=7)\n",
    "result"
   ]
  },
  {
   "cell_type": "code",
   "execution_count": 14,
   "id": "touched-sender",
   "metadata": {},
   "outputs": [
    {
     "name": "stdout",
     "output_type": "stream",
     "text": [
      "[0, 3, 4, 2, 7, 1, 8] ['e11x32STPhoRadA', 'e20x32gp411', 'e32x30SspGyrB', 'e16x33NrdA2', 'e41x32NrdJ1', 'e15x32NpuSspS2', 'e42x32STIMPDH1'] 4.573661567022202e-08\n"
     ]
    }
   ],
   "source": [
    "ara_rpu = inducers[0]\n",
    "cuma_rpu = inducers[2]\n",
    "states = []\n",
    "p = [0, 3, 4, 2, 7, 1, 8]\n",
    "#print([gates[g] for g in p])\n",
    "for a in range(0, -2, -1):\n",
    "    for b in range(0, -2, -1):\n",
    "        for c in range(0, -2, -1):\n",
    "            for d in range(0, -2, -1):\n",
    "                \n",
    "                #circuit_design = circuit_designer(['ara', 'cuma', 'ara', 'cuma'], [gates[g] for g in p])\n",
    "                #circuit = Circuit(circuit_design, [ara_rpu[a], cuma_rpu[b], ara_rpu[c], cuma_rpu[d]], hill_params)\n",
    "                #circuit.signal_match()\n",
    "                #print(a, b, c, d)\n",
    "                #circuit.print_design()\n",
    "                \n",
    "                circuit_design = circuit_designer(['ara', 'cuma', 'ara', 'cuma']*2, [gates[g] for g in p])\n",
    "                circuit = Circuit(circuit_design, [ara_rpu[a], cuma_rpu[b], ara_rpu[c], cuma_rpu[d]]*2, hill_params)\n",
    "                circuit.signal_match()\n",
    "                \n",
    "                states.append(circuit.get_output())\n",
    "on = states[-1]\n",
    "max_off = np.max(states[:-1])\n",
    "print(p, [gates[g] for g in p], np.log(on/max_off))"
   ]
  },
  {
   "cell_type": "code",
   "execution_count": 28,
   "id": "provincial-water",
   "metadata": {},
   "outputs": [],
   "source": [
    "selected = [\n",
    "    [0, 6, 1, 4, 2, 7, 3], [3, 2, 4, 1, 7, 0, 6], [8, 1, 7, 4, 0, 2, 5]\n",
    "]"
   ]
  },
  {
   "cell_type": "code",
   "execution_count": 29,
   "id": "sacred-default",
   "metadata": {},
   "outputs": [],
   "source": [
    "candidates = []\n",
    "for r in selected:\n",
    "    \n",
    "    states = []\n",
    "    input_states = [format(x, \"08b\") for x in np.arange(2**8)]\n",
    "    circuit_design = circuit_designer(['x', 'xx', 'xxx', 'xxxx']*2, [gates[g] for g in r])\n",
    "    \n",
    "    for in_state in input_states:          \n",
    "        ind_lvl = [inducer[int(i)*-1] for inducer, i in zip(inducers, in_state)]\n",
    "        circuit = Circuit(circuit_design, ind_lvl, hill_params)\n",
    "        circuit.signal_match()\n",
    "        states.append(circuit.get_output())\n",
    "                    \n",
    "    candidates.append(states)"
   ]
  },
  {
   "cell_type": "code",
   "execution_count": 31,
   "id": "divine-silly",
   "metadata": {},
   "outputs": [
    {
     "name": "stdout",
     "output_type": "stream",
     "text": [
      "0.3362820544508079 0.0\n"
     ]
    }
   ],
   "source": [
    "c = candidates[0]\n",
    "print(c[-1], np.log(c[-1]/np.max(c[:-1])))"
   ]
  },
  {
   "cell_type": "code",
   "execution_count": 32,
   "id": "outside-penguin",
   "metadata": {},
   "outputs": [
    {
     "name": "stdout",
     "output_type": "stream",
     "text": [
      "0.3362820544508079 0.0\n"
     ]
    },
    {
     "data": {
      "image/png": "[encoded data removed]",
      "text/plain": [
       "<Figure size 1296x144 with 1 Axes>"
      ]
     },
     "metadata": {},
     "output_type": "display_data"
    }
   ],
   "source": [
    "c = candidates[0][-64:]\n",
    "plt.figure(figsize=[18, 2])\n",
    "plt.bar(np.arange(64), c)\n",
    "plt.axhline(0, linestyle='dotted', color='gray')\n",
    "plt.ylabel('RPU')\n",
    "plt.xlabel('Induction states')\n",
    "#plt.yscale('log')\n",
    "plt.xticks(np.arange(64), [format(x, \"06b\") for x in np.arange(64)], rotation=90)\n",
    "#plt.xticklabels(np.arange(64), rotation=90)\n",
    "print(c[-1], np.log(c[-1]/np.max(c[:-1])))\n",
    "sns.despine()"
   ]
  },
  {
   "cell_type": "code",
   "execution_count": null,
   "id": "played-milton",
   "metadata": {},
   "outputs": [],
   "source": []
  },
  {
   "cell_type": "code",
   "execution_count": null,
   "id": "indian-librarian",
   "metadata": {},
   "outputs": [],
   "source": []
  },
  {
   "cell_type": "code",
   "execution_count": null,
   "id": "consistent-thirty",
   "metadata": {},
   "outputs": [],
   "source": []
  },
  {
   "cell_type": "code",
   "execution_count": null,
   "id": "pointed-butterfly",
   "metadata": {},
   "outputs": [],
   "source": []
  },
  {
   "cell_type": "code",
   "execution_count": null,
   "id": "alert-monkey",
   "metadata": {},
   "outputs": [],
   "source": []
  },
  {
   "cell_type": "code",
   "execution_count": 22,
   "id": "casual-reporter",
   "metadata": {},
   "outputs": [
    {
     "ename": "NameError",
     "evalue": "name 'Circuit3' is not defined",
     "output_type": "error",
     "traceback": [
      "\u001b[1;31m---------------------------------------------------------------------------\u001b[0m",
      "\u001b[1;31mNameError\u001b[0m                                 Traceback (most recent call last)",
      "\u001b[1;32m~\\AppData\\Local\\Temp/ipykernel_17832/828153449.py\u001b[0m in \u001b[0;36m<module>\u001b[1;34m\u001b[0m\n\u001b[0;32m     41\u001b[0m \u001b[0mselection\u001b[0m \u001b[1;33m=\u001b[0m \u001b[1;33m[\u001b[0m\u001b[1;36m5\u001b[0m\u001b[1;33m,\u001b[0m \u001b[1;36m3\u001b[0m\u001b[1;33m,\u001b[0m \u001b[1;36m0\u001b[0m\u001b[1;33m]\u001b[0m\u001b[1;33m\u001b[0m\u001b[1;33m\u001b[0m\u001b[0m\n\u001b[0;32m     42\u001b[0m \u001b[0mselected_gates\u001b[0m \u001b[1;33m=\u001b[0m \u001b[1;33m[\u001b[0m\u001b[0mgates\u001b[0m\u001b[1;33m[\u001b[0m\u001b[0mg\u001b[0m\u001b[1;33m]\u001b[0m \u001b[1;32mfor\u001b[0m \u001b[0mg\u001b[0m \u001b[1;32min\u001b[0m \u001b[0mselection\u001b[0m\u001b[1;33m]\u001b[0m\u001b[1;33m\u001b[0m\u001b[1;33m\u001b[0m\u001b[0m\n\u001b[1;32m---> 43\u001b[1;33m \u001b[0mcircuit2\u001b[0m \u001b[1;33m=\u001b[0m \u001b[0mCircuit3\u001b[0m\u001b[1;33m(\u001b[0m\u001b[0mselected_gates\u001b[0m\u001b[1;33m,\u001b[0m \u001b[1;33m[\u001b[0m\u001b[0mcuma_rpu\u001b[0m\u001b[1;33m[\u001b[0m\u001b[1;33m-\u001b[0m\u001b[1;36m1\u001b[0m\u001b[1;33m]\u001b[0m\u001b[1;33m,\u001b[0m \u001b[0mrha_rpu\u001b[0m\u001b[1;33m[\u001b[0m\u001b[1;33m-\u001b[0m\u001b[1;36m1\u001b[0m\u001b[1;33m]\u001b[0m\u001b[1;33m,\u001b[0m \u001b[0mohc14_rpu\u001b[0m\u001b[1;33m[\u001b[0m\u001b[1;33m-\u001b[0m\u001b[1;36m1\u001b[0m\u001b[1;33m]\u001b[0m\u001b[1;33m,\u001b[0m \u001b[0mara_rpu\u001b[0m\u001b[1;33m[\u001b[0m\u001b[1;33m-\u001b[0m\u001b[1;36m1\u001b[0m\u001b[1;33m]\u001b[0m\u001b[1;33m]\u001b[0m\u001b[1;33m)\u001b[0m\u001b[1;33m\u001b[0m\u001b[1;33m\u001b[0m\u001b[0m\n\u001b[0m\u001b[0;32m     44\u001b[0m \u001b[0moutput\u001b[0m \u001b[1;33m=\u001b[0m \u001b[0msignal_match\u001b[0m\u001b[1;33m(\u001b[0m\u001b[0mcircuit2\u001b[0m\u001b[1;33m)\u001b[0m\u001b[1;33m\u001b[0m\u001b[1;33m\u001b[0m\u001b[0m\n\u001b[0;32m     45\u001b[0m \u001b[0mplot_colormap\u001b[0m\u001b[1;33m(\u001b[0m\u001b[0mrpus\u001b[0m\u001b[1;33m[\u001b[0m\u001b[0mselection\u001b[0m\u001b[1;33m]\u001b[0m\u001b[1;33m,\u001b[0m \u001b[0mselected_gates\u001b[0m\u001b[1;33m,\u001b[0m \u001b[1;36m1\u001b[0m\u001b[1;33m,\u001b[0m \u001b[1;36m3\u001b[0m\u001b[1;33m,\u001b[0m \u001b[0mnp\u001b[0m\u001b[1;33m.\u001b[0m\u001b[0mround\u001b[0m\u001b[1;33m(\u001b[0m\u001b[0mcumas_rpu\u001b[0m\u001b[1;33m,\u001b[0m \u001b[1;36m2\u001b[0m\u001b[1;33m)\u001b[0m\u001b[1;33m,\u001b[0m \u001b[0mnp\u001b[0m\u001b[1;33m.\u001b[0m\u001b[0mround\u001b[0m\u001b[1;33m(\u001b[0m\u001b[0maras_rpu\u001b[0m\u001b[1;33m,\u001b[0m \u001b[1;36m2\u001b[0m\u001b[1;33m)\u001b[0m\u001b[1;33m,\u001b[0m \u001b[0mhill_params\u001b[0m\u001b[1;33m)\u001b[0m\u001b[1;33m\u001b[0m\u001b[1;33m\u001b[0m\u001b[0m\n",
      "\u001b[1;31mNameError\u001b[0m: name 'Circuit3' is not defined"
     ]
    }
   ],
   "source": [
    "def plot_colormap(fluos, gates, num_row, num_col, ind1, ind2, hill_params):\n",
    "    \n",
    "    f, axs = plt.subplots(num_row, num_col, sharex=False, sharey=False, figsize=(num_col*4, num_row*3))\n",
    "    axr = axs.ravel()\n",
    "    for i, ax in enumerate(axr):\n",
    "        if i < len(gates):\n",
    "            gate = gates[i]\n",
    "            fluo = fluos[filter(lambda x: x.startswith(gate), fluos.index)]\n",
    "            \n",
    "            x1, x2 = np.meshgrid(ind1, ind2)\n",
    "            x = np.vstack((x1.ravel(), x2.ravel()))\n",
    "            y = fluo.values\n",
    "            \n",
    "            arr_ind1 = np.arange(0, 16.846887772258317, 0.1)\n",
    "            arr_ind2 = np.arange(0, 16.846887772258317, 0.1)\n",
    "            x1_, x2_ = np.meshgrid(arr_ind1, arr_ind2)\n",
    "            x_ = np.vstack((x1_.ravel(), x2_.ravel()))\n",
    "            y_pred_ = hill_activation_and(x_, *hill_params[gate])\n",
    "            \n",
    "            cf = ax.pcolormesh(x2_, x1_, y_pred_.reshape(-1, len(arr_ind1)), cmap='viridis')\n",
    "            f.colorbar(cf, ax=ax)\n",
    "            \n",
    "            if gate=='e42x32STIMPDH1':\n",
    "                ax.axhline(16.823954609817722, color='red')\n",
    "                ax.axvline(11.974360213828955, color='red')\n",
    "            elif gate=='e20x32gp411':\n",
    "                ax.axhline(7.5950206097534565, color='red')\n",
    "                ax.axvline(7.543994698752634, color='red')\n",
    "            elif gate=='e11x32STPhoRadA':\n",
    "                ax.axhline(0.4073604172225624, color='red')\n",
    "                ax.axvline(1.878844175166119, color='red')\n",
    "            \n",
    "            ax.set_xlabel('Ara')\n",
    "            ax.set_ylabel('Cuma')\n",
    "            ax.set_title(gate)\n",
    "        else:\n",
    "            ax.set_visible(False)\n",
    "    plt.tight_layout()\n",
    "    plt.show()\n",
    "\n",
    "selection = [5, 3, 0]\n",
    "selected_gates = [gates[g] for g in selection]\n",
    "circuit2 = Circuit3(selected_gates, [cuma_rpu[-1], rha_rpu[-1], ohc14_rpu[-1], ara_rpu[-1]])\n",
    "output = signal_match(circuit2)\n",
    "plot_colormap(rpus[selection], selected_gates, 1, 3, np.round(cumas_rpu, 2), np.round(aras_rpu, 2), hill_params)"
   ]
  },
  {
   "cell_type": "code",
   "execution_count": null,
   "id": "consistent-floor",
   "metadata": {},
   "outputs": [],
   "source": [
    "def plot_colormap(fluos, gates, num_row, num_col, ind1, ind2, hill_params):\n",
    "    \n",
    "    f, axs = plt.subplots(num_row, num_col, sharex=False, sharey=False, figsize=(num_col*4, num_row*3))\n",
    "    axr = axs.ravel()\n",
    "    for i, ax in enumerate(axr):\n",
    "        if i < len(gates):\n",
    "            gate = gates[i]\n",
    "            fluo = fluos[filter(lambda x: x.startswith(gate), fluos.index)]\n",
    "            \n",
    "            x1, x2 = np.meshgrid(ind1, ind2)\n",
    "            x = np.vstack((x1.ravel(), x2.ravel()))\n",
    "            y = fluo.values\n",
    "            \n",
    "            arr_ind1 = np.arange(0, 16.846887772258317, 0.1)\n",
    "            arr_ind2 = np.arange(0, 16.846887772258317, 0.1)\n",
    "            x1_, x2_ = np.meshgrid(arr_ind1, arr_ind2)\n",
    "            x_ = np.vstack((x1_.ravel(), x2_.ravel()))\n",
    "            y_pred_ = hill_activation_and(x_, *hill_params[gate])\n",
    "            \n",
    "            cf = ax.pcolormesh(x2_, x1_, y_pred_.reshape(-1, len(arr_ind1)), cmap='viridis')\n",
    "            f.colorbar(cf, ax=ax)\n",
    "            \n",
    "            if gate=='e38x32gp418':\n",
    "                ax.axhline(2.2736487455239915, color='red')\n",
    "                ax.axvline(1.4844461560653528, color='red')\n",
    "            elif gate=='e11x32STPhoRadA':\n",
    "                ax.axhline(7.5950206097534565, color='red')\n",
    "                ax.axvline(7.543994698752634, color='red')\n",
    "            elif gate=='e20x32gp411':\n",
    "                ax.axhline(16.823954609817722, color='red')\n",
    "                ax.axvline(11.974360213828955, color='red')\n",
    "            \n",
    "            ax.set_xlabel('Ara')\n",
    "            ax.set_ylabel('Cuma')\n",
    "            ax.set_title(gate)\n",
    "        else:\n",
    "            ax.set_visible(False)\n",
    "    plt.tight_layout()\n",
    "    plt.show()\n",
    "\n",
    "selection = [3, 0, 6]\n",
    "selected_gates = [gates[g] for g in selection]\n",
    "circuit2 = Circuit3(selected_gates, [ara_rpu[-1], rha_rpu[-1], sal_rpu[-1], ahl_rpu[-1]])\n",
    "output = signal_match(circuit2)\n",
    "plot_colormap(rpus[selection], selected_gates, 1, 3, np.round(cumas_rpu, 2), np.round(aras_rpu, 2), hill_params)"
   ]
  },
  {
   "cell_type": "code",
   "execution_count": null,
   "id": "honey-buddy",
   "metadata": {},
   "outputs": [],
   "source": []
  },
  {
   "cell_type": "code",
   "execution_count": null,
   "id": "center-causing",
   "metadata": {},
   "outputs": [],
   "source": [
    "plt.figure(figsize=[8, 2])\n",
    "plt.bar(np.arange(16), candidates[1])\n",
    "plt.axhline(0, linestyle='dotted', color='gray')\n",
    "plt.ylabel('RPU')\n",
    "plt.xlabel('Induction states')\n",
    "plt.yscale('log')\n",
    "plt.xticks(np.arange(16), [format(x, \"04b\") for x in np.arange(16)], rotation=90)\n",
    "\n",
    "print(candidates[1][-1]/np.max(candidates[1][:-1]))\n",
    "#plt.xticklabels(np.arange(64), rotation=90)\n",
    "sns.despine()"
   ]
  },
  {
   "cell_type": "code",
   "execution_count": null,
   "id": "inside-probe",
   "metadata": {},
   "outputs": [],
   "source": [
    "f, axs = plt.subplots(3, 1, sharex=True, sharey=True, figsize=(4, 5))\n",
    "axr = axs.ravel()\n",
    "for i, ax in enumerate(axr):\n",
    "    if i<len(candidates):\n",
    "        ax.bar(np.arange(16), candidates[i])\n",
    "        ax.set_ylabel('Fold-change (RPU)')\n",
    "        ax.set_xlabel('Induction states')\n",
    "        ax.set_yscale('log')\n",
    "        ax.set_xticks(np.arange(16))\n",
    "        ax.set_xticklabels([format(x, \"04b\") for x in np.arange(16)], rotation=90)\n",
    "    else:\n",
    "        ax.set_visible(False)\n",
    "    sns.despine()\n",
    "plt.tight_layout()"
   ]
  },
  {
   "cell_type": "markdown",
   "id": "white-heart",
   "metadata": {},
   "source": [
    "#### Layering the Gates"
   ]
  },
  {
   "cell_type": "code",
   "execution_count": null,
   "id": "alive-distribution",
   "metadata": {},
   "outputs": [],
   "source": [
    "#selected_gates = [4, 0, 3, 5, 2, 6, 1]\n",
    "[gates[g] for g in result[0][0]]"
   ]
  },
  {
   "cell_type": "code",
   "execution_count": null,
   "id": "thermal-airfare",
   "metadata": {},
   "outputs": [],
   "source": [
    "#point\n",
    "fig = plt.figure(figsize=(5, 4))\n",
    "for i in range(6):\n",
    "    circuit = Circuit([gates[g] for g in selected_gates], [cumas[i], aras[i]] * 4)\n",
    "    model = gate_wrapper(fluos.index, circuit, 2)\n",
    "    pd.Series(model[13], index=fluos.index/60, name='cuma={}, ara={}'.format(cumas[i], aras[i])).plot()\n",
    "plt.legend()\n",
    "sns.despine()"
   ]
  },
  {
   "cell_type": "code",
   "execution_count": null,
   "id": "chronic-surprise",
   "metadata": {},
   "outputs": [],
   "source": [
    "#interval\n",
    "fig = plt.figure(figsize=(5, 4))\n",
    "for i in range(6):\n",
    "    circuit2 = Circuit([gates[g] for g in result[0][0]], [cumas[i], aras[i]] * 4)\n",
    "    model = gate_wrapper(fluos.index, circuit2, 2)\n",
    "    pd.Series(model[13], index=fluos.index/60, name='cuma={}, ara={}'.format(cumas[i], aras[i])).plot()\n",
    "plt.legend()\n",
    "sns.despine()"
   ]
  },
  {
   "cell_type": "code",
   "execution_count": null,
   "id": "daily-hospital",
   "metadata": {},
   "outputs": [],
   "source": [
    "circuit1 = Circuit([gates[g] for g in selected_gates], [cumas[5], aras[5]] * 4)\n",
    "model = gate_wrapper(fluos.index, circuit1, 2)\n",
    "for i, m in enumerate(model):\n",
    "    if i%2==0:\n",
    "        pd.Series(m, index=fluos.index/60, name=i).plot()\n",
    "plt.legend()\n",
    "sns.despine()"
   ]
  },
  {
   "cell_type": "code",
   "execution_count": null,
   "id": "eight-awareness",
   "metadata": {},
   "outputs": [],
   "source": [
    "circuit2 = Circuit2([gates[g] for g in result[0][0]], [cumas[5], aras[5]] * 4)\n",
    "signal_match(circuit2)"
   ]
  },
  {
   "cell_type": "code",
   "execution_count": null,
   "id": "broad-attitude",
   "metadata": {},
   "outputs": [],
   "source": [
    "circuit2 = Circuit2([gates[g] for g in result[0][0]], [cumas[1], aras[1]] * 4)\n",
    "signal_match(circuit2)"
   ]
  },
  {
   "cell_type": "code",
   "execution_count": null,
   "id": "color-spectacular",
   "metadata": {},
   "outputs": [],
   "source": [
    "cumas_rpu, aras_rpu"
   ]
  },
  {
   "cell_type": "code",
   "execution_count": null,
   "id": "second-fifteen",
   "metadata": {},
   "outputs": [],
   "source": [
    "circuit2 = Circuit2([gates[g] for g in [0, 2, 3, 8, 5, 6, 7]], [cumas_rpu[4], aras_rpu[4]] * 4)\n",
    "signal_match(circuit2)"
   ]
  },
  {
   "cell_type": "code",
   "execution_count": null,
   "id": "skilled-morocco",
   "metadata": {},
   "outputs": [],
   "source": [
    "circuit2 = Circuit2([gates[g] for g in [1, 2, 3, 4, 5, 6, 7]], [cumas_rpu[5], aras_rpu[5]] * 4)\n",
    "signal_match(circuit2)"
   ]
  },
  {
   "cell_type": "code",
   "execution_count": null,
   "id": "double-questionnaire",
   "metadata": {},
   "outputs": [],
   "source": [
    "def initialPopulation(pop_size, num_indiv, length):\n",
    "    population = []\n",
    "    arrangement = np.arange(num_indiv)\n",
    "    for i in range(pop_size):\n",
    "        new_arrangement = [i for i in arrangement]\n",
    "        np.random.shuffle(new_arrangement)\n",
    "        population.append(new_arrangement[:length])\n",
    "    return np.array(population)\n",
    "\n",
    "def calculateFitness(pop):\n",
    "    \n",
    "    f_t = fluos.index\n",
    "    fitness = []\n",
    "    \n",
    "    for i, p in enumerate(pop):\n",
    "        #circuit = Circuit(fluo_selected, od_selected, gate_params_selected, od_params_selected, None, p)\n",
    "        #model = gate_wrapper2(f_t, circuit)\n",
    "        #gfp = pd.Series(model[33], index=f_t/60)\n",
    "        \n",
    "        circuit = Circuit(gates[:7], [cumas[5], aras[5]] * 4)\n",
    "        #model = gate_wrapper(fluos.index, circuit, 2)\n",
    "        #gfp = pd.Series(model[13], index=fluos.index/60)\n",
    "        #fitness.append(gfp.max()-gfp.min())\n",
    "        gfp = signal_match(circuit)\n",
    "        fitness.append(gfp)\n",
    "    return np.array(fitness)\n",
    "\n",
    "def rankIndiv(population):\n",
    "    \n",
    "    fitness = calculateFitness(population)\n",
    "    fitnessResults = [(a, b) for a, b in zip(population, fitness)]\n",
    "    return np.array(sorted(fitnessResults, key=lambda x: x[1], reverse=True))\n",
    "\n",
    "def selection(popRanked, eliteSize):\n",
    "    \n",
    "    selectionResults = []\n",
    "    df = pd.DataFrame(np.array(popRanked), columns=[\"Index\",\"Fitness\"])\n",
    "    df['cum_sum'] = df.Fitness.cumsum()\n",
    "    df['cum_perc'] = 100*df.cum_sum/df.Fitness.sum()\n",
    "    \n",
    "    for i in range(0, eliteSize):\n",
    "        selectionResults.append(popRanked[i][0])\n",
    "    for i in range(0, len(popRanked) - eliteSize):\n",
    "        pick = 100*random.random()\n",
    "        for i in range(0, len(popRanked)):\n",
    "            if pick <= df.iat[i,3]:\n",
    "                selectionResults.append(popRanked[i][0])\n",
    "                break\n",
    "    return selectionResults\n",
    "\n",
    "def matingPool(population, selectionResults):\n",
    "    matingpool = []\n",
    "    for i in range(0, len(selectionResults)):\n",
    "        selected = selectionResults[i]\n",
    "        matingpool.append(selected)\n",
    "    return matingpool\n",
    "\n",
    "def breed(parent1, parent2):\n",
    "    child = []\n",
    "    childP1 = []\n",
    "    childP2 = []\n",
    "    \n",
    "    geneA = int(random.random() * len(parent1))\n",
    "    geneB = int(random.random() * len(parent1))\n",
    "    \n",
    "    startGene = min(geneA, geneB)\n",
    "    endGene = max(geneA, geneB)\n",
    "\n",
    "    for i in range(startGene, endGene):\n",
    "        childP1.append(parent1[i])\n",
    "        \n",
    "    childP2 = [item for item in parent2 if item not in childP1]\n",
    "\n",
    "    child = childP1 + childP2\n",
    "    \n",
    "    return child\n",
    "\n",
    "def breedPopulation(matingpool, eliteSize, length):\n",
    "    \n",
    "    children = []\n",
    "    nonElite = len(matingpool) - eliteSize\n",
    "    pool = random.choices(matingpool, k=len(matingpool))\n",
    "\n",
    "    for i in range(0, eliteSize):\n",
    "        children.append(matingpool[i])\n",
    "    \n",
    "    for i in range(0, nonElite):\n",
    "        child = breed(pool[i], pool[len(matingpool)-i-1])\n",
    "        children.append(child[:length])\n",
    "    \n",
    "    return np.array(children)\n",
    "\n",
    "def mutate(individual, mutationRate):\n",
    "    for swapped in range(len(individual)):\n",
    "        if(random.random() < mutationRate):\n",
    "            swapWith = int(random.random() * len(individual))\n",
    "            \n",
    "            city1 = individual[swapped]\n",
    "            city2 = individual[swapWith]\n",
    "            \n",
    "            individual[swapped] = city2\n",
    "            individual[swapWith] = city1\n",
    "    return individual\n",
    "\n",
    "def mutatePopulation(population, mutationRate):\n",
    "    mutatedPop = []\n",
    "    \n",
    "    for ind in range(0, len(population)):\n",
    "        mutatedInd = mutate(population[ind], mutationRate)\n",
    "        mutatedPop.append(mutatedInd)\n",
    "    return np.array(mutatedPop)\n",
    "\n",
    "def nextGeneration(currentGen, eliteSize, mutationRate, length):\n",
    "    \n",
    "    popRanked = rankIndiv(currentGen)\n",
    "    selectionResults = selection(popRanked, eliteSize)\n",
    "    matingpool = matingPool(currentGen, selectionResults)\n",
    "    children = breedPopulation(matingpool, eliteSize, length)\n",
    "    nextGeneration = mutatePopulation(children, mutationRate)\n",
    "    return nextGeneration\n",
    "\n",
    "def geneticAlgorithm(popSize, eliteSize, mutationRate, generations, candidates, length):\n",
    "    pop = initialPopulation(popSize, candidates, length)\n",
    "    pop_copy = [i for i in pop]\n",
    "    \n",
    "    for i in tqdm(range(0, generations)):\n",
    "        pop = nextGeneration(pop, eliteSize, mutationRate, length)\n",
    "    return pop_copy, rankIndiv(pop)\n",
    "\n",
    "pop_copy, result = geneticAlgorithm(popSize=100, eliteSize=20, mutationRate=0.01, generations=20, candidates=len(gates), length=7)\n",
    "result"
   ]
  },
  {
   "cell_type": "code",
   "execution_count": null,
   "id": "threatened-nicholas",
   "metadata": {},
   "outputs": [],
   "source": [
    "#hill function\n",
    "fig = plt.figure(figsize=(5, 4))\n",
    "for i in range(6):\n",
    "    circuit2 = Circuit([gates[g] for g in [1, 2, 3, 4, 5, 6, 7]], [cumas[i], aras[i]] * 4)\n",
    "    model = gate_wrapper(fluos.index, circuit2, 2)\n",
    "    pd.Series(model[13], index=fluos.index/60, name='cuma={}, ara={}'.format(cumas[i], aras[i])).plot()\n",
    "plt.legend()\n",
    "sns.despine()"
   ]
  },
  {
   "cell_type": "markdown",
   "id": "directed-disabled",
   "metadata": {},
   "source": [
    "### Exhaustive Search"
   ]
  },
  {
   "cell_type": "code",
   "execution_count": null,
   "id": "rapid-circumstances",
   "metadata": {},
   "outputs": [],
   "source": [
    "gate_params_selected = [par['Value'] for par in f_df_deg]\n",
    "all_arr = [list(a) for a in list(itertools.permutations(np.arange(len(gate_params_selected)), 7))]\n",
    "len(all_arr)"
   ]
  },
  {
   "cell_type": "code",
   "execution_count": null,
   "id": "catholic-saturn",
   "metadata": {},
   "outputs": [],
   "source": [
    "gate_params_selected = [par['Value'] for par in f_df_deg]\n",
    "#arr = np.arange(len(gate_params_selected))\n",
    "#np.random.shuffle(arr)\n",
    "#print(arr)\n",
    "f_t = fluo_selected.index\n",
    "\n",
    "results = []\n",
    "for i, arr in enumerate(tqdm(all_arr)):\n",
    "    circuit = Circuit(fluo_selected, od_selected, gate_params_selected, od_params_selected, None, arr)\n",
    "    model = gate_wrapper2(f_t, circuit)\n",
    "    gfp = pd.Series(model[33], index=f_t/60)\n",
    "    dyn = gfp.max() - gfp.min()\n",
    "    results.append((dyn, arr))"
   ]
  },
  {
   "cell_type": "code",
   "execution_count": null,
   "id": "compact-inflation",
   "metadata": {},
   "outputs": [],
   "source": [
    "best_results = sorted(results, reverse=True)[:10]\n",
    "print('Best result', best_results[0][0])\n",
    "for i, res in enumerate(tqdm(best_results)):\n",
    "    circuit = Circuit(fluo_selected, od_selected, gate_params_selected, od_params_selected, None, res[1])\n",
    "    model = gate_wrapper2(f_t, circuit)\n",
    "    gfp = pd.Series(model[33], index=f_t/60)\n",
    "    plt.plot(gfp, label= res[1])\n",
    "plt.legend(bbox_to_anchor=(1.05, 1), ncol=2)\n",
    "sns.despine()\n",
    "plt.show()"
   ]
  },
  {
   "cell_type": "code",
   "execution_count": null,
   "id": "bright-ribbon",
   "metadata": {},
   "outputs": [],
   "source": []
  },
  {
   "cell_type": "code",
   "execution_count": null,
   "id": "stock-cameroon",
   "metadata": {},
   "outputs": [],
   "source": []
  },
  {
   "cell_type": "code",
   "execution_count": null,
   "id": "guided-consolidation",
   "metadata": {},
   "outputs": [],
   "source": []
  },
  {
   "cell_type": "code",
   "execution_count": null,
   "id": "gross-thompson",
   "metadata": {},
   "outputs": [],
   "source": [
    "gate_params_selected = [par['Value'] for par in f_df_deg]\n",
    "ga_arrangement = result[0][0]\n",
    "print(ga_arrangement)\n",
    "\n",
    "f_t = fluo_selected.index\n",
    "for ar in pop_copy[:1]:\n",
    "\n",
    "    circuit = Circuit(fluo_selected, od_selected, gate_params_selected, od_params_selected, None, ga_arrangement)\n",
    "    model = gate_wrapper2(f_t, circuit)\n",
    "    gfp = pd.Series(model[33], index=f_t/60)\n",
    "    print(gfp.max()-gfp.min())\n",
    "    plt.plot(gfp, label=ga_arrangement)\n",
    "plt.legend(bbox_to_anchor=(1.05, 1), ncol=2)\n",
    "sns.despine()\n",
    "plt.show()"
   ]
  },
  {
   "cell_type": "code",
   "execution_count": null,
   "id": "micro-announcement",
   "metadata": {},
   "outputs": [],
   "source": [
    "final_asg = fluo_selected[[fluo_selected.columns[j] for j in ga_arrangement]]\n",
    "num_col = 7\n",
    "num_row = 1\n",
    "f, axs = plt.subplots(num_row, num_col, sharex=True, sharey=True, figsize=(14, num_row*2))\n",
    "axr = axs.ravel()\n",
    "for i, ax in enumerate(axr):\n",
    "    if i < num_traces:\n",
    "        ax.plot(final_asg.index / 60, final_asg.iloc[:, i])\n",
    "        ax.set_title(final_asg.columns[i])\n",
    "        ax.set_xlabel('Time (h)')\n",
    "    else:\n",
    "        ax.set_visible(False)\n",
    "plt.tight_layout()\n",
    "sns.despine()"
   ]
  },
  {
   "cell_type": "code",
   "execution_count": null,
   "id": "interim-split",
   "metadata": {},
   "outputs": [],
   "source": [
    "def geneticAlgorithmPlot(pop_copy, popSize, eliteSize, mutationRate, generations, candidates, length):\n",
    "    pop = [i for i in pop_copy]\n",
    "    progress = []\n",
    "    progress.append(rankIndiv(pop)[0][1])\n",
    "    \n",
    "    for i in tqdm(range(0, generations)):\n",
    "        pop = nextGeneration(pop, eliteSize, mutationRate, length)\n",
    "        progress.append(rankIndiv(pop)[0][1])\n",
    "    return progress\n",
    "    \n",
    "progress = geneticAlgorithmPlot(pop_copy, popSize=100, eliteSize=20, mutationRate=0.01, generations=20, candidates=len(selected), length=7)\n",
    "plt.figure(figsize=[6, 4])\n",
    "plt.plot(progress[:20])\n",
    "plt.ylabel('Dynamic Range')\n",
    "plt.xlabel('Generation')\n",
    "sns.despine()\n",
    "plt.show()"
   ]
  },
  {
   "cell_type": "code",
   "execution_count": null,
   "id": "vertical-poverty",
   "metadata": {},
   "outputs": [],
   "source": []
  },
  {
   "cell_type": "code",
   "execution_count": null,
   "id": "activated-twelve",
   "metadata": {},
   "outputs": [],
   "source": [
    "circuit = Circuit(gates[:7], [cumas[2], aras[2]] * 4)\n",
    "model = gate_wrapper(fluos.index, circuit, 2)\n",
    "gfp = pd.Series(model[13], index=fluos.index/60)"
   ]
  }
 ],
 "metadata": {
  "kernelspec": {
   "display_name": "Python 3 (ipykernel)",
   "language": "python",
   "name": "python3"
  },
  "language_info": {
   "codemirror_mode": {
    "name": "ipython",
    "version": 3
   },
   "file_extension": ".py",
   "mimetype": "text/x-python",
   "name": "python",
   "nbconvert_exporter": "python",
   "pygments_lexer": "ipython3",
   "version": "3.9.6"
  }
 },
 "nbformat": 4,
 "nbformat_minor": 5
}
