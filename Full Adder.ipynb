{
 "cells": [
  {
   "cell_type": "code",
   "execution_count": 30,
   "id": "4f823770",
   "metadata": {},
   "outputs": [],
   "source": [
    "import numpy as np\n",
    "import pandas as pd\n",
    "pd.set_option('display.max_columns', None)\n",
    "pd.set_option('display.max_rows', None)\n",
    "import matplotlib.pyplot as plt\n",
    "import seaborn as sns\n",
    "\n",
    "from scipy.optimize import curve_fit\n",
    "from sklearn.preprocessing import MinMaxScaler\n",
    "from sklearn.model_selection import train_test_split, cross_validate, cross_val_score, KFold\n",
    "from sklearn.ensemble import RandomForestRegressor\n",
    "from sklearn.metrics import r2_score, mean_squared_error, mean_absolute_error\n",
    "import xgboost as xgb\n",
    "\n",
    "import random\n",
    "from tqdm import tqdm\n",
    "\n",
    "import warnings\n",
    "warnings.filterwarnings('ignore')"
   ]
  },
  {
   "cell_type": "code",
   "execution_count": 2,
   "id": "676c615c",
   "metadata": {},
   "outputs": [],
   "source": [
    "def generate_metadata(well, plate_map):\n",
    "    \n",
    "    df = pd.merge(well, plate_map, on='Well', how='left')\n",
    "    return df.dropna()\n",
    "\n",
    "def transpose_data(df, col, timepoint=20):\n",
    "    \n",
    "    df.set_index(col, inplace=True)\n",
    "    df = df.transpose().reset_index(drop=True)\n",
    "    df.index = df.index * timepoint\n",
    "    return df\n",
    "\n",
    "def generate_data(df, name, datapoint=2, num_data=4, start_idx=3, col='name'):\n",
    "    \n",
    "    datas = []\n",
    "    idxs = [start_idx]\n",
    "    for i in range(1, num_data+1):\n",
    "        idxs.append(idxs[i-1] + datapoint)\n",
    "        data = (df.iloc[:, idxs[i-1]:idxs[i]]).astype(float)\n",
    "        data = pd.concat([name, data], axis=1)\n",
    "        data = transpose_data(data, col)\n",
    "        datas.append(data)\n",
    "    return datas\n",
    "\n",
    "def get_blank_corrected(data):\n",
    "    \n",
    "    blank_corrected = data.sub(data[filter(lambda x: x.startswith('blank'), data.columns)].mean(axis=1), axis=0)\n",
    "    return blank_corrected.drop(filter(lambda x: x.startswith('blank'), blank_corrected.columns), axis=1).reset_index(drop=True)\n",
    "\n",
    "def get_neg_ctrl_corrected(fluo, od):\n",
    "    \n",
    "    blank_corr_fluo = get_blank_corrected(fluo)\n",
    "    blank_corr_od = get_blank_corrected(od)\n",
    "    data = blank_corr_fluo / blank_corr_od\n",
    "    neg_corrected = data.sub(data[filter(lambda x: x.startswith('neg'), data.columns)].mean(axis=1), axis=0)\n",
    "    return neg_corrected.drop(filter(lambda x: x.startswith('neg'), neg_corrected.columns), axis=1)"
   ]
  },
  {
   "cell_type": "code",
   "execution_count": 3,
   "id": "23f2851a",
   "metadata": {},
   "outputs": [],
   "source": [
    "def generate_name(df):\n",
    "    \n",
    "    samples = df[df['Content'].str.startswith('Sample')]\n",
    "    neg_ctrl = df[df['Content'].str.startswith('Negative')]\n",
    "    blank = df[df['Content'].str.startswith('Blank')]\n",
    "\n",
    "    samples['row'] = samples['Well'].str[0]\n",
    "    samples['col'] = samples['Well'].str[1:].astype(int)\n",
    "    samples.loc[samples['row'].isin(['A', 'E']), 'cuma'] = 0\n",
    "    samples.loc[samples['row'].isin(['B', 'F']), 'cuma'] = 1 #6.3\n",
    "    samples.loc[samples['row'].isin(['C', 'G']), 'cuma'] = 2 #25\n",
    "    samples.loc[samples['row'].isin(['D', 'H']), 'cuma'] = 3 #100\n",
    "    rhas = [0, 1, 2, 3] #[0, 0.98, 3.9, 15.3]\n",
    "    samples['rha'] = samples['col'].apply(lambda x: rhas[(x-1) % 4])\n",
    "    samples.loc[(samples['row'].isin(['A', 'B', 'C', 'D'])) & (samples['col']<5), 'ara'] = 0\n",
    "    samples.loc[(samples['row'].isin(['A', 'B', 'C', 'D'])) & (samples['col']>=5) & (samples['col']<9), 'ara'] = 1 #3.2\n",
    "    samples.loc[(samples['row'].isin(['A', 'B', 'C', 'D'])) & (samples['col']>=9) & (samples['col']<13), 'ara'] = 2 #13\n",
    "    samples.loc[(samples['row'].isin(['E', 'F', 'G', 'H'])) & (samples['col']<5), 'ara'] = 3 #52\n",
    "    samples.loc[(samples['row'].isin(['E', 'F', 'G', 'H'])) & (samples['col']>=5) & (samples['col']<9), 'ara'] = 4 #208\n",
    "    samples['name'] = 'fa-' + samples['ara'].astype(int).astype(str) + samples['rha'].astype(int).astype(str) + samples['cuma'].astype(int).astype(str)\n",
    "    \n",
    "    neg_ctrl['name'] = list(range(len(neg_ctrl)))\n",
    "    neg_ctrl['name'] = 'neg-' + neg_ctrl['name'].astype(str)\n",
    "    \n",
    "    blank['name'] = list(range(len(blank)))\n",
    "    blank['name'] = 'blank-' + blank['name'].astype(str)\n",
    "    \n",
    "    return pd.concat([samples[['Well', 'name']], neg_ctrl[['Well', 'name']], blank[['Well', 'name']]], axis=0)"
   ]
  },
  {
   "cell_type": "code",
   "execution_count": 4,
   "id": "b2eb5ccd",
   "metadata": {},
   "outputs": [],
   "source": [
    "def read_data(folder, filename):\n",
    "    \n",
    "    raw_data = pd.read_csv('datasets/experiment/{}/{}.csv'.format(folder, filename), skiprows=[0])\n",
    "    metadata = generate_metadata(raw_data['Well'], generate_name(raw_data.iloc[:, :2]))\n",
    "    #data = raw_data[raw_data['Well'].isin(metadata['Well'])].reset_index(drop=True)\n",
    "    #return metadata\n",
    "    return generate_data(raw_data, metadata['name'], datapoint=int((raw_data.shape[1] - 3)/5), num_data=5)\n",
    "\n",
    "def get_data_at(fluos, ods, h=6):\n",
    "    \n",
    "    samples = get_neg_ctrl_corrected(fluos, ods)\n",
    "    #reporter = get_neg_ctrl_corrected(fluos[filter(lambda x: '-amp' in x, fluos.columns)],\n",
    "    #                                  ods[filter(lambda x: '-amp' in x, ods.columns)])\n",
    "    return samples.iloc[int(h * 60/20)]#.apply(lambda x:  x / reporter.iloc[int(h * 60/20)].mean())"
   ]
  },
  {
   "cell_type": "code",
   "execution_count": 5,
   "id": "58f32550",
   "metadata": {},
   "outputs": [],
   "source": [
    "folder = '201-JW-full-adder'\n",
    "filename = 'JW-full-adder'\n",
    "ods, fluos_gfp, fluos_1_gfp, fluos_mc, fluos_1_mc = read_data(folder, filename)\n",
    "gfp = get_data_at(fluos_gfp, ods, h=12).reset_index()\n",
    "mc = get_data_at(fluos_mc, ods, h=12).reset_index()"
   ]
  },
  {
   "cell_type": "code",
   "execution_count": 6,
   "id": "d04d5286",
   "metadata": {},
   "outputs": [],
   "source": [
    "aras = [0, 3.2, 13, 52, 208]\n",
    "rhas = [0, 0.98, 3.9, 15.3]\n",
    "cumas = [0, 6.3, 25, 100]\n",
    "gfp['ara'] = gfp['name'].apply(lambda x: aras[int(x[3])])\n",
    "gfp['rha'] = gfp['name'].apply(lambda x: rhas[int(x[4])])\n",
    "gfp['cuma'] = gfp['name'].apply(lambda x: cumas[int(x[5])])\n",
    "mc['ara'] = mc['name'].apply(lambda x: aras[int(x[3])])\n",
    "mc['rha'] = mc['name'].apply(lambda x: rhas[int(x[4])])\n",
    "mc['cuma'] = mc['name'].apply(lambda x: cumas[int(x[5])])"
   ]
  },
  {
   "cell_type": "code",
   "execution_count": 7,
   "id": "2223934b",
   "metadata": {},
   "outputs": [
    {
     "data": {
      "text/html": [
       "<div>\n",
       "<style scoped>\n",
       "    .dataframe tbody tr th:only-of-type {\n",
       "        vertical-align: middle;\n",
       "    }\n",
       "\n",
       "    .dataframe tbody tr th {\n",
       "        vertical-align: top;\n",
       "    }\n",
       "\n",
       "    .dataframe thead th {\n",
       "        text-align: right;\n",
       "    }\n",
       "</style>\n",
       "<table border=\"1\" class=\"dataframe\">\n",
       "  <thead>\n",
       "    <tr style=\"text-align: right;\">\n",
       "      <th></th>\n",
       "      <th>name</th>\n",
       "      <th>36</th>\n",
       "      <th>ara</th>\n",
       "      <th>rha</th>\n",
       "      <th>cuma</th>\n",
       "    </tr>\n",
       "  </thead>\n",
       "  <tbody>\n",
       "    <tr>\n",
       "      <th>0</th>\n",
       "      <td>fa-000</td>\n",
       "      <td>6358.977394</td>\n",
       "      <td>0.0</td>\n",
       "      <td>0.0</td>\n",
       "      <td>0.0</td>\n",
       "    </tr>\n",
       "    <tr>\n",
       "      <th>36</th>\n",
       "      <td>fa-003</td>\n",
       "      <td>806.802889</td>\n",
       "      <td>0.0</td>\n",
       "      <td>0.0</td>\n",
       "      <td>100.0</td>\n",
       "    </tr>\n",
       "    <tr>\n",
       "      <th>3</th>\n",
       "      <td>fa-030</td>\n",
       "      <td>4658.537720</td>\n",
       "      <td>0.0</td>\n",
       "      <td>15.3</td>\n",
       "      <td>0.0</td>\n",
       "    </tr>\n",
       "    <tr>\n",
       "      <th>39</th>\n",
       "      <td>fa-033</td>\n",
       "      <td>11741.796941</td>\n",
       "      <td>0.0</td>\n",
       "      <td>15.3</td>\n",
       "      <td>100.0</td>\n",
       "    </tr>\n",
       "    <tr>\n",
       "      <th>48</th>\n",
       "      <td>fa-300</td>\n",
       "      <td>4774.434969</td>\n",
       "      <td>52.0</td>\n",
       "      <td>0.0</td>\n",
       "      <td>0.0</td>\n",
       "    </tr>\n",
       "    <tr>\n",
       "      <th>72</th>\n",
       "      <td>fa-303</td>\n",
       "      <td>995.506204</td>\n",
       "      <td>52.0</td>\n",
       "      <td>0.0</td>\n",
       "      <td>100.0</td>\n",
       "    </tr>\n",
       "    <tr>\n",
       "      <th>51</th>\n",
       "      <td>fa-330</td>\n",
       "      <td>15598.207570</td>\n",
       "      <td>52.0</td>\n",
       "      <td>15.3</td>\n",
       "      <td>0.0</td>\n",
       "    </tr>\n",
       "    <tr>\n",
       "      <th>75</th>\n",
       "      <td>fa-333</td>\n",
       "      <td>18636.727233</td>\n",
       "      <td>52.0</td>\n",
       "      <td>15.3</td>\n",
       "      <td>100.0</td>\n",
       "    </tr>\n",
       "  </tbody>\n",
       "</table>\n",
       "</div>"
      ],
      "text/plain": [
       "      name            36   ara   rha   cuma\n",
       "0   fa-000   6358.977394   0.0   0.0    0.0\n",
       "36  fa-003    806.802889   0.0   0.0  100.0\n",
       "3   fa-030   4658.537720   0.0  15.3    0.0\n",
       "39  fa-033  11741.796941   0.0  15.3  100.0\n",
       "48  fa-300   4774.434969  52.0   0.0    0.0\n",
       "72  fa-303    995.506204  52.0   0.0  100.0\n",
       "51  fa-330  15598.207570  52.0  15.3    0.0\n",
       "75  fa-333  18636.727233  52.0  15.3  100.0"
      ]
     },
     "execution_count": 7,
     "metadata": {},
     "output_type": "execute_result"
    }
   ],
   "source": [
    "gfp[gfp['name'].isin(['fa-000', 'fa-003', 'fa-030', 'fa-033', 'fa-300', 'fa-303', 'fa-330', 'fa-333'])].sort_values('name')"
   ]
  },
  {
   "cell_type": "code",
   "execution_count": 8,
   "id": "80a49397",
   "metadata": {},
   "outputs": [
    {
     "data": {
      "text/html": [
       "<div>\n",
       "<style scoped>\n",
       "    .dataframe tbody tr th:only-of-type {\n",
       "        vertical-align: middle;\n",
       "    }\n",
       "\n",
       "    .dataframe tbody tr th {\n",
       "        vertical-align: top;\n",
       "    }\n",
       "\n",
       "    .dataframe thead th {\n",
       "        text-align: right;\n",
       "    }\n",
       "</style>\n",
       "<table border=\"1\" class=\"dataframe\">\n",
       "  <thead>\n",
       "    <tr style=\"text-align: right;\">\n",
       "      <th></th>\n",
       "      <th>name</th>\n",
       "      <th>36</th>\n",
       "      <th>ara</th>\n",
       "      <th>rha</th>\n",
       "      <th>cuma</th>\n",
       "    </tr>\n",
       "  </thead>\n",
       "  <tbody>\n",
       "    <tr>\n",
       "      <th>0</th>\n",
       "      <td>fa-000</td>\n",
       "      <td>325.575170</td>\n",
       "      <td>0.0</td>\n",
       "      <td>0.0</td>\n",
       "      <td>0.0</td>\n",
       "    </tr>\n",
       "    <tr>\n",
       "      <th>3</th>\n",
       "      <td>fa-030</td>\n",
       "      <td>605.613140</td>\n",
       "      <td>0.0</td>\n",
       "      <td>15.3</td>\n",
       "      <td>0.0</td>\n",
       "    </tr>\n",
       "    <tr>\n",
       "      <th>36</th>\n",
       "      <td>fa-003</td>\n",
       "      <td>167.591282</td>\n",
       "      <td>0.0</td>\n",
       "      <td>0.0</td>\n",
       "      <td>100.0</td>\n",
       "    </tr>\n",
       "    <tr>\n",
       "      <th>39</th>\n",
       "      <td>fa-033</td>\n",
       "      <td>1819.616430</td>\n",
       "      <td>0.0</td>\n",
       "      <td>15.3</td>\n",
       "      <td>100.0</td>\n",
       "    </tr>\n",
       "    <tr>\n",
       "      <th>48</th>\n",
       "      <td>fa-300</td>\n",
       "      <td>1771.529274</td>\n",
       "      <td>52.0</td>\n",
       "      <td>0.0</td>\n",
       "      <td>0.0</td>\n",
       "    </tr>\n",
       "    <tr>\n",
       "      <th>51</th>\n",
       "      <td>fa-330</td>\n",
       "      <td>14361.441192</td>\n",
       "      <td>52.0</td>\n",
       "      <td>15.3</td>\n",
       "      <td>0.0</td>\n",
       "    </tr>\n",
       "    <tr>\n",
       "      <th>72</th>\n",
       "      <td>fa-303</td>\n",
       "      <td>2050.265488</td>\n",
       "      <td>52.0</td>\n",
       "      <td>0.0</td>\n",
       "      <td>100.0</td>\n",
       "    </tr>\n",
       "    <tr>\n",
       "      <th>75</th>\n",
       "      <td>fa-333</td>\n",
       "      <td>19912.235169</td>\n",
       "      <td>52.0</td>\n",
       "      <td>15.3</td>\n",
       "      <td>100.0</td>\n",
       "    </tr>\n",
       "  </tbody>\n",
       "</table>\n",
       "</div>"
      ],
      "text/plain": [
       "      name            36   ara   rha   cuma\n",
       "0   fa-000    325.575170   0.0   0.0    0.0\n",
       "3   fa-030    605.613140   0.0  15.3    0.0\n",
       "36  fa-003    167.591282   0.0   0.0  100.0\n",
       "39  fa-033   1819.616430   0.0  15.3  100.0\n",
       "48  fa-300   1771.529274  52.0   0.0    0.0\n",
       "51  fa-330  14361.441192  52.0  15.3    0.0\n",
       "72  fa-303   2050.265488  52.0   0.0  100.0\n",
       "75  fa-333  19912.235169  52.0  15.3  100.0"
      ]
     },
     "execution_count": 8,
     "metadata": {},
     "output_type": "execute_result"
    }
   ],
   "source": [
    "mc[mc['name'].isin(['fa-000', 'fa-003', 'fa-030', 'fa-033', 'fa-300', 'fa-303', 'fa-330', 'fa-333'])]"
   ]
  },
  {
   "cell_type": "code",
   "execution_count": 9,
   "id": "a4e020bd",
   "metadata": {},
   "outputs": [
    {
     "data": {
      "text/plain": [
       "0.905702746024565"
      ]
     },
     "execution_count": 9,
     "metadata": {},
     "output_type": "execute_result"
    }
   ],
   "source": [
    "data = gfp.copy()\n",
    "X = data[['ara', 'rha', 'cuma']]\n",
    "y = data[36]\n",
    "\n",
    "X_train, X_test, y_train, y_test = train_test_split(X, y, test_size=0.2)\n",
    "regr = RandomForestRegressor(random_state=0)\n",
    "regr.fit(X_train, y_train)\n",
    "\n",
    "r2_score(y_test, regr.predict(X_test))"
   ]
  },
  {
   "cell_type": "code",
   "execution_count": 10,
   "id": "37abbcbf",
   "metadata": {},
   "outputs": [
    {
     "data": {
      "text/plain": [
       "array([0.93330841, 0.93365527, 0.9052763 , 0.90284225, 0.7573827 ])"
      ]
     },
     "execution_count": 10,
     "metadata": {},
     "output_type": "execute_result"
    }
   ],
   "source": [
    "regr = RandomForestRegressor()\n",
    "cross_val_score(regr, X, y, scoring='r2', cv=KFold(shuffle=True))"
   ]
  },
  {
   "cell_type": "code",
   "execution_count": 11,
   "id": "6b5d99c8",
   "metadata": {},
   "outputs": [
    {
     "data": {
      "text/plain": [
       "0.9693391583223072"
      ]
     },
     "execution_count": 11,
     "metadata": {},
     "output_type": "execute_result"
    }
   ],
   "source": [
    "data = mc.copy()\n",
    "X = data[['ara', 'rha', 'cuma']]\n",
    "y = data[36]\n",
    "\n",
    "X_train, X_test, y_train, y_test = train_test_split(X, y, test_size=0.2)\n",
    "regr = RandomForestRegressor(random_state=0)\n",
    "regr.fit(X_train, y_train)\n",
    "\n",
    "r2_score(y_test, regr.predict(X_test))"
   ]
  },
  {
   "cell_type": "code",
   "execution_count": 12,
   "id": "5b942ef1",
   "metadata": {},
   "outputs": [
    {
     "data": {
      "text/plain": [
       "array([0.98096663, 0.9293342 , 0.93628242, 0.91201761, 0.91993689])"
      ]
     },
     "execution_count": 12,
     "metadata": {},
     "output_type": "execute_result"
    }
   ],
   "source": [
    "regr = RandomForestRegressor(random_state=0)\n",
    "cross_val_score(regr, X, y, scoring='r2', cv=KFold(shuffle=True))"
   ]
  },
  {
   "cell_type": "code",
   "execution_count": 13,
   "id": "e90a6907",
   "metadata": {},
   "outputs": [
    {
     "data": {
      "text/plain": [
       "array([0.94525248, 0.976216  , 0.9588079 , 0.95936427, 0.90344259])"
      ]
     },
     "execution_count": 13,
     "metadata": {},
     "output_type": "execute_result"
    }
   ],
   "source": [
    "regr = xgb.XGBRegressor(random_state=0)\n",
    "cross_val_score(regr, X, y, scoring='r2', cv=KFold(shuffle=True))"
   ]
  },
  {
   "cell_type": "code",
   "execution_count": 16,
   "id": "cefca6da",
   "metadata": {},
   "outputs": [
    {
     "data": {
      "text/plain": [
       "RandomForestRegressor()"
      ]
     },
     "execution_count": 16,
     "metadata": {},
     "output_type": "execute_result"
    }
   ],
   "source": [
    "data = gfp.copy()\n",
    "X = data[['ara', 'rha', 'cuma']]\n",
    "y = data[36]\n",
    "gfp_regr = RandomForestRegressor()\n",
    "gfp_regr.fit(X, y)"
   ]
  },
  {
   "cell_type": "code",
   "execution_count": 17,
   "id": "1ac7ff12",
   "metadata": {},
   "outputs": [
    {
     "data": {
      "text/plain": [
       "RandomForestRegressor()"
      ]
     },
     "execution_count": 17,
     "metadata": {},
     "output_type": "execute_result"
    }
   ],
   "source": [
    "data = mc.copy()\n",
    "X = data[['ara', 'rha', 'cuma']]\n",
    "y = data[36]\n",
    "mc_regr = RandomForestRegressor()\n",
    "mc_regr.fit(X, y)"
   ]
  },
  {
   "cell_type": "code",
   "execution_count": null,
   "id": "8326c40f",
   "metadata": {},
   "outputs": [],
   "source": [
    "min_max = (gfp[36].min(), gfp[36].max())\n",
    "min_max"
   ]
  },
  {
   "cell_type": "code",
   "execution_count": null,
   "id": "ba1e22fc",
   "metadata": {},
   "outputs": [],
   "source": [
    "on_states = [1, 2, 4, 7] #specific for full adder, numbers represent index where output is on\n",
    "expected = [min_max[1] if i in on_states else min_max[0] for i in range(2**3)]\n",
    "expected"
   ]
  },
  {
   "cell_type": "code",
   "execution_count": null,
   "id": "68e40cc4",
   "metadata": {},
   "outputs": [],
   "source": [
    "0 0 0 = 0 0\n",
    "0 0 1 = 0 1\n",
    "0 1 0 = 0 1\n",
    "0 1 1 = 1 0\n",
    "1 0 0 = 0 1\n",
    "1 0 1 = 1 0\n",
    "1 1 0 = 1 0\n",
    "1 1 1 = 1 1"
   ]
  },
  {
   "cell_type": "code",
   "execution_count": 31,
   "id": "ce41bf8d",
   "metadata": {},
   "outputs": [],
   "source": [
    "class GeneticAlgorithm:\n",
    "\n",
    "    def __init__(self, gfp_model, mc_model, induction_lim, min_max, population_size=100, generations=30, mutation_rate=0.02, elite_size=0.1):\n",
    "        \n",
    "        self.gfp_model = gfp_model\n",
    "        self.mc_model = mc_model\n",
    "        self.induction_lim = induction_lim\n",
    "        self.num_inputs = len(induction_lim)\n",
    "        self.num_selection = len(induction_lim) - 1\n",
    "        self.population_size = population_size\n",
    "        self.generations = generations\n",
    "        self.mutation_rate = mutation_rate\n",
    "        self.num_elite = int(elite_size * population_size)\n",
    "        \n",
    "        self.input_states = [format(x, '0{}b'.format(self.num_inputs)) for x in list(range(2**self.num_inputs))]\n",
    "        self.on_states = [[1, 2, 4, 7], [3, 5, 6, 7]] #specific for full adder, numbers represent index where output is on\n",
    "        self.expected = [min_max[0][1] if i in self.on_states else min_max[0][0] for i in range(2**self.num_inputs)] + [min_max[1][1] if i in self.on_states else min_max[1][0] for i in range(2**self.num_inputs)]\n",
    "        \n",
    "        self.best_populations = []\n",
    "       \n",
    "    def create_population(self):\n",
    "        \n",
    "        return [[np.random.uniform(ind[0], ind[1]) for ind in self.induction_lim]\n",
    "                for _ in range(self.population_size)] #repeated arrangement is allowed\n",
    "\n",
    "    def calculate_fitness(self, population):\n",
    "        \n",
    "        new_population = []\n",
    "        for indiv in population:\n",
    "            \n",
    "            induction_lvl = []\n",
    "            for input_state in self.input_states:\n",
    "                induction_lvl.append([inducer*int(j) for inducer, j in zip(indiv, input_state)])  \n",
    "            new_population.append(induction_lvl)\n",
    "        \n",
    "        fitness = []\n",
    "        for pop in new_population:\n",
    "            \n",
    "            gfp_output = self.gfp_model.predict(pop)\n",
    "            mc_output = self.mc_model.predict(pop)\n",
    "            \n",
    "            mse = mean_absolute_error(self.expected, np.append(gfp_output, mc_output))\n",
    "            fitness.append(mse)\n",
    "            \n",
    "            #min_on = np.min([output[i] for i in list(range(len(self.input_states))) if i in self.on_states])\n",
    "            #max_off = np.max([output[i] for i in list(range(len(self.input_states))) if i not in self.on_states])\n",
    "            #dyn_range = min_on/max_off\n",
    "            #fitness.append(dyn_range)\n",
    "\n",
    "        return fitness\n",
    "\n",
    "    def rank_population(self, population):\n",
    "\n",
    "        fitness = self.calculate_fitness(population)\n",
    "        return sorted([(a, b) for a, b in zip(population, fitness)], key=lambda x: x[1])#, reverse=True)\n",
    "    \n",
    "    def selection(self, sorted_pop):\n",
    "\n",
    "        #might need to define another selection method later\n",
    "        selected_pop = []\n",
    "        df = pd.DataFrame(sorted_pop, columns=['index', 'fitness'])\n",
    "        df['cum_sum'] = df['fitness'].cumsum()\n",
    "        df['cum_perc'] = 100 * df['cum_sum'] / df['fitness'].sum()\n",
    "\n",
    "        for i in range(self.num_elite): #ellitists\n",
    "            selected_pop.append(sorted_pop[i][0])\n",
    "\n",
    "        for i in range(len(sorted_pop) - self.num_elite): #remainings\n",
    "            pick = 100 * random.random()\n",
    "            for i in range(len(sorted_pop)):\n",
    "                if pick <= df.iat[i, 3]:\n",
    "                    selected_pop.append(sorted_pop[i][0])\n",
    "                    break\n",
    "\n",
    "        return selected_pop\n",
    "    \n",
    "    def mating_pool(self, population):\n",
    "    \n",
    "        return [selected for selected in population] #might need some fixing?\n",
    "    \n",
    "    def crossover(self, parent1, parent2):\n",
    "        \n",
    "        midpoint = random.randint(0, len(parent1))\n",
    "        child_p1 = parent1[:midpoint]    \n",
    "        child_p2 = parent1[midpoint:] \n",
    "        child = child_p1 + child_p2\n",
    "        \n",
    "        return child\n",
    "    \n",
    "    def original_crossover(self, parent1, parent2):\n",
    "    \n",
    "        child_p1 = []\n",
    "        child_p2 = []\n",
    "        gene_A = int(random.random() * len(parent1))\n",
    "        gene_B = int(random.random() * len(parent1))\n",
    "        \n",
    "        start_gene = min(gene_A, gene_B)\n",
    "        end_gene = max(gene_A, gene_B)\n",
    "        child_p1 = [parent1[i] for i in range(start_gene, end_gene)]    \n",
    "        child_p2 = [item for item in parent2 if item not in child_p1]\n",
    "        child = child_p1 + child_p2\n",
    "        \n",
    "        return child\n",
    "\n",
    "    def crossover_population(self, mating_pop):\n",
    "\n",
    "        children = []\n",
    "        non_elite = len(mating_pop) - self.num_elite\n",
    "        pool = random.choices(mating_pop, k=len(mating_pop))\n",
    "        \n",
    "        for i in range(self.num_elite):\n",
    "            children.append(mating_pop[i])\n",
    "\n",
    "        for i in range(non_elite):\n",
    "            child = self.crossover(pool[i], pool[len(mating_pop)-i-1])\n",
    "            children.append(child[:self.num_inputs])\n",
    "        \n",
    "        return children\n",
    "    \n",
    "    def mutate(self, individual):\n",
    "\n",
    "        for swapped in range(len(individual)):\n",
    "            if(random.random() < self.mutation_rate):\n",
    "                mutant = int(random.random() * len(individual))\n",
    "                individual[mutant] = np.random.uniform(self.induction_lim[mutant][0], self.induction_lim[mutant][1])\n",
    "        return individual\n",
    "\n",
    "    def original_mutate(self, individual):\n",
    "\n",
    "        for swapped in range(len(individual)):\n",
    "            if(random.random() < self.mutation_rate):\n",
    "                swapwith = int(random.random() * len(individual))\n",
    "                temp = individual[swapped]\n",
    "                individual[swapped] = individual[swapwith]\n",
    "                individual[swapwith] = temp\n",
    "        return individual\n",
    "\n",
    "    def mutate_population(self, population):\n",
    "    \n",
    "        return [self.mutate(indiv) for indiv in population]\n",
    "    \n",
    "    def next_generation(self, current_pop):\n",
    "    \n",
    "        ranked_pop = self.rank_population(current_pop)\n",
    "        selected_pop = self.selection(ranked_pop)\n",
    "        mating_pop = self.mating_pool(selected_pop)\n",
    "        children = self.crossover_population(mating_pop)\n",
    "        next_pop = self.mutate_population(children)\n",
    "        \n",
    "        return next_pop\n",
    "    \n",
    "    def best_individuals(self, num_indiv=1):\n",
    "        \n",
    "        return self.best_populations[:num_indiv]\n",
    "\n",
    "    def run(self):\n",
    "\n",
    "        pop = self.create_population()\n",
    "        #init_pop = pop.copy()\n",
    "        for i in tqdm(range(self.generations)):\n",
    "            #print('***', pop)\n",
    "            pop = self.next_generation(pop)\n",
    "        \n",
    "        self.best_populations = self.rank_population(pop)"
   ]
  },
  {
   "cell_type": "code",
   "execution_count": 27,
   "id": "c258bdb6",
   "metadata": {},
   "outputs": [
    {
     "name": "stderr",
     "output_type": "stream",
     "text": [
      "100%|███████████████████████████████████████████| 20/20 [03:38<00:00, 10.95s/it]\n"
     ]
    },
    {
     "data": {
      "text/plain": [
       "[([138.91984622723757, 0.3673015384555395, 95.71137389921567],\n",
       "  5507141.239402443),\n",
       " ([206.17975944810473, 0.364471048714964, 80.69881345207644],\n",
       "  5507141.239402443),\n",
       " ([205.63581142901924, 0.42487241317288965, 88.2159739364093],\n",
       "  5507141.239402443)]"
      ]
     },
     "execution_count": 27,
     "metadata": {},
     "output_type": "execute_result"
    }
   ],
   "source": [
    "ga = GeneticAlgorithm(gfp_regr, mc_regr, [(0, 208), (0, 15.3), (0, 100)], [(gfp[36].min(), gfp[36].max()), (mc[36].min(), mc[36].max())],\n",
    "                      population_size=1000, generations=100)\n",
    "ga.run()\n",
    "best3 = ga.best_individuals(3)\n",
    "best3"
   ]
  },
  {
   "cell_type": "code",
   "execution_count": 32,
   "id": "ed9f1527",
   "metadata": {},
   "outputs": [
    {
     "name": "stderr",
     "output_type": "stream",
     "text": [
      "100%|█████████████████████████████████████████| 100/100 [49:20<00:00, 29.60s/it]\n"
     ]
    },
    {
     "data": {
      "text/plain": [
       "[([0.9434956838863044, 0.43555708822073586, 54.69169866668617],\n",
       "  1437.0954843247005),\n",
       " ([0.9434956838863044, 0.43555708822073586, 54.69169866668617],\n",
       "  1437.0954843247005),\n",
       " ([0.9434956838863044, 0.43555708822073586, 58.04229986749293],\n",
       "  1437.0954843247005)]"
      ]
     },
     "execution_count": 32,
     "metadata": {},
     "output_type": "execute_result"
    }
   ],
   "source": [
    "ga = GeneticAlgorithm(gfp_regr, mc_regr, [(0, 208), (0, 15.3), (0, 100)], [(gfp[36].min(), gfp[36].max()), (mc[36].min(), mc[36].max())],\n",
    "                      population_size=1000, generations=100)\n",
    "ga.run()\n",
    "best3 = ga.best_individuals(3)\n",
    "best3"
   ]
  },
  {
   "cell_type": "code",
   "execution_count": null,
   "id": "9bf976b1",
   "metadata": {},
   "outputs": [],
   "source": [
    "inducer_concentration = [a*b for a, b in zip([0.0019222194245691604, 0.026859976759736837, 0.0008085142800648981], [208, 15.3, 100])]\n",
    "inducer_concentration"
   ]
  },
  {
   "cell_type": "code",
   "execution_count": null,
   "id": "b053704c",
   "metadata": {},
   "outputs": [],
   "source": []
  },
  {
   "cell_type": "code",
   "execution_count": null,
   "id": "5adff852",
   "metadata": {},
   "outputs": [],
   "source": [
    "pops = [50, 100, 200, 500]\n",
    "gens = [10, 50, 100]\n",
    "muts = [0.02, 0.1, 0.2]\n",
    "elis = [0.1]\n",
    "\n",
    "results = []\n",
    "for p in tqdm(pops):\n",
    "    for g in gens:\n",
    "        for m in muts:\n",
    "            for e in elis:\n",
    "                ga = GeneticAlgorithm(regr, [(0, 208), (0, 15.3), (0, 100)],\n",
    "                                  population_size=p,\n",
    "                                  generations=g,\n",
    "                                  mutation_rate=m,\n",
    "                                  elite_size=e\n",
    "                                 )\n",
    "            ga.run()\n",
    "            best_fit = ga.best_individuals(1)[0][1]\n",
    "            config = p, g, m\n",
    "            results.append((config, best_fit))"
   ]
  },
  {
   "cell_type": "code",
   "execution_count": null,
   "id": "bbc76c2d",
   "metadata": {},
   "outputs": [],
   "source": [
    "gfp[gfp['name'].isin(['fa-000', 'fa-003', 'fa-030', 'fa-033', 'fa-300', 'fa-303', 'fa-330', 'fa-333'])].sort_values('name')"
   ]
  },
  {
   "cell_type": "code",
   "execution_count": null,
   "id": "7b574301",
   "metadata": {},
   "outputs": [],
   "source": [
    "input_states = [format(x, '0{}b'.format(3)) for x in list(range(2**3))]\n",
    "on_states = [1, 2, 4, 7] #specific for full adder, numbers represent index where output is on\n",
    "        \n",
    "output = [ 5892.64718776,   812.40091677,  5216.42005874, 12565.07218765,\n",
    "        4088.03037565,   588.16901041, 16361.27162125, 18766.8513641 ]\n",
    "min_on = np.min([output[i] for i in list(range(len(input_states))) if i in on_states])\n",
    "max_off = np.max([output[i] for i in list(range(len(input_states))) if i not in on_states])\n",
    "dyn_range = min_on/max_off\n",
    "dyn_range"
   ]
  },
  {
   "cell_type": "code",
   "execution_count": 28,
   "id": "5f25cc87",
   "metadata": {},
   "outputs": [
    {
     "data": {
      "text/plain": [
       "array([5601.90491859,  819.13885027, 5601.90491859,  819.13885027,\n",
       "       3964.61134277,  571.50910455, 3964.61134277,  571.50910455])"
      ]
     },
     "execution_count": 28,
     "metadata": {},
     "output_type": "execute_result"
    }
   ],
   "source": [
    "input_states = [format(x, '0{}b'.format(3)) for x in list(range(2**3))]\n",
    "indiv = [138.91984622723757, 0.3673015384555395, 95.71137389921567]\n",
    "induction_lvl = []\n",
    "for input_state in input_states:\n",
    "    induction_lvl.append([inducer*int(j) for inducer, j in zip(indiv, input_state)]) \n",
    "gfp_regr.predict(induction_lvl)"
   ]
  },
  {
   "cell_type": "code",
   "execution_count": 29,
   "id": "c841b1ae",
   "metadata": {},
   "outputs": [
    {
     "data": {
      "text/plain": [
       "array([ 284.27561859,  243.37048078,  284.27561859,  243.37048078,\n",
       "       1581.00353272, 1625.88181388, 1581.00353272, 1625.88181388])"
      ]
     },
     "execution_count": 29,
     "metadata": {},
     "output_type": "execute_result"
    }
   ],
   "source": [
    "mc_regr.predict(induction_lvl)"
   ]
  },
  {
   "cell_type": "code",
   "execution_count": 33,
   "id": "b7640766",
   "metadata": {},
   "outputs": [
    {
     "data": {
      "text/plain": [
       "array([5601.90491859,  711.64493165, 5601.90491859,  711.64493165,\n",
       "       5601.90491859,  711.64493165, 5601.90491859,  711.64493165])"
      ]
     },
     "execution_count": 33,
     "metadata": {},
     "output_type": "execute_result"
    }
   ],
   "source": [
    "input_states = [format(x, '0{}b'.format(3)) for x in list(range(2**3))]\n",
    "indiv = [0.9434956838863044, 0.43555708822073586, 54.69169866668617]\n",
    "induction_lvl = []\n",
    "for input_state in input_states:\n",
    "    induction_lvl.append([inducer*int(j) for inducer, j in zip(indiv, input_state)]) \n",
    "gfp_regr.predict(induction_lvl)"
   ]
  },
  {
   "cell_type": "code",
   "execution_count": 34,
   "id": "5795b494",
   "metadata": {},
   "outputs": [
    {
     "data": {
      "text/plain": [
       "array([284.27561859, 291.93462896, 284.27561859, 291.93462896,\n",
       "       284.27561859, 291.93462896, 284.27561859, 291.93462896])"
      ]
     },
     "execution_count": 34,
     "metadata": {},
     "output_type": "execute_result"
    }
   ],
   "source": [
    "mc_regr.predict(induction_lvl)"
   ]
  },
  {
   "cell_type": "code",
   "execution_count": null,
   "id": "e6ea1e72",
   "metadata": {},
   "outputs": [],
   "source": [
    "input_states = [format(x, '0{}b'.format(3)) for x in list(range(2**3))]\n",
    "indiv = [208, 15.3, 100]\n",
    "induction_lvl = []\n",
    "for input_state in input_states:\n",
    "    induction_lvl.append([inducer*int(j) for inducer, j in zip(indiv, input_state)]) \n",
    "regr.predict(induction_lvl)"
   ]
  },
  {
   "cell_type": "code",
   "execution_count": null,
   "id": "a74394b7",
   "metadata": {},
   "outputs": [],
   "source": [
    "regr.predict([[208, 15.3, 100]])"
   ]
  },
  {
   "cell_type": "code",
   "execution_count": null,
   "id": "7f82cfe6",
   "metadata": {},
   "outputs": [],
   "source": [
    "plt.barh(['A', 'R', 'C'], regr.feature_importances_)"
   ]
  },
  {
   "cell_type": "code",
   "execution_count": null,
   "id": "86d7566f",
   "metadata": {},
   "outputs": [],
   "source": []
  }
 ],
 "metadata": {
  "kernelspec": {
   "display_name": "Python 3 (ipykernel)",
   "language": "python",
   "name": "python3"
  },
  "language_info": {
   "codemirror_mode": {
    "name": "ipython",
    "version": 3
   },
   "file_extension": ".py",
   "mimetype": "text/x-python",
   "name": "python",
   "nbconvert_exporter": "python",
   "pygments_lexer": "ipython3",
   "version": "3.8.9"
  }
 },
 "nbformat": 4,
 "nbformat_minor": 5
}
