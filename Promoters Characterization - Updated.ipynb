{
 "cells": [
  {
   "cell_type": "code",
   "execution_count": 45,
   "id": "sought-cancellation",
   "metadata": {},
   "outputs": [],
   "source": [
    "import pandas as pd\n",
    "pd.set_option('display.max_columns', None)\n",
    "pd.set_option('display.max_rows', None)\n",
    "import numpy as np\n",
    "import matplotlib.pyplot as plt\n",
    "import seaborn as sns\n",
    "from tqdm import tqdm\n",
    "import warnings\n",
    "warnings.filterwarnings(\"ignore\")\n",
    "\n",
    "from scipy.optimize import curve_fit\n",
    "from sklearn.metrics import r2_score\n",
    "\n",
    "from utils.model import hill_activation, hill_activation_and, random_search\n",
    "from utils.helper import setup_header, read_map, read_dict, generate_data, \\\n",
    "                         get_blank_corrected, get_neg_ctrl_corrected, get_pos_ctrl_corrected\n",
    "from utils.plotter import plot_heatmap"
   ]
  },
  {
   "cell_type": "code",
   "execution_count": 2,
   "id": "b19211fa",
   "metadata": {},
   "outputs": [],
   "source": [
    "folder = '100-promoters-characterization'\n",
    "dictionary = {\n",
    "    'P62': 'PBAD-rJ/Ara',\n",
    "    'P63': 'AraC-pBAD-rJ/Ara',\n",
    "    'P64': 'PCin-rJ/OHC14',\n",
    "    'P65': 'PCymRC-rJ/Cuma',\n",
    "    'P66': 'CymRC-PCymRC-rJ/Cuma',\n",
    "    'P67': 'PLux2-rJ/AHL',\n",
    "    'P68': 'PLuxB-rJ/AHL',\n",
    "    'P69': 'PPhlF-rJ/DAPG',\n",
    "    'P70': 'PSalTTC-rJ/Sal',\n",
    "    'P71': 'PVanCC-rJ/Van',\n",
    "    'P72': 'RhaS-PRhaB-rJ/Rha',\n",
    "    'P73': 'AraC-PBAD/Ara',\n",
    "    'P66.1': 'CymRC-PCymRC-rJ.1/Cuma',\n",
    "    'P86': 'PBetI-rJ/Cho',\n",
    "    'P87': 'PTac-rJ/IPTG',\n",
    "    'P88': 'PTet-rJ/aTc',\n",
    "    'P89': 'PTtg-rJ/Nar',\n",
    "    'BK': 'blank-kan',\n",
    "    'BA': 'blank-amp',\n",
    "    '3K3-N': 'negative-control-kan',\n",
    "    '4A3-N': 'negative-control-amp',\n",
    "    '4A3-P': 'positive-control-amp'\n",
    "}"
   ]
  },
  {
   "cell_type": "code",
   "execution_count": 3,
   "id": "9d09d124",
   "metadata": {},
   "outputs": [],
   "source": [
    "def generate_samples_at_t(folder, filename='raw', plate_map='plate_map', dictionary=None, kind='3-input on-off', fluo_idx=3, rpu=True, h=8, single_measurement=False):\n",
    "    \n",
    "    raw_data = setup_header(pd.read_csv('datasets/experiment/{}/{}.csv'.format(folder, filename)))\n",
    "    sample_map = read_map(pd.read_csv('datasets/experiment/{}/{}.csv'.format(folder, plate_map)), dictionary)\n",
    "    \n",
    "    group = 'A'\n",
    "    contents = ['Sample', 'Blank', 'Negative control']\n",
    "    all_datas = []\n",
    "    for content in contents:\n",
    "        datas = generate_data(raw_data[(raw_data['Group']==group) & (raw_data['Content'].str.startswith(content))],\n",
    "                              sample_map, content, kind=kind)\n",
    "        all_datas.append(datas)\n",
    "    \n",
    "    group = 'B'\n",
    "    contents = ['Positive control', 'Blank', 'Negative control']\n",
    "    all_ctrls = []\n",
    "    for content in contents:\n",
    "        datas = generate_data(raw_data[(raw_data['Group']==group) & (raw_data['Content'].str.startswith(content))],\n",
    "                              sample_map, content, kind=kind)\n",
    "        all_ctrls.append(datas)\n",
    "    \n",
    "    od_idx = 0\n",
    "    timepoint = 3 * h\n",
    "    if rpu:\n",
    "        samples = get_pos_ctrl_corrected([all_datas[0][fluo_idx], all_datas[1][fluo_idx], all_datas[2][fluo_idx],\n",
    "                                          all_datas[0][od_idx], all_datas[1][od_idx], all_datas[2][od_idx]],\n",
    "                                         [all_ctrls[0][fluo_idx], all_ctrls[1][fluo_idx], all_ctrls[2][fluo_idx],\n",
    "                                          all_ctrls[0][od_idx], all_ctrls[1][od_idx], all_ctrls[2][od_idx]])\n",
    "    else:\n",
    "        samples = get_neg_ctrl_corrected([all_datas[0][fluo_idx], all_datas[1][fluo_idx], all_datas[2][fluo_idx],\n",
    "                                          all_datas[0][od_idx], all_datas[1][od_idx], all_datas[2][od_idx]])\n",
    "    if not single_measurement:\n",
    "        samples_t = samples.iloc[timepoint]\n",
    "    else:\n",
    "        samples_t = samples.mean()\n",
    "        \n",
    "    return samples_t"
   ]
  },
  {
   "cell_type": "code",
   "execution_count": 4,
   "id": "5c925697",
   "metadata": {},
   "outputs": [],
   "source": [
    "filename = '006-promoters-characterization-01'\n",
    "map_name = '006-plate_map'\n",
    "promoters = ['PBAD-rJ/Ara', 'PCin-rJ/OHC14', 'CymRC-PCymRC-rJ/Cuma',\n",
    "             'PLuxB-rJ/AHL', 'PPhlF-rJ/DAPG', 'PSalTTC-rJ/Sal', 'RhaS-PRhaB-rJ/Rha']\n",
    "induction_lvl = 11\n",
    "max_inducers = [416, 160, 800, 20, 50, 1600, 15300] #ara, ohc14, cuma, ahl, dapg, sal, rha\n",
    "inducers = []\n",
    "dil = 2\n",
    "for x, mi in enumerate(max_inducers):\n",
    "    inducer = ([mi] + [mi/i for i in [dil**j for j in range(1, induction_lvl+1)]])\n",
    "    inducer.reverse()\n",
    "    inducers.append(inducer)"
   ]
  },
  {
   "cell_type": "code",
   "execution_count": 5,
   "id": "87f14777",
   "metadata": {},
   "outputs": [],
   "source": [
    "prom_06 = generate_samples_at_t(folder, filename=filename,\n",
    "                                  plate_map=map_name, dictionary=dictionary,\n",
    "                                  kind='1-input response function')"
   ]
  },
  {
   "cell_type": "code",
   "execution_count": 6,
   "id": "384f2cb6",
   "metadata": {},
   "outputs": [],
   "source": [
    "filename = '008-promoters-characterization-02'\n",
    "map_name = '006-plate_map' #same plate map with experiment 006\n",
    "\n",
    "promoters = ['PBAD-rJ/Ara', 'PCin-rJ/OHC14', 'CymRC-PCymRC-rJ/Cuma',\n",
    "             'PLuxB-rJ/AHL', 'PPhlF-rJ/DAPG', 'PSalTTC-rJ/Sal', 'RhaS-PRhaB-rJ/Rha']\n",
    "induction_lvl = 11\n",
    "max_inducers = [416, 160, 800, 20, 50, 1600, 15300] #ara, ohc14, cuma, ahl, dapg, sal, rha\n",
    "inducers = []\n",
    "dil = 2\n",
    "for x, mi in enumerate(max_inducers):\n",
    "    inducer = ([mi] + [mi/i for i in [dil**j for j in range(1, induction_lvl)]] + [0])\n",
    "    inducer.reverse()\n",
    "    inducers.append(inducer)"
   ]
  },
  {
   "cell_type": "code",
   "execution_count": 7,
   "id": "bbd22040",
   "metadata": {},
   "outputs": [],
   "source": [
    "prom_08 = generate_samples_at_t(folder, filename=filename,\n",
    "                                  plate_map=map_name, dictionary=dictionary,\n",
    "                                  kind='1-input response function')"
   ]
  },
  {
   "cell_type": "code",
   "execution_count": 19,
   "id": "41f63b0f",
   "metadata": {},
   "outputs": [],
   "source": [
    "prom_0608 = pd.concat([prom_06, prom_08], axis=1)\n",
    "prom_0608['mean'] = prom_0608.iloc[:, :2].mean(axis=1)\n",
    "prom_0608['std'] = prom_0608.iloc[:, :2].std(axis=1)"
   ]
  },
  {
   "cell_type": "code",
   "execution_count": 32,
   "id": "ca4024e8",
   "metadata": {},
   "outputs": [],
   "source": [
    "def plot_responses(data, promoters, inducers, row=2, col=2, xlabel='RPU', ylabel='RPU'):\n",
    "    \n",
    "    f, axs = plt.subplots(row, col, sharex=False, sharey=False, figsize=(col*6, row*2))\n",
    "    axr = axs.ravel()\n",
    "    for i, ax in enumerate(axr):\n",
    "        if i < len(promoters):\n",
    "            y = data[data.index.str.startswith(promoters[i])]['mean']\n",
    "            err = data[data.index.str.startswith(promoters[i])]['std']\n",
    "            ax.errorbar(inducers[i], y, err, marker='o', linestyle='')\n",
    "            ax.set_xlabel(xlabel)\n",
    "            ax.set_ylabel(ylabel)\n",
    "            ax.loglog()\n",
    "            ax.set_title(promoters[i])\n",
    "        else:\n",
    "            ax.set_visible(False)\n",
    "    plt.tight_layout()\n",
    "    sns.despine()"
   ]
  },
  {
   "cell_type": "code",
   "execution_count": 33,
   "id": "601e1eb7",
   "metadata": {},
   "outputs": [
    {
     "data": {
      "image/png": "[encoded data removed]",
      "text/plain": [
       "<Figure size 1296x432 with 9 Axes>"
      ]
     },
     "metadata": {
      "needs_background": "light"
     },
     "output_type": "display_data"
    }
   ],
   "source": [
    "plot_responses(prom_0608, promoters, inducers, row=3, col=3)"
   ]
  },
  {
   "cell_type": "code",
   "execution_count": 47,
   "id": "7fffb4a0",
   "metadata": {},
   "outputs": [],
   "source": [
    "ohcs = [(0.15625/4), 0.15625, 0.3125, 0.625, 1.25, 2.5, 5, 10, 20, 40, 80, 160]\n",
    "cumas = [(0.78125/4), 0.78125, 1.5625, 3.125, 6.25, 12.5, 25, 50, 100, 200, 400, 800]\n",
    "dapgs = [(0.048828125/4), 0.048828125, 0.09765625, 0.1953125, 0.390625, 0.78125, 1.5625, 3.125, 6.25, 12.5, 25, 50]\n",
    "sals = [(1.5625/4), 1.5625, 3.125, 6.25, 12.5, 25, 50, 100, 200, 400, 800, 1600]\n",
    "ahls = [(3.81e-5/8), 3.81e-5, 1.53e-4, 6.1e-4, 2.44e-3, 9.77e-3, 3.91e-2, 0.156, 0.625, 2.5, 10, 40]\n",
    "aras_cp = [(4.95911e-05/8), 4.95911e-05, 0.000198364, 0.000793457, 0.003173828, 0.012695313, 0.05078125, 0.203125, 0.8125, 3.25, 13, 52]\n",
    "rhas_cp = [(0.014591217/8), 0.014591217, 0.058364868, 0.233459473, 0.933837891, 3.735351563, 14.94140625, 59.765625, 239.0625, 956.25, 3825, 15300]\n",
    "inducers = [ohcs, cumas, dapgs, sals, ahls, aras_cp, rhas_cp]\n",
    "\n",
    "df_ind = pd.DataFrame(inducers).T\n",
    "df_ind.columns = ['pCin/OHC14', 'pCymRC/Cuma', 'pPhlF/DAPG', 'pSalTTC/Sal', 'pLuxB/AHL', 'pBAD/Ara', 'pRhaB/Rha']"
   ]
  },
  {
   "cell_type": "code",
   "execution_count": 48,
   "id": "c2fb5253",
   "metadata": {},
   "outputs": [],
   "source": [
    "df_res = pd.read_csv('datasets/experiment/{}/{}.csv'.format(folder, 'responses'))"
   ]
  },
  {
   "cell_type": "code",
   "execution_count": 49,
   "id": "3f2d8496",
   "metadata": {},
   "outputs": [
    {
     "data": {
      "image/png": "[encoded data removed]",
      "text/plain": [
       "<Figure size 864x288 with 8 Axes>"
      ]
     },
     "metadata": {
      "needs_background": "light"
     },
     "output_type": "display_data"
    }
   ],
   "source": [
    "def promoters_combined_plots(row, col, data, inducers):\n",
    "    \n",
    "    cols = ['pBAD/Ara', 'pCin/OHC14', 'pCymRC/Cuma', 'pLuxB/AHL', 'pPhlF/DAPG', 'pSalTTC/Sal', 'pRhaB/Rha']\n",
    "    #ind_names = ['OHC14', 'Cuma', 'DAPG', 'Sal', 'AHL', 'Ara', 'Rha']\n",
    "    #cols = data.columns.tolist()\n",
    "    f, axs = plt.subplots(row, col, sharex=False, sharey=False, figsize=(col*3, row*2))\n",
    "    axr = axs.ravel()\n",
    "    for i, ax in enumerate(axr):\n",
    "        if i < len(cols):\n",
    "            for x, y in zip(inducers[cols[i]], data[cols[i]]):\n",
    "                ax.scatter(x, y)\n",
    "                ax.loglog()\n",
    "            ax.set_title('{}'.format(cols[i]))\n",
    "            ax.set_ylabel('RPU')\n",
    "            ax.set_xlabel('{} ({})'.format(cols[i].split('/')[1], u\"\\u03bcM\"))\n",
    "        else:\n",
    "            ax.set_visible(False)\n",
    "    sns.despine()\n",
    "    plt.tight_layout()\n",
    "                         \n",
    "promoters_combined_plots(2, 4, df_res, df_ind)"
   ]
  },
  {
   "cell_type": "code",
   "execution_count": 50,
   "id": "c89c6a42",
   "metadata": {},
   "outputs": [
    {
     "name": "stdout",
     "output_type": "stream",
     "text": [
      "pBAD/Ara [1.74213810e+00 1.92163443e+00 2.48731093e-17 1.68274592e+01] 0.9987537399036116\n",
      "pCin/OHC14 [2.68637679e+01 3.76978371e+00 2.31765735e-20 3.89971454e+00] 0.9925077827636238\n",
      "pCymRC/Cuma [6.44098873e+01 1.12631909e+00 7.78353057e-30 2.20420592e+00] 0.9845747466509278\n",
      "pLuxB/AHL [4.45528659e-01 6.66698570e-01 4.58799269e-15 7.89302600e+00] 0.9972099175628865\n",
      "pPhlF/DAPG [6.30648958e-01 1.82456281e+00 1.94172402e-22 1.16856181e+01] 0.9894754356876139\n",
      "pSalTTC/Sal [2.05252519e+02 1.21884003e+00 3.50027356e-25 8.20826000e+00] 0.9940747578893913\n",
      "pRhaB/Rha [1.79586835e+03 1.38299926e+00 1.00000000e-01 1.25652670e+01] 0.9969512600518944\n"
     ]
    },
    {
     "data": {
      "image/png": "[encoded data removed]",
      "text/plain": [
       "<Figure size 864x360 with 9 Axes>"
      ]
     },
     "metadata": {
      "needs_background": "light"
     },
     "output_type": "display_data"
    }
   ],
   "source": [
    "all_params = []\n",
    "f, axs = plt.subplots(3, 3, sharex=False, sharey=False, figsize=(12, 5))\n",
    "axr = axs.ravel()\n",
    "\n",
    "promoters = ['pBAD/Ara', 'pCin/OHC14', 'pCymRC/Cuma', 'pLuxB/AHL', 'pPhlF/DAPG', 'pSalTTC/Sal', 'pRhaB/Rha']\n",
    "\n",
    "for i, ax in enumerate(axr):\n",
    "    \n",
    "    if i < len(promoters):\n",
    "        \n",
    "        y = df_res[promoters[i]]\n",
    "        x = df_ind[promoters[i]]\n",
    "        init_guess = [1, 1, y.min(), y.max()]\n",
    "        gate_bounds = [[0, 0, 0, 0],\n",
    "                       [1e4, 4, y.min()+0.1, y.max()+0.1]]\n",
    "        \n",
    "        popt, pcov = curve_fit(hill_activation, x, y, p0=init_guess, bounds=gate_bounds)\n",
    "        \n",
    "        ax.scatter(x, y, color='purple', s=25)\n",
    "        err = np.round(r2_score(y, hill_activation(x, *popt)), 2)\n",
    "        ax.plot(np.arange(x.max()), hill_activation(np.arange(x.max()), *popt), color='gray', label='R2='+str(err))\n",
    "        \n",
    "        all_params.append(popt)\n",
    "        print(promoters[i], popt, r2_score(y, hill_activation(x, *popt)))\n",
    "        \n",
    "        #ax.set_xscale('symlog')\n",
    "        #ax.set_yscale('symlog')\n",
    "        \n",
    "        ax.set_title('{}'.format(promoters[i]))\n",
    "        ax.set_ylabel('RPU')\n",
    "        ax.set_xlabel('{} ({})'.format(promoters[i].split('/')[1], u\"\\u03bcM\"))\n",
    "        ax.legend(loc=4)\n",
    "        \n",
    "    else:\n",
    "        ax.set_visible(False)\n",
    "        \n",
    "    sns.despine()\n",
    "plt.tight_layout()"
   ]
  },
  {
   "cell_type": "code",
   "execution_count": 52,
   "id": "55996570",
   "metadata": {},
   "outputs": [
    {
     "name": "stdout",
     "output_type": "stream",
     "text": [
      "[5.694777684160171e-10, 3.0966032857330265e-08, 4.44450180086607e-07, 6.379155594911767e-06, 9.155882422537704e-05, 0.0013140380191992579, 0.0188405900492088, 0.26643355320402884, 3.156701302130936, 12.926986891194758, 16.48099053719633, 16.80284850307233]\n",
      "[0.003208466230780198, 0.015206707686103459, 0.032927662810661396, 0.07063317165192534, 0.14856111724579898, 0.30036156164631905, 0.5646651288974558, 0.9459815487144456, 1.3696813362805393, 1.7232441316826577, 1.954339475595707, 2.082254753742087]\n",
      "[7.845534668114468e-11, 1.459682797706804e-08, 1.9910237579188739e-07, 2.71577718125546e-06, 3.704318196036432e-05, 0.0005052125335691595, 0.006879890017781209, 0.09179546406123255, 0.9649833363886526, 3.188745883674297, 3.8369948645518694, 3.895046791221192]\n"
     ]
    }
   ],
   "source": [
    "aras_rpu = [hill_activation(i, *all_params[0]) for i in inducers[5]]\n",
    "cumas_rpu = [hill_activation(i, *all_params[2]) for i in inducers[1]]\n",
    "ohc14s_rpu = [hill_activation(i, *all_params[1]) for i in inducers[0]]\n",
    "\n",
    "print(aras_rpu)\n",
    "print(cumas_rpu)\n",
    "print(ohc14s_rpu)"
   ]
  },
  {
   "cell_type": "code",
   "execution_count": null,
   "id": "a55862ca",
   "metadata": {},
   "outputs": [],
   "source": []
  },
  {
   "cell_type": "code",
   "execution_count": null,
   "id": "82ff80b1",
   "metadata": {},
   "outputs": [],
   "source": []
  },
  {
   "cell_type": "code",
   "execution_count": null,
   "id": "civil-little",
   "metadata": {},
   "outputs": [],
   "source": [
    "def hill_activation(x, K, n, ymin, ymax):\n",
    "    \n",
    "    return ymin + (ymax - ymin) * (x**n / (K**n + x**n))\n",
    "\n",
    "def read_datasets(folder):\n",
    "    \n",
    "    names = ['fluos', 'ods', 'fluos-lower-1', 'fluos-lower-2', 'raw-fluos', 'raw-ods', 'raw-fluos-lower-1', 'raw-fluos-lower-2']\n",
    "    datasets = []\n",
    "    for name in names:\n",
    "        datasets.append(pd.read_csv('datasets/experiment/{}/{}.csv'.format(folder, name), index_col='time'))\n",
    "    return datasets"
   ]
  },
  {
   "cell_type": "code",
   "execution_count": null,
   "id": "floppy-automation",
   "metadata": {},
   "outputs": [],
   "source": [
    "def get_control(fluos, idx):\n",
    "\n",
    "    gfp = fluos[filter(lambda x: x.startswith('positive-control-amp'), fluos.columns)].mean(axis=1)\n",
    "    neg_amp = fluos[filter(lambda x: x.startswith('negative-control-amp'), fluos.columns)].mean(axis=1)\n",
    "    neg_kan = fluos[filter(lambda x: x.startswith('negative-control-kan'), fluos.columns)].mean(axis=1)\n",
    "    neg_kan_h, gfp_h, neg_amp_h= neg_kan.iloc[idx], gfp.iloc[idx], neg_amp.iloc[idx]\n",
    "    return neg_kan_h, gfp_h, neg_amp_h\n",
    "\n",
    "def promoters_plots(row, col, data, inducers, promoters, h=8, sharex=True, sharey=False):\n",
    "    \n",
    "    idx = 3 * h\n",
    "    responses = []\n",
    "    ctrl = get_control(fluos_2, idx)\n",
    "    \n",
    "    f, axs = plt.subplots(row, col, sharex=sharex, sharey=sharey, figsize=(col*5, row*2))\n",
    "    axr = axs.ravel()\n",
    "    for i, ax in enumerate(axr):\n",
    "        if i < len(promoters):\n",
    "            response = []\n",
    "            for j in range(12):\n",
    "                d = data['{}_{}'.format(promoters[i], j)]\n",
    "                rpu = (d.iloc[idx] - ctrl[0]) / (ctrl[1] - ctrl[2])\n",
    "                ax.scatter(inducers[i][j], rpu, label=np.round(inducers[i][j], 5))\n",
    "                ax.loglog()\n",
    "                response.append(rpu)\n",
    "            ax.set_title('{}_{}'.format(promoters[i], j))\n",
    "            responses.append(response)\n",
    "        else:\n",
    "            ax.set_visible(False)\n",
    "    \n",
    "    sns.despine()\n",
    "    plt.tight_layout()\n",
    "    return responses"
   ]
  },
  {
   "cell_type": "code",
   "execution_count": null,
   "id": "9abe2cce",
   "metadata": {},
   "outputs": [],
   "source": [
    "#ara, ohc14, cuma, ahl, dapg, sal, rha\n",
    "induction_lvl = 11\n",
    "max_inducers = [52, 160, 200, 40, 50, 1600, 15300]\n",
    "inducer_stocks = []\n",
    "for x, mi in enumerate(max_inducers):\n",
    "    dil = 4 if x in [0, 3] else 2 #4x dilution for ara and ahl\n",
    "    inducer = ([mi] + [mi/i for i in [dil**j for j in range(1, induction_lvl)]] + [0])\n",
    "    inducer.reverse()\n",
    "    inducer_stocks.append(inducer)"
   ]
  },
  {
   "cell_type": "markdown",
   "id": "7630e3cb",
   "metadata": {},
   "source": [
    "#### 029 - new promoters characterization"
   ]
  },
  {
   "cell_type": "code",
   "execution_count": null,
   "id": "0ee17d32",
   "metadata": {},
   "outputs": [],
   "source": [
    "folder = '029-new-promoters-characterization-rep1'\n",
    "fluos, ods, fluos_1, fluos_2, raw_fluos, raw_ods, raw_fluos_1, raw_fluos_2 = read_datasets(folder)\n",
    "promoters = ['pBAD-rJ/Ara', 'araC-pBAD-rJ/Ara', 'cymRC-pCymRC-rJ/Cuma', 'pLux2-rJ/AHL', 'pPhlF-rJ/DAPG', 'rhaS-pRhaB-rJ/Rha', 'araC-pBAD/Ara']\n",
    "inducers = [inducer_stocks[i] for i in [0, 0, 2, 3, 4, 6, 0]]"
   ]
  },
  {
   "cell_type": "code",
   "execution_count": null,
   "id": "retired-activity",
   "metadata": {},
   "outputs": [],
   "source": [
    "responses1 = promoters_plots(3, 3, fluos_2, inducers, promoters, 8, sharex=False)"
   ]
  },
  {
   "cell_type": "markdown",
   "id": "rising-operation",
   "metadata": {},
   "source": [
    "#### 030 - new promoters characterization"
   ]
  },
  {
   "cell_type": "code",
   "execution_count": null,
   "id": "complex-browse",
   "metadata": {},
   "outputs": [],
   "source": [
    "folder = '030-new-promoters-characterization-rep2'\n",
    "fluos, ods, fluos_1, fluos_2, raw_fluos, raw_ods, raw_fluos_1, raw_fluos_2 = read_datasets(folder)\n",
    "promoters = ['araC-pBAD/Ara', 'pBAD-rJ/Ara', 'araC-pBAD-rJ/Ara', 'cymRC-pCymRC-rJ/Cuma', 'pCymRC-rJ/Cuma', 'pLux2-rJ/AHL', 'cymRC-pCymRC-rJ/Cuma.1']\n",
    "inducers = [inducer_stocks[i] for i in [0, 0, 0, 2, 2, 3, 0]]"
   ]
  },
  {
   "cell_type": "code",
   "execution_count": null,
   "id": "material-hopkins",
   "metadata": {},
   "outputs": [],
   "source": [
    "responses2 = promoters_plots(3, 3, fluos_2, inducers, promoters, 8, sharex=False)"
   ]
  },
  {
   "cell_type": "markdown",
   "id": "royal-ceramic",
   "metadata": {},
   "source": [
    "#### 031 - new promoters characterization"
   ]
  },
  {
   "cell_type": "code",
   "execution_count": null,
   "id": "selective-humanitarian",
   "metadata": {},
   "outputs": [],
   "source": [
    "folder = '031-new-promoters-characterization-rep3'\n",
    "fluos, ods, fluos_1, fluos_2, raw_fluos, raw_ods, raw_fluos_1, raw_fluos_2 = read_datasets(folder)\n",
    "promoters = ['araC-pBAD/Ara', 'pBAD-rJ/Ara', 'araC-pBAD-rJ/Ara', 'cymRC-pCymRC-rJ/Cuma', 'pCymRC-rJ/Cuma', 'pLux2-rJ/AHL', 'cymRC-pCymRC-rJ/Cuma.1']\n",
    "inducers = [inducer_stocks[i] for i in [0, 0, 0, 2, 2, 3, 0]]"
   ]
  },
  {
   "cell_type": "code",
   "execution_count": null,
   "id": "meaningful-legislature",
   "metadata": {},
   "outputs": [],
   "source": [
    "responses3 = promoters_plots(3, 3, fluos_2, inducers, promoters, 8, sharex=False)"
   ]
  },
  {
   "cell_type": "markdown",
   "id": "continental-capital",
   "metadata": {},
   "source": [
    "#### Combined"
   ]
  },
  {
   "cell_type": "code",
   "execution_count": null,
   "id": "norman-speaking",
   "metadata": {},
   "outputs": [],
   "source": [
    "responses = []\n",
    "for i in range(len(responses1)):\n",
    "    responses.append(np.mean([responses2[i], responses3[i]], axis=0))\n",
    "responses"
   ]
  },
  {
   "cell_type": "code",
   "execution_count": null,
   "id": "minor-israeli",
   "metadata": {},
   "outputs": [],
   "source": [
    "df_res = pd.DataFrame(responses).T\n",
    "df_res.columns = promoters\n",
    "df_ind = pd.DataFrame(inducers).T\n",
    "df_ind.columns = promoters"
   ]
  },
  {
   "cell_type": "code",
   "execution_count": null,
   "id": "liked-catholic",
   "metadata": {},
   "outputs": [],
   "source": [
    "all_params = []\n",
    "f, axs = plt.subplots(3, 3, sharex=False, sharey=False, figsize=(12, 5))\n",
    "axr = axs.ravel()\n",
    "\n",
    "for i, ax in enumerate(axr):\n",
    "    \n",
    "    if i < len(promoters):\n",
    "        \n",
    "        y = df_res[promoters[i]]\n",
    "        x = df_ind[promoters[i]]\n",
    "        init_guess = [1, 1, y.min(), y.max()]\n",
    "        gate_bounds = [[0, 0, 0, 0],\n",
    "                       [1e4, 4, y.min()+0.1, y.max()+0.1]]\n",
    "        \n",
    "        popt, pcov = curve_fit(hill_activation, x, y, p0=init_guess, bounds=gate_bounds)\n",
    "        \n",
    "        ax.scatter(x, y, color='purple', s=25)\n",
    "        err = np.round(r2_score(y, hill_activation(x, *popt)), 2)\n",
    "        ax.plot(np.arange(x.max()), hill_activation(np.arange(x.max()), *popt), color='gray', label='R2='+str(err))\n",
    "        \n",
    "        all_params.append(popt)\n",
    "        print(promoters[i], popt, r2_score(y, hill_activation(x, *popt)))\n",
    "        \n",
    "        #ax.set_xscale('symlog')\n",
    "        #ax.set_yscale('symlog')\n",
    "        \n",
    "        ax.set_title('{}'.format(promoters[i]))\n",
    "        ax.set_ylabel('RPU')\n",
    "        ax.set_xlabel('{} ({})'.format(promoters[i].split('/')[1], u\"\\u03bcM\"))\n",
    "        ax.legend(loc=4)\n",
    "        \n",
    "    else:\n",
    "        ax.set_visible(False)\n",
    "        \n",
    "    sns.despine()\n",
    "plt.tight_layout()"
   ]
  },
  {
   "cell_type": "code",
   "execution_count": null,
   "id": "angry-violence",
   "metadata": {},
   "outputs": [],
   "source": [
    "cumas_rpu = [hill_activation(i, *all_params[3]) for i in inducers[3]]\n",
    "aras_rpu = [hill_activation(i, *all_params[0]) for i in inducers[0]]\n",
    "print(cumas_rpu)\n",
    "print(aras_rpu)"
   ]
  },
  {
   "cell_type": "code",
   "execution_count": null,
   "id": "bacterial-inclusion",
   "metadata": {},
   "outputs": [],
   "source": [
    "cumas_rpu = [hill_activation(i, *all_params[3]) for i in [0, 6.25, 12.5, 25, 50, 100]]\n",
    "aras_rpu = [hill_activation(i, *all_params[0]) for i in [0, 0.81, 1.62, 3.25, 6.5, 13]]\n",
    "print(cumas_rpu)\n",
    "print(aras_rpu)"
   ]
  },
  {
   "cell_type": "code",
   "execution_count": null,
   "id": "expanded-fundamental",
   "metadata": {},
   "outputs": [],
   "source": [
    "cumas_rpu2 = [hill_activation(i, *all_params[4]) for i in [0, 6.25, 12.5, 25, 50, 100]]\n",
    "aras_rpu2 = [hill_activation(i, *all_params[1]) for i in [0, 0.8125, 3.25, 13, 52, 208]]\n",
    "print(cumas_rpu2)\n",
    "print(aras_rpu2)"
   ]
  },
  {
   "cell_type": "markdown",
   "id": "empirical-sociology",
   "metadata": {},
   "source": [
    "#### Cherrypicking 3 Promoters Characterization - 24 induction levels"
   ]
  },
  {
   "cell_type": "code",
   "execution_count": null,
   "id": "legitimate-mexican",
   "metadata": {},
   "outputs": [],
   "source": [
    "folder = '011-3-promoters-detailed-characterization'\n",
    "fluos, ods, fluos_1, fluos_2 = read_datasets(folder)"
   ]
  },
  {
   "cell_type": "code",
   "execution_count": null,
   "id": "express-corpus",
   "metadata": {},
   "outputs": [],
   "source": [
    "promoters = ['pBAD/Ara', 'pCymRC/Cuma', 'pRhaB/Rha']\n",
    "aras = [0, 4.95911E-05, 9.91821E-05, 0.000198364, 0.000396729, 0.000793457, 0.001586914, 0.003173828, 0.006347656, 0.012695313, 0.025390625, 0.05078125, 0, 0.1015625, 0.203125, 0.40625, 0.8125, 1.625, 3.25, 6.5, 13, 26, 52, 104]\n",
    "cumas = [0, 0.001525879, 0.003051758, 0.006103516, 0.012207031, 0.024414063, 0.048828125, 0.09765625, 0.1953125, 0.390625, 0.78125, 1.5625, 0, 3.125, 6.25, 12.5, 25, 50, 100, 200, 400, 800, 1600, 3200]\n",
    "rhas = [0, 0.014591217, 0.029182434, 0.058364868, 0.116729736, 0.233459473, 0.466918945, 0.933837891, 1.867675781, 3.735351563, 7.470703125, 14.94140625, 0, 29.8828125, 59.765625, 119.53125, 239.0625, 478.125, 956.25, 1912.5, 3825, 7650, 15300, 30600]\n",
    "inducers = [aras, cumas, rhas]"
   ]
  },
  {
   "cell_type": "code",
   "execution_count": null,
   "id": "molecular-second",
   "metadata": {},
   "outputs": [],
   "source": [
    "f, axs = plt.subplots(3, 4, sharex=True, sharey=False, figsize=(12, 6))\n",
    "for i in range(3):\n",
    "    for j in range(0, 6):\n",
    "        r0 = ods['{}_{}'.format(promoters[i], j)]\n",
    "        axs[i, 0].plot(r0.index/60, r0, label=j)#, color='darkblue')\n",
    "        axs[i, 0].axvline(10, color='red', linestyle='--')\n",
    "        axs[i, 0].legend()\n",
    "        axs[i, 0].set_title('{}_{}'.format(promoters[i], j))\n",
    "        axs[i, 0].set_ylabel('OD')\n",
    "        axs[i, 0].set_xlabel('Hour')\n",
    "    for j in range(6, 12):\n",
    "        r0 = ods['{}_{}'.format(promoters[i], j)]\n",
    "        axs[i, 1].plot(r0.index/60, r0, label=j)#, color='darkblue')\n",
    "        axs[i, 1].axvline(10, color='red', linestyle='--')\n",
    "        axs[i, 1].legend()\n",
    "        axs[i, 1].set_title('{}_{}'.format(promoters[i], j))\n",
    "        axs[i, 1].set_ylabel('OD')\n",
    "        axs[i, 1].set_xlabel('Hour')\n",
    "    for j in range(12, 18):\n",
    "        r0 = ods['{}_{}'.format(promoters[i], j)]\n",
    "        axs[i, 2].plot(r0.index/60, r0, label=j)#, color='darkblue')\n",
    "        axs[i, 2].axvline(10, color='red', linestyle='--')\n",
    "        axs[i, 2].legend()\n",
    "        axs[i, 2].set_title('{}_{}'.format(promoters[i], j))\n",
    "        axs[i, 2].set_ylabel('OD')\n",
    "        axs[i, 2].set_xlabel('Hour')\n",
    "    for j in range(18, 24):\n",
    "        r0 = ods['{}_{}'.format(promoters[i], j)]\n",
    "        axs[i, 3].plot(r0.index/60, r0, label=j)#, color='darkblue')\n",
    "        axs[i, 3].axvline(10, color='red', linestyle='--')\n",
    "        axs[i, 3].legend()\n",
    "        axs[i, 3].set_title('{}_{}'.format(promoters[i], j))\n",
    "        axs[i, 3].set_ylabel('OD')\n",
    "        axs[i, 3].set_xlabel('Hour')\n",
    "sns.despine()\n",
    "plt.tight_layout()"
   ]
  },
  {
   "cell_type": "code",
   "execution_count": null,
   "id": "dutch-stomach",
   "metadata": {},
   "outputs": [],
   "source": [
    "def get_control(fluos, h):\n",
    "\n",
    "    idx = 3 * h\n",
    "    gfp = fluos[filter(lambda x: x.startswith('positive-control-amp'), fluos.columns)].mean(axis=1)\n",
    "    neg_amp = fluos[filter(lambda x: x.startswith('negative-control-amp'), fluos.columns)].mean(axis=1)\n",
    "    neg_kan = fluos[filter(lambda x: x.startswith('negative-control-kan'), fluos.columns)].mean(axis=1)\n",
    "    neg_kan_10, gfp_10, neg_amp_10 = neg_kan.iloc[idx], gfp.iloc[idx], neg_amp.iloc[idx]\n",
    "    return neg_kan_10, gfp_10, neg_amp_10\n",
    "\n",
    "def promoters_plots(row, col, data, inducers, promoters, ctrl, h, sharex=True, sharey=False):\n",
    "    \n",
    "    idx = 3 * h\n",
    "    responses = []\n",
    "    f, axs = plt.subplots(row, col, sharex=sharex, sharey=sharey, figsize=(col*5, row*2))\n",
    "    axr = axs.ravel()\n",
    "    for i, ax in enumerate(axr):\n",
    "        if i < len(promoters):\n",
    "            response = []\n",
    "            for j in range(12):\n",
    "                #if j < 12:\n",
    "                #    if j%2==1:\n",
    "                #        continue\n",
    "                #else:\n",
    "                #    if j%2==0:\n",
    "                #        continue\n",
    "                d = data['{}_{}'.format(promoters[i], j)]\n",
    "                rpu = (d.iloc[idx] - ctrl[0]) / (ctrl[1] - ctrl[2])\n",
    "                ax.scatter(inducers[i][j], rpu, label=np.round(inducers[i][j], 5))\n",
    "                ax.loglog()\n",
    "                #ax.set_xscale('symlog')\n",
    "                #ax.set_yscale('symlog')\n",
    "                #print(promoters[i], j, inducers[i][j])\n",
    "                response.append(rpu)\n",
    "            ax.set_title('{}_{}'.format(promoters[i], j))\n",
    "            #ax.set_xticks(np.arange(12))\n",
    "            #ax.set_xticklabels([np.round(u, 2) for u in inducers[i]], rotation=45)\n",
    "            #ax.legend()\n",
    "            responses.append(response)\n",
    "        else:\n",
    "            ax.set_visible(False)\n",
    "    sns.despine()\n",
    "    plt.tight_layout()\n",
    "    return responses"
   ]
  },
  {
   "cell_type": "code",
   "execution_count": null,
   "id": "disabled-appendix",
   "metadata": {},
   "outputs": [],
   "source": [
    "aras_cp = [(4.95911e-05/4), 4.95911e-05, 0.000198364, 0.000793457, 0.003173828, 0.012695313, 0.05078125, 0.203125, 0.8125, 3.25, 13, 52]\n",
    "rhas_cp = [(0.014591217/4), 0.014591217, 0.058364868, 0.233459473, 0.933837891, 3.735351563, 14.94140625, 59.765625, 239.0625, 956.25, 3825, 15300]\n",
    "inducers_cp = [aras_cp, rhas_cp]\n",
    "promoters_cp = ['pBAD/Ara', 'pRhaB/Rha']"
   ]
  },
  {
   "cell_type": "code",
   "execution_count": null,
   "id": "corresponding-finnish",
   "metadata": {},
   "outputs": [],
   "source": [
    "responses = promoters_plots(1, 2, fluos_2, inducers_cp, promoters_cp, get_control(fluos_2, 10), 10, sharex=False)"
   ]
  },
  {
   "cell_type": "code",
   "execution_count": null,
   "id": "active-sense",
   "metadata": {},
   "outputs": [],
   "source": [
    "responses = promoters_plots(1, 3, fluos_2, inducers, promoters, get_control(fluos_2, 10), 10, sharex=False)"
   ]
  },
  {
   "cell_type": "markdown",
   "id": "scientific-missouri",
   "metadata": {},
   "source": [
    "#### Promoters Characterization - 6 induction levels"
   ]
  },
  {
   "cell_type": "code",
   "execution_count": null,
   "id": "considerable-carrier",
   "metadata": {},
   "outputs": [],
   "source": [
    "folder = '004-promoters-characterization'\n",
    "fluos, ods, fluos_1, fluos_2 = read_datasets(folder)\n",
    "fluos_ods = fluos_2 / ods"
   ]
  },
  {
   "cell_type": "code",
   "execution_count": null,
   "id": "extra-offering",
   "metadata": {},
   "outputs": [],
   "source": [
    "aras = [0, 0.8125, 3.25, 13, 52, 208]\n",
    "ohcs = [0, 0.039, 0.156, 0.625, 2.5, 10]\n",
    "cumas = [0, 6.25, 12.5, 25, 50, 100]\n",
    "ahls = [0, 0.039, 0.156, 0.625, 2.5, 10]\n",
    "dapgs = [0, 0.098, 0.391, 1.563, 6.25, 25]\n",
    "sals = [0, 0.391, 1.563, 6.25, 25, 100]\n",
    "rhas = [0, 59.766, 239.063, 956.25, 3825, 15300]\n",
    "inducers = [aras, ohcs, cumas, ahls, dapgs, sals, rhas]"
   ]
  },
  {
   "cell_type": "code",
   "execution_count": null,
   "id": "controlled-stress",
   "metadata": {},
   "outputs": [],
   "source": [
    "idx = 3 * 10\n",
    "gfp = fluos_2[filter(lambda x: x.startswith('positive-control-amp'), fluos_ods.columns)].mean(axis=1)\n",
    "neg = fluos_2[filter(lambda x: x.startswith('negative-control-kan'), fluos_ods.columns)].mean(axis=1)\n",
    "gfp10, neg10 = gfp.iloc[idx], neg.iloc[idx]\n",
    "gfp10, neg10"
   ]
  },
  {
   "cell_type": "code",
   "execution_count": null,
   "id": "jewish-simulation",
   "metadata": {},
   "outputs": [],
   "source": [
    "f, axs = plt.subplots(7, 2, sharex=True, sharey=False, figsize=(6, 10))\n",
    "for i in range(7):\n",
    "    for j in range(3):\n",
    "        r0 = ods['{}_{}'.format(promoters[i], j)]\n",
    "        axs[i, 0].plot(r0.index/60, r0, label=j)#, color='darkblue')\n",
    "        axs[i, 0].axvline(10, color='red', linestyle='--')\n",
    "        axs[i, 0].legend()\n",
    "        axs[i, 0].set_title('{}_{}'.format(promoters[i], j))\n",
    "        axs[i, 0].set_ylabel('OD')\n",
    "        axs[i, 0].set_xlabel('Hour')\n",
    "    for j in range(3, 6):\n",
    "        r0 = ods['{}_{}'.format(promoters[i], j)]\n",
    "        axs[i, 1].plot(r0.index/60, r0, label=j)#, color='darkblue')\n",
    "        axs[i, 1].axvline(10, color='red', linestyle='--')\n",
    "        axs[i, 1].legend()\n",
    "        axs[i, 1].set_title('{}_{}'.format(promoters[i], j))\n",
    "        axs[i, 1].set_ylabel('OD')\n",
    "        axs[i, 1].set_xlabel('Hour')\n",
    "sns.despine()\n",
    "plt.tight_layout()"
   ]
  },
  {
   "cell_type": "code",
   "execution_count": null,
   "id": "informational-devon",
   "metadata": {},
   "outputs": [],
   "source": [
    "def promoters_plots(row, col, data, promoters, sharex=True, sharey=False):\n",
    "    \n",
    "    #xs = np.arange(12)\n",
    "    responses = []\n",
    "    f, axs = plt.subplots(row, col, sharex=sharex, sharey=sharey, figsize=(col*3, row*2))\n",
    "    axr = axs.ravel()\n",
    "    for i, ax in enumerate(axr):\n",
    "        if i < len(promoters):\n",
    "            response = []\n",
    "            for j in range(6):\n",
    "                d = data['{}_{}'.format(promoters[i], j)]\n",
    "                rpu = (d.iloc[idx] - neg.iloc[idx]) / (gfp.iloc[idx] - neg.iloc[idx])\n",
    "                ax.scatter(np.log(inducers[i][j]), np.log(rpu))\n",
    "                response.append(rpu)\n",
    "            ax.set_title('{}_{}'.format(promoters[i], j))\n",
    "            #ax.set_xticks(np.arange(12))\n",
    "            #ax.set_xticklabels([np.round(u, 2) for u in inducers[i]], rotation=45)\n",
    "            responses.append(response)\n",
    "        else:\n",
    "            ax.set_visible(False)\n",
    "    sns.despine()\n",
    "    plt.tight_layout()\n",
    "    \n",
    "    return responses\n",
    "\n",
    "responses = promoters_plots(2, 4, fluos_2, promoters, sharex=False, sharey=False)"
   ]
  },
  {
   "cell_type": "markdown",
   "id": "pediatric-notion",
   "metadata": {},
   "source": [
    "#### Promoters Characterization - 12 induction levels"
   ]
  },
  {
   "cell_type": "code",
   "execution_count": null,
   "id": "alike-bankruptcy",
   "metadata": {},
   "outputs": [],
   "source": [
    "def get_control(fluos, h):\n",
    "\n",
    "    idx = 3 * h\n",
    "    gfp = fluos[filter(lambda x: x.startswith('positive-control-amp'), fluos.columns)].mean(axis=1)\n",
    "    neg_amp = fluos[filter(lambda x: x.startswith('negative-control-amp'), fluos.columns)].mean(axis=1)\n",
    "    neg_kan = fluos[filter(lambda x: x.startswith('negative-control-kan'), fluos.columns)].mean(axis=1)\n",
    "    neg_kan_10, gfp_10, neg_amp_10 = neg_kan.iloc[idx], gfp.iloc[idx], neg_amp.iloc[idx]\n",
    "    return neg_kan_10, gfp_10, neg_amp_10\n",
    "\n",
    "def promoters_plots(row, col, data, inducers, promoters, ctrl, h, sharex=True, sharey=False):\n",
    "    \n",
    "    idx = 3 * h\n",
    "    responses = []\n",
    "    f, axs = plt.subplots(row, col, sharex=sharex, sharey=sharey, figsize=(col*3, row*2))\n",
    "    axr = axs.ravel()\n",
    "    for i, ax in enumerate(axr):\n",
    "        if i < len(promoters):\n",
    "            response = []\n",
    "            for j in range(12):\n",
    "                d = data['{}_{}'.format(promoters[i], j)]\n",
    "                rpu = (d.iloc[idx] - ctrl[0]) / (ctrl[1] - ctrl[2])\n",
    "                ax.scatter(inducers[i][j], rpu, label=np.round(inducers[i][j], 2))\n",
    "                ax.loglog()\n",
    "                #ax.set_xscale('symlog')\n",
    "                #ax.set_yscale('symlog')\n",
    "                response.append(rpu)\n",
    "            ax.set_title('{}_{}'.format(promoters[i], j))\n",
    "            #ax.set_xticks(np.arange(12))\n",
    "            #ax.set_xticklabels([np.round(u, 2) for u in inducers[i]], rotation=45)\n",
    "            #ax.legend(bbox_to_anchor=(1.1, 1.1))\n",
    "            responses.append(response)\n",
    "        else:\n",
    "            ax.set_visible(False)\n",
    "    sns.despine()\n",
    "    plt.tight_layout()\n",
    "    return responses"
   ]
  },
  {
   "cell_type": "code",
   "execution_count": null,
   "id": "framed-editing",
   "metadata": {},
   "outputs": [],
   "source": [
    "#006\n",
    "folder = '006-promoters-characterization'\n",
    "fluos, ods, fluos_1, fluos_2 = read_datasets(folder)\n",
    "aras = [(0.40625/4), 0.40625, 0.8125, 1.625, 3.25, 6.5, 13, 26, 52, 104, 208, 416]\n",
    "ohcs = [(0.15625/4), 0.15625, 0.3125, 0.625, 1.25, 2.5, 5, 10, 20, 40, 80, 160]\n",
    "cumas = [(0.78125/4), 0.78125, 1.5625, 3.125, 6.25, 12.5, 25, 50, 100, 200, 400, 800]\n",
    "ahls = [(0.01953125/4), 0.01953125, 0.0390625, 0.078125, 0.15625, 0.3125, 0.625, 1.25, 2.5, 5, 10, 20]\n",
    "dapgs = [(0.048828125/4), 0.048828125, 0.09765625, 0.1953125, 0.390625, 0.78125, 1.5625, 3.125, 6.25, 12.5, 25, 50]\n",
    "sals = [(1.5625/4), 1.5625, 3.125, 6.25, 12.5, 25, 50, 100, 200, 400, 800, 1600]\n",
    "rhas = [(14.94140625/4), 14.94140625, 29.8828125, 59.765625, 119.53125, 239.0625, 478.125, 956.25, 1912.5, 3825, 7650, 15300]\n",
    "inducers = [ohcs, cumas, dapgs, sals]\n",
    "promoters = ['pCin/OHC14', 'pCymRC/Cuma', 'pPhlF/DAPG', 'pSalTTC/Sal']\n",
    "responses = promoters_plots(1, 4, fluos_2, inducers, promoters, get_control(fluos_2, 10), 10, sharex=False)"
   ]
  },
  {
   "cell_type": "code",
   "execution_count": null,
   "id": "absent-comfort",
   "metadata": {},
   "outputs": [],
   "source": [
    "df_res1 = pd.DataFrame(responses).T\n",
    "df_res1.columns = promoters\n",
    "df_ind1 = pd.DataFrame(inducers).T\n",
    "df_ind1.columns = promoters"
   ]
  },
  {
   "cell_type": "code",
   "execution_count": null,
   "id": "infrared-lambda",
   "metadata": {},
   "outputs": [],
   "source": [
    "#010 - AHL & Rha\n",
    "folder = '010-promoters-characterization'\n",
    "fluos, ods, fluos_1, fluos_2 = read_datasets(folder)\n",
    "aras = [(0.406/8), 0.406, 0.609, 0.813, 1.219, 1.625, 2.438, 3.25, 6.5, 13, 26, 104]\n",
    "ohcs = [(8/4), 8, 10, 16, 20, 32, 40, 64, 80, 128, 160, 320]\n",
    "cumas = [(3.125/4), 3.125, 6.25, 12.5, 25, 50, 100, 200, 400, 800, 1600, 3200]\n",
    "ahls = [(3.81e-5/8), 3.81e-5, 1.53e-4, 6.1e-4, 2.44e-3, 9.77e-3, 3.91e-2, 0.156, 0.625, 2.5, 10, 40]\n",
    "dapgs = [(0.048828125/4), 0.048828125, 0.09765625, 0.1953125, 0.390625, 0.78125, 1.5625, 3.125, 6.25, 12.5, 25, 50] #does not matter\n",
    "sals = [(25/4), 25, 50, 100, 200, 400, 800, 1600, 3200, 6400, 12800, 25600]\n",
    "rhas = [(29.88/4), 29.88, 59.76, 119.53, 239.06, 478.125, 956.25, 1912.5, 3825, 7650, 15300, 30600]\n",
    "inducers = [ahls]\n",
    "promoters = [ 'pLuxB/AHL']\n",
    "responses = promoters_plots(1, 2, fluos_2, inducers, promoters, get_control(fluos_2, 10), 10, sharex=False)"
   ]
  },
  {
   "cell_type": "code",
   "execution_count": null,
   "id": "cooked-edward",
   "metadata": {},
   "outputs": [],
   "source": [
    "df_res2 = pd.DataFrame(responses).T\n",
    "df_res2.columns = promoters\n",
    "df_ind2 = pd.DataFrame(inducers).T\n",
    "df_ind2.columns = promoters"
   ]
  },
  {
   "cell_type": "code",
   "execution_count": null,
   "id": "expected-solid",
   "metadata": {},
   "outputs": [],
   "source": [
    "df_res = pd.concat([df_res1, df_res2], axis=1)\n",
    "df_ind = pd.concat([df_ind1, df_ind2], axis=1)"
   ]
  },
  {
   "cell_type": "code",
   "execution_count": null,
   "id": "impaired-viewer",
   "metadata": {},
   "outputs": [],
   "source": [
    "#011\n",
    "folder = '011-3-promoters-detailed-characterization'\n",
    "fluos, ods, fluos_1, fluos_2 = read_datasets(folder)\n",
    "aras_cp = [(4.95911e-05/8), 4.95911e-05, 0.000198364, 0.000793457, 0.003173828, 0.012695313, 0.05078125, 0.203125, 0.8125, 3.25, 13, 52]\n",
    "rhas_cp = [(0.014591217/8), 0.014591217, 0.058364868, 0.233459473, 0.933837891, 3.735351563, 14.94140625, 59.765625, 239.0625, 956.25, 3825, 15300]\n",
    "inducers = [aras_cp, rhas_cp]\n",
    "promoters = ['pBAD/Ara', 'pRhaB/Rha']\n",
    "\n",
    "responses = promoters_plots(1, 2, fluos_2, inducers, promoters, get_control(fluos_2, 10), 10, sharex=False)"
   ]
  },
  {
   "cell_type": "code",
   "execution_count": null,
   "id": "welsh-vampire",
   "metadata": {},
   "outputs": [],
   "source": [
    "df_res3 = pd.DataFrame(responses).T\n",
    "df_res3.columns = promoters\n",
    "df_ind3 = pd.DataFrame(inducers).T\n",
    "df_ind3.columns = promoters"
   ]
  },
  {
   "cell_type": "code",
   "execution_count": null,
   "id": "little-drilling",
   "metadata": {},
   "outputs": [],
   "source": [
    "df_res = pd.concat([df_res, df_res3], axis=1)\n",
    "df_ind = pd.concat([df_ind, df_ind3], axis=1)"
   ]
  },
  {
   "cell_type": "code",
   "execution_count": null,
   "id": "gothic-prince",
   "metadata": {},
   "outputs": [],
   "source": [
    "def promoters_combined_plots(row, col, data, inducers):\n",
    "    \n",
    "    cols = ['pBAD/Ara', 'pCin/OHC14', 'pCymRC/Cuma', 'pLuxB/AHL', 'pPhlF/DAPG', 'pSalTTC/Sal', 'pRhaB/Rha']\n",
    "    #ind_names = ['OHC14', 'Cuma', 'DAPG', 'Sal', 'AHL', 'Ara', 'Rha']\n",
    "    #cols = data.columns.tolist()\n",
    "    f, axs = plt.subplots(row, col, sharex=False, sharey=False, figsize=(col*3, row*2))\n",
    "    axr = axs.ravel()\n",
    "    for i, ax in enumerate(axr):\n",
    "        if i < len(cols):\n",
    "            for x, y in zip(inducers[cols[i]], data[cols[i]]):\n",
    "                ax.scatter(x, y)\n",
    "                ax.loglog()\n",
    "            ax.set_title('{}'.format(cols[i]))\n",
    "            ax.set_ylabel('RPU')\n",
    "            ax.set_xlabel('{} ({})'.format(cols[i].split('/')[1], u\"\\u03bcM\"))\n",
    "        else:\n",
    "            ax.set_visible(False)\n",
    "    sns.despine()\n",
    "    plt.tight_layout()\n",
    "                         \n",
    "promoters_combined_plots(2, 4, df_res, df_ind)"
   ]
  },
  {
   "cell_type": "code",
   "execution_count": null,
   "id": "invalid-newcastle",
   "metadata": {},
   "outputs": [],
   "source": [
    "df_res.to_csv('datasets/experiment/responses.csv', index=False)\n",
    "df_ind.to_csv('datasets/experiment/inducers.csv', index=False)"
   ]
  },
  {
   "cell_type": "markdown",
   "id": "postal-power",
   "metadata": {},
   "source": [
    "#### Response Function"
   ]
  },
  {
   "cell_type": "code",
   "execution_count": null,
   "id": "purple-smoke",
   "metadata": {},
   "outputs": [],
   "source": [
    "promoters = ['pBAD/Ara', 'pCin/OHC14', 'pCymRC/Cuma', 'pLuxB/AHL', 'pPhlF/DAPG', 'pSalTTC/Sal', 'pRhaB/Rha']\n",
    "responses = pd.read_csv('datasets/experiment/responses.csv')\n",
    "inducers = pd.read_csv('datasets/experiment/inducers.csv')"
   ]
  },
  {
   "cell_type": "code",
   "execution_count": null,
   "id": "split-grenada",
   "metadata": {},
   "outputs": [],
   "source": [
    "for i in range(responses.shape[1]):\n",
    "    responses.iloc[:,i] = (responses.iloc[:,i] - responses.iloc[:,i].min())\n",
    "responses"
   ]
  },
  {
   "cell_type": "code",
   "execution_count": null,
   "id": "scenic-blind",
   "metadata": {},
   "outputs": [],
   "source": [
    "np.round(responses[['pBAD/Ara', 'pCymRC/Cuma']].T, 2)"
   ]
  },
  {
   "cell_type": "code",
   "execution_count": null,
   "id": "bronze-elements",
   "metadata": {},
   "outputs": [],
   "source": [
    "all_params = []\n",
    "f, axs = plt.subplots(2, 4, sharex=False, sharey=False, figsize=(12, 5))\n",
    "axr = axs.ravel()\n",
    "for i, ax in enumerate(axr):\n",
    "    if i < len(promoters):\n",
    "        y = responses[promoters[i]]\n",
    "        x = np.arange(1, len(y)+1)\n",
    "        #x = inducers[promoters[i]]\n",
    "        init_guess = [1, 1, y.min(), y.max()]\n",
    "        gate_bounds = [[0, 0, y.min()-1, y.max()-1],\n",
    "                       [1e4, 10, y.min()+1, y.max()+1]]\n",
    "        \n",
    "        popt, pcov = curve_fit(hill_activation, x, y, p0=init_guess, bounds=gate_bounds)\n",
    "        \n",
    "        ax.scatter(x, y, color='purple', s=25)\n",
    "        err = np.round(r2_score(y, hill_activation(x, *popt)), 2)\n",
    "        #err = np.sum([(a - b)**2 for a, b in zip(y, hill_activation(x, *popt))])\n",
    "        ax.plot(np.arange(0, x.max()+2, 0.5), hill_activation(np.arange(0, x.max()+2, 0.5), *popt), color='gray', label='R2=' + str(err))\n",
    "        \n",
    "        all_params.append(popt)\n",
    "        print(promoters[i], popt, r2_score(y, hill_activation(x, *popt)))\n",
    "        #ax.loglog()\n",
    "        #ax.set_xscale('symlog')\n",
    "        #ax.set_yscale('symlog')\n",
    "        #ax.set_xticks(np.arange(len(inducers[promoters[i]])))\n",
    "        #ax.set_xticklabels(None)\n",
    "        \n",
    "        ax.set_title('{}'.format(promoters[i]))\n",
    "        ax.set_ylabel('RPU')\n",
    "        ax.set_xlabel('{} ({})'.format(promoters[i].split('/')[1], u\"\\u03bcM\"))\n",
    "        ax.legend(loc=4)\n",
    "    else:\n",
    "        ax.set_visible(False)\n",
    "    sns.despine()\n",
    "plt.tight_layout()"
   ]
  },
  {
   "cell_type": "code",
   "execution_count": null,
   "id": "smoking-stopping",
   "metadata": {
    "scrolled": true
   },
   "outputs": [],
   "source": [
    "all_params = []\n",
    "f, axs = plt.subplots(2, 4, sharex=False, sharey=False, figsize=(12, 5))\n",
    "axr = axs.ravel()\n",
    "for i, ax in enumerate(axr):\n",
    "    if i < len(promoters):\n",
    "        y = responses[promoters[i]]\n",
    "        x = inducers[promoters[i]]\n",
    "        init_guess = [1, 1, y.min(), y.max()]\n",
    "        gate_bounds = [[0, 0, 0, 0],\n",
    "                       [1e4, 4, y.min()+0.1, y.max()+0.1]]\n",
    "        \n",
    "        popt, pcov = curve_fit(hill_activation, x, y, p0=init_guess, bounds=gate_bounds)\n",
    "        \n",
    "        ax.scatter(x, y, color='purple', s=25)\n",
    "        err = np.round(r2_score(y, hill_activation(x, *popt)), 2)\n",
    "        #err = np.sum([(a - b)**2 for a, b in zip(y, hill_activation(x, *popt))])\n",
    "        ax.plot(np.arange(x.max()), hill_activation(np.arange(x.max()), *popt), color='gray', label='R2='+str(err))\n",
    "        \n",
    "        all_params.append(popt)\n",
    "        print(promoters[i], popt, r2_score(y, hill_activation(x, *popt)))\n",
    "        #ax.loglog()\n",
    "        #ax.set_xscale('symlog')\n",
    "        #ax.set_yscale('symlog')\n",
    "        \n",
    "        ax.set_title('{}'.format(promoters[i]))\n",
    "        ax.set_ylabel('RPU')\n",
    "        ax.set_xlabel('{} ({})'.format(promoters[i].split('/')[1], u\"\\u03bcM\"))\n",
    "        ax.legend(loc=4)\n",
    "    else:\n",
    "        ax.set_visible(False)\n",
    "    sns.despine()\n",
    "plt.tight_layout()"
   ]
  },
  {
   "cell_type": "code",
   "execution_count": null,
   "id": "varied-cyprus",
   "metadata": {},
   "outputs": [],
   "source": [
    "inducers"
   ]
  },
  {
   "cell_type": "code",
   "execution_count": null,
   "id": "bright-machine",
   "metadata": {},
   "outputs": [],
   "source": [
    "for j, c in enumerate(promoters):\n",
    "    print('\"', c.split('/')[1].lower(), '_rpu\":', [hill_activation(i, *all_params[j]) for i in inducers[c]])"
   ]
  },
  {
   "cell_type": "code",
   "execution_count": null,
   "id": "statistical-poison",
   "metadata": {},
   "outputs": [],
   "source": [
    "#cumas_gate = [0, 6.25, 12.5, 25, 50, 100]\n",
    "#aras_gate = [0, 0.8125, 3.25, 13, 52, 208]\n",
    "cumas_gate = [0, 6.25, 12.5, 25, 50, 100]\n",
    "aras_gate = [0, 0.8125, 1.625, 3.25, 6.5, 13]\n",
    "cumas_rpu = [hill_activation(i, *all_params[2]) for i in cumas_gate]\n",
    "aras_rpu = [hill_activation(i, *all_params[0]) for i in aras_gate]\n",
    "print(cumas_rpu)\n",
    "print(aras_rpu)"
   ]
  },
  {
   "cell_type": "markdown",
   "id": "healthy-smile",
   "metadata": {},
   "source": [
    "Data Inspections"
   ]
  },
  {
   "cell_type": "code",
   "execution_count": null,
   "id": "designing-privilege",
   "metadata": {},
   "outputs": [],
   "source": [
    "f, axs = plt.subplots(7, 2, sharex=False, sharey=False, figsize=(6, 10))\n",
    "for i in range(7):\n",
    "    for j in range(5, 6):\n",
    "        r0 = ods['{}_{}'.format(promoters[i], j)]\n",
    "        axs[i, 0].plot(r0.index/60, r0)#, color='darkblue')\n",
    "        axs[i, 0].axvline(10, color='red', linestyle='--', label='10h')\n",
    "        #axs[i, 1].legend()\n",
    "        axs[i, 0].set_title('{}_{}'.format(promoters[i], j))\n",
    "        axs[i, 0].set_ylabel('OD')\n",
    "        axs[i, 0].set_xlabel('Hour')\n",
    "    for j in range(6, 12):\n",
    "        r0 = ods['{}_{}'.format(promoters[i], j)]\n",
    "        axs[i, 1].plot(r0.index/60, r0)#, color='darkblue')\n",
    "        axs[i, 1].axvline(10, color='red', linestyle='--', label='10h')\n",
    "        #axs[i, 1].legend()\n",
    "        axs[i, 1].set_title('{}_{}'.format(promoters[i], j))\n",
    "        axs[i, 1].set_ylabel('OD')\n",
    "        axs[i, 1].set_xlabel('Hour')\n",
    "sns.despine()\n",
    "plt.tight_layout()"
   ]
  },
  {
   "cell_type": "code",
   "execution_count": null,
   "id": "desirable-overhead",
   "metadata": {},
   "outputs": [],
   "source": [
    "f, axs = plt.subplots(7, 12, sharex=True, sharey=True, figsize=(20, 10))\n",
    "for i in range(7):\n",
    "    for j in range(12):\n",
    "        r0 = fluos_2['{}_{}'.format(promoters[i], j)]\n",
    "        axs[i, j].plot(r0.index/60, r0, color='darkblue')\n",
    "        axs[i, j].axvline(10, color='red', linestyle='--', label='10h')\n",
    "        axs[i, j].legend()\n",
    "        axs[i, j].set_title('{}_{}'.format(promoters[i], j))\n",
    "        axs[i, j].set_ylabel('Fluo (a.u.)')\n",
    "        axs[i, j].set_xlabel('Hour')\n",
    "sns.despine()\n",
    "plt.tight_layout()"
   ]
  }
 ],
 "metadata": {
  "kernelspec": {
   "display_name": "Python 3 (ipykernel)",
   "language": "python",
   "name": "python3"
  },
  "language_info": {
   "codemirror_mode": {
    "name": "ipython",
    "version": 3
   },
   "file_extension": ".py",
   "mimetype": "text/x-python",
   "name": "python",
   "nbconvert_exporter": "python",
   "pygments_lexer": "ipython3",
   "version": "3.9.12"
  }
 },
 "nbformat": 4,
 "nbformat_minor": 5
}
