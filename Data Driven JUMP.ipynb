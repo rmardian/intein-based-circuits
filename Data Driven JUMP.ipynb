{
 "cells": [
  {
   "cell_type": "code",
   "execution_count": 1,
   "id": "a41f43ef",
   "metadata": {},
   "outputs": [],
   "source": [
    "import numpy as np\n",
    "import pandas as pd\n",
    "pd.set_option('display.max_columns', None)\n",
    "#pd.set_option('display.max_rows', None)\n",
    "\n",
    "import matplotlib.pyplot as plt\n",
    "import seaborn as sns\n",
    "\n",
    "from itertools import permutations, combinations, product\n",
    "from tqdm import tqdm\n",
    "import warnings\n",
    "warnings.filterwarnings(\"ignore\")\n",
    "\n",
    "from pynverse import inversefunc\n",
    "\n",
    "from scipy.optimize import curve_fit\n",
    "import sklearn.gaussian_process as gp\n",
    "from sklearn.gaussian_process.kernels import Matern, WhiteKernel, ConstantKernel, RBF\n",
    "from sklearn.ensemble import RandomForestRegressor\n",
    "from sklearn.neural_network import MLPRegressor\n",
    "from sklearn.linear_model import LinearRegression, ElasticNet\n",
    "from sklearn.preprocessing import PolynomialFeatures, OneHotEncoder\n",
    "from sklearn.model_selection import train_test_split, cross_validate, cross_val_score, KFold, RandomizedSearchCV\n",
    "from sklearn.metrics import r2_score, mean_absolute_error, mean_absolute_percentage_error\n",
    "\n",
    "from utils.model import hill_activation, hill_activation_single, hill_activation_and"
   ]
  },
  {
   "cell_type": "code",
   "execution_count": 2,
   "id": "0f8b1066",
   "metadata": {},
   "outputs": [],
   "source": [
    "promoters = ['PBAD', 'PCin', 'PSalTTC', 'PTac']\n",
    "rbs = ['B0033']\n",
    "ecfs = ['E11', 'E20', 'E38']\n",
    "terminators = ['B0015']"
   ]
  },
  {
   "cell_type": "code",
   "execution_count": 3,
   "id": "cf5ad4e4",
   "metadata": {},
   "outputs": [
    {
     "data": {
      "text/plain": [
       "(12,\n",
       " [('PBAD', 'PCin'),\n",
       "  ('PBAD', 'PSalTTC'),\n",
       "  ('PBAD', 'PTac'),\n",
       "  ('PCin', 'PBAD'),\n",
       "  ('PCin', 'PSalTTC'),\n",
       "  ('PCin', 'PTac'),\n",
       "  ('PSalTTC', 'PBAD'),\n",
       "  ('PSalTTC', 'PCin'),\n",
       "  ('PSalTTC', 'PTac'),\n",
       "  ('PTac', 'PBAD'),\n",
       "  ('PTac', 'PCin'),\n",
       "  ('PTac', 'PSalTTC')])"
      ]
     },
     "execution_count": 3,
     "metadata": {},
     "output_type": "execute_result"
    }
   ],
   "source": [
    "p_prom = list(permutations(promoters[:4], 2))\n",
    "len(p_prom), p_prom"
   ]
  },
  {
   "cell_type": "code",
   "execution_count": 4,
   "id": "9874f570",
   "metadata": {},
   "outputs": [
    {
     "data": {
      "text/plain": [
       "(24,\n",
       " [(('PBAD', 'PCin'), 'B0033', 'E11', 'B0015'),\n",
       "  (('PBAD', 'PCin'), 'B0033', 'E20', 'B0015'),\n",
       "  (('PBAD', 'PSalTTC'), 'B0033', 'E11', 'B0015'),\n",
       "  (('PBAD', 'PSalTTC'), 'B0033', 'E20', 'B0015'),\n",
       "  (('PBAD', 'PTac'), 'B0033', 'E11', 'B0015'),\n",
       "  (('PBAD', 'PTac'), 'B0033', 'E20', 'B0015'),\n",
       "  (('PCin', 'PBAD'), 'B0033', 'E11', 'B0015'),\n",
       "  (('PCin', 'PBAD'), 'B0033', 'E20', 'B0015'),\n",
       "  (('PCin', 'PSalTTC'), 'B0033', 'E11', 'B0015'),\n",
       "  (('PCin', 'PSalTTC'), 'B0033', 'E20', 'B0015'),\n",
       "  (('PCin', 'PTac'), 'B0033', 'E11', 'B0015'),\n",
       "  (('PCin', 'PTac'), 'B0033', 'E20', 'B0015'),\n",
       "  (('PSalTTC', 'PBAD'), 'B0033', 'E11', 'B0015'),\n",
       "  (('PSalTTC', 'PBAD'), 'B0033', 'E20', 'B0015'),\n",
       "  (('PSalTTC', 'PCin'), 'B0033', 'E11', 'B0015'),\n",
       "  (('PSalTTC', 'PCin'), 'B0033', 'E20', 'B0015'),\n",
       "  (('PSalTTC', 'PTac'), 'B0033', 'E11', 'B0015'),\n",
       "  (('PSalTTC', 'PTac'), 'B0033', 'E20', 'B0015'),\n",
       "  (('PTac', 'PBAD'), 'B0033', 'E11', 'B0015'),\n",
       "  (('PTac', 'PBAD'), 'B0033', 'E20', 'B0015'),\n",
       "  (('PTac', 'PCin'), 'B0033', 'E11', 'B0015'),\n",
       "  (('PTac', 'PCin'), 'B0033', 'E20', 'B0015'),\n",
       "  (('PTac', 'PSalTTC'), 'B0033', 'E11', 'B0015'),\n",
       "  (('PTac', 'PSalTTC'), 'B0033', 'E20', 'B0015')])"
      ]
     },
     "execution_count": 4,
     "metadata": {},
     "output_type": "execute_result"
    }
   ],
   "source": [
    "parts = [p_prom, rbs, ecfs[:2], terminators]\n",
    "gate2 = list(product(*parts))\n",
    "len(gate2), gate2"
   ]
  },
  {
   "cell_type": "code",
   "execution_count": 5,
   "id": "d0a62c17",
   "metadata": {},
   "outputs": [
    {
     "data": {
      "text/plain": [
       "(48,\n",
       " ['PBAD-B0033-E11-N-B0015',\n",
       "  'PCin-B0033-E11-C-B0015',\n",
       "  'PBAD-B0033-E20-N-B0015',\n",
       "  'PCin-B0033-E20-C-B0015',\n",
       "  'PBAD-B0033-E11-N-B0015',\n",
       "  'PSalTTC-B0033-E11-C-B0015',\n",
       "  'PBAD-B0033-E20-N-B0015',\n",
       "  'PSalTTC-B0033-E20-C-B0015',\n",
       "  'PBAD-B0033-E11-N-B0015',\n",
       "  'PTac-B0033-E11-C-B0015',\n",
       "  'PBAD-B0033-E20-N-B0015',\n",
       "  'PTac-B0033-E20-C-B0015',\n",
       "  'PCin-B0033-E11-N-B0015',\n",
       "  'PBAD-B0033-E11-C-B0015',\n",
       "  'PCin-B0033-E20-N-B0015',\n",
       "  'PBAD-B0033-E20-C-B0015',\n",
       "  'PCin-B0033-E11-N-B0015',\n",
       "  'PSalTTC-B0033-E11-C-B0015',\n",
       "  'PCin-B0033-E20-N-B0015',\n",
       "  'PSalTTC-B0033-E20-C-B0015',\n",
       "  'PCin-B0033-E11-N-B0015',\n",
       "  'PTac-B0033-E11-C-B0015',\n",
       "  'PCin-B0033-E20-N-B0015',\n",
       "  'PTac-B0033-E20-C-B0015',\n",
       "  'PSalTTC-B0033-E11-N-B0015',\n",
       "  'PBAD-B0033-E11-C-B0015',\n",
       "  'PSalTTC-B0033-E20-N-B0015',\n",
       "  'PBAD-B0033-E20-C-B0015',\n",
       "  'PSalTTC-B0033-E11-N-B0015',\n",
       "  'PCin-B0033-E11-C-B0015',\n",
       "  'PSalTTC-B0033-E20-N-B0015',\n",
       "  'PCin-B0033-E20-C-B0015',\n",
       "  'PSalTTC-B0033-E11-N-B0015',\n",
       "  'PTac-B0033-E11-C-B0015',\n",
       "  'PSalTTC-B0033-E20-N-B0015',\n",
       "  'PTac-B0033-E20-C-B0015',\n",
       "  'PTac-B0033-E11-N-B0015',\n",
       "  'PBAD-B0033-E11-C-B0015',\n",
       "  'PTac-B0033-E20-N-B0015',\n",
       "  'PBAD-B0033-E20-C-B0015',\n",
       "  'PTac-B0033-E11-N-B0015',\n",
       "  'PCin-B0033-E11-C-B0015',\n",
       "  'PTac-B0033-E20-N-B0015',\n",
       "  'PCin-B0033-E20-C-B0015',\n",
       "  'PTac-B0033-E11-N-B0015',\n",
       "  'PSalTTC-B0033-E11-C-B0015',\n",
       "  'PTac-B0033-E20-N-B0015',\n",
       "  'PSalTTC-B0033-E20-C-B0015'])"
      ]
     },
     "execution_count": 5,
     "metadata": {},
     "output_type": "execute_result"
    }
   ],
   "source": [
    "gate_part = list(np.array([[l[0][0] + '-' + l[1] + '-' + l[2] + '-N-' + l[3], \\\n",
    "             l[0][1] + '-' + l[1] + '-' + l[2] + '-C-' + l[3]] for l in gate2]).flatten())\n",
    "len(gate_part), gate_part"
   ]
  },
  {
   "cell_type": "code",
   "execution_count": 6,
   "id": "f6e4c7a1",
   "metadata": {},
   "outputs": [
    {
     "data": {
      "text/plain": [
       "['PBAD-PCin-B0033-E11-B0015',\n",
       " 'PBAD-PCin-B0033-E20-B0015',\n",
       " 'PBAD-PSalTTC-B0033-E11-B0015',\n",
       " 'PBAD-PSalTTC-B0033-E20-B0015',\n",
       " 'PBAD-PTac-B0033-E11-B0015',\n",
       " 'PBAD-PTac-B0033-E20-B0015',\n",
       " 'PCin-PBAD-B0033-E11-B0015',\n",
       " 'PCin-PBAD-B0033-E20-B0015',\n",
       " 'PCin-PSalTTC-B0033-E11-B0015',\n",
       " 'PCin-PSalTTC-B0033-E20-B0015',\n",
       " 'PCin-PTac-B0033-E11-B0015',\n",
       " 'PCin-PTac-B0033-E20-B0015',\n",
       " 'PSalTTC-PBAD-B0033-E11-B0015',\n",
       " 'PSalTTC-PBAD-B0033-E20-B0015',\n",
       " 'PSalTTC-PCin-B0033-E11-B0015',\n",
       " 'PSalTTC-PCin-B0033-E20-B0015',\n",
       " 'PSalTTC-PTac-B0033-E11-B0015',\n",
       " 'PSalTTC-PTac-B0033-E20-B0015',\n",
       " 'PTac-PBAD-B0033-E11-B0015',\n",
       " 'PTac-PBAD-B0033-E20-B0015',\n",
       " 'PTac-PCin-B0033-E11-B0015',\n",
       " 'PTac-PCin-B0033-E20-B0015',\n",
       " 'PTac-PSalTTC-B0033-E11-B0015',\n",
       " 'PTac-PSalTTC-B0033-E20-B0015']"
      ]
     },
     "execution_count": 6,
     "metadata": {},
     "output_type": "execute_result"
    }
   ],
   "source": [
    "level2_part = [l[0][0] + '-' + l[0][1] + '-' + l[1] + '-' + l[2] + '-' + l[3] for l in gate2]\n",
    "level2_part"
   ]
  },
  {
   "cell_type": "code",
   "execution_count": null,
   "id": "19f4ebcf",
   "metadata": {},
   "outputs": [],
   "source": [
    "gate3_raw = list(permutations(level2_part))\n",
    "gate3_raw"
   ]
  },
  {
   "cell_type": "code",
   "execution_count": null,
   "id": "aa9ad87a",
   "metadata": {},
   "outputs": [],
   "source": [
    "gate3_raw = list(permutations(level2_part))\n",
    "gate3 = []\n",
    "for gate in gate3_raw:\n",
    "    g1 = gate[0].split('-')\n",
    "    g2 = gate[1].split('-')\n",
    "    prom_gate = [g1[0], g1[1], g2[0], g2[1]]\n",
    "    ecf_gate = [g1[3], g2[3]]\n",
    "    if len(list(set(prom_gate)))==len(prom_gate) and len(list(set(ecf_gate)))==len(ecf_gate):\n",
    "        gate3.append(gate)\n",
    "len(gate3), gate3"
   ]
  },
  {
   "cell_type": "code",
   "execution_count": null,
   "id": "817ae814",
   "metadata": {},
   "outputs": [],
   "source": []
  },
  {
   "cell_type": "code",
   "execution_count": null,
   "id": "76a473c9",
   "metadata": {},
   "outputs": [],
   "source": []
  },
  {
   "cell_type": "code",
   "execution_count": null,
   "id": "76ea7340",
   "metadata": {},
   "outputs": [],
   "source": [
    "folder = 'datasets/cleansed'\n",
    "\n",
    "color = ['red', 'green', 'blue', 'orange', 'purple', 'cyan']\n",
    "\n",
    "hill_params = {\n",
    "    \"pbad\": [0.52, -0.06, 0.15, -2.06],\n",
    "    \"pcin\": [-0.32, 0.91, 0.29, -3.11],\n",
    "    \"psalttc\": [-0.46, 1.76, 0.29, -1.71]\n",
    "}"
   ]
  },
  {
   "cell_type": "code",
   "execution_count": null,
   "id": "234e0088",
   "metadata": {},
   "outputs": [],
   "source": [
    "ara_2 = np.array([0, 0.05078125, 0.203125, 0.8125, 3.25, 13])\n",
    "ohc14_2 = np.array([0, 0.078125, 0.3125, 1.25, 5, 20])\n",
    "ara_rpu_2 = hill_activation_single(ara_2, *hill_params['pbad'])\n",
    "ohc14_rpu_2 = hill_activation_single(ohc14_2, *hill_params['pcin'])\n",
    "\n",
    "gates = pd.read_csv('{}/jump-and-gates.csv'.format(folder))\n",
    "e20 = pd.concat([pd.DataFrame(itertools.product(ara_rpu_2, ohc14_rpu_2)), gates['e20']], axis=1)\n",
    "e20.columns = ['ara', 'ohc14', 'fluo']\n",
    "e38 = pd.concat([pd.DataFrame(itertools.product(ara_rpu_2, ohc14_rpu_2)), gates['e38']], axis=1)\n",
    "e38.columns = ['ara', 'ohc14', 'fluo']"
   ]
  },
  {
   "cell_type": "code",
   "execution_count": null,
   "id": "2ea19a6c",
   "metadata": {},
   "outputs": [],
   "source": [
    "def inverse_hill(rpu, ag, K, n, eps):\n",
    "    \n",
    "    ag_, K_, n_, eps_ = 10**ag, 10**K, 10**n, 10**eps\n",
    "    #return (((rpu * (K_**n_)) - (ag_ * eps_ * (K_**n_))) / (ag_ - rpu))**(1/n_)\n",
    "    return (((rpu - (ag_ * eps_)) * (K_**n_))/(ag_ - rpu))**(1/n_)"
   ]
  },
  {
   "cell_type": "code",
   "execution_count": null,
   "id": "e2252912",
   "metadata": {},
   "outputs": [],
   "source": [
    "inverse_hill(ara_rpu_2, *hill_params['pbad'])"
   ]
  },
  {
   "cell_type": "markdown",
   "id": "929903ff",
   "metadata": {},
   "source": [
    "3-input AND gate."
   ]
  },
  {
   "cell_type": "code",
   "execution_count": null,
   "id": "659f46ca",
   "metadata": {},
   "outputs": [],
   "source": [
    "ara_3 = np.array([13, 52])\n",
    "ohc14_3 = np.array([0, 0.15])\n",
    "sal_3 = np.array([0, 100])\n",
    "ara_rpu_3 = hill_activation_single(ara_3, *hill_params['pbad'])\n",
    "ohc14_rpu_3 = hill_activation_single(ohc14_3, *hill_params['pcin'])\n",
    "sal_rpu_3 = hill_activation_single(sal_3, *hill_params['psalttc'])\n",
    "\n",
    "circuit = pd.DataFrame(itertools.product(ara_rpu_3, ohc14_rpu_3, sal_rpu_3))\n",
    "circuit.columns = ['ara', 'ohc14', 'sal']\n",
    "circuit = pd.concat([circuit, pd.read_csv('{}/3i-and-gates-jump.csv'.format(folder))['e38-e20']], axis=1)\n",
    "circuit = np.log10(circuit)"
   ]
  },
  {
   "cell_type": "code",
   "execution_count": null,
   "id": "1cfd6fcc",
   "metadata": {},
   "outputs": [],
   "source": [
    "ind1 = np.logspace(np.log10(ara_rpu_3.min()), np.log10(ara_rpu_3.max()), 4)\n",
    "ind2 = np.logspace(np.log10(ohc14_rpu_3.min()), np.log10(ohc14_rpu_3.max()), 7)\n",
    "ind3 = np.logspace(np.log10(sal_rpu_3.min()), np.log10(sal_rpu_3.max()), 9)\n",
    "r_ind1 = inverse_hill(ind1, *hill_params['pbad'])\n",
    "r_ind2 = inverse_hill(ind2, *hill_params['pcin'])\n",
    "r_ind3 = inverse_hill(ind3, *hill_params['psalttc'])\n",
    "r_ind1, r_ind2, r_ind3"
   ]
  },
  {
   "cell_type": "code",
   "execution_count": null,
   "id": "a3d1a14c",
   "metadata": {},
   "outputs": [],
   "source": []
  },
  {
   "cell_type": "code",
   "execution_count": null,
   "id": "6320cc09",
   "metadata": {},
   "outputs": [],
   "source": [
    "def plot_2d(model, data, title, show_interval=False, i1=ara_rpu_2, i2=ohc14_rpu_2):\n",
    "\n",
    "    ind1 = np.logspace(np.log10(i1.min()), np.log10(i1.max()), 1000)\n",
    "    ind2 = np.logspace(np.log10(i2.min()), np.log10(i2.max()), 1000)\n",
    "\n",
    "    act_data = np.log10(data)\n",
    "\n",
    "    row, col = 1, 2\n",
    "    f, axs = plt.subplots(row, col, sharex=False, sharey=False, figsize=(col*6, row*3))\n",
    "    axr = axs.ravel()\n",
    "\n",
    "    fixed = 'ara'\n",
    "    varied = 'ohc14'\n",
    "\n",
    "    inducers = [ara_rpu_2, ind2]\n",
    "    pred_data = pd.DataFrame(itertools.product(*inducers))\n",
    "    pred_data.columns = ['ara', 'ohc14']\n",
    "    pred_data = np.log10(pred_data)\n",
    "    if show_interval:\n",
    "        pred_data['prediction'], pred_data['std_prediction'] = model.predict(pred_data, return_std=True)\n",
    "    else:\n",
    "        pred_data['prediction'] = model.predict(pred_data)\n",
    "\n",
    "    for x, i in enumerate(act_data[fixed].unique()):\n",
    "        act = act_data[act_data[fixed]==i]\n",
    "        pred = pred_data[pred_data[fixed]==i]\n",
    "        axr[0].scatter(act[varied], act['fluo'], label=i, color=color[x])\n",
    "        axr[0].plot(pred[varied], pred['prediction'], color=color[x])\n",
    "        if show_interval:\n",
    "            axr[0].fill_between(\n",
    "                pred[varied],\n",
    "                pred['prediction'] - 1.96 * pred['std_prediction'],\n",
    "                pred['prediction'] + 1.96 * pred['std_prediction'],\n",
    "                alpha=0.5,\n",
    "                label=r\"95% confidence interval\", color=color[x]\n",
    "            )\n",
    "    axr[0].set_xlabel('{} (log)'.format(varied))\n",
    "    axr[0].set_ylabel('RPU (log)')\n",
    "\n",
    "    fixed = 'ohc14'\n",
    "    varied = 'ara'\n",
    "\n",
    "    inducers = [ind1, ohc14_rpu_2]\n",
    "    pred_data = pd.DataFrame(itertools.product(*inducers))\n",
    "    pred_data.columns = ['ara', 'ohc14']\n",
    "    pred_data = np.log10(pred_data)\n",
    "    if show_interval:\n",
    "        pred_data['prediction'], pred_data['std_prediction'] = model.predict(pred_data, return_std=True)\n",
    "    else:\n",
    "        pred_data['prediction'] = model.predict(pred_data)\n",
    "\n",
    "    for x, i in enumerate(act_data[fixed].unique()):\n",
    "        act = act_data[act_data[fixed]==i]\n",
    "        pred = pred_data[pred_data[fixed]==i]\n",
    "        axr[1].scatter(act[varied], act['fluo'], label=i, color=color[x])\n",
    "        axr[1].plot(pred[varied], pred['prediction'], color=color[x])\n",
    "        if show_interval:\n",
    "            axr[1].fill_between(\n",
    "                pred[varied],\n",
    "                pred['prediction'] - 1.96 * pred['std_prediction'],\n",
    "                pred['prediction'] + 1.96 * pred['std_prediction'],\n",
    "                alpha=0.4,\n",
    "                label=r\"95% confidence interval\", color=color[x]\n",
    "            )\n",
    "    axr[1].set_xlabel('{} (log)'.format(varied))\n",
    "    axr[1].set_ylabel('RPU (log)')\n",
    "\n",
    "    plt.suptitle(title)\n",
    "    plt.tight_layout()\n",
    "    sns.despine()"
   ]
  },
  {
   "cell_type": "code",
   "execution_count": null,
   "id": "eccd401f",
   "metadata": {},
   "outputs": [],
   "source": [
    "def plot_3d(models, data, title, i1=ara_rpu_3, i2=ohc14_rpu_3, i3=sal_rpu_3):\n",
    "\n",
    "    ind1 = np.logspace(np.log10(i1.min()), np.log10(i1.max()), 1000)\n",
    "    ind2 = np.logspace(np.log10(i2.min()), np.log10(i2.max()), 1000)\n",
    "    ind3 = np.logspace(np.log10(i3.min()), np.log10(i3.max()), 1000)\n",
    "\n",
    "    row, col = 2, 2\n",
    "    f, axs = plt.subplots(row, col, sharex=False, sharey=False, figsize=(col*6, row*3))\n",
    "    axr = axs.ravel()\n",
    "    \n",
    "    for x, s in enumerate(i3):\n",
    "    \n",
    "        for a in i1:\n",
    "\n",
    "            inducers = [[a], ind2, [s]]\n",
    "            pred_data = pd.DataFrame(itertools.product(*inducers))\n",
    "            pred_data.columns = ['ara', 'ohc14', 'sal']\n",
    "            pred_data = np.log10(pred_data)\n",
    "\n",
    "            pred_data['e38-pred'] = models[1].predict(pred_data[['ara', 'ohc14']])\n",
    "            pred_data['e20-pred'] = models[0].predict(pred_data[['e38-pred', 'sal']])\n",
    "\n",
    "            act_data = data[(data['ara']==np.log10(a)) & (data['sal']==np.log10(s))].reset_index(drop=True)\n",
    "\n",
    "            axr[x].scatter(act_data['ohc14'], act_data['e38-e20'])\n",
    "            axr[x].plot(pred_data['ohc14'], pred_data['e20-pred'], label=np.round(a, 2))\n",
    "\n",
    "            axr[x].set_xlabel('OHC14 (log)')\n",
    "            axr[x].set_ylabel('RPU (log)')\n",
    "            axr[x].set_title('Sal:{}'.format(np.round(s, 2)))\n",
    "            axr[x].legend(loc=4, bbox_to_anchor=(1.1, 1.05))\n",
    "\n",
    "    plt.suptitle(title)\n",
    "    plt.tight_layout()\n",
    "    sns.despine()"
   ]
  },
  {
   "cell_type": "code",
   "execution_count": null,
   "id": "09401a94",
   "metadata": {},
   "outputs": [],
   "source": [
    "X1 = np.log10(e20[['ara', 'ohc14']])\n",
    "y1 = np.log10(e20['fluo'])\n",
    "X2 = np.log10(e38[['ara', 'ohc14']])\n",
    "y2 = np.log10(e38['fluo'])"
   ]
  },
  {
   "cell_type": "markdown",
   "id": "8c2edf09",
   "metadata": {},
   "source": [
    "#### Gaussian Process #1"
   ]
  },
  {
   "cell_type": "code",
   "execution_count": null,
   "id": "cd660ba6",
   "metadata": {},
   "outputs": [],
   "source": [
    "kernel = WhiteKernel() + RBF(1, \"fixed\")\n",
    "model1 = gp.GaussianProcessRegressor(kernel=kernel)\n",
    "model1.fit(X1, y1)"
   ]
  },
  {
   "cell_type": "code",
   "execution_count": null,
   "id": "55688b4a",
   "metadata": {},
   "outputs": [],
   "source": [
    "kernel = WhiteKernel() + RBF(1, \"fixed\")\n",
    "model2 = gp.GaussianProcessRegressor(kernel=kernel)\n",
    "model2.fit(X2, y2)"
   ]
  },
  {
   "cell_type": "code",
   "execution_count": null,
   "id": "148c687a",
   "metadata": {},
   "outputs": [],
   "source": [
    "plot_2d(model1, e20, 'ECF20 - GP (White + RBF Kernels)')"
   ]
  },
  {
   "cell_type": "code",
   "execution_count": null,
   "id": "2702c2a1",
   "metadata": {},
   "outputs": [],
   "source": [
    "plot_2d(model2, e38, 'E38 - GP (White + RBF Kernels)')"
   ]
  },
  {
   "cell_type": "code",
   "execution_count": null,
   "id": "12e0df82",
   "metadata": {},
   "outputs": [],
   "source": [
    "plot_2d(model1, e20, 'ECF20 - GP (White + RBF Kernels)', True)"
   ]
  },
  {
   "cell_type": "code",
   "execution_count": null,
   "id": "98886367",
   "metadata": {},
   "outputs": [],
   "source": [
    "plot_2d(model2, e38, 'ECF38 - GP (White + RBF Kernels)', True)"
   ]
  },
  {
   "cell_type": "code",
   "execution_count": null,
   "id": "e5f13b7c",
   "metadata": {},
   "outputs": [],
   "source": [
    "plot_3d([model2, model1], circuit, 'E38-E20 - GP (White + RBF Kernels)')"
   ]
  },
  {
   "cell_type": "markdown",
   "id": "2f398ca3",
   "metadata": {},
   "source": [
    "#### Gaussian Process #2"
   ]
  },
  {
   "cell_type": "code",
   "execution_count": null,
   "id": "48c766bf",
   "metadata": {},
   "outputs": [],
   "source": [
    "model1 = gp.GaussianProcessRegressor()\n",
    "model1.fit(X1, y1)"
   ]
  },
  {
   "cell_type": "code",
   "execution_count": null,
   "id": "576e206c",
   "metadata": {},
   "outputs": [],
   "source": [
    "model2 = gp.GaussianProcessRegressor()\n",
    "model2.fit(X2, y2)"
   ]
  },
  {
   "cell_type": "code",
   "execution_count": null,
   "id": "d94eeb94",
   "metadata": {},
   "outputs": [],
   "source": [
    "def plot_2d_(model, data, title, show_interval=False, i1=ara_rpu_2, i2=ohc14_rpu_2):\n",
    "\n",
    "    ind1 = np.logspace(np.log10(i1.min()), np.log10(i1.max()), 1000)\n",
    "    ind2 = np.logspace(np.log10(i2.min()), np.log10(i2.max()), 1000)\n",
    "\n",
    "    act_data = np.log10(data)\n",
    "\n",
    "    row, col = 1, 2\n",
    "    f, axs = plt.subplots(row, col, sharex=False, sharey=False, figsize=(col*6, row*3))\n",
    "    axr = axs.ravel()\n",
    "\n",
    "    fixed = 'ara'\n",
    "    varied = 'ohc14'\n",
    "\n",
    "    inducers = [ara_rpu_2, ind2]\n",
    "    pred_data = pd.DataFrame(itertools.product(*inducers))\n",
    "    pred_data.columns = ['ara', 'ohc14']\n",
    "    pred_data = np.log10(pred_data)\n",
    "    if show_interval:\n",
    "        pred_data['prediction'], pred_data['std_prediction'] = model.predict(pred_data, return_std=True)\n",
    "    else:\n",
    "        pred_data['prediction'] = model.predict(pred_data)\n",
    "        \n",
    "    \n",
    "    \n",
    "    for x, i in enumerate(act_data[fixed].unique()):\n",
    "        act = act_data[act_data[fixed]==i]\n",
    "        pred = pred_data[pred_data[fixed]==i]\n",
    "        \n",
    "        axr[0].axvline(-3.15, linestyle='--')\n",
    "        axr[0].axvline(-2.4, linestyle='--')\n",
    "        axr[0].axvline(-1.425, linestyle='--')\n",
    "        axr[0].axvline(-0.625, linestyle='--')\n",
    "        \n",
    "        axr[0].scatter(act[varied], act['fluo'], label=i, color=color[x])\n",
    "        axr[0].plot(pred[varied], pred['prediction'], color=color[x])\n",
    "        if show_interval:\n",
    "            axr[0].fill_between(\n",
    "                pred[varied],\n",
    "                pred['prediction'] - 1.96 * pred['std_prediction'],\n",
    "                pred['prediction'] + 1.96 * pred['std_prediction'],\n",
    "                alpha=0.5,\n",
    "                label=r\"95% confidence interval\", color=color[x]\n",
    "            )\n",
    "    axr[0].set_xlabel('{} (log)'.format(varied))\n",
    "    axr[0].set_ylabel('RPU (log)')\n",
    "\n",
    "    fixed = 'ohc14'\n",
    "    varied = 'ara'\n",
    "\n",
    "    inducers = [ind1, ohc14_rpu_2]\n",
    "    pred_data = pd.DataFrame(itertools.product(*inducers))\n",
    "    pred_data.columns = ['ara', 'ohc14']\n",
    "    pred_data = np.log10(pred_data)\n",
    "    if show_interval:\n",
    "        pred_data['prediction'], pred_data['std_prediction'] = model.predict(pred_data, return_std=True)\n",
    "    else:\n",
    "        pred_data['prediction'] = model.predict(pred_data)\n",
    "\n",
    "    for x, i in enumerate(act_data[fixed].unique()):\n",
    "        act = act_data[act_data[fixed]==i]\n",
    "        pred = pred_data[pred_data[fixed]==i]\n",
    "        \n",
    "        axr[1].axvline(-1.325, linestyle='--')\n",
    "        axr[1].axvline(-0.75, linestyle='--')\n",
    "        axr[1].axvline(-0.1, linestyle='--')\n",
    "        axr[1].axvline(0.35, linestyle='--')\n",
    "        \n",
    "        axr[1].scatter(act[varied], act['fluo'], label=i, color=color[x])\n",
    "        axr[1].plot(pred[varied], pred['prediction'], color=color[x])\n",
    "        if show_interval:\n",
    "            axr[1].fill_between(\n",
    "                pred[varied],\n",
    "                pred['prediction'] - 1.96 * pred['std_prediction'],\n",
    "                pred['prediction'] + 1.96 * pred['std_prediction'],\n",
    "                alpha=0.4,\n",
    "                label=r\"95% confidence interval\", color=color[x]\n",
    "            )\n",
    "    axr[1].set_xlabel('{} (log)'.format(varied))\n",
    "    axr[1].set_ylabel('RPU (log)')\n",
    "\n",
    "    plt.suptitle(title)\n",
    "    plt.tight_layout()\n",
    "    sns.despine()\n",
    "    \n",
    "plot_2d_(model1, e20, 'ECF20 - GP (RBF Kernel)')"
   ]
  },
  {
   "cell_type": "code",
   "execution_count": null,
   "id": "d5e45e24",
   "metadata": {},
   "outputs": [],
   "source": [
    "aa = [10**a for a in [-3.15, -2.4, -1.425, -0.625]]\n",
    "bb = [10**b for b in [-1.325, -0.75, -0.1, 0.35]]\n",
    "aa, bb"
   ]
  },
  {
   "cell_type": "code",
   "execution_count": null,
   "id": "f0c1ac7d",
   "metadata": {},
   "outputs": [],
   "source": [
    "hill_activation_single(np.array([0.195, 0.666, 2.285, 8.05]), *hill_params['pcin'])"
   ]
  },
  {
   "cell_type": "code",
   "execution_count": null,
   "id": "5b3442d0",
   "metadata": {},
   "outputs": [],
   "source": [
    "hill_activation_single(np.array([0.0223, 0.1008, 0.375, 1.453]), *hill_params['pbad'])"
   ]
  },
  {
   "cell_type": "code",
   "execution_count": null,
   "id": "e19e6e10",
   "metadata": {},
   "outputs": [],
   "source": [
    "plot_2d_(model2, e38, 'ECF38 - GP (RBF Kernel)')"
   ]
  },
  {
   "cell_type": "code",
   "execution_count": null,
   "id": "2b7fc54f",
   "metadata": {},
   "outputs": [],
   "source": [
    "plot_2d(model1, e20, 'ECF20 - GP (RBF Kernel)', True)"
   ]
  },
  {
   "cell_type": "code",
   "execution_count": null,
   "id": "4d65c870",
   "metadata": {},
   "outputs": [],
   "source": [
    "plot_2d(model2, e38, 'ECF38 - GP (RBF Kernel)', True)"
   ]
  },
  {
   "cell_type": "code",
   "execution_count": null,
   "id": "07917c04",
   "metadata": {},
   "outputs": [],
   "source": [
    "plot_3d([model2, model1], circuit, 'E38-E20 - GP (RBF Kernel)')"
   ]
  },
  {
   "cell_type": "markdown",
   "id": "27d1f0ad",
   "metadata": {},
   "source": [
    "#### Optimized Induction"
   ]
  },
  {
   "cell_type": "code",
   "execution_count": null,
   "id": "7367bfac",
   "metadata": {},
   "outputs": [],
   "source": [
    "ara_22 = np.array([0, 0.0223, 0.1008, 0.375, 1.453, 13])\n",
    "ohc14_22 = np.array([0, 0.195, 0.666, 2.285, 8.05, 20])\n",
    "ara_rpu_22 = hill_activation_single(ara_22, *hill_params['pbad'])\n",
    "ohc14_rpu_22 = hill_activation_single(ohc14_22, *hill_params['pcin'])\n",
    "\n",
    "gates2 = pd.read_csv('{}/jump-and-gates-optimized.csv'.format(folder))\n",
    "e20_ = pd.concat([pd.DataFrame(itertools.product(ara_rpu_22, ohc14_rpu_22)), gates['e20']], axis=1)\n",
    "e20_.columns = ['ara', 'ohc14', 'fluo']\n",
    "e38_ = pd.concat([pd.DataFrame(itertools.product(ara_rpu_22, ohc14_rpu_22)), gates['e38']], axis=1)\n",
    "e38_.columns = ['ara', 'ohc14', 'fluo']"
   ]
  },
  {
   "cell_type": "code",
   "execution_count": null,
   "id": "ff8f2920",
   "metadata": {},
   "outputs": [],
   "source": [
    "X1_ = np.log10(e20_[['ara', 'ohc14']])\n",
    "y1_ = np.log10(e20_['fluo'])\n",
    "X2_ = np.log10(e38_[['ara', 'ohc14']])\n",
    "y2_ = np.log10(e38_['fluo'])"
   ]
  },
  {
   "cell_type": "code",
   "execution_count": null,
   "id": "119f3ded",
   "metadata": {},
   "outputs": [],
   "source": [
    "ara_22_exp = np.array([0, 0.1008, 13])\n",
    "ohc14_22_exp = np.array([0, 0.666, 20])\n",
    "ara_rpu_22_exp = hill_activation_single(ara_22_exp, *hill_params['pbad'])\n",
    "ohc14_rpu_22_exp = hill_activation_single(ohc14_22_exp, *hill_params['pcin'])"
   ]
  },
  {
   "cell_type": "code",
   "execution_count": null,
   "id": "1b71d86c",
   "metadata": {},
   "outputs": [],
   "source": [
    "exp_inducers = pd.DataFrame(itertools.product(ara_rpu_22_exp, ohc14_rpu_22_exp))\n",
    "exp_inducers.columns = ['ara', 'ohc14']\n",
    "e20_exp = pd.merge(exp_inducers, e20_, on=['ara', 'ohc14'], how='left')"
   ]
  },
  {
   "cell_type": "code",
   "execution_count": null,
   "id": "3e6e51a8",
   "metadata": {},
   "outputs": [],
   "source": [
    "X1_exp = np.log10(e20_exp[['ara', 'ohc14']])\n",
    "y1_exp = np.log10(e20_exp['fluo'])\n",
    "model_exp = gp.GaussianProcessRegressor()\n",
    "model_exp.fit(X1_exp, y1_exp)"
   ]
  },
  {
   "cell_type": "code",
   "execution_count": null,
   "id": "f3869b51",
   "metadata": {},
   "outputs": [],
   "source": [
    "plot_2d2(model_exp, e20_exp, 'ECF20', True)"
   ]
  },
  {
   "cell_type": "code",
   "execution_count": null,
   "id": "3d9024f4",
   "metadata": {},
   "outputs": [],
   "source": [
    "plot_2d2(model_exp, e20_exp, 'ECF20', True)"
   ]
  },
  {
   "cell_type": "code",
   "execution_count": null,
   "id": "94e73fb9",
   "metadata": {},
   "outputs": [],
   "source": []
  },
  {
   "cell_type": "code",
   "execution_count": null,
   "id": "f645d803",
   "metadata": {},
   "outputs": [],
   "source": [
    "kernel = WhiteKernel() + RBF(1, \"fixed\")\n",
    "model1_ = gp.GaussianProcessRegressor(kernel=kernel)\n",
    "model1_.fit(X1_, y1_)"
   ]
  },
  {
   "cell_type": "code",
   "execution_count": null,
   "id": "6cfcc02e",
   "metadata": {},
   "outputs": [],
   "source": [
    "kernel = WhiteKernel() + RBF(1, \"fixed\")\n",
    "model2_ = gp.GaussianProcessRegressor(kernel=kernel)\n",
    "model2_.fit(X2_, y2_)"
   ]
  },
  {
   "cell_type": "code",
   "execution_count": null,
   "id": "3e5e1c7b",
   "metadata": {},
   "outputs": [],
   "source": [
    "def plot_2d2(model, data, title, show_interval=False, i1=ara_rpu_22, i2=ohc14_rpu_22):\n",
    "\n",
    "    ind1 = np.logspace(np.log10(i1.min()), np.log10(i1.max()), 1000)\n",
    "    ind2 = np.logspace(np.log10(i2.min()), np.log10(i2.max()), 1000)\n",
    "\n",
    "    act_data = np.log10(data)\n",
    "\n",
    "    row, col = 1, 2\n",
    "    f, axs = plt.subplots(row, col, sharex=False, sharey=False, figsize=(col*6, row*3))\n",
    "    axr = axs.ravel()\n",
    "\n",
    "    fixed = 'ara'\n",
    "    varied = 'ohc14'\n",
    "\n",
    "    inducers = [ara_rpu_22, ind2]\n",
    "    pred_data = pd.DataFrame(itertools.product(*inducers))\n",
    "    pred_data.columns = ['ara', 'ohc14']\n",
    "    pred_data = np.log10(pred_data)\n",
    "    if show_interval:\n",
    "        pred_data['prediction'], pred_data['std_prediction'] = model.predict(pred_data, return_std=True)\n",
    "    else:\n",
    "        pred_data['prediction'] = model.predict(pred_data)\n",
    "\n",
    "    for x, i in enumerate(act_data[fixed].unique()):\n",
    "        act = act_data[act_data[fixed]==i]\n",
    "        pred = pred_data[pred_data[fixed]==i]\n",
    "        axr[0].scatter(act[varied], act['fluo'], label=i, color=color[x])\n",
    "        axr[0].plot(pred[varied], pred['prediction'], color=color[x])\n",
    "        if show_interval:\n",
    "            axr[0].fill_between(\n",
    "                pred[varied],\n",
    "                pred['prediction'] - 1.96 * pred['std_prediction'],\n",
    "                pred['prediction'] + 1.96 * pred['std_prediction'],\n",
    "                alpha=0.5,\n",
    "                label=r\"95% confidence interval\", color=color[x]\n",
    "            )\n",
    "    axr[0].set_xlabel('{} (log)'.format(varied))\n",
    "    axr[0].set_ylabel('RPU (log)')\n",
    "\n",
    "    fixed = 'ohc14'\n",
    "    varied = 'ara'\n",
    "\n",
    "    inducers = [ind1, ohc14_rpu_22]\n",
    "    pred_data = pd.DataFrame(itertools.product(*inducers))\n",
    "    pred_data.columns = ['ara', 'ohc14']\n",
    "    pred_data = np.log10(pred_data)\n",
    "    if show_interval:\n",
    "        pred_data['prediction'], pred_data['std_prediction'] = model.predict(pred_data, return_std=True)\n",
    "    else:\n",
    "        pred_data['prediction'] = model.predict(pred_data)\n",
    "\n",
    "    for x, i in enumerate(act_data[fixed].unique()):\n",
    "        act = act_data[act_data[fixed]==i]\n",
    "        pred = pred_data[pred_data[fixed]==i]\n",
    "        axr[1].scatter(act[varied], act['fluo'], label=i, color=color[x])\n",
    "        axr[1].plot(pred[varied], pred['prediction'], color=color[x])\n",
    "        if show_interval:\n",
    "            axr[1].fill_between(\n",
    "                pred[varied],\n",
    "                pred['prediction'] - 1.96 * pred['std_prediction'],\n",
    "                pred['prediction'] + 1.96 * pred['std_prediction'],\n",
    "                alpha=0.4,\n",
    "                label=r\"95% confidence interval\", color=color[x]\n",
    "            )\n",
    "    axr[1].set_xlabel('{} (log)'.format(varied))\n",
    "    axr[1].set_ylabel('RPU (log)')\n",
    "\n",
    "    plt.suptitle(title)\n",
    "    plt.tight_layout()\n",
    "    sns.despine()"
   ]
  },
  {
   "cell_type": "code",
   "execution_count": null,
   "id": "87b772e7",
   "metadata": {},
   "outputs": [],
   "source": [
    "plot_2d2(model1_, e20_, 'ECF20 - GP (White + RBF Kernel)', True)"
   ]
  },
  {
   "cell_type": "code",
   "execution_count": null,
   "id": "d8c9bc53",
   "metadata": {},
   "outputs": [],
   "source": [
    "plot_2d2(model2_, e38_, 'ECF38 - GP (White + RBF Kernel)', True)"
   ]
  },
  {
   "cell_type": "code",
   "execution_count": null,
   "id": "d8c02897",
   "metadata": {},
   "outputs": [],
   "source": [
    "plot_3d([model2_, model1_], circuit, 'E38-E20 - GP (RBF Kernel)')"
   ]
  },
  {
   "cell_type": "markdown",
   "id": "73eb8426",
   "metadata": {},
   "source": [
    "#### Neural Network"
   ]
  },
  {
   "cell_type": "code",
   "execution_count": null,
   "id": "5be28177",
   "metadata": {},
   "outputs": [],
   "source": [
    "model1 = MLPRegressor(solver='lbfgs')\n",
    "model1.fit(X1_, y1_)"
   ]
  },
  {
   "cell_type": "code",
   "execution_count": null,
   "id": "d911e6e3",
   "metadata": {},
   "outputs": [],
   "source": [
    "model2 = MLPRegressor(solver='lbfgs')\n",
    "model2.fit(X2_, y2_)"
   ]
  },
  {
   "cell_type": "code",
   "execution_count": null,
   "id": "9ef5cdff",
   "metadata": {},
   "outputs": [],
   "source": [
    "plot_2d2(model1, e20_, 'ECF20 - MLP (300:300)')"
   ]
  },
  {
   "cell_type": "code",
   "execution_count": null,
   "id": "8f233ef3",
   "metadata": {},
   "outputs": [],
   "source": [
    "plot_2d2(model2, e38_, 'ECF38 - MLP (300:300)')"
   ]
  },
  {
   "cell_type": "code",
   "execution_count": null,
   "id": "62dfddcb",
   "metadata": {},
   "outputs": [],
   "source": [
    "plot_3d([model2, model1], circuit, 'E38-E20 - MLP (300:300)')"
   ]
  },
  {
   "cell_type": "code",
   "execution_count": null,
   "id": "32a658a6",
   "metadata": {},
   "outputs": [],
   "source": [
    "circuit2"
   ]
  },
  {
   "cell_type": "code",
   "execution_count": null,
   "id": "adc12c82",
   "metadata": {},
   "outputs": [],
   "source": [
    "circuit2 = circuit.copy()\n",
    "circuit2['e38-pred'] = model2.predict(circuit2[['ara', 'ohc14']])\n",
    "circuit2['e20-pred'] = model1.predict(circuit2[['sal', 'e38-pred']])\n",
    "\n",
    "mape = 100 - mean_absolute_percentage_error(circuit2['e38-e20'], circuit2['e20-pred'])\n",
    "r = r2_score(circuit2['e38-e20'], circuit2['e20-pred'])\n",
    "sns.regplot(circuit2['e38-e20'], circuit2['e20-pred'], label='mape:{}, r2:{}'.format(np.round(mape, 2), np.round(r, 2)))\n",
    "plt.legend()\n",
    "plt.xlabel('experiment (log)')\n",
    "plt.ylabel('prediction (log)')\n",
    "plt.title('E38-E20 - GP')\n",
    "sns.despine()"
   ]
  },
  {
   "cell_type": "code",
   "execution_count": null,
   "id": "81ae58dc",
   "metadata": {},
   "outputs": [],
   "source": [
    "for s in circuit2['sal'].unique():\n",
    "    print(s)"
   ]
  },
  {
   "cell_type": "code",
   "execution_count": null,
   "id": "f4f06051",
   "metadata": {},
   "outputs": [],
   "source": [
    "temp = circuit2[circuit2['sal']==-0.5843732235547442]\n",
    "for a in temp['ara'].unique():\n",
    "    #temp = temp[temp['ara']==a]\n",
    "    #print(a)\n",
    "    b = temp[temp['ara']==a].reset_index(drop=True)\n",
    "    #print(a, b['ohc14'])\n",
    "    plt.scatter(b.index, b['e38-e20'], label=np.round(a, 2))\n",
    "    plt.plot(b.index, b['e38-pred'])\n",
    "plt.legend()"
   ]
  },
  {
   "cell_type": "code",
   "execution_count": null,
   "id": "ccf701c9",
   "metadata": {},
   "outputs": [],
   "source": [
    "temp = circuit2[circuit2['sal']==-2.17]\n",
    "for a in temp['ara'].unique():\n",
    "    #temp = temp[temp['ara']==a]\n",
    "    #print(a)\n",
    "    b = temp[temp['ara']==a].reset_index(drop=True)\n",
    "    #print(a, b['ohc14'])\n",
    "    plt.scatter(b.index, b['e38-e20'], label=np.round(a, 2))\n",
    "    plt.plot(b.index, b['e38-pred'])\n",
    "plt.legend()"
   ]
  },
  {
   "cell_type": "code",
   "execution_count": null,
   "id": "97918b57",
   "metadata": {},
   "outputs": [],
   "source": [
    "on_off = [[a, b] for a, b in zip(circuit2[['ara', 'ohc14', 'sal']].min().tolist(), circuit2[['ara', 'ohc14', 'sal']].max().tolist())]\n",
    "on_off_df = pd.DataFrame(itertools.product(*on_off))\n",
    "on_off_df.columns = ['ara', 'ohc14', 'sal']\n",
    "on_off_df = pd.merge(on_off_df, circuit2, on=['ara', 'ohc14', 'sal'], how='left')\n",
    "on_off_df"
   ]
  },
  {
   "cell_type": "code",
   "execution_count": null,
   "id": "efa81669",
   "metadata": {},
   "outputs": [],
   "source": [
    "w = 0.3\n",
    "plt.bar(on_off_df.index, [10**a for a in on_off_df['e38-e20']], width=w, label='experiment')\n",
    "plt.bar(on_off_df.index+w, [10**a for a in on_off_df['e20-pred']], width=w, label='prediction')\n",
    "plt.axhline(1, linestyle='dotted', color='gray', label='on-off threshold')\n",
    "plt.legend()\n",
    "plt.title('E38-E20 - GP')\n",
    "sns.despine()"
   ]
  },
  {
   "cell_type": "code",
   "execution_count": null,
   "id": "2f2310f2",
   "metadata": {},
   "outputs": [],
   "source": [
    "w = 0.3\n",
    "plt.bar(on_off_df.index, [10**a for a in on_off_df['e38-e20']], width=w, label='experiment')\n",
    "plt.bar(on_off_df.index+w, [10**a for a in on_off_df['e20-pred']], width=w, label='prediction')\n",
    "plt.axhline(1, linestyle='dotted', color='gray', label='on-off threshold')\n",
    "plt.legend()\n",
    "plt.title('E38-E20 - NN')\n",
    "sns.despine()"
   ]
  },
  {
   "cell_type": "markdown",
   "id": "e5c181c3",
   "metadata": {},
   "source": [
    "#### Selected 9 AND gates"
   ]
  },
  {
   "cell_type": "code",
   "execution_count": null,
   "id": "e2921d7d",
   "metadata": {},
   "outputs": [],
   "source": [
    "gate_names = ['e11x32STPhoRadA', 'e15x32NpuSspS2', 'e16x33NrdA2',\n",
    "             'e20x32gp411', 'e32x30SspGyrB', 'e34x30MjaKlbA',\n",
    "             'e38x32gp418', 'e41x32NrdJ1', 'e42x32STIMPDH1']\n",
    "ara_3k3 = np.array([0, 0.8125, 3.25, 13, 52, 208])\n",
    "cuma_3k3 = np.array([0, 0.078125, 0.3125, 1.25, 5, 20])\n",
    "\n",
    "hill_params_3k3 = {\n",
    "    'pbad': [0.88, 0.3, 0.32, -2.85],\n",
    "    'pcymrc': [0.1, 1.82, 0.49, -2.9]\n",
    "}\n",
    "\n",
    "ara_3k3_rpu = hill_activation_single(ara_3k3, *hill_params_3k3['pbad'])\n",
    "cuma_3k3_rpu = hill_activation_single(cuma_3k3, *hill_params_3k3['pcymrc'])\n",
    "\n",
    "gates_3k3 = pd.read_csv('{}/selected-9-and-gates.csv'.format(folder))\n",
    "e11 = pd.concat([pd.DataFrame(itertools.product(ara_3k3_rpu, cuma_3k3_rpu)), gates_3k3[gate_names[0]]], axis=1)\n",
    "e11.columns = ['ara', 'cuma', 'fluo']\n",
    "e15 = pd.concat([pd.DataFrame(itertools.product(ara_3k3_rpu, cuma_3k3_rpu)), gates_3k3[gate_names[1]]], axis=1)\n",
    "e15.columns = ['ara', 'cuma', 'fluo']\n",
    "e16 = pd.concat([pd.DataFrame(itertools.product(ara_3k3_rpu, cuma_3k3_rpu)), gates_3k3[gate_names[2]]], axis=1)\n",
    "e16.columns = ['ara', 'cuma', 'fluo']\n",
    "e32 = pd.concat([pd.DataFrame(itertools.product(ara_3k3_rpu, cuma_3k3_rpu)), gates_3k3[gate_names[4]]], axis=1)\n",
    "e32.columns = ['ara', 'cuma', 'fluo']\n",
    "e34 = pd.concat([pd.DataFrame(itertools.product(ara_3k3_rpu, cuma_3k3_rpu)), gates_3k3[gate_names[5]]], axis=1)\n",
    "e34.columns = ['ara', 'cuma', 'fluo']"
   ]
  },
  {
   "cell_type": "code",
   "execution_count": null,
   "id": "41b2f362",
   "metadata": {},
   "outputs": [],
   "source": [
    "def plot_2d_3k3(model, data, title, show_interval=False, i1=ara_3k3_rpu, i2=cuma_3k3_rpu):\n",
    "\n",
    "    ind1 = np.logspace(np.log10(i1.min()), np.log10(i1.max()), 1000)\n",
    "    ind2 = np.logspace(np.log10(i2.min()), np.log10(i2.max()), 1000)\n",
    "\n",
    "    act_data = np.log10(data)\n",
    "\n",
    "    row, col = 1, 2\n",
    "    f, axs = plt.subplots(row, col, sharex=False, sharey=False, figsize=(col*6, row*3))\n",
    "    axr = axs.ravel()\n",
    "\n",
    "    fixed = 'ara'\n",
    "    varied = 'cuma'\n",
    "\n",
    "    inducers = [i1, ind2]\n",
    "    pred_data = pd.DataFrame(itertools.product(*inducers))\n",
    "    pred_data.columns = ['ara', 'cuma']\n",
    "    pred_data = np.log10(pred_data)\n",
    "    if show_interval:\n",
    "        pred_data['prediction'], pred_data['std_prediction'] = model.predict(pred_data, return_std=True)\n",
    "    else:\n",
    "        pred_data['prediction'] = model.predict(pred_data)\n",
    "\n",
    "    for x, i in enumerate(act_data[fixed].unique()):\n",
    "        act = act_data[act_data[fixed]==i]\n",
    "        pred = pred_data[pred_data[fixed]==i]\n",
    "        axr[0].scatter(act[varied], act['fluo'], label=i, color=color[x])\n",
    "        axr[0].plot(pred[varied], pred['prediction'], color=color[x])\n",
    "        if show_interval:\n",
    "            axr[0].fill_between(\n",
    "                pred[varied],\n",
    "                pred['prediction'] - 1.96 * pred['std_prediction'],\n",
    "                pred['prediction'] + 1.96 * pred['std_prediction'],\n",
    "                alpha=0.5,\n",
    "                label=r\"95% confidence interval\", color=color[x]\n",
    "            )\n",
    "    axr[0].set_xlabel('{} (log)'.format(varied))\n",
    "    axr[0].set_ylabel('RPU (log)')\n",
    "\n",
    "    fixed = 'cuma'\n",
    "    varied = 'ara'\n",
    "\n",
    "    inducers = [ind1, i2]\n",
    "    pred_data = pd.DataFrame(itertools.product(*inducers))\n",
    "    pred_data.columns = ['ara', 'cuma']\n",
    "    pred_data = np.log10(pred_data)\n",
    "    if show_interval:\n",
    "        pred_data['prediction'], pred_data['std_prediction'] = model.predict(pred_data, return_std=True)\n",
    "    else:\n",
    "        pred_data['prediction'] = model.predict(pred_data)\n",
    "\n",
    "    for x, i in enumerate(act_data[fixed].unique()):\n",
    "        act = act_data[act_data[fixed]==i]\n",
    "        pred = pred_data[pred_data[fixed]==i]\n",
    "        axr[1].scatter(act[varied], act['fluo'], label=i, color=color[x])\n",
    "        axr[1].plot(pred[varied], pred['prediction'], color=color[x])\n",
    "        if show_interval:\n",
    "            axr[1].fill_between(\n",
    "                pred[varied],\n",
    "                pred['prediction'] - 1.96 * pred['std_prediction'],\n",
    "                pred['prediction'] + 1.96 * pred['std_prediction'],\n",
    "                alpha=0.4,\n",
    "                label=r\"95% confidence interval\", color=color[x]\n",
    "            )\n",
    "    axr[1].set_xlabel('{} (log)'.format(varied))\n",
    "    axr[1].set_ylabel('RPU (log)')\n",
    "\n",
    "    plt.suptitle(title)\n",
    "    plt.tight_layout()\n",
    "    sns.despine()"
   ]
  },
  {
   "cell_type": "code",
   "execution_count": null,
   "id": "4faf6ba2",
   "metadata": {},
   "outputs": [],
   "source": [
    "X = np.log10(e15[['ara', 'cuma']])\n",
    "y = np.log10(e15['fluo'])"
   ]
  },
  {
   "cell_type": "code",
   "execution_count": null,
   "id": "b88432b3",
   "metadata": {},
   "outputs": [],
   "source": [
    "model = MLPRegressor(solver='lbfgs')\n",
    "model.fit(X, y)"
   ]
  },
  {
   "cell_type": "code",
   "execution_count": null,
   "id": "3c944a17",
   "metadata": {},
   "outputs": [],
   "source": [
    "plot_2d_3k3(model, e15, 'ECF15 (RBF Kernel)')"
   ]
  },
  {
   "cell_type": "code",
   "execution_count": null,
   "id": "47bd365b",
   "metadata": {},
   "outputs": [],
   "source": []
  },
  {
   "cell_type": "code",
   "execution_count": null,
   "id": "ce2a77d5",
   "metadata": {},
   "outputs": [],
   "source": []
  },
  {
   "cell_type": "code",
   "execution_count": null,
   "id": "2951e404",
   "metadata": {},
   "outputs": [],
   "source": []
  },
  {
   "cell_type": "code",
   "execution_count": null,
   "id": "83e33ed8",
   "metadata": {},
   "outputs": [],
   "source": []
  },
  {
   "cell_type": "code",
   "execution_count": null,
   "id": "7185f794",
   "metadata": {},
   "outputs": [],
   "source": [
    "color = ['red', 'green', 'blue', 'orange', 'purple', 'cyan']"
   ]
  },
  {
   "cell_type": "code",
   "execution_count": null,
   "id": "e34640f3",
   "metadata": {},
   "outputs": [],
   "source": [
    "model = model2\n",
    "data = e38.copy()\n",
    "show_interval = False\n",
    "\n",
    "act_data = np.log10(data)\n",
    "\n",
    "row, col = 1, 2\n",
    "f, axs = plt.subplots(row, col, sharex=False, sharey=False, figsize=(col*6, row*3))\n",
    "axr = axs.ravel()\n",
    "\n",
    "fixed = 'ara'\n",
    "varied = 'ohc14'\n",
    "\n",
    "inducers = [ara_rpu_2, ind2]\n",
    "pred_data = pd.DataFrame(itertools.product(*inducers))\n",
    "pred_data.columns = ['ara', 'ohc14']\n",
    "pred_data = np.log10(pred_data)\n",
    "if show_interval:\n",
    "    pred_data['prediction'], pred_data['std_prediction'] = model.predict(pred_data, return_std=True)\n",
    "else:\n",
    "    pred_data['prediction'] = model.predict(pred_data)\n",
    "\n",
    "for x, i in enumerate(act_data[fixed].unique()):\n",
    "    act = act_data[act_data[fixed]==i]\n",
    "    pred = pred_data[pred_data[fixed]==i]\n",
    "    axr[0].scatter(act[varied], act['fluo'], label=i, color=color[x])\n",
    "    axr[0].plot(pred[varied], pred['prediction'], color=color[x])\n",
    "    if show_interval:\n",
    "        axr[0].fill_between(\n",
    "            pred[varied],\n",
    "            pred['prediction'] - 1.96 * pred['std_prediction'],\n",
    "            pred['prediction'] + 1.96 * pred['std_prediction'],\n",
    "            alpha=0.5,\n",
    "            label=r\"95% confidence interval\", color=color[x]\n",
    "        )\n",
    "axr[0].set_xlabel('{} (logscale)'.format(varied))\n",
    "axr[0].set_ylabel('RPU (logscale)')\n",
    "\n",
    "fixed = 'ohc14'\n",
    "varied = 'ara'\n",
    "\n",
    "inducers = [ind1, ohc14_rpu_2]\n",
    "pred_data = pd.DataFrame(itertools.product(*inducers))\n",
    "pred_data.columns = ['ara', 'ohc14']\n",
    "pred_data = np.log10(pred_data)\n",
    "if show_interval:\n",
    "    pred_data['prediction'], pred_data['std_prediction'] = model.predict(pred_data, return_std=True)\n",
    "else:\n",
    "    pred_data['prediction'] = model.predict(pred_data)\n",
    "\n",
    "for x, i in enumerate(act_data[fixed].unique()):\n",
    "    act = act_data[act_data[fixed]==i]\n",
    "    pred = pred_data[pred_data[fixed]==i]\n",
    "    axr[1].scatter(act[varied], act['fluo'], label=i, color=color[x])\n",
    "    axr[1].plot(pred[varied], pred['prediction'], color=color[x])\n",
    "    if show_interval:\n",
    "        axr[1].fill_between(\n",
    "            pred[varied],\n",
    "            pred['prediction'] - 1.96 * pred['std_prediction'],\n",
    "            pred['prediction'] + 1.96 * pred['std_prediction'],\n",
    "            alpha=0.4,\n",
    "            label=r\"95% confidence interval\", color=color[x]\n",
    "        )\n",
    "axr[1].set_xlabel('{} (logscale)'.format(varied))\n",
    "axr[1].set_ylabel('RPU (logscale)')\n",
    "\n",
    "plt.tight_layout()\n",
    "sns.despine()"
   ]
  },
  {
   "cell_type": "markdown",
   "id": "f9d50f63",
   "metadata": {},
   "source": [
    "### 3-input AND gates"
   ]
  },
  {
   "cell_type": "code",
   "execution_count": null,
   "id": "12d89015",
   "metadata": {},
   "outputs": [],
   "source": [
    "circuit = pd.read_csv('{}/3i-and-gates-jump.csv'.format(folder))\n",
    "inducers = [ara_rpu_3, ohc14_rpu_3, sal_rpu_3]\n",
    "df3 = pd.DataFrame(itertools.product(*inducers))\n",
    "df3.columns = ['ara', 'ohc14', 'sal']\n",
    "df3 = pd.concat([df3, circuit['e38-e20']], axis=1)\n",
    "df3 = np.log10(df3)"
   ]
  },
  {
   "cell_type": "code",
   "execution_count": null,
   "id": "f419ce11",
   "metadata": {},
   "outputs": [],
   "source": [
    "df3['e38-pred'] = model2.predict(df3[['ara', 'ohc14']])\n",
    "df3['e20-pred'] = model1.predict(df3[['e38-pred', 'sal']])"
   ]
  },
  {
   "cell_type": "code",
   "execution_count": null,
   "id": "a4b32138",
   "metadata": {},
   "outputs": [],
   "source": [
    "mape = 100 - mean_absolute_percentage_error(df3['e38-e20'], df3['e20-pred'])\n",
    "r = r2_score(df3['e38-e20'], df3['e20-pred'])\n",
    "sns.regplot(df3['e38-e20'], df3['e20-pred'], label='mape:{}, r2:{}'.format(np.round(mape, 2), np.round(r, 2)))\n",
    "plt.legend()\n",
    "sns.despine()"
   ]
  },
  {
   "cell_type": "code",
   "execution_count": null,
   "id": "edddfdda",
   "metadata": {},
   "outputs": [],
   "source": [
    "def plot_3d(models, data, i1=ara_rpu_3, i2=ohc14_rpu_3, i3=sal_rpu_3)\n",
    "\n",
    "    ind1 = np.logspace(np.log10(i1.min()), np.log10(i1.max()), 1000)\n",
    "    ind2 = np.logspace(np.log10(i2.min()), np.log10(i2.max()), 1000)\n",
    "    ind3 = np.logspace(np.log10(i3.min()), np.log10(i3.max()), 1000)\n",
    "\n",
    "    row, col = 2, 2\n",
    "    f, axs = plt.subplots(row, col, sharex=False, sharey=False, figsize=(col*6, row*3))\n",
    "    axr = axs.ravel()\n",
    "\n",
    "    for x, a in enumerate(i1):\n",
    "\n",
    "        for o in i2:\n",
    "\n",
    "            inducers = [[a], [o], ind3]\n",
    "            pred_data = pd.DataFrame(itertools.product(*inducers))\n",
    "            pred_data.columns = ['ara', 'ohc14', 'sal']\n",
    "            pred_data = np.log10(pred_data)\n",
    "\n",
    "            pred_data['e38-pred'] = models[1].predict(pred_data[['ara', 'ohc14']])\n",
    "            pred_data['e20-pred'] = models[0].predict(pred_data[['e38-pred', 'sal']])\n",
    "\n",
    "            act_data = df3[(df3['ara']==np.log10(a)) & (df3['ohc14']==np.log10(o))].reset_index(drop=True)\n",
    "\n",
    "            axr[x].scatter(act_data['sal'], act_data['e38-e20'])\n",
    "            axr[x].plot(pred_data['sal'], pred_data['e20-pred'], label=np.round(o, 2))\n",
    "\n",
    "            axr[x].set_xlabel('Sal')\n",
    "            axr[x].set_ylabel('GFP (RPU)')\n",
    "            axr[x].set_title('Ara:{}'.format(np.round(a, 2)))\n",
    "            axr[x].legend(loc=4, bbox_to_anchor=(1.1, 1.05))\n",
    "\n",
    "    plt.tight_layout()\n",
    "    sns.despine()"
   ]
  },
  {
   "cell_type": "code",
   "execution_count": null,
   "id": "43533c48",
   "metadata": {},
   "outputs": [],
   "source": [
    "row, col = 2, 2\n",
    "f, axs = plt.subplots(row, col, sharex=False, sharey=False, figsize=(col*6, row*3))\n",
    "axr = axs.ravel()\n",
    "\n",
    "for x, o in enumerate(ohc14_rpu_3):\n",
    "    \n",
    "    for s in sal_rpu_3:\n",
    "        \n",
    "        inducers = [ind1, [o], [s]]\n",
    "        pred_data = pd.DataFrame(itertools.product(*inducers))\n",
    "        pred_data.columns = ['ara', 'ohc14', 'sal']\n",
    "        pred_data = np.log10(pred_data)\n",
    "        \n",
    "        pred_data['e38-pred'] = model2.predict(pred_data[['ara', 'ohc14']])\n",
    "        pred_data['e20-pred'] = model1.predict(pred_data[['e38-pred', 'sal']])\n",
    "        \n",
    "        \n",
    "        act_data = df3[(df3['ohc14']==np.log10(o)) & (df3['sal']==np.log10(s))].reset_index(drop=True)\n",
    "        \n",
    "        axr[x].scatter(act_data['ara'], act_data['e38-e20'])\n",
    "        axr[x].plot(pred_data['ara'], pred_data['e20-pred'], label=np.round(s, 2))\n",
    "        \n",
    "        axr[x].set_xlabel('Ara')\n",
    "        axr[x].set_ylabel('GFP (RPU)')\n",
    "        axr[x].set_title('OHC14:{}'.format(np.round(o, 2)))\n",
    "        axr[x].legend(loc=4, bbox_to_anchor=(1.1, 1.05))\n",
    "        \n",
    "plt.tight_layout()\n",
    "sns.despine()"
   ]
  },
  {
   "cell_type": "code",
   "execution_count": null,
   "id": "7604b79e",
   "metadata": {},
   "outputs": [],
   "source": [
    "row, col = 2, 2\n",
    "f, axs = plt.subplots(row, col, sharex=False, sharey=False, figsize=(col*6, row*3))\n",
    "axr = axs.ravel()\n",
    "\n",
    "for x, s in enumerate(sal_rpu_3):\n",
    "    \n",
    "    for a in ara_rpu_3:\n",
    "        \n",
    "        inducers = [[a], ind2, [s]]\n",
    "        pred_data = pd.DataFrame(itertools.product(*inducers))\n",
    "        pred_data.columns = ['ara', 'ohc14', 'sal']\n",
    "        pred_data = np.log10(pred_data)\n",
    "        \n",
    "        pred_data['e38-pred'] = model2.predict(pred_data[['ara', 'ohc14']])\n",
    "        pred_data['e20-pred'] = model1.predict(pred_data[['e38-pred', 'sal']])\n",
    "        \n",
    "        act_data = df3[(df3['ara']==np.log10(a)) & (df3['sal']==np.log10(s))].reset_index(drop=True)\n",
    "        \n",
    "        axr[x].scatter(act_data['ohc14'], act_data['e38-e20'])\n",
    "        axr[x].plot(pred_data['ohc14'], pred_data['e20-pred'], label=np.round(a, 2))\n",
    "        \n",
    "        axr[x].set_xlabel('Sal')\n",
    "        axr[x].set_ylabel('GFP (RPU)')\n",
    "        axr[x].set_title('Sal:{}'.format(np.round(s, 2)))\n",
    "        axr[x].legend(loc=4, bbox_to_anchor=(1.1, 1.05))\n",
    "        \n",
    "plt.tight_layout()\n",
    "sns.despine()"
   ]
  },
  {
   "cell_type": "code",
   "execution_count": null,
   "id": "671ba150",
   "metadata": {},
   "outputs": [],
   "source": []
  }
 ],
 "metadata": {
  "kernelspec": {
   "display_name": "Python 3 (ipykernel)",
   "language": "python",
   "name": "python3"
  },
  "language_info": {
   "codemirror_mode": {
    "name": "ipython",
    "version": 3
   },
   "file_extension": ".py",
   "mimetype": "text/x-python",
   "name": "python",
   "nbconvert_exporter": "python",
   "pygments_lexer": "ipython3",
   "version": "3.9.12"
  }
 },
 "nbformat": 4,
 "nbformat_minor": 5
}
