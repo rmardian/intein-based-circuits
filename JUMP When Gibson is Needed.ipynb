{
 "cells": [
  {
   "cell_type": "code",
   "execution_count": 1,
   "id": "front-columbus",
   "metadata": {},
   "outputs": [],
   "source": [
    "import pandas as pd\n",
    "import numpy as np\n",
    "import matplotlib.pyplot as plt\n",
    "import seaborn as sns\n",
    "from tqdm import tqdm\n",
    "\n",
    "from itertools import permutations, product\n",
    "from primers import primers\n",
    "from Bio import SeqIO\n",
    "from Bio.Seq import Seq\n",
    "from Bio.Restriction import BsaI, BsmBI"
   ]
  },
  {
   "cell_type": "code",
   "execution_count": 2,
   "id": "6ccd4b50",
   "metadata": {},
   "outputs": [
    {
     "data": {
      "text/plain": [
       "['GGTCTC', 'GAGACC', 'CGTCTC', 'GAGACG']"
      ]
     },
     "execution_count": 2,
     "metadata": {},
     "output_type": "execute_result"
    }
   ],
   "source": [
    "recognition_sites = np.array([(enz, str(Seq(enz).reverse_complement())) for enz in [BsaI.site, BsmBI.site]]).ravel().tolist()\n",
    "recognition_sites"
   ]
  },
  {
   "cell_type": "markdown",
   "id": "7f6509f7",
   "metadata": {},
   "source": [
    "#### GFPmut3b"
   ]
  },
  {
   "cell_type": "code",
   "execution_count": 64,
   "id": "27ee74ca",
   "metadata": {},
   "outputs": [],
   "source": [
    "right = 'GAGTTTGTAACAGCTGCTGGGATTACACATGGCATGGATGAACTATACAAATAATAAGCTTTGAGACCTTTCATCGCGACCTACTAGTAGCGGCCGCTGCAGGGAGTTGTCTTCGAAGACTTCGCTCTAGTCTTGGACTCCTGTTGATAGATCCAGTAATGACCTCAGAACTCCATCTGGATTTGTTCAGAACGCTCGGTTGCCGCCGGGCGTTTTTTATTGGTGAGAATCCAGGGGTCCCCAATAATTACGATTTAAATTAGTAGCCCGCCTAATGAGCGGGCTTTTTTTTAATTCCCCTATTTGTTTATTTTTCTAAATACATTCAAATATGTATCCGCTCATGAGACAATAACCCTGATAAATGCTTCAATAATATTGAAAAAGGAAGAGTATGAGCATTCAGCATTTTCGTGTGGCGCTGATTCCGTTTTTTGCGGCGTTTTGCCTGCCGGTGTTTGCGCATCCGGAAACCCTGGTGAAAGTGAAAGATGCGGAAGATCAACTGGGTGCGCGCGTGGGCTATATTGAACTGGATCTGAACAGCGGCAAAATTCTGGAATCTTTTCGTCCGGAAGAACGTTTTCCGATGATGAGCACCTTTAAAGTGCTGCTGTGCGGTGCGGTTCTGAGCCGTGTGGATGCGGGCCAGGAACAACTGGGCCGTCGTATTCATTATAGCCAGAACGATCTGGTGGAATATAGCCCGGTGACCGAAAAACATCTGACCGATGGCATGACCGTGCGTGAACTGTGCAGCGCGGCGATTACCATGAGCGATAACACCGCGGCGAACCTGCTGCTGACGACCATTGGCGGTCCGAAAGAACTGACCGCGTTTCTGCATAACATGGGCGATCATGTGACCCGTCTGGATCGTTGGGAACCGGAACTGAACGAAGCGATTCCGAACGATGAACGTGATACCACCATGCCGGCAGCAATGGCGACCACCCTGCGTAAACTGCTGACGGGTGAGCTGCTGACCCTGGCAAGCCGCCAGCAACTGATTGATTGGATGGAAGCGGATAAAGTGGCGGGTCCGCTGCTGCGTAGCGCGCTGCCGGCTGGCTGGTTTATTGCGGATAAAAGCGGTGCGGGCGAACGTGGCAGCCGTGGCATTATTGCGGCGCTGGGCCCGGATGGTAAACCGAGCCGTATTGTGGTGATTTATACCACCGGCAGCCAGGCGACGATGGATGAACGTAACCGTCAGATTGCGGAAATTGGCGCGAGCCTGATTAAACATTGGTAAACCGATACAATTAAAGGCTCCTTTTGGAGCCTTTTTTTTTGGACGACCCTTGTCCTTTTCCGCTGCATAACCCTGCTTCGGGGTCATTATAGCGATTTTTTCGGTATATCCATCCTTTTTCGCACGATATACAGGATTTTGCCAAAGGGTTCGTGTAGACTTTCCTTGGTGTATCCAACGGCGTCAGCCGGGCAGGATAGGTGAAGTAGGCCCACCCGCGAGCGGGTGTTCCTTCTTCACTGTCCCTTATTCGCACCTGGCGGTGCTCAACGGGAATCCTGCTCTGCGAGGCTGGCCGTAGGCCGGCCCCGTAGAAAAGATCAAAGGATCTTCTTGAGATCCTTTTTTTCTGCGCGTAATCTGCTGCTTGCAAACAAAAAAACCACCGCTACCAGCGGTGGTTTGTTTGCCGGATCAAGAGCTACCAACTCTTTTTCCGAAGGTAACTGGCTTCAGCAGAGCGCAGATACCAAATACTGTTCTTCTAGTGTAGCCGTAGTTAGGCCACCACTTCAAGAACTCTGTAGCACCGCCTACATACCTCGCTCTGCTAATCCTGTTACCAGTGGCTGCTGCCAGTGGCGATAAGTCGTGTCTTACCGGGTTGGACTCAAGACGATAGTTACCGGATAAGGCGCAGCGGTCGGGCTGAACGGGGGGTTCGTGCACACAGCCCAGCTTGGAGCGAACGACCTACACCGAACTGAGATACCTACAGCGTGAGCTATGAGAAAGCGCCACGCTTCCCGAAGGGAGAAAGGCGGACAGGTATCCGGTAAGCGGCAGGGTCGGAACAGGAGAGCGCACGAGGGAGCTTCCAGGGGGAAACGCCTGGTAT'\n",
    "left = 'CTTTATAGTCCTGTCGGGTTTCGCCACCTCTGACTTGAGCGTCGATTTTTGTGATGCTCGTCAGGGGGGCGGAGCCTATGGAAAAACGCCAGCAACGCGGCCTTTTTACGGTTCCTGGCCTTTTGCTGGCCTTTTGCTCACATGTTCTTTCCTGCGTTATCCCCTGATTCTGTGGATAACCGTATTACCGCCTTTGAGTGAGCTGATACCGCTCGCCGCAGCCGAACGACCGAGCGCAGCGAGTCAGTGAGCGAGGAAGCGGAAGAGCGCCCAATACGCAAACCGCCTCTCCCCGCGCGTTGGCCGATTCATTAATGCAGCTGGCACGACAGGTTTCCCGACTGGAAAGCGGGCAGTGAGCGCAACGCAATTAATGTGAGTTAGCTCACTCATTAGGCAGGCGCGCCCAGCTGTCTAGGGCGGCGGATTTGTCCTACTCAGGAGAGCGTTCACCGACAAACAACAGATAAAACGAAAGGCCCAGTCTTTCGACTGAGCCTTTCGTTTTATTTGATGCCTTTAATTAAGGAGTTTTGCAGGTGCACCTGCTTTTCGCTGAATTCGCGGCCGCTTCTAGAGGGTCTGCGATGTTTGGTCTCAAATGCGTAAAGGAGAAGAACTTTTCACTGGAGTTGTCCCAATTCTTGTTGAATTAGATGGTGATGTTAATGGGCACAAATTTTCTGTCAGTGGAGAGGGTGAAGGTGATGCAACATACGGAAAACTTACCCTTAAATTTATTTGCACTACTGGAAAACTACCTGTTCCATGGCCAACACTTGTCACTACTTTCGGTTATGGTGTTCAATGCTTTGCGAGATACCCAGATCATATGAAACAGCATGACTTTTTCAAGAGTGCCATGCCCGAAGGTTATGTACAGGAAAGAACTATATTTTTCAAAGATGACGGGAACTACAAGACACGTGCTGAAGTCAAGTTTGAAGGTGATACCCTTGTTAATAGAATCGAGTTAAAAGGTATTGATTTTAAAGAAGATGGAAACATTCTTGGACACAAATTGGAATACAACTATAACTCACACAATGTATACATCATGGCAGACAAACAAAAGAATGGAATCAAAGTTAACTTCAAAATTAGACACAACATTGAAGATGGAAGCGTTCAACTAGCAGACCATTATCAACAAAATACTCCAATTGGCGATGGCCCTGTCCTTTTACCAGACAACCATTACCTGTCCACACAATCTGCCCTTTCGAAAGAT'\n",
    "to_add = 'CCCAACGAAAAGAGAGATCACATGGTCCTTCTT'"
   ]
  },
  {
   "cell_type": "code",
   "execution_count": 66,
   "id": "1306ed1a",
   "metadata": {},
   "outputs": [
    {
     "data": {
      "text/plain": [
       "('CTTTATAGTCCTGTCGGGTTT',\n",
       " 'AAGAAGGACCATGTGATCTCTCTTTTCGTTGGGATCTTTCGAAAGGGCAGATT')"
      ]
     },
     "execution_count": 66,
     "metadata": {},
     "output_type": "execute_result"
    }
   ],
   "source": [
    "fp, rp = primers(left, add_fwd='', add_rev=str(Seq(to_add).reverse_complement()))\n",
    "fp.seq, rp.seq"
   ]
  },
  {
   "cell_type": "code",
   "execution_count": 67,
   "id": "089190f9",
   "metadata": {},
   "outputs": [
    {
     "data": {
      "text/plain": [
       "('CCCAACGAAAAGAGAGATCACATGGTCCTTCTTGAGTTTGTAACAGCTGCTG', 'ATACCAGGCGTTTCCC')"
      ]
     },
     "execution_count": 67,
     "metadata": {},
     "output_type": "execute_result"
    }
   ],
   "source": [
    "fp, rp = primers(right, add_fwd=to_add, add_rev=str(Seq('').reverse_complement()))\n",
    "fp.seq, rp.seq"
   ]
  },
  {
   "cell_type": "markdown",
   "id": "fb7432f8",
   "metadata": {},
   "source": [
    "#### NrdA2 N-term"
   ]
  },
  {
   "cell_type": "code",
   "execution_count": 68,
   "id": "6816c3a8",
   "metadata": {},
   "outputs": [],
   "source": [
    "left = 'GTCCTGTCGGGTTTCGCCACCTCTGACTTGAGCGTCGATTTTTGTGATGCTCGTCAGGGGGGCGGAGCCTATGGAAAAACGCCAGCAACGCGGCCTTTTTACGGTTCCTGGCCTTTTGCTGGCCTTTTGCTCACATGTTCTTTCCTGCGTTATCCCCTGATTCTGTGGATAACCGTATTACCGCCTTTGAGTGAGCTGATACCGCTCGCCGCAGCCGAACGACCGAGCGCAGCGAGTCAGTGAGCGAGGAAGCGGAAGAGCGCCCAATACGCAAACCGCCTCTCCCCGCGCGTTGGCCGATTCATTAATGCAGCTGGCACGACAGGTTTCCCGACTGGAAAGCGGGCAGTGAGCGCAACGCAATTAATGTGAGTTAGCTCACTCATTAGGCAGGCGCGCCCAGCTGTCTAGGGCGGCGGATTTGTCCTACTCAGGAGAGCGTTCACCGACAAACAACAGATAAAACGAAAGGCCCAGTCTTTCGACTGAGCCTTTCGTTTTATTTGATGCCTTTAATTAAGGAGTTTTGCAGGTGCACCTGCTTTTCGCTGAATTCGCGGCCGCTTCTAGAGGGTCTGCGATGTTTGGTCTCAAATGCCGCAGCAGACCGATCTGCATGCACGTTTTAGCGCACTGATGCAGCAGCATCGTGGTATTGTTCTGAAAGTTGCAGCAAGCTATTGTCGTGATCCGGATGATCGTGCAGATCTGGCACAGGATATTGCAACCCATCTGTGGCGTGCATTTCCGAGCTATGATCCGCATCGTCGTTTTAGCACCTGGATGTATCGTATTGCACTGAATGTTGCAATTAGCGATCTGCGTAGCCGTCGTTCAAACCTTTGTCTCACGGGCGATGCTAAAATCGACGTACTTATCGATAATATTCCTATCTCCCAGATATCCCTGGAGGAAGTTGTTAACCTGTTTAATGAAGGCAAAGAGATATATGTTTTGTCTTATAATATTGATACCAAGGAGGTTGAATATAAA'\n",
    "right = 'GCCGAAGTGCTGGAAATCATTGACGAAGAAACTGGGCAGAAAATTGTTTGTACCCCTGATCATAAAGTGTATACTCTGAACCGGGGGTACGTTTCTGCTAAGGATCTCAAAGAAGACGATGAGCTGGTGTTTAGCTAATAAGCTTTGAGACCTTTCATCGCGACCTACTAGTAGCGGCCGCTGCAGGGAGTTGTCTTCGAAGACTTCGCTCTAGTCTTGGACTCCTGTTGATAGATCCAGTAATGACCTCAGAACTCCATCTGGATTTGTTCAGAACGCTCGGTTGCCGCCGGGCGTTTTTTATTGGTGAGAATCCAGGGGTCCCCAATAATTACGATTTAAATTAGTAGCCCGCCTAATGAGCGGGCTTTTTTTTAATTCCCCTATTTGTTTATTTTTCTAAATACATTCAAATATGTATCCGCTCATGAGACAATAACCCTGATAAATGCTTCAATAATATTGAAAAAGGAAGAGTATGAGCATTCAGCATTTTCGTGTGGCGCTGATTCCGTTTTTTGCGGCGTTTTGCCTGCCGGTGTTTGCGCATCCGGAAACCCTGGTGAAAGTGAAAGATGCGGAAGATCAACTGGGTGCGCGCGTGGGCTATATTGAACTGGATCTGAACAGCGGCAAAATTCTGGAATCTTTTCGTCCGGAAGAACGTTTTCCGATGATGAGCACCTTTAAAGTGCTGCTGTGCGGTGCGGTTCTGAGCCGTGTGGATGCGGGCCAGGAACAACTGGGCCGTCGTATTCATTATAGCCAGAACGATCTGGTGGAATATAGCCCGGTGACCGAAAAACATCTGACCGATGGCATGACCGTGCGTGAACTGTGCAGCGCGGCGATTACCATGAGCGATAACACCGCGGCGAACCTGCTGCTGACGACCATTGGCGGTCCGAAAGAACTGACCGCGTTTCTGCATAACATGGGCGATCATGTGACCCGTCTGGATCGTTGGGAACCGGAACTGAACGAAGCGATTCCGAACGATGAACGTGATACCACCATGCCGGCAGCAATGGCGACCACCCTGCGTAAACTGCTGACGGGTGAGCTGCTGACCCTGGCAAGCCGCCAGCAACTGATTGATTGGATGGAAGCGGATAAAGTGGCGGGTCCGCTGCTGCGTAGCGCGCTGCCGGCTGGCTGGTTTATTGCGGATAAAAGCGGTGCGGGCGAACGTGGCAGCCGTGGCATTATTGCGGCGCTGGGCCCGGATGGTAAACCGAGCCGTATTGTGGTGATTTATACCACCGGCAGCCAGGCGACGATGGATGAACGTAACCGTCAGATTGCGGAAATTGGCGCGAGCCTGATTAAACATTGGTAAACCGATACAATTAAAGGCTCCTTTTGGAGCCTTTTTTTTTGGACGACCCTTGTCCTTTTCCGCTGCATAACCCTGCTTCGGGGTCATTATAGCGATTTTTTCGGTATATCCATCCTTTTTCGCACGATATACAGGATTTTGCCAAAGGGTTCGTGTAGACTTTCCTTGGTGTATCCAACGGCGTCAGCCGGGCAGGATAGGTGAAGTAGGCCCACCCGCGAGCGGGTGTTCCTTCTTCACTGTCCCTTATTCGCACCTGGCGGTGCTCAACGGGAATCCTGCTCTGCGAGGCTGGCCGTAGGCCGGCCCCGTAGAAAAGATCAAAGGATCTTCTTGAGATCCTTTTTTTCTGCGCGTAATCTGCTGCTTGCAAACAAAAAAACCACCGCTACCAGCGGTGGTTTGTTTGCCGGATCAAGAGCTACCAACTCTTTTTCCGAAGGTAACTGGCTTCAGCAGAGCGCAGATACCAAATACTGTTCTTCTAGTGTAGCCGTAGTTAGGCCACCACTTCAAGAACTCTGTAGCACCGCCTACATACCTCGCTCTGCTAATCCTGTTACCAGTGGCTGCTGCCAGTGGCGATAAGTCGTGTCTTACCGGGTTGGACTCAAGACGATAGTTACCGGATAAGGCGCAGCGGTCGGGCTGAACGGGGGGTTCGTGCACACAGCCCAGCTTGGAGCGAACGACCTACACCGAACTGAGATACCTACAGCGTGAGCTATGAGAAAGCGCCACGCTTCCCGAAGGGAGAAAGGCGGACAGGTATCCGGTAAGCGGCAGGGTCGGAACAGGAGAGCGCACGAGGGAGCTTCCAGGGGGAAACGCCTGGTAT'\n",
    "to_add = 'GAAATTTCTGACGCAGGACTCATCAGTGAATCT'"
   ]
  },
  {
   "cell_type": "code",
   "execution_count": 69,
   "id": "ddbe9e42",
   "metadata": {},
   "outputs": [
    {
     "data": {
      "text/plain": [
       "('GTCCTGTCGGGTTTCG',\n",
       " 'AGATTCACTGATGAGTCCTGCGTCAGAAATTTCTTTATATTCAACCTCCTTGGTATCA')"
      ]
     },
     "execution_count": 69,
     "metadata": {},
     "output_type": "execute_result"
    }
   ],
   "source": [
    "fp, rp = primers(left, add_fwd='', add_rev=str(Seq(to_add).reverse_complement()))\n",
    "fp.seq, rp.seq"
   ]
  },
  {
   "cell_type": "code",
   "execution_count": 70,
   "id": "a3fb8c48",
   "metadata": {},
   "outputs": [
    {
     "data": {
      "text/plain": [
       "('GAAATTTCTGACGCAGGACTCATCAGTGAATCTGCCGAAGTGCTGGAAAT', 'ATACCAGGCGTTTCCC')"
      ]
     },
     "execution_count": 70,
     "metadata": {},
     "output_type": "execute_result"
    }
   ],
   "source": [
    "fp, rp = primers(right, add_fwd=to_add, add_rev=str(Seq('').reverse_complement()))\n",
    "fp.seq, rp.seq"
   ]
  },
  {
   "cell_type": "markdown",
   "id": "26ea26ba",
   "metadata": {},
   "source": [
    "#### Alternative Level-1 TetR vector"
   ]
  },
  {
   "cell_type": "code",
   "execution_count": 3,
   "id": "ebedba4b",
   "metadata": {},
   "outputs": [
    {
     "data": {
      "text/html": [
       "<div>\n",
       "<style scoped>\n",
       "    .dataframe tbody tr th:only-of-type {\n",
       "        vertical-align: middle;\n",
       "    }\n",
       "\n",
       "    .dataframe tbody tr th {\n",
       "        vertical-align: top;\n",
       "    }\n",
       "\n",
       "    .dataframe thead th {\n",
       "        text-align: right;\n",
       "    }\n",
       "</style>\n",
       "<table border=\"1\" class=\"dataframe\">\n",
       "  <thead>\n",
       "    <tr style=\"text-align: right;\">\n",
       "      <th></th>\n",
       "      <th>name</th>\n",
       "      <th>sequence</th>\n",
       "    </tr>\n",
       "  </thead>\n",
       "  <tbody>\n",
       "    <tr>\n",
       "      <th>0</th>\n",
       "      <td>pSEVA521</td>\n",
       "      <td>TTAATTAAAGCGGATAACAATTTCACACAGGAGGCCGCCTAGGCCG...</td>\n",
       "    </tr>\n",
       "    <tr>\n",
       "      <th>1</th>\n",
       "      <td>pJUMP27-1A(sfGFP)</td>\n",
       "      <td>TTAATTAAGGAGTTTTGCAGGTGCCTTGGAACACCTGCTTTTCGCT...</td>\n",
       "    </tr>\n",
       "  </tbody>\n",
       "</table>\n",
       "</div>"
      ],
      "text/plain": [
       "                name                                           sequence\n",
       "0           pSEVA521  TTAATTAAAGCGGATAACAATTTCACACAGGAGGCCGCCTAGGCCG...\n",
       "1  pJUMP27-1A(sfGFP)  TTAATTAAGGAGTTTTGCAGGTGCCTTGGAACACCTGCTTTTCGCT..."
      ]
     },
     "execution_count": 3,
     "metadata": {},
     "output_type": "execute_result"
    }
   ],
   "source": [
    "#import fasta files\n",
    "fastas = ['pSEVA521', 'pjump27-1asfgfp']\n",
    "plasmids = pd.DataFrame([(p.id, str(p.seq)) for fasta in fastas \\\n",
    "                        for p in list(SeqIO.parse('datasets/jump/{}.fasta'.format(fasta), 'fasta'))], \\\n",
    "                        columns=['name', 'sequence'])\n",
    "plasmids['sequence'] = plasmids['sequence'].str.rstrip().str.upper()\n",
    "plasmids.head()"
   ]
  },
  {
   "cell_type": "code",
   "execution_count": 4,
   "id": "f2e036f1",
   "metadata": {},
   "outputs": [
    {
     "data": {
      "text/html": [
       "<div>\n",
       "<style scoped>\n",
       "    .dataframe tbody tr th:only-of-type {\n",
       "        vertical-align: middle;\n",
       "    }\n",
       "\n",
       "    .dataframe tbody tr th {\n",
       "        vertical-align: top;\n",
       "    }\n",
       "\n",
       "    .dataframe thead th {\n",
       "        text-align: right;\n",
       "    }\n",
       "</style>\n",
       "<table border=\"1\" class=\"dataframe\">\n",
       "  <thead>\n",
       "    <tr style=\"text-align: right;\">\n",
       "      <th></th>\n",
       "      <th>name</th>\n",
       "      <th>sequence</th>\n",
       "    </tr>\n",
       "  </thead>\n",
       "  <tbody>\n",
       "    <tr>\n",
       "      <th>0</th>\n",
       "      <td>TetR</td>\n",
       "      <td>AAATTTGACAGCTTATCATCGATAAACTGTAATGCGGTAGTTTATC...</td>\n",
       "    </tr>\n",
       "    <tr>\n",
       "      <th>1</th>\n",
       "      <td>1A-pSC101-TetR</td>\n",
       "      <td>CGGTCCGCGCGTTGTCCTTTTCCGCTGCATAACCCTGCTTCGGGGT...</td>\n",
       "    </tr>\n",
       "  </tbody>\n",
       "</table>\n",
       "</div>"
      ],
      "text/plain": [
       "             name                                           sequence\n",
       "0            TetR  AAATTTGACAGCTTATCATCGATAAACTGTAATGCGGTAGTTTATC...\n",
       "1  1A-pSC101-TetR  CGGTCCGCGCGTTGTCCTTTTCCGCTGCATAACCCTGCTTCGGGGT..."
      ]
     },
     "execution_count": 4,
     "metadata": {},
     "output_type": "execute_result"
    }
   ],
   "source": [
    "fragments = pd.read_csv('datasets/jump/fragments.csv')\n",
    "fragments['sequence'] = fragments['sequence'].str.rstrip().str.upper()\n",
    "fragments"
   ]
  },
  {
   "cell_type": "code",
   "execution_count": 5,
   "id": "4b7585e7",
   "metadata": {},
   "outputs": [],
   "source": [
    "def reindex(plasmid):\n",
    "    \n",
    "    start = 'cggtccgcgcgttgtccttttccgctgcataaccctgcttcggggtcattatagcgattttttcggtatatccatcctttttcgcacgatatacaggatt'\n",
    "    new_start = plasmid.find(start.upper())\n",
    "    if new_start == -1:\n",
    "        return plasmid\n",
    "    return plasmid[new_start:] + plasmid[:new_start]\n",
    "\n",
    "plasmids['sequence'] = plasmids['sequence'].apply(reindex)"
   ]
  },
  {
   "cell_type": "code",
   "execution_count": 6,
   "id": "c699bb4f",
   "metadata": {},
   "outputs": [],
   "source": [
    "templates = dict(zip(plasmids['sequence'], plasmids['name']))\n",
    "parts = dict(zip(fragments['sequence'], fragments['name']))"
   ]
  },
  {
   "cell_type": "code",
   "execution_count": 7,
   "id": "18b775f5",
   "metadata": {},
   "outputs": [
    {
     "name": "stdout",
     "output_type": "stream",
     "text": [
      "pSEVA521 TetR\n",
      "pJUMP27-1A(sfGFP) 1A-pSC101-TetR\n"
     ]
    }
   ],
   "source": [
    "for seq in product(*[plasmids['sequence'].tolist(), fragments['sequence'].tolist()]):\n",
    "    if seq[0].find(seq[1])!=-1:\n",
    "        print(templates[seq[0]], parts[seq[1]])"
   ]
  },
  {
   "cell_type": "markdown",
   "id": "88bc0793",
   "metadata": {},
   "source": [
    "Just hardcoded it for now."
   ]
  },
  {
   "cell_type": "code",
   "execution_count": 8,
   "id": "b2f64fc2",
   "metadata": {},
   "outputs": [],
   "source": [
    "tetR_pref = 'ccaataattacgattt'\n",
    "tetR_suff = 'cggtccgcgcgttgtc'\n",
    "backbone_pref = 'CCTCGACCTGAGACAA'\n",
    "backbone_suff = 'AAATTTGACAGCTTAT'"
   ]
  },
  {
   "cell_type": "code",
   "execution_count": 9,
   "id": "5c9a01a5",
   "metadata": {},
   "outputs": [],
   "source": [
    "parts_seq = dict(zip(fragments['name'], fragments['sequence']))"
   ]
  },
  {
   "cell_type": "code",
   "execution_count": 10,
   "id": "e9185b54",
   "metadata": {},
   "outputs": [
    {
     "data": {
      "text/plain": [
       "('CCAATAATTACGATTTAAATTTGACAGCTTATCATCGA', 'GACAACGCGCGGACCGTTGTCTCAGGTCGAGG')"
      ]
     },
     "execution_count": 10,
     "metadata": {},
     "output_type": "execute_result"
    }
   ],
   "source": [
    "#TetR\n",
    "fp, rp = primers(parts_seq['TetR'], add_fwd=tetR_pref, add_rev=str(Seq(tetR_suff).reverse_complement()))\n",
    "fp.seq, rp.seq"
   ]
  },
  {
   "cell_type": "code",
   "execution_count": 11,
   "id": "382ce53c",
   "metadata": {},
   "outputs": [
    {
     "data": {
      "text/plain": [
       "('CCTCGACCTGAGACAACGGTCCGCGCGTTGTCCTTT',\n",
       " 'ATAAGCTGTCAAATTTAAATCGTAATTATTGGGGACCCCTG')"
      ]
     },
     "execution_count": 11,
     "metadata": {},
     "output_type": "execute_result"
    }
   ],
   "source": [
    "#Backbone\n",
    "fp, rp = primers(parts_seq['1A-pSC101-TetR'], add_fwd=backbone_pref, add_rev=str(Seq(backbone_suff).reverse_complement()))\n",
    "fp.seq, rp.seq"
   ]
  },
  {
   "cell_type": "markdown",
   "id": "4fd9b2b2",
   "metadata": {},
   "source": [
    "#### Different Insulators"
   ]
  },
  {
   "cell_type": "code",
   "execution_count": 16,
   "id": "40939290",
   "metadata": {},
   "outputs": [
    {
     "data": {
      "text/html": [
       "<div>\n",
       "<style scoped>\n",
       "    .dataframe tbody tr th:only-of-type {\n",
       "        vertical-align: middle;\n",
       "    }\n",
       "\n",
       "    .dataframe tbody tr th {\n",
       "        vertical-align: top;\n",
       "    }\n",
       "\n",
       "    .dataframe thead th {\n",
       "        text-align: right;\n",
       "    }\n",
       "</style>\n",
       "<table border=\"1\" class=\"dataframe\">\n",
       "  <thead>\n",
       "    <tr style=\"text-align: right;\">\n",
       "      <th></th>\n",
       "      <th>name</th>\n",
       "      <th>sequence</th>\n",
       "      <th>first_half</th>\n",
       "      <th>second_ext</th>\n",
       "      <th>first_ext</th>\n",
       "      <th>second_half</th>\n",
       "      <th>combined</th>\n",
       "      <th>checker</th>\n",
       "    </tr>\n",
       "  </thead>\n",
       "  <tbody>\n",
       "    <tr>\n",
       "      <th>0</th>\n",
       "      <td>RiboJ54</td>\n",
       "      <td>aggggtcagttgatgtgctttcaactctgatgagtcagtgatgacg...</td>\n",
       "      <td>aggggtcagttgatgtgcttt</td>\n",
       "      <td>caactctgatgagtca</td>\n",
       "      <td>gtgatgacgaaacccc</td>\n",
       "      <td>ctctacaaataattttgtttaa</td>\n",
       "      <td>aggggtcagttgatgtgctttcaactctgatgagtcagtgatgacg...</td>\n",
       "      <td>True</td>\n",
       "    </tr>\n",
       "    <tr>\n",
       "      <th>1</th>\n",
       "      <td>BydvJ</td>\n",
       "      <td>agggtgtctcaaggtgcgtaccttgactgatgagtccgaaaggacg...</td>\n",
       "      <td>agggtgtctcaaggtgcgtacc</td>\n",
       "      <td>ttgactgatgagtccg</td>\n",
       "      <td>aaaggacgaaacaccc</td>\n",
       "      <td>ctctacaaataattttgtttaa</td>\n",
       "      <td>agggtgtctcaaggtgcgtaccttgactgatgagtccgaaaggacg...</td>\n",
       "      <td>True</td>\n",
       "    </tr>\n",
       "    <tr>\n",
       "      <th>2</th>\n",
       "      <td>RiboJ57</td>\n",
       "      <td>agaagtcaattaatgtgcttttaattctgatgagtcggtgacgacg...</td>\n",
       "      <td>agaagtcaattaatgtgcttt</td>\n",
       "      <td>taattctgatgagtcg</td>\n",
       "      <td>gtgacgacgaaacttc</td>\n",
       "      <td>ctctacaaataattttgtttaa</td>\n",
       "      <td>agaagtcaattaatgtgcttttaattctgatgagtcggtgacgacg...</td>\n",
       "      <td>True</td>\n",
       "    </tr>\n",
       "    <tr>\n",
       "      <th>3</th>\n",
       "      <td>SarJ</td>\n",
       "      <td>gactgtcgccggatgtgtatccgacctgacgatggcccaaaagggc...</td>\n",
       "      <td>gactgtcgccggatgtgtatccg</td>\n",
       "      <td>acctgacgatggccca</td>\n",
       "      <td>aaagggccgaaacagt</td>\n",
       "      <td>cctctacaaataattttgtttaa</td>\n",
       "      <td>gactgtcgccggatgtgtatccgacctgacgatggcccaaaagggc...</td>\n",
       "      <td>True</td>\n",
       "    </tr>\n",
       "    <tr>\n",
       "      <th>4</th>\n",
       "      <td>PlmJ</td>\n",
       "      <td>agtcataagtctgggctaagcccactgatgagtcgctgaaatgcga...</td>\n",
       "      <td>agtcataagtctgggctaagccca</td>\n",
       "      <td>ctgatgagtcgctgaa</td>\n",
       "      <td>atgcgacgaaacttat</td>\n",
       "      <td>gacctctacaaataattttgtttaa</td>\n",
       "      <td>agtcataagtctgggctaagcccactgatgagtcgctgaaatgcga...</td>\n",
       "      <td>True</td>\n",
       "    </tr>\n",
       "    <tr>\n",
       "      <th>5</th>\n",
       "      <td>RiboJ64</td>\n",
       "      <td>aggagtcaattaatgtgcttttaattctgatgagacggtgacgtcg...</td>\n",
       "      <td>aggagtcaattaatgtgcttt</td>\n",
       "      <td>taattctgatgagacg</td>\n",
       "      <td>gtgacgtcgaaactcc</td>\n",
       "      <td>ctctacaaataattttgtttaa</td>\n",
       "      <td>aggagtcaattaatgtgcttttaattctgatgagacggtgacgtcg...</td>\n",
       "      <td>True</td>\n",
       "    </tr>\n",
       "    <tr>\n",
       "      <th>6</th>\n",
       "      <td>RiboJ53</td>\n",
       "      <td>agcggtcaacgcatgtgctttgcgttctgatgagacagtgatgtcg...</td>\n",
       "      <td>agcggtcaacgcatgtgcttt</td>\n",
       "      <td>gcgttctgatgagaca</td>\n",
       "      <td>gtgatgtcgaaaccgc</td>\n",
       "      <td>ctctacaaataattttgtttaa</td>\n",
       "      <td>agcggtcaacgcatgtgctttgcgttctgatgagacagtgatgtcg...</td>\n",
       "      <td>True</td>\n",
       "    </tr>\n",
       "    <tr>\n",
       "      <th>7</th>\n",
       "      <td>ScmJ</td>\n",
       "      <td>agcgctgtctgtacttgtatcagtacactgacgagtccctaaagga...</td>\n",
       "      <td>agcgctgtctgtacttgtatcag</td>\n",
       "      <td>tacactgacgagtccc</td>\n",
       "      <td>taaaggacgaaacacc</td>\n",
       "      <td>gcctctacaaataattttgtttaa</td>\n",
       "      <td>agcgctgtctgtacttgtatcagtacactgacgagtccctaaagga...</td>\n",
       "      <td>True</td>\n",
       "    </tr>\n",
       "    <tr>\n",
       "      <th>8</th>\n",
       "      <td>RiboJ60</td>\n",
       "      <td>ctgaagtcgtcaagtgctgtgcttgcacttctgatgaggcagtgat...</td>\n",
       "      <td>ctgaagtcgtcaagtgctgtgct</td>\n",
       "      <td>tgcacttctgatgagg</td>\n",
       "      <td>cagtgatgccgaaacg</td>\n",
       "      <td>acctctacaaataattttgtttaa</td>\n",
       "      <td>ctgaagtcgtcaagtgctgtgcttgcacttctgatgaggcagtgat...</td>\n",
       "      <td>True</td>\n",
       "    </tr>\n",
       "    <tr>\n",
       "      <th>9</th>\n",
       "      <td>RiboJ10</td>\n",
       "      <td>agcgctcaacgggtgtgcttcccgttctgatgagtccgtgaggacg...</td>\n",
       "      <td>agcgctcaacgggtgtgcttc</td>\n",
       "      <td>ccgttctgatgagtcc</td>\n",
       "      <td>gtgaggacgaaagcgc</td>\n",
       "      <td>ctctacaaataattttgtttaa</td>\n",
       "      <td>agcgctcaacgggtgtgcttcccgttctgatgagtccgtgaggacg...</td>\n",
       "      <td>True</td>\n",
       "    </tr>\n",
       "  </tbody>\n",
       "</table>\n",
       "</div>"
      ],
      "text/plain": [
       "      name                                           sequence  \\\n",
       "0  RiboJ54  aggggtcagttgatgtgctttcaactctgatgagtcagtgatgacg...   \n",
       "1    BydvJ  agggtgtctcaaggtgcgtaccttgactgatgagtccgaaaggacg...   \n",
       "2  RiboJ57  agaagtcaattaatgtgcttttaattctgatgagtcggtgacgacg...   \n",
       "3     SarJ  gactgtcgccggatgtgtatccgacctgacgatggcccaaaagggc...   \n",
       "4     PlmJ  agtcataagtctgggctaagcccactgatgagtcgctgaaatgcga...   \n",
       "5  RiboJ64  aggagtcaattaatgtgcttttaattctgatgagacggtgacgtcg...   \n",
       "6  RiboJ53  agcggtcaacgcatgtgctttgcgttctgatgagacagtgatgtcg...   \n",
       "7     ScmJ  agcgctgtctgtacttgtatcagtacactgacgagtccctaaagga...   \n",
       "8  RiboJ60  ctgaagtcgtcaagtgctgtgcttgcacttctgatgaggcagtgat...   \n",
       "9  RiboJ10  agcgctcaacgggtgtgcttcccgttctgatgagtccgtgaggacg...   \n",
       "\n",
       "                 first_half        second_ext         first_ext  \\\n",
       "0     aggggtcagttgatgtgcttt  caactctgatgagtca  gtgatgacgaaacccc   \n",
       "1    agggtgtctcaaggtgcgtacc  ttgactgatgagtccg  aaaggacgaaacaccc   \n",
       "2     agaagtcaattaatgtgcttt  taattctgatgagtcg  gtgacgacgaaacttc   \n",
       "3   gactgtcgccggatgtgtatccg  acctgacgatggccca  aaagggccgaaacagt   \n",
       "4  agtcataagtctgggctaagccca  ctgatgagtcgctgaa  atgcgacgaaacttat   \n",
       "5     aggagtcaattaatgtgcttt  taattctgatgagacg  gtgacgtcgaaactcc   \n",
       "6     agcggtcaacgcatgtgcttt  gcgttctgatgagaca  gtgatgtcgaaaccgc   \n",
       "7   agcgctgtctgtacttgtatcag  tacactgacgagtccc  taaaggacgaaacacc   \n",
       "8   ctgaagtcgtcaagtgctgtgct  tgcacttctgatgagg  cagtgatgccgaaacg   \n",
       "9     agcgctcaacgggtgtgcttc  ccgttctgatgagtcc  gtgaggacgaaagcgc   \n",
       "\n",
       "                 second_half  \\\n",
       "0     ctctacaaataattttgtttaa   \n",
       "1     ctctacaaataattttgtttaa   \n",
       "2     ctctacaaataattttgtttaa   \n",
       "3    cctctacaaataattttgtttaa   \n",
       "4  gacctctacaaataattttgtttaa   \n",
       "5     ctctacaaataattttgtttaa   \n",
       "6     ctctacaaataattttgtttaa   \n",
       "7   gcctctacaaataattttgtttaa   \n",
       "8   acctctacaaataattttgtttaa   \n",
       "9     ctctacaaataattttgtttaa   \n",
       "\n",
       "                                            combined  checker  \n",
       "0  aggggtcagttgatgtgctttcaactctgatgagtcagtgatgacg...     True  \n",
       "1  agggtgtctcaaggtgcgtaccttgactgatgagtccgaaaggacg...     True  \n",
       "2  agaagtcaattaatgtgcttttaattctgatgagtcggtgacgacg...     True  \n",
       "3  gactgtcgccggatgtgtatccgacctgacgatggcccaaaagggc...     True  \n",
       "4  agtcataagtctgggctaagcccactgatgagtcgctgaaatgcga...     True  \n",
       "5  aggagtcaattaatgtgcttttaattctgatgagacggtgacgtcg...     True  \n",
       "6  agcggtcaacgcatgtgctttgcgttctgatgagacagtgatgtcg...     True  \n",
       "7  agcgctgtctgtacttgtatcagtacactgacgagtccctaaagga...     True  \n",
       "8  ctgaagtcgtcaagtgctgtgcttgcacttctgatgaggcagtgat...     True  \n",
       "9  agcgctcaacgggtgtgcttcccgttctgatgagtccgtgaggacg...     True  "
      ]
     },
     "execution_count": 16,
     "metadata": {},
     "output_type": "execute_result"
    }
   ],
   "source": [
    "insulators = pd.read_csv('datasets/jump/insulators.csv')\n",
    "insulators['first_half'] = insulators['sequence'].apply(lambda x: x[:int(len(x)/2)-16])\n",
    "insulators['second_ext'] = insulators['sequence'].apply(lambda x: x[int(len(x)/2)-16: int(len(x)/2)])\n",
    "insulators['first_ext'] = insulators['sequence'].apply(lambda x: x[int(len(x)/2): int(len(x)/2)+16])\n",
    "insulators['second_half'] = insulators['sequence'].apply(lambda x: x[int(len(x)/2)+16:])\n",
    "insulators['combined'] = insulators['first_half'] + insulators['second_ext'] + insulators['first_ext'] + insulators['second_half']\n",
    "insulators['checker'] = insulators['combined']==insulators['sequence']\n",
    "insulators"
   ]
  },
  {
   "cell_type": "code",
   "execution_count": 18,
   "id": "3d1a9c93",
   "metadata": {},
   "outputs": [],
   "source": [
    "backbone_left = 'acgagggagcttccagggggaaacgcctggtatctttatagtcctgtcgggtttcgccacctctgacttgagcgtcgatttttgtgatgctcgtcaggggggcggagcctatggaaaaacgccagcaacgcggcctttttacggttcctggccttttgctggccttttgctcacatgttctttcctgcgttatcccctgattctgtggataaccgtattaccgcctttgagtgagctgataccgctcgccgcagccgaacgaccgagcgcagcgagtcagtgagcgaggaagcggaagagcgcccaatacgcaaaccgcctctccccgcgcgttggccgattcattaatgcagctggcacgacaggtttcccgactggaaagcgggcagtgagcgcaacgcaattaatgtgagttagctcactcattaggcaggcgcgcccagctgtctagggcggcggatttgtcctactcaggagagcgttcaccgacaaacaacagataaaacgaaaggcccagtctttcgactgagcctttcgttttatttgatgcctttaattaaggagttttgcaggtgcacctgcttttcgctgaattcgcggccgcttctagagggtctgcgatgtttggtctCATGAC'\n",
    "backbone_right = 'TACTTGAGACCtttcatcgcgacctactagtagcggccgctgcagggagttgtcttcgaagacttcgctctagtcttggactcctgttgatagatccagtaatgacctcagaactccatctggatttgttcagaacgctcggttgccgccgggcgttttttattggtgagaatccaggggtccccaataattacgatttaaattagtagcccgcctaatgagcgggcttttttttaattcccctatttgtttatttttctaaatacattcaaatatgtatccgctcatgagacaataaccctgataaatgcttcaataatattgaaaaaggaagagtatgagcattcagcattttcgtgtggcgctgattccgttttttgcggcgttttgcctgccggtgtttgcgcatccggaaaccctggtgaaagtgaaagatgcggaagatcaactgggtgcgcgcgtgggctatattgaactggatctgaacagcggcaaaattctggaatcttttcgtccggaagaacgttttccgatgatgagcacctttaaagtgctgctgtgcggtgcggttctgagccgtgtggatgcgggccaggaacaactgggccgtcgtattcattatagccagaacgatctggtggaatatagcccggtgaccgaaaaacatctgaccgatggcatgaccgtgcgtgaactgtgcagcgcggcgattaccatgagcgataacaccgcggcgaacctgctgctgacgaccattggcggtccgaaagaactgaccgcgtttctgcataacatgggcgatcatgtgacccgtctggatcgttgggaaccggaactgaacgaagcgattccgaacgatgaacgtgataccaccatgccggcagcaatggcgaccaccctgcgtaaactgctgacgggtgagctgctgaccctggcaagccgccagcaactgattgattggatggaagcggataaagtggcgggtccgctgctgcgtagcgcgctgccggctggctggtttattgcggataaaagcggtgcgggcgaacgtggcagccgtggcattattgcggcgctgggcccggatggtaaaccgagccgtattgtggtgatttataccaccggcagccaggcgacgatggatgaacgtaaccgtcagattgcggaaattggcgcgagcctgattaaacattggtaaaccgatacaattaaaggctccttttggagcctttttttttggacgacccttgtccttttccgctgcataaccctgcttcggggtcattatagcgattttttcggtatatccatcctttttcgcacgatatacaggattttgccaaagggttcgtgtagactttccttggtgtatccaacggcgtcagccgggcaggataggtgaagtaggcccacccgcgagcgggtgttccttcttcactgtcccttattcgcacctggcggtgctcaacgggaatcctgctctgcgaggctggccgtaggccggccccgtagaaaagatcaaaggatcttcttgagatcctttttttctgcgcgtaatctgctgcttgcaaacaaaaaaaccaccgctaccagcggtggtttgtttgccggatcaagagctaccaactctttttccgaaggtaactggcttcagcagagcgcagataccaaatactgttcttctagtgtagccgtagttaggccaccacttcaagaactctgtagcaccgcctacatacctcgctctgctaatcctgttaccagtggctgctgccagtggcgataagtcgtgtcttaccgggttggactcaagacgatagttaccggataaggcgcagcggtcgggctgaacggggggttcgtgcacacagcccagcttggagcgaacgacctacaccgaactgagatacctacagcgtgagctatgagaaagcgccacgcttcccgaagggagaaaggcggacaggtatccggtaagcggcagggtcggaacaggagagcgcacgagggagcttccagggggaaacgcctggtatctttata'"
   ]
  },
  {
   "cell_type": "code",
   "execution_count": 19,
   "id": "8946b85a",
   "metadata": {},
   "outputs": [],
   "source": [
    "insulators['first_fragment'] = insulators['first_half'] + insulators['second_ext'] + insulators['first_ext']\n",
    "insulators['second_fragment'] = insulators['second_ext'] + insulators['first_ext'] + insulators['second_half']"
   ]
  },
  {
   "cell_type": "code",
   "execution_count": 47,
   "id": "862edcde",
   "metadata": {},
   "outputs": [
    {
     "data": {
      "text/plain": [
       "['aggggtcagttgatgtgctttcaactctgatgagtcagtgatgacgaaacccc',\n",
       " 'agggtgtctcaaggtgcgtaccttgactgatgagtccgaaaggacgaaacaccc',\n",
       " 'agaagtcaattaatgtgcttttaattctgatgagtcggtgacgacgaaacttc',\n",
       " 'gactgtcgccggatgtgtatccgacctgacgatggcccaaaagggccgaaacagt',\n",
       " 'agtcataagtctgggctaagcccactgatgagtcgctgaaatgcgacgaaacttat',\n",
       " 'aggagtcaattaatgtgcttttaattctgatgagacggtgacgtcgaaactcc',\n",
       " 'agcggtcaacgcatgtgctttgcgttctgatgagacagtgatgtcgaaaccgc',\n",
       " 'agcgctgtctgtacttgtatcagtacactgacgagtccctaaaggacgaaacacc',\n",
       " 'ctgaagtcgtcaagtgctgtgcttgcacttctgatgaggcagtgatgccgaaacg',\n",
       " 'agcgctcaacgggtgtgcttcccgttctgatgagtccgtgaggacgaaagcgc']"
      ]
     },
     "execution_count": 47,
     "metadata": {},
     "output_type": "execute_result"
    }
   ],
   "source": [
    "insulators['first_fragment'].tolist()"
   ]
  },
  {
   "cell_type": "code",
   "execution_count": 51,
   "id": "69062514",
   "metadata": {},
   "outputs": [
    {
     "data": {
      "text/plain": [
       "['caactctgatgagtcagtgatgacgaaaccccctctacaaataattttgtttaa',\n",
       " 'ttgactgatgagtccgaaaggacgaaacacccctctacaaataattttgtttaa',\n",
       " 'taattctgatgagtcggtgacgacgaaacttcctctacaaataattttgtttaa',\n",
       " 'acctgacgatggcccaaaagggccgaaacagtcctctacaaataattttgtttaa',\n",
       " 'ctgatgagtcgctgaaatgcgacgaaacttatgacctctacaaataattttgtttaa',\n",
       " 'taattctgatgagacggtgacgtcgaaactccctctacaaataattttgtttaa',\n",
       " 'gcgttctgatgagacagtgatgtcgaaaccgcctctacaaataattttgtttaa',\n",
       " 'tacactgacgagtccctaaaggacgaaacaccgcctctacaaataattttgtttaa',\n",
       " 'tgcacttctgatgaggcagtgatgccgaaacgacctctacaaataattttgtttaa',\n",
       " 'ccgttctgatgagtccgtgaggacgaaagcgcctctacaaataattttgtttaa']"
      ]
     },
     "execution_count": 51,
     "metadata": {},
     "output_type": "execute_result"
    }
   ],
   "source": [
    "insulators['second_fragment'].tolist()"
   ]
  },
  {
   "cell_type": "code",
   "execution_count": 61,
   "id": "fdd68e02",
   "metadata": {},
   "outputs": [
    {
     "name": "stderr",
     "output_type": "stream",
     "text": [
      "10it [00:31,  3.12s/it]\n"
     ]
    }
   ],
   "source": [
    "first_parts, second_parts = [], []\n",
    "for i, row in tqdm(insulators.iterrows()):\n",
    "    \n",
    "    #first fragment\n",
    "    fwd, rev = '', row['first_fragment']\n",
    "    fp, rp = primers(backbone_left, add_fwd=fwd, add_rev=str(Seq(rev).reverse_complement()), add_rev_len=(len(rev), 100))\n",
    "    first_parts.append((fp.seq, rp.seq))\n",
    "    \n",
    "    #second fragment\n",
    "    fwd, rev = row['second_fragment'], ''\n",
    "    fp, rp = primers(backbone_right, add_fwd=fwd, add_rev=str(Seq(rev).reverse_complement()), add_fwd_len=(len(fwd), 100))\n",
    "    second_parts.append((fp.seq, rp.seq))"
   ]
  },
  {
   "cell_type": "code",
   "execution_count": 62,
   "id": "aabb5a6c",
   "metadata": {},
   "outputs": [],
   "source": [
    "primer_pair = pd.DataFrame([(b[0], a[1]) for a, b in zip(first_parts, second_parts)])\n",
    "primer_pair.columns = ['fwd', 'rev']\n",
    "primer_pair['name'] = np.arange(len(primer_pair))\n",
    "primer_pair = primer_pair.melt(id_vars='name').sort_values('name').reset_index(drop=True)\n",
    "primer_pair.to_csv('datasets/jump/insulator_primers_.csv', index=False)"
   ]
  },
  {
   "cell_type": "code",
   "execution_count": 63,
   "id": "7abed11a",
   "metadata": {},
   "outputs": [
    {
     "data": {
      "text/plain": [
       "[('CAACTCTGATGAGTCAGTGATGACGAAACCCCCTCTACAAATAATTTTGTTTAATACTTGAGACCTTTCATCGC',\n",
       "  'GGGGTTTCGTCATCACTGACTCATCAGAGTTGAAAGCACATCAACTGACCCCTGTCATGAGACCAAACATCGCA'),\n",
       " ('TTGACTGATGAGTCCGAAAGGACGAAACACCCCTCTACAAATAATTTTGTTTAATACTTGAGACCTTTCATCGC',\n",
       "  'GGGTGTTTCGTCCTTTCGGACTCATCAGTCAAGGTACGCACCTTGAGACACCCTGTCATGAGACCAAACATCGCA'),\n",
       " ('TAATTCTGATGAGTCGGTGACGACGAAACTTCCTCTACAAATAATTTTGTTTAATACTTGAGACCTTTCATCGC',\n",
       "  'GAAGTTTCGTCGTCACCGACTCATCAGAATTAAAAGCACATTAATTGACTTCTGTCATGAGACCAAACATCGCA'),\n",
       " ('ACCTGACGATGGCCCAAAAGGGCCGAAACAGTCCTCTACAAATAATTTTGTTTAATACTTGAGACCTTTCATCGC',\n",
       "  'ACTGTTTCGGCCCTTTTGGGCCATCGTCAGGTCGGATACACATCCGGCGACAGTCGTCATGAGACCAAACATCGCA'),\n",
       " ('CTGATGAGTCGCTGAAATGCGACGAAACTTATGACCTCTACAAATAATTTTGTTTAATACTTGAGACCTTTCATCG',\n",
       "  'ATAAGTTTCGTCGCATTTCAGCGACTCATCAGTGGGCTTAGCCCAGACTTATGACTGTCATGAGACCAAACATCGCA'),\n",
       " ('TAATTCTGATGAGACGGTGACGTCGAAACTCCCTCTACAAATAATTTTGTTTAATACTTGAGACCTTTCATCGC',\n",
       "  'GGAGTTTCGACGTCACCGTCTCATCAGAATTAAAAGCACATTAATTGACTCCTGTCATGAGACCAAACATCGCA'),\n",
       " ('GCGTTCTGATGAGACAGTGATGTCGAAACCGCCTCTACAAATAATTTTGTTTAATACTTGAGACCTTTCATCGC',\n",
       "  'GCGGTTTCGACATCACTGTCTCATCAGAACGCAAAGCACATGCGTTGACCGCTGTCATGAGACCAAACATCGCA'),\n",
       " ('TACACTGACGAGTCCCTAAAGGACGAAACACCGCCTCTACAAATAATTTTGTTTAATACTTGAGACCTTTCATCGC',\n",
       "  'GGTGTTTCGTCCTTTAGGGACTCGTCAGTGTACTGATACAAGTACAGACAGCGCTGTCATGAGACCAAACATCGCA'),\n",
       " ('TGCACTTCTGATGAGGCAGTGATGCCGAAACGACCTCTACAAATAATTTTGTTTAATACTTGAGACCTTTCATCGC',\n",
       "  'CGTTTCGGCATCACTGCCTCATCAGAAGTGCAAGCACAGCACTTGACGACTTCAGGTCATGAGACCAAACATCGCA'),\n",
       " ('CCGTTCTGATGAGTCCGTGAGGACGAAAGCGCCTCTACAAATAATTTTGTTTAATACTTGAGACCTTTCATCGC',\n",
       "  'GCGCTTTCGTCCTCACGGACTCATCAGAACGGGAAGCACACCCGTTGAGCGCTGTCATGAGACCAAACATCGCA')]"
      ]
     },
     "execution_count": 63,
     "metadata": {},
     "output_type": "execute_result"
    }
   ],
   "source": [
    "[(b[0], a[1]) for a, b in zip(first_parts, second_parts)]"
   ]
  },
  {
   "cell_type": "code",
   "execution_count": 45,
   "id": "06cab72e",
   "metadata": {},
   "outputs": [
    {
     "data": {
      "text/plain": [
       "[('TGATGACGAAACCCCCTCTACAAATAATTTTGTTTAATACTTGAGACCTTTCATCGC',\n",
       "  'GACTCATCAGAGTTGAAAGCACATCAACTGACCCCTGTCATGAGACCAAACATCGCAG'),\n",
       " ('AAGGACGAAACACCCCTCTACAAATAATTTTGTTTAATACTTGAGACCTTTCATCGC',\n",
       "  'ACTCATCAGTCAAGGTACGCACCTTGAGACACCCTGTCATGAGACCAAACATCGCAG'),\n",
       " ('GACGAAACTTCCTCTACAAATAATTTTGTTTAATACTTGAGACCTTTCATCGCGACC',\n",
       "  'GACTCATCAGAATTAAAAGCACATTAATTGACTTCTGTCATGAGACCAAACATCGCAG'),\n",
       " ('AGGGCCGAAACAGTCCTCTACAAATAATTTTGTTTAATACTTGAGACCTTTCATCGC',\n",
       "  'GCCATCGTCAGGTCGGATACACATCCGGCGACAGTCGTCATGAGACCAAACATCGCAG'),\n",
       " ('GACGAAACTTATGACCTCTACAAATAATTTTGTTTAATACTTGAGACCTTTCATCGC',\n",
       "  'TTCAGCGACTCATCAGTGGGCTTAGCCCAGACTTATGACTGTCATGAGACCAAACATCG'),\n",
       " ('TGACGTCGAAACTCCCTCTACAAATAATTTTGTTTAATACTTGAGACCTTTCATCGC',\n",
       "  'TCTCATCAGAATTAAAAGCACATTAATTGACTCCTGTCATGAGACCAAACATCGCAG'),\n",
       " ('TGATGTCGAAACCGCCTCTACAAATAATTTTGTTTAATACTTGAGACCTTTCATCGC',\n",
       "  'TCTCATCAGAACGCAAAGCACATGCGTTGACCGCTGTCATGAGACCAAACATCGCAG'),\n",
       " ('AGGACGAAACACCGCCTCTACAAATAATTTTGTTTAATACTTGAGACCTTTCATCGC',\n",
       "  'ACTCGTCAGTGTACTGATACAAGTACAGACAGCGCTGTCATGAGACCAAACATCGCAG'),\n",
       " ('TGATGCCGAAACGACCTCTACAAATAATTTTGTTTAATACTTGAGACCTTTCATCGC',\n",
       "  'CATCAGAAGTGCAAGCACAGCACTTGACGACTTCAGGTCATGAGACCAAACATCGCAG'),\n",
       " ('GACGAAAGCGCCTCTACAAATAATTTTGTTTAATACTTGAGACCTTTCATCGCGACC',\n",
       "  'ACTCATCAGAACGGGAAGCACACCCGTTGAGCGCTGTCATGAGACCAAACATCGCAG')]"
      ]
     },
     "execution_count": 45,
     "metadata": {},
     "output_type": "execute_result"
    }
   ],
   "source": [
    "[(b[0], a[1]) for a, b in zip(first_parts, second_parts)]"
   ]
  },
  {
   "cell_type": "code",
   "execution_count": null,
   "id": "53c91a08",
   "metadata": {},
   "outputs": [],
   "source": []
  }
 ],
 "metadata": {
  "kernelspec": {
   "display_name": "Python 3 (ipykernel)",
   "language": "python",
   "name": "python3"
  },
  "language_info": {
   "codemirror_mode": {
    "name": "ipython",
    "version": 3
   },
   "file_extension": ".py",
   "mimetype": "text/x-python",
   "name": "python",
   "nbconvert_exporter": "python",
   "pygments_lexer": "ipython3",
   "version": "3.8.9"
  }
 },
 "nbformat": 4,
 "nbformat_minor": 5
}
