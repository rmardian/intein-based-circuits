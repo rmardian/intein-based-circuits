{
 "cells": [
  {
   "cell_type": "code",
   "execution_count": 13,
   "id": "front-columbus",
   "metadata": {},
   "outputs": [],
   "source": [
    "import pandas as pd\n",
    "import numpy as np\n",
    "import matplotlib.pyplot as plt\n",
    "import seaborn as sns\n",
    "from tqdm import tqdm\n",
    "\n",
    "from itertools import permutations, product\n",
    "from primers import primers\n",
    "from Bio import SeqIO\n",
    "from Bio.Seq import Seq\n",
    "from Bio.Restriction import BsaI, BsmBI"
   ]
  },
  {
   "cell_type": "code",
   "execution_count": 2,
   "id": "6ccd4b50",
   "metadata": {},
   "outputs": [
    {
     "data": {
      "text/plain": [
       "['GGTCTC', 'GAGACC', 'CGTCTC', 'GAGACG']"
      ]
     },
     "execution_count": 2,
     "metadata": {},
     "output_type": "execute_result"
    }
   ],
   "source": [
    "recognition_sites = np.array([(enz, str(Seq(enz).reverse_complement())) for enz in [BsaI.site, BsmBI.site]]).ravel().tolist()\n",
    "recognition_sites"
   ]
  },
  {
   "cell_type": "code",
   "execution_count": 6,
   "id": "ebedba4b",
   "metadata": {},
   "outputs": [
    {
     "data": {
      "text/html": [
       "<div>\n",
       "<style scoped>\n",
       "    .dataframe tbody tr th:only-of-type {\n",
       "        vertical-align: middle;\n",
       "    }\n",
       "\n",
       "    .dataframe tbody tr th {\n",
       "        vertical-align: top;\n",
       "    }\n",
       "\n",
       "    .dataframe thead th {\n",
       "        text-align: right;\n",
       "    }\n",
       "</style>\n",
       "<table border=\"1\" class=\"dataframe\">\n",
       "  <thead>\n",
       "    <tr style=\"text-align: right;\">\n",
       "      <th></th>\n",
       "      <th>name</th>\n",
       "      <th>sequence</th>\n",
       "    </tr>\n",
       "  </thead>\n",
       "  <tbody>\n",
       "    <tr>\n",
       "      <th>0</th>\n",
       "      <td>pSEVA521</td>\n",
       "      <td>TTAATTAAAGCGGATAACAATTTCACACAGGAGGCCGCCTAGGCCG...</td>\n",
       "    </tr>\n",
       "    <tr>\n",
       "      <th>1</th>\n",
       "      <td>pJUMP27-1A(sfGFP)</td>\n",
       "      <td>TTAATTAAGGAGTTTTGCAGGTGCCTTGGAACACCTGCTTTTCGCT...</td>\n",
       "    </tr>\n",
       "  </tbody>\n",
       "</table>\n",
       "</div>"
      ],
      "text/plain": [
       "                name                                           sequence\n",
       "0           pSEVA521  TTAATTAAAGCGGATAACAATTTCACACAGGAGGCCGCCTAGGCCG...\n",
       "1  pJUMP27-1A(sfGFP)  TTAATTAAGGAGTTTTGCAGGTGCCTTGGAACACCTGCTTTTCGCT..."
      ]
     },
     "execution_count": 6,
     "metadata": {},
     "output_type": "execute_result"
    }
   ],
   "source": [
    "#import fasta files\n",
    "fastas = ['pSEVA521', 'pjump27-1asfgfp']\n",
    "plasmids = pd.DataFrame([(p.id, str(p.seq)) for fasta in fastas \\\n",
    "                        for p in list(SeqIO.parse('datasets/jump/{}.fasta'.format(fasta), 'fasta'))], \\\n",
    "                        columns=['name', 'sequence'])\n",
    "plasmids['sequence'] = plasmids['sequence'].str.rstrip().str.upper()\n",
    "plasmids.head()"
   ]
  },
  {
   "cell_type": "code",
   "execution_count": 10,
   "id": "f2e036f1",
   "metadata": {},
   "outputs": [
    {
     "data": {
      "text/html": [
       "<div>\n",
       "<style scoped>\n",
       "    .dataframe tbody tr th:only-of-type {\n",
       "        vertical-align: middle;\n",
       "    }\n",
       "\n",
       "    .dataframe tbody tr th {\n",
       "        vertical-align: top;\n",
       "    }\n",
       "\n",
       "    .dataframe thead th {\n",
       "        text-align: right;\n",
       "    }\n",
       "</style>\n",
       "<table border=\"1\" class=\"dataframe\">\n",
       "  <thead>\n",
       "    <tr style=\"text-align: right;\">\n",
       "      <th></th>\n",
       "      <th>name</th>\n",
       "      <th>sequence</th>\n",
       "    </tr>\n",
       "  </thead>\n",
       "  <tbody>\n",
       "    <tr>\n",
       "      <th>0</th>\n",
       "      <td>TetR</td>\n",
       "      <td>AAATTTGACAGCTTATCATCGATAAACTGTAATGCGGTAGTTTATC...</td>\n",
       "    </tr>\n",
       "    <tr>\n",
       "      <th>1</th>\n",
       "      <td>1A-pSC101-TetR</td>\n",
       "      <td>CGGTCCGCGCGTTGTCCTTTTCCGCTGCATAACCCTGCTTCGGGGT...</td>\n",
       "    </tr>\n",
       "  </tbody>\n",
       "</table>\n",
       "</div>"
      ],
      "text/plain": [
       "             name                                           sequence\n",
       "0            TetR  AAATTTGACAGCTTATCATCGATAAACTGTAATGCGGTAGTTTATC...\n",
       "1  1A-pSC101-TetR  CGGTCCGCGCGTTGTCCTTTTCCGCTGCATAACCCTGCTTCGGGGT..."
      ]
     },
     "execution_count": 10,
     "metadata": {},
     "output_type": "execute_result"
    }
   ],
   "source": [
    "fragments = pd.read_csv('datasets/jump/fragments.csv')\n",
    "fragments['sequence'] = fragments['sequence'].str.rstrip().str.upper()\n",
    "fragments"
   ]
  },
  {
   "cell_type": "code",
   "execution_count": 26,
   "id": "4b7585e7",
   "metadata": {},
   "outputs": [],
   "source": [
    "def reindex(plasmid):\n",
    "    \n",
    "    start = 'cggtccgcgcgttgtccttttccgctgcataaccctgcttcggggtcattatagcgattttttcggtatatccatcctttttcgcacgatatacaggatt'\n",
    "    new_start = plasmid.find(start.upper())\n",
    "    if new_start == -1:\n",
    "        return plasmid\n",
    "    return plasmid[new_start:] + plasmid[:new_start]\n",
    "\n",
    "plasmids['sequence'] = plasmids['sequence'].apply(reindex)"
   ]
  },
  {
   "cell_type": "code",
   "execution_count": 28,
   "id": "c699bb4f",
   "metadata": {},
   "outputs": [],
   "source": [
    "templates = dict(zip(plasmids['sequence'], plasmids['name']))\n",
    "parts = dict(zip(fragments['sequence'], fragments['name']))"
   ]
  },
  {
   "cell_type": "code",
   "execution_count": 29,
   "id": "18b775f5",
   "metadata": {},
   "outputs": [
    {
     "name": "stdout",
     "output_type": "stream",
     "text": [
      "pSEVA521 TetR\n",
      "pJUMP27-1A(sfGFP) 1A-pSC101-TetR\n"
     ]
    }
   ],
   "source": [
    "for seq in product(*[plasmids['sequence'].tolist(), fragments['sequence'].tolist()]):\n",
    "    if seq[0].find(seq[1])!=-1:\n",
    "        print(templates[seq[0]], parts[seq[1]])"
   ]
  },
  {
   "cell_type": "markdown",
   "id": "88bc0793",
   "metadata": {},
   "source": [
    "<b>Just hardcoded it for now.</b>"
   ]
  },
  {
   "cell_type": "code",
   "execution_count": 32,
   "id": "b2f64fc2",
   "metadata": {},
   "outputs": [],
   "source": [
    "tetR_pref = 'ccaataattacgattt'\n",
    "tetR_suff = 'cggtccgcgcgttgtc'\n",
    "backbone_pref = 'CCTCGACCTGAGACAA'\n",
    "backbone_suff = 'AAATTTGACAGCTTAT'"
   ]
  },
  {
   "cell_type": "code",
   "execution_count": 31,
   "id": "5c9a01a5",
   "metadata": {},
   "outputs": [],
   "source": [
    "parts_seq = dict(zip(fragments['name'], fragments['sequence']))"
   ]
  },
  {
   "cell_type": "code",
   "execution_count": 33,
   "id": "e9185b54",
   "metadata": {},
   "outputs": [
    {
     "data": {
      "text/plain": [
       "('CCAATAATTACGATTTAAATTTGACAGCTTATCATCGA', 'GACAACGCGCGGACCGTTGTCTCAGGTCGAGG')"
      ]
     },
     "execution_count": 33,
     "metadata": {},
     "output_type": "execute_result"
    }
   ],
   "source": [
    "#TetR\n",
    "fp, rp = primers(parts_seq['TetR'], add_fwd=tetR_pref, add_rev=str(Seq(tetR_suff).reverse_complement()))\n",
    "fp.seq, rp.seq"
   ]
  },
  {
   "cell_type": "code",
   "execution_count": 34,
   "id": "382ce53c",
   "metadata": {},
   "outputs": [
    {
     "data": {
      "text/plain": [
       "('CCTCGACCTGAGACAACGGTCCGCGCGTTGTCCTTT',\n",
       " 'ATAAGCTGTCAAATTTAAATCGTAATTATTGGGGACCCCTG')"
      ]
     },
     "execution_count": 34,
     "metadata": {},
     "output_type": "execute_result"
    }
   ],
   "source": [
    "#Backbone\n",
    "fp, rp = primers(parts_seq['1A-pSC101-TetR'], add_fwd=backbone_pref, add_rev=str(Seq(backbone_suff).reverse_complement()))\n",
    "fp.seq, rp.seq"
   ]
  },
  {
   "cell_type": "code",
   "execution_count": null,
   "id": "9f5958eb",
   "metadata": {},
   "outputs": [],
   "source": []
  },
  {
   "cell_type": "code",
   "execution_count": null,
   "id": "40939290",
   "metadata": {},
   "outputs": [],
   "source": []
  },
  {
   "cell_type": "code",
   "execution_count": null,
   "id": "3d1a9c93",
   "metadata": {},
   "outputs": [],
   "source": []
  },
  {
   "cell_type": "code",
   "execution_count": null,
   "id": "8946b85a",
   "metadata": {},
   "outputs": [],
   "source": []
  },
  {
   "cell_type": "code",
   "execution_count": null,
   "id": "fdd68e02",
   "metadata": {},
   "outputs": [],
   "source": []
  }
 ],
 "metadata": {
  "kernelspec": {
   "display_name": "Python 3 (ipykernel)",
   "language": "python",
   "name": "python3"
  },
  "language_info": {
   "codemirror_mode": {
    "name": "ipython",
    "version": 3
   },
   "file_extension": ".py",
   "mimetype": "text/x-python",
   "name": "python",
   "nbconvert_exporter": "python",
   "pygments_lexer": "ipython3",
   "version": "3.8.9"
  }
 },
 "nbformat": 4,
 "nbformat_minor": 5
}
