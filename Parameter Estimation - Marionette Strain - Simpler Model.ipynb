{
 "cells": [
  {
   "cell_type": "code",
   "execution_count": 1,
   "id": "crucial-shower",
   "metadata": {},
   "outputs": [],
   "source": [
    "import numpy as np\n",
    "import pandas as pd\n",
    "import matplotlib.pyplot as plt\n",
    "import seaborn as sns\n",
    "from scipy.optimize import curve_fit\n",
    "from scipy.integrate import odeint\n",
    "from tqdm import tqdm\n",
    "import warnings\n",
    "warnings.filterwarnings(\"ignore\")"
   ]
  },
  {
   "cell_type": "markdown",
   "id": "every-bernard",
   "metadata": {},
   "source": [
    "#### Import datasets"
   ]
  },
  {
   "cell_type": "markdown",
   "id": "regular-asthma",
   "metadata": {},
   "source": [
    "Marionette strains."
   ]
  },
  {
   "cell_type": "code",
   "execution_count": 2,
   "id": "convinced-adaptation",
   "metadata": {},
   "outputs": [],
   "source": [
    "fluos = []\n",
    "ods = []\n",
    "for i in range(4):\n",
    "    fluos.append(pd.read_csv('datasets/bulk_fluo_mario_' + '{:02b}'.format(int(i)) + '.csv', index_col='time').iloc[:,:9])\n",
    "    ods.append(pd.read_csv('datasets/od_mario_' + '{:02b}'.format(int(i)) + '.csv', index_col='time').iloc[:,:9])\n",
    "gates = fluos[0].columns.tolist()"
   ]
  },
  {
   "cell_type": "markdown",
   "id": "basic-performer",
   "metadata": {},
   "source": [
    "#### Modeling Single Gate"
   ]
  },
  {
   "cell_type": "code",
   "execution_count": 35,
   "id": "interracial-brunei",
   "metadata": {},
   "outputs": [
    {
     "name": "stdout",
     "output_type": "stream",
     "text": [
      "0 e11x32STPhoRadA\n"
     ]
    }
   ],
   "source": [
    "sel = 0\n",
    "gate = gates[sel]\n",
    "print(sel, gate)\n",
    "fluo_sel = pd.concat([fluos[i].iloc[:,sel] for i in range(4)], axis=1)\n",
    "od_sel = pd.concat([ods[i].iloc[:,sel] for i in range(4)], axis=1)"
   ]
  },
  {
   "cell_type": "code",
   "execution_count": null,
   "id": "victorian-combining",
   "metadata": {},
   "outputs": [],
   "source": []
  },
  {
   "cell_type": "markdown",
   "id": "uniform-virus",
   "metadata": {},
   "source": [
    "#### Fitting Only 11 State"
   ]
  },
  {
   "cell_type": "code",
   "execution_count": 36,
   "id": "requested-panic",
   "metadata": {},
   "outputs": [
    {
     "ename": "RuntimeError",
     "evalue": "Optimal parameters not found: The maximum number of function evaluations is exceeded.",
     "output_type": "error",
     "traceback": [
      "\u001b[0;31m---------------------------------------------------------------------------\u001b[0m",
      "\u001b[0;31mRuntimeError\u001b[0m                              Traceback (most recent call last)",
      "\u001b[0;32m<ipython-input-36-d6dded40f59d>\u001b[0m in \u001b[0;36m<module>\u001b[0;34m\u001b[0m\n\u001b[1;32m     33\u001b[0m     \u001b[0;32mreturn\u001b[0m \u001b[0mf_df\u001b[0m\u001b[0;34m,\u001b[0m \u001b[0mf_sim\u001b[0m\u001b[0;34m,\u001b[0m \u001b[0mf_data\u001b[0m\u001b[0;34m\u001b[0m\u001b[0;34m\u001b[0m\u001b[0m\n\u001b[1;32m     34\u001b[0m \u001b[0;34m\u001b[0m\u001b[0m\n\u001b[0;32m---> 35\u001b[0;31m \u001b[0mf_df\u001b[0m\u001b[0;34m,\u001b[0m \u001b[0mf_sim\u001b[0m\u001b[0;34m,\u001b[0m \u001b[0mf_data\u001b[0m \u001b[0;34m=\u001b[0m \u001b[0mfit_simple\u001b[0m\u001b[0;34m(\u001b[0m\u001b[0mfluo_sel\u001b[0m\u001b[0;34m.\u001b[0m\u001b[0miloc\u001b[0m\u001b[0;34m[\u001b[0m\u001b[0;34m:\u001b[0m\u001b[0;34m,\u001b[0m\u001b[0mn\u001b[0m\u001b[0;34m]\u001b[0m\u001b[0;34m)\u001b[0m\u001b[0;34m\u001b[0m\u001b[0;34m\u001b[0m\u001b[0m\n\u001b[0m\u001b[1;32m     36\u001b[0m \u001b[0mf_data\u001b[0m\u001b[0;34m.\u001b[0m\u001b[0mplot\u001b[0m\u001b[0;34m(\u001b[0m\u001b[0;34m)\u001b[0m\u001b[0;34m\u001b[0m\u001b[0;34m\u001b[0m\u001b[0m\n\u001b[1;32m     37\u001b[0m \u001b[0mf_sim\u001b[0m\u001b[0;34m.\u001b[0m\u001b[0mplot\u001b[0m\u001b[0;34m(\u001b[0m\u001b[0;34m)\u001b[0m\u001b[0;34m\u001b[0m\u001b[0;34m\u001b[0m\u001b[0m\n",
      "\u001b[0;32m<ipython-input-36-d6dded40f59d>\u001b[0m in \u001b[0;36mfit_simple\u001b[0;34m(fluo)\u001b[0m\n\u001b[1;32m     27\u001b[0m         \u001b[0;32mreturn\u001b[0m \u001b[0mfit\u001b[0m\u001b[0;34m[\u001b[0m\u001b[0;36m0\u001b[0m\u001b[0;34m]\u001b[0m\u001b[0;34m\u001b[0m\u001b[0;34m\u001b[0m\u001b[0m\n\u001b[1;32m     28\u001b[0m \u001b[0;34m\u001b[0m\u001b[0m\n\u001b[0;32m---> 29\u001b[0;31m     \u001b[0mf_params\u001b[0m\u001b[0;34m,\u001b[0m \u001b[0mf_cov\u001b[0m \u001b[0;34m=\u001b[0m \u001b[0mcurve_fit\u001b[0m\u001b[0;34m(\u001b[0m\u001b[0mmodel_fit\u001b[0m\u001b[0;34m,\u001b[0m \u001b[0mf_t\u001b[0m\u001b[0;34m,\u001b[0m \u001b[0mf_data\u001b[0m\u001b[0;34m,\u001b[0m \u001b[0mp0\u001b[0m\u001b[0;34m=\u001b[0m\u001b[0minit_guess\u001b[0m\u001b[0;34m,\u001b[0m \u001b[0mbounds\u001b[0m\u001b[0;34m=\u001b[0m\u001b[0mgate_bounds_together\u001b[0m\u001b[0;34m)\u001b[0m\u001b[0;31m#, method='dogbox')\u001b[0m\u001b[0;34m\u001b[0m\u001b[0;34m\u001b[0m\u001b[0m\n\u001b[0m\u001b[1;32m     30\u001b[0m     \u001b[0mprint\u001b[0m\u001b[0;34m(\u001b[0m\u001b[0mf_params\u001b[0m\u001b[0;34m)\u001b[0m\u001b[0;34m\u001b[0m\u001b[0;34m\u001b[0m\u001b[0m\n\u001b[1;32m     31\u001b[0m     \u001b[0mf_sim\u001b[0m \u001b[0;34m=\u001b[0m \u001b[0mpd\u001b[0m\u001b[0;34m.\u001b[0m\u001b[0mSeries\u001b[0m\u001b[0;34m(\u001b[0m\u001b[0mmodel_fit\u001b[0m\u001b[0;34m(\u001b[0m\u001b[0mf_t\u001b[0m\u001b[0;34m,\u001b[0m \u001b[0;34m*\u001b[0m\u001b[0mf_params\u001b[0m\u001b[0;34m)\u001b[0m\u001b[0;34m,\u001b[0m \u001b[0mindex\u001b[0m\u001b[0;34m=\u001b[0m\u001b[0mf_t\u001b[0m\u001b[0;34m)\u001b[0m\u001b[0;34m\u001b[0m\u001b[0;34m\u001b[0m\u001b[0m\n",
      "\u001b[0;32m~/Documents/Edinburgh/Notebook/env/lib/python3.9/site-packages/scipy/optimize/minpack.py\u001b[0m in \u001b[0;36mcurve_fit\u001b[0;34m(f, xdata, ydata, p0, sigma, absolute_sigma, check_finite, bounds, method, jac, **kwargs)\u001b[0m\n\u001b[1;32m    797\u001b[0m \u001b[0;34m\u001b[0m\u001b[0m\n\u001b[1;32m    798\u001b[0m         \u001b[0;32mif\u001b[0m \u001b[0;32mnot\u001b[0m \u001b[0mres\u001b[0m\u001b[0;34m.\u001b[0m\u001b[0msuccess\u001b[0m\u001b[0;34m:\u001b[0m\u001b[0;34m\u001b[0m\u001b[0;34m\u001b[0m\u001b[0m\n\u001b[0;32m--> 799\u001b[0;31m             \u001b[0;32mraise\u001b[0m \u001b[0mRuntimeError\u001b[0m\u001b[0;34m(\u001b[0m\u001b[0;34m\"Optimal parameters not found: \"\u001b[0m \u001b[0;34m+\u001b[0m \u001b[0mres\u001b[0m\u001b[0;34m.\u001b[0m\u001b[0mmessage\u001b[0m\u001b[0;34m)\u001b[0m\u001b[0;34m\u001b[0m\u001b[0;34m\u001b[0m\u001b[0m\n\u001b[0m\u001b[1;32m    800\u001b[0m \u001b[0;34m\u001b[0m\u001b[0m\n\u001b[1;32m    801\u001b[0m         \u001b[0mysize\u001b[0m \u001b[0;34m=\u001b[0m \u001b[0mlen\u001b[0m\u001b[0;34m(\u001b[0m\u001b[0mres\u001b[0m\u001b[0;34m.\u001b[0m\u001b[0mfun\u001b[0m\u001b[0;34m)\u001b[0m\u001b[0;34m\u001b[0m\u001b[0;34m\u001b[0m\u001b[0m\n",
      "\u001b[0;31mRuntimeError\u001b[0m: Optimal parameters not found: The maximum number of function evaluations is exceeded."
     ]
    }
   ],
   "source": [
    "def gate_wrapper(t, rate, ymax, v, y0):\n",
    "    \n",
    "    def gate_model(y, t):\n",
    "        \n",
    "        [A] = y\n",
    "        dA = rate * (1 - (A/ymax)**v) * A\n",
    "        #dA = rate* np.log(ymax/A)\n",
    "        #dA = rate * A * np.log(A/ymax)\n",
    "        \n",
    "        return [dA]\n",
    "    \n",
    "    solution = odeint(gate_model, y0, t)\n",
    "    return solution.transpose()\n",
    "\n",
    "def fit_simple(fluo):\n",
    "    \n",
    "    f_t = fluo.index\n",
    "    f_data = fluo.copy()\n",
    "    y0 = [1]\n",
    "    \n",
    "    parameters = ['rate', 'ymax', 'v']\n",
    "    init_guess = [0.2, 20000, 1]\n",
    "    gate_bounds_together = [[2e-2, 2000, 0], [4e1, 1e6, 2]]\n",
    "    \n",
    "    def model_fit(t, a, b, v):\n",
    "        fit = gate_wrapper(t, a, b, v, y0)\n",
    "        return fit[0]\n",
    "    \n",
    "    f_params, f_cov = curve_fit(model_fit, f_t, f_data, p0=init_guess, bounds=gate_bounds_together)#, method='dogbox')\n",
    "    print(f_params)\n",
    "    f_sim = pd.Series(model_fit(f_t, *f_params), index=f_t)\n",
    "    f_df = pd.DataFrame({'Parameters': parameters, 'Value': f_params, 'Err': np.sqrt(np.diag(f_cov))})\n",
    "    return f_df, f_sim, f_data \n",
    "\n",
    "f_df, f_sim, f_data = fit_simple(fluo_sel.iloc[:,n])\n",
    "f_data.plot()\n",
    "f_sim.plot()\n",
    "plt.show()"
   ]
  },
  {
   "cell_type": "code",
   "execution_count": 20,
   "id": "excess-endorsement",
   "metadata": {},
   "outputs": [],
   "source": [
    "def fit_single_state(fluo, od_params, ind1, ind2):\n",
    "    \n",
    "    parameters = ['r', 'K']\n",
    "    f_t = fluo.index\n",
    "    f_data = fluo.copy()\n",
    "    y0 = [0.1]\n",
    "    \n",
    "    lower_bounds = [0, 0]\n",
    "    upper_bounds = [1e2, 1e6]\n",
    "    gate_bounds = [lower_bounds, upper_bounds]\n",
    "    init_guesses = [0.5, 175580]\n",
    "    \n",
    "    def model_fit(t, a, b):\n",
    "        fit = generic_sigmoid(t, a, b, y0)\n",
    "        return pd.Series(fit[0])\n",
    "    \n",
    "    f_params, f_cov = curve_fit(model_fit, f_t, f_data, p0=init_guesses, bounds=gate_bounds)\n",
    "    f_sim = model_fit(f_t, *f_params)\n",
    "    f_df = pd.DataFrame({'Parameters': parameters, 'Value': f_params, 'Err': np.sqrt(np.diag(f_cov))})\n",
    "    return f_df, f_sim, f_t, f_data"
   ]
  },
  {
   "cell_type": "code",
   "execution_count": 21,
   "id": "natural-sewing",
   "metadata": {},
   "outputs": [
    {
     "ename": "ValueError",
     "evalue": "Residuals are not finite in the initial point.",
     "output_type": "error",
     "traceback": [
      "\u001b[0;31m---------------------------------------------------------------------------\u001b[0m",
      "\u001b[0;31mValueError\u001b[0m                                Traceback (most recent call last)",
      "\u001b[0;32m<ipython-input-21-9d61920debe4>\u001b[0m in \u001b[0;36m<module>\u001b[0;34m\u001b[0m\n\u001b[1;32m      1\u001b[0m \u001b[0mn\u001b[0m \u001b[0;34m=\u001b[0m \u001b[0;36m3\u001b[0m\u001b[0;34m\u001b[0m\u001b[0;34m\u001b[0m\u001b[0m\n\u001b[0;32m----> 2\u001b[0;31m \u001b[0mf_df\u001b[0m\u001b[0;34m,\u001b[0m \u001b[0mf_sim\u001b[0m\u001b[0;34m,\u001b[0m \u001b[0mf_t\u001b[0m\u001b[0;34m,\u001b[0m \u001b[0mf_data\u001b[0m \u001b[0;34m=\u001b[0m \u001b[0mfit_single_state\u001b[0m\u001b[0;34m(\u001b[0m\u001b[0mfluo_sel\u001b[0m\u001b[0;34m.\u001b[0m\u001b[0miloc\u001b[0m\u001b[0;34m[\u001b[0m\u001b[0;34m:\u001b[0m\u001b[0;34m,\u001b[0m\u001b[0mn\u001b[0m\u001b[0;34m]\u001b[0m\u001b[0;34m,\u001b[0m \u001b[0mod_params_sel\u001b[0m\u001b[0;34m[\u001b[0m\u001b[0mn\u001b[0m\u001b[0;34m]\u001b[0m\u001b[0;34m,\u001b[0m \u001b[0mint\u001b[0m\u001b[0;34m(\u001b[0m\u001b[0mn\u001b[0m\u001b[0;34m/\u001b[0m\u001b[0;36m2\u001b[0m\u001b[0;34m)\u001b[0m\u001b[0;34m,\u001b[0m \u001b[0mn\u001b[0m\u001b[0;34m%\u001b[0m\u001b[0;36m2\u001b[0m\u001b[0;34m)\u001b[0m\u001b[0;34m\u001b[0m\u001b[0;34m\u001b[0m\u001b[0m\n\u001b[0m",
      "\u001b[0;32m<ipython-input-20-0845cf328088>\u001b[0m in \u001b[0;36mfit_single_state\u001b[0;34m(fluo, od_params, ind1, ind2)\u001b[0m\n\u001b[1;32m     15\u001b[0m         \u001b[0;32mreturn\u001b[0m \u001b[0mpd\u001b[0m\u001b[0;34m.\u001b[0m\u001b[0mSeries\u001b[0m\u001b[0;34m(\u001b[0m\u001b[0mfit\u001b[0m\u001b[0;34m[\u001b[0m\u001b[0;36m0\u001b[0m\u001b[0;34m]\u001b[0m\u001b[0;34m)\u001b[0m\u001b[0;34m\u001b[0m\u001b[0;34m\u001b[0m\u001b[0m\n\u001b[1;32m     16\u001b[0m \u001b[0;34m\u001b[0m\u001b[0m\n\u001b[0;32m---> 17\u001b[0;31m     \u001b[0mf_params\u001b[0m\u001b[0;34m,\u001b[0m \u001b[0mf_cov\u001b[0m \u001b[0;34m=\u001b[0m \u001b[0mcurve_fit\u001b[0m\u001b[0;34m(\u001b[0m\u001b[0mmodel_fit\u001b[0m\u001b[0;34m,\u001b[0m \u001b[0mf_t\u001b[0m\u001b[0;34m,\u001b[0m \u001b[0mf_data\u001b[0m\u001b[0;34m,\u001b[0m \u001b[0mp0\u001b[0m\u001b[0;34m=\u001b[0m\u001b[0minit_guesses\u001b[0m\u001b[0;34m,\u001b[0m \u001b[0mbounds\u001b[0m\u001b[0;34m=\u001b[0m\u001b[0mgate_bounds\u001b[0m\u001b[0;34m)\u001b[0m\u001b[0;34m\u001b[0m\u001b[0;34m\u001b[0m\u001b[0m\n\u001b[0m\u001b[1;32m     18\u001b[0m     \u001b[0mf_sim\u001b[0m \u001b[0;34m=\u001b[0m \u001b[0mmodel_fit\u001b[0m\u001b[0;34m(\u001b[0m\u001b[0mf_t\u001b[0m\u001b[0;34m,\u001b[0m \u001b[0;34m*\u001b[0m\u001b[0mf_params\u001b[0m\u001b[0;34m)\u001b[0m\u001b[0;34m\u001b[0m\u001b[0;34m\u001b[0m\u001b[0m\n\u001b[1;32m     19\u001b[0m     \u001b[0mf_df\u001b[0m \u001b[0;34m=\u001b[0m \u001b[0mpd\u001b[0m\u001b[0;34m.\u001b[0m\u001b[0mDataFrame\u001b[0m\u001b[0;34m(\u001b[0m\u001b[0;34m{\u001b[0m\u001b[0;34m'Parameters'\u001b[0m\u001b[0;34m:\u001b[0m \u001b[0mparameters\u001b[0m\u001b[0;34m,\u001b[0m \u001b[0;34m'Value'\u001b[0m\u001b[0;34m:\u001b[0m \u001b[0mf_params\u001b[0m\u001b[0;34m,\u001b[0m \u001b[0;34m'Err'\u001b[0m\u001b[0;34m:\u001b[0m \u001b[0mnp\u001b[0m\u001b[0;34m.\u001b[0m\u001b[0msqrt\u001b[0m\u001b[0;34m(\u001b[0m\u001b[0mnp\u001b[0m\u001b[0;34m.\u001b[0m\u001b[0mdiag\u001b[0m\u001b[0;34m(\u001b[0m\u001b[0mf_cov\u001b[0m\u001b[0;34m)\u001b[0m\u001b[0;34m)\u001b[0m\u001b[0;34m}\u001b[0m\u001b[0;34m)\u001b[0m\u001b[0;34m\u001b[0m\u001b[0;34m\u001b[0m\u001b[0m\n",
      "\u001b[0;32m~/Documents/Edinburgh/Notebook/env/lib/python3.9/site-packages/scipy/optimize/minpack.py\u001b[0m in \u001b[0;36mcurve_fit\u001b[0;34m(f, xdata, ydata, p0, sigma, absolute_sigma, check_finite, bounds, method, jac, **kwargs)\u001b[0m\n\u001b[1;32m    793\u001b[0m             \u001b[0mkwargs\u001b[0m\u001b[0;34m[\u001b[0m\u001b[0;34m'max_nfev'\u001b[0m\u001b[0;34m]\u001b[0m \u001b[0;34m=\u001b[0m \u001b[0mkwargs\u001b[0m\u001b[0;34m.\u001b[0m\u001b[0mpop\u001b[0m\u001b[0;34m(\u001b[0m\u001b[0;34m'maxfev'\u001b[0m\u001b[0;34m,\u001b[0m \u001b[0;32mNone\u001b[0m\u001b[0;34m)\u001b[0m\u001b[0;34m\u001b[0m\u001b[0;34m\u001b[0m\u001b[0m\n\u001b[1;32m    794\u001b[0m \u001b[0;34m\u001b[0m\u001b[0m\n\u001b[0;32m--> 795\u001b[0;31m         res = least_squares(func, p0, jac=jac, bounds=bounds, method=method,\n\u001b[0m\u001b[1;32m    796\u001b[0m                             **kwargs)\n\u001b[1;32m    797\u001b[0m \u001b[0;34m\u001b[0m\u001b[0m\n",
      "\u001b[0;32m~/Documents/Edinburgh/Notebook/env/lib/python3.9/site-packages/scipy/optimize/_lsq/least_squares.py\u001b[0m in \u001b[0;36mleast_squares\u001b[0;34m(fun, x0, jac, bounds, method, ftol, xtol, gtol, x_scale, loss, f_scale, diff_step, tr_solver, tr_options, jac_sparsity, max_nfev, verbose, args, kwargs)\u001b[0m\n\u001b[1;32m    822\u001b[0m \u001b[0;34m\u001b[0m\u001b[0m\n\u001b[1;32m    823\u001b[0m     \u001b[0;32mif\u001b[0m \u001b[0;32mnot\u001b[0m \u001b[0mnp\u001b[0m\u001b[0;34m.\u001b[0m\u001b[0mall\u001b[0m\u001b[0;34m(\u001b[0m\u001b[0mnp\u001b[0m\u001b[0;34m.\u001b[0m\u001b[0misfinite\u001b[0m\u001b[0;34m(\u001b[0m\u001b[0mf0\u001b[0m\u001b[0;34m)\u001b[0m\u001b[0;34m)\u001b[0m\u001b[0;34m:\u001b[0m\u001b[0;34m\u001b[0m\u001b[0;34m\u001b[0m\u001b[0m\n\u001b[0;32m--> 824\u001b[0;31m         \u001b[0;32mraise\u001b[0m \u001b[0mValueError\u001b[0m\u001b[0;34m(\u001b[0m\u001b[0;34m\"Residuals are not finite in the initial point.\"\u001b[0m\u001b[0;34m)\u001b[0m\u001b[0;34m\u001b[0m\u001b[0;34m\u001b[0m\u001b[0m\n\u001b[0m\u001b[1;32m    825\u001b[0m \u001b[0;34m\u001b[0m\u001b[0m\n\u001b[1;32m    826\u001b[0m     \u001b[0mn\u001b[0m \u001b[0;34m=\u001b[0m \u001b[0mx0\u001b[0m\u001b[0;34m.\u001b[0m\u001b[0msize\u001b[0m\u001b[0;34m\u001b[0m\u001b[0;34m\u001b[0m\u001b[0m\n",
      "\u001b[0;31mValueError\u001b[0m: Residuals are not finite in the initial point."
     ]
    }
   ],
   "source": [
    "n = 3\n",
    "f_df, f_sim, f_t, f_data = fit_single_state(fluo_sel.iloc[:,n], od_params_sel[n], int(n/2), n%2)"
   ]
  },
  {
   "cell_type": "code",
   "execution_count": 17,
   "id": "technical-lottery",
   "metadata": {},
   "outputs": [
    {
     "data": {
      "text/plain": [
       "175580.0"
      ]
     },
     "execution_count": 17,
     "metadata": {},
     "output_type": "execute_result"
    }
   ],
   "source": [
    "fluo_sel.iloc[:,3].max()"
   ]
  },
  {
   "cell_type": "code",
   "execution_count": 71,
   "id": "tender-satin",
   "metadata": {
    "scrolled": true
   },
   "outputs": [
    {
     "data": {
      "image/png": "[encoded data removed]",
      "text/plain": [
       "<Figure size 432x288 with 1 Axes>"
      ]
     },
     "metadata": {
      "needs_background": "light"
     },
     "output_type": "display_data"
    }
   ],
   "source": [
    "#f, axs = plt.subplots(1, 4, sharex=True, sharey=False, figsize=(12, 3))\n",
    "#idx = len(fluo_sel.iloc[:,0])\n",
    "plt.scatter(f_t/60, f_data, c='slategrey', s=7)\n",
    "plt.plot(f_t/60, f_sim, c='deeppink')\n",
    "plt.title(gate + '-' + format(3, '02b'))\n",
    "plt.xlabel('Time (h)')\n",
    "plt.tight_layout()\n",
    "sns.despine()"
   ]
  },
  {
   "cell_type": "markdown",
   "id": "otherwise-envelope",
   "metadata": {},
   "source": [
    "#### Fitting Altogether"
   ]
  },
  {
   "cell_type": "code",
   "execution_count": 83,
   "id": "mobile-sound",
   "metadata": {},
   "outputs": [
    {
     "name": "stderr",
     "output_type": "stream",
     "text": [
      "0it [00:00, ?it/s]\n",
      "  0%|          | 0/10 [00:00<?, ?it/s]\u001b[A\n",
      " 10%|█         | 1/10 [00:00<00:01,  4.66it/s]\u001b[A\n",
      " 20%|██        | 2/10 [00:05<00:25,  3.21s/it]\u001b[A\n",
      " 30%|███       | 3/10 [00:08<00:21,  3.07s/it]\u001b[A\n",
      " 40%|████      | 4/10 [00:10<00:16,  2.67s/it]\u001b[A\n",
      " 50%|█████     | 5/10 [00:11<00:10,  2.09s/it]\u001b[A\n",
      " 60%|██████    | 6/10 [00:21<00:19,  4.84s/it]\u001b[A\n",
      " 70%|███████   | 7/10 [00:23<00:11,  3.93s/it]\u001b[A\n",
      " 80%|████████  | 8/10 [00:24<00:05,  2.93s/it]\u001b[A\n",
      " 90%|█████████ | 9/10 [00:28<00:03,  3.10s/it]\u001b[A\n",
      "100%|██████████| 10/10 [00:33<00:00,  3.35s/it]\u001b[A\n",
      "1it [00:34, 34.96s/it]\n",
      "  0%|          | 0/10 [00:00<?, ?it/s]\u001b[A\n",
      " 10%|█         | 1/10 [00:01<00:09,  1.04s/it]\u001b[A\n",
      " 20%|██        | 2/10 [00:02<00:10,  1.34s/it]\u001b[A\n",
      " 30%|███       | 3/10 [00:04<00:10,  1.45s/it]\u001b[A\n",
      " 40%|████      | 4/10 [00:05<00:09,  1.51s/it]\u001b[A\n",
      " 50%|█████     | 5/10 [00:07<00:08,  1.72s/it]\u001b[A\n",
      " 60%|██████    | 6/10 [00:15<00:14,  3.65s/it]\u001b[A\n",
      " 70%|███████   | 7/10 [00:16<00:08,  2.86s/it]\u001b[A\n",
      " 80%|████████  | 8/10 [00:17<00:04,  2.43s/it]\u001b[A\n",
      " 90%|█████████ | 9/10 [00:20<00:02,  2.38s/it]\u001b[A\n",
      "100%|██████████| 10/10 [00:23<00:00,  2.39s/it]\u001b[A\n",
      "2it [01:06, 32.90s/it]\n",
      "  0%|          | 0/10 [00:00<?, ?it/s]\u001b[A\n",
      " 10%|█         | 1/10 [00:06<00:54,  6.02s/it]\u001b[A\n",
      " 20%|██        | 2/10 [00:12<00:50,  6.25s/it]\u001b[A\n",
      " 30%|███       | 3/10 [00:16<00:35,  5.05s/it]\u001b[A\n",
      " 40%|████      | 4/10 [00:16<00:18,  3.16s/it]\u001b[A\n",
      " 50%|█████     | 5/10 [00:20<00:17,  3.52s/it]\u001b[A\n",
      " 60%|██████    | 6/10 [00:25<00:16,  4.17s/it]\u001b[A\n",
      " 70%|███████   | 7/10 [00:29<00:11,  3.92s/it]\u001b[A\n",
      " 80%|████████  | 8/10 [00:37<00:10,  5.37s/it]\u001b[A\n",
      " 90%|█████████ | 9/10 [00:40<00:04,  4.41s/it]\u001b[A\n",
      "100%|██████████| 10/10 [00:43<00:00,  4.30s/it]\u001b[A\n",
      "3it [01:52, 38.89s/it]\n",
      "  0%|          | 0/10 [00:00<?, ?it/s]\u001b[A\n",
      " 10%|█         | 1/10 [00:00<00:08,  1.08it/s]\u001b[A\n",
      " 20%|██        | 2/10 [00:03<00:13,  1.63s/it]\u001b[A\n",
      " 30%|███       | 3/10 [00:06<00:15,  2.24s/it]\u001b[A\n",
      " 40%|████      | 4/10 [00:06<00:10,  1.68s/it]\u001b[A\n",
      " 50%|█████     | 5/10 [00:09<00:09,  1.86s/it]\u001b[A\n",
      " 60%|██████    | 6/10 [00:10<00:07,  1.85s/it]\u001b[A\n",
      " 70%|███████   | 7/10 [00:15<00:08,  2.74s/it]\u001b[A\n",
      " 80%|████████  | 8/10 [00:19<00:06,  3.23s/it]\u001b[A\n",
      " 90%|█████████ | 9/10 [00:24<00:03,  3.60s/it]\u001b[A\n",
      "100%|██████████| 10/10 [00:26<00:00,  2.65s/it]\u001b[A\n",
      "4it [02:23, 35.70s/it]\n",
      "  0%|          | 0/10 [00:00<?, ?it/s]\u001b[A\n",
      " 10%|█         | 1/10 [00:04<00:36,  4.07s/it]\u001b[A\n",
      " 20%|██        | 2/10 [00:06<00:25,  3.16s/it]\u001b[A\n",
      " 30%|███       | 3/10 [00:07<00:16,  2.32s/it]\u001b[A\n",
      " 40%|████      | 4/10 [00:11<00:16,  2.70s/it]\u001b[A\n",
      " 50%|█████     | 5/10 [00:14<00:14,  2.81s/it]\u001b[A\n",
      " 60%|██████    | 6/10 [00:15<00:09,  2.27s/it]\u001b[A\n",
      " 70%|███████   | 7/10 [00:22<00:11,  3.76s/it]\u001b[A\n",
      " 80%|████████  | 8/10 [00:22<00:05,  2.79s/it]\u001b[A\n",
      " 90%|█████████ | 9/10 [00:25<00:02,  2.75s/it]\u001b[A\n",
      "100%|██████████| 10/10 [00:27<00:00,  2.77s/it]\u001b[A\n",
      "5it [02:54, 33.93s/it]\n",
      "  0%|          | 0/10 [00:00<?, ?it/s]\u001b[A\n",
      " 10%|█         | 1/10 [00:04<00:40,  4.51s/it]\u001b[A\n",
      " 20%|██        | 2/10 [00:05<00:17,  2.15s/it]\u001b[A\n",
      " 30%|███       | 3/10 [00:07<00:16,  2.31s/it]\u001b[A\n",
      " 40%|████      | 4/10 [00:09<00:14,  2.34s/it]\u001b[A\n",
      " 50%|█████     | 5/10 [00:11<00:10,  2.00s/it]\u001b[A\n",
      " 60%|██████    | 6/10 [00:15<00:11,  2.84s/it]\u001b[A\n",
      " 70%|███████   | 7/10 [00:17<00:07,  2.59s/it]\u001b[A\n",
      " 80%|████████  | 8/10 [00:21<00:05,  2.88s/it]\u001b[A\n",
      " 90%|█████████ | 9/10 [00:22<00:02,  2.42s/it]\u001b[A\n",
      "100%|██████████| 10/10 [00:24<00:00,  2.45s/it]\u001b[A\n",
      "6it [03:23, 32.34s/it]\n",
      "  0%|          | 0/10 [00:00<?, ?it/s]\u001b[A\n",
      " 10%|█         | 1/10 [00:04<00:39,  4.34s/it]\u001b[A\n",
      " 20%|██        | 2/10 [00:07<00:30,  3.75s/it]\u001b[A\n",
      " 30%|███       | 3/10 [00:12<00:29,  4.23s/it]\u001b[A\n",
      " 40%|████      | 4/10 [00:15<00:21,  3.64s/it]\u001b[A\n",
      " 50%|█████     | 5/10 [00:17<00:16,  3.28s/it]\u001b[A\n",
      " 60%|██████    | 6/10 [00:22<00:14,  3.58s/it]\u001b[A\n",
      " 70%|███████   | 7/10 [00:25<00:10,  3.59s/it]\u001b[A\n",
      " 80%|████████  | 8/10 [00:31<00:08,  4.42s/it]\u001b[A\n",
      " 90%|█████████ | 9/10 [00:33<00:03,  3.50s/it]\u001b[A\n",
      "100%|██████████| 10/10 [00:34<00:00,  3.46s/it]\u001b[A\n",
      "7it [04:01, 34.33s/it]\n",
      "  0%|          | 0/10 [00:00<?, ?it/s]\u001b[A\n",
      " 10%|█         | 1/10 [00:00<00:07,  1.22it/s]\u001b[A\n",
      " 20%|██        | 2/10 [00:05<00:23,  2.92s/it]\u001b[A\n",
      " 30%|███       | 3/10 [00:07<00:19,  2.75s/it]\u001b[A\n",
      " 40%|████      | 4/10 [00:10<00:16,  2.80s/it]\u001b[A\n",
      " 50%|█████     | 5/10 [00:12<00:12,  2.53s/it]\u001b[A\n",
      " 60%|██████    | 6/10 [00:16<00:12,  3.09s/it]\u001b[A\n",
      " 70%|███████   | 7/10 [00:20<00:09,  3.27s/it]\u001b[A\n",
      " 80%|████████  | 8/10 [00:26<00:08,  4.20s/it]\u001b[A\n",
      " 90%|█████████ | 9/10 [00:29<00:03,  3.75s/it]\u001b[A\n",
      "100%|██████████| 10/10 [00:35<00:00,  3.55s/it]\u001b[A\n",
      "8it [04:46, 37.54s/it]\n",
      "  0%|          | 0/10 [00:00<?, ?it/s]\u001b[A\n",
      " 10%|█         | 1/10 [00:00<00:05,  1.55it/s]\u001b[A\n",
      " 20%|██        | 2/10 [00:08<00:38,  4.87s/it]\u001b[A\n",
      " 30%|███       | 3/10 [00:09<00:22,  3.26s/it]\u001b[A\n",
      " 40%|████      | 4/10 [00:11<00:14,  2.47s/it]\u001b[A\n",
      " 50%|█████     | 5/10 [00:17<00:19,  3.81s/it]\u001b[A\n",
      " 60%|██████    | 6/10 [00:24<00:19,  4.95s/it]\u001b[A\n",
      " 70%|███████   | 7/10 [00:36<00:21,  7.28s/it]\u001b[A\n",
      " 80%|████████  | 8/10 [00:45<00:15,  7.85s/it]\u001b[A\n",
      " 90%|█████████ | 9/10 [00:52<00:07,  7.56s/it]\u001b[A\n",
      "100%|██████████| 10/10 [00:56<00:00,  5.70s/it]\u001b[A\n",
      "9it [05:47, 38.58s/it]\n"
     ]
    }
   ],
   "source": [
    "f_dfs = []\n",
    "f_sims = []\n",
    "f_ts = []\n",
    "f_datas = []\n",
    "for sel, gate in tqdm(enumerate(gates)):\n",
    "    \n",
    "    gate = gates[sel]\n",
    "    #print(sel, gate)\n",
    "    fluo_sel = pd.concat([fluos[i].iloc[:,sel] for i in range(4)], axis=1)\n",
    "    od_sel = pd.concat([ods[i].iloc[:,sel] for i in range(4)], axis=1)\n",
    "    \n",
    "    od_params_sel = od_inference(od_sel)\n",
    "    #od_params.append(od_params_sel)\n",
    "    \n",
    "    f_df, f_sim, f_t, f_data = fit_single_state(fluo_sel.iloc[:,n], od_params_sel[n], int(n/2), n%2)\n",
    "    f_dfs.append(f_df)\n",
    "    f_sims.append(f_sim)\n",
    "    f_ts.append(f_t)\n",
    "    f_datas.append(f_data)\n",
    "    \n",
    "#len(od_params)"
   ]
  },
  {
   "cell_type": "markdown",
   "id": "helpful-conflict",
   "metadata": {},
   "source": [
    "Fitting with sampling initial guesses."
   ]
  },
  {
   "cell_type": "code",
   "execution_count": 84,
   "id": "preliminary-monthly",
   "metadata": {},
   "outputs": [
    {
     "data": {
      "image/png": "[encoded data removed]",
      "text/plain": [
       "<Figure size 1008x288 with 12 Axes>"
      ]
     },
     "metadata": {
      "needs_background": "light"
     },
     "output_type": "display_data"
    }
   ],
   "source": [
    "f, axs = plt.subplots(2, 6, sharex=True, sharey=True, figsize=(14, 4))\n",
    "axr = axs.ravel()\n",
    "for i, ax in enumerate(axr):\n",
    "    if i < len(gates):\n",
    "        ax.scatter(f_ts[i]/60, f_datas[i], c='slategrey', s=7)\n",
    "        ax.plot(f_ts[i]/60, f_sims[i], c='deeppink')\n",
    "        ax.set_title(gates[i])\n",
    "        ax.set_xlabel('Time (h)')\n",
    "    else:\n",
    "        ax.set_visible(False)\n",
    "plt.tight_layout()\n",
    "sns.despine()"
   ]
  },
  {
   "cell_type": "markdown",
   "id": "planned-mauritius",
   "metadata": {},
   "source": [
    "Fitting without sampling initial guesses."
   ]
  },
  {
   "cell_type": "code",
   "execution_count": 73,
   "id": "apart-diving",
   "metadata": {},
   "outputs": [
    {
     "data": {
      "image/png": "[encoded data removed]",
      "text/plain": [
       "<Figure size 1008x288 with 12 Axes>"
      ]
     },
     "metadata": {
      "needs_background": "light"
     },
     "output_type": "display_data"
    }
   ],
   "source": [
    "f, axs = plt.subplots(2, 6, sharex=True, sharey=False, figsize=(14, 4))\n",
    "axr = axs.ravel()\n",
    "for i, ax in enumerate(axr):\n",
    "    if i < len(gates):\n",
    "        ax.scatter(f_ts[i]/60, f_datas[i], c='slategrey', s=7)\n",
    "        ax.plot(f_ts[i]/60, f_sims[i], c='deeppink')\n",
    "        ax.set_title(gates[i])\n",
    "        ax.set_xlabel('Time (h)')\n",
    "    else:\n",
    "        ax.set_visible(False)\n",
    "plt.tight_layout()\n",
    "sns.despine()"
   ]
  },
  {
   "cell_type": "markdown",
   "id": "disciplinary-richmond",
   "metadata": {},
   "source": [
    "#### Parameters"
   ]
  },
  {
   "cell_type": "code",
   "execution_count": 106,
   "id": "enhanced-spyware",
   "metadata": {},
   "outputs": [
    {
     "data": {
      "image/png": "[encoded data removed]",
      "text/plain": [
       "<Figure size 1152x468 with 12 Axes>"
      ]
     },
     "metadata": {
      "needs_background": "light"
     },
     "output_type": "display_data"
    }
   ],
   "source": [
    "def plot_parameters(f_df, show_err=True):\n",
    "    \n",
    "    parameters = f_df[0]['Parameters'].values\n",
    "    n_paras = len(parameters)\n",
    "    values = np.stack([df['Value'].values for df in f_df])\n",
    "    errors = np.stack([df['Err'].values for df in f_df])\n",
    "    \n",
    "    f, axs = plt.subplots(int(n_paras/3), 3, sharex=True, figsize=(16, (n_paras+1)/2))\n",
    "    for i, ax in enumerate(axs.ravel()):\n",
    "        if i < n_paras:\n",
    "            if show_err:\n",
    "                ax.errorbar(gates, values[:,i], errors[:,i], fmt='o', label='experiment')\n",
    "            else:\n",
    "                ax.scatter(gates, values[:,i], label='experiment')\n",
    "            ax.set_ylabel(parameters[i])\n",
    "        else:\n",
    "            ax.set_visible(False)\n",
    "        #ax.set_xticks(rotation=90) \n",
    "        ax.set_xticklabels(gates, rotation=90)\n",
    "    sns.despine()\n",
    "    plt.tight_layout()\n",
    "    \n",
    "plot_parameters(f_dfs)"
   ]
  },
  {
   "cell_type": "code",
   "execution_count": null,
   "id": "infectious-uncertainty",
   "metadata": {},
   "outputs": [],
   "source": []
  },
  {
   "cell_type": "code",
   "execution_count": null,
   "id": "formed-stand",
   "metadata": {},
   "outputs": [],
   "source": []
  },
  {
   "cell_type": "code",
   "execution_count": null,
   "id": "greatest-hebrew",
   "metadata": {},
   "outputs": [],
   "source": []
  },
  {
   "cell_type": "code",
   "execution_count": null,
   "id": "intelligent-gates",
   "metadata": {},
   "outputs": [],
   "source": []
  },
  {
   "cell_type": "code",
   "execution_count": null,
   "id": "formed-bennett",
   "metadata": {},
   "outputs": [],
   "source": []
  },
  {
   "cell_type": "code",
   "execution_count": null,
   "id": "loving-latin",
   "metadata": {},
   "outputs": [],
   "source": []
  },
  {
   "cell_type": "markdown",
   "id": "listed-freeware",
   "metadata": {},
   "source": [
    "#### Manual Fitting"
   ]
  },
  {
   "cell_type": "code",
   "execution_count": null,
   "id": "adapted-blues",
   "metadata": {},
   "outputs": [],
   "source": [
    "def simulate_single_state(fluo, od_params, title, ind1, ind2):\n",
    "    \n",
    "    parameters = ['bn', 'bc', 'bg', 'syn_ECFn', 'syn_ECFc', 'syn_ECF', 'deg', 'syn_GFP', 'deg_GFP', 'a', 'K', 'n']\n",
    "    f_t = fluo.index\n",
    "    f_data = fluo.copy()\n",
    "    extra = (od_params[0], od_params[1])\n",
    "    y0 = pd.Series(np.append(np.zeros(4), od_params[2]))\n",
    "    \n",
    "    def model_fit(t, a, b, c, d, e, f, g, h, i, j, k):\n",
    "        fit = gate_wrapper(t, a, b, c, d, e, f, g, h, i, j, k, ind1, ind2, extra, y0)\n",
    "        return pd.Series(fit[3])\n",
    "    \n",
    "    f_params = [par[i] for i in parameters]\n",
    "    f_sim = model_fit(f_t, *f_params)\n",
    "    return f_t, f_data, f_sim"
   ]
  },
  {
   "cell_type": "code",
   "execution_count": null,
   "id": "blank-dress",
   "metadata": {},
   "outputs": [],
   "source": [
    "par = {\n",
    "    'bn': 1 * 10**-1,\n",
    "    'bc': 1 * 10**-1,\n",
    "    'bg': 1 * 10**-2,\n",
    "    'syn_ECFn': 4 * 10**0,\n",
    "    'syn_ECFc': 4 * 10**0,\n",
    "    'syn_ECF': 50 * 10**-10,\n",
    "    'deg': 7 * 10**-3,\n",
    "    'syn_GFP': 1 * 10**4,\n",
    "    'deg_GFP': 1 * 10**-2,\n",
    "    'K': 1 * 10**-1,\n",
    "    'n': 2 * 10**0\n",
    "}"
   ]
  },
  {
   "cell_type": "code",
   "execution_count": null,
   "id": "driving-president",
   "metadata": {},
   "outputs": [],
   "source": [
    "f, axs = plt.subplots(3, 4, figsize=(16, 2*3), sharey=False)\n",
    "for m in range(1, 2):\n",
    "    for i in range(0, 5):\n",
    "\n",
    "        par = {\n",
    "            'bn': 1 * 10**-10,\n",
    "            'bc': 1 * 10**-10,\n",
    "            'bg': 8 * 10**1,\n",
    "            'syn_ECFn': 4 * 10**1,\n",
    "            'syn_ECFc': 4 * 10**1,\n",
    "            'syn_ECF': 50 * 10**-10,\n",
    "            'deg': 7 * 10**-3,\n",
    "            'syn_GFP': 3 * 10**3,\n",
    "            'deg_GFP': 2 * 10**-2,\n",
    "            'K': 5 * 10**-1,\n",
    "            'n': 2 * 10**0\n",
    "        }\n",
    "        #print(par['n'])\n",
    "        for n in range(4):\n",
    "            f_t_sin, f_data_sin, f_sim_sin = simulate_single_state(fluo_sel.iloc[:,n], od_params_sel[n], gates[sel], int(n/2), n%2)\n",
    "            axs[m-1, n].plot(f_t_sin/60, f_sim_sin, label=i)\n",
    "            axs[m-1, n].legend()\n",
    "plt.xticks(rotation=90)\n",
    "sns.despine()\n",
    "plt.tight_layout()"
   ]
  },
  {
   "cell_type": "code",
   "execution_count": null,
   "id": "horizontal-diesel",
   "metadata": {},
   "outputs": [],
   "source": [
    "f_t = np.concatenate([fluo_sel.index] * 4)\n",
    "f_data = pd.concat([fluo_sel.iloc[:,i] for i in range(4)])\n",
    "f, axs = plt.subplots(1, 4, sharex=True, sharey=False, figsize=(12, 3))\n",
    "axr = axs.ravel()\n",
    "idx = len(fluo_sel.iloc[:,0])\n",
    "for i, ax in enumerate(axr):\n",
    "    ax.scatter(f_t[idx*i:idx*(i+1)]/60, f_data[idx*i:idx*(i+1)], c='slategrey', s=7)\n",
    "    ax.set_title(gate + '-' + format(i, '02b'))\n",
    "    ax.set_xlabel('Time (h)')\n",
    "plt.tight_layout()\n",
    "sns.despine()"
   ]
  },
  {
   "cell_type": "markdown",
   "id": "confident-korean",
   "metadata": {},
   "source": [
    "#### More elegant fitting"
   ]
  },
  {
   "cell_type": "code",
   "execution_count": null,
   "id": "polar-venue",
   "metadata": {},
   "outputs": [],
   "source": [
    "#objective function\n",
    "def computeSSE(init_params, f_t, f_data, bounds, od_params, ind1, ind2):\n",
    "    \n",
    "    extra = (od_params[0], od_params[1])\n",
    "    y0 = pd.Series(np.append(np.zeros(4), od_params[2]))\n",
    "    \n",
    "    def model_fit(t, a, b, c, d, e, f, g, h, i, j, k):\n",
    "        fit = gate_wrapper(t, a, b, c, d, e, f, g, h, i, j, k, ind1, ind2, extra, y0)\n",
    "        return pd.Series(fit[3])\n",
    "    \n",
    "    f_params, _ = curve_fit(model_fit, f_t, f_data, p0=init_params, bounds=bounds)\n",
    "    solution = model_fit(f_t, *f_params)\n",
    "    error = [(val-sal)**2 for val, sal in zip(solution, f_data)]\n",
    "    \n",
    "    return sum(error)\n",
    "\n",
    "#generate random numbers from a uniform distribution for initial guesses\n",
    "def randomSearch(iterations, num_params, f_t, f_data, bounds, od_params, ind1, ind2):\n",
    "    \n",
    "    initialGuesses = []\n",
    "    for k in tqdm(range(iterations)):\n",
    "        guess = [np.random.uniform(low=low, high=high) for low, high in zip(bounds[0], bounds[1])]\n",
    "        #guess.append(np.random.uniform(low=1,high=4))\n",
    "        error = computeSSE(guess, f_t, f_data, bounds, od_params, ind1, ind2)\n",
    "        initialGuesses.append((error, guess))\n",
    "    \n",
    "    sortedGuesses = sorted(initialGuesses)\n",
    "    bestGuess = sortedGuesses[0][1]\n",
    "    \n",
    "    return bestGuess"
   ]
  },
  {
   "cell_type": "code",
   "execution_count": 11,
   "id": "comic-public",
   "metadata": {},
   "outputs": [],
   "source": [
    "def fit_single_state(fluo, od_params, ind1, ind2):\n",
    "    \n",
    "    parameters = ['bn', 'bc', 'bg', 'syn_ECFn', 'syn_ECFc', 'syn_ECF', 'deg', 'syn_GFP', 'deg_GFP', 'K', 'n']\n",
    "    f_t = fluo.index\n",
    "    f_data = fluo.copy()\n",
    "    extra = (od_params[0], od_params[1])\n",
    "    y0 = pd.Series(np.append(np.zeros(4), od_params[2]))\n",
    "    \n",
    "    lower_bounds = [0, 0, 0, 0, 0, 0, 0, 0, 0, 0, 1]\n",
    "    upper_bounds = [1e1, 1e1, 1e1, 1e2, 1e2, 1e-4, 1e-1, 1e5, 1e0, 1e2, 4]\n",
    "    gate_bounds = [lower_bounds, upper_bounds]\n",
    "    \n",
    "    init_guesses = randomSearch(10, len(parameters), f_t, f_data, gate_bounds, od_params, ind1, ind2)\n",
    "    \n",
    "    def model_fit(t, a, b, c, d, e, f, g, h, i, j, k):\n",
    "        fit = gate_wrapper(t, a, b, c, d, e, f, g, h, i, j, k, ind1, ind2, extra, y0)\n",
    "        return pd.Series(fit[3])\n",
    "    \n",
    "    f_params, f_cov = curve_fit(model_fit, f_t, f_data, p0=init_guesses, bounds=gate_bounds)\n",
    "    f_sim = model_fit(f_t, *f_params)\n",
    "    f_df = pd.DataFrame({'Parameters': parameters, 'Value': f_params, 'Err': np.sqrt(np.diag(f_cov))})\n",
    "    return f_df, f_sim, f_t, f_data"
   ]
  },
  {
   "cell_type": "code",
   "execution_count": null,
   "id": "floppy-today",
   "metadata": {},
   "outputs": [],
   "source": [
    "f_df_sin_all = []\n",
    "for n in range(4):\n",
    "    f_df_sin, f_sim_sin, f_t_sin, f_data_sin = fit_single_state(fluo_sel.iloc[:,n], od_params_sel[n], int(n/2), n%2)\n",
    "    f_df_sin_all.append(f_df_sin)"
   ]
  },
  {
   "cell_type": "code",
   "execution_count": null,
   "id": "graphic-seven",
   "metadata": {},
   "outputs": [],
   "source": [
    "guesses = []\n",
    "lowers = []\n",
    "uppers = []\n",
    "for param in tqdm(f_df_sin['Parameters']):\n",
    "    vals = [i.loc[i['Parameters']==param, 'Value'].values for i in f_df_sin_all]\n",
    "    lows = [(i.loc[i['Parameters']==param, 'Value'].values - i.loc[i['Parameters']==param, 'Err'].values) for i in f_df_sin_all]\n",
    "    highs = [(i.loc[i['Parameters']==param, 'Value'].values + i.loc[i['Parameters']==param, 'Err'].values) for i in f_df_sin_all]\n",
    "    #print('v', vals) \n",
    "    #print('l', lows)\n",
    "    #print('h', highs)\n",
    "    guesses.append(np.mean(vals))\n",
    "    lowers.append(np.mean(lows))\n",
    "    uppers.append(np.mean(highs))\n",
    "lowers = [i if i >= 0 else 0 for i in lowers]"
   ]
  },
  {
   "cell_type": "code",
   "execution_count": null,
   "id": "legislative-guidance",
   "metadata": {},
   "outputs": [],
   "source": [
    "guesses, lowers, uppers"
   ]
  },
  {
   "cell_type": "code",
   "execution_count": null,
   "id": "democratic-pontiac",
   "metadata": {},
   "outputs": [],
   "source": [
    "#objective function\n",
    "def computeSSE_global(init_params, f_t, f_data, bounds, od_params):\n",
    "    \n",
    "    def model_fit_inner(t, a, b, c, d, e, f, g, h, i, j, k, ind1, ind2, extra, y0):\n",
    "        fit = gate_wrapper(t, a, b, c, d, e, f, g, h, i, j, k, ind1, ind2, extra, y0)\n",
    "        return pd.Series(fit[3])\n",
    "    \n",
    "    def model_fit(t, a, b, c, d, e, f, g, h, i, j, k):\n",
    "        result = [model_fit_inner(f_t[:int(len(f_t)/4)], a, b, c, d, e, f, g, h, i, j, k, int(n/2), n%2, \\\n",
    "                                   (od_params[n][0], od_params[n][1]), np.append(np.zeros(4), od_params[n][2])) \\\n",
    "                                   for n in range(4)]\n",
    "        return pd.concat(result)\n",
    "    \n",
    "    f_params, _ = curve_fit(model_fit, f_t, f_data, p0=init_params, bounds=bounds)\n",
    "    solution = model_fit(f_t, *f_params)\n",
    "    error = [(val-sal)**2 for val, sal in zip(solution, f_data)]\n",
    "    \n",
    "    return sum(error)\n",
    "\n",
    "\n",
    "#generate random numbers from a uniform distribution for initial guesses\n",
    "def randomSearch_global(iterations, num_params, f_t, f_data, bounds, od_params):\n",
    "    \n",
    "    initialGuesses = []\n",
    "    for k in tqdm(range(iterations)):\n",
    "        guess = [np.random.uniform(low=low, high=high) for low, high in zip(bounds[0], bounds[1])]\n",
    "        error = computeSSE_global(guess, f_t, f_data, bounds, od_params)\n",
    "        initialGuesses.append((error, guess))\n",
    "    \n",
    "    sortedGuesses = sorted(initialGuesses)\n",
    "    bestGuess = sortedGuesses[0][1]\n",
    "    \n",
    "    return bestGuess"
   ]
  },
  {
   "cell_type": "code",
   "execution_count": null,
   "id": "electric-reasoning",
   "metadata": {},
   "outputs": [],
   "source": [
    "def fit_all_states(fluo, od_params, _init_guesses, lower_bounds, upper_bounds):\n",
    "    \n",
    "    num_states = 4\n",
    "    parameters = ['bn', 'bc', 'bg', 'syn_ECFn', 'syn_ECFc', 'syn_ECF', 'deg', 'syn_GFP', 'deg_GFP', 'K', 'n']\n",
    "    \n",
    "    title = fluo.columns.tolist()[0] #take the first entry only because they are all the same\n",
    "    f_t = np.concatenate([fluo.index] * num_states)\n",
    "    f_data = pd.concat([fluo.iloc[:,i] for i in range(num_states)]) \n",
    "    y0 = pd.concat([pd.Series(np.append(np.zeros(4), od_params[i][2])) for i in range(num_states)])\n",
    "    \n",
    "    gate_bounds = [lower_bounds, upper_bounds]\n",
    "    \n",
    "    init_guesses = randomSearch_global(10, len(parameters), f_t, f_data, gate_bounds, od_params)\n",
    "    \n",
    "    def model_fit_inner(t, a, b, c, d, e, f, g, h, i, j, k, ind1, ind2, extra, y0):\n",
    "        fit = gate_wrapper(t, a, b, c, d, e, f, g, h, i, j, k, ind1, ind2, extra, y0)\n",
    "        return pd.Series(fit[3])\n",
    "    \n",
    "    def model_fit(t, a, b, c, d, e, f, g, h, i, j, k):\n",
    "        result = [model_fit_inner(fluo.index, a, b, c, d, e, f, g, h, i, j, k, int(n/2), n%2, \\\n",
    "                                   (od_params[n][0], od_params[n][1]), np.append(np.zeros(4), od_params[n][2])) \\\n",
    "                                   for n in range(num_states)]\n",
    "        return pd.concat(result)\n",
    "    \n",
    "    f_params, f_cov = curve_fit(model_fit, f_t, f_data, p0=init_guesses, bounds=gate_bounds)#, method='dogbox')\n",
    "    #f_params, f_cov = curve_fit(model_fit, f_t, f_data, p0=init_guesses)\n",
    "    f_sim = model_fit(f_t, *f_params)\n",
    "    f_df = pd.DataFrame({'Parameters': parameters, 'Value': f_params, 'Err': np.sqrt(np.diag(f_cov))})\n",
    "    return f_df, f_sim, f_t, f_data"
   ]
  },
  {
   "cell_type": "code",
   "execution_count": null,
   "id": "common-wisdom",
   "metadata": {},
   "outputs": [],
   "source": [
    "f_df_res, f_sim_res, f_t_res, f_data_res = fit_all_states(fluo_sel, od_params_sel, guesses, lowers, uppers)"
   ]
  },
  {
   "cell_type": "code",
   "execution_count": null,
   "id": "outside-bachelor",
   "metadata": {},
   "outputs": [],
   "source": [
    "f, axs = plt.subplots(1, 4, sharex=True, sharey=False, figsize=(12, 3))\n",
    "axr = axs.ravel()\n",
    "idx = len(fluo_sel.iloc[:,0])\n",
    "for i, ax in enumerate(axr):\n",
    "    ax.scatter(f_t_res[idx*i:idx*(i+1)]/60, f_data_res[idx*i:idx*(i+1)], c='slategrey', s=7)\n",
    "    ax.plot(f_t_res[idx*i:idx*(i+1)]/60, f_sim_res[idx*i:idx*(i+1)], c='deeppink')\n",
    "    ax.set_title(gate + '-' + format(i, '02b'))\n",
    "    ax.set_xlabel('Time (h)')\n",
    "plt.tight_layout()\n",
    "sns.despine()"
   ]
  },
  {
   "cell_type": "code",
   "execution_count": null,
   "id": "forty-major",
   "metadata": {},
   "outputs": [],
   "source": [
    "plt.errorbar(f_df_res['Parameters'], f_df_res['Value'], f_df_res['Err'], fmt='.')\n",
    "plt.xticks(rotation=90)\n",
    "plt.show()"
   ]
  },
  {
   "cell_type": "markdown",
   "id": "premier-catering",
   "metadata": {},
   "source": [
    "#### Tuning the Parameter Grid"
   ]
  },
  {
   "cell_type": "code",
   "execution_count": null,
   "id": "superior-anger",
   "metadata": {},
   "outputs": [],
   "source": [
    "def simulate_all_states(fluo, od_params, g):\n",
    "    \n",
    "    num_states = 4\n",
    "    parameters = ['bn', 'bc', 'bg', 'syn_ECFn', 'syn_ECFc', 'syn_ECF', 'deg', 'syn_GFP', 'deg_GFP', 'K', 'n']\n",
    "    \n",
    "    title = fluo.columns.tolist()[0] #take the first entry only because they are all the same\n",
    "    f_t = np.concatenate([fluo.index] * num_states)\n",
    "    f_data = pd.concat([fluo.iloc[:,i] for i in range(num_states)]) \n",
    "    y0 = pd.concat([pd.Series(np.append(np.zeros(4), od_params[i][2])) for i in range(num_states)])\n",
    "    \n",
    "    #gate_bounds = [lower_bounds, upper_bounds]\n",
    "    \n",
    "    #init_guesses = randomSearch_global(10, len(parameters), f_t, f_data, gate_bounds, od_params)\n",
    "    f_params = [g[par] for par in parameters]\n",
    "    \n",
    "    def model_fit_inner(t, a, b, c, d, e, f, g, h, i, j, k, ind1, ind2, extra, y0):\n",
    "        fit = gate_wrapper(t, a, b, c, d, e, f, g, h, i, j, k, ind1, ind2, extra, y0)\n",
    "        return pd.Series(fit[3])\n",
    "    \n",
    "    def model_fit(t, a, b, c, d, e, f, g, h, i, j, k):\n",
    "        result = [model_fit_inner(fluo.index, a, b, c, d, e, f, g, h, i, j, k, int(n/2), n%2, \\\n",
    "                                   (od_params[n][0], od_params[n][1]), np.append(np.zeros(4), od_params[n][2])) \\\n",
    "                                   for n in range(num_states)]\n",
    "        return pd.concat(result)\n",
    "    \n",
    "    #f_params, f_cov = curve_fit(model_fit, f_t, f_data, p0=init_guesses, bounds=gate_bounds)#, method='dogbox')\n",
    "    #f_params, f_cov = curve_fit(model_fit, f_t, f_data, p0=init_guesses)\n",
    "    f_sim = model_fit(f_t, *f_params)\n",
    "    f_df = pd.DataFrame({'Parameters': parameters, 'Value': f_params})#, 'Err': np.sqrt(np.diag(f_cov))})\n",
    "    return f_df, f_sim, f_t, f_data"
   ]
  },
  {
   "cell_type": "code",
   "execution_count": null,
   "id": "becoming-banana",
   "metadata": {},
   "outputs": [],
   "source": [
    "from sklearn.model_selection import ParameterGrid\n",
    "\n",
    "params = {\n",
    "    'bn': [1e0, 1e-1],\n",
    "    'bc': [1e0, 1e-1],\n",
    "    'bg': [1e-3, 1e-2],\n",
    "    'syn_ECFn': [4e1, 4e0],\n",
    "    'syn_ECFc': [4e1, 4e0],\n",
    "    'syn_ECF': [50e-11, 50e-10],\n",
    "    'deg': [7e-4, 7e-3],\n",
    "    'syn_GFP': [1e5, 1e4],\n",
    "    'deg_GFP': [1e-3, 1e-2],\n",
    "    'K': [1e-2, 1e-1],\n",
    "    'n': [2, 3]\n",
    "}\n",
    "\n",
    "tuned_results = []\n",
    "grid = ParameterGrid(params)\n",
    "for g in tqdm(grid):\n",
    "    #print(g)\n",
    "    f_df_res, f_sim_res, f_t_res, f_data_res = simulate_all_states(fluo_sel, od_params_sel, g)\n",
    "    tuned_results.append((f_df_res, f_sim_res))"
   ]
  },
  {
   "cell_type": "code",
   "execution_count": null,
   "id": "biological-commission",
   "metadata": {},
   "outputs": [],
   "source": [
    "oridata = f_data_res.reset_index(drop=True) * 4\n",
    "errs = []\n",
    "for i in range(len(tuned_results)):\n",
    "    tardata = tuned_results[i][1].reset_index(drop=True)\n",
    "    errs.append(np.sum((oridata - tardata)**2))"
   ]
  },
  {
   "cell_type": "code",
   "execution_count": null,
   "id": "listed-mongolia",
   "metadata": {},
   "outputs": [],
   "source": [
    "errs.index(np.min(errs)), errs[errs.index(np.min(errs))]"
   ]
  },
  {
   "cell_type": "code",
   "execution_count": null,
   "id": "closed-roller",
   "metadata": {},
   "outputs": [],
   "source": [
    "f, axs = plt.subplots(1, 4, sharex=True, sharey=False, figsize=(12, 3))\n",
    "axr = axs.ravel()\n",
    "idx = len(fluo_sel.iloc[:,0])\n",
    "for i, ax in enumerate(axr):\n",
    "    ax.scatter(f_t_res[idx*i:idx*(i+1)]/60, f_data_res[idx*i:idx*(i+1)], c='slategrey', s=7)\n",
    "    ax.plot(f_t_res[idx*i:idx*(i+1)]/60, tuned_results[errs.index(np.min(errs))][1][idx*i:idx*(i+1)], c='deeppink')\n",
    "    ax.set_title(gate + '-' + format(i, '02b'))\n",
    "    ax.set_xlabel('Time (h)')\n",
    "plt.tight_layout()\n",
    "sns.despine()"
   ]
  },
  {
   "cell_type": "code",
   "execution_count": null,
   "id": "macro-element",
   "metadata": {},
   "outputs": [],
   "source": [
    "np.min(errs), np.max(errs)"
   ]
  },
  {
   "cell_type": "code",
   "execution_count": null,
   "id": "stylish-california",
   "metadata": {},
   "outputs": [],
   "source": []
  },
  {
   "cell_type": "code",
   "execution_count": null,
   "id": "alone-receiver",
   "metadata": {},
   "outputs": [],
   "source": [
    "f, axs = plt.subplots(1, 4, sharex=True, sharey=False, figsize=(12, 3))\n",
    "axr = axs.ravel()\n",
    "idx = len(fluo_sel.iloc[:,0])\n",
    "for i, ax in enumerate(axr):\n",
    "    ax.scatter(f_t_res[idx*i:idx*(i+1)]/60, f_data_res[idx*i:idx*(i+1)], c='slategrey', s=7)\n",
    "    ax.plot(f_t_res[idx*i:idx*(i+1)]/60, f_sim_res[idx*i:idx*(i+1)], c='deeppink')\n",
    "    ax.set_title(gate + '-' + format(i, '02b'))\n",
    "    ax.set_xlabel('Time (h)')\n",
    "plt.tight_layout()\n",
    "sns.despine()"
   ]
  },
  {
   "cell_type": "code",
   "execution_count": null,
   "id": "imposed-tuesday",
   "metadata": {},
   "outputs": [],
   "source": [
    "plt.errorbar(f_df_res['Parameters'], f_df_res['Value'], f_df_res['Err'], fmt='.')\n",
    "plt.xticks(rotation=90)\n",
    "plt.show()"
   ]
  },
  {
   "cell_type": "markdown",
   "id": "executed-report",
   "metadata": {},
   "source": [
    "#### Simulated Data"
   ]
  },
  {
   "cell_type": "code",
   "execution_count": null,
   "id": "indirect-moral",
   "metadata": {},
   "outputs": [],
   "source": [
    "od_sim_data = []\n",
    "for r, K, c0 in od_params_sel:\n",
    "    #r, K, c0 = od_params_selected[sel]\n",
    "    od_sim = od_wrapper(od_sel.index, r, K, c0)\n",
    "    od_noise = (od_sim.max() * 0.01) * np.random.normal(size=idx)\n",
    "    od_t = od_sel.index\n",
    "    od_new = pd.Series(od_sim+od_noise, index=od_t)\n",
    "    od_sim_data.append(od_new)\n",
    "    plt.plot(od_t/60, od_new, label=gates[sel])\n",
    "#plt.legend()\n",
    "plt.title('Simulated OD')\n",
    "sns.despine()\n",
    "plt.show()"
   ]
  },
  {
   "cell_type": "code",
   "execution_count": null,
   "id": "august-information",
   "metadata": {},
   "outputs": [],
   "source": [
    "od_sim_df = pd.concat([od_sim_data[0], od_sim_data[1]], axis=1)\n",
    "od_sim_df = pd.concat([od_sim_df, od_sim_data[2]], axis=1)\n",
    "od_sim_df = pd.concat([od_sim_df, od_sim_data[3]], axis=1)\n",
    "od_sim_df = od_sim_df.set_axis(['00', '01', '10', '11'], axis=1)"
   ]
  },
  {
   "cell_type": "code",
   "execution_count": null,
   "id": "simple-linux",
   "metadata": {},
   "outputs": [],
   "source": [
    "idx = len(fluo_sel.iloc[:,0])\n",
    "noise = (f_sim_res.max() * 0.01) * np.random.normal(size=idx)\n",
    "sim_00 = pd.Series(f_sim_res[0*idx:1*idx]+noise, index=f_t_res[0*idx:1*idx])\n",
    "sim_01 = pd.Series(f_sim_res[1*idx:2*idx]+noise, index=f_t_res[1*idx:2*idx])\n",
    "sim_10 = pd.Series(f_sim_res[2*idx:3*idx]+noise, index=f_t_res[2*idx:3*idx])\n",
    "sim_11 = pd.Series(f_sim_res[3*idx:4*idx]+noise, index=f_t_res[3*idx:4*idx])\n",
    "\n",
    "plt.plot(f_t_res[0*idx:1*idx], sim_00)\n",
    "plt.plot(f_t_res[1*idx:2*idx], sim_01)\n",
    "plt.plot(f_t_res[2*idx:3*idx], sim_10)\n",
    "plt.plot(f_t_res[3*idx:4*idx], sim_11)\n",
    "plt.title('Simulated Fluorescence')\n",
    "sns.despine()\n",
    "plt.show()"
   ]
  },
  {
   "cell_type": "code",
   "execution_count": null,
   "id": "designed-homework",
   "metadata": {},
   "outputs": [],
   "source": [
    "fluo_sel2 = pd.concat([sim_00, sim_01], axis=1)\n",
    "fluo_sel2 = pd.concat([fluo_sel2, sim_10], axis=1)\n",
    "fluo_sel2 = pd.concat([fluo_sel2, sim_11], axis=1)\n",
    "\n",
    "od_params_sel2 = od_inference(od_sim_df)\n",
    "\n",
    "f_t_res2, f_df_res2, f_sim_res2, f_data_res2 = fit_multiple(fluo_sel2, od_params_sel2)"
   ]
  },
  {
   "cell_type": "code",
   "execution_count": null,
   "id": "interior-negotiation",
   "metadata": {},
   "outputs": [],
   "source": [
    "fig, ax = plt.subplots()\n",
    "trans1 = Affine2D().translate(-0.1, 0.0) + ax.transData\n",
    "trans2 = Affine2D().translate(+0.1, 0.0) + ax.transData\n",
    "er1 = ax.errorbar(f_df_res['Parameters'], f_df_res['Value'], f_df_res['Err'], fmt='.', transform=trans1, label='experiment')\n",
    "er2 = ax.errorbar(f_df_res2['Parameters'], f_df_res2['Value'], f_df_res2['Err'], fmt='.', transform=trans2, label='simulated')\n",
    "plt.legend()\n",
    "plt.xticks(rotation=90)\n",
    "plt.show()"
   ]
  },
  {
   "cell_type": "markdown",
   "id": "geographic-contemporary",
   "metadata": {},
   "source": [
    "#### Modeling All Gates"
   ]
  },
  {
   "cell_type": "code",
   "execution_count": null,
   "id": "missing-society",
   "metadata": {},
   "outputs": [],
   "source": [
    "gates = fluo11.columns.tolist()\n",
    "#gates.remove('e38TerThyXS2') #for some reasons it did not work with this gate, so remove it for now\n",
    "f_t_res_all = []\n",
    "f_df_res_all = []\n",
    "f_sim_res_all = []\n",
    "f_data_res_all = []\n",
    "od_simulated_df_all = []\n",
    "\n",
    "for gate in tqdm(gates):\n",
    "    \n",
    "    fluo_selected = pd.concat([fluo00[gate], fluo01[gate]], axis=1)\n",
    "    fluo_selected = pd.concat([fluo_selected, fluo10[gate]], axis=1)\n",
    "    fluo_selected = pd.concat([fluo_selected, fluo11[gate]], axis=1)\n",
    "    od_selected = pd.concat([od00[gate], od01[gate]], axis=1)\n",
    "    od_selected = pd.concat([od_selected, od10[gate]], axis=1)\n",
    "    od_selected = pd.concat([od_selected, od11[gate]], axis=1)\n",
    "    \n",
    "    od_params_selected = od_inference(od_selected)\n",
    "    \n",
    "    od_simulated_data = []\n",
    "    for r, K, c0 in od_params_selected:\n",
    "        #r, K, c0 = od_params_selected[sel]\n",
    "        od_sim = od_wrapper(od_selected.index, r, K, c0)\n",
    "        od_noise = (od_sim.max() * 0.01) * np.random.normal(size=len(od_sim))\n",
    "        od_t = od_selected.index\n",
    "        od_new_data = pd.Series(od_sim+od_noise, index=od_t)\n",
    "        od_simulated_data.append(od_new_data)\n",
    "    \n",
    "    od_simulated_df = pd.concat([od_simulated_data[0], od_simulated_data[1]], axis=1)\n",
    "    od_simulated_df = pd.concat([od_simulated_df, od_simulated_data[2]], axis=1)\n",
    "    od_simulated_df = pd.concat([od_simulated_df, od_simulated_data[3]], axis=1)\n",
    "    od_simulated_df_all.append(od_simulated_df)\n",
    "    \n",
    "    f_t_res, f_df_res, f_sim_res, f_data_res = fit_multiple(fluo_selected, od_params_selected)\n",
    "    f_t_res_all.append(f_t_res)\n",
    "    f_df_res_all.append(f_df_res)\n",
    "    f_sim_res_all.append(f_sim_res)\n",
    "    f_data_res_all.append(f_data_res)"
   ]
  },
  {
   "cell_type": "code",
   "execution_count": null,
   "id": "altered-disposition",
   "metadata": {},
   "outputs": [],
   "source": [
    "f_t_res_all2 = []\n",
    "f_df_res_all2 = []\n",
    "f_sim_res_all2 = []\n",
    "f_data_res_all2 = []\n",
    "\n",
    "for sel in tqdm(range(len(gates))):\n",
    "    \n",
    "    idx = len(fluo_selected.iloc[:,0])\n",
    "    noise = (f_sim_res_all[sel].max() * 0.01) * np.random.normal(size=idx)\n",
    "    simulated_00 = pd.Series(f_sim_res_all[sel][0*idx:1*idx]+noise, index=f_t_res_all[sel][0*idx:1*idx])\n",
    "    simulated_01 = pd.Series(f_sim_res_all[sel][1*idx:2*idx]+noise, index=f_t_res_all[sel][1*idx:2*idx])\n",
    "    simulated_10 = pd.Series(f_sim_res_all[sel][2*idx:3*idx]+noise, index=f_t_res_all[sel][2*idx:3*idx])\n",
    "    simulated_11 = pd.Series(f_sim_res_all[sel][3*idx:4*idx]+noise, index=f_t_res_all[sel][3*idx:4*idx])\n",
    "\n",
    "    fluo_selected2 = pd.concat([simulated_00, simulated_01], axis=1)\n",
    "    fluo_selected2 = pd.concat([fluo_selected2, simulated_10], axis=1)\n",
    "    fluo_selected2 = pd.concat([fluo_selected2, simulated_11], axis=1)\n",
    "\n",
    "    od_params_selected2 = od_inference(od_simulated_df_all[sel])\n",
    "\n",
    "    f_t_res2, f_df_res2, f_sim_res2, f_data_res2 = fit_multiple(fluo_selected2, od_params_selected2)\n",
    "    f_t_res_all2.append(f_t_res2)\n",
    "    f_df_res_all2.append(f_df_res2)\n",
    "    f_sim_res_all2.append(f_sim_res2)\n",
    "    f_data_res_all2.append(f_data_res2)"
   ]
  },
  {
   "cell_type": "code",
   "execution_count": null,
   "id": "muslim-laundry",
   "metadata": {},
   "outputs": [],
   "source": [
    "f, axs = plt.subplots(4, 6, sharex=True, sharey=False, figsize=(18, 8))\n",
    "axr = axs.ravel()\n",
    "idx = len(fluo_selected.iloc[:,0])\n",
    "for i, ax in enumerate(axr):\n",
    "    if i < len(f_t_res_all):\n",
    "        ax.scatter(f_t_res_all[i][-len(fluo_selected.iloc[:,0]):]/60, f_data_res_all[i][-len(fluo_selected.iloc[:,0]):], c='slategrey', s=7)\n",
    "        ax.plot(f_t_res_all[i][-len(fluo_selected.iloc[:,0]):]/60, f_sim_res_all[i][-len(fluo_selected.iloc[:,0]):], c='deeppink')\n",
    "        ax.set_title(gates[i] + ' - 11')\n",
    "        ax.set_xlabel('Time (h)')\n",
    "    else:\n",
    "        ax.set_visible(False)\n",
    "plt.tight_layout()\n",
    "sns.despine()"
   ]
  },
  {
   "cell_type": "code",
   "execution_count": null,
   "id": "victorian-firewall",
   "metadata": {},
   "outputs": [],
   "source": [
    "f, axs = plt.subplots(4, 6, sharex=True, sharey=False, figsize=(18, 8))\n",
    "axr = axs.ravel()\n",
    "idx = len(fluo_selected.iloc[:,0])\n",
    "for i, ax in enumerate(axr):\n",
    "    if i < len(gates):\n",
    "        ax.scatter(f_t_res_all[i][:len(fluo_selected.iloc[:,0])]/60, f_data_res_all[i][:len(fluo_selected.iloc[:,0])], c='slategrey', s=7)\n",
    "        ax.plot(f_t_res_all[i][:len(fluo_selected.iloc[:,0])]/60, f_sim_res_all[i][:len(fluo_selected.iloc[:,0])], c='deeppink')\n",
    "        ax.set_title(gates[i] + ' - 00')\n",
    "        ax.set_xlabel('Time (h)')\n",
    "    else:\n",
    "        ax.set_visible(False)\n",
    "plt.tight_layout()\n",
    "sns.despine()"
   ]
  },
  {
   "cell_type": "code",
   "execution_count": null,
   "id": "devoted-horizon",
   "metadata": {},
   "outputs": [],
   "source": [
    "f, axs = plt.subplots(4, 6, sharex=True, sharey=False, figsize=(18, 8))\n",
    "axr = axs.ravel()\n",
    "idx = len(fluo_selected.iloc[:,0])\n",
    "for i, ax in enumerate(axr):\n",
    "    if i < len(gates):\n",
    "        ax.scatter(f_t_res_all[i][idx:2*idx]/60, f_data_res_all[i][idx:2*idx], c='slategrey', s=7)\n",
    "        ax.plot(f_t_res_all[i][idx:2*idx]/60, f_sim_res_all[i][idx:2*idx], c='deeppink')\n",
    "        ax.set_title(gates[i] + ' - 01')\n",
    "        ax.set_xlabel('Time (h)')\n",
    "    else:\n",
    "        ax.set_visible(False)\n",
    "plt.tight_layout()\n",
    "sns.despine()"
   ]
  },
  {
   "cell_type": "code",
   "execution_count": null,
   "id": "level-evanescence",
   "metadata": {},
   "outputs": [],
   "source": [
    "f, axs = plt.subplots(4, 6, sharex=True, sharey=False, figsize=(18, 8))\n",
    "axr = axs.ravel()\n",
    "idx = len(fluo_selected.iloc[:,0])\n",
    "for i, ax in enumerate(axr):\n",
    "    if i < len(gates):\n",
    "        ax.scatter(f_t_res_all[i][2*idx:3*idx]/60, f_data_res_all[i][2*idx:3*idx], c='slategrey', s=7)\n",
    "        ax.plot(f_t_res_all[i][2*idx:3*idx]/60, f_sim_res_all[i][2*idx:3*idx], c='deeppink')\n",
    "        ax.set_title(gates[i] + ' - 10')\n",
    "        ax.set_xlabel('Time (h)')\n",
    "    else:\n",
    "        ax.set_visible(False)\n",
    "plt.tight_layout()\n",
    "sns.despine()"
   ]
  },
  {
   "cell_type": "code",
   "execution_count": null,
   "id": "fossil-antenna",
   "metadata": {},
   "outputs": [],
   "source": [
    "def plot_parameters(f_df, f_df2=None, show_err=True, compare=False):\n",
    "    \n",
    "    parameters = f_df[0]['Parameters'].values\n",
    "    n_paras = len(parameters)\n",
    "    values = np.stack([df['Value'].values for df in f_df])\n",
    "    errors = np.stack([df['Err'].values for df in f_df])\n",
    "    \n",
    "    if f_df2 is not None:\n",
    "        parameters2 = f_df2[0]['Parameters'].values\n",
    "        #n_paras = len(parameters)\n",
    "        values2 = np.stack([df2['Value'].values for df2 in f_df2])\n",
    "        errors2 = np.stack([df2['Err'].values for df2 in f_df2])\n",
    "\n",
    "    f, axs = plt.subplots(n_paras, 1, sharex=True, figsize=(10, 2*(n_paras+1)))\n",
    "    for i, ax in enumerate(axs):\n",
    "\n",
    "        trans1 = Affine2D().translate(-0.2, 0.0) + ax.transData\n",
    "        trans2 = Affine2D().translate(+0.2, 0.0) + ax.transData\n",
    "\n",
    "        if show_err:\n",
    "            ax.errorbar(gates, values[:,i], errors[:,i], fmt='o', label='experiment', transform=trans1)\n",
    "            if compare:\n",
    "                ax.errorbar(gates, values2[:,i], errors2[:,i], fmt='o', label='simulated', transform=trans2)\n",
    "        else:\n",
    "            ax.scatter(gates, values[:,i], label='experiment', transform=trans1)\n",
    "            if compare:\n",
    "                ax.scatter(gates, values2[:,i], label='simulated', transform=trans2)\n",
    "        ax.set_ylabel(parameters[i])\n",
    "        if compare:\n",
    "            ax.legend()\n",
    "    plt.xticks(rotation=90)\n",
    "    sns.despine()\n",
    "    \n",
    "plot_parameters(f_df_res_all)"
   ]
  },
  {
   "cell_type": "code",
   "execution_count": null,
   "id": "connected-rental",
   "metadata": {},
   "outputs": [],
   "source": [
    "plot_parameters(f_df_res_all, show_err=False)"
   ]
  },
  {
   "cell_type": "code",
   "execution_count": null,
   "id": "accomplished-senegal",
   "metadata": {},
   "outputs": [],
   "source": [
    "f, axs = plt.subplots(4, 6, sharex=True, sharey=False, figsize=(18, 8))\n",
    "axr = axs.ravel()\n",
    "for i, ax in enumerate(axr):\n",
    "    if i < len(gates):\n",
    "        ax.errorbar(f_df_res_all[i]['Parameters'], f_df_res_all[i]['Value'], f_df_res_all[i]['Err'], fmt='.')\n",
    "        #ax.set_xticks(rotation=90)\n",
    "        ax.set_xticklabels(f_df_res_all[i]['Parameters'], rotation=90)\n",
    "        ax.set_title(gates[i])\n",
    "    else:\n",
    "        ax.set_visible(False)\n",
    "plt.tight_layout()\n",
    "sns.despine()"
   ]
  },
  {
   "cell_type": "code",
   "execution_count": null,
   "id": "periodic-juice",
   "metadata": {},
   "outputs": [],
   "source": [
    "plot_parameters(f_df_res_all, f_df_res_all2, compare=True, show_err=False)"
   ]
  },
  {
   "cell_type": "code",
   "execution_count": null,
   "id": "expired-holder",
   "metadata": {},
   "outputs": [],
   "source": [
    "plot_parameters(f_df_res_all, f_df_res_all2, compare=True, show_err=True)"
   ]
  },
  {
   "cell_type": "code",
   "execution_count": null,
   "id": "thirty-optics",
   "metadata": {},
   "outputs": [],
   "source": [
    "f, axs = plt.subplots(4, 6, sharex=True, sharey=False, figsize=(18, 8))\n",
    "trans1 = Affine2D().translate(-0.1, 0.0) + ax.transData\n",
    "trans2 = Affine2D().translate(+0.1, 0.0) + ax.transData\n",
    "axr = axs.ravel()\n",
    "for i, ax in enumerate(axr):\n",
    "    if i < len(gates):\n",
    "        ax.errorbar(f_df_res_all[i]['Parameters'], f_df_res_all[i]['Value'], f_df_res_all[i]['Err'], fmt='.', label='experiment')\n",
    "        ax.errorbar(f_df_res_all2[i]['Parameters'], f_df_res_all2[i]['Value'], f_df_res_all2[i]['Err'], fmt='.', label='simulated')\n",
    "\n",
    "        ax.set_xticklabels(f_df_res_all[i]['Parameters'], rotation=90)\n",
    "        ax.set_title(gates[i])\n",
    "        ax.legend()\n",
    "    else:\n",
    "        ax.set_visible(False)\n",
    "plt.tight_layout()\n",
    "sns.despine()"
   ]
  },
  {
   "cell_type": "code",
   "execution_count": null,
   "id": "dominican-vehicle",
   "metadata": {},
   "outputs": [],
   "source": [
    "f, axs = plt.subplots(4, 6, sharex=True, sharey=False, figsize=(18, 8))\n",
    "axr = axs.ravel()\n",
    "idx = len(fluo_selected.iloc[:,0])\n",
    "for i, ax in enumerate(axr):\n",
    "    if i < len(f_t_res_all2):\n",
    "        ax.scatter(f_t_res_all2[i][-len(fluo_selected.iloc[:,0]):]/60, f_data_res_all2[i][-len(fluo_selected.iloc[:,0]):], c='slategrey', s=7)\n",
    "        ax.plot(f_t_res_all2[i][-len(fluo_selected.iloc[:,0]):]/60, f_sim_res_all2[i][-len(fluo_selected.iloc[:,0]):], c='deeppink')\n",
    "        ax.set_title(gates[i] + ' - 11')\n",
    "        ax.set_xlabel('Time (h)')\n",
    "    else:\n",
    "        ax.set_visible(False)\n",
    "plt.tight_layout()\n",
    "sns.despine()"
   ]
  },
  {
   "cell_type": "code",
   "execution_count": null,
   "id": "indirect-oklahoma",
   "metadata": {},
   "outputs": [],
   "source": []
  }
 ],
 "metadata": {
  "kernelspec": {
   "display_name": "Python 3",
   "language": "python",
   "name": "python3"
  },
  "language_info": {
   "codemirror_mode": {
    "name": "ipython",
    "version": 3
   },
   "file_extension": ".py",
   "mimetype": "text/x-python",
   "name": "python",
   "nbconvert_exporter": "python",
   "pygments_lexer": "ipython3",
   "version": "3.9.2"
  }
 },
 "nbformat": 4,
 "nbformat_minor": 5
}
