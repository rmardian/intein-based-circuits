{
 "cells": [
  {
   "cell_type": "code",
   "execution_count": 1,
   "id": "lightweight-joseph",
   "metadata": {},
   "outputs": [],
   "source": [
    "import numpy as np\n",
    "import pandas as pd\n",
    "import matplotlib.pyplot as plt\n",
    "import seaborn as sns\n",
    "from tqdm import tqdm\n",
    "#import warnings\n",
    "#warnings.filterwarnings(\"ignore\")\n",
    "\n",
    "from sklearn.model_selection import train_test_split\n",
    "from sklearn.feature_extraction.text import CountVectorizer\n",
    "from sklearn.metrics import mean_squared_error\n",
    "from tensorflow.keras.utils import to_categorical\n",
    "from tensorflow.keras.models import Sequential\n",
    "from tensorflow.keras.layers import Conv1D, MaxPooling1D, Dense, Flatten, Dropout, LSTM, Embedding\n",
    "from tensorflow.keras.utils import to_categorical"
   ]
  },
  {
   "cell_type": "code",
   "execution_count": 2,
   "id": "composite-strain",
   "metadata": {},
   "outputs": [],
   "source": [
    "data = pd.read_csv('datasets/sequence_data.csv')\n",
    "target = '1200'\n",
    "df = data[['short_name', 'sequence', target]]"
   ]
  },
  {
   "cell_type": "code",
   "execution_count": 3,
   "id": "satisfactory-flooring",
   "metadata": {},
   "outputs": [
    {
     "name": "stderr",
     "output_type": "stream",
     "text": [
      "<ipython-input-3-2c0263da2d6b>:3: SettingWithCopyWarning: \n",
      "A value is trying to be set on a copy of a slice from a DataFrame.\n",
      "Try using .loc[row_indexer,col_indexer] = value instead\n",
      "\n",
      "See the caveats in the documentation: https://pandas.pydata.org/pandas-docs/stable/user_guide/indexing.html#returning-a-view-versus-a-copy\n",
      "  df['words'] = df.apply(lambda x: getKmers(x['sequence']), axis=1)\n"
     ]
    }
   ],
   "source": [
    "def getKmers(sequence, size=3):\n",
    "    return [sequence[x:x+size].lower() for x in range(len(sequence) - size + 1)]\n",
    "df['words'] = df.apply(lambda x: getKmers(x['sequence']), axis=1)\n",
    "texts = list(df['words'])\n",
    "for item in range(len(texts)):\n",
    "    texts[item] = ' '.join(texts[item])"
   ]
  },
  {
   "cell_type": "code",
   "execution_count": 4,
   "id": "electrical-divorce",
   "metadata": {},
   "outputs": [],
   "source": [
    "cv = CountVectorizer()\n",
    "X = cv.fit_transform(texts).toarray()\n",
    "y = df[target]\n",
    "num_classes = 3\n",
    "yc = pd.qcut(y, num_classes, labels=False)\n",
    "yh = to_categorical(yc)"
   ]
  },
  {
   "cell_type": "markdown",
   "id": "dominant-mortgage",
   "metadata": {},
   "source": [
    "### Classification"
   ]
  },
  {
   "cell_type": "markdown",
   "id": "blank-removal",
   "metadata": {},
   "source": [
    "#### Multi-layer Perceptrons"
   ]
  },
  {
   "cell_type": "code",
   "execution_count": 5,
   "id": "decreased-democracy",
   "metadata": {},
   "outputs": [
    {
     "name": "stdout",
     "output_type": "stream",
     "text": [
      "(132, 64) (33, 64) (132, 3) (33, 3)\n"
     ]
    }
   ],
   "source": [
    "X_train, X_test, y_train, y_test = train_test_split(X, yh, test_size=0.2, random_state=42)\n",
    "print(X_train.shape, X_test.shape, y_train.shape, y_test.shape)"
   ]
  },
  {
   "cell_type": "code",
   "execution_count": 6,
   "id": "indian-unknown",
   "metadata": {},
   "outputs": [
    {
     "name": "stdout",
     "output_type": "stream",
     "text": [
      "Model: \"sequential\"\n",
      "_________________________________________________________________\n",
      "Layer (type)                 Output Shape              Param #   \n",
      "=================================================================\n",
      "dense (Dense)                (None, 100)               6500      \n",
      "_________________________________________________________________\n",
      "dense_1 (Dense)              (None, 3)                 303       \n",
      "=================================================================\n",
      "Total params: 6,803\n",
      "Trainable params: 6,803\n",
      "Non-trainable params: 0\n",
      "_________________________________________________________________\n"
     ]
    }
   ],
   "source": [
    "model = Sequential()\n",
    "model.add(Dense(100, activation='relu', input_dim=X_train.shape[1]))\n",
    "model.add(Dense(y_train.shape[1], activation='sigmoid'))\n",
    "\n",
    "model.compile(loss='binary_crossentropy', optimizer='adam', metrics = ['accuracy'])\n",
    "model.summary()"
   ]
  },
  {
   "cell_type": "code",
   "execution_count": 7,
   "id": "incomplete-jenny",
   "metadata": {},
   "outputs": [
    {
     "name": "stdout",
     "output_type": "stream",
     "text": [
      "Epoch 1/10\n",
      "2/2 [==============================] - 1s 3ms/step - loss: 46.4834 - accuracy: 0.3333\n",
      "Epoch 2/10\n",
      "2/2 [==============================] - 0s 6ms/step - loss: 25.0684 - accuracy: 0.3333\n",
      "Epoch 3/10\n",
      "2/2 [==============================] - 0s 6ms/step - loss: 13.6104 - accuracy: 0.3333\n",
      "Epoch 4/10\n",
      "2/2 [==============================] - 0s 7ms/step - loss: 4.8213 - accuracy: 0.3182\n",
      "Epoch 5/10\n",
      "2/2 [==============================] - 0s 10ms/step - loss: 7.2509 - accuracy: 0.4015\n",
      "Epoch 6/10\n",
      "2/2 [==============================] - 0s 12ms/step - loss: 9.8801 - accuracy: 0.3485\n",
      "Epoch 7/10\n",
      "2/2 [==============================] - 0s 10ms/step - loss: 8.9795 - accuracy: 0.3712\n",
      "Epoch 8/10\n",
      "2/2 [==============================] - 0s 8ms/step - loss: 8.7764 - accuracy: 0.3106\n",
      "Epoch 9/10\n",
      "2/2 [==============================] - 0s 6ms/step - loss: 6.7552 - accuracy: 0.2955\n",
      "Epoch 10/10\n",
      "2/2 [==============================] - 0s 5ms/step - loss: 4.2839 - accuracy: 0.3485\n"
     ]
    }
   ],
   "source": [
    "history = model.fit(X_train, y_train, batch_size=100, epochs=10)"
   ]
  },
  {
   "cell_type": "code",
   "execution_count": 8,
   "id": "structural-detection",
   "metadata": {},
   "outputs": [
    {
     "name": "stdout",
     "output_type": "stream",
     "text": [
      "2/2 [==============================] - 0s 2ms/step - loss: 2.4611 - accuracy: 0.2424\n",
      "accuracy = 0.24242424964904785\n"
     ]
    }
   ],
   "source": [
    "_, acc = model.evaluate(X_test, y_test, verbose=1)\n",
    "print(\"accuracy = \" + str(acc))"
   ]
  },
  {
   "cell_type": "markdown",
   "id": "downtown-condition",
   "metadata": {},
   "source": [
    "#### CNN"
   ]
  },
  {
   "cell_type": "code",
   "execution_count": 9,
   "id": "moral-fusion",
   "metadata": {},
   "outputs": [
    {
     "name": "stdout",
     "output_type": "stream",
     "text": [
      "(132, 64, 1) (33, 64, 1) (132, 1) (33, 1)\n"
     ]
    }
   ],
   "source": [
    "X_train, X_test, y_train, y_test = train_test_split(X, yc, test_size=0.2, random_state=42)\n",
    "\n",
    "#reshape\n",
    "X_train = X_train.reshape((X_train.shape[0], X_train.shape[1], 1))\n",
    "X_test = X_test.reshape((X_test.shape[0], X_test.shape[1], 1))\n",
    "y_train = y_train.values.reshape((y_train.shape[0], 1))\n",
    "y_test = y_test.values.reshape((y_test.shape[0], 1))\n",
    "\n",
    "print(X_train.shape, X_test.shape, y_train.shape, y_test.shape)"
   ]
  },
  {
   "cell_type": "code",
   "execution_count": 10,
   "id": "lined-workstation",
   "metadata": {},
   "outputs": [
    {
     "name": "stdout",
     "output_type": "stream",
     "text": [
      "Model: \"sequential_1\"\n",
      "_________________________________________________________________\n",
      "Layer (type)                 Output Shape              Param #   \n",
      "=================================================================\n",
      "conv1d (Conv1D)              (None, 62, 64)            256       \n",
      "_________________________________________________________________\n",
      "conv1d_1 (Conv1D)            (None, 60, 64)            12352     \n",
      "_________________________________________________________________\n",
      "dropout (Dropout)            (None, 60, 64)            0         \n",
      "_________________________________________________________________\n",
      "max_pooling1d (MaxPooling1D) (None, 30, 64)            0         \n",
      "_________________________________________________________________\n",
      "flatten (Flatten)            (None, 1920)              0         \n",
      "_________________________________________________________________\n",
      "dense_2 (Dense)              (None, 100)               192100    \n",
      "_________________________________________________________________\n",
      "dense_3 (Dense)              (None, 1)                 101       \n",
      "=================================================================\n",
      "Total params: 204,809\n",
      "Trainable params: 204,809\n",
      "Non-trainable params: 0\n",
      "_________________________________________________________________\n"
     ]
    }
   ],
   "source": [
    "verbose, epochs, batch_size = 0, 5, 100\n",
    "n_timesteps, n_features, n_outputs = X_train.shape[1], 1, y_train.shape[1]\n",
    "model = Sequential()\n",
    "model.add(Conv1D(filters=64, kernel_size=3, activation='relu', input_shape=(n_timesteps, n_features)))\n",
    "model.add(Conv1D(filters=64, kernel_size=3, activation='relu'))\n",
    "model.add(Dropout(0.5))\n",
    "model.add(MaxPooling1D(pool_size=2))\n",
    "model.add(Flatten())\n",
    "model.add(Dense(100, activation='relu'))\n",
    "model.add(Dense(n_outputs, activation='sigmoid'))\n",
    "model.compile(loss='categorical_crossentropy', optimizer='adam', metrics=['accuracy'])\n",
    "model.summary()"
   ]
  },
  {
   "cell_type": "code",
   "execution_count": 11,
   "id": "contained-netscape",
   "metadata": {},
   "outputs": [
    {
     "name": "stdout",
     "output_type": "stream",
     "text": [
      "Epoch 1/5\n",
      "2/2 [==============================] - 1s 20ms/step - loss: 0.0000e+00 - accuracy: 0.3258\n",
      "Epoch 2/5\n",
      "2/2 [==============================] - 0s 23ms/step - loss: 0.0000e+00 - accuracy: 0.3182\n",
      "Epoch 3/5\n",
      "2/2 [==============================] - 0s 28ms/step - loss: 0.0000e+00 - accuracy: 0.3182\n",
      "Epoch 4/5\n",
      "2/2 [==============================] - 0s 18ms/step - loss: 0.0000e+00 - accuracy: 0.3182\n",
      "Epoch 5/5\n",
      "2/2 [==============================] - 0s 20ms/step - loss: 0.0000e+00 - accuracy: 0.3106\n"
     ]
    },
    {
     "data": {
      "text/plain": [
       "0.39393940567970276"
      ]
     },
     "execution_count": 11,
     "metadata": {},
     "output_type": "execute_result"
    }
   ],
   "source": [
    "model.fit(X_train, y_train, epochs=epochs, batch_size=batch_size, verbose=1)\n",
    "_, accuracy = model.evaluate(X_test, y_test, verbose=0)\n",
    "accuracy"
   ]
  },
  {
   "cell_type": "markdown",
   "id": "excessive-lexington",
   "metadata": {},
   "source": [
    "#### RNN"
   ]
  },
  {
   "cell_type": "code",
   "execution_count": 12,
   "id": "naked-storm",
   "metadata": {},
   "outputs": [
    {
     "name": "stdout",
     "output_type": "stream",
     "text": [
      "(132, 64, 1) (33, 64, 1) (132, 1) (33, 1)\n"
     ]
    }
   ],
   "source": [
    "X_train, X_test, y_train, y_test = train_test_split(X, yc, test_size=0.2, random_state=42)\n",
    "\n",
    "#reshape\n",
    "X_train = X_train.reshape((X_train.shape[0], X_train.shape[1], 1))\n",
    "X_test = X_test.reshape((X_test.shape[0], X_test.shape[1], 1))\n",
    "y_train = y_train.values.reshape((y_train.shape[0], 1))\n",
    "y_test = y_test.values.reshape((y_test.shape[0], 1))\n",
    "\n",
    "print(X_train.shape, X_test.shape, y_train.shape, y_test.shape)"
   ]
  },
  {
   "cell_type": "code",
   "execution_count": 13,
   "id": "accepting-multiple",
   "metadata": {},
   "outputs": [
    {
     "name": "stdout",
     "output_type": "stream",
     "text": [
      "Model: \"sequential_2\"\n",
      "_________________________________________________________________\n",
      "Layer (type)                 Output Shape              Param #   \n",
      "=================================================================\n",
      "lstm (LSTM)                  (None, 64)                16896     \n",
      "_________________________________________________________________\n",
      "dense_4 (Dense)              (None, 64)                4160      \n",
      "_________________________________________________________________\n",
      "dense_5 (Dense)              (None, 1)                 65        \n",
      "=================================================================\n",
      "Total params: 21,121\n",
      "Trainable params: 21,121\n",
      "Non-trainable params: 0\n",
      "_________________________________________________________________\n"
     ]
    }
   ],
   "source": [
    "model = Sequential()\n",
    "'''\n",
    "top_words = 5000\n",
    "max_review_length = 500\n",
    "embedding_vecor_length = 32\n",
    "model.add(Embedding(top_words, embedding_vecor_length, input_length=max_review_length))\n",
    "'''\n",
    "model.add(LSTM(64, input_shape=(n_timesteps, n_features)))\n",
    "model.add(Dense(64, activation=\"relu\"))\n",
    "model.add(Dense(1, activation=\"sigmoid\"))\n",
    "#model.add(Dense(100, activation='relu', input_dim=X_train.shape[1]))\n",
    "#model.add(Dense(y_train.shape[1], activation='sigmoid'))\n",
    "model.compile(loss='categorical_crossentropy', optimizer='adam', metrics = ['accuracy'])\n",
    "model.summary()"
   ]
  },
  {
   "cell_type": "code",
   "execution_count": 14,
   "id": "awful-production",
   "metadata": {},
   "outputs": [
    {
     "name": "stdout",
     "output_type": "stream",
     "text": [
      "Epoch 1/5\n",
      "2/2 [==============================] - 2s 42ms/step - loss: 0.0000e+00 - accuracy: 0.3333\n",
      "Epoch 2/5\n",
      "2/2 [==============================] - 0s 36ms/step - loss: 0.0000e+00 - accuracy: 0.3333\n",
      "Epoch 3/5\n",
      "2/2 [==============================] - 0s 46ms/step - loss: 0.0000e+00 - accuracy: 0.3333\n",
      "Epoch 4/5\n",
      "2/2 [==============================] - 0s 40ms/step - loss: 0.0000e+00 - accuracy: 0.3106\n",
      "Epoch 5/5\n",
      "2/2 [==============================] - 0s 36ms/step - loss: 0.0000e+00 - accuracy: 0.3182\n"
     ]
    },
    {
     "data": {
      "text/plain": [
       "0.39393940567970276"
      ]
     },
     "execution_count": 14,
     "metadata": {},
     "output_type": "execute_result"
    }
   ],
   "source": [
    "model.fit(X_train, y_train, epochs=epochs, batch_size=batch_size, verbose=1)\n",
    "_, accuracy = model.evaluate(X_test, y_test, verbose=0)\n",
    "accuracy"
   ]
  },
  {
   "cell_type": "markdown",
   "id": "corresponding-truth",
   "metadata": {},
   "source": [
    "### Regression"
   ]
  },
  {
   "cell_type": "markdown",
   "id": "robust-forestry",
   "metadata": {},
   "source": [
    "#### CNN"
   ]
  },
  {
   "cell_type": "code",
   "execution_count": 15,
   "id": "computational-spanish",
   "metadata": {},
   "outputs": [
    {
     "name": "stdout",
     "output_type": "stream",
     "text": [
      "(132, 64, 1) (33, 64, 1) (132, 1) (33, 1)\n"
     ]
    }
   ],
   "source": [
    "X_train, X_test, y_train, y_test = train_test_split(X, y, test_size=0.2)\n",
    "\n",
    "#reshape\n",
    "X_train = X_train.reshape((X_train.shape[0], X_train.shape[1], 1))\n",
    "X_test = X_test.reshape((X_test.shape[0], X_test.shape[1], 1))\n",
    "y_train = y_train.values.reshape((y_train.shape[0], 1))\n",
    "y_test = y_test.values.reshape((y_test.shape[0], 1))\n",
    "\n",
    "print(X_train.shape, X_test.shape, y_train.shape, y_test.shape)"
   ]
  },
  {
   "cell_type": "code",
   "execution_count": 16,
   "id": "elder-primary",
   "metadata": {},
   "outputs": [
    {
     "name": "stdout",
     "output_type": "stream",
     "text": [
      "Model: \"sequential_3\"\n",
      "_________________________________________________________________\n",
      "Layer (type)                 Output Shape              Param #   \n",
      "=================================================================\n",
      "conv1d_2 (Conv1D)            (None, 62, 64)            256       \n",
      "_________________________________________________________________\n",
      "conv1d_3 (Conv1D)            (None, 60, 64)            12352     \n",
      "_________________________________________________________________\n",
      "dropout_1 (Dropout)          (None, 60, 64)            0         \n",
      "_________________________________________________________________\n",
      "max_pooling1d_1 (MaxPooling1 (None, 30, 64)            0         \n",
      "_________________________________________________________________\n",
      "flatten_1 (Flatten)          (None, 1920)              0         \n",
      "_________________________________________________________________\n",
      "dense_6 (Dense)              (None, 100)               192100    \n",
      "_________________________________________________________________\n",
      "dense_7 (Dense)              (None, 1)                 101       \n",
      "=================================================================\n",
      "Total params: 204,809\n",
      "Trainable params: 204,809\n",
      "Non-trainable params: 0\n",
      "_________________________________________________________________\n"
     ]
    }
   ],
   "source": [
    "verbose, epochs, batch_size = 0, 5, 100\n",
    "n_timesteps, n_features, n_outputs = X_train.shape[1], 1, y_train.shape[1]\n",
    "model = Sequential()\n",
    "model.add(Conv1D(filters=64, kernel_size=3, activation='relu', input_shape=(n_timesteps, n_features)))\n",
    "model.add(Conv1D(filters=64, kernel_size=3, activation='relu'))\n",
    "model.add(Dropout(0.5))\n",
    "model.add(MaxPooling1D(pool_size=2))\n",
    "model.add(Flatten())\n",
    "model.add(Dense(100, activation='relu'))\n",
    "model.add(Dense(n_outputs))\n",
    "model.compile(loss='mean_squared_error', optimizer='adam')\n",
    "model.summary()"
   ]
  },
  {
   "cell_type": "code",
   "execution_count": 17,
   "id": "acquired-parent",
   "metadata": {},
   "outputs": [
    {
     "name": "stdout",
     "output_type": "stream",
     "text": [
      "Epoch 1/100\n",
      "27/27 [==============================] - 1s 5ms/step - loss: 1662730112.0000\n",
      "Epoch 2/100\n",
      "27/27 [==============================] - 0s 5ms/step - loss: 1292423168.0000\n",
      "Epoch 3/100\n",
      "27/27 [==============================] - 0s 5ms/step - loss: 1274085120.0000\n",
      "Epoch 4/100\n",
      "27/27 [==============================] - 0s 4ms/step - loss: 1285936768.0000\n",
      "Epoch 5/100\n",
      "27/27 [==============================] - 0s 5ms/step - loss: 1274775040.0000\n",
      "Epoch 6/100\n",
      "27/27 [==============================] - 0s 4ms/step - loss: 1283675648.0000\n",
      "Epoch 7/100\n",
      "27/27 [==============================] - 0s 10ms/step - loss: 1266064000.0000\n",
      "Epoch 8/100\n",
      "27/27 [==============================] - 0s 10ms/step - loss: 1275304320.0000\n",
      "Epoch 9/100\n",
      "27/27 [==============================] - 0s 5ms/step - loss: 1270275712.0000\n",
      "Epoch 10/100\n",
      "27/27 [==============================] - 0s 12ms/step - loss: 1271161600.0000\n",
      "Epoch 11/100\n",
      "27/27 [==============================] - 0s 8ms/step - loss: 1288512512.0000\n",
      "Epoch 12/100\n",
      "27/27 [==============================] - 0s 5ms/step - loss: 1276193920.0000\n",
      "Epoch 13/100\n",
      "27/27 [==============================] - 0s 11ms/step - loss: 1272467456.0000\n",
      "Epoch 14/100\n",
      "27/27 [==============================] - 0s 5ms/step - loss: 1278505088.0000\n",
      "Epoch 15/100\n",
      "27/27 [==============================] - 0s 5ms/step - loss: 1266612992.0000\n",
      "Epoch 16/100\n",
      "27/27 [==============================] - 0s 4ms/step - loss: 1262010752.0000\n",
      "Epoch 17/100\n",
      "27/27 [==============================] - 0s 5ms/step - loss: 1278801280.0000\n",
      "Epoch 18/100\n",
      "27/27 [==============================] - 0s 5ms/step - loss: 1271890176.0000\n",
      "Epoch 19/100\n",
      "27/27 [==============================] - 0s 5ms/step - loss: 1267518336.0000\n",
      "Epoch 20/100\n",
      "27/27 [==============================] - 0s 5ms/step - loss: 1277764864.0000\n",
      "Epoch 21/100\n",
      "27/27 [==============================] - 0s 13ms/step - loss: 1281466496.0000\n",
      "Epoch 22/100\n",
      "27/27 [==============================] - 0s 11ms/step - loss: 1280153600.0000\n",
      "Epoch 23/100\n",
      "27/27 [==============================] - 0s 6ms/step - loss: 1272746496.0000\n",
      "Epoch 24/100\n",
      "27/27 [==============================] - 0s 9ms/step - loss: 1269843584.0000\n",
      "Epoch 25/100\n",
      "27/27 [==============================] - 0s 5ms/step - loss: 1273897472.0000\n",
      "Epoch 26/100\n",
      "27/27 [==============================] - 0s 5ms/step - loss: 1273926272.0000\n",
      "Epoch 27/100\n",
      "27/27 [==============================] - 0s 11ms/step - loss: 1277262976.0000\n",
      "Epoch 28/100\n",
      "27/27 [==============================] - 0s 5ms/step - loss: 1267929216.0000\n",
      "Epoch 29/100\n",
      "27/27 [==============================] - 0s 7ms/step - loss: 1276649856.0000\n",
      "Epoch 30/100\n",
      "27/27 [==============================] - 0s 10ms/step - loss: 1275798528.0000 0s - loss: 1505726720.\n",
      "Epoch 31/100\n",
      "27/27 [==============================] - 0s 10ms/step - loss: 1277208704.0000\n",
      "Epoch 32/100\n",
      "27/27 [==============================] - 0s 6ms/step - loss: 1274153216.0000\n",
      "Epoch 33/100\n",
      "27/27 [==============================] - 0s 12ms/step - loss: 1287010688.0000\n",
      "Epoch 34/100\n",
      "27/27 [==============================] - 0s 7ms/step - loss: 1304993920.0000\n",
      "Epoch 35/100\n",
      "27/27 [==============================] - 0s 6ms/step - loss: 1272113152.0000\n",
      "Epoch 36/100\n",
      "27/27 [==============================] - 0s 6ms/step - loss: 1275376896.0000\n",
      "Epoch 37/100\n",
      "27/27 [==============================] - 0s 5ms/step - loss: 1280629760.0000\n",
      "Epoch 38/100\n",
      "27/27 [==============================] - 0s 5ms/step - loss: 1283107328.0000\n",
      "Epoch 39/100\n",
      "27/27 [==============================] - 0s 6ms/step - loss: 1276631680.0000\n",
      "Epoch 40/100\n",
      "27/27 [==============================] - 0s 12ms/step - loss: 1281190784.0000\n",
      "Epoch 41/100\n",
      "27/27 [==============================] - 0s 10ms/step - loss: 1283658880.0000\n",
      "Epoch 42/100\n",
      "27/27 [==============================] - 0s 8ms/step - loss: 1272990208.0000\n",
      "Epoch 43/100\n",
      "27/27 [==============================] - 0s 10ms/step - loss: 1288373888.0000\n",
      "Epoch 44/100\n",
      "27/27 [==============================] - 0s 5ms/step - loss: 1273789056.0000\n",
      "Epoch 45/100\n",
      "27/27 [==============================] - 0s 4ms/step - loss: 1263308288.0000\n",
      "Epoch 46/100\n",
      "27/27 [==============================] - 0s 5ms/step - loss: 1293116800.0000\n",
      "Epoch 47/100\n",
      "27/27 [==============================] - 0s 8ms/step - loss: 1286785792.0000\n",
      "Epoch 48/100\n",
      "27/27 [==============================] - 0s 10ms/step - loss: 1277596672.0000\n",
      "Epoch 49/100\n",
      "27/27 [==============================] - 0s 8ms/step - loss: 1273164928.0000\n",
      "Epoch 50/100\n",
      "27/27 [==============================] - 0s 6ms/step - loss: 1271252352.0000\n",
      "Epoch 51/100\n",
      "27/27 [==============================] - 0s 6ms/step - loss: 1273885184.0000\n",
      "Epoch 52/100\n",
      "27/27 [==============================] - 0s 6ms/step - loss: 1269182720.0000\n",
      "Epoch 53/100\n",
      "27/27 [==============================] - 0s 7ms/step - loss: 1261794048.0000\n",
      "Epoch 54/100\n",
      "27/27 [==============================] - 0s 7ms/step - loss: 1269844352.0000\n",
      "Epoch 55/100\n",
      "27/27 [==============================] - 0s 6ms/step - loss: 1277286144.0000\n",
      "Epoch 56/100\n",
      "27/27 [==============================] - 0s 6ms/step - loss: 1268952704.0000\n",
      "Epoch 57/100\n",
      "27/27 [==============================] - 0s 5ms/step - loss: 1270058240.0000\n",
      "Epoch 58/100\n",
      "27/27 [==============================] - 0s 6ms/step - loss: 1266761600.0000\n",
      "Epoch 59/100\n",
      "27/27 [==============================] - 0s 5ms/step - loss: 1273358848.0000\n",
      "Epoch 60/100\n",
      "27/27 [==============================] - 1s 20ms/step - loss: 1280488064.0000\n",
      "Epoch 61/100\n",
      "27/27 [==============================] - 0s 16ms/step - loss: 1270751104.0000\n",
      "Epoch 62/100\n",
      "27/27 [==============================] - 0s 13ms/step - loss: 1274020096.0000\n",
      "Epoch 63/100\n",
      "27/27 [==============================] - 0s 13ms/step - loss: 1274378752.0000\n",
      "Epoch 64/100\n",
      "27/27 [==============================] - 0s 5ms/step - loss: 1272819968.0000\n",
      "Epoch 65/100\n",
      "27/27 [==============================] - 0s 8ms/step - loss: 1269316736.0000\n",
      "Epoch 66/100\n",
      "27/27 [==============================] - 0s 9ms/step - loss: 1263477248.0000\n",
      "Epoch 67/100\n",
      "27/27 [==============================] - 0s 8ms/step - loss: 1273080704.0000\n",
      "Epoch 68/100\n",
      "27/27 [==============================] - 0s 6ms/step - loss: 1269424384.0000\n",
      "Epoch 69/100\n",
      "27/27 [==============================] - 0s 12ms/step - loss: 1266146304.0000\n",
      "Epoch 70/100\n",
      "27/27 [==============================] - 0s 7ms/step - loss: 1266595840.0000\n",
      "Epoch 71/100\n",
      "27/27 [==============================] - 0s 7ms/step - loss: 1271087872.0000\n",
      "Epoch 72/100\n",
      "27/27 [==============================] - 0s 9ms/step - loss: 1271295872.0000\n",
      "Epoch 73/100\n",
      "27/27 [==============================] - 0s 8ms/step - loss: 1269556992.0000\n",
      "Epoch 74/100\n",
      "27/27 [==============================] - 0s 7ms/step - loss: 1258568320.0000\n",
      "Epoch 75/100\n",
      "27/27 [==============================] - 0s 7ms/step - loss: 1275652864.0000\n",
      "Epoch 76/100\n",
      "27/27 [==============================] - 0s 8ms/step - loss: 1279360768.0000\n",
      "Epoch 77/100\n",
      "27/27 [==============================] - 0s 6ms/step - loss: 1268230144.0000\n",
      "Epoch 78/100\n",
      "27/27 [==============================] - 0s 5ms/step - loss: 1268038528.0000\n",
      "Epoch 79/100\n",
      "27/27 [==============================] - 0s 7ms/step - loss: 1269435264.0000\n",
      "Epoch 80/100\n",
      "27/27 [==============================] - 0s 5ms/step - loss: 1265409152.0000\n",
      "Epoch 81/100\n",
      "27/27 [==============================] - 0s 5ms/step - loss: 1265382144.0000\n",
      "Epoch 82/100\n",
      "27/27 [==============================] - 0s 5ms/step - loss: 1267800960.0000\n",
      "Epoch 83/100\n",
      "27/27 [==============================] - 0s 9ms/step - loss: 1265297408.0000\n",
      "Epoch 84/100\n",
      "27/27 [==============================] - 0s 6ms/step - loss: 1274428800.0000\n",
      "Epoch 85/100\n",
      "27/27 [==============================] - 0s 6ms/step - loss: 1271744512.0000\n",
      "Epoch 86/100\n",
      "27/27 [==============================] - 0s 6ms/step - loss: 1282935168.0000\n",
      "Epoch 87/100\n",
      "27/27 [==============================] - 0s 6ms/step - loss: 1271287552.0000\n",
      "Epoch 88/100\n",
      "27/27 [==============================] - 0s 6ms/step - loss: 1269883008.0000\n",
      "Epoch 89/100\n",
      "27/27 [==============================] - 0s 7ms/step - loss: 1273079040.0000\n",
      "Epoch 90/100\n",
      "27/27 [==============================] - 0s 5ms/step - loss: 1261312512.0000\n",
      "Epoch 91/100\n"
     ]
    },
    {
     "name": "stdout",
     "output_type": "stream",
     "text": [
      "27/27 [==============================] - 0s 5ms/step - loss: 1266753664.0000\n",
      "Epoch 92/100\n",
      "27/27 [==============================] - 0s 4ms/step - loss: 1288420224.0000\n",
      "Epoch 93/100\n",
      "27/27 [==============================] - 0s 4ms/step - loss: 1276681344.0000\n",
      "Epoch 94/100\n",
      "27/27 [==============================] - 0s 4ms/step - loss: 1280235776.0000\n",
      "Epoch 95/100\n",
      "27/27 [==============================] - 0s 4ms/step - loss: 1271903232.0000\n",
      "Epoch 96/100\n",
      "27/27 [==============================] - 0s 4ms/step - loss: 1267179136.0000\n",
      "Epoch 97/100\n",
      "27/27 [==============================] - 0s 4ms/step - loss: 1266938496.0000\n",
      "Epoch 98/100\n",
      "27/27 [==============================] - 0s 4ms/step - loss: 1263367424.0000\n",
      "Epoch 99/100\n",
      "27/27 [==============================] - 0s 4ms/step - loss: 1277552640.0000\n",
      "Epoch 100/100\n",
      "27/27 [==============================] - 0s 5ms/step - loss: 1271881216.0000\n"
     ]
    }
   ],
   "source": [
    "model.fit(X_train, y_train, epochs=100, batch_size=5, verbose=1)\n",
    "y_pred = model.predict(X_test)"
   ]
  },
  {
   "cell_type": "code",
   "execution_count": 27,
   "id": "integral-depth",
   "metadata": {},
   "outputs": [
    {
     "name": "stderr",
     "output_type": "stream",
     "text": [
      "/Users/mardian/Documents/Edinburgh/Notebook/env/lib/python3.9/site-packages/seaborn/_decorators.py:36: FutureWarning: Pass the following variables as keyword args: x, y. From version 0.12, the only valid positional argument will be `data`, and passing other arguments without an explicit keyword will result in an error or misinterpretation.\n",
      "  warnings.warn(\n"
     ]
    },
    {
     "data": {
      "image/png": "[encoded data removed]",
      "text/plain": [
       "<Figure size 432x288 with 1 Axes>"
      ]
     },
     "metadata": {
      "needs_background": "light"
     },
     "output_type": "display_data"
    }
   ],
   "source": [
    "#plt.scatter(y_test, y_pred)\n",
    "#plt.axhline(y=0, color='r', linestyle='-')\n",
    "sns.regplot(y_test, y_pred)\n",
    "plt.title('cNN')\n",
    "#plt.xticks(rotation=90)\n",
    "plt.xlabel('Actual')\n",
    "plt.ylabel('Prediction')\n",
    "plt.show()"
   ]
  },
  {
   "cell_type": "code",
   "execution_count": 37,
   "id": "confirmed-manitoba",
   "metadata": {},
   "outputs": [
    {
     "data": {
      "text/html": [
       "<div>\n",
       "<style scoped>\n",
       "    .dataframe tbody tr th:only-of-type {\n",
       "        vertical-align: middle;\n",
       "    }\n",
       "\n",
       "    .dataframe tbody tr th {\n",
       "        vertical-align: top;\n",
       "    }\n",
       "\n",
       "    .dataframe thead th {\n",
       "        text-align: right;\n",
       "    }\n",
       "</style>\n",
       "<table border=\"1\" class=\"dataframe\">\n",
       "  <thead>\n",
       "    <tr style=\"text-align: right;\">\n",
       "      <th></th>\n",
       "      <th>test</th>\n",
       "      <th>pred</th>\n",
       "    </tr>\n",
       "  </thead>\n",
       "  <tbody>\n",
       "    <tr>\n",
       "      <th>test</th>\n",
       "      <td>1.000000</td>\n",
       "      <td>-0.103976</td>\n",
       "    </tr>\n",
       "    <tr>\n",
       "      <th>pred</th>\n",
       "      <td>-0.103976</td>\n",
       "      <td>1.000000</td>\n",
       "    </tr>\n",
       "  </tbody>\n",
       "</table>\n",
       "</div>"
      ],
      "text/plain": [
       "          test      pred\n",
       "test  1.000000 -0.103976\n",
       "pred -0.103976  1.000000"
      ]
     },
     "execution_count": 37,
     "metadata": {},
     "output_type": "execute_result"
    }
   ],
   "source": [
    "ev = pd.DataFrame([y_test.ravel(), y_pred.ravel()]).T\n",
    "ev.columns = ['test', 'pred']\n",
    "ev[ev['pred']<15000].corr()"
   ]
  },
  {
   "cell_type": "code",
   "execution_count": 38,
   "id": "completed-european",
   "metadata": {},
   "outputs": [
    {
     "name": "stderr",
     "output_type": "stream",
     "text": [
      "/Users/mardian/Documents/Edinburgh/Notebook/env/lib/python3.9/site-packages/seaborn/_decorators.py:36: FutureWarning: Pass the following variables as keyword args: x, y. From version 0.12, the only valid positional argument will be `data`, and passing other arguments without an explicit keyword will result in an error or misinterpretation.\n",
      "  warnings.warn(\n"
     ]
    },
    {
     "data": {
      "text/plain": [
       "<AxesSubplot:xlabel='test', ylabel='pred'>"
      ]
     },
     "execution_count": 38,
     "metadata": {},
     "output_type": "execute_result"
    },
    {
     "data": {
      "image/png": "[encoded data removed]",
      "text/plain": [
       "<Figure size 432x288 with 1 Axes>"
      ]
     },
     "metadata": {
      "needs_background": "light"
     },
     "output_type": "display_data"
    }
   ],
   "source": [
    "sns.regplot(ev[ev['pred']<15000].test, ev[ev['pred']<15000].pred)"
   ]
  },
  {
   "cell_type": "code",
   "execution_count": 30,
   "id": "transsexual-adapter",
   "metadata": {},
   "outputs": [
    {
     "data": {
      "text/plain": [
       "array([15310.078, 15555.222, 15418.364, 15316.348, 16186.047, 15337.066],\n",
       "      dtype=float32)"
      ]
     },
     "execution_count": 30,
     "metadata": {},
     "output_type": "execute_result"
    }
   ],
   "source": [
    "y_pred[y_pred>15250]"
   ]
  },
  {
   "cell_type": "code",
   "execution_count": 26,
   "id": "prospective-aruba",
   "metadata": {},
   "outputs": [
    {
     "data": {
      "text/html": [
       "<div>\n",
       "<style scoped>\n",
       "    .dataframe tbody tr th:only-of-type {\n",
       "        vertical-align: middle;\n",
       "    }\n",
       "\n",
       "    .dataframe tbody tr th {\n",
       "        vertical-align: top;\n",
       "    }\n",
       "\n",
       "    .dataframe thead th {\n",
       "        text-align: right;\n",
       "    }\n",
       "</style>\n",
       "<table border=\"1\" class=\"dataframe\">\n",
       "  <thead>\n",
       "    <tr style=\"text-align: right;\">\n",
       "      <th></th>\n",
       "      <th>0</th>\n",
       "      <th>1</th>\n",
       "    </tr>\n",
       "  </thead>\n",
       "  <tbody>\n",
       "    <tr>\n",
       "      <th>0</th>\n",
       "      <td>1.0000</td>\n",
       "      <td>0.2985</td>\n",
       "    </tr>\n",
       "    <tr>\n",
       "      <th>1</th>\n",
       "      <td>0.2985</td>\n",
       "      <td>1.0000</td>\n",
       "    </tr>\n",
       "  </tbody>\n",
       "</table>\n",
       "</div>"
      ],
      "text/plain": [
       "        0       1\n",
       "0  1.0000  0.2985\n",
       "1  0.2985  1.0000"
      ]
     },
     "execution_count": 26,
     "metadata": {},
     "output_type": "execute_result"
    }
   ],
   "source": [
    "pd.DataFrame([y_test.ravel(), y_pred.ravel()]).T.corr()"
   ]
  },
  {
   "cell_type": "markdown",
   "id": "liked-bacon",
   "metadata": {},
   "source": [
    "#### RNN"
   ]
  },
  {
   "cell_type": "code",
   "execution_count": 39,
   "id": "guided-audit",
   "metadata": {},
   "outputs": [
    {
     "name": "stdout",
     "output_type": "stream",
     "text": [
      "(132, 64, 1) (33, 64, 1) (132, 1) (33, 1)\n"
     ]
    }
   ],
   "source": [
    "X_train, X_test, y_train, y_test = train_test_split(X, y, test_size=0.2)\n",
    "\n",
    "#reshape\n",
    "X_train = X_train.reshape((X_train.shape[0], X_train.shape[1], 1))\n",
    "X_test = X_test.reshape((X_test.shape[0], X_test.shape[1], 1))\n",
    "y_train = y_train.values.reshape((y_train.shape[0], 1))\n",
    "y_test = y_test.values.reshape((y_test.shape[0], 1))\n",
    "\n",
    "print(X_train.shape, X_test.shape, y_train.shape, y_test.shape)"
   ]
  },
  {
   "cell_type": "code",
   "execution_count": 40,
   "id": "cross-cylinder",
   "metadata": {},
   "outputs": [
    {
     "name": "stdout",
     "output_type": "stream",
     "text": [
      "Model: \"sequential_4\"\n",
      "_________________________________________________________________\n",
      "Layer (type)                 Output Shape              Param #   \n",
      "=================================================================\n",
      "lstm_1 (LSTM)                (None, 64)                16896     \n",
      "_________________________________________________________________\n",
      "dense_8 (Dense)              (None, 64)                4160      \n",
      "_________________________________________________________________\n",
      "dense_9 (Dense)              (None, 1)                 65        \n",
      "=================================================================\n",
      "Total params: 21,121\n",
      "Trainable params: 21,121\n",
      "Non-trainable params: 0\n",
      "_________________________________________________________________\n"
     ]
    }
   ],
   "source": [
    "model = Sequential()\n",
    "model.add(LSTM(64, input_shape=(n_timesteps, n_features)))\n",
    "model.add(Dense(64, activation=\"relu\"))\n",
    "model.add(Dense(n_outputs))\n",
    "model.compile(loss='mean_squared_error', optimizer='adam')\n",
    "model.summary()"
   ]
  },
  {
   "cell_type": "code",
   "execution_count": 41,
   "id": "hourly-commission",
   "metadata": {},
   "outputs": [
    {
     "name": "stdout",
     "output_type": "stream",
     "text": [
      "Epoch 1/100\n",
      "27/27 [==============================] - 3s 38ms/step - loss: 2589587968.0000\n",
      "Epoch 2/100\n",
      "27/27 [==============================] - 1s 28ms/step - loss: 2589406464.0000\n",
      "Epoch 3/100\n",
      "27/27 [==============================] - 1s 47ms/step - loss: 2589020160.0000\n",
      "Epoch 4/100\n",
      "27/27 [==============================] - 2s 74ms/step - loss: 2588203520.0000\n",
      "Epoch 5/100\n",
      "27/27 [==============================] - 1s 45ms/step - loss: 2587046144.0000\n",
      "Epoch 6/100\n",
      "27/27 [==============================] - 1s 31ms/step - loss: 2585553664.0000\n",
      "Epoch 7/100\n",
      "27/27 [==============================] - 1s 24ms/step - loss: 2583951872.0000\n",
      "Epoch 8/100\n",
      "27/27 [==============================] - 1s 24ms/step - loss: 2582138112.0000\n",
      "Epoch 9/100\n",
      "27/27 [==============================] - 1s 25ms/step - loss: 2580170752.0000\n",
      "Epoch 10/100\n",
      "27/27 [==============================] - 1s 25ms/step - loss: 2577946880.0000\n",
      "Epoch 11/100\n",
      "27/27 [==============================] - 1s 24ms/step - loss: 2575518208.0000\n",
      "Epoch 12/100\n",
      "27/27 [==============================] - 1s 24ms/step - loss: 2572840704.0000\n",
      "Epoch 13/100\n",
      "27/27 [==============================] - 1s 24ms/step - loss: 2569927168.0000\n",
      "Epoch 14/100\n",
      "27/27 [==============================] - 1s 46ms/step - loss: 2566763264.0000\n",
      "Epoch 15/100\n",
      "27/27 [==============================] - 1s 30ms/step - loss: 2563730688.0000\n",
      "Epoch 16/100\n",
      "27/27 [==============================] - 1s 27ms/step - loss: 2560223488.0000\n",
      "Epoch 17/100\n",
      "27/27 [==============================] - 1s 25ms/step - loss: 2556521984.0000\n",
      "Epoch 18/100\n",
      "27/27 [==============================] - 1s 24ms/step - loss: 2552902912.0000\n",
      "Epoch 19/100\n",
      "27/27 [==============================] - 1s 24ms/step - loss: 2548755200.0000\n",
      "Epoch 20/100\n",
      "27/27 [==============================] - 1s 25ms/step - loss: 2544297728.0000\n",
      "Epoch 21/100\n",
      "27/27 [==============================] - 1s 24ms/step - loss: 2540192256.0000\n",
      "Epoch 22/100\n",
      "27/27 [==============================] - 1s 25ms/step - loss: 2535753728.0000\n",
      "Epoch 23/100\n",
      "27/27 [==============================] - 1s 24ms/step - loss: 2531106560.0000\n",
      "Epoch 24/100\n",
      "27/27 [==============================] - 1s 25ms/step - loss: 2526397440.0000\n",
      "Epoch 25/100\n",
      "27/27 [==============================] - 1s 24ms/step - loss: 2521351424.0000\n",
      "Epoch 26/100\n",
      "27/27 [==============================] - 1s 25ms/step - loss: 2516335360.0000\n",
      "Epoch 27/100\n",
      "27/27 [==============================] - 1s 27ms/step - loss: 2511084032.0000\n",
      "Epoch 28/100\n",
      "27/27 [==============================] - 1s 25ms/step - loss: 2505818112.0000\n",
      "Epoch 29/100\n",
      "27/27 [==============================] - 1s 24ms/step - loss: 2500599040.0000\n",
      "Epoch 30/100\n",
      "27/27 [==============================] - 2s 67ms/step - loss: 2494980096.0000\n",
      "Epoch 31/100\n",
      "27/27 [==============================] - 1s 48ms/step - loss: 2489270016.0000\n",
      "Epoch 32/100\n",
      "27/27 [==============================] - 1s 30ms/step - loss: 2483343360.0000\n",
      "Epoch 33/100\n",
      "27/27 [==============================] - 1s 37ms/step - loss: 2477081088.0000\n",
      "Epoch 34/100\n",
      "27/27 [==============================] - 1s 45ms/step - loss: 2471390464.0000\n",
      "Epoch 35/100\n",
      "27/27 [==============================] - 1s 26ms/step - loss: 2465061888.0000\n",
      "Epoch 36/100\n",
      "27/27 [==============================] - 1s 26ms/step - loss: 2459053824.0000\n",
      "Epoch 37/100\n",
      "27/27 [==============================] - 1s 36ms/step - loss: 2452750080.0000\n",
      "Epoch 38/100\n",
      "27/27 [==============================] - 1s 27ms/step - loss: 2446114560.0000\n",
      "Epoch 39/100\n",
      "27/27 [==============================] - 1s 24ms/step - loss: 2439895808.0000\n",
      "Epoch 40/100\n",
      "27/27 [==============================] - 1s 24ms/step - loss: 2433407744.0000\n",
      "Epoch 41/100\n",
      "27/27 [==============================] - 1s 24ms/step - loss: 2426605568.0000\n",
      "Epoch 42/100\n",
      "27/27 [==============================] - 1s 24ms/step - loss: 2419792896.0000\n",
      "Epoch 43/100\n",
      "27/27 [==============================] - 1s 24ms/step - loss: 2413011968.0000\n",
      "Epoch 44/100\n",
      "27/27 [==============================] - 1s 25ms/step - loss: 2406527488.0000\n",
      "Epoch 45/100\n",
      "27/27 [==============================] - 1s 24ms/step - loss: 2399625728.0000\n",
      "Epoch 46/100\n",
      "27/27 [==============================] - 1s 24ms/step - loss: 2393107712.0000\n",
      "Epoch 47/100\n",
      "27/27 [==============================] - 1s 24ms/step - loss: 2386286336.0000\n",
      "Epoch 48/100\n",
      "27/27 [==============================] - 1s 24ms/step - loss: 2379476992.0000\n",
      "Epoch 49/100\n",
      "27/27 [==============================] - 1s 24ms/step - loss: 2372444416.0000\n",
      "Epoch 50/100\n",
      "27/27 [==============================] - 1s 24ms/step - loss: 2365551104.0000\n",
      "Epoch 51/100\n",
      "27/27 [==============================] - 1s 24ms/step - loss: 2358619392.0000\n",
      "Epoch 52/100\n",
      "27/27 [==============================] - 1s 24ms/step - loss: 2351559936.0000\n",
      "Epoch 53/100\n",
      "27/27 [==============================] - 1s 25ms/step - loss: 2344540160.0000\n",
      "Epoch 54/100\n",
      "27/27 [==============================] - 1s 24ms/step - loss: 2337563136.0000\n",
      "Epoch 55/100\n",
      "27/27 [==============================] - 1s 23ms/step - loss: 2330468864.0000\n",
      "Epoch 56/100\n",
      "27/27 [==============================] - 1s 24ms/step - loss: 2323197952.0000\n",
      "Epoch 57/100\n",
      "27/27 [==============================] - 1s 25ms/step - loss: 2316393984.0000\n",
      "Epoch 58/100\n",
      "27/27 [==============================] - 1s 25ms/step - loss: 2308758272.0000\n",
      "Epoch 59/100\n",
      "27/27 [==============================] - 1s 25ms/step - loss: 2302294528.0000\n",
      "Epoch 60/100\n",
      "27/27 [==============================] - 1s 23ms/step - loss: 2294296576.0000\n",
      "Epoch 61/100\n",
      "27/27 [==============================] - 1s 24ms/step - loss: 2287585792.0000\n",
      "Epoch 62/100\n",
      "27/27 [==============================] - 1s 23ms/step - loss: 2280374528.0000\n",
      "Epoch 63/100\n",
      "27/27 [==============================] - 1s 24ms/step - loss: 2273521664.0000\n",
      "Epoch 64/100\n",
      "27/27 [==============================] - 1s 24ms/step - loss: 2266758912.0000\n",
      "Epoch 65/100\n",
      "27/27 [==============================] - 1s 24ms/step - loss: 2259890688.0000\n",
      "Epoch 66/100\n",
      "27/27 [==============================] - 1s 24ms/step - loss: 2253101824.0000\n",
      "Epoch 67/100\n",
      "27/27 [==============================] - 1s 24ms/step - loss: 2246731520.0000\n",
      "Epoch 68/100\n",
      "27/27 [==============================] - 1s 24ms/step - loss: 2239688704.0000\n",
      "Epoch 69/100\n",
      "27/27 [==============================] - 1s 27ms/step - loss: 2233226496.0000\n",
      "Epoch 70/100\n",
      "27/27 [==============================] - 1s 27ms/step - loss: 2226384384.0000\n",
      "Epoch 71/100\n",
      "27/27 [==============================] - 1s 30ms/step - loss: 2219990272.0000\n",
      "Epoch 72/100\n",
      "27/27 [==============================] - 1s 48ms/step - loss: 2213183488.0000\n",
      "Epoch 73/100\n",
      "27/27 [==============================] - 1s 40ms/step - loss: 2206730752.0000\n",
      "Epoch 74/100\n",
      "27/27 [==============================] - 1s 52ms/step - loss: 2199591424.0000\n",
      "Epoch 75/100\n",
      "27/27 [==============================] - 1s 29ms/step - loss: 2193064960.0000\n",
      "Epoch 76/100\n",
      "27/27 [==============================] - 1s 27ms/step - loss: 2186717696.0000\n",
      "Epoch 77/100\n",
      "27/27 [==============================] - 1s 26ms/step - loss: 2180511744.0000\n",
      "Epoch 78/100\n",
      "27/27 [==============================] - 1s 27ms/step - loss: 2174205440.0000\n",
      "Epoch 79/100\n",
      "27/27 [==============================] - 1s 29ms/step - loss: 2167864576.0000\n",
      "Epoch 80/100\n",
      "27/27 [==============================] - 1s 31ms/step - loss: 2162019328.0000\n",
      "Epoch 81/100\n",
      "27/27 [==============================] - 1s 29ms/step - loss: 2156046848.0000\n",
      "Epoch 82/100\n",
      "27/27 [==============================] - 1s 30ms/step - loss: 2149896192.0000\n",
      "Epoch 83/100\n",
      "27/27 [==============================] - 1s 29ms/step - loss: 2144571520.0000\n",
      "Epoch 84/100\n",
      "27/27 [==============================] - 1s 30ms/step - loss: 2138483328.0000\n",
      "Epoch 85/100\n",
      "27/27 [==============================] - 1s 30ms/step - loss: 2132701568.0000\n",
      "Epoch 86/100\n",
      "27/27 [==============================] - 1s 27ms/step - loss: 2127086080.0000\n",
      "Epoch 87/100\n",
      "27/27 [==============================] - 1s 27ms/step - loss: 2122025600.0000\n",
      "Epoch 88/100\n",
      "27/27 [==============================] - 1s 27ms/step - loss: 2115593472.0000\n",
      "Epoch 89/100\n",
      "27/27 [==============================] - 1s 26ms/step - loss: 2110392320.0000\n",
      "Epoch 90/100\n",
      "27/27 [==============================] - 1s 27ms/step - loss: 2104674304.0000\n",
      "Epoch 91/100\n"
     ]
    },
    {
     "name": "stdout",
     "output_type": "stream",
     "text": [
      "27/27 [==============================] - 1s 25ms/step - loss: 2098950016.0000\n",
      "Epoch 92/100\n",
      "27/27 [==============================] - 1s 25ms/step - loss: 2093514752.0000\n",
      "Epoch 93/100\n",
      "27/27 [==============================] - 1s 25ms/step - loss: 2087854592.0000\n",
      "Epoch 94/100\n",
      "27/27 [==============================] - 1s 25ms/step - loss: 2082738560.0000\n",
      "Epoch 95/100\n",
      "27/27 [==============================] - 1s 24ms/step - loss: 2077641472.0000\n",
      "Epoch 96/100\n",
      "27/27 [==============================] - 1s 25ms/step - loss: 2072134656.0000\n",
      "Epoch 97/100\n",
      "27/27 [==============================] - 1s 24ms/step - loss: 2067380096.0000\n",
      "Epoch 98/100\n",
      "27/27 [==============================] - 1s 24ms/step - loss: 2062354304.0000\n",
      "Epoch 99/100\n",
      "27/27 [==============================] - 1s 25ms/step - loss: 2057674624.0000\n",
      "Epoch 100/100\n",
      "27/27 [==============================] - 1s 24ms/step - loss: 2052641664.0000\n"
     ]
    }
   ],
   "source": [
    "model.fit(X_train, y_train, epochs=100, batch_size=5, verbose=1)\n",
    "y_pred = model.predict(X_test)"
   ]
  },
  {
   "cell_type": "code",
   "execution_count": 43,
   "id": "pacific-danger",
   "metadata": {},
   "outputs": [
    {
     "name": "stderr",
     "output_type": "stream",
     "text": [
      "/Users/mardian/Documents/Edinburgh/Notebook/env/lib/python3.9/site-packages/seaborn/_decorators.py:36: FutureWarning: Pass the following variables as keyword args: x, y. From version 0.12, the only valid positional argument will be `data`, and passing other arguments without an explicit keyword will result in an error or misinterpretation.\n",
      "  warnings.warn(\n"
     ]
    },
    {
     "data": {
      "image/png": "[encoded data removed]",
      "text/plain": [
       "<Figure size 432x288 with 1 Axes>"
      ]
     },
     "metadata": {
      "needs_background": "light"
     },
     "output_type": "display_data"
    }
   ],
   "source": [
    "sns.regplot(y_test, y_pred)\n",
    "plt.title('RNN')\n",
    "#plt.xticks(rotation=90)\n",
    "plt.xlabel('Actual')\n",
    "plt.ylabel('Prediction')\n",
    "plt.show()"
   ]
  },
  {
   "cell_type": "code",
   "execution_count": null,
   "id": "musical-meditation",
   "metadata": {},
   "outputs": [],
   "source": []
  }
 ],
 "metadata": {
  "kernelspec": {
   "display_name": "Python 3",
   "language": "python",
   "name": "python3"
  },
  "language_info": {
   "codemirror_mode": {
    "name": "ipython",
    "version": 3
   },
   "file_extension": ".py",
   "mimetype": "text/x-python",
   "name": "python",
   "nbconvert_exporter": "python",
   "pygments_lexer": "ipython3",
   "version": "3.9.2"
  }
 },
 "nbformat": 4,
 "nbformat_minor": 5
}
