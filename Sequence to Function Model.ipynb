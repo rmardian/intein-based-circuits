{
 "cells": [
  {
   "cell_type": "code",
   "execution_count": 91,
   "id": "lightweight-joseph",
   "metadata": {},
   "outputs": [],
   "source": [
    "import numpy as np\n",
    "import pandas as pd\n",
    "import matplotlib.pyplot as plt\n",
    "import seaborn as sns\n",
    "from tqdm import tqdm\n",
    "#import warnings\n",
    "#warnings.filterwarnings(\"ignore\")\n",
    "\n",
    "from sklearn.model_selection import train_test_split\n",
    "from sklearn.feature_extraction.text import CountVectorizer\n",
    "from sklearn.metrics import mean_squared_error\n",
    "from tensorflow.keras.utils import to_categorical\n",
    "from tensorflow.keras.models import Sequential\n",
    "from tensorflow.keras.layers import Conv1D, MaxPooling1D, Dense, Flatten, Dropout, LSTM, Embedding\n",
    "from tensorflow.keras.utils import to_categorical"
   ]
  },
  {
   "cell_type": "code",
   "execution_count": 107,
   "id": "composite-strain",
   "metadata": {},
   "outputs": [],
   "source": [
    "data = pd.read_csv('datasets/sequence_data.csv')\n",
    "protein_data = pd.read_csv('datasets/proteins_data.csv')\n",
    "target = '480'\n",
    "df = data[['short_name', 'sequence', target]]"
   ]
  },
  {
   "cell_type": "code",
   "execution_count": 108,
   "id": "devoted-measurement",
   "metadata": {},
   "outputs": [
    {
     "name": "stderr",
     "output_type": "stream",
     "text": [
      "<ipython-input-108-152366d520b4>:1: SettingWithCopyWarning: \n",
      "A value is trying to be set on a copy of a slice from a DataFrame.\n",
      "Try using .loc[row_indexer,col_indexer] = value instead\n",
      "\n",
      "See the caveats in the documentation: https://pandas.pydata.org/pandas-docs/stable/user_guide/indexing.html#returning-a-view-versus-a-copy\n",
      "  df['ecf'] = df['short_name'].str[:3]\n",
      "<ipython-input-108-152366d520b4>:2: SettingWithCopyWarning: \n",
      "A value is trying to be set on a copy of a slice from a DataFrame.\n",
      "Try using .loc[row_indexer,col_indexer] = value instead\n",
      "\n",
      "See the caveats in the documentation: https://pandas.pydata.org/pandas-docs/stable/user_guide/indexing.html#returning-a-view-versus-a-copy\n",
      "  df['intein'] = df['short_name'].str[6:]\n"
     ]
    },
    {
     "data": {
      "text/plain": [
       "array(['STPhoRadA', 'CthTer', 'gp411', 'NrdA2', 'MjaKlbA', 'NrdJ1',\n",
       "       'TvoVMA', 'NpuSspS1', 'NpuSspS2', 'gp418', 'STIMPDH1', 'SspGyrB',\n",
       "       'TerThyXS1', 'TerThyXS2', 'M86', 'SaPdpol', 'STsSspDnaX', 'M86LS1',\n",
       "       'NpuSspS1LS2', 'STSspDnaXLS7', 'MPMDnaB', 'STSspDnaX',\n",
       "       'STNpuSspS2'], dtype=object)"
      ]
     },
     "execution_count": 108,
     "metadata": {},
     "output_type": "execute_result"
    }
   ],
   "source": [
    "df['ecf'] = df['short_name'].str[:3]\n",
    "df['intein'] = df['short_name'].str[6:]\n",
    "df['intein'].unique()"
   ]
  },
  {
   "cell_type": "code",
   "execution_count": 109,
   "id": "union-surgery",
   "metadata": {},
   "outputs": [
    {
     "data": {
      "text/html": [
       "<div>\n",
       "<style scoped>\n",
       "    .dataframe tbody tr th:only-of-type {\n",
       "        vertical-align: middle;\n",
       "    }\n",
       "\n",
       "    .dataframe tbody tr th {\n",
       "        vertical-align: top;\n",
       "    }\n",
       "\n",
       "    .dataframe thead th {\n",
       "        text-align: right;\n",
       "    }\n",
       "</style>\n",
       "<table border=\"1\" class=\"dataframe\">\n",
       "  <thead>\n",
       "    <tr style=\"text-align: right;\">\n",
       "      <th></th>\n",
       "      <th>short_name</th>\n",
       "      <th>ecf</th>\n",
       "      <th>intein</th>\n",
       "      <th>480</th>\n",
       "      <th>protein_x</th>\n",
       "      <th>n_x</th>\n",
       "      <th>c_x</th>\n",
       "      <th>protein_y</th>\n",
       "      <th>n_y</th>\n",
       "      <th>c_y</th>\n",
       "      <th>protein</th>\n",
       "      <th>len</th>\n",
       "    </tr>\n",
       "  </thead>\n",
       "  <tbody>\n",
       "    <tr>\n",
       "      <th>0</th>\n",
       "      <td>e11x32STPhoRadA</td>\n",
       "      <td>e11</td>\n",
       "      <td>STPhoRadA</td>\n",
       "      <td>73928.80947</td>\n",
       "      <td>e11</td>\n",
       "      <td>MMSDSPQKLGRNEWNAYMDKVKAKDREAFAFVFRFYAPKLKQFAYK...</td>\n",
       "      <td>VDHYSPEQDMLKEQVVKFLDILPKNQRDVLQAVYLEELPHQQVAEL...</td>\n",
       "      <td>STPhoRadA</td>\n",
       "      <td>CFARDTEVYYENDTVPHMESIEEMYSKYASMNGELPFDNGYAVPLD...</td>\n",
       "      <td>RIISKGELEFHEVSSVRIIDYNNWVYDLVIPETHNFIAPNGLVLHN</td>\n",
       "      <td>MMSDSPQKLGRNEWNAYMDKVKAKDREAFAFVFRFYAPKLKQFAYK...</td>\n",
       "      <td>361</td>\n",
       "    </tr>\n",
       "    <tr>\n",
       "      <th>1</th>\n",
       "      <td>e11x32CthTer</td>\n",
       "      <td>e11</td>\n",
       "      <td>CthTer</td>\n",
       "      <td>10937.40800</td>\n",
       "      <td>e11</td>\n",
       "      <td>MMSDSPQKLGRNEWNAYMDKVKAKDREAFAFVFRFYAPKLKQFAYK...</td>\n",
       "      <td>VDHYSPEQDMLKEQVVKFLDILPKNQRDVLQAVYLEELPHQQVAEL...</td>\n",
       "      <td>CthTer</td>\n",
       "      <td>QLALDTPIPTPDGWTTMGEIKAGDKVIDEKGRPCNVVAISEIDDTE...</td>\n",
       "      <td>SHFHYIKSIEKTGKTKMRCIQVDSPSRLYLAGKSMIPTHN</td>\n",
       "      <td>MMSDSPQKLGRNEWNAYMDKVKAKDREAFAFVFRFYAPKLKQFAYK...</td>\n",
       "      <td>339</td>\n",
       "    </tr>\n",
       "    <tr>\n",
       "      <th>2</th>\n",
       "      <td>e11x32gp411</td>\n",
       "      <td>e11</td>\n",
       "      <td>gp411</td>\n",
       "      <td>71332.08320</td>\n",
       "      <td>e11</td>\n",
       "      <td>MMSDSPQKLGRNEWNAYMDKVKAKDREAFAFVFRFYAPKLKQFAYK...</td>\n",
       "      <td>VDHYSPEQDMLKEQVVKFLDILPKNQRDVLQAVYLEELPHQQVAEL...</td>\n",
       "      <td>gp411</td>\n",
       "      <td>CLDLKTQVQTPQGMKEISNIQVGDLVLSNTGYNEVLNVFPKSKKKS...</td>\n",
       "      <td>LKKILKIEELDERELIDIEVSGNHLFYANDILTHN</td>\n",
       "      <td>MMSDSPQKLGRNEWNAYMDKVKAKDREAFAFVFRFYAPKLKQFAYK...</td>\n",
       "      <td>311</td>\n",
       "    </tr>\n",
       "    <tr>\n",
       "      <th>3</th>\n",
       "      <td>e11x32NrdA2</td>\n",
       "      <td>e11</td>\n",
       "      <td>NrdA2</td>\n",
       "      <td>152750.75200</td>\n",
       "      <td>e11</td>\n",
       "      <td>MMSDSPQKLGRNEWNAYMDKVKAKDREAFAFVFRFYAPKLKQFAYK...</td>\n",
       "      <td>VDHYSPEQDMLKEQVVKFLDILPKNQRDVLQAVYLEELPHQQVAEL...</td>\n",
       "      <td>NrdA2</td>\n",
       "      <td>CLTGDAKIDVLIDNIPISQISLEEVVNLFNEGKEIYVLSYNIDTKE...</td>\n",
       "      <td>GLKIIKRESKEPVFDITVKDNSNFFANNILVHN</td>\n",
       "      <td>MMSDSPQKLGRNEWNAYMDKVKAKDREAFAFVFRFYAPKLKQFAYK...</td>\n",
       "      <td>327</td>\n",
       "    </tr>\n",
       "    <tr>\n",
       "      <th>4</th>\n",
       "      <td>e11x33NrdA2</td>\n",
       "      <td>e11</td>\n",
       "      <td>NrdA2</td>\n",
       "      <td>94458.35256</td>\n",
       "      <td>e11</td>\n",
       "      <td>MMSDSPQKLGRNEWNAYMDKVKAKDREAFAFVFRFYAPKLKQFAYK...</td>\n",
       "      <td>VDHYSPEQDMLKEQVVKFLDILPKNQRDVLQAVYLEELPHQQVAEL...</td>\n",
       "      <td>NrdA2</td>\n",
       "      <td>CLTGDAKIDVLIDNIPISQISLEEVVNLFNEGKEIYVLSYNIDTKE...</td>\n",
       "      <td>GLKIIKRESKEPVFDITVKDNSNFFANNILVHN</td>\n",
       "      <td>MMSDSPQKLGRNEWNAYMDKVKAKDREAFAFVFRFYAPKLKQFAYK...</td>\n",
       "      <td>327</td>\n",
       "    </tr>\n",
       "    <tr>\n",
       "      <th>...</th>\n",
       "      <td>...</td>\n",
       "      <td>...</td>\n",
       "      <td>...</td>\n",
       "      <td>...</td>\n",
       "      <td>...</td>\n",
       "      <td>...</td>\n",
       "      <td>...</td>\n",
       "      <td>...</td>\n",
       "      <td>...</td>\n",
       "      <td>...</td>\n",
       "      <td>...</td>\n",
       "      <td>...</td>\n",
       "    </tr>\n",
       "    <tr>\n",
       "      <th>160</th>\n",
       "      <td>e42x30MjaKlbA</td>\n",
       "      <td>e42</td>\n",
       "      <td>MjaKlbA</td>\n",
       "      <td>383.81356</td>\n",
       "      <td>e42</td>\n",
       "      <td>MAATDISALLDTLWRREASRIIGALARQLRDVGLAEELAQDALVAA...</td>\n",
       "      <td>PRGSERHARLASVLEVLYLIFNEGYAASDGDDAQRPALCHEALSLI...</td>\n",
       "      <td>MjaKlbA</td>\n",
       "      <td>ALAYDEPIYLSDGNIINIGEFVDKFFKKYKNSIKKEDNGFGWIDIG...</td>\n",
       "      <td>INLDEVIKVETVDYNGHIYDLTVEDNHTYIAGKNEGFAVSN</td>\n",
       "      <td>MAATDISALLDTLWRREASRIIGALARQLRDVGLAEELAQDALVAA...</td>\n",
       "      <td>585</td>\n",
       "    </tr>\n",
       "    <tr>\n",
       "      <th>161</th>\n",
       "      <td>e42x32NrdJ1</td>\n",
       "      <td>e42</td>\n",
       "      <td>NrdJ1</td>\n",
       "      <td>16723.57320</td>\n",
       "      <td>e42</td>\n",
       "      <td>MAATDISALLDTLWRREASRIIGALARQLRDVGLAEELAQDALVAA...</td>\n",
       "      <td>PRGSERHARLASVLEVLYLIFNEGYAASDGDDAQRPALCHEALSLI...</td>\n",
       "      <td>NrdJ1</td>\n",
       "      <td>CLVGSSEIITRNYGKTTIKEVVEIFDNDKNIQVLAFNTHTDNIEWA...</td>\n",
       "      <td>MEAKTYIGKLKSRKIVSNEDTYDIQTSTHNFFANDILVHN</td>\n",
       "      <td>MAATDISALLDTLWRREASRIIGALARQLRDVGLAEELAQDALVAA...</td>\n",
       "      <td>562</td>\n",
       "    </tr>\n",
       "    <tr>\n",
       "      <th>162</th>\n",
       "      <td>e42x33NrdJ1</td>\n",
       "      <td>e42</td>\n",
       "      <td>NrdJ1</td>\n",
       "      <td>16243.52379</td>\n",
       "      <td>e42</td>\n",
       "      <td>MAATDISALLDTLWRREASRIIGALARQLRDVGLAEELAQDALVAA...</td>\n",
       "      <td>PRGSERHARLASVLEVLYLIFNEGYAASDGDDAQRPALCHEALSLI...</td>\n",
       "      <td>NrdJ1</td>\n",
       "      <td>CLVGSSEIITRNYGKTTIKEVVEIFDNDKNIQVLAFNTHTDNIEWA...</td>\n",
       "      <td>MEAKTYIGKLKSRKIVSNEDTYDIQTSTHNFFANDILVHN</td>\n",
       "      <td>MAATDISALLDTLWRREASRIIGALARQLRDVGLAEELAQDALVAA...</td>\n",
       "      <td>562</td>\n",
       "    </tr>\n",
       "    <tr>\n",
       "      <th>163</th>\n",
       "      <td>e42x32STIMPDH1</td>\n",
       "      <td>e42</td>\n",
       "      <td>STIMPDH1</td>\n",
       "      <td>16415.63696</td>\n",
       "      <td>e42</td>\n",
       "      <td>MAATDISALLDTLWRREASRIIGALARQLRDVGLAEELAQDALVAA...</td>\n",
       "      <td>PRGSERHARLASVLEVLYLIFNEGYAASDGDDAQRPALCHEALSLI...</td>\n",
       "      <td>STIMPDH1</td>\n",
       "      <td>CFVPGTLVNTENGLKKIEEIKVGDKVFSHTGKLQEVVDTLIFDRDE...</td>\n",
       "      <td>MKFKLKEITSIETKHYKGKVHDLTVNQDHSYNVRGTVVHN</td>\n",
       "      <td>MAATDISALLDTLWRREASRIIGALARQLRDVGLAEELAQDALVAA...</td>\n",
       "      <td>558</td>\n",
       "    </tr>\n",
       "    <tr>\n",
       "      <th>164</th>\n",
       "      <td>e42x30SspGyrB</td>\n",
       "      <td>e42</td>\n",
       "      <td>SspGyrB</td>\n",
       "      <td>6653.09420</td>\n",
       "      <td>e42</td>\n",
       "      <td>MAATDISALLDTLWRREASRIIGALARQLRDVGLAEELAQDALVAA...</td>\n",
       "      <td>PRGSERHARLASVLEVLYLIFNEGYAASDGDDAQRPALCHEALSLI...</td>\n",
       "      <td>SspGyrB</td>\n",
       "      <td>CFSGDTLVALTDGRSVSFEQLVEEEKQGKQNFCYTIRHDGSIGVEK...</td>\n",
       "      <td>MEAVLNYNHRIVNIEAVSETIDVYDIEVPHTHNFALASGVFVHN</td>\n",
       "      <td>MAATDISALLDTLWRREASRIIGALARQLRDVGLAEELAQDALVAA...</td>\n",
       "      <td>574</td>\n",
       "    </tr>\n",
       "  </tbody>\n",
       "</table>\n",
       "<p>165 rows × 12 columns</p>\n",
       "</div>"
      ],
      "text/plain": [
       "          short_name  ecf     intein           480 protein_x  \\\n",
       "0    e11x32STPhoRadA  e11  STPhoRadA   73928.80947       e11   \n",
       "1       e11x32CthTer  e11     CthTer   10937.40800       e11   \n",
       "2        e11x32gp411  e11      gp411   71332.08320       e11   \n",
       "3        e11x32NrdA2  e11      NrdA2  152750.75200       e11   \n",
       "4        e11x33NrdA2  e11      NrdA2   94458.35256       e11   \n",
       "..               ...  ...        ...           ...       ...   \n",
       "160    e42x30MjaKlbA  e42    MjaKlbA     383.81356       e42   \n",
       "161      e42x32NrdJ1  e42      NrdJ1   16723.57320       e42   \n",
       "162      e42x33NrdJ1  e42      NrdJ1   16243.52379       e42   \n",
       "163   e42x32STIMPDH1  e42   STIMPDH1   16415.63696       e42   \n",
       "164    e42x30SspGyrB  e42    SspGyrB    6653.09420       e42   \n",
       "\n",
       "                                                   n_x  \\\n",
       "0    MMSDSPQKLGRNEWNAYMDKVKAKDREAFAFVFRFYAPKLKQFAYK...   \n",
       "1    MMSDSPQKLGRNEWNAYMDKVKAKDREAFAFVFRFYAPKLKQFAYK...   \n",
       "2    MMSDSPQKLGRNEWNAYMDKVKAKDREAFAFVFRFYAPKLKQFAYK...   \n",
       "3    MMSDSPQKLGRNEWNAYMDKVKAKDREAFAFVFRFYAPKLKQFAYK...   \n",
       "4    MMSDSPQKLGRNEWNAYMDKVKAKDREAFAFVFRFYAPKLKQFAYK...   \n",
       "..                                                 ...   \n",
       "160  MAATDISALLDTLWRREASRIIGALARQLRDVGLAEELAQDALVAA...   \n",
       "161  MAATDISALLDTLWRREASRIIGALARQLRDVGLAEELAQDALVAA...   \n",
       "162  MAATDISALLDTLWRREASRIIGALARQLRDVGLAEELAQDALVAA...   \n",
       "163  MAATDISALLDTLWRREASRIIGALARQLRDVGLAEELAQDALVAA...   \n",
       "164  MAATDISALLDTLWRREASRIIGALARQLRDVGLAEELAQDALVAA...   \n",
       "\n",
       "                                                   c_x  protein_y  \\\n",
       "0    VDHYSPEQDMLKEQVVKFLDILPKNQRDVLQAVYLEELPHQQVAEL...  STPhoRadA   \n",
       "1    VDHYSPEQDMLKEQVVKFLDILPKNQRDVLQAVYLEELPHQQVAEL...     CthTer   \n",
       "2    VDHYSPEQDMLKEQVVKFLDILPKNQRDVLQAVYLEELPHQQVAEL...      gp411   \n",
       "3    VDHYSPEQDMLKEQVVKFLDILPKNQRDVLQAVYLEELPHQQVAEL...      NrdA2   \n",
       "4    VDHYSPEQDMLKEQVVKFLDILPKNQRDVLQAVYLEELPHQQVAEL...      NrdA2   \n",
       "..                                                 ...        ...   \n",
       "160  PRGSERHARLASVLEVLYLIFNEGYAASDGDDAQRPALCHEALSLI...    MjaKlbA   \n",
       "161  PRGSERHARLASVLEVLYLIFNEGYAASDGDDAQRPALCHEALSLI...      NrdJ1   \n",
       "162  PRGSERHARLASVLEVLYLIFNEGYAASDGDDAQRPALCHEALSLI...      NrdJ1   \n",
       "163  PRGSERHARLASVLEVLYLIFNEGYAASDGDDAQRPALCHEALSLI...   STIMPDH1   \n",
       "164  PRGSERHARLASVLEVLYLIFNEGYAASDGDDAQRPALCHEALSLI...    SspGyrB   \n",
       "\n",
       "                                                   n_y  \\\n",
       "0    CFARDTEVYYENDTVPHMESIEEMYSKYASMNGELPFDNGYAVPLD...   \n",
       "1    QLALDTPIPTPDGWTTMGEIKAGDKVIDEKGRPCNVVAISEIDDTE...   \n",
       "2    CLDLKTQVQTPQGMKEISNIQVGDLVLSNTGYNEVLNVFPKSKKKS...   \n",
       "3    CLTGDAKIDVLIDNIPISQISLEEVVNLFNEGKEIYVLSYNIDTKE...   \n",
       "4    CLTGDAKIDVLIDNIPISQISLEEVVNLFNEGKEIYVLSYNIDTKE...   \n",
       "..                                                 ...   \n",
       "160  ALAYDEPIYLSDGNIINIGEFVDKFFKKYKNSIKKEDNGFGWIDIG...   \n",
       "161  CLVGSSEIITRNYGKTTIKEVVEIFDNDKNIQVLAFNTHTDNIEWA...   \n",
       "162  CLVGSSEIITRNYGKTTIKEVVEIFDNDKNIQVLAFNTHTDNIEWA...   \n",
       "163  CFVPGTLVNTENGLKKIEEIKVGDKVFSHTGKLQEVVDTLIFDRDE...   \n",
       "164  CFSGDTLVALTDGRSVSFEQLVEEEKQGKQNFCYTIRHDGSIGVEK...   \n",
       "\n",
       "                                                c_y  \\\n",
       "0    RIISKGELEFHEVSSVRIIDYNNWVYDLVIPETHNFIAPNGLVLHN   \n",
       "1          SHFHYIKSIEKTGKTKMRCIQVDSPSRLYLAGKSMIPTHN   \n",
       "2               LKKILKIEELDERELIDIEVSGNHLFYANDILTHN   \n",
       "3                 GLKIIKRESKEPVFDITVKDNSNFFANNILVHN   \n",
       "4                 GLKIIKRESKEPVFDITVKDNSNFFANNILVHN   \n",
       "..                                              ...   \n",
       "160       INLDEVIKVETVDYNGHIYDLTVEDNHTYIAGKNEGFAVSN   \n",
       "161        MEAKTYIGKLKSRKIVSNEDTYDIQTSTHNFFANDILVHN   \n",
       "162        MEAKTYIGKLKSRKIVSNEDTYDIQTSTHNFFANDILVHN   \n",
       "163        MKFKLKEITSIETKHYKGKVHDLTVNQDHSYNVRGTVVHN   \n",
       "164    MEAVLNYNHRIVNIEAVSETIDVYDIEVPHTHNFALASGVFVHN   \n",
       "\n",
       "                                               protein  len  \n",
       "0    MMSDSPQKLGRNEWNAYMDKVKAKDREAFAFVFRFYAPKLKQFAYK...  361  \n",
       "1    MMSDSPQKLGRNEWNAYMDKVKAKDREAFAFVFRFYAPKLKQFAYK...  339  \n",
       "2    MMSDSPQKLGRNEWNAYMDKVKAKDREAFAFVFRFYAPKLKQFAYK...  311  \n",
       "3    MMSDSPQKLGRNEWNAYMDKVKAKDREAFAFVFRFYAPKLKQFAYK...  327  \n",
       "4    MMSDSPQKLGRNEWNAYMDKVKAKDREAFAFVFRFYAPKLKQFAYK...  327  \n",
       "..                                                 ...  ...  \n",
       "160  MAATDISALLDTLWRREASRIIGALARQLRDVGLAEELAQDALVAA...  585  \n",
       "161  MAATDISALLDTLWRREASRIIGALARQLRDVGLAEELAQDALVAA...  562  \n",
       "162  MAATDISALLDTLWRREASRIIGALARQLRDVGLAEELAQDALVAA...  562  \n",
       "163  MAATDISALLDTLWRREASRIIGALARQLRDVGLAEELAQDALVAA...  558  \n",
       "164  MAATDISALLDTLWRREASRIIGALARQLRDVGLAEELAQDALVAA...  574  \n",
       "\n",
       "[165 rows x 12 columns]"
      ]
     },
     "execution_count": 109,
     "metadata": {},
     "output_type": "execute_result"
    }
   ],
   "source": [
    "joined = pd.merge(df[['short_name', 'ecf', 'intein', '480']], protein_data, left_on='ecf', right_on='protein', how='left')\n",
    "joined = pd.merge(joined, protein_data, left_on='intein', right_on='protein', how='left')\n",
    "joined['protein'] = joined['n_x'] + joined['n_y'] + joined['c_y'] + joined['c_x']\n",
    "joined['len'] = joined['protein'].apply(lambda x: len(str(x)))\n",
    "#joined[['short_name', 'protein', 'len', '480']]\n",
    "joined"
   ]
  },
  {
   "cell_type": "code",
   "execution_count": 95,
   "id": "exact-prerequisite",
   "metadata": {},
   "outputs": [],
   "source": [
    "df = joined[['short_name', 'protein', 'len', '480']].copy().dropna()"
   ]
  },
  {
   "cell_type": "code",
   "execution_count": 96,
   "id": "rough-reconstruction",
   "metadata": {},
   "outputs": [
    {
     "data": {
      "text/plain": [
       "short_name    0\n",
       "protein       0\n",
       "len           0\n",
       "480           0\n",
       "dtype: int64"
      ]
     },
     "execution_count": 96,
     "metadata": {},
     "output_type": "execute_result"
    }
   ],
   "source": [
    "df.isnull().sum()"
   ]
  },
  {
   "cell_type": "code",
   "execution_count": 97,
   "id": "satisfactory-flooring",
   "metadata": {},
   "outputs": [],
   "source": [
    "def getKmers(sequence, size=3):\n",
    "    return [sequence[x:x+size].lower() for x in range(len(sequence) - size + 1)]\n",
    "df['words'] = df.apply(lambda x: getKmers(str(x['protein'])), axis=1)\n",
    "texts = list(df['words'])\n",
    "for item in range(len(texts)):\n",
    "    texts[item] = ' '.join(texts[item])"
   ]
  },
  {
   "cell_type": "code",
   "execution_count": 98,
   "id": "electrical-divorce",
   "metadata": {},
   "outputs": [],
   "source": [
    "cv = CountVectorizer()\n",
    "X = cv.fit_transform(texts).toarray()\n",
    "y = df[target]\n",
    "num_classes = 3\n",
    "yc = pd.qcut(y, num_classes, labels=False)\n",
    "yh = to_categorical(yc)"
   ]
  },
  {
   "cell_type": "markdown",
   "id": "chinese-denmark",
   "metadata": {},
   "source": [
    "### Convolutional Filters"
   ]
  },
  {
   "cell_type": "code",
   "execution_count": 54,
   "id": "large-consultancy",
   "metadata": {},
   "outputs": [
    {
     "ename": "AttributeError",
     "evalue": "module 'keras.utils.generic_utils' has no attribute 'populate_dict_with_module_objects'",
     "output_type": "error",
     "traceback": [
      "\u001b[0;31m---------------------------------------------------------------------------\u001b[0m",
      "\u001b[0;31mAttributeError\u001b[0m                            Traceback (most recent call last)",
      "\u001b[0;32m<ipython-input-54-4054d181aa62>\u001b[0m in \u001b[0;36m<module>\u001b[0;34m\u001b[0m\n\u001b[1;32m      1\u001b[0m \u001b[0;32mfrom\u001b[0m \u001b[0mtensorflow\u001b[0m\u001b[0;34m.\u001b[0m\u001b[0mkeras\u001b[0m\u001b[0;34m.\u001b[0m\u001b[0mmodels\u001b[0m \u001b[0;32mimport\u001b[0m \u001b[0mModel\u001b[0m\u001b[0;34m,\u001b[0m \u001b[0mSequential\u001b[0m\u001b[0;34m\u001b[0m\u001b[0;34m\u001b[0m\u001b[0m\n\u001b[0;32m----> 2\u001b[0;31m \u001b[0;32mfrom\u001b[0m \u001b[0mkeras\u001b[0m\u001b[0;34m.\u001b[0m\u001b[0mlayers\u001b[0m \u001b[0;32mimport\u001b[0m \u001b[0mDense\u001b[0m\u001b[0;34m,\u001b[0m \u001b[0mFlatten\u001b[0m\u001b[0;34m,\u001b[0m \u001b[0mConv2D\u001b[0m\u001b[0;34m,\u001b[0m \u001b[0mMaxPooling2D\u001b[0m\u001b[0;34m\u001b[0m\u001b[0;34m\u001b[0m\u001b[0m\n\u001b[0m\u001b[1;32m      3\u001b[0m \u001b[0;32mfrom\u001b[0m \u001b[0mkeras\u001b[0m\u001b[0;34m.\u001b[0m\u001b[0mlayers\u001b[0m\u001b[0;34m.\u001b[0m\u001b[0mnormalization\u001b[0m \u001b[0;32mimport\u001b[0m \u001b[0mBatchNormalization\u001b[0m\u001b[0;34m\u001b[0m\u001b[0;34m\u001b[0m\u001b[0m\n",
      "\u001b[0;32m~/Documents/Edinburgh/Notebook/env/lib/python3.9/site-packages/keras/__init__.py\u001b[0m in \u001b[0;36m<module>\u001b[0;34m\u001b[0m\n\u001b[1;32m     18\u001b[0m \u001b[0;32mfrom\u001b[0m \u001b[0;34m.\u001b[0m \u001b[0;32mimport\u001b[0m \u001b[0mcallbacks\u001b[0m\u001b[0;34m\u001b[0m\u001b[0;34m\u001b[0m\u001b[0m\n\u001b[1;32m     19\u001b[0m \u001b[0;32mfrom\u001b[0m \u001b[0;34m.\u001b[0m \u001b[0;32mimport\u001b[0m \u001b[0mconstraints\u001b[0m\u001b[0;34m\u001b[0m\u001b[0;34m\u001b[0m\u001b[0m\n\u001b[0;32m---> 20\u001b[0;31m \u001b[0;32mfrom\u001b[0m \u001b[0;34m.\u001b[0m \u001b[0;32mimport\u001b[0m \u001b[0minitializers\u001b[0m\u001b[0;34m\u001b[0m\u001b[0;34m\u001b[0m\u001b[0m\n\u001b[0m\u001b[1;32m     21\u001b[0m \u001b[0;32mfrom\u001b[0m \u001b[0;34m.\u001b[0m \u001b[0;32mimport\u001b[0m \u001b[0mmetrics\u001b[0m\u001b[0;34m\u001b[0m\u001b[0;34m\u001b[0m\u001b[0m\n\u001b[1;32m     22\u001b[0m \u001b[0;32mfrom\u001b[0m \u001b[0;34m.\u001b[0m \u001b[0;32mimport\u001b[0m \u001b[0mmodels\u001b[0m\u001b[0;34m\u001b[0m\u001b[0;34m\u001b[0m\u001b[0m\n",
      "\u001b[0;32m~/Documents/Edinburgh/Notebook/env/lib/python3.9/site-packages/keras/initializers/__init__.py\u001b[0m in \u001b[0;36m<module>\u001b[0;34m\u001b[0m\n\u001b[1;32m    122\u001b[0m \u001b[0;31m# from ALL_OBJECTS. We make no guarantees as to whether these objects will\u001b[0m\u001b[0;34m\u001b[0m\u001b[0;34m\u001b[0m\u001b[0;34m\u001b[0m\u001b[0m\n\u001b[1;32m    123\u001b[0m \u001b[0;31m# using their correct version.\u001b[0m\u001b[0;34m\u001b[0m\u001b[0;34m\u001b[0m\u001b[0;34m\u001b[0m\u001b[0m\n\u001b[0;32m--> 124\u001b[0;31m \u001b[0mpopulate_deserializable_objects\u001b[0m\u001b[0;34m(\u001b[0m\u001b[0;34m)\u001b[0m\u001b[0;34m\u001b[0m\u001b[0;34m\u001b[0m\u001b[0m\n\u001b[0m\u001b[1;32m    125\u001b[0m \u001b[0mglobals\u001b[0m\u001b[0;34m(\u001b[0m\u001b[0;34m)\u001b[0m\u001b[0;34m.\u001b[0m\u001b[0mupdate\u001b[0m\u001b[0;34m(\u001b[0m\u001b[0mLOCAL\u001b[0m\u001b[0;34m.\u001b[0m\u001b[0mALL_OBJECTS\u001b[0m\u001b[0;34m)\u001b[0m\u001b[0;34m\u001b[0m\u001b[0;34m\u001b[0m\u001b[0m\n\u001b[1;32m    126\u001b[0m \u001b[0;34m\u001b[0m\u001b[0m\n",
      "\u001b[0;32m~/Documents/Edinburgh/Notebook/env/lib/python3.9/site-packages/keras/initializers/__init__.py\u001b[0m in \u001b[0;36mpopulate_deserializable_objects\u001b[0;34m()\u001b[0m\n\u001b[1;32m     80\u001b[0m     \u001b[0mv2_objs\u001b[0m \u001b[0;34m=\u001b[0m \u001b[0;34m{\u001b[0m\u001b[0;34m}\u001b[0m\u001b[0;34m\u001b[0m\u001b[0;34m\u001b[0m\u001b[0m\n\u001b[1;32m     81\u001b[0m     \u001b[0mbase_cls\u001b[0m \u001b[0;34m=\u001b[0m \u001b[0minitializers_v2\u001b[0m\u001b[0;34m.\u001b[0m\u001b[0mInitializer\u001b[0m\u001b[0;34m\u001b[0m\u001b[0;34m\u001b[0m\u001b[0m\n\u001b[0;32m---> 82\u001b[0;31m     generic_utils.populate_dict_with_module_objects(\n\u001b[0m\u001b[1;32m     83\u001b[0m         \u001b[0mv2_objs\u001b[0m\u001b[0;34m,\u001b[0m\u001b[0;34m\u001b[0m\u001b[0;34m\u001b[0m\u001b[0m\n\u001b[1;32m     84\u001b[0m         \u001b[0;34m[\u001b[0m\u001b[0minitializers_v2\u001b[0m\u001b[0;34m]\u001b[0m\u001b[0;34m,\u001b[0m\u001b[0;34m\u001b[0m\u001b[0;34m\u001b[0m\u001b[0m\n",
      "\u001b[0;31mAttributeError\u001b[0m: module 'keras.utils.generic_utils' has no attribute 'populate_dict_with_module_objects'"
     ]
    }
   ],
   "source": [
    "from tensorflow.keras.models import Model, Sequential\n",
    "from keras.layers import Dense, Flatten, Conv2D, MaxPooling2D\n",
    "from keras.layers.normalization import BatchNormalization"
   ]
  },
  {
   "cell_type": "code",
   "execution_count": 55,
   "id": "respective-constraint",
   "metadata": {},
   "outputs": [
    {
     "ename": "NameError",
     "evalue": "name 'Conv2D' is not defined",
     "output_type": "error",
     "traceback": [
      "\u001b[0;31m---------------------------------------------------------------------------\u001b[0m",
      "\u001b[0;31mNameError\u001b[0m                                 Traceback (most recent call last)",
      "\u001b[0;32m<ipython-input-55-dffee235af8a>\u001b[0m in \u001b[0;36m<module>\u001b[0;34m\u001b[0m\n\u001b[1;32m      2\u001b[0m \u001b[0;34m\u001b[0m\u001b[0m\n\u001b[1;32m      3\u001b[0m \u001b[0mfeature_extractor\u001b[0m \u001b[0;34m=\u001b[0m \u001b[0mSequential\u001b[0m\u001b[0;34m(\u001b[0m\u001b[0;34m)\u001b[0m\u001b[0;34m\u001b[0m\u001b[0;34m\u001b[0m\u001b[0m\n\u001b[0;32m----> 4\u001b[0;31m \u001b[0mfeature_extractor\u001b[0m\u001b[0;34m.\u001b[0m\u001b[0madd\u001b[0m\u001b[0;34m(\u001b[0m\u001b[0mConv2D\u001b[0m\u001b[0;34m(\u001b[0m\u001b[0;36m32\u001b[0m\u001b[0;34m,\u001b[0m \u001b[0;36m3\u001b[0m\u001b[0;34m,\u001b[0m \u001b[0mactivation\u001b[0m \u001b[0;34m=\u001b[0m \u001b[0mactivation\u001b[0m\u001b[0;34m,\u001b[0m \u001b[0mpadding\u001b[0m \u001b[0;34m=\u001b[0m \u001b[0;34m'same'\u001b[0m\u001b[0;34m,\u001b[0m \u001b[0minput_shape\u001b[0m \u001b[0;34m=\u001b[0m \u001b[0;34m(\u001b[0m\u001b[0mSIZE\u001b[0m\u001b[0;34m,\u001b[0m \u001b[0mSIZE\u001b[0m\u001b[0;34m,\u001b[0m \u001b[0;36m3\u001b[0m\u001b[0;34m)\u001b[0m\u001b[0;34m)\u001b[0m\u001b[0;34m)\u001b[0m\u001b[0;34m\u001b[0m\u001b[0;34m\u001b[0m\u001b[0m\n\u001b[0m\u001b[1;32m      5\u001b[0m \u001b[0mfeature_extractor\u001b[0m\u001b[0;34m.\u001b[0m\u001b[0madd\u001b[0m\u001b[0;34m(\u001b[0m\u001b[0mBatchNormalization\u001b[0m\u001b[0;34m(\u001b[0m\u001b[0;34m)\u001b[0m\u001b[0;34m)\u001b[0m\u001b[0;34m\u001b[0m\u001b[0;34m\u001b[0m\u001b[0m\n\u001b[1;32m      6\u001b[0m \u001b[0;34m\u001b[0m\u001b[0m\n",
      "\u001b[0;31mNameError\u001b[0m: name 'Conv2D' is not defined"
     ]
    }
   ],
   "source": [
    "activation = 'sigmoid'\n",
    "\n",
    "feature_extractor = Sequential()\n",
    "feature_extractor.add(Conv2D(32, 3, activation = activation, padding = 'same', input_shape = (SIZE, SIZE, 3)))\n",
    "feature_extractor.add(BatchNormalization())\n",
    "\n",
    "feature_extractor.add(Conv2D(32, 3, activation = activation, padding = 'same', kernel_initializer = 'he_uniform'))\n",
    "feature_extractor.add(BatchNormalization())\n",
    "feature_extractor.add(MaxPooling2D())\n",
    "\n",
    "feature_extractor.add(Conv2D(64, 3, activation = activation, padding = 'same', kernel_initializer = 'he_uniform'))\n",
    "feature_extractor.add(BatchNormalization())\n",
    "\n",
    "feature_extractor.add(Conv2D(64, 3, activation = activation, padding = 'same', kernel_initializer = 'he_uniform'))\n",
    "feature_extractor.add(BatchNormalization())\n",
    "feature_extractor.add(MaxPooling2D())\n",
    "\n",
    "feature_extractor.add(Flatten())"
   ]
  },
  {
   "cell_type": "code",
   "execution_count": 99,
   "id": "protective-cooperation",
   "metadata": {},
   "outputs": [
    {
     "name": "stdout",
     "output_type": "stream",
     "text": [
      "(126, 2890, 1) (32, 2890, 1) (126, 1) (32, 1)\n"
     ]
    }
   ],
   "source": [
    "X_train, X_test, y_train, y_test = train_test_split(X, y, test_size=0.2)\n",
    "\n",
    "#reshape\n",
    "X_train = X_train.reshape((X_train.shape[0], X_train.shape[1], 1))\n",
    "X_test = X_test.reshape((X_test.shape[0], X_test.shape[1], 1))\n",
    "y_train = y_train.values.reshape((y_train.shape[0], 1))\n",
    "y_test = y_test.values.reshape((y_test.shape[0], 1))\n",
    "\n",
    "print(X_train.shape, X_test.shape, y_train.shape, y_test.shape)"
   ]
  },
  {
   "cell_type": "code",
   "execution_count": 100,
   "id": "electric-houston",
   "metadata": {},
   "outputs": [],
   "source": [
    "verbose, epochs, batch_size = 0, 5, 100\n",
    "n_timesteps, n_features, n_outputs = X_train.shape[1], 1, y_train.shape[1]\n",
    "model = Sequential()\n",
    "model.add(Conv1D(filters=64, kernel_size=3, activation='relu', input_shape=(n_timesteps, n_features)))\n",
    "model.add(Conv1D(filters=64, kernel_size=3, activation='relu'))\n",
    "model.add(Dropout(0.5))\n",
    "model.add(MaxPooling1D(pool_size=2))\n",
    "model.add(Flatten())"
   ]
  },
  {
   "cell_type": "code",
   "execution_count": 101,
   "id": "timely-north",
   "metadata": {},
   "outputs": [],
   "source": [
    "from sklearn.ensemble import RandomForestClassifier, RandomForestRegressor\n",
    "from sklearn.svm import SVR\n",
    "RF_model = RandomForestRegressor(n_estimators=100)\n",
    "SVR_model = SVR()\n",
    "\n",
    "X_for_RF = model.predict(X_train)\n",
    "X_for_SVR = model.predict(X_train)"
   ]
  },
  {
   "cell_type": "code",
   "execution_count": 102,
   "id": "optical-ceramic",
   "metadata": {},
   "outputs": [
    {
     "data": {
      "text/plain": [
       "RandomForestRegressor()"
      ]
     },
     "execution_count": 102,
     "metadata": {},
     "output_type": "execute_result"
    }
   ],
   "source": [
    "RF_model.fit(X_for_SVR, y_train.reshape(1, -1)[0])"
   ]
  },
  {
   "cell_type": "code",
   "execution_count": 103,
   "id": "jewish-migration",
   "metadata": {},
   "outputs": [],
   "source": [
    "X_test_feature = model.predict(X_test)\n",
    "prediction_RF = RF_model.predict(X_test_feature)"
   ]
  },
  {
   "cell_type": "code",
   "execution_count": 104,
   "id": "vertical-shooting",
   "metadata": {},
   "outputs": [
    {
     "data": {
      "text/plain": [
       "0.23619747318701956"
      ]
     },
     "execution_count": 104,
     "metadata": {},
     "output_type": "execute_result"
    }
   ],
   "source": [
    "from sklearn.metrics import accuracy_score, r2_score\n",
    "r2_score(y_test, prediction_RF)"
   ]
  },
  {
   "cell_type": "code",
   "execution_count": 105,
   "id": "behind-stockholm",
   "metadata": {},
   "outputs": [
    {
     "name": "stderr",
     "output_type": "stream",
     "text": [
      "/Users/mardian/Documents/Edinburgh/Notebook/env/lib/python3.9/site-packages/seaborn/_decorators.py:36: FutureWarning: Pass the following variables as keyword args: x, y. From version 0.12, the only valid positional argument will be `data`, and passing other arguments without an explicit keyword will result in an error or misinterpretation.\n",
      "  warnings.warn(\n"
     ]
    },
    {
     "data": {
      "text/plain": [
       "Text(0, 0.5, 'Fluo at 8H (prediction)')"
      ]
     },
     "execution_count": 105,
     "metadata": {},
     "output_type": "execute_result"
    },
    {
     "data": {
      "image/png": "[encoded data removed]",
      "text/plain": [
       "<Figure size 432x288 with 1 Axes>"
      ]
     },
     "metadata": {
      "needs_background": "light"
     },
     "output_type": "display_data"
    }
   ],
   "source": [
    "sns.regplot(y_test, prediction_RF)\n",
    "#plt.xlim([0, 80000])\n",
    "#plt.ylim([0, 80000])\n",
    "plt.xlabel('Fluo at 8H (experiment)')\n",
    "plt.ylabel('Fluo at 8H (prediction)')"
   ]
  },
  {
   "cell_type": "code",
   "execution_count": 69,
   "id": "charitable-accessory",
   "metadata": {},
   "outputs": [
    {
     "name": "stderr",
     "output_type": "stream",
     "text": [
      "/Users/mardian/Documents/Edinburgh/Notebook/env/lib/python3.9/site-packages/seaborn/distributions.py:2557: FutureWarning: `distplot` is a deprecated function and will be removed in a future version. Please adapt your code to use either `displot` (a figure-level function with similar flexibility) or `histplot` (an axes-level function for histograms).\n",
      "  warnings.warn(msg, FutureWarning)\n"
     ]
    },
    {
     "data": {
      "text/plain": [
       "Text(0.5, 0, 'sequence length')"
      ]
     },
     "execution_count": 69,
     "metadata": {},
     "output_type": "execute_result"
    },
    {
     "data": {
      "image/png": "[encoded data removed]",
      "text/plain": [
       "<Figure size 432x288 with 1 Axes>"
      ]
     },
     "metadata": {
      "needs_background": "light"
     },
     "output_type": "display_data"
    }
   ],
   "source": [
    "sns.distplot(df['len'])\n",
    "plt.xlabel('sequence length')"
   ]
  },
  {
   "cell_type": "code",
   "execution_count": null,
   "id": "substantial-auckland",
   "metadata": {},
   "outputs": [],
   "source": [
    "activation = 'sigmoid'\n",
    "\n",
    "feature_extractor = Sequential()\n",
    "feature_extractor.add(Conv2D(32, 3, activation = activation, padding = 'same', input_shape = (SIZE, SIZE, 3)))\n",
    "feature_extractor.add(BatchNormalization())\n",
    "\n",
    "feature_extractor.add(Conv2D(32, 3, activation = activation, padding = 'same', kernel_initializer = 'he_uniform'))\n",
    "feature_extractor.add(BatchNormalization())\n",
    "feature_extractor.add(MaxPooling2D())\n",
    "\n",
    "feature_extractor.add(Conv2D(64, 3, activation = activation, padding = 'same', kernel_initializer = 'he_uniform'))\n",
    "feature_extractor.add(BatchNormalization())\n",
    "\n",
    "feature_extractor.add(Conv2D(64, 3, activation = activation, padding = 'same', kernel_initializer = 'he_uniform'))\n",
    "feature_extractor.add(BatchNormalization())\n",
    "feature_extractor.add(MaxPooling2D())\n",
    "\n",
    "feature_extractor.add(Flatten())"
   ]
  },
  {
   "cell_type": "code",
   "execution_count": null,
   "id": "exempt-maldives",
   "metadata": {},
   "outputs": [],
   "source": []
  },
  {
   "cell_type": "code",
   "execution_count": null,
   "id": "essential-scale",
   "metadata": {},
   "outputs": [],
   "source": []
  },
  {
   "cell_type": "markdown",
   "id": "dominant-mortgage",
   "metadata": {},
   "source": [
    "### Classification"
   ]
  },
  {
   "cell_type": "markdown",
   "id": "blank-removal",
   "metadata": {},
   "source": [
    "#### Multi-layer Perceptrons"
   ]
  },
  {
   "cell_type": "code",
   "execution_count": null,
   "id": "decreased-democracy",
   "metadata": {},
   "outputs": [],
   "source": [
    "X_train, X_test, y_train, y_test = train_test_split(X, yh, test_size=0.2, random_state=42)\n",
    "print(X_train.shape, X_test.shape, y_train.shape, y_test.shape)"
   ]
  },
  {
   "cell_type": "code",
   "execution_count": null,
   "id": "indian-unknown",
   "metadata": {},
   "outputs": [],
   "source": [
    "model = Sequential()\n",
    "model.add(Dense(100, activation='relu', input_dim=X_train.shape[1]))\n",
    "model.add(Dense(y_train.shape[1], activation='sigmoid'))\n",
    "\n",
    "model.compile(loss='binary_crossentropy', optimizer='adam', metrics = ['accuracy'])\n",
    "model.summary()"
   ]
  },
  {
   "cell_type": "code",
   "execution_count": null,
   "id": "incomplete-jenny",
   "metadata": {},
   "outputs": [],
   "source": [
    "history = model.fit(X_train, y_train, batch_size=100, epochs=10)"
   ]
  },
  {
   "cell_type": "code",
   "execution_count": null,
   "id": "structural-detection",
   "metadata": {},
   "outputs": [],
   "source": [
    "_, acc = model.evaluate(X_test, y_test, verbose=1)\n",
    "print(\"accuracy = \" + str(acc))"
   ]
  },
  {
   "cell_type": "markdown",
   "id": "downtown-condition",
   "metadata": {},
   "source": [
    "#### CNN"
   ]
  },
  {
   "cell_type": "code",
   "execution_count": null,
   "id": "moral-fusion",
   "metadata": {},
   "outputs": [],
   "source": [
    "X_train, X_test, y_train, y_test = train_test_split(X, yc, test_size=0.2, random_state=42)\n",
    "\n",
    "#reshape\n",
    "X_train = X_train.reshape((X_train.shape[0], X_train.shape[1], 1))\n",
    "X_test = X_test.reshape((X_test.shape[0], X_test.shape[1], 1))\n",
    "y_train = y_train.values.reshape((y_train.shape[0], 1))\n",
    "y_test = y_test.values.reshape((y_test.shape[0], 1))\n",
    "\n",
    "print(X_train.shape, X_test.shape, y_train.shape, y_test.shape)"
   ]
  },
  {
   "cell_type": "code",
   "execution_count": null,
   "id": "lined-workstation",
   "metadata": {},
   "outputs": [],
   "source": [
    "verbose, epochs, batch_size = 0, 5, 100\n",
    "n_timesteps, n_features, n_outputs = X_train.shape[1], 1, y_train.shape[1]\n",
    "model = Sequential()\n",
    "model.add(Conv1D(filters=64, kernel_size=3, activation='relu', input_shape=(n_timesteps, n_features)))\n",
    "model.add(Conv1D(filters=64, kernel_size=3, activation='relu'))\n",
    "model.add(Dropout(0.5))\n",
    "model.add(MaxPooling1D(pool_size=2))\n",
    "model.add(Flatten())\n",
    "model.add(Dense(100, activation='relu'))\n",
    "model.add(Dense(n_outputs, activation='sigmoid'))\n",
    "model.compile(loss='categorical_crossentropy', optimizer='adam', metrics=['accuracy'])\n",
    "model.summary()"
   ]
  },
  {
   "cell_type": "code",
   "execution_count": null,
   "id": "contained-netscape",
   "metadata": {},
   "outputs": [],
   "source": [
    "model.fit(X_train, y_train, epochs=epochs, batch_size=batch_size, verbose=1)\n",
    "_, accuracy = model.evaluate(X_test, y_test, verbose=0)\n",
    "accuracy"
   ]
  },
  {
   "cell_type": "markdown",
   "id": "excessive-lexington",
   "metadata": {},
   "source": [
    "#### RNN"
   ]
  },
  {
   "cell_type": "code",
   "execution_count": null,
   "id": "naked-storm",
   "metadata": {},
   "outputs": [],
   "source": [
    "X_train, X_test, y_train, y_test = train_test_split(X, yc, test_size=0.2, random_state=42)\n",
    "\n",
    "#reshape\n",
    "X_train = X_train.reshape((X_train.shape[0], X_train.shape[1], 1))\n",
    "X_test = X_test.reshape((X_test.shape[0], X_test.shape[1], 1))\n",
    "y_train = y_train.values.reshape((y_train.shape[0], 1))\n",
    "y_test = y_test.values.reshape((y_test.shape[0], 1))\n",
    "\n",
    "print(X_train.shape, X_test.shape, y_train.shape, y_test.shape)"
   ]
  },
  {
   "cell_type": "code",
   "execution_count": null,
   "id": "accepting-multiple",
   "metadata": {},
   "outputs": [],
   "source": [
    "model = Sequential()\n",
    "'''\n",
    "top_words = 5000\n",
    "max_review_length = 500\n",
    "embedding_vecor_length = 32\n",
    "model.add(Embedding(top_words, embedding_vecor_length, input_length=max_review_length))\n",
    "'''\n",
    "model.add(LSTM(64, input_shape=(n_timesteps, n_features)))\n",
    "model.add(Dense(64, activation=\"relu\"))\n",
    "model.add(Dense(1, activation=\"sigmoid\"))\n",
    "#model.add(Dense(100, activation='relu', input_dim=X_train.shape[1]))\n",
    "#model.add(Dense(y_train.shape[1], activation='sigmoid'))\n",
    "model.compile(loss='categorical_crossentropy', optimizer='adam', metrics = ['accuracy'])\n",
    "model.summary()"
   ]
  },
  {
   "cell_type": "code",
   "execution_count": null,
   "id": "awful-production",
   "metadata": {},
   "outputs": [],
   "source": [
    "model.fit(X_train, y_train, epochs=epochs, batch_size=batch_size, verbose=1)\n",
    "_, accuracy = model.evaluate(X_test, y_test, verbose=0)\n",
    "accuracy"
   ]
  },
  {
   "cell_type": "markdown",
   "id": "corresponding-truth",
   "metadata": {},
   "source": [
    "### Regression"
   ]
  },
  {
   "cell_type": "markdown",
   "id": "robust-forestry",
   "metadata": {},
   "source": [
    "#### CNN"
   ]
  },
  {
   "cell_type": "code",
   "execution_count": null,
   "id": "computational-spanish",
   "metadata": {},
   "outputs": [],
   "source": [
    "X_train, X_test, y_train, y_test = train_test_split(X, y, test_size=0.2)\n",
    "\n",
    "#reshape\n",
    "X_train = X_train.reshape((X_train.shape[0], X_train.shape[1], 1))\n",
    "X_test = X_test.reshape((X_test.shape[0], X_test.shape[1], 1))\n",
    "y_train = y_train.values.reshape((y_train.shape[0], 1))\n",
    "y_test = y_test.values.reshape((y_test.shape[0], 1))\n",
    "\n",
    "print(X_train.shape, X_test.shape, y_train.shape, y_test.shape)"
   ]
  },
  {
   "cell_type": "code",
   "execution_count": null,
   "id": "elder-primary",
   "metadata": {},
   "outputs": [],
   "source": [
    "verbose, epochs, batch_size = 0, 5, 100\n",
    "n_timesteps, n_features, n_outputs = X_train.shape[1], 1, y_train.shape[1]\n",
    "model = Sequential()\n",
    "model.add(Conv1D(filters=64, kernel_size=3, activation='relu', input_shape=(n_timesteps, n_features)))\n",
    "model.add(Conv1D(filters=64, kernel_size=3, activation='relu'))\n",
    "model.add(Dropout(0.5))\n",
    "model.add(MaxPooling1D(pool_size=2))\n",
    "model.add(Flatten())\n",
    "model.add(Dense(100, activation='relu'))\n",
    "model.add(Dense(n_outputs))\n",
    "model.compile(loss='mean_squared_error', optimizer='adam')\n",
    "model.summary()"
   ]
  },
  {
   "cell_type": "code",
   "execution_count": null,
   "id": "acquired-parent",
   "metadata": {},
   "outputs": [],
   "source": [
    "model.fit(X_train, y_train, epochs=100, batch_size=5, verbose=1)\n",
    "y_pred = model.predict(X_test)"
   ]
  },
  {
   "cell_type": "code",
   "execution_count": null,
   "id": "integral-depth",
   "metadata": {},
   "outputs": [],
   "source": [
    "#plt.scatter(y_test, y_pred)\n",
    "#plt.axhline(y=0, color='r', linestyle='-')\n",
    "sns.regplot(y_test, y_pred)\n",
    "plt.title('cNN')\n",
    "#plt.xticks(rotation=90)\n",
    "plt.xlabel('Actual')\n",
    "plt.ylabel('Prediction')\n",
    "plt.show()"
   ]
  },
  {
   "cell_type": "code",
   "execution_count": null,
   "id": "confirmed-manitoba",
   "metadata": {},
   "outputs": [],
   "source": [
    "ev = pd.DataFrame([y_test.ravel(), y_pred.ravel()]).T\n",
    "ev.columns = ['test', 'pred']\n",
    "ev[ev['pred']<15000].corr()"
   ]
  },
  {
   "cell_type": "code",
   "execution_count": null,
   "id": "completed-european",
   "metadata": {},
   "outputs": [],
   "source": [
    "sns.regplot(ev[ev['pred']<15000].test, ev[ev['pred']<15000].pred)"
   ]
  },
  {
   "cell_type": "code",
   "execution_count": null,
   "id": "transsexual-adapter",
   "metadata": {},
   "outputs": [],
   "source": [
    "y_pred[y_pred>15250]"
   ]
  },
  {
   "cell_type": "code",
   "execution_count": null,
   "id": "prospective-aruba",
   "metadata": {},
   "outputs": [],
   "source": [
    "pd.DataFrame([y_test.ravel(), y_pred.ravel()]).T.corr()"
   ]
  },
  {
   "cell_type": "markdown",
   "id": "liked-bacon",
   "metadata": {},
   "source": [
    "#### RNN"
   ]
  },
  {
   "cell_type": "code",
   "execution_count": null,
   "id": "guided-audit",
   "metadata": {},
   "outputs": [],
   "source": [
    "X_train, X_test, y_train, y_test = train_test_split(X, y, test_size=0.2)\n",
    "\n",
    "#reshape\n",
    "X_train = X_train.reshape((X_train.shape[0], X_train.shape[1], 1))\n",
    "X_test = X_test.reshape((X_test.shape[0], X_test.shape[1], 1))\n",
    "y_train = y_train.values.reshape((y_train.shape[0], 1))\n",
    "y_test = y_test.values.reshape((y_test.shape[0], 1))\n",
    "\n",
    "print(X_train.shape, X_test.shape, y_train.shape, y_test.shape)"
   ]
  },
  {
   "cell_type": "code",
   "execution_count": null,
   "id": "cross-cylinder",
   "metadata": {},
   "outputs": [],
   "source": [
    "model = Sequential()\n",
    "model.add(LSTM(64, input_shape=(n_timesteps, n_features)))\n",
    "model.add(Dense(64, activation=\"relu\"))\n",
    "model.add(Dense(n_outputs))\n",
    "model.compile(loss='mean_squared_error', optimizer='adam')\n",
    "model.summary()"
   ]
  },
  {
   "cell_type": "code",
   "execution_count": null,
   "id": "hourly-commission",
   "metadata": {},
   "outputs": [],
   "source": [
    "model.fit(X_train, y_train, epochs=100, batch_size=5, verbose=1)\n",
    "y_pred = model.predict(X_test)"
   ]
  },
  {
   "cell_type": "code",
   "execution_count": null,
   "id": "pacific-danger",
   "metadata": {},
   "outputs": [],
   "source": [
    "sns.regplot(y_test, y_pred)\n",
    "plt.title('RNN')\n",
    "#plt.xticks(rotation=90)\n",
    "plt.xlabel('Actual')\n",
    "plt.ylabel('Prediction')\n",
    "plt.show()"
   ]
  },
  {
   "cell_type": "code",
   "execution_count": null,
   "id": "musical-meditation",
   "metadata": {},
   "outputs": [],
   "source": []
  }
 ],
 "metadata": {
  "kernelspec": {
   "display_name": "Python 3",
   "language": "python",
   "name": "python3"
  },
  "language_info": {
   "codemirror_mode": {
    "name": "ipython",
    "version": 3
   },
   "file_extension": ".py",
   "mimetype": "text/x-python",
   "name": "python",
   "nbconvert_exporter": "python",
   "pygments_lexer": "ipython3",
   "version": "3.9.2"
  }
 },
 "nbformat": 4,
 "nbformat_minor": 5
}
