{
 "cells": [
  {
   "cell_type": "code",
   "execution_count": 120,
   "id": "fifth-communication",
   "metadata": {},
   "outputs": [],
   "source": [
    "import numpy as np\n",
    "import pandas as pd\n",
    "import matplotlib.pyplot as plt\n",
    "import seaborn as sns\n",
    "\n",
    "from sklearn.linear_model import Ridge, Lasso, LinearRegression, SGDRegressor\n",
    "from sklearn.svm import SVR\n",
    "from sklearn.neighbors import KNeighborsRegressor\n",
    "from sklearn.tree import DecisionTreeRegressor\n",
    "from sklearn.ensemble import RandomForestClassifier, RandomForestRegressor, GradientBoostingRegressor\n",
    "from sklearn.neural_network import MLPRegressor\n",
    "from sklearn.metrics import mean_squared_error, r2_score, accuracy_score, f1_score\n",
    "from sklearn.model_selection import train_test_split\n",
    "from sklearn.preprocessing import StandardScaler, MinMaxScaler\n",
    "from sklearn.model_selection import cross_validate\n",
    "from sklearn.multioutput import MultiOutputClassifier\n",
    "from sklearn.metrics import mean_absolute_percentage_error"
   ]
  },
  {
   "cell_type": "code",
   "execution_count": 2,
   "id": "wooden-furniture",
   "metadata": {},
   "outputs": [],
   "source": [
    "rnafold = pd.read_csv('datasets/rnacofold.csv')#[['crRNA', 'tracrRNA', 'fluo_8h']]\n",
    "rnafold['sequence'] = rnafold['crRNA'] + rnafold['tracrRNA']\n",
    "#rnafold = rnafold[['sequence', 'fluo_8h']]\n",
    "#rnafold"
   ]
  },
  {
   "cell_type": "code",
   "execution_count": 3,
   "id": "promising-deposit",
   "metadata": {},
   "outputs": [],
   "source": [
    "add_col = ['MFE', 'free_energy_thermodynamic_ensemble', 'frequency_MFR_structures', 'delta_G', \\\n",
    "           'GC_content', 'GC_7bp', 'percent_match_no_spacer', 'percent_match_with_spacer', 'homology']"
   ]
  },
  {
   "cell_type": "code",
   "execution_count": 4,
   "id": "electrical-divorce",
   "metadata": {},
   "outputs": [],
   "source": [
    "def getKmers(sequence, size=3):\n",
    "    return [sequence[x:x+size].lower() for x in range(len(sequence) - size + 1)]"
   ]
  },
  {
   "cell_type": "code",
   "execution_count": 5,
   "id": "lightweight-mirror",
   "metadata": {},
   "outputs": [],
   "source": [
    "rnafold['words'] = rnafold.apply(lambda x: getKmers(x['sequence']), axis=1)"
   ]
  },
  {
   "cell_type": "code",
   "execution_count": 6,
   "id": "signed-butterfly",
   "metadata": {},
   "outputs": [
    {
     "data": {
      "text/plain": [
       "0     68759.32\n",
       "1     23483.95\n",
       "2       814.91\n",
       "3     67539.29\n",
       "4     55101.14\n",
       "        ...   \n",
       "85    70345.84\n",
       "86    20478.49\n",
       "87    65102.68\n",
       "88    54328.28\n",
       "89    60482.51\n",
       "Name: fluo_8h, Length: 90, dtype: float64"
      ]
     },
     "execution_count": 6,
     "metadata": {},
     "output_type": "execute_result"
    }
   ],
   "source": [
    "y = rnafold['fluo_8h']\n",
    "y"
   ]
  },
  {
   "cell_type": "code",
   "execution_count": 139,
   "id": "collectible-cotton",
   "metadata": {},
   "outputs": [],
   "source": [
    "yc = to_categorical(pd.qcut(y, 3, labels=False))"
   ]
  },
  {
   "cell_type": "code",
   "execution_count": 140,
   "id": "egyptian-positive",
   "metadata": {},
   "outputs": [],
   "source": [
    "texts = list(rnafold['words'])\n",
    "for item in range(len(texts)):\n",
    "    texts[item] = ' '.join(texts[item])"
   ]
  },
  {
   "cell_type": "code",
   "execution_count": 141,
   "id": "saving-problem",
   "metadata": {},
   "outputs": [],
   "source": [
    "from sklearn.feature_extraction.text import CountVectorizer\n",
    "cv = CountVectorizer(ngram_range=(2, 2))\n",
    "X = cv.fit_transform(texts)\n",
    "X1 = pd.concat([pd.DataFrame(X.toarray()), rnafold[add_col]], axis=1)\n",
    "X2 = rnafold[add_col]"
   ]
  },
  {
   "cell_type": "code",
   "execution_count": 142,
   "id": "employed-rebate",
   "metadata": {},
   "outputs": [],
   "source": [
    "X_train, X_test, y_train, y_test = train_test_split(X, yc, test_size=0.2)"
   ]
  },
  {
   "cell_type": "code",
   "execution_count": 145,
   "id": "stone-marine",
   "metadata": {},
   "outputs": [
    {
     "name": "stdout",
     "output_type": "stream",
     "text": [
      "0.05555555555555555\n"
     ]
    }
   ],
   "source": [
    "rf = RandomForestClassifier()\n",
    "classifier = MultiOutputClassifier(estimator=rf)\n",
    "classifier.fit(X_train, y_train)\n",
    "y_pred = classifier.predict(X_test)\n",
    "print(accuracy_score(y_test, y_pred))\n",
    "#sns.regplot(y_test, y_pred)\n",
    "#plt.show()"
   ]
  },
  {
   "cell_type": "code",
   "execution_count": 144,
   "id": "fitting-brunei",
   "metadata": {},
   "outputs": [
    {
     "data": {
      "text/plain": [
       "(array([[1., 0., 0.],\n",
       "        [0., 1., 0.],\n",
       "        [0., 1., 0.],\n",
       "        [0., 0., 1.],\n",
       "        [0., 0., 1.],\n",
       "        [0., 0., 1.],\n",
       "        [1., 0., 0.],\n",
       "        [1., 0., 0.],\n",
       "        [0., 0., 1.],\n",
       "        [0., 1., 0.],\n",
       "        [1., 0., 0.],\n",
       "        [0., 0., 1.],\n",
       "        [0., 1., 0.],\n",
       "        [1., 0., 0.],\n",
       "        [1., 0., 0.],\n",
       "        [1., 0., 0.],\n",
       "        [0., 0., 1.],\n",
       "        [1., 0., 0.]], dtype=float32),\n",
       " array([[0., 0., 0.],\n",
       "        [0., 0., 1.],\n",
       "        [0., 1., 0.],\n",
       "        [0., 1., 1.],\n",
       "        [1., 0., 0.],\n",
       "        [0., 0., 0.],\n",
       "        [0., 0., 0.],\n",
       "        [0., 1., 0.],\n",
       "        [0., 1., 0.],\n",
       "        [0., 0., 0.],\n",
       "        [0., 1., 0.],\n",
       "        [0., 1., 0.],\n",
       "        [0., 0., 0.],\n",
       "        [0., 1., 0.],\n",
       "        [0., 0., 0.],\n",
       "        [0., 0., 0.],\n",
       "        [0., 0., 0.],\n",
       "        [0., 0., 0.]], dtype=float32))"
      ]
     },
     "execution_count": 144,
     "metadata": {},
     "output_type": "execute_result"
    }
   ],
   "source": [
    "y_test, y_pred"
   ]
  },
  {
   "cell_type": "code",
   "execution_count": 90,
   "id": "divine-detector",
   "metadata": {},
   "outputs": [
    {
     "name": "stdout",
     "output_type": "stream",
     "text": [
      "Linear Regressor\n",
      "Ridge Regressor\n",
      "Lasso Regressor\n"
     ]
    },
    {
     "name": "stderr",
     "output_type": "stream",
     "text": [
      "/Users/mardian/Documents/Edinburgh/Notebook/env/lib/python3.9/site-packages/sklearn/linear_model/_coordinate_descent.py:513: ConvergenceWarning: Objective did not converge. You might want to increase the number of iterations. Duality gap: 20981016.751628608, tolerance: 3049886.3056941684\n",
      "  model = cd_fast.sparse_enet_coordinate_descent(\n",
      "/Users/mardian/Documents/Edinburgh/Notebook/env/lib/python3.9/site-packages/sklearn/linear_model/_coordinate_descent.py:513: ConvergenceWarning: Objective did not converge. You might want to increase the number of iterations. Duality gap: 17116163.765109923, tolerance: 3244804.845717479\n",
      "  model = cd_fast.sparse_enet_coordinate_descent(\n",
      "/Users/mardian/Documents/Edinburgh/Notebook/env/lib/python3.9/site-packages/sklearn/linear_model/_coordinate_descent.py:513: ConvergenceWarning: Objective did not converge. You might want to increase the number of iterations. Duality gap: 18999196.456494477, tolerance: 2786895.640280479\n",
      "  model = cd_fast.sparse_enet_coordinate_descent(\n",
      "/Users/mardian/Documents/Edinburgh/Notebook/env/lib/python3.9/site-packages/sklearn/linear_model/_coordinate_descent.py:513: ConvergenceWarning: Objective did not converge. You might want to increase the number of iterations. Duality gap: 21949799.425124306, tolerance: 3818603.7524996772\n",
      "  model = cd_fast.sparse_enet_coordinate_descent(\n",
      "/Users/mardian/Documents/Edinburgh/Notebook/env/lib/python3.9/site-packages/sklearn/linear_model/_coordinate_descent.py:513: ConvergenceWarning: Objective did not converge. You might want to increase the number of iterations. Duality gap: 13355485.214538151, tolerance: 3168191.6546588168\n",
      "  model = cd_fast.sparse_enet_coordinate_descent(\n"
     ]
    },
    {
     "name": "stdout",
     "output_type": "stream",
     "text": [
      "k Nearest Neighbors\n",
      "Decision Tree\n",
      "Linear SVM\n",
      "RBF Regressor\n",
      "Random Forest\n",
      "Gradient Boosting\n",
      "Neural Network (MLP)\n"
     ]
    },
    {
     "name": "stderr",
     "output_type": "stream",
     "text": [
      "/Users/mardian/Documents/Edinburgh/Notebook/env/lib/python3.9/site-packages/sklearn/neural_network/_multilayer_perceptron.py:614: ConvergenceWarning: Stochastic Optimizer: Maximum iterations (200) reached and the optimization hasn't converged yet.\n",
      "  warnings.warn(\n",
      "/Users/mardian/Documents/Edinburgh/Notebook/env/lib/python3.9/site-packages/sklearn/neural_network/_multilayer_perceptron.py:614: ConvergenceWarning: Stochastic Optimizer: Maximum iterations (200) reached and the optimization hasn't converged yet.\n",
      "  warnings.warn(\n",
      "/Users/mardian/Documents/Edinburgh/Notebook/env/lib/python3.9/site-packages/sklearn/neural_network/_multilayer_perceptron.py:614: ConvergenceWarning: Stochastic Optimizer: Maximum iterations (200) reached and the optimization hasn't converged yet.\n",
      "  warnings.warn(\n",
      "/Users/mardian/Documents/Edinburgh/Notebook/env/lib/python3.9/site-packages/sklearn/neural_network/_multilayer_perceptron.py:614: ConvergenceWarning: Stochastic Optimizer: Maximum iterations (200) reached and the optimization hasn't converged yet.\n",
      "  warnings.warn(\n",
      "/Users/mardian/Documents/Edinburgh/Notebook/env/lib/python3.9/site-packages/sklearn/neural_network/_multilayer_perceptron.py:614: ConvergenceWarning: Stochastic Optimizer: Maximum iterations (200) reached and the optimization hasn't converged yet.\n",
      "  warnings.warn(\n",
      "/Users/mardian/Documents/Edinburgh/Notebook/env/lib/python3.9/site-packages/sklearn/linear_model/_coordinate_descent.py:530: ConvergenceWarning: Objective did not converge. You might want to increase the number of iterations. Duality gap: 29558497.86695426, tolerance: 3049886.3056941684\n",
      "  model = cd_fast.enet_coordinate_descent(\n"
     ]
    },
    {
     "name": "stdout",
     "output_type": "stream",
     "text": [
      "Linear Regressor\n",
      "Ridge Regressor\n",
      "Lasso Regressor\n"
     ]
    },
    {
     "name": "stderr",
     "output_type": "stream",
     "text": [
      "/Users/mardian/Documents/Edinburgh/Notebook/env/lib/python3.9/site-packages/sklearn/linear_model/_coordinate_descent.py:530: ConvergenceWarning: Objective did not converge. You might want to increase the number of iterations. Duality gap: 28684967.180243675, tolerance: 3244804.845717479\n",
      "  model = cd_fast.enet_coordinate_descent(\n",
      "/Users/mardian/Documents/Edinburgh/Notebook/env/lib/python3.9/site-packages/sklearn/linear_model/_coordinate_descent.py:530: ConvergenceWarning: Objective did not converge. You might want to increase the number of iterations. Duality gap: 24055974.350457005, tolerance: 2786895.640280479\n",
      "  model = cd_fast.enet_coordinate_descent(\n",
      "/Users/mardian/Documents/Edinburgh/Notebook/env/lib/python3.9/site-packages/sklearn/linear_model/_coordinate_descent.py:530: ConvergenceWarning: Objective did not converge. You might want to increase the number of iterations. Duality gap: 32547437.513418198, tolerance: 3818603.7524996772\n",
      "  model = cd_fast.enet_coordinate_descent(\n",
      "/Users/mardian/Documents/Edinburgh/Notebook/env/lib/python3.9/site-packages/sklearn/linear_model/_coordinate_descent.py:530: ConvergenceWarning: Objective did not converge. You might want to increase the number of iterations. Duality gap: 29118442.355157632, tolerance: 3168191.6546588168\n",
      "  model = cd_fast.enet_coordinate_descent(\n"
     ]
    },
    {
     "name": "stdout",
     "output_type": "stream",
     "text": [
      "k Nearest Neighbors\n",
      "Decision Tree\n",
      "Linear SVM\n",
      "RBF Regressor\n",
      "Random Forest\n",
      "Gradient Boosting\n",
      "Neural Network (MLP)\n"
     ]
    },
    {
     "name": "stderr",
     "output_type": "stream",
     "text": [
      "/Users/mardian/Documents/Edinburgh/Notebook/env/lib/python3.9/site-packages/sklearn/neural_network/_multilayer_perceptron.py:614: ConvergenceWarning: Stochastic Optimizer: Maximum iterations (200) reached and the optimization hasn't converged yet.\n",
      "  warnings.warn(\n",
      "/Users/mardian/Documents/Edinburgh/Notebook/env/lib/python3.9/site-packages/sklearn/neural_network/_multilayer_perceptron.py:614: ConvergenceWarning: Stochastic Optimizer: Maximum iterations (200) reached and the optimization hasn't converged yet.\n",
      "  warnings.warn(\n",
      "/Users/mardian/Documents/Edinburgh/Notebook/env/lib/python3.9/site-packages/sklearn/neural_network/_multilayer_perceptron.py:614: ConvergenceWarning: Stochastic Optimizer: Maximum iterations (200) reached and the optimization hasn't converged yet.\n",
      "  warnings.warn(\n",
      "/Users/mardian/Documents/Edinburgh/Notebook/env/lib/python3.9/site-packages/sklearn/neural_network/_multilayer_perceptron.py:614: ConvergenceWarning: Stochastic Optimizer: Maximum iterations (200) reached and the optimization hasn't converged yet.\n",
      "  warnings.warn(\n",
      "/Users/mardian/Documents/Edinburgh/Notebook/env/lib/python3.9/site-packages/sklearn/neural_network/_multilayer_perceptron.py:614: ConvergenceWarning: Stochastic Optimizer: Maximum iterations (200) reached and the optimization hasn't converged yet.\n",
      "  warnings.warn(\n"
     ]
    },
    {
     "name": "stdout",
     "output_type": "stream",
     "text": [
      "Linear Regressor\n",
      "Ridge Regressor\n",
      "Lasso Regressor\n",
      "k Nearest Neighbors\n",
      "Decision Tree\n",
      "Linear SVM\n",
      "RBF Regressor\n",
      "Random Forest\n",
      "Gradient Boosting\n",
      "Neural Network (MLP)\n"
     ]
    },
    {
     "name": "stderr",
     "output_type": "stream",
     "text": [
      "/Users/mardian/Documents/Edinburgh/Notebook/env/lib/python3.9/site-packages/sklearn/neural_network/_multilayer_perceptron.py:614: ConvergenceWarning: Stochastic Optimizer: Maximum iterations (200) reached and the optimization hasn't converged yet.\n",
      "  warnings.warn(\n",
      "/Users/mardian/Documents/Edinburgh/Notebook/env/lib/python3.9/site-packages/sklearn/neural_network/_multilayer_perceptron.py:614: ConvergenceWarning: Stochastic Optimizer: Maximum iterations (200) reached and the optimization hasn't converged yet.\n",
      "  warnings.warn(\n",
      "/Users/mardian/Documents/Edinburgh/Notebook/env/lib/python3.9/site-packages/sklearn/neural_network/_multilayer_perceptron.py:614: ConvergenceWarning: Stochastic Optimizer: Maximum iterations (200) reached and the optimization hasn't converged yet.\n",
      "  warnings.warn(\n",
      "/Users/mardian/Documents/Edinburgh/Notebook/env/lib/python3.9/site-packages/sklearn/neural_network/_multilayer_perceptron.py:614: ConvergenceWarning: Stochastic Optimizer: Maximum iterations (200) reached and the optimization hasn't converged yet.\n",
      "  warnings.warn(\n",
      "/Users/mardian/Documents/Edinburgh/Notebook/env/lib/python3.9/site-packages/sklearn/neural_network/_multilayer_perceptron.py:614: ConvergenceWarning: Stochastic Optimizer: Maximum iterations (200) reached and the optimization hasn't converged yet.\n",
      "  warnings.warn(\n"
     ]
    },
    {
     "data": {
      "text/html": [
       "<div>\n",
       "<style scoped>\n",
       "    .dataframe tbody tr th:only-of-type {\n",
       "        vertical-align: middle;\n",
       "    }\n",
       "\n",
       "    .dataframe tbody tr th {\n",
       "        vertical-align: top;\n",
       "    }\n",
       "\n",
       "    .dataframe thead th {\n",
       "        text-align: right;\n",
       "    }\n",
       "</style>\n",
       "<table border=\"1\" class=\"dataframe\">\n",
       "  <thead>\n",
       "    <tr style=\"text-align: right;\">\n",
       "      <th></th>\n",
       "      <th>Features</th>\n",
       "      <th>Model</th>\n",
       "      <th>RMSE</th>\n",
       "    </tr>\n",
       "  </thead>\n",
       "  <tbody>\n",
       "    <tr>\n",
       "      <th>0</th>\n",
       "      <td>Sequence only</td>\n",
       "      <td>Linear Regressor</td>\n",
       "      <td>31656.458593</td>\n",
       "    </tr>\n",
       "    <tr>\n",
       "      <th>1</th>\n",
       "      <td>Sequence only</td>\n",
       "      <td>Linear Regressor</td>\n",
       "      <td>26921.338470</td>\n",
       "    </tr>\n",
       "    <tr>\n",
       "      <th>2</th>\n",
       "      <td>Sequence only</td>\n",
       "      <td>Linear Regressor</td>\n",
       "      <td>22883.114272</td>\n",
       "    </tr>\n",
       "    <tr>\n",
       "      <th>3</th>\n",
       "      <td>Sequence only</td>\n",
       "      <td>Linear Regressor</td>\n",
       "      <td>21196.742505</td>\n",
       "    </tr>\n",
       "    <tr>\n",
       "      <th>4</th>\n",
       "      <td>Sequence only</td>\n",
       "      <td>Linear Regressor</td>\n",
       "      <td>25869.648036</td>\n",
       "    </tr>\n",
       "    <tr>\n",
       "      <th>...</th>\n",
       "      <td>...</td>\n",
       "      <td>...</td>\n",
       "      <td>...</td>\n",
       "    </tr>\n",
       "    <tr>\n",
       "      <th>145</th>\n",
       "      <td>Added features</td>\n",
       "      <td>Neural Network (MLP)</td>\n",
       "      <td>46935.196868</td>\n",
       "    </tr>\n",
       "    <tr>\n",
       "      <th>146</th>\n",
       "      <td>Added features</td>\n",
       "      <td>Neural Network (MLP)</td>\n",
       "      <td>44122.652050</td>\n",
       "    </tr>\n",
       "    <tr>\n",
       "      <th>147</th>\n",
       "      <td>Added features</td>\n",
       "      <td>Neural Network (MLP)</td>\n",
       "      <td>40313.256910</td>\n",
       "    </tr>\n",
       "    <tr>\n",
       "      <th>148</th>\n",
       "      <td>Added features</td>\n",
       "      <td>Neural Network (MLP)</td>\n",
       "      <td>49020.545386</td>\n",
       "    </tr>\n",
       "    <tr>\n",
       "      <th>149</th>\n",
       "      <td>Added features</td>\n",
       "      <td>Neural Network (MLP)</td>\n",
       "      <td>51997.661374</td>\n",
       "    </tr>\n",
       "  </tbody>\n",
       "</table>\n",
       "<p>150 rows × 3 columns</p>\n",
       "</div>"
      ],
      "text/plain": [
       "           Features                 Model          RMSE\n",
       "0     Sequence only      Linear Regressor  31656.458593\n",
       "1     Sequence only      Linear Regressor  26921.338470\n",
       "2     Sequence only      Linear Regressor  22883.114272\n",
       "3     Sequence only      Linear Regressor  21196.742505\n",
       "4     Sequence only      Linear Regressor  25869.648036\n",
       "..              ...                   ...           ...\n",
       "145  Added features  Neural Network (MLP)  46935.196868\n",
       "146  Added features  Neural Network (MLP)  44122.652050\n",
       "147  Added features  Neural Network (MLP)  40313.256910\n",
       "148  Added features  Neural Network (MLP)  49020.545386\n",
       "149  Added features  Neural Network (MLP)  51997.661374\n",
       "\n",
       "[150 rows x 3 columns]"
      ]
     },
     "execution_count": 90,
     "metadata": {},
     "output_type": "execute_result"
    }
   ],
   "source": [
    "regressors = [\n",
    "    ('Linear Regressor', LinearRegression()),\n",
    "    ('Ridge Regressor', Ridge()),\n",
    "    ('Lasso Regressor', Lasso()),\n",
    "    #('SGD Regressor', SGDRegressor()),\n",
    "    ('k Nearest Neighbors', KNeighborsRegressor()),\n",
    "    ('Decision Tree', DecisionTreeRegressor()),\n",
    "    ('Linear SVM', SVR(kernel='linear')),\n",
    "    ('RBF Regressor', SVR(kernel='rbf')),\n",
    "    ('Random Forest', RandomForestRegressor()),\n",
    "    ('Gradient Boosting', RandomForestRegressor()),\n",
    "    ('Neural Network (MLP)', MLPRegressor())\n",
    "]\n",
    "results = []\n",
    "for regressor in regressors:\n",
    "    print(regressor[0])\n",
    "    cv_results = cross_validate(regressor[1], X, y, cv=5, scoring=('r2', 'neg_mean_squared_error'))\n",
    "    mse = ([np.sqrt(i) for i in (cv_results['test_neg_mean_squared_error'] * -1)]) \n",
    "    #std = ([np.sqrt(i) for i in (cv_results['test_neg_mean_squared_error'] * -1)])\n",
    "    for m in mse:\n",
    "        results.append(('Sequence only', regressor[0], m))\n",
    "    #for s in std:\n",
    "    #    results.append(('Sequence-only', regressor[0], s))\n",
    "\n",
    "for regressor in regressors:\n",
    "    print(regressor[0])\n",
    "    cv_results = cross_validate(regressor[1], X1, y, cv=5, scoring=('r2', 'neg_mean_squared_error'))\n",
    "    mse = ([np.sqrt(i) for i in (cv_results['test_neg_mean_squared_error'] * -1)]) \n",
    "    #std = ([np.sqrt(i) for i in (cv_results['test_neg_mean_squared_error'] * -1)])\n",
    "    for m in mse:\n",
    "        results.append(('Sequence+added features', regressor[0], m))\n",
    "    #for s in std:\n",
    "    #    results.append(('X1', regressor[0], s))\n",
    "        \n",
    "for regressor in regressors:\n",
    "    print(regressor[0])\n",
    "    cv_results = cross_validate(regressor[1], X2, y, cv=5, scoring=('r2', 'neg_mean_squared_error'))\n",
    "    mse = ([np.sqrt(i) for i in (cv_results['test_neg_mean_squared_error'] * -1)]) \n",
    "    #std = ([np.sqrt(i) for i in (cv_results['test_neg_mean_squared_error'] * -1)])\n",
    "    for m in mse:\n",
    "        results.append(('Added features', regressor[0], m))\n",
    "    #for s in std:\n",
    "    #    results.append(('X2', regressor[0], s))\n",
    "    \n",
    "perf = pd.DataFrame(results, columns=['Features', 'Model', 'RMSE'])\n",
    "perf"
   ]
  },
  {
   "cell_type": "code",
   "execution_count": 110,
   "id": "alpha-immune",
   "metadata": {},
   "outputs": [
    {
     "data": {
      "image/png": "[encoded data removed]",
      "text/plain": [
       "<Figure size 864x288 with 1 Axes>"
      ]
     },
     "metadata": {
      "needs_background": "light"
     },
     "output_type": "display_data"
    }
   ],
   "source": [
    "plt.figure(figsize=[12, 4])\n",
    "sns.pointplot(data=perf, x='Model', y='RMSE', hue='Features', dodge=0.2, join=False)\n",
    "plt.xticks(rotation=90)\n",
    "plt.ylabel('RMSE')\n",
    "sns.despine()\n",
    "plt.show()"
   ]
  },
  {
   "cell_type": "code",
   "execution_count": 95,
   "id": "linear-survival",
   "metadata": {},
   "outputs": [
    {
     "name": "stdout",
     "output_type": "stream",
     "text": [
      "(72, 256)\n",
      "(18, 256)\n"
     ]
    }
   ],
   "source": [
    "X_train, X_test, y_train, y_test = train_test_split(X, \n",
    "                                                    y, \n",
    "                                                    test_size = 0.2)\n",
    "print(X_train.shape)\n",
    "print(X_test.shape)"
   ]
  },
  {
   "cell_type": "code",
   "execution_count": 97,
   "id": "temporal-heaven",
   "metadata": {},
   "outputs": [
    {
     "name": "stdout",
     "output_type": "stream",
     "text": [
      "Linear Regressor\n",
      "Ridge Regressor\n",
      "Lasso Regressor\n",
      "k Nearest Neighbors\n",
      "Decision Tree\n",
      "Linear SVM\n",
      "RBF Regressor\n"
     ]
    },
    {
     "name": "stderr",
     "output_type": "stream",
     "text": [
      "/Users/mardian/Documents/Edinburgh/Notebook/env/lib/python3.9/site-packages/sklearn/linear_model/_coordinate_descent.py:513: ConvergenceWarning: Objective did not converge. You might want to increase the number of iterations. Duality gap: 12269247.521105133, tolerance: 3265140.4497967283\n",
      "  model = cd_fast.sparse_enet_coordinate_descent(\n"
     ]
    },
    {
     "name": "stdout",
     "output_type": "stream",
     "text": [
      "Random Forest\n",
      "Gradient Boosting\n",
      "Neural Network (MLP)\n"
     ]
    },
    {
     "name": "stderr",
     "output_type": "stream",
     "text": [
      "/Users/mardian/Documents/Edinburgh/Notebook/env/lib/python3.9/site-packages/sklearn/neural_network/_multilayer_perceptron.py:614: ConvergenceWarning: Stochastic Optimizer: Maximum iterations (200) reached and the optimization hasn't converged yet.\n",
      "  warnings.warn(\n"
     ]
    }
   ],
   "source": [
    "results = []\n",
    "for regressor in regressors:\n",
    "    regressor[1].fit(X_train, y_train)\n",
    "    y_pred = regressor[1].predict(X_test)\n",
    "    print(regressor[0])\n",
    "    results.append((regressor[0], y_test, (y_test - y_pred)))"
   ]
  },
  {
   "cell_type": "code",
   "execution_count": 115,
   "id": "emotional-guarantee",
   "metadata": {},
   "outputs": [
    {
     "data": {
      "image/png": "[encoded data removed]",
      "text/plain": [
       "<Figure size 1080x504 with 12 Axes>"
      ]
     },
     "metadata": {
      "needs_background": "light"
     },
     "output_type": "display_data"
    }
   ],
   "source": [
    "f, axs = plt.subplots(3, 4, sharex=True, sharey=True, figsize=(15, 7))\n",
    "axr = axs.ravel()\n",
    "for i, ax in enumerate(axr):\n",
    "    if i < 10:\n",
    "        ax.scatter(results[i][1], results[i][2])\n",
    "        ax.axhline(y=0, color='r', linestyle='-')\n",
    "        ax.set_title(results[i][0])\n",
    "        #plt.xticks(rotation=90)\n",
    "        ax.set_xlabel('Fluo_8h')\n",
    "        ax.set_ylabel('Residual')\n",
    "    else:\n",
    "        ax.set_visible(False)\n",
    "plt.tight_layout()\n",
    "sns.despine()"
   ]
  },
  {
   "cell_type": "code",
   "execution_count": null,
   "id": "compatible-registrar",
   "metadata": {},
   "outputs": [],
   "source": []
  },
  {
   "cell_type": "code",
   "execution_count": null,
   "id": "needed-tooth",
   "metadata": {},
   "outputs": [],
   "source": []
  },
  {
   "cell_type": "code",
   "execution_count": null,
   "id": "direct-culture",
   "metadata": {},
   "outputs": [],
   "source": []
  },
  {
   "cell_type": "code",
   "execution_count": null,
   "id": "judicial-begin",
   "metadata": {},
   "outputs": [],
   "source": []
  },
  {
   "cell_type": "code",
   "execution_count": null,
   "id": "voluntary-interface",
   "metadata": {},
   "outputs": [],
   "source": [
    "from sklearn.model_selection import ParameterGrid\n",
    "params = {\n",
    "    'kmers': [2, 3, 4, 5],\n",
    "    'ngram_low': [1, 2],\n",
    "    'ngram_up': [3, 4] \n",
    "}\n",
    "\n",
    "perf = []\n",
    "grid = ParameterGrid(params)\n",
    "for g in grid:\n",
    "    \n",
    "    df = rnafold[['sequence', 'fluo_8h']]\n",
    "    df['words'] = df.apply(lambda x: getKmers(x['sequence'], g['kmers']), axis=1)\n",
    "    \n",
    "    texts = list(df['words'])\n",
    "    for item in range(len(texts)):\n",
    "        texts[item] = ' '.join(texts[item])\n",
    "    cv = CountVectorizer(ngram_range=(g['ngram_low'], g['ngram_up']))\n",
    "    X = cv.fit_transform(texts)\n",
    "    y = df['fluo_8h']\n",
    "    \n",
    "    X_train, X_test, y_train, y_test = train_test_split(X1, \n",
    "                                                    y, \n",
    "                                                    test_size = 0.20, random_state=42)\n",
    "    \n",
    "    regressor = RandomForestRegressor()\n",
    "    regressor.fit(X_train, y_train)\n",
    "    y_pred = regressor.predict(X_test)\n",
    "    perf.append(mean_squared_error(y_test, y_pred))\n",
    "    \n",
    "perf"
   ]
  },
  {
   "cell_type": "code",
   "execution_count": null,
   "id": "fancy-swimming",
   "metadata": {},
   "outputs": [],
   "source": [
    "best_idx = perf.index(max(perf))\n",
    "best_params = (list(grid))[best_idx]\n",
    "best_params"
   ]
  },
  {
   "cell_type": "code",
   "execution_count": null,
   "id": "noticed-antenna",
   "metadata": {},
   "outputs": [],
   "source": [
    "df = rnafold[['sequence', 'fluo_8h']]\n",
    "df['words'] = df.apply(lambda x: getKmers(x['sequence'], 4), axis=1)\n",
    "\n",
    "texts = list(df['words'])\n",
    "for item in range(len(texts)):\n",
    "    texts[item] = ' '.join(texts[item])\n",
    "cv = CountVectorizer(ngram_range=(2, 4))\n",
    "X = cv.fit_transform(texts)\n",
    "y = df['fluo_8h']\n",
    "\n",
    "X_train, X_test, y_train, y_test = train_test_split(X1, \n",
    "                                                y, \n",
    "                                                test_size = 0.20, random_state=42)\n",
    "\n",
    "regressor = RandomForestRegressor()\n",
    "regressor.fit(X_train, y_train)\n",
    "y_pred = regressor.predict(X_test)\n",
    "sns.regplot(y_test, y_pred)\n",
    "plt.show()"
   ]
  },
  {
   "cell_type": "code",
   "execution_count": null,
   "id": "structural-metropolitan",
   "metadata": {},
   "outputs": [],
   "source": []
  },
  {
   "cell_type": "code",
   "execution_count": null,
   "id": "analyzed-dining",
   "metadata": {},
   "outputs": [],
   "source": []
  },
  {
   "cell_type": "code",
   "execution_count": null,
   "id": "elect-usage",
   "metadata": {},
   "outputs": [],
   "source": []
  },
  {
   "cell_type": "markdown",
   "id": "robust-stability",
   "metadata": {},
   "source": [
    "### Regressor Method"
   ]
  },
  {
   "cell_type": "code",
   "execution_count": null,
   "id": "tested-surrey",
   "metadata": {},
   "outputs": [],
   "source": [
    "rnafold = pd.read_csv('datasets/rnacofold.csv')\n",
    "X = rnafold.iloc[:,5:].drop('fluo_8h', axis=1)\n",
    "y = rnafold['fluo_8h']\n",
    "X_train, X_test, y_train, y_test = train_test_split(X, y, test_size=0.2)"
   ]
  },
  {
   "cell_type": "code",
   "execution_count": null,
   "id": "turned-alert",
   "metadata": {},
   "outputs": [],
   "source": [
    "rf_reg = RandomForestRegressor()\n",
    "rf_reg.fit(X_train, y_train)\n",
    "mse = mean_squared_error(y_test, rf_reg.predict(X_test))\n",
    "r2 = r2_score(y_test, rf_reg.predict(X_test))\n",
    "mse, r2"
   ]
  },
  {
   "cell_type": "code",
   "execution_count": null,
   "id": "wrapped-enterprise",
   "metadata": {},
   "outputs": [],
   "source": [
    "y_pred = rf_reg.predict(X_test)\n",
    "plt.scatter(y_pred, y_test)\n",
    "plt.show()"
   ]
  },
  {
   "cell_type": "code",
   "execution_count": null,
   "id": "promising-apparel",
   "metadata": {},
   "outputs": [],
   "source": [
    "sns.distplot(rnafold['fluo_8h'])\n",
    "plt.show()"
   ]
  },
  {
   "cell_type": "code",
   "execution_count": null,
   "id": "latter-suspect",
   "metadata": {},
   "outputs": [],
   "source": [
    "sns.distplot(MinMaxScaler().fit_transform([rnafold['fluo_8h']]))\n",
    "plt.show()"
   ]
  },
  {
   "cell_type": "code",
   "execution_count": null,
   "id": "blind-wilderness",
   "metadata": {},
   "outputs": [],
   "source": [
    "MinMaxScaler().fit_transform(np.array(rnafold['fluo_8h']).reshape(1, -1))"
   ]
  },
  {
   "cell_type": "code",
   "execution_count": null,
   "id": "clear-myrtle",
   "metadata": {},
   "outputs": [],
   "source": [
    "sns.pairplot(rnafold)\n",
    "plt.show()"
   ]
  },
  {
   "cell_type": "markdown",
   "id": "dominant-mortgage",
   "metadata": {},
   "source": [
    "### Convolutional Neural Network"
   ]
  },
  {
   "cell_type": "code",
   "execution_count": 125,
   "id": "unable-vertical",
   "metadata": {},
   "outputs": [
    {
     "name": "stdout",
     "output_type": "stream",
     "text": [
      "INFO:tensorflow:Enabling eager execution\n",
      "INFO:tensorflow:Enabling v2 tensorshape\n",
      "INFO:tensorflow:Enabling resource variables\n",
      "INFO:tensorflow:Enabling tensor equality\n",
      "INFO:tensorflow:Enabling control flow v2\n"
     ]
    }
   ],
   "source": [
    "import numpy as np\n",
    "import mnist\n",
    "from tensorflow.keras.models import Sequential\n",
    "from tensorflow.keras.layers import Conv2D, MaxPooling2D, Dense, Flatten\n",
    "from tensorflow.keras.utils import to_categorical"
   ]
  },
  {
   "cell_type": "code",
   "execution_count": null,
   "id": "painful-estimate",
   "metadata": {},
   "outputs": [],
   "source": [
    "yh = pd.qcut(y, 10, labels=False)\n",
    "yh"
   ]
  },
  {
   "cell_type": "code",
   "execution_count": null,
   "id": "muslim-combination",
   "metadata": {},
   "outputs": [],
   "source": [
    "X2 = X.toarray()\n",
    "X_train, X_test, y_train, y_test = train_test_split(X2, yh, test_size=0.2)\n",
    "print(X_train.shape)"
   ]
  },
  {
   "cell_type": "code",
   "execution_count": null,
   "id": "certified-version",
   "metadata": {},
   "outputs": [],
   "source": [
    "from tensorflow.keras.optimizers import SGD, Adam, Adadelta\n",
    "from tensorflow.keras.layers import Conv1D, Dense, MaxPooling1D, Flatten\n",
    "from tensorflow.keras.models import Sequential\n",
    "from tensorflow.keras.regularizers import l2, l1"
   ]
  },
  {
   "cell_type": "code",
   "execution_count": null,
   "id": "moral-fusion",
   "metadata": {},
   "outputs": [],
   "source": [
    "X_train = np.expand_dims(X_train, axis=0)\n",
    "X_test = np.expand_dims(X_test, axis=0)\n",
    "y_train = np.expand_dims(y_train, axis=0)\n",
    "y_test = np.expand_dims(y_test, axis=0)"
   ]
  },
  {
   "cell_type": "code",
   "execution_count": null,
   "id": "cloudy-stationery",
   "metadata": {},
   "outputs": [],
   "source": [
    "model = Sequential()\n",
    "\n",
    "model.add(Conv1D(filters = 32, kernel_size = 5, padding = 'same', \n",
    "                 kernel_initializer = 'he_uniform', \n",
    "                 input_shape=X_train[1:].shape, activation = 'relu',\n",
    "                 kernel_regularizer=l2(0.001)))\n",
    "model.add(Conv1D(filters = 32, kernel_size = 5, padding = 'same', \n",
    "                 kernel_initializer = 'he_uniform', \n",
    "                 activation = 'relu',\n",
    "                 kernel_regularizer=l2(0.001)))\n",
    "model.add(MaxPooling1D(pool_size = 2))\n",
    "\n",
    "model.add(Flatten())\n",
    "model.add(Dense(16, kernel_initializer= 'he_uniform', activation = 'relu',\n",
    "                kernel_regularizer=l2(0.001)))\n",
    "model.add(Dense(2, activation='softmax'))\n",
    "\n",
    "epochs = 200\n",
    "lrate = 0.001\n",
    "decay = lrate / epochs\n",
    "sgd = SGD(lr = lrate, momentum = 0.9, decay = decay, nesterov = False)\n",
    "model.compile(loss='binary_crossentropy', optimizer=sgd, metrics=['binary_accuracy'])\n",
    "model.summary()"
   ]
  },
  {
   "cell_type": "code",
   "execution_count": null,
   "id": "insured-drilling",
   "metadata": {},
   "outputs": [],
   "source": [
    "model.fit(X_train, y_train,validation_data=(X_test, y_test),\n",
    "              batch_size=32, epochs=10, verbose=1)"
   ]
  },
  {
   "cell_type": "code",
   "execution_count": null,
   "id": "offensive-advertising",
   "metadata": {},
   "outputs": [],
   "source": [
    "# 2. Preprocess input data\n",
    "X_train = X_train.reshape(X_train.shape[0], 1, 55, 64)  # (90, 55, 64) --> (90, 1, 55, 64)\n",
    "X_test = X_test.reshape(X_test.shape[0], 1, 55, 64)\n",
    "X_train = X_train.astype('float32')\n",
    "X_test = X_test.astype('float32')\n",
    "\n",
    "# 3. Preprocess class labels; i.e. convert 1-dimensional class arrays to 3-dimensional class matrices\n",
    "Y_train = np_utils.to_categorical(y_train, 2)\n",
    "Y_test = np_utils.to_categorical(y_test, 2)\n",
    "\n",
    "# 4. Define model architecture\n",
    "model = Sequential()\n",
    "\n",
    "model.add(Convolution2D(54, 3, 3, activation='relu', input_shape=(1, 55, 64)))\n",
    "model.add(Convolution2D(54, 3, 3, activation='relu'))\n",
    "model.add(MaxPooling2D(pool_size=(2,2)))\n",
    "model.add(Dropout(0.25))\n",
    "\n",
    "model.add(Flatten())\n",
    "model.add(Dense(128, activation='relu'))\n",
    "model.add(Dropout(0.5))\n",
    "model.add(Dense(2, activation='softmax'))   # since 2 classes\n",
    "\n",
    "# 5. Compile model\n",
    "model.compile(loss='categorical_crossentropy',\n",
    "                optimizer='adam',\n",
    "                metrics=['accuracy'])\n",
    "\n",
    "# 6. Fit model on training data\n",
    "model.fit(X_train, Y_train,validation_data=(X_test,Y_test),\n",
    "              batch_size=32, nb_epoch=10, verbose=1)\n",
    "\n",
    "# 7. Evaluate model on test data\n",
    "score = model.evaluate(X_test, Y_test, verbose=1)\n",
    "print(\"score = \" + str(score))"
   ]
  },
  {
   "cell_type": "code",
   "execution_count": null,
   "id": "deadly-belgium",
   "metadata": {},
   "outputs": [],
   "source": [
    "import numpy as np\n",
    "import mnist\n",
    "from tensorflow.keras.models import Sequential\n",
    "from tensorflow.keras.layers import Conv2D, MaxPooling2D, Dense, Flatten\n",
    "from tensorflow.keras.utils import to_categorical\n",
    "\n",
    "train_images = mnist.train_images()\n",
    "train_labels = mnist.train_labels()\n",
    "test_images = mnist.test_images()\n",
    "test_labels = mnist.test_labels()\n",
    "\n",
    "# Normalize the images.\n",
    "train_images = (train_images / 255) - 0.5\n",
    "test_images = (test_images / 255) - 0.5\n",
    "\n",
    "# Reshape the images.\n",
    "train_images = np.expand_dims(train_images, axis=3)\n",
    "test_images = np.expand_dims(test_images, axis=3)\n",
    "\n",
    "num_filters = 8\n",
    "filter_size = 3\n",
    "pool_size = 2\n",
    "\n",
    "# Build the model.\n",
    "model = Sequential([\n",
    "  Conv2D(num_filters, filter_size, input_shape=(28, 28, 1)),\n",
    "  MaxPooling2D(pool_size=pool_size),\n",
    "  Flatten(),\n",
    "  Dense(10, activation='softmax'),\n",
    "])\n",
    "\n",
    "# Compile the model.\n",
    "model.compile(\n",
    "  'adam',\n",
    "  loss='categorical_crossentropy',\n",
    "  metrics=['accuracy'],\n",
    ")\n",
    "\n",
    "# Train the model.\n",
    "model.fit(\n",
    "  train_images,\n",
    "  to_categorical(train_labels),\n",
    "  epochs=3,\n",
    "  validation_data=(test_images, to_categorical(test_labels))\n",
    ")"
   ]
  },
  {
   "cell_type": "code",
   "execution_count": null,
   "id": "instant-inside",
   "metadata": {},
   "outputs": [],
   "source": [
    "# Predict on the first 5 test images.\n",
    "predictions = model.predict(test_images[:5])\n",
    "\n",
    "# Print our model's predictions.\n",
    "print(np.argmax(predictions, axis=1)) # [7, 2, 1, 0, 4]\n",
    "\n",
    "# Check our predictions against the ground truths.\n",
    "print(test_labels[:5]) # [7, 2, 1, 0, 4]"
   ]
  },
  {
   "cell_type": "code",
   "execution_count": null,
   "id": "continuous-activity",
   "metadata": {},
   "outputs": [],
   "source": [
    "import keras\n",
    "from keras.datasets import mnist\n",
    "#load mnist dataset\n",
    "(X_train, y_train), (X_test, y_test) = mnist.load_data()\n",
    "X_train = X_train.reshape((X_train.shape[0], 28, 28, 1))"
   ]
  },
  {
   "cell_type": "code",
   "execution_count": null,
   "id": "freelance-gross",
   "metadata": {},
   "outputs": [],
   "source": [
    "X_train.shape"
   ]
  },
  {
   "cell_type": "code",
   "execution_count": null,
   "id": "preceding-ireland",
   "metadata": {},
   "outputs": [],
   "source": [
    "from tensorflow.keras.datasets import mnist\n",
    "from tensorflow.keras.utils import to_categorical\n",
    "from tensorflow.keras.models import Sequential\n",
    "from tensorflow.keras.layers import Conv2D\n",
    "from tensorflow.keras.layers import MaxPooling2D\n",
    "from tensorflow.keras.layers import Dense\n",
    "from tensorflow.keras.layers import Flatten\n",
    "from tensorflow.keras.optimizers import SGD\n",
    " \n",
    "# load train and test dataset\n",
    "def load_dataset():\n",
    "    # load dataset\n",
    "    (trainX, trainY), (testX, testY) = mnist.load_data()\n",
    "    # reshape dataset to have a single channel\n",
    "    trainX = trainX.reshape((trainX.shape[0], 28, 28, 1))\n",
    "    testX = testX.reshape((testX.shape[0], 28, 28, 1))\n",
    "    # one hot encode target values\n",
    "    trainY = to_categorical(trainY)\n",
    "    testY = to_categorical(testY)\n",
    "    return trainX, trainY, testX, testY\n",
    " \n",
    "# scale pixels\n",
    "def prep_pixels(train, test):\n",
    "    # convert from integers to floats\n",
    "    train_norm = train.astype('float32')\n",
    "    test_norm = test.astype('float32')\n",
    "    # normalize to range 0-1\n",
    "    train_norm = train_norm / 255.0\n",
    "    test_norm = test_norm / 255.0\n",
    "    # return normalized images\n",
    "    return train_norm, test_norm\n",
    " \n",
    "# define cnn model\n",
    "def define_model():\n",
    "    model = Sequential()\n",
    "    model.add(Conv2D(32, (3, 3), activation='relu', kernel_initializer='he_uniform', input_shape=(28, 28, 1)))\n",
    "    model.add(MaxPooling2D((2, 2)))\n",
    "    model.add(Conv2D(64, (3, 3), activation='relu', kernel_initializer='he_uniform'))\n",
    "    model.add(Conv2D(64, (3, 3), activation='relu', kernel_initializer='he_uniform'))\n",
    "    model.add(MaxPooling2D((2, 2)))\n",
    "    model.add(Flatten())\n",
    "    model.add(Dense(100, activation='relu', kernel_initializer='he_uniform'))\n",
    "    model.add(Dense(10, activation='softmax'))\n",
    "    # compile model\n",
    "    opt = SGD(lr=0.01, momentum=0.9)\n",
    "    model.compile(optimizer=opt, loss='categorical_crossentropy', metrics=['accuracy'])\n",
    "    return model\n",
    " \n",
    "# run the test harness for evaluating a model\n",
    "def run_test_harness():\n",
    "    # load dataset\n",
    "    trainX, trainY, testX, testY = load_dataset()\n",
    "    # prepare pixel data\n",
    "    trainX, testX = prep_pixels(trainX, testX)\n",
    "    # define model\n",
    "    model = define_model()\n",
    "    # fit model\n",
    "    model.fit(trainX, trainY, epochs=10, batch_size=32, verbose=0)\n",
    "    # save model\n",
    "    #model.save('final_model.h5')\n",
    "\n",
    "# entry point, run the test harness\n",
    "run_test_harness()"
   ]
  },
  {
   "cell_type": "code",
   "execution_count": null,
   "id": "mighty-symphony",
   "metadata": {},
   "outputs": [],
   "source": []
  },
  {
   "cell_type": "markdown",
   "id": "baking-accordance",
   "metadata": {},
   "source": [
    "### Dataprep"
   ]
  },
  {
   "cell_type": "code",
   "execution_count": null,
   "id": "personal-official",
   "metadata": {},
   "outputs": [],
   "source": [
    "with open('datasets/output.out', 'r') as reader:\n",
    "    #print(reader.read())\n",
    "    output = list(reader)"
   ]
  },
  {
   "cell_type": "code",
   "execution_count": null,
   "id": "alternate-humor",
   "metadata": {},
   "outputs": [],
   "source": [
    "output = [i.strip() for i in output]\n",
    "output = [output[i:i+7] for i in range(0, len(output), 7)]\n",
    "output"
   ]
  },
  {
   "cell_type": "code",
   "execution_count": null,
   "id": "reflected-christopher",
   "metadata": {},
   "outputs": [],
   "source": [
    "df = pd.DataFrame(output)\n",
    "df[7] = df[1].str[:-9]\n",
    "df[1] = df[1].str[-6:-1]\n",
    "df[2] = df[2].str[-6:-1]\n",
    "df[3] = df[3].str.replace('frequency of mfe structure in ensemble', '')\n",
    "df[8] = df[3].apply(lambda x: x.split(';')[0])\n",
    "df[9] = df[3].apply(lambda x: x.split('=')[1])\n",
    "df[10] = df[0].apply(lambda x: x.split('&')[0])\n",
    "df[11] = df[0].apply(lambda x: x.split('&')[1])\n",
    "numbers = pd.Series(np.arange(len(df))+1).astype(str)\n",
    "df[12] = 'c' + numbers\n",
    "df[13] = 't' + numbers\n",
    "df = df[[12, 10, 13, 11, 7, 1, 2, 8, 9]]\n",
    "df[[1, 2, 8, 9]] = df[[1, 2, 8, 9]].astype(float)\n",
    "df[8] = df[8] * 100\n",
    "df = df.rename(columns={12: 'c_index', 10: 'crRNA', 13: 't_index',\n",
    "                        11: 'tracrRNA', 7: 'MFE_structures', 1: 'MFE',\n",
    "                       2: 'free_energy_thermodynamic_ensemble',\n",
    "                       8: 'frequency_MFR_structures', 9: 'delta_G'})\n",
    "\n",
    "df"
   ]
  },
  {
   "cell_type": "code",
   "execution_count": null,
   "id": "relevant-intelligence",
   "metadata": {},
   "outputs": [],
   "source": [
    "df.to_csv('datasets/rnacofold.csv', index=False)"
   ]
  },
  {
   "cell_type": "markdown",
   "id": "blind-composition",
   "metadata": {},
   "source": [
    "### New Dataprep"
   ]
  },
  {
   "cell_type": "code",
   "execution_count": null,
   "id": "comic-ozone",
   "metadata": {},
   "outputs": [],
   "source": [
    "with open('datasets/new_seq.out', 'r') as reader:\n",
    "    #print(reader.read())\n",
    "    output = list(reader)"
   ]
  },
  {
   "cell_type": "code",
   "execution_count": null,
   "id": "pleasant-juvenile",
   "metadata": {},
   "outputs": [],
   "source": [
    "output = [i.strip() for i in output]\n",
    "output = [output[i:i+5] for i in range(0, len(output), 5)]\n",
    "output"
   ]
  },
  {
   "cell_type": "code",
   "execution_count": null,
   "id": "individual-crack",
   "metadata": {},
   "outputs": [],
   "source": [
    "df = pd.DataFrame(output)\n",
    "df[11] = df[1].apply(lambda x: (x.split(' ( ')[0]))\n",
    "df[1] = df[1].apply(lambda x: (x.split(' ( ')[1]).split(')')[0])\n",
    "df[2] = df[2].apply(lambda x: (x.split(' [ ')[1]).split(']')[0])\n",
    "df[31] = df[3].apply(lambda x: ((x.split(' { ')[1]).split(' d=')[1]).split('}')[0])\n",
    "df[32] = df[3].apply(lambda x: (x.split(' { ')[0]))\n",
    "df[3] = df[3].apply(lambda x: (x.split(' { ')[1]).split(' d=')[0])\n",
    "df[41] = df[4].apply(lambda x: (x.split(';')[1]).split(' ')[-1])\n",
    "df[4] = df[4].apply(lambda x: (x.split(';')[0]).split(' ')[-1])\n",
    "#df[2] = df[1].str[-6:-1]\n",
    "df"
   ]
  },
  {
   "cell_type": "code",
   "execution_count": null,
   "id": "innocent-enlargement",
   "metadata": {},
   "outputs": [],
   "source": [
    "df = df[[0, 11, 1, 2, 32, 3, 31, 4, 41]]\n",
    "df = df.rename(columns={0: 'sequence', 11: 'optimal_secondary_structure', 1: 'optimal_mfe',\n",
    "                       2: 'free_energy_thermo_ensemble', 32: 'centroid_secondary_structure',\n",
    "                       3: 'centroid_mfe', 31: 'd', 4: 'freq_mfe_structure_in_ensemble', 41: 'ensemble_diversity'})\n",
    "df"
   ]
  },
  {
   "cell_type": "code",
   "execution_count": null,
   "id": "moving-glenn",
   "metadata": {},
   "outputs": [],
   "source": [
    "df.to_csv('datasets/new_seq.csv', index=False)"
   ]
  },
  {
   "cell_type": "code",
   "execution_count": null,
   "id": "solved-mexico",
   "metadata": {},
   "outputs": [],
   "source": []
  }
 ],
 "metadata": {
  "kernelspec": {
   "display_name": "Python 3",
   "language": "python",
   "name": "python3"
  },
  "language_info": {
   "codemirror_mode": {
    "name": "ipython",
    "version": 3
   },
   "file_extension": ".py",
   "mimetype": "text/x-python",
   "name": "python",
   "nbconvert_exporter": "python",
   "pygments_lexer": "ipython3",
   "version": "3.9.2"
  }
 },
 "nbformat": 4,
 "nbformat_minor": 5
}
