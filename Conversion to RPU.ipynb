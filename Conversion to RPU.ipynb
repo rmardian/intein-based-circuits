{
 "cells": [
  {
   "cell_type": "code",
   "execution_count": 1,
   "id": "sealed-distinction",
   "metadata": {},
   "outputs": [],
   "source": [
    "import pandas as pd\n",
    "import numpy as np\n",
    "import matplotlib.pyplot as plt\n",
    "import seaborn as sns"
   ]
  },
  {
   "cell_type": "code",
   "execution_count": 2,
   "id": "portuguese-maryland",
   "metadata": {},
   "outputs": [],
   "source": [
    "fluos = pd.read_csv('datasets/induction_matrix/induction_fluo.csv', index_col='time')\n",
    "gates = ['e11x32STPhoRadA', 'e15x32NpuSspS2', 'e16x33NrdA2', 'e20x32gp411', 'e32x30SspGyrB',\n",
    "         'e34x30MjaKlbA', 'e38x32gp418', 'e41x32NrdJ1', 'e42x32STIMPDH1']\n",
    "pos = [fluos[filter(lambda x: x.startswith('{}_{}'.format('positive_control_3K3', i)), fluos.columns)].mean(axis=1) for i in range(1, 6)]\n",
    "neg = [fluos[filter(lambda x: x.startswith('{}_{}'.format('negative_control_3K3', i)), fluos.columns)].mean(axis=1) for i in range(1, 6)]"
   ]
  },
  {
   "cell_type": "code",
   "execution_count": 28,
   "id": "cubic-strike",
   "metadata": {},
   "outputs": [
    {
     "data": {
      "text/plain": [
       "[[time\n",
       "  0         6457.000000\n",
       "  20        4050.666333\n",
       "  40        4283.666667\n",
       "  60        4485.666667\n",
       "  80        4800.333000\n",
       "              ...      \n",
       "  1360    127941.333333\n",
       "  1380    127558.000000\n",
       "  1400    127346.333000\n",
       "  1420    127424.333000\n",
       "  1440    127240.333333\n",
       "  Length: 73, dtype: float64,\n",
       "  time\n",
       "  0         6457.000000\n",
       "  20        4050.666333\n",
       "  40        4283.666667\n",
       "  60        4485.666667\n",
       "  80        4800.333000\n",
       "              ...      \n",
       "  1360    127941.333333\n",
       "  1380    127558.000000\n",
       "  1400    127346.333000\n",
       "  1420    127424.333000\n",
       "  1440    127240.333333\n",
       "  Length: 73, dtype: float64],\n",
       " [time\n",
       "  0         7791.999667\n",
       "  20        4687.000333\n",
       "  40        4872.333667\n",
       "  60        5136.000333\n",
       "  80        5615.999667\n",
       "              ...      \n",
       "  1360    152017.666333\n",
       "  1380    151785.333333\n",
       "  1400    152076.000333\n",
       "  1420    151700.333333\n",
       "  1440    151397.333333\n",
       "  Length: 73, dtype: float64,\n",
       "  time\n",
       "  0         7791.999667\n",
       "  20        4687.000333\n",
       "  40        4872.333667\n",
       "  60        5136.000333\n",
       "  80        5615.999667\n",
       "              ...      \n",
       "  1360    152017.666333\n",
       "  1380    151785.333333\n",
       "  1400    152076.000333\n",
       "  1420    151700.333333\n",
       "  1440    151397.333333\n",
       "  Length: 73, dtype: float64],\n",
       " [time\n",
       "  0         5356.666667\n",
       "  20        3976.666333\n",
       "  40        4275.666333\n",
       "  60        4573.000333\n",
       "  80        5077.333333\n",
       "              ...      \n",
       "  1360    199679.000000\n",
       "  1380    199656.000000\n",
       "  1400    201221.333000\n",
       "  1420    201872.666667\n",
       "  1440    201568.666667\n",
       "  Length: 73, dtype: float64,\n",
       "  time\n",
       "  0         5356.666667\n",
       "  20        3976.666333\n",
       "  40        4275.666333\n",
       "  60        4573.000333\n",
       "  80        5077.333333\n",
       "              ...      \n",
       "  1360    199679.000000\n",
       "  1380    199656.000000\n",
       "  1400    201221.333000\n",
       "  1420    201872.666667\n",
       "  1440    201568.666667\n",
       "  Length: 73, dtype: float64],\n",
       " [time\n",
       "  0         4588.000333\n",
       "  20        4024.667000\n",
       "  40        4261.666333\n",
       "  60        4582.333000\n",
       "  80        5057.333000\n",
       "              ...      \n",
       "  1360    151030.000333\n",
       "  1380    151255.333667\n",
       "  1400    151137.667000\n",
       "  1420    151582.333667\n",
       "  1440    150942.333667\n",
       "  Length: 73, dtype: float64,\n",
       "  time\n",
       "  0         4588.000333\n",
       "  20        4024.667000\n",
       "  40        4261.666333\n",
       "  60        4582.333000\n",
       "  80        5057.333000\n",
       "              ...      \n",
       "  1360    151030.000333\n",
       "  1380    151255.333667\n",
       "  1400    151137.667000\n",
       "  1420    151582.333667\n",
       "  1440    150942.333667\n",
       "  Length: 73, dtype: float64],\n",
       " [time\n",
       "  0         5511.666667\n",
       "  20        4194.333000\n",
       "  40        4441.666333\n",
       "  60        4736.999667\n",
       "  80        5189.000000\n",
       "              ...      \n",
       "  1360    145788.333000\n",
       "  1380    145708.666667\n",
       "  1400    145567.333667\n",
       "  1420    145899.333333\n",
       "  1440    145740.333333\n",
       "  Length: 73, dtype: float64,\n",
       "  time\n",
       "  0         5511.666667\n",
       "  20        4194.333000\n",
       "  40        4441.666333\n",
       "  60        4736.999667\n",
       "  80        5189.000000\n",
       "              ...      \n",
       "  1360    145788.333000\n",
       "  1380    145708.666667\n",
       "  1400    145567.333667\n",
       "  1420    145899.333333\n",
       "  1440    145740.333333\n",
       "  Length: 73, dtype: float64]]"
      ]
     },
     "execution_count": 28,
     "metadata": {},
     "output_type": "execute_result"
    }
   ],
   "source": [
    "[[p] * 2 for p in pos]"
   ]
  },
  {
   "cell_type": "code",
   "execution_count": null,
   "id": "suffering-stomach",
   "metadata": {},
   "outputs": [],
   "source": []
  },
  {
   "cell_type": "code",
   "execution_count": 21,
   "id": "genuine-mediterranean",
   "metadata": {},
   "outputs": [
    {
     "data": {
      "text/plain": [
       "<AxesSubplot:xlabel='time'>"
      ]
     },
     "execution_count": 21,
     "metadata": {},
     "output_type": "execute_result"
    },
    {
     "data": {
      "image/png": "[encoded data removed]",
      "text/plain": [
       "<Figure size 432x288 with 1 Axes>"
      ]
     },
     "metadata": {
      "needs_background": "light"
     },
     "output_type": "display_data"
    }
   ],
   "source": [
    "pos[4].plot()"
   ]
  },
  {
   "cell_type": "markdown",
   "id": "happy-disaster",
   "metadata": {},
   "source": [
    "h=15 for steady-state."
   ]
  },
  {
   "cell_type": "code",
   "execution_count": null,
   "id": "classified-climb",
   "metadata": {},
   "outputs": [],
   "source": [
    "gate = 'e42x32STIMPDH1'\n",
    "k = 4\n",
    "print(gate)\n",
    "fluo = fluos[filter(lambda x: x.startswith(gate), fluos.columns)]\n",
    "fluo_rpu = (fluo.sub(neg[k], axis=0)).div((pos[k] - neg[k]), axis=0)\n",
    "plt.plot(fluos.index/60, np.log10(fluo_rpu.iloc[:,35]))\n",
    "sns.despine()"
   ]
  },
  {
   "cell_type": "code",
   "execution_count": null,
   "id": "coupled-hepatitis",
   "metadata": {},
   "outputs": [],
   "source": [
    "plt.plot(fluos.index/60, fluo_rpu.iloc[:,35])\n",
    "sns.despine()"
   ]
  },
  {
   "cell_type": "code",
   "execution_count": null,
   "id": "strange-international",
   "metadata": {},
   "outputs": [],
   "source": [
    "gate = 'e42x32STIMPDH1'\n",
    "fluos[filter(lambda x: x.startswith(gate), fluos.columns)].plot()\n",
    "plt.axvline(900)\n",
    "sns.despine()"
   ]
  },
  {
   "cell_type": "code",
   "execution_count": null,
   "id": "biological-profession",
   "metadata": {},
   "outputs": [],
   "source": [
    "for i in range(5):\n",
    "    plt.plot(fluos.index, pos[i])\n",
    "    plt.plot(fluos.index, neg[i])"
   ]
  },
  {
   "cell_type": "code",
   "execution_count": null,
   "id": "loaded-geneva",
   "metadata": {},
   "outputs": [],
   "source": [
    "pos[0].mean(axis=1).plot()\n"
   ]
  },
  {
   "cell_type": "code",
   "execution_count": null,
   "id": "characteristic-coordinate",
   "metadata": {},
   "outputs": [],
   "source": [
    "plt.figure(figsize=(10, 6))\n",
    "fluo.plot()\n",
    "plt.legend(bbox_to_anchor=(1.1, 1.05))"
   ]
  },
  {
   "cell_type": "code",
   "execution_count": null,
   "id": "ancient-championship",
   "metadata": {},
   "outputs": [],
   "source": []
  },
  {
   "cell_type": "code",
   "execution_count": null,
   "id": "graduate-yellow",
   "metadata": {},
   "outputs": [],
   "source": [
    "ods = pd.read_csv('datasets/induction_matrix/induction_od.csv')\n",
    "gate = 'positive_control_3K3'\n",
    "od = ods[filter(lambda x: x.startswith(gate), ods.columns)]\n",
    "od.plot()\n",
    "plt.legend(bbox_to_anchor=(1.1, 1.05))"
   ]
  },
  {
   "cell_type": "code",
   "execution_count": null,
   "id": "quiet-batman",
   "metadata": {},
   "outputs": [],
   "source": [
    "fluos = pd.read_csv('datasets/marionette_fluo.csv')\n",
    "gate = 'positive_control'\n",
    "fluo = fluos[filter(lambda x: x.startswith(gate), fluos.columns)]\n",
    "fluo.plot()\n",
    "plt.legend(bbox_to_anchor=(1.1, 1.05))"
   ]
  },
  {
   "cell_type": "code",
   "execution_count": null,
   "id": "pediatric-rachel",
   "metadata": {},
   "outputs": [],
   "source": []
  }
 ],
 "metadata": {
  "kernelspec": {
   "display_name": "Python 3",
   "language": "python",
   "name": "python3"
  },
  "language_info": {
   "codemirror_mode": {
    "name": "ipython",
    "version": 3
   },
   "file_extension": ".py",
   "mimetype": "text/x-python",
   "name": "python",
   "nbconvert_exporter": "python",
   "pygments_lexer": "ipython3",
   "version": "3.9.2"
  }
 },
 "nbformat": 4,
 "nbformat_minor": 5
}
