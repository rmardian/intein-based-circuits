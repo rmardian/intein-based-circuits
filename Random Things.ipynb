{
 "cells": [
  {
   "cell_type": "code",
   "execution_count": 1,
   "id": "ca2baa8a",
   "metadata": {},
   "outputs": [],
   "source": [
    "import numpy as np"
   ]
  },
  {
   "cell_type": "code",
   "execution_count": 11,
   "id": "75ea0883",
   "metadata": {},
   "outputs": [],
   "source": [
    "arr2 = [31453, 33073, 7456, 6111, 7616, 7438, 12354, 12307]"
   ]
  },
  {
   "cell_type": "code",
   "execution_count": 13,
   "id": "b4ac7577",
   "metadata": {},
   "outputs": [
    {
     "data": {
      "text/plain": [
       "[14628.0,\n",
       " 3993.0,\n",
       " 10704.0,\n",
       " 7386.0,\n",
       " 16515.0,\n",
       " 18098.0,\n",
       " 17394.0,\n",
       " 26768.0,\n",
       " 8236.0,\n",
       " 21973.0]"
      ]
     },
     "execution_count": 13,
     "metadata": {},
     "output_type": "execute_result"
    }
   ],
   "source": [
    "[np.ceil(i) for i in np.random.normal(np.mean(arr2), np.std(arr2), 10)]"
   ]
  },
  {
   "cell_type": "code",
   "execution_count": 9,
   "id": "ef5075d6",
   "metadata": {},
   "outputs": [
    {
     "data": {
      "text/plain": [
       "[52.0,\n",
       " 49.0,\n",
       " 51.0,\n",
       " 53.0,\n",
       " 48.0,\n",
       " 50.0,\n",
       " 52.0,\n",
       " 52.0,\n",
       " 54.0,\n",
       " 51.0,\n",
       " 52.0,\n",
       " 52.0,\n",
       " 50.0,\n",
       " 48.0,\n",
       " 51.0,\n",
       " 51.0,\n",
       " 48.0,\n",
       " 49.0,\n",
       " 49.0,\n",
       " 49.0,\n",
       " 51.0,\n",
       " 50.0,\n",
       " 52.0,\n",
       " 49.0,\n",
       " 50.0,\n",
       " 51.0,\n",
       " 48.0,\n",
       " 50.0,\n",
       " 52.0,\n",
       " 50.0,\n",
       " 53.0,\n",
       " 49.0,\n",
       " 51.0,\n",
       " 50.0,\n",
       " 52.0,\n",
       " 54.0,\n",
       " 54.0,\n",
       " 51.0,\n",
       " 48.0,\n",
       " 51.0,\n",
       " 48.0,\n",
       " 49.0,\n",
       " 52.0,\n",
       " 51.0,\n",
       " 50.0,\n",
       " 52.0,\n",
       " 48.0,\n",
       " 49.0,\n",
       " 52.0,\n",
       " 49.0]"
      ]
     },
     "execution_count": 9,
     "metadata": {},
     "output_type": "execute_result"
    }
   ],
   "source": [
    "[np.ceil(i) for i in np.random.normal(np.mean(arr), np.std(arr), 50)]"
   ]
  },
  {
   "cell_type": "code",
   "execution_count": 6,
   "id": "312d9180",
   "metadata": {},
   "outputs": [],
   "source": [
    "arr = [48, 49, 51, 52, 53, 52, 54, 50, 51, 52, 53, 51, 48, 51, 49, 48, 48, 49,\n",
    "52, 49, 50, 51, 50, 48, 49, 51, 47, 50]"
   ]
  },
  {
   "cell_type": "code",
   "execution_count": 7,
   "id": "6101d646",
   "metadata": {},
   "outputs": [
    {
     "data": {
      "text/plain": [
       "(50.214285714285715, 1.779990827768159)"
      ]
     },
     "execution_count": 7,
     "metadata": {},
     "output_type": "execute_result"
    }
   ],
   "source": [
    "np.mean(arr), np.std(arr)"
   ]
  },
  {
   "cell_type": "code",
   "execution_count": null,
   "id": "867dda45",
   "metadata": {},
   "outputs": [],
   "source": []
  }
 ],
 "metadata": {
  "kernelspec": {
   "display_name": "Python 3 (ipykernel)",
   "language": "python",
   "name": "python3"
  },
  "language_info": {
   "codemirror_mode": {
    "name": "ipython",
    "version": 3
   },
   "file_extension": ".py",
   "mimetype": "text/x-python",
   "name": "python",
   "nbconvert_exporter": "python",
   "pygments_lexer": "ipython3",
   "version": "3.9.12"
  }
 },
 "nbformat": 4,
 "nbformat_minor": 5
}
