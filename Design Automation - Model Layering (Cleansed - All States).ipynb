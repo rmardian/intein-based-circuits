{
 "cells": [
  {
   "cell_type": "code",
   "execution_count": 1,
   "id": "requested-chambers",
   "metadata": {},
   "outputs": [],
   "source": [
    "import pandas as pd\n",
    "pd.set_option('display.max_columns', None)\n",
    "import numpy as np\n",
    "import matplotlib.pyplot as plt\n",
    "import seaborn as sns\n",
    "sns.set_style('white')\n",
    "from scipy.optimize import curve_fit\n",
    "from scipy.integrate import odeint\n",
    "from tqdm import tqdm\n",
    "import itertools\n",
    "import random\n",
    "import warnings\n",
    "warnings.filterwarnings('ignore')"
   ]
  },
  {
   "cell_type": "markdown",
   "id": "loving-bishop",
   "metadata": {},
   "source": [
    "#### Import datasets"
   ]
  },
  {
   "cell_type": "code",
   "execution_count": 2,
   "id": "opened-crisis",
   "metadata": {},
   "outputs": [],
   "source": [
    "fluo00 = pd.read_csv('datasets/bulk-fluo-00.csv', index_col='time')\n",
    "od00 = pd.read_csv('datasets/od-00.csv', index_col='time')\n",
    "fluo01 = pd.read_csv('datasets/bulk-fluo-01.csv', index_col='time')\n",
    "od01 = pd.read_csv('datasets/od-01.csv', index_col='time')\n",
    "fluo10 = pd.read_csv('datasets/bulk-fluo-10.csv', index_col='time')\n",
    "od10 = pd.read_csv('datasets/od-10.csv', index_col='time')\n",
    "fluo11 = pd.read_csv('datasets/bulk-fluo-11.csv', index_col='time')\n",
    "od11 = pd.read_csv('datasets/od-11.csv', index_col='time')\n",
    "gates = fluo11.columns.tolist()"
   ]
  },
  {
   "cell_type": "code",
   "execution_count": 3,
   "id": "caring-conservative",
   "metadata": {},
   "outputs": [],
   "source": [
    "#od\n",
    "def growth_rate(t, OD, alpha, beta):\n",
    "    return (alpha * (1 - (OD/beta)))\n",
    "\n",
    "def od_wrapper(t, k1, k2, c0):\n",
    "    \n",
    "    def od_model(OD, t, mgr, mcc):\n",
    "        dOD = growth_rate(t, OD[0], mgr, mcc) * OD[0]\n",
    "        return dOD\n",
    "    \n",
    "    od_rates = (k1, k2)\n",
    "    od_sol = odeint(od_model, c0, t, od_rates)\n",
    "    return od_sol[:,0]\n",
    "\n",
    "def od_inference(od):\n",
    "    od_bounds = [(0, 0, 0), (1, 2, 0.1)]\n",
    "    od_params = []\n",
    "    od_t = od.index\n",
    "    for idx in range(od.shape[1]):\n",
    "        od_data = od.iloc[:,idx]\n",
    "        opt, _ = curve_fit(od_wrapper, od_t, od_data, bounds=od_bounds)\n",
    "        od_params.append(opt)\n",
    "    return od_params\n",
    "\n",
    "#fluorescence\n",
    "def hill_equation(x, K, n):\n",
    "    return x**n / (K**n + x**n)\n",
    "\n",
    "def gate_wrapper(t, b, syn_ECFn, syn_ECFc, syn_ECF, deg, syn_GFP, deg_GFP, K, ind1, ind2, n, extra, y0):\n",
    "    \n",
    "    #fixed parameters\n",
    "    alpha, beta = extra\n",
    "\n",
    "    def gate_model(y, t):\n",
    "        \n",
    "        #dependent variables\n",
    "        ECFn, ECFc, ECF, GFP, OD = y\n",
    "        \n",
    "        gamma = growth_rate(t, OD, alpha, beta)\n",
    "        #differential equations\n",
    "        dOD = gamma * OD\n",
    "        dECFn = b + syn_ECFn * ind1 - (deg + gamma) * ECFn\n",
    "        dECFc = b + syn_ECFc * ind2 - (deg + gamma) * ECFc\n",
    "        dECF = syn_ECF * ECFn * ECFc - (deg + gamma) * ECF\n",
    "        \n",
    "        dGFP = syn_GFP * hill_equation(ECF, K, n) - (deg_GFP + gamma) * GFP\n",
    "\n",
    "        return [dECFn, dECFc, dECF, dGFP, dOD]\n",
    "    \n",
    "    solution = odeint(gate_model, y0, t)\n",
    "    return solution.transpose()\n",
    "\n",
    "def fit_multiple(fluo, od_params):\n",
    "    \n",
    "    title = fluo.columns.tolist()[0]\n",
    "    \n",
    "    f_t_i = fluo.index\n",
    "    f_t = np.append(f_t_i, f_t_i)\n",
    "    f_t = np.append(f_t, f_t_i)\n",
    "    f_t = np.append(f_t, f_t_i)\n",
    "    \n",
    "    f_data_00 = fluo.iloc[:,0]\n",
    "    f_data_01 = fluo.iloc[:,1]\n",
    "    f_data_10 = fluo.iloc[:,2]\n",
    "    f_data_11 = fluo.iloc[:,3]\n",
    "    f_data = np.append(f_data_00, f_data_01)\n",
    "    f_data = np.append(f_data, f_data_10)\n",
    "    f_data = np.append(f_data, f_data_11)\n",
    "    \n",
    "    alpha_00, beta_00, c0_00 = od_params[0]\n",
    "    alpha_01, beta_01, c0_01 = od_params[1]\n",
    "    alpha_10, beta_10, c0_10 = od_params[2]\n",
    "    alpha_11, beta_11, c0_11 = od_params[3]\n",
    "    \n",
    "    y0_00 = np.array([0, 0, 0, 0, c0_00])\n",
    "    y0_01 = np.array([0, 0, 0, 0, c0_01])\n",
    "    y0_10 = np.array([0, 0, 0, 0, c0_10])\n",
    "    y0_11 = np.array([0, 0, 0, 0, c0_11])\n",
    "    y0 = np.append(y0_00, y0_01)\n",
    "    y0 = np.append(y0, y0_10)\n",
    "    y0 = np.append(y0, y0_11)\n",
    "    extra_00 = (alpha_00, beta_00)\n",
    "    extra_01 = (alpha_01, beta_01)\n",
    "    extra_10 = (alpha_10, beta_10)\n",
    "    extra_11 = (alpha_11, beta_11)\n",
    "    \n",
    "    parameters = ['b', 'syn_ECFn', 'syn_ECFc', 'syn_ECF', 'deg', 'syn_GFP', 'deg_GFP', 'K']\n",
    "    init_guess = [1e-1, 1, 1, 1e-6, 1e-3, 1e2, 1e-2, 1]\n",
    "    gate_bounds_together = [np.array(init_guess)*0, np.array(init_guess)*100]\n",
    "    \n",
    "    def model_fit_00(t, a, b, c, d, e, f, g, h):\n",
    "        fit = gate_wrapper(t, a, b, c, d, e, f, g, h, 0, 0, 4, extra_00, y0_00)\n",
    "        return fit[3]\n",
    "    \n",
    "    def model_fit_01(t, a, b, c, d, e, f, g, h):\n",
    "        fit = gate_wrapper(t, a, b, c, d, e, f, g, h, 0, 1, 4, extra_01, y0_01)\n",
    "        return fit[3]\n",
    "    \n",
    "    def model_fit_10(t, a, b, c, d, e, f, g, h):\n",
    "        fit = gate_wrapper(t, a, b, c, d, e, f, g, h, 1, 0, 4, extra_10, y0_10)\n",
    "        return fit[3]\n",
    "    \n",
    "    def model_fit_11(t, a, b, c, d, e, f, g, h):\n",
    "        fit = gate_wrapper(t, a, b, c, d, e, f, g, h, 1, 1, 4, extra_11, y0_11)\n",
    "        return fit[3]\n",
    "    \n",
    "    def model_fit(t, a, b, c, d, e, f, g, h):\n",
    "        result_00 = model_fit_00(f_t_i, a, b, c, d, e, f, g, h)\n",
    "        result_01 = model_fit_01(f_t_i, a, b, c, d, e, f, g, h)\n",
    "        result_10 = model_fit_10(f_t_i, a, b, c, d, e, f, g, h)\n",
    "        result_11 = model_fit_11(f_t_i, a, b, c, d, e, f, g, h)\n",
    "        \n",
    "        result = np.append(result_00, result_01)\n",
    "        result = np.append(result, result_10)\n",
    "        result = np.append(result, result_11)\n",
    "        \n",
    "        return result\n",
    "    \n",
    "    f_params, f_cov = curve_fit(model_fit, f_t, f_data, p0=init_guess, bounds=gate_bounds_together)#, method='dogbox')\n",
    "    f_sim = model_fit(f_t, *f_params)\n",
    "    f_df = pd.DataFrame({'Parameters': parameters, 'Value': f_params, 'Err': np.sqrt(np.diag(f_cov))})\n",
    "    return f_t, f_df, f_sim, f_data"
   ]
  },
  {
   "cell_type": "code",
   "execution_count": 4,
   "id": "productive-status",
   "metadata": {},
   "outputs": [
    {
     "name": "stderr",
     "output_type": "stream",
     "text": [
      "100%|██████████| 21/21 [02:49<00:00,  8.08s/it]\n"
     ]
    }
   ],
   "source": [
    "gates = fluo11.columns.tolist()\n",
    "f_t_res_all = []\n",
    "f_df_res_all = []\n",
    "f_sim_res_all = []\n",
    "f_data_res_all = []\n",
    "\n",
    "for gate in tqdm(gates):\n",
    "    \n",
    "    fluo_selected = pd.concat([fluo00[gate], fluo01[gate]], axis=1)\n",
    "    fluo_selected = pd.concat([fluo_selected, fluo10[gate]], axis=1)\n",
    "    fluo_selected = pd.concat([fluo_selected, fluo11[gate]], axis=1)\n",
    "    od_selected = pd.concat([od00[gate], od01[gate]], axis=1)\n",
    "    od_selected = pd.concat([od_selected, od10[gate]], axis=1)\n",
    "    od_selected = pd.concat([od_selected, od11[gate]], axis=1)\n",
    "    \n",
    "    od_params_selected = od_inference(od_selected)\n",
    "    \n",
    "    f_t_res, f_df_res, f_sim_res, f_data_res = fit_multiple(fluo_selected, od_params_selected)\n",
    "    f_t_res_all.append(f_t_res)\n",
    "    f_df_res_all.append(f_df_res)\n",
    "    f_sim_res_all.append(f_sim_res)\n",
    "    f_data_res_all.append(f_data_res)"
   ]
  },
  {
   "cell_type": "markdown",
   "id": "white-heart",
   "metadata": {},
   "source": [
    "### Layering the Models"
   ]
  },
  {
   "cell_type": "code",
   "execution_count": 142,
   "id": "american-monte",
   "metadata": {},
   "outputs": [],
   "source": [
    "class Gate:\n",
    "    def __init__(self, name, gate_params, od_params, fluo_data, od_data):\n",
    "        \n",
    "        #metadata\n",
    "        self.name = name\n",
    "        \n",
    "        #parameters\n",
    "        self.syn_ECFn = gate_params[0]\n",
    "        self.syn_ECFc = gate_params[1]\n",
    "        self.syn_ECF = gate_params[2]\n",
    "        self.deg = gate_params[3]\n",
    "        self.syn_GFP = gate_params[4]\n",
    "        self.deg_GFP = gate_params[5]\n",
    "        self.K = gate_params[6]\n",
    "        self.n = gate_params[7]\n",
    "        self.alpha = od_params[0]\n",
    "        self.beta = od_params[1]\n",
    "        self.gamma = 0\n",
    "        \n",
    "        #initial states\n",
    "        self.ECFn = 0\n",
    "        self.ECFc = 0\n",
    "        self.ECF = 0\n",
    "        self.GFP = 0\n",
    "        self.OD = od_params[2]\n",
    "        \n",
    "        #derivative states\n",
    "        self.dECFn = 0\n",
    "        self.dECFc = 0\n",
    "        self.dECF = 0\n",
    "        self.dGFP = 0\n",
    "        self.dOD = 0\n",
    "        \n",
    "        #connection\n",
    "        self.connection = None\n",
    "        \n",
    "        #data\n",
    "        self.fluo_data = fluo_data\n",
    "        self.od_data = od_data\n",
    "        \n",
    "    def get_params(self):\n",
    "        return [self.syn_ECFn, self.syn_ECFc, self.syn_ECF, self.deg, self.syn_GFP, self.deg_GFP, self.K, self.n, self.alpha, self.beta]\n",
    "    \n",
    "    def get_init_states(self):\n",
    "        return [self.ECFn, self.ECFc, self.ECF, self.GFP, self.OD]\n",
    "    \n",
    "class Connection:\n",
    "    def __init__(self, name, input1, input2, output, level, index, input1_idx, input2_idx, output_idx):\n",
    "        self.name = name\n",
    "        self.input1 = input1\n",
    "        self.input2 = input2\n",
    "        self.output = output\n",
    "        self.level = level #0: input, 1: intermediate, 2:output\n",
    "        self.index = index\n",
    "        self.input1_idx = input1_idx\n",
    "        self.input2_idx = input2_idx\n",
    "        self.output_idx = output_idx\n",
    "         \n",
    "class Circuit:\n",
    "    def __init__(self, fluo, od, gate_params, od_params, schema, arrangement):\n",
    "        \n",
    "        #inducers\n",
    "        self.inducers = [1] * 8\n",
    "        \n",
    "        #gate\n",
    "        self.gates = []\n",
    "        for i in arrangement:\n",
    "            self.gates.append(Gate('g' + str(i), gate_params[i], od_params[i], fluo.iloc[:,i], od.iloc[:,i]))\n",
    "        \n",
    "        self.connections = [\n",
    "            Connection('c1', self.inducers[0], self.inducers[1], None, 0, 0, 0, 1, 4),\n",
    "            Connection('c2', self.inducers[2], self.inducers[3], None, 0, 1, 2, 3, 4),\n",
    "            Connection('c3', self.inducers[4], self.inducers[5], None, 0, 4, 0, 1, 6),\n",
    "            Connection('c4', self.inducers[6], self.inducers[7], None, 0, 3, 6, 7, 5),\n",
    "            Connection('c5', self.gates[0], self.gates[1], None, 1, 4, 0, 1, 6),\n",
    "            Connection('c6', self.gates[2], self.gates[3], None, 1, 5, 2, 3, 6),\n",
    "            Connection('c7', self.gates[4], self.gates[5], None, 2, 6, 4, 5, 6)\n",
    "        ]\n",
    "        \n",
    "        for i, g in enumerate(self.gates):\n",
    "            g.connection = self.connections[i]\n",
    "\n",
    "    def get_all_params(self):\n",
    "        params = []\n",
    "        for g in self.gates:\n",
    "            params.append(g.get_params())\n",
    "        return np.array(params)\n",
    "    \n",
    "    def get_all_init_states(self):\n",
    "        init_states = []\n",
    "        for g in self.gates:\n",
    "            init_states.append(g.get_init_states())\n",
    "        return np.array(init_states)"
   ]
  },
  {
   "cell_type": "code",
   "execution_count": 143,
   "id": "vocal-merchant",
   "metadata": {},
   "outputs": [],
   "source": [
    "def hill_equation2(x, K, n):\n",
    "    return x**n / (K**n + x**n)\n",
    "\n",
    "def gate_wrapper2(t, circuit):\n",
    "    \n",
    "    y0 = np.array([g.get_init_states() for g in circuit.gates]).ravel()\n",
    "    \n",
    "    def gate_model2(y, t):\n",
    "        \n",
    "        yi = np.reshape(y, (-1, 5))\n",
    "        yn = []\n",
    "        \n",
    "        for i, g in enumerate(circuit.gates):\n",
    "            \n",
    "            g.ECFn, g.ECFc, g.ECF, g.GFP, g.OD = yi[i]\n",
    "        \n",
    "            #growth\n",
    "            g.gamma = growth_rate(t, g.OD, g.alpha, g.beta)\n",
    "            g.dOD = g.gamma * g.OD\n",
    "            \n",
    "            #level 0 (input)\n",
    "            if g.connection.level==0:\n",
    "                \n",
    "                g.dECFn = g.syn_ECFn * g.connection.input1 - (g.deg + g.gamma) * g.ECFn\n",
    "                g.dECFc = g.syn_ECFc * g.connection.input2 - (g.deg + g.gamma) * g.ECFc\n",
    "                g.dECF = g.syn_ECF * g.ECFn * g.ECFc - (g.deg + g.gamma) * g.ECF\n",
    "                \n",
    "                #g.dGFP = g.syn_GFP * hill_equation(g.ECF, g.K, g.n) - (g.deg_GFP + g.gamma) * g.GFP\n",
    "                \n",
    "                yn.append([g.dECFn, g.dECFc, g.dECF, g.dGFP, g.dOD])\n",
    "                \n",
    "            #level 1 (middle)\n",
    "            elif g.connection.level==1:\n",
    "\n",
    "                input1 = g.connection.input1\n",
    "                input2 = g.connection.input2\n",
    "                g.dECFn = g.syn_ECFn * hill_equation(input1.ECF, input1.K, input1.n) - (g.deg + g.gamma) * g.ECFn\n",
    "                g.dECFc = g.syn_ECFc * hill_equation(input2.ECF, input2.K, input2.n) - (g.deg + g.gamma) * g.ECFc\n",
    "                g.dECF = g.syn_ECF * g.ECFn * g.ECFc - (g.deg + g.gamma) * g.ECF\n",
    "                \n",
    "                #g.dGFP = g.syn_GFP * hill_equation(g.ECF, g.K, g.n) - (g.deg_GFP + g.gamma) * g.GFP\n",
    "                \n",
    "                yn.append([g.dECFn, g.dECFc, g.dECF, g.dGFP, g.dOD])\n",
    "                \n",
    "            #level 2 (output)\n",
    "            elif g.connection.level==2:\n",
    "                \n",
    "                input1 = g.connection.input1\n",
    "                input2 = g.connection.input2\n",
    "                \n",
    "                g.dECFn = g.syn_ECFn * hill_equation(input1.ECF, input1.K, input1.n) - (g.deg + g.gamma) * g.ECFn\n",
    "                g.dECFc = g.syn_ECFc * hill_equation(input2.ECF, input2.K, input2.n) - (g.deg + g.gamma) * g.ECFc\n",
    "                g.dECF = g.syn_ECF * g.ECFn * g.ECFc - (g.deg + g.gamma) * g.ECF\n",
    "                \n",
    "                g.dGFP = g.syn_GFP * hill_equation(g.ECF, g.K, g.n) - (g.deg_GFP + g.gamma) * g.GFP\n",
    "                \n",
    "                yn.append([g.dECFn, g.dECFc, g.dECF, g.dGFP, g.dOD])\n",
    "        \n",
    "        return np.array(yn).ravel()\n",
    "    \n",
    "    solution = odeint(gate_model2, y0, t)\n",
    "    return solution.transpose()"
   ]
  },
  {
   "cell_type": "markdown",
   "id": "directed-disabled",
   "metadata": {},
   "source": [
    "### Exhaustive Search"
   ]
  },
  {
   "cell_type": "code",
   "execution_count": 144,
   "id": "rapid-circumstances",
   "metadata": {},
   "outputs": [
    {
     "ename": "KeyboardInterrupt",
     "evalue": "",
     "output_type": "error",
     "traceback": [
      "\u001b[0;31m---------------------------------------------------------------------------\u001b[0m",
      "\u001b[0;31mKeyboardInterrupt\u001b[0m                         Traceback (most recent call last)",
      "\u001b[0;32m<ipython-input-144-5697953394de>\u001b[0m in \u001b[0;36m<module>\u001b[0;34m\u001b[0m\n\u001b[1;32m      1\u001b[0m \u001b[0mgate_params_selected\u001b[0m \u001b[0;34m=\u001b[0m \u001b[0;34m[\u001b[0m\u001b[0mpar\u001b[0m\u001b[0;34m[\u001b[0m\u001b[0;34m'Value'\u001b[0m\u001b[0;34m]\u001b[0m \u001b[0;32mfor\u001b[0m \u001b[0mpar\u001b[0m \u001b[0;32min\u001b[0m \u001b[0mf_df_deg\u001b[0m\u001b[0;34m]\u001b[0m\u001b[0;34m\u001b[0m\u001b[0;34m\u001b[0m\u001b[0m\n\u001b[0;32m----> 2\u001b[0;31m \u001b[0mall_arr\u001b[0m \u001b[0;34m=\u001b[0m \u001b[0;34m[\u001b[0m\u001b[0mlist\u001b[0m\u001b[0;34m(\u001b[0m\u001b[0ma\u001b[0m\u001b[0;34m)\u001b[0m \u001b[0;32mfor\u001b[0m \u001b[0ma\u001b[0m \u001b[0;32min\u001b[0m \u001b[0mlist\u001b[0m\u001b[0;34m(\u001b[0m\u001b[0mitertools\u001b[0m\u001b[0;34m.\u001b[0m\u001b[0mpermutations\u001b[0m\u001b[0;34m(\u001b[0m\u001b[0mnp\u001b[0m\u001b[0;34m.\u001b[0m\u001b[0marange\u001b[0m\u001b[0;34m(\u001b[0m\u001b[0mlen\u001b[0m\u001b[0;34m(\u001b[0m\u001b[0mgate_params_selected\u001b[0m\u001b[0;34m)\u001b[0m\u001b[0;34m)\u001b[0m\u001b[0;34m,\u001b[0m \u001b[0;36m7\u001b[0m\u001b[0;34m)\u001b[0m\u001b[0;34m)\u001b[0m\u001b[0;34m]\u001b[0m\u001b[0;34m\u001b[0m\u001b[0;34m\u001b[0m\u001b[0m\n\u001b[0m\u001b[1;32m      3\u001b[0m \u001b[0mlen\u001b[0m\u001b[0;34m(\u001b[0m\u001b[0mall_arr\u001b[0m\u001b[0;34m)\u001b[0m\u001b[0;34m\u001b[0m\u001b[0;34m\u001b[0m\u001b[0m\n",
      "\u001b[0;32m<ipython-input-144-5697953394de>\u001b[0m in \u001b[0;36m<listcomp>\u001b[0;34m(.0)\u001b[0m\n\u001b[1;32m      1\u001b[0m \u001b[0mgate_params_selected\u001b[0m \u001b[0;34m=\u001b[0m \u001b[0;34m[\u001b[0m\u001b[0mpar\u001b[0m\u001b[0;34m[\u001b[0m\u001b[0;34m'Value'\u001b[0m\u001b[0;34m]\u001b[0m \u001b[0;32mfor\u001b[0m \u001b[0mpar\u001b[0m \u001b[0;32min\u001b[0m \u001b[0mf_df_deg\u001b[0m\u001b[0;34m]\u001b[0m\u001b[0;34m\u001b[0m\u001b[0;34m\u001b[0m\u001b[0m\n\u001b[0;32m----> 2\u001b[0;31m \u001b[0mall_arr\u001b[0m \u001b[0;34m=\u001b[0m \u001b[0;34m[\u001b[0m\u001b[0mlist\u001b[0m\u001b[0;34m(\u001b[0m\u001b[0ma\u001b[0m\u001b[0;34m)\u001b[0m \u001b[0;32mfor\u001b[0m \u001b[0ma\u001b[0m \u001b[0;32min\u001b[0m \u001b[0mlist\u001b[0m\u001b[0;34m(\u001b[0m\u001b[0mitertools\u001b[0m\u001b[0;34m.\u001b[0m\u001b[0mpermutations\u001b[0m\u001b[0;34m(\u001b[0m\u001b[0mnp\u001b[0m\u001b[0;34m.\u001b[0m\u001b[0marange\u001b[0m\u001b[0;34m(\u001b[0m\u001b[0mlen\u001b[0m\u001b[0;34m(\u001b[0m\u001b[0mgate_params_selected\u001b[0m\u001b[0;34m)\u001b[0m\u001b[0;34m)\u001b[0m\u001b[0;34m,\u001b[0m \u001b[0;36m7\u001b[0m\u001b[0;34m)\u001b[0m\u001b[0;34m)\u001b[0m\u001b[0;34m]\u001b[0m\u001b[0;34m\u001b[0m\u001b[0;34m\u001b[0m\u001b[0m\n\u001b[0m\u001b[1;32m      3\u001b[0m \u001b[0mlen\u001b[0m\u001b[0;34m(\u001b[0m\u001b[0mall_arr\u001b[0m\u001b[0;34m)\u001b[0m\u001b[0;34m\u001b[0m\u001b[0;34m\u001b[0m\u001b[0m\n",
      "\u001b[0;31mKeyboardInterrupt\u001b[0m: "
     ]
    }
   ],
   "source": [
    "gate_params_selected = [par['Value'] for par in f_df_deg]\n",
    "all_arr = [list(a) for a in list(itertools.permutations(np.arange(len(gate_params_selected)), 7))]\n",
    "len(all_arr)"
   ]
  },
  {
   "cell_type": "code",
   "execution_count": 15,
   "id": "catholic-saturn",
   "metadata": {},
   "outputs": [
    {
     "name": "stderr",
     "output_type": "stream",
     "text": [
      "100%|██████████| 5040/5040 [03:19<00:00, 25.29it/s]\n"
     ]
    }
   ],
   "source": [
    "gate_params_selected = [par['Value'] for par in f_df_deg]\n",
    "#arr = np.arange(len(gate_params_selected))\n",
    "#np.random.shuffle(arr)\n",
    "#print(arr)\n",
    "f_t = fluo_selected.index\n",
    "\n",
    "results = []\n",
    "for i, arr in enumerate(tqdm(all_arr)):\n",
    "    circuit = Circuit(fluo_selected, od_selected, gate_params_selected, od_params_selected, None, arr)\n",
    "    model = gate_wrapper2(f_t, circuit)\n",
    "    gfp = pd.Series(model[33], index=f_t/60)\n",
    "    dyn = gfp.max() - gfp.min()\n",
    "    results.append((dyn, arr))"
   ]
  },
  {
   "cell_type": "code",
   "execution_count": 16,
   "id": "compact-inflation",
   "metadata": {},
   "outputs": [
    {
     "name": "stderr",
     "output_type": "stream",
     "text": [
      " 20%|██        | 2/10 [00:00<00:00, 17.17it/s]"
     ]
    },
    {
     "name": "stdout",
     "output_type": "stream",
     "text": [
      "Best result 111984.93874136555\n"
     ]
    },
    {
     "name": "stderr",
     "output_type": "stream",
     "text": [
      "100%|██████████| 10/10 [00:00<00:00, 22.20it/s]\n"
     ]
    },
    {
     "data": {
      "image/png": "[encoded data removed]",
      "text/plain": [
       "<Figure size 432x288 with 1 Axes>"
      ]
     },
     "metadata": {},
     "output_type": "display_data"
    }
   ],
   "source": [
    "best_results = sorted(results, reverse=True)[:10]\n",
    "print('Best result', best_results[0][0])\n",
    "for i, res in enumerate(tqdm(best_results)):\n",
    "    circuit = Circuit(fluo_selected, od_selected, gate_params_selected, od_params_selected, None, res[1])\n",
    "    model = gate_wrapper2(f_t, circuit)\n",
    "    gfp = pd.Series(model[33], index=f_t/60)\n",
    "    plt.plot(gfp, label= res[1])\n",
    "plt.legend(bbox_to_anchor=(1.05, 1), ncol=2)\n",
    "sns.despine()\n",
    "plt.show()"
   ]
  },
  {
   "cell_type": "markdown",
   "id": "threatened-mining",
   "metadata": {},
   "source": [
    "### Genetic Algorithm"
   ]
  },
  {
   "cell_type": "code",
   "execution_count": 145,
   "id": "detected-memorabilia",
   "metadata": {},
   "outputs": [
    {
     "data": {
      "text/plain": [
       "13"
      ]
     },
     "execution_count": 145,
     "metadata": {},
     "output_type": "execute_result"
    }
   ],
   "source": [
    "len(selected)"
   ]
  },
  {
   "cell_type": "code",
   "execution_count": 146,
   "id": "honey-buddy",
   "metadata": {},
   "outputs": [
    {
     "name": "stderr",
     "output_type": "stream",
     "text": [
      "100%|██████████| 50/50 [04:23<00:00,  5.27s/it]\n"
     ]
    }
   ],
   "source": [
    "def initialPopulation(pop_size, num_indiv, length):\n",
    "    population = []\n",
    "    arrangement = np.arange(num_indiv)\n",
    "    for i in range(pop_size):\n",
    "        new_arrangement = [i for i in arrangement]\n",
    "        np.random.shuffle(new_arrangement)\n",
    "        population.append(new_arrangement[:length])\n",
    "    return np.array(population)\n",
    "\n",
    "def calculateFitness(pop):\n",
    "    \n",
    "    f_t = fluo_selected.index\n",
    "    fitness = []\n",
    "    \n",
    "    for i, p in enumerate(pop):\n",
    "        circuit = Circuit(fluo_selected, od_selected, gate_params_selected, od_params_selected, None, p)\n",
    "        model = gate_wrapper2(f_t, circuit)\n",
    "        gfp = pd.Series(model[33], index=f_t/60)\n",
    "        fitness.append(gfp.max()-gfp.min())\n",
    "    return np.array(fitness)\n",
    "\n",
    "def rankIndiv(population):\n",
    "    \n",
    "    fitness = calculateFitness(population)\n",
    "    fitnessResults = [(a, b) for a, b in zip(population, fitness)]\n",
    "    return np.array(sorted(fitnessResults, key=lambda x: x[1], reverse=True))\n",
    "\n",
    "def selection(popRanked, eliteSize):\n",
    "    \n",
    "    selectionResults = []\n",
    "    df = pd.DataFrame(np.array(popRanked), columns=[\"Index\",\"Fitness\"])\n",
    "    df['cum_sum'] = df.Fitness.cumsum()\n",
    "    df['cum_perc'] = 100*df.cum_sum/df.Fitness.sum()\n",
    "    \n",
    "    for i in range(0, eliteSize):\n",
    "        selectionResults.append(popRanked[i][0])\n",
    "    for i in range(0, len(popRanked) - eliteSize):\n",
    "        pick = 100*random.random()\n",
    "        for i in range(0, len(popRanked)):\n",
    "            if pick <= df.iat[i,3]:\n",
    "                selectionResults.append(popRanked[i][0])\n",
    "                break\n",
    "    return selectionResults\n",
    "\n",
    "def matingPool(population, selectionResults):\n",
    "    matingpool = []\n",
    "    for i in range(0, len(selectionResults)):\n",
    "        selected = selectionResults[i]\n",
    "        matingpool.append(selected)\n",
    "    return matingpool\n",
    "\n",
    "def breed(parent1, parent2):\n",
    "    child = []\n",
    "    childP1 = []\n",
    "    childP2 = []\n",
    "    \n",
    "    geneA = int(random.random() * len(parent1))\n",
    "    geneB = int(random.random() * len(parent1))\n",
    "    \n",
    "    startGene = min(geneA, geneB)\n",
    "    endGene = max(geneA, geneB)\n",
    "\n",
    "    for i in range(startGene, endGene):\n",
    "        childP1.append(parent1[i])\n",
    "        \n",
    "    childP2 = [item for item in parent2 if item not in childP1]\n",
    "\n",
    "    child = childP1 + childP2\n",
    "    \n",
    "    return child\n",
    "\n",
    "def breedPopulation(matingpool, eliteSize, length):\n",
    "    \n",
    "    children = []\n",
    "    nonElite = len(matingpool) - eliteSize\n",
    "    pool = random.choices(matingpool, k=len(matingpool))\n",
    "\n",
    "    for i in range(0, eliteSize):\n",
    "        children.append(matingpool[i])\n",
    "    \n",
    "    for i in range(0, nonElite):\n",
    "        child = breed(pool[i], pool[len(matingpool)-i-1])\n",
    "        children.append(child[:length])\n",
    "    \n",
    "    return np.array(children)\n",
    "\n",
    "def mutate(individual, mutationRate):\n",
    "    for swapped in range(len(individual)):\n",
    "        if(random.random() < mutationRate):\n",
    "            swapWith = int(random.random() * len(individual))\n",
    "            \n",
    "            city1 = individual[swapped]\n",
    "            city2 = individual[swapWith]\n",
    "            \n",
    "            individual[swapped] = city2\n",
    "            individual[swapWith] = city1\n",
    "    return individual\n",
    "\n",
    "def mutatePopulation(population, mutationRate):\n",
    "    mutatedPop = []\n",
    "    \n",
    "    for ind in range(0, len(population)):\n",
    "        mutatedInd = mutate(population[ind], mutationRate)\n",
    "        mutatedPop.append(mutatedInd)\n",
    "    return np.array(mutatedPop)\n",
    "\n",
    "def nextGeneration(currentGen, eliteSize, mutationRate, length):\n",
    "    \n",
    "    popRanked = rankIndiv(currentGen)\n",
    "    selectionResults = selection(popRanked, eliteSize)\n",
    "    matingpool = matingPool(currentGen, selectionResults)\n",
    "    children = breedPopulation(matingpool, eliteSize, length)\n",
    "    nextGeneration = mutatePopulation(children, mutationRate)\n",
    "    return nextGeneration\n",
    "\n",
    "def geneticAlgorithm(popSize, eliteSize, mutationRate, generations, candidates, length):\n",
    "    pop = initialPopulation(popSize, candidates, length)\n",
    "    pop_copy = [i for i in pop]\n",
    "    \n",
    "    for i in tqdm(range(0, generations)):\n",
    "        pop = nextGeneration(pop, eliteSize, mutationRate, length)\n",
    "    return pop_copy, rankIndiv(pop)\n",
    "\n",
    "pop_copy, result = geneticAlgorithm(popSize=100, eliteSize=20, mutationRate=0.01, generations=50, candidates=len(selected), length=7)\n",
    "#result"
   ]
  },
  {
   "cell_type": "code",
   "execution_count": 147,
   "id": "gross-thompson",
   "metadata": {},
   "outputs": [
    {
     "name": "stdout",
     "output_type": "stream",
     "text": [
      "[6 4 9 7 2 1 0]\n",
      "240227.33330534803\n"
     ]
    },
    {
     "data": {
      "image/png": "[encoded data removed]",
      "text/plain": [
       "<Figure size 432x288 with 1 Axes>"
      ]
     },
     "metadata": {},
     "output_type": "display_data"
    }
   ],
   "source": [
    "gate_params_selected = [par['Value'] for par in f_df_deg]\n",
    "ga_arrangement = result[0][0]\n",
    "print(ga_arrangement)\n",
    "\n",
    "f_t = fluo_selected.index\n",
    "for ar in pop_copy[:1]:\n",
    "\n",
    "    circuit = Circuit(fluo_selected, od_selected, gate_params_selected, od_params_selected, None, ga_arrangement)\n",
    "    model = gate_wrapper2(f_t, circuit)\n",
    "    gfp = pd.Series(model[33], index=f_t/60)\n",
    "    print(gfp.max()-gfp.min())\n",
    "    plt.plot(gfp, label=ga_arrangement)\n",
    "plt.legend(bbox_to_anchor=(1.05, 1), ncol=2)\n",
    "sns.despine()\n",
    "plt.show()"
   ]
  },
  {
   "cell_type": "code",
   "execution_count": 18,
   "id": "micro-announcement",
   "metadata": {},
   "outputs": [
    {
     "data": {
      "image/png": "[encoded data removed]",
      "text/plain": [
       "<Figure size 1008x144 with 7 Axes>"
      ]
     },
     "metadata": {},
     "output_type": "display_data"
    }
   ],
   "source": [
    "final_asg = fluo_selected[[fluo_selected.columns[j] for j in ga_arrangement]]\n",
    "num_col = 7\n",
    "num_row = 1\n",
    "f, axs = plt.subplots(num_row, num_col, sharex=True, sharey=True, figsize=(14, num_row*2))\n",
    "axr = axs.ravel()\n",
    "for i, ax in enumerate(axr):\n",
    "    if i < num_traces:\n",
    "        ax.plot(final_asg.index / 60, final_asg.iloc[:, i])\n",
    "        ax.set_title(final_asg.columns[i])\n",
    "        ax.set_xlabel('Time (h)')\n",
    "    else:\n",
    "        ax.set_visible(False)\n",
    "plt.tight_layout()\n",
    "sns.despine()"
   ]
  },
  {
   "cell_type": "code",
   "execution_count": 19,
   "id": "interim-split",
   "metadata": {},
   "outputs": [
    {
     "name": "stderr",
     "output_type": "stream",
     "text": [
      "100%|██████████| 20/20 [02:25<00:00,  7.28s/it]\n"
     ]
    },
    {
     "data": {
      "image/png": "[encoded data removed]",
      "text/plain": [
       "<Figure size 432x288 with 1 Axes>"
      ]
     },
     "metadata": {},
     "output_type": "display_data"
    }
   ],
   "source": [
    "def geneticAlgorithmPlot(pop_copy, popSize, eliteSize, mutationRate, generations, candidates, length):\n",
    "    pop = [i for i in pop_copy]\n",
    "    progress = []\n",
    "    progress.append(rankIndiv(pop)[0][1])\n",
    "    \n",
    "    for i in tqdm(range(0, generations)):\n",
    "        pop = nextGeneration(pop, eliteSize, mutationRate, length)\n",
    "        progress.append(rankIndiv(pop)[0][1])\n",
    "    return progress\n",
    "    \n",
    "progress = geneticAlgorithmPlot(pop_copy, popSize=100, eliteSize=20, mutationRate=0.01, generations=20, candidates=len(selected), length=7)\n",
    "plt.figure(figsize=[6, 4])\n",
    "plt.plot(progress[:20])\n",
    "plt.ylabel('Dynamic Range')\n",
    "plt.xlabel('Generation')\n",
    "sns.despine()\n",
    "plt.show()"
   ]
  },
  {
   "cell_type": "code",
   "execution_count": null,
   "id": "vertical-poverty",
   "metadata": {},
   "outputs": [],
   "source": []
  }
 ],
 "metadata": {
  "kernelspec": {
   "display_name": "Python 3",
   "language": "python",
   "name": "python3"
  },
  "language_info": {
   "codemirror_mode": {
    "name": "ipython",
    "version": 3
   },
   "file_extension": ".py",
   "mimetype": "text/x-python",
   "name": "python",
   "nbconvert_exporter": "python",
   "pygments_lexer": "ipython3",
   "version": "3.9.2"
  }
 },
 "nbformat": 4,
 "nbformat_minor": 5
}
