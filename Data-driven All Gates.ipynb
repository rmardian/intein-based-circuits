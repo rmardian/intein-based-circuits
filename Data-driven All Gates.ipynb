{
 "cells": [
  {
   "cell_type": "code",
   "execution_count": 1,
   "id": "2571dbac",
   "metadata": {},
   "outputs": [],
   "source": [
    "import numpy as np\n",
    "import pandas as pd\n",
    "pd.set_option('display.max_columns', None)\n",
    "#pd.set_option('display.max_rows', None)\n",
    "\n",
    "import matplotlib.pyplot as plt\n",
    "import seaborn as sns\n",
    "\n",
    "import itertools\n",
    "from tqdm import tqdm\n",
    "import warnings\n",
    "warnings.filterwarnings(\"ignore\")\n",
    "\n",
    "from scipy.optimize import curve_fit\n",
    "import sklearn.gaussian_process as gp\n",
    "from sklearn.ensemble import RandomForestRegressor\n",
    "from sklearn.linear_model import LinearRegression, ElasticNet\n",
    "from sklearn.preprocessing import PolynomialFeatures, OneHotEncoder\n",
    "from sklearn.model_selection import train_test_split, cross_validate, cross_val_score, KFold, RandomizedSearchCV\n",
    "from sklearn.metrics import r2_score, mean_absolute_error, mean_absolute_percentage_error\n",
    "\n",
    "from utils.model import hill_activation, hill_activation_single, hill_activation_and, hill_activation_and_fixed, random_search\n",
    "from utils.helper import generate_data_at_t, generate_data_at_t_2, sum_squared_error, \\\n",
    "                       get_blank_corrected, get_neg_ctrl_corrected, get_pos_ctrl_corrected, \\\n",
    "                       generate_data, setup_header, read_map\n",
    "from utils.plotter import plot_heatmap"
   ]
  },
  {
   "cell_type": "code",
   "execution_count": 22,
   "id": "8ca9ca9c",
   "metadata": {},
   "outputs": [],
   "source": [
    "folder = '033-all-and-gates-characterization'\n",
    "#ara = [0, 0.8125, 3.25, 13, 52, 208]\n",
    "#cuma = [0, 6.25, 12.5, 25, 50, 100]\n",
    "ara = [0, 0.8125, 1.625, 3.25, 6.5, 13]\n",
    "cuma = [0, 6.25, 12.5, 25, 50, 100]\n",
    "\n",
    "hill_params = {\n",
    "    'ara': [0.88, 0.3, 0.32, -2.85],\n",
    "    'cuma': [0.1, 1.82, 0.49, -2.9]\n",
    "}"
   ]
  },
  {
   "cell_type": "markdown",
   "id": "a9ceea9d",
   "metadata": {},
   "source": [
    "#### Actual inducers"
   ]
  },
  {
   "cell_type": "code",
   "execution_count": 23,
   "id": "d512ef17",
   "metadata": {},
   "outputs": [
    {
     "data": {
      "text/plain": [
       "([0, 0.8125, 1.625, 3.25, 6.5, 13], [0, 6.25, 12.5, 25, 50, 100])"
      ]
     },
     "execution_count": 23,
     "metadata": {},
     "output_type": "execute_result"
    }
   ],
   "source": [
    "aras = ara.copy()\n",
    "cumas = cuma.copy()\n",
    "aras, cumas"
   ]
  },
  {
   "cell_type": "code",
   "execution_count": 24,
   "id": "7f114511",
   "metadata": {},
   "outputs": [],
   "source": [
    "def build_plate_map(P1, P2):\n",
    "\n",
    "    plate_map_builder = [[P1] * 6 + [P2] * 6 for _ in range(6)]\n",
    "    plate_map_builder.append([np.NaN] * 12)\n",
    "    plate_map_builder.append([np.NaN, np.NaN, 'BK', 'BK', '3K3-N', '3K3-N', 'BA', 'BA', '4A3-N', '4A3-N', '4A3-P', '4A3-P'])\n",
    "    plate_map = pd.concat([pd.Series(['A', 'B', 'C', 'D', 'E', 'F', 'G', 'H']),\n",
    "               pd.DataFrame(np.array(plate_map_builder))], axis=1)\n",
    "    plate_map.columns = ['group', '1', '2', '3', '4', '5', '6', '7', '8', '9', '10', '11', '12']\n",
    "    \n",
    "    return plate_map"
   ]
  },
  {
   "cell_type": "code",
   "execution_count": 25,
   "id": "cf93a927",
   "metadata": {},
   "outputs": [
    {
     "name": "stderr",
     "output_type": "stream",
     "text": [
      " 33%|███████████████                              | 2/6 [00:00<00:00, 12.90it/s]"
     ]
    },
    {
     "name": "stdout",
     "output_type": "stream",
     "text": [
      "[('A', 'sample'), ('A', 'positive'), ('B', 'positive')]\n",
      "[('A', 'sample'), ('A', 'positive'), ('B', 'positive')]\n",
      "[('A', 'sample'), ('A', 'positive'), ('B', 'positive')]\n"
     ]
    },
    {
     "name": "stderr",
     "output_type": "stream",
     "text": [
      "100%|█████████████████████████████████████████████| 6/6 [00:00<00:00, 14.34it/s]"
     ]
    },
    {
     "name": "stdout",
     "output_type": "stream",
     "text": [
      "[('A', 'sample'), ('A', 'positive'), ('B', 'positive')]\n",
      "[('A', 'sample'), ('A', 'positive'), ('B', 'positive')]\n",
      "[('A', 'sample'), ('B', 'positive')]\n"
     ]
    },
    {
     "name": "stderr",
     "output_type": "stream",
     "text": [
      "\n"
     ]
    }
   ],
   "source": [
    "actual_heatmaps = []\n",
    "responses = []\n",
    "for i in tqdm(range(1, 7)):\n",
    "    ctrl_map = [(0, 2)] if i!=6 else [(0, 1)]\n",
    "    samples_t = generate_data_at_t(folder, 'induction_matrix/plate{}'.format(i),\n",
    "                                   '/induction_matrix/plate{}_map'.format(i),\n",
    "                                   kind='2-input induction matrix', pos_ctrl_map=ctrl_map)[0]\n",
    "    \n",
    "    for gate in sorted(list(set(samples_t.index.str[:-3].tolist()))):\n",
    "        \n",
    "        fluo_t = samples_t[filter(lambda x: x.startswith(gate), samples_t.index)].reset_index()\n",
    "        fluo_t['cuma'] = fluo_t['name'].str[-2].astype(int)\n",
    "        fluo_t['cuma'] = fluo_t['cuma'].apply(lambda x: cumas[x])\n",
    "        fluo_t['ara'] = fluo_t['name'].str[-1].astype(int)\n",
    "        fluo_t['ara'] = fluo_t['ara'].apply(lambda x: aras[x])\n",
    "        \n",
    "        fluo_t = fluo_t.rename(columns={'8 h ': 'actual'})\n",
    "        \n",
    "        actual = fluo_t[['actual', 'cuma', 'ara']].pivot('cuma', 'ara')\n",
    "        actual.index = [np.round(cm, 3) for cm in cumas]\n",
    "        actual.columns = [np.round(ar, 3) for ar in aras]\n",
    "        actual_heatmaps.append((gate, actual, fluo_t))"
   ]
  },
  {
   "cell_type": "code",
   "execution_count": 26,
   "id": "5d4286ed",
   "metadata": {},
   "outputs": [
    {
     "name": "stderr",
     "output_type": "stream",
     "text": [
      "100%|███████████████████████████████████████████| 55/55 [00:02<00:00, 24.86it/s]\n"
     ]
    }
   ],
   "source": [
    "gates_list = pd.read_csv('datasets/experiment/{}/plate_map.csv'.format(folder))\n",
    "\n",
    "for i in tqdm(range(len(gates_list))):\n",
    "    \n",
    "    P1, P2 = gates_list.iloc[i].tolist()\n",
    "    a, b = str(i*2+1).zfill(3), str(i*2+2).zfill(3)\n",
    "    \n",
    "    samples_t = generate_data_at_t_2(folder, '{}-{}'.format(a, b),\n",
    "                                   build_plate_map(P1, P2),\n",
    "                                   kind='2-input induction matrix', pos_ctrl_map=[(0, 1)],\n",
    "                                   single_timepoint=True)[0]\n",
    "    \n",
    "    for gate in sorted(list(set(samples_t.index.str[:-3].tolist()))):\n",
    "        \n",
    "        fluo_t = samples_t[filter(lambda x: x.startswith(gate), samples_t.index)].reset_index()\n",
    "        fluo_t['cuma'] = fluo_t['name'].str[-2].astype(int)\n",
    "        fluo_t['cuma'] = fluo_t['cuma'].apply(lambda x: cumas[x])\n",
    "        fluo_t['ara'] = fluo_t['name'].str[-1].astype(int)\n",
    "        fluo_t['ara'] = fluo_t['ara'].apply(lambda x: aras[x])\n",
    "        \n",
    "        fluo_t = fluo_t.rename(columns={0: 'actual'})\n",
    "        \n",
    "        actual = fluo_t[['actual', 'cuma', 'ara']].pivot('cuma', 'ara')\n",
    "        actual.index = [np.round(cm, 3) for cm in cumas]\n",
    "        actual.columns = [np.round(ar, 3) for ar in aras]\n",
    "        actual_heatmaps.append((gate, actual, fluo_t))"
   ]
  },
  {
   "cell_type": "code",
   "execution_count": 27,
   "id": "ebfd22a3",
   "metadata": {},
   "outputs": [
    {
     "data": {
      "text/plain": [
       "121"
      ]
     },
     "execution_count": 27,
     "metadata": {},
     "output_type": "execute_result"
    }
   ],
   "source": [
    "len(actual_heatmaps)"
   ]
  },
  {
   "cell_type": "code",
   "execution_count": 121,
   "id": "767a7d7d",
   "metadata": {},
   "outputs": [
    {
     "data": {
      "text/plain": [
       "(121, 121)"
      ]
     },
     "execution_count": 121,
     "metadata": {},
     "output_type": "execute_result"
    }
   ],
   "source": [
    "pop = [i[0] for i in actual_heatmaps]\n",
    "np.random.shuffle(pop)\n",
    "test_size = 0.03\n",
    "test_pop = pop[:int(len(pop)*test_size)]\n",
    "train_pop = pop[len(test_pop):]\n",
    "len(pop), len(train_pop)+len(test_pop)"
   ]
  },
  {
   "cell_type": "code",
   "execution_count": 123,
   "id": "4363d0a4",
   "metadata": {},
   "outputs": [
    {
     "data": {
      "text/plain": [
       "4356"
      ]
     },
     "execution_count": 123,
     "metadata": {},
     "output_type": "execute_result"
    }
   ],
   "source": [
    "samples = pd.concat([i[2] for i in actual_heatmaps], axis=0)\n",
    "samples['ecf'] = samples['name'].apply(lambda x: str(x[:3]))\n",
    "samples['intein'] = samples['name'].apply(lambda x: str(x[6:-3]))\n",
    "samples['rbs-c'] = samples['name'].apply(lambda x: str(x[4:6]))\n",
    "samples.drop('name', axis=1, inplace=True)\n",
    "len(samples)"
   ]
  },
  {
   "cell_type": "code",
   "execution_count": 124,
   "id": "60921e34",
   "metadata": {},
   "outputs": [
    {
     "data": {
      "text/plain": [
       "4248"
      ]
     },
     "execution_count": 124,
     "metadata": {},
     "output_type": "execute_result"
    }
   ],
   "source": [
    "samples_train = pd.concat([i[2] for i in actual_heatmaps if i[0] in train_pop], axis=0)\n",
    "samples_train['ecf'] = samples_train['name'].apply(lambda x: str(x[:3]))\n",
    "samples_train['intein'] = samples_train['name'].apply(lambda x: str(x[6:-3]))\n",
    "samples_train['rbs-c'] = samples_train['name'].apply(lambda x: str(x[4:6]))\n",
    "samples_train.drop('name', axis=1, inplace=True)\n",
    "len(samples_train)"
   ]
  },
  {
   "cell_type": "code",
   "execution_count": 125,
   "id": "da99860a",
   "metadata": {},
   "outputs": [
    {
     "data": {
      "text/plain": [
       "108"
      ]
     },
     "execution_count": 125,
     "metadata": {},
     "output_type": "execute_result"
    }
   ],
   "source": [
    "samples_test = pd.concat([i[2] for i in actual_heatmaps if i[0] in test_pop], axis=0)\n",
    "samples_test['ecf'] = samples_test['name'].apply(lambda x: str(x[:3]))\n",
    "samples_test['intein'] = samples_test['name'].apply(lambda x: str(x[6:-3]))\n",
    "samples_test['rbs-c'] = samples_test['name'].apply(lambda x: str(x[4:6]))\n",
    "samples_test.drop('name', axis=1, inplace=True)\n",
    "len(samples_test)"
   ]
  },
  {
   "cell_type": "code",
   "execution_count": null,
   "id": "dc987636",
   "metadata": {},
   "outputs": [],
   "source": []
  },
  {
   "cell_type": "code",
   "execution_count": 126,
   "id": "20f05600",
   "metadata": {},
   "outputs": [],
   "source": [
    "#y = samples['actual']\n",
    "#X = samples.drop('actual', axis=1)\n",
    "#X_train, X_test, y_train, y_test = train_test_split(X, y, test_size=0.2)"
   ]
  },
  {
   "cell_type": "code",
   "execution_count": 127,
   "id": "fc00e6d5",
   "metadata": {},
   "outputs": [],
   "source": [
    "X_train = samples_train.drop('actual', axis=1)\n",
    "y_train = samples_train['actual']\n",
    "X_test = samples_test.drop('actual', axis=1)\n",
    "y_test = samples_test['actual']"
   ]
  },
  {
   "cell_type": "code",
   "execution_count": 128,
   "id": "00c62bd6",
   "metadata": {},
   "outputs": [],
   "source": [
    "ohe = OneHotEncoder(handle_unknown='ignore').fit(X_train.drop(['cuma', 'ara'], axis=1))\n",
    "ohe_train = pd.DataFrame(ohe.transform(X_train.drop(['cuma', 'ara'], axis=1)).toarray())\n",
    "ohe_test = pd.DataFrame(ohe.transform(X_test.drop(['cuma', 'ara'], axis=1)).toarray())\n",
    "\n",
    "X_train_transformed = pd.concat([X_train[['cuma', 'ara']].reset_index(drop=True),\n",
    "                                 ohe_train.reset_index(drop=True)], axis=1)\n",
    "X_test_transformed = pd.concat([X_test[['cuma', 'ara']].reset_index(drop=True),\n",
    "                                ohe_test.reset_index(drop=True)], axis=1)"
   ]
  },
  {
   "cell_type": "code",
   "execution_count": 148,
   "id": "d7ad09f4",
   "metadata": {},
   "outputs": [
    {
     "data": {
      "text/html": [
       "<style>#sk-container-id-14 {color: black;background-color: white;}#sk-container-id-14 pre{padding: 0;}#sk-container-id-14 div.sk-toggleable {background-color: white;}#sk-container-id-14 label.sk-toggleable__label {cursor: pointer;display: block;width: 100%;margin-bottom: 0;padding: 0.3em;box-sizing: border-box;text-align: center;}#sk-container-id-14 label.sk-toggleable__label-arrow:before {content: \"▸\";float: left;margin-right: 0.25em;color: #696969;}#sk-container-id-14 label.sk-toggleable__label-arrow:hover:before {color: black;}#sk-container-id-14 div.sk-estimator:hover label.sk-toggleable__label-arrow:before {color: black;}#sk-container-id-14 div.sk-toggleable__content {max-height: 0;max-width: 0;overflow: hidden;text-align: left;background-color: #f0f8ff;}#sk-container-id-14 div.sk-toggleable__content pre {margin: 0.2em;color: black;border-radius: 0.25em;background-color: #f0f8ff;}#sk-container-id-14 input.sk-toggleable__control:checked~div.sk-toggleable__content {max-height: 200px;max-width: 100%;overflow: auto;}#sk-container-id-14 input.sk-toggleable__control:checked~label.sk-toggleable__label-arrow:before {content: \"▾\";}#sk-container-id-14 div.sk-estimator input.sk-toggleable__control:checked~label.sk-toggleable__label {background-color: #d4ebff;}#sk-container-id-14 div.sk-label input.sk-toggleable__control:checked~label.sk-toggleable__label {background-color: #d4ebff;}#sk-container-id-14 input.sk-hidden--visually {border: 0;clip: rect(1px 1px 1px 1px);clip: rect(1px, 1px, 1px, 1px);height: 1px;margin: -1px;overflow: hidden;padding: 0;position: absolute;width: 1px;}#sk-container-id-14 div.sk-estimator {font-family: monospace;background-color: #f0f8ff;border: 1px dotted black;border-radius: 0.25em;box-sizing: border-box;margin-bottom: 0.5em;}#sk-container-id-14 div.sk-estimator:hover {background-color: #d4ebff;}#sk-container-id-14 div.sk-parallel-item::after {content: \"\";width: 100%;border-bottom: 1px solid gray;flex-grow: 1;}#sk-container-id-14 div.sk-label:hover label.sk-toggleable__label {background-color: #d4ebff;}#sk-container-id-14 div.sk-serial::before {content: \"\";position: absolute;border-left: 1px solid gray;box-sizing: border-box;top: 0;bottom: 0;left: 50%;z-index: 0;}#sk-container-id-14 div.sk-serial {display: flex;flex-direction: column;align-items: center;background-color: white;padding-right: 0.2em;padding-left: 0.2em;position: relative;}#sk-container-id-14 div.sk-item {position: relative;z-index: 1;}#sk-container-id-14 div.sk-parallel {display: flex;align-items: stretch;justify-content: center;background-color: white;position: relative;}#sk-container-id-14 div.sk-item::before, #sk-container-id-14 div.sk-parallel-item::before {content: \"\";position: absolute;border-left: 1px solid gray;box-sizing: border-box;top: 0;bottom: 0;left: 50%;z-index: -1;}#sk-container-id-14 div.sk-parallel-item {display: flex;flex-direction: column;z-index: 1;position: relative;background-color: white;}#sk-container-id-14 div.sk-parallel-item:first-child::after {align-self: flex-end;width: 50%;}#sk-container-id-14 div.sk-parallel-item:last-child::after {align-self: flex-start;width: 50%;}#sk-container-id-14 div.sk-parallel-item:only-child::after {width: 0;}#sk-container-id-14 div.sk-dashed-wrapped {border: 1px dashed gray;margin: 0 0.4em 0.5em 0.4em;box-sizing: border-box;padding-bottom: 0.4em;background-color: white;}#sk-container-id-14 div.sk-label label {font-family: monospace;font-weight: bold;display: inline-block;line-height: 1.2em;}#sk-container-id-14 div.sk-label-container {text-align: center;}#sk-container-id-14 div.sk-container {/* jupyter's `normalize.less` sets `[hidden] { display: none; }` but bootstrap.min.css set `[hidden] { display: none !important; }` so we also need the `!important` here to be able to override the default hidden behavior on the sphinx rendered scikit-learn.org. See: https://github.com/scikit-learn/scikit-learn/issues/21755 */display: inline-block !important;position: relative;}#sk-container-id-14 div.sk-text-repr-fallback {display: none;}</style><div id=\"sk-container-id-14\" class=\"sk-top-container\"><div class=\"sk-text-repr-fallback\"><pre>RandomForestRegressor(n_estimators=1000)</pre><b>In a Jupyter environment, please rerun this cell to show the HTML representation or trust the notebook. <br />On GitHub, the HTML representation is unable to render, please try loading this page with nbviewer.org.</b></div><div class=\"sk-container\" hidden><div class=\"sk-item\"><div class=\"sk-estimator sk-toggleable\"><input class=\"sk-toggleable__control sk-hidden--visually\" id=\"sk-estimator-id-14\" type=\"checkbox\" checked><label for=\"sk-estimator-id-14\" class=\"sk-toggleable__label sk-toggleable__label-arrow\">RandomForestRegressor</label><div class=\"sk-toggleable__content\"><pre>RandomForestRegressor(n_estimators=1000)</pre></div></div></div></div></div>"
      ],
      "text/plain": [
       "RandomForestRegressor(n_estimators=1000)"
      ]
     },
     "execution_count": 148,
     "metadata": {},
     "output_type": "execute_result"
    }
   ],
   "source": [
    "regr = RandomForestRegressor(n_estimators=1000)#gp.GaussianProcessRegressor()\n",
    "regr.fit(X_train_transformed, y_train)"
   ]
  },
  {
   "cell_type": "code",
   "execution_count": 149,
   "id": "a376c9a2",
   "metadata": {},
   "outputs": [
    {
     "data": {
      "image/png": "[encoded data removed]",
      "text/plain": [
       "<Figure size 640x480 with 1 Axes>"
      ]
     },
     "metadata": {},
     "output_type": "display_data"
    }
   ],
   "source": [
    "y_pred = regr.predict(X_train_transformed)\n",
    "mape = 100 - mean_absolute_percentage_error(y_train, y_pred)\n",
    "r = r2_score(y_train, y_pred)\n",
    "sns.regplot(y_train, y_pred, label='mape:{}, r2:{}'.format(mape, r))\n",
    "plt.legend()\n",
    "sns.despine()"
   ]
  },
  {
   "cell_type": "code",
   "execution_count": null,
   "id": "ababc839",
   "metadata": {},
   "outputs": [],
   "source": []
  },
  {
   "cell_type": "code",
   "execution_count": null,
   "id": "85d28a84",
   "metadata": {},
   "outputs": [],
   "source": []
  },
  {
   "cell_type": "code",
   "execution_count": 106,
   "id": "a2407dd4",
   "metadata": {},
   "outputs": [],
   "source": [
    "poly = PolynomialFeatures(degree=2, include_bias=False).fit(X_train_transformed)\n",
    "poly_train = poly.transform(X_train_transformed)"
   ]
  },
  {
   "cell_type": "code",
   "execution_count": 107,
   "id": "d07adcf1",
   "metadata": {},
   "outputs": [
    {
     "data": {
      "text/html": [
       "<style>#sk-container-id-8 {color: black;background-color: white;}#sk-container-id-8 pre{padding: 0;}#sk-container-id-8 div.sk-toggleable {background-color: white;}#sk-container-id-8 label.sk-toggleable__label {cursor: pointer;display: block;width: 100%;margin-bottom: 0;padding: 0.3em;box-sizing: border-box;text-align: center;}#sk-container-id-8 label.sk-toggleable__label-arrow:before {content: \"▸\";float: left;margin-right: 0.25em;color: #696969;}#sk-container-id-8 label.sk-toggleable__label-arrow:hover:before {color: black;}#sk-container-id-8 div.sk-estimator:hover label.sk-toggleable__label-arrow:before {color: black;}#sk-container-id-8 div.sk-toggleable__content {max-height: 0;max-width: 0;overflow: hidden;text-align: left;background-color: #f0f8ff;}#sk-container-id-8 div.sk-toggleable__content pre {margin: 0.2em;color: black;border-radius: 0.25em;background-color: #f0f8ff;}#sk-container-id-8 input.sk-toggleable__control:checked~div.sk-toggleable__content {max-height: 200px;max-width: 100%;overflow: auto;}#sk-container-id-8 input.sk-toggleable__control:checked~label.sk-toggleable__label-arrow:before {content: \"▾\";}#sk-container-id-8 div.sk-estimator input.sk-toggleable__control:checked~label.sk-toggleable__label {background-color: #d4ebff;}#sk-container-id-8 div.sk-label input.sk-toggleable__control:checked~label.sk-toggleable__label {background-color: #d4ebff;}#sk-container-id-8 input.sk-hidden--visually {border: 0;clip: rect(1px 1px 1px 1px);clip: rect(1px, 1px, 1px, 1px);height: 1px;margin: -1px;overflow: hidden;padding: 0;position: absolute;width: 1px;}#sk-container-id-8 div.sk-estimator {font-family: monospace;background-color: #f0f8ff;border: 1px dotted black;border-radius: 0.25em;box-sizing: border-box;margin-bottom: 0.5em;}#sk-container-id-8 div.sk-estimator:hover {background-color: #d4ebff;}#sk-container-id-8 div.sk-parallel-item::after {content: \"\";width: 100%;border-bottom: 1px solid gray;flex-grow: 1;}#sk-container-id-8 div.sk-label:hover label.sk-toggleable__label {background-color: #d4ebff;}#sk-container-id-8 div.sk-serial::before {content: \"\";position: absolute;border-left: 1px solid gray;box-sizing: border-box;top: 0;bottom: 0;left: 50%;z-index: 0;}#sk-container-id-8 div.sk-serial {display: flex;flex-direction: column;align-items: center;background-color: white;padding-right: 0.2em;padding-left: 0.2em;position: relative;}#sk-container-id-8 div.sk-item {position: relative;z-index: 1;}#sk-container-id-8 div.sk-parallel {display: flex;align-items: stretch;justify-content: center;background-color: white;position: relative;}#sk-container-id-8 div.sk-item::before, #sk-container-id-8 div.sk-parallel-item::before {content: \"\";position: absolute;border-left: 1px solid gray;box-sizing: border-box;top: 0;bottom: 0;left: 50%;z-index: -1;}#sk-container-id-8 div.sk-parallel-item {display: flex;flex-direction: column;z-index: 1;position: relative;background-color: white;}#sk-container-id-8 div.sk-parallel-item:first-child::after {align-self: flex-end;width: 50%;}#sk-container-id-8 div.sk-parallel-item:last-child::after {align-self: flex-start;width: 50%;}#sk-container-id-8 div.sk-parallel-item:only-child::after {width: 0;}#sk-container-id-8 div.sk-dashed-wrapped {border: 1px dashed gray;margin: 0 0.4em 0.5em 0.4em;box-sizing: border-box;padding-bottom: 0.4em;background-color: white;}#sk-container-id-8 div.sk-label label {font-family: monospace;font-weight: bold;display: inline-block;line-height: 1.2em;}#sk-container-id-8 div.sk-label-container {text-align: center;}#sk-container-id-8 div.sk-container {/* jupyter's `normalize.less` sets `[hidden] { display: none; }` but bootstrap.min.css set `[hidden] { display: none !important; }` so we also need the `!important` here to be able to override the default hidden behavior on the sphinx rendered scikit-learn.org. See: https://github.com/scikit-learn/scikit-learn/issues/21755 */display: inline-block !important;position: relative;}#sk-container-id-8 div.sk-text-repr-fallback {display: none;}</style><div id=\"sk-container-id-8\" class=\"sk-top-container\"><div class=\"sk-text-repr-fallback\"><pre>LinearRegression()</pre><b>In a Jupyter environment, please rerun this cell to show the HTML representation or trust the notebook. <br />On GitHub, the HTML representation is unable to render, please try loading this page with nbviewer.org.</b></div><div class=\"sk-container\" hidden><div class=\"sk-item\"><div class=\"sk-estimator sk-toggleable\"><input class=\"sk-toggleable__control sk-hidden--visually\" id=\"sk-estimator-id-8\" type=\"checkbox\" checked><label for=\"sk-estimator-id-8\" class=\"sk-toggleable__label sk-toggleable__label-arrow\">LinearRegression</label><div class=\"sk-toggleable__content\"><pre>LinearRegression()</pre></div></div></div></div></div>"
      ],
      "text/plain": [
       "LinearRegression()"
      ]
     },
     "execution_count": 107,
     "metadata": {},
     "output_type": "execute_result"
    }
   ],
   "source": [
    "linreg = LinearRegression()\n",
    "linreg.fit(poly_train, y_train)"
   ]
  },
  {
   "cell_type": "code",
   "execution_count": 108,
   "id": "9ac54d91",
   "metadata": {},
   "outputs": [],
   "source": [
    "poly_test = poly.transform(X_test_transformed)"
   ]
  },
  {
   "cell_type": "code",
   "execution_count": 109,
   "id": "79fa91fe",
   "metadata": {},
   "outputs": [
    {
     "data": {
      "image/png": "[encoded data removed]",
      "text/plain": [
       "<Figure size 640x480 with 1 Axes>"
      ]
     },
     "metadata": {},
     "output_type": "display_data"
    }
   ],
   "source": [
    "y_pred = linreg.predict(poly_test)\n",
    "mape = 100 - mean_absolute_percentage_error(y_test, y_pred)\n",
    "r = r2_score(y_test, y_pred)\n",
    "sns.regplot(y_test, y_pred, label='mape:{}, r2:{}'.format(mape, r))\n",
    "plt.legend()\n",
    "sns.despine()"
   ]
  },
  {
   "cell_type": "code",
   "execution_count": 53,
   "id": "12c9a6ee",
   "metadata": {},
   "outputs": [
    {
     "data": {
      "text/html": [
       "<style>#sk-container-id-3 {color: black;background-color: white;}#sk-container-id-3 pre{padding: 0;}#sk-container-id-3 div.sk-toggleable {background-color: white;}#sk-container-id-3 label.sk-toggleable__label {cursor: pointer;display: block;width: 100%;margin-bottom: 0;padding: 0.3em;box-sizing: border-box;text-align: center;}#sk-container-id-3 label.sk-toggleable__label-arrow:before {content: \"▸\";float: left;margin-right: 0.25em;color: #696969;}#sk-container-id-3 label.sk-toggleable__label-arrow:hover:before {color: black;}#sk-container-id-3 div.sk-estimator:hover label.sk-toggleable__label-arrow:before {color: black;}#sk-container-id-3 div.sk-toggleable__content {max-height: 0;max-width: 0;overflow: hidden;text-align: left;background-color: #f0f8ff;}#sk-container-id-3 div.sk-toggleable__content pre {margin: 0.2em;color: black;border-radius: 0.25em;background-color: #f0f8ff;}#sk-container-id-3 input.sk-toggleable__control:checked~div.sk-toggleable__content {max-height: 200px;max-width: 100%;overflow: auto;}#sk-container-id-3 input.sk-toggleable__control:checked~label.sk-toggleable__label-arrow:before {content: \"▾\";}#sk-container-id-3 div.sk-estimator input.sk-toggleable__control:checked~label.sk-toggleable__label {background-color: #d4ebff;}#sk-container-id-3 div.sk-label input.sk-toggleable__control:checked~label.sk-toggleable__label {background-color: #d4ebff;}#sk-container-id-3 input.sk-hidden--visually {border: 0;clip: rect(1px 1px 1px 1px);clip: rect(1px, 1px, 1px, 1px);height: 1px;margin: -1px;overflow: hidden;padding: 0;position: absolute;width: 1px;}#sk-container-id-3 div.sk-estimator {font-family: monospace;background-color: #f0f8ff;border: 1px dotted black;border-radius: 0.25em;box-sizing: border-box;margin-bottom: 0.5em;}#sk-container-id-3 div.sk-estimator:hover {background-color: #d4ebff;}#sk-container-id-3 div.sk-parallel-item::after {content: \"\";width: 100%;border-bottom: 1px solid gray;flex-grow: 1;}#sk-container-id-3 div.sk-label:hover label.sk-toggleable__label {background-color: #d4ebff;}#sk-container-id-3 div.sk-serial::before {content: \"\";position: absolute;border-left: 1px solid gray;box-sizing: border-box;top: 0;bottom: 0;left: 50%;z-index: 0;}#sk-container-id-3 div.sk-serial {display: flex;flex-direction: column;align-items: center;background-color: white;padding-right: 0.2em;padding-left: 0.2em;position: relative;}#sk-container-id-3 div.sk-item {position: relative;z-index: 1;}#sk-container-id-3 div.sk-parallel {display: flex;align-items: stretch;justify-content: center;background-color: white;position: relative;}#sk-container-id-3 div.sk-item::before, #sk-container-id-3 div.sk-parallel-item::before {content: \"\";position: absolute;border-left: 1px solid gray;box-sizing: border-box;top: 0;bottom: 0;left: 50%;z-index: -1;}#sk-container-id-3 div.sk-parallel-item {display: flex;flex-direction: column;z-index: 1;position: relative;background-color: white;}#sk-container-id-3 div.sk-parallel-item:first-child::after {align-self: flex-end;width: 50%;}#sk-container-id-3 div.sk-parallel-item:last-child::after {align-self: flex-start;width: 50%;}#sk-container-id-3 div.sk-parallel-item:only-child::after {width: 0;}#sk-container-id-3 div.sk-dashed-wrapped {border: 1px dashed gray;margin: 0 0.4em 0.5em 0.4em;box-sizing: border-box;padding-bottom: 0.4em;background-color: white;}#sk-container-id-3 div.sk-label label {font-family: monospace;font-weight: bold;display: inline-block;line-height: 1.2em;}#sk-container-id-3 div.sk-label-container {text-align: center;}#sk-container-id-3 div.sk-container {/* jupyter's `normalize.less` sets `[hidden] { display: none; }` but bootstrap.min.css set `[hidden] { display: none !important; }` so we also need the `!important` here to be able to override the default hidden behavior on the sphinx rendered scikit-learn.org. See: https://github.com/scikit-learn/scikit-learn/issues/21755 */display: inline-block !important;position: relative;}#sk-container-id-3 div.sk-text-repr-fallback {display: none;}</style><div id=\"sk-container-id-3\" class=\"sk-top-container\"><div class=\"sk-text-repr-fallback\"><pre>RandomForestRegressor(n_estimators=1000)</pre><b>In a Jupyter environment, please rerun this cell to show the HTML representation or trust the notebook. <br />On GitHub, the HTML representation is unable to render, please try loading this page with nbviewer.org.</b></div><div class=\"sk-container\" hidden><div class=\"sk-item\"><div class=\"sk-estimator sk-toggleable\"><input class=\"sk-toggleable__control sk-hidden--visually\" id=\"sk-estimator-id-3\" type=\"checkbox\" checked><label for=\"sk-estimator-id-3\" class=\"sk-toggleable__label sk-toggleable__label-arrow\">RandomForestRegressor</label><div class=\"sk-toggleable__content\"><pre>RandomForestRegressor(n_estimators=1000)</pre></div></div></div></div></div>"
      ],
      "text/plain": [
       "RandomForestRegressor(n_estimators=1000)"
      ]
     },
     "execution_count": 53,
     "metadata": {},
     "output_type": "execute_result"
    }
   ],
   "source": [
    "ohe = OneHotEncoder(handle_unknown='ignore').fit(X.drop(['cuma', 'ara'], axis=1))\n",
    "ohe_ = pd.DataFrame(ohe.transform(X.drop(['cuma', 'ara'], axis=1)).toarray())\n",
    "\n",
    "X_ = pd.concat([X[['cuma', 'ara']].reset_index(drop=True), ohe_.reset_index(drop=True)], axis=1)\n",
    "regr2 = RandomForestRegressor(n_estimators=1000)\n",
    "regr2.fit(X_, y)"
   ]
  },
  {
   "cell_type": "code",
   "execution_count": 58,
   "id": "1e48eb22",
   "metadata": {},
   "outputs": [
    {
     "data": {
      "text/html": [
       "<style>#sk-container-id-4 {color: black;background-color: white;}#sk-container-id-4 pre{padding: 0;}#sk-container-id-4 div.sk-toggleable {background-color: white;}#sk-container-id-4 label.sk-toggleable__label {cursor: pointer;display: block;width: 100%;margin-bottom: 0;padding: 0.3em;box-sizing: border-box;text-align: center;}#sk-container-id-4 label.sk-toggleable__label-arrow:before {content: \"▸\";float: left;margin-right: 0.25em;color: #696969;}#sk-container-id-4 label.sk-toggleable__label-arrow:hover:before {color: black;}#sk-container-id-4 div.sk-estimator:hover label.sk-toggleable__label-arrow:before {color: black;}#sk-container-id-4 div.sk-toggleable__content {max-height: 0;max-width: 0;overflow: hidden;text-align: left;background-color: #f0f8ff;}#sk-container-id-4 div.sk-toggleable__content pre {margin: 0.2em;color: black;border-radius: 0.25em;background-color: #f0f8ff;}#sk-container-id-4 input.sk-toggleable__control:checked~div.sk-toggleable__content {max-height: 200px;max-width: 100%;overflow: auto;}#sk-container-id-4 input.sk-toggleable__control:checked~label.sk-toggleable__label-arrow:before {content: \"▾\";}#sk-container-id-4 div.sk-estimator input.sk-toggleable__control:checked~label.sk-toggleable__label {background-color: #d4ebff;}#sk-container-id-4 div.sk-label input.sk-toggleable__control:checked~label.sk-toggleable__label {background-color: #d4ebff;}#sk-container-id-4 input.sk-hidden--visually {border: 0;clip: rect(1px 1px 1px 1px);clip: rect(1px, 1px, 1px, 1px);height: 1px;margin: -1px;overflow: hidden;padding: 0;position: absolute;width: 1px;}#sk-container-id-4 div.sk-estimator {font-family: monospace;background-color: #f0f8ff;border: 1px dotted black;border-radius: 0.25em;box-sizing: border-box;margin-bottom: 0.5em;}#sk-container-id-4 div.sk-estimator:hover {background-color: #d4ebff;}#sk-container-id-4 div.sk-parallel-item::after {content: \"\";width: 100%;border-bottom: 1px solid gray;flex-grow: 1;}#sk-container-id-4 div.sk-label:hover label.sk-toggleable__label {background-color: #d4ebff;}#sk-container-id-4 div.sk-serial::before {content: \"\";position: absolute;border-left: 1px solid gray;box-sizing: border-box;top: 0;bottom: 0;left: 50%;z-index: 0;}#sk-container-id-4 div.sk-serial {display: flex;flex-direction: column;align-items: center;background-color: white;padding-right: 0.2em;padding-left: 0.2em;position: relative;}#sk-container-id-4 div.sk-item {position: relative;z-index: 1;}#sk-container-id-4 div.sk-parallel {display: flex;align-items: stretch;justify-content: center;background-color: white;position: relative;}#sk-container-id-4 div.sk-item::before, #sk-container-id-4 div.sk-parallel-item::before {content: \"\";position: absolute;border-left: 1px solid gray;box-sizing: border-box;top: 0;bottom: 0;left: 50%;z-index: -1;}#sk-container-id-4 div.sk-parallel-item {display: flex;flex-direction: column;z-index: 1;position: relative;background-color: white;}#sk-container-id-4 div.sk-parallel-item:first-child::after {align-self: flex-end;width: 50%;}#sk-container-id-4 div.sk-parallel-item:last-child::after {align-self: flex-start;width: 50%;}#sk-container-id-4 div.sk-parallel-item:only-child::after {width: 0;}#sk-container-id-4 div.sk-dashed-wrapped {border: 1px dashed gray;margin: 0 0.4em 0.5em 0.4em;box-sizing: border-box;padding-bottom: 0.4em;background-color: white;}#sk-container-id-4 div.sk-label label {font-family: monospace;font-weight: bold;display: inline-block;line-height: 1.2em;}#sk-container-id-4 div.sk-label-container {text-align: center;}#sk-container-id-4 div.sk-container {/* jupyter's `normalize.less` sets `[hidden] { display: none; }` but bootstrap.min.css set `[hidden] { display: none !important; }` so we also need the `!important` here to be able to override the default hidden behavior on the sphinx rendered scikit-learn.org. See: https://github.com/scikit-learn/scikit-learn/issues/21755 */display: inline-block !important;position: relative;}#sk-container-id-4 div.sk-text-repr-fallback {display: none;}</style><div id=\"sk-container-id-4\" class=\"sk-top-container\"><div class=\"sk-text-repr-fallback\"><pre>GaussianProcessRegressor()</pre><b>In a Jupyter environment, please rerun this cell to show the HTML representation or trust the notebook. <br />On GitHub, the HTML representation is unable to render, please try loading this page with nbviewer.org.</b></div><div class=\"sk-container\" hidden><div class=\"sk-item\"><div class=\"sk-estimator sk-toggleable\"><input class=\"sk-toggleable__control sk-hidden--visually\" id=\"sk-estimator-id-4\" type=\"checkbox\" checked><label for=\"sk-estimator-id-4\" class=\"sk-toggleable__label sk-toggleable__label-arrow\">GaussianProcessRegressor</label><div class=\"sk-toggleable__content\"><pre>GaussianProcessRegressor()</pre></div></div></div></div></div>"
      ],
      "text/plain": [
       "GaussianProcessRegressor()"
      ]
     },
     "execution_count": 58,
     "metadata": {},
     "output_type": "execute_result"
    }
   ],
   "source": [
    "regr3 = gp.GaussianProcessRegressor()\n",
    "regr3.fit(X_, y)"
   ]
  },
  {
   "cell_type": "code",
   "execution_count": null,
   "id": "3f2351c9",
   "metadata": {},
   "outputs": [],
   "source": []
  },
  {
   "cell_type": "code",
   "execution_count": 134,
   "id": "858a4c92",
   "metadata": {},
   "outputs": [],
   "source": [
    "cuma_lim = np.log10(3.125), np.log10(100)\n",
    "ara_lim = np.log10(0.40625), np.log10(13)\n",
    "ind1 = np.logspace(*cuma_lim, 1000)\n",
    "ind2 = np.logspace(*ara_lim, 1000)"
   ]
  },
  {
   "cell_type": "code",
   "execution_count": 135,
   "id": "637c626f",
   "metadata": {},
   "outputs": [
    {
     "data": {
      "text/plain": [
       "119"
      ]
     },
     "execution_count": 135,
     "metadata": {},
     "output_type": "execute_result"
    }
   ],
   "source": [
    "actual_df = X.copy()\n",
    "actual_df['gate'] = actual_df['ecf'] + 'x' + actual_df['rbs-c'] + actual_df['intein']\n",
    "actual_df['actual'] = y\n",
    "gates = actual_df['gate'].unique()\n",
    "len(gates)"
   ]
  },
  {
   "cell_type": "code",
   "execution_count": 61,
   "id": "6c69cbb9",
   "metadata": {},
   "outputs": [],
   "source": [
    "#actual_df['cuma'] = actual_df['cuma'].apply(lambda x: 3.125 if x==0 else x)\n",
    "#actual_df['ara'] = actual_df['ara'].apply(lambda x: 0.40625 if x==0 else x)"
   ]
  },
  {
   "cell_type": "code",
   "execution_count": 62,
   "id": "8c84a74b",
   "metadata": {},
   "outputs": [],
   "source": [
    "#np.log10(3.125)\n",
    "#np.log10(0.40625)"
   ]
  },
  {
   "cell_type": "code",
   "execution_count": null,
   "id": "ea4a03d1",
   "metadata": {},
   "outputs": [],
   "source": []
  },
  {
   "cell_type": "code",
   "execution_count": null,
   "id": "e299845b",
   "metadata": {},
   "outputs": [],
   "source": []
  },
  {
   "cell_type": "code",
   "execution_count": null,
   "id": "f2c91e43",
   "metadata": {},
   "outputs": [],
   "source": []
  },
  {
   "cell_type": "code",
   "execution_count": 139,
   "id": "9de3c7cc",
   "metadata": {},
   "outputs": [
    {
     "data": {
      "text/plain": [
       "['e15x32CthTer', 'e38x33NrdJ1', 'e32x30SspGyrB']"
      ]
     },
     "execution_count": 139,
     "metadata": {},
     "output_type": "execute_result"
    }
   ],
   "source": [
    "test_pop"
   ]
  },
  {
   "cell_type": "code",
   "execution_count": 153,
   "id": "c186004e",
   "metadata": {},
   "outputs": [
    {
     "data": {
      "image/png": "[encoded data removed]",
      "text/plain": [
       "<Figure size 400x300 with 1 Axes>"
      ]
     },
     "metadata": {},
     "output_type": "display_data"
    }
   ],
   "source": [
    "fig = plt.figure(figsize=[4, 3])\n",
    "gate = test_pop[2]\n",
    "title = gate\n",
    "\n",
    "act_data = actual_df[actual_df['gate']==title]\n",
    "act_data['cuma'] = act_data['cuma'].apply(lambda x: 3.125 if x==0 else x)\n",
    "act_data['ara'] = act_data['ara'].apply(lambda x: 0.40625 if x==0 else x)\n",
    "\n",
    "inducers = [cumas, ind2]\n",
    "pred_data = pd.DataFrame(itertools.product(*inducers))\n",
    "pred_data.columns = ['cuma', 'ara']\n",
    "pred_data['ecf'] = gate[:3]\n",
    "pred_data['intein'] = gate[6:]\n",
    "pred_data['rbs-c'] = gate[4:6]\n",
    "\n",
    "ohe_pred = pd.DataFrame(ohe.transform(pred_data.drop(['cuma', 'ara'], axis=1)).toarray())\n",
    "X_gated = pd.concat([pred_data[['cuma', 'ara']].reset_index(drop=True), ohe_pred.reset_index(drop=True)], axis=1)\n",
    "#X_poly = poly.transform(X_gated)\n",
    "#pred_data['prediction'] = linreg.predict(X_poly)\n",
    "pred_data['prediction'] = regr.predict(X_gated)\n",
    "\n",
    "pred_data['cuma'] = pred_data['cuma'].apply(lambda x: 3.125 if x==0 else x)\n",
    "pred_data['ara'] = pred_data['ara'].apply(lambda x: 0.40625 if x==0 else x)\n",
    "\n",
    "fixed = 'cuma'\n",
    "varied = 'ara'\n",
    "\n",
    "for i in act_data[fixed].unique():\n",
    "    act = act_data[act_data[fixed]==i]\n",
    "    pred = pred_data[pred_data[fixed]==i]\n",
    "    plt.scatter(act[varied], act['actual'])\n",
    "    plt.plot(pred[varied], pred['prediction'])\n",
    "    plt.title(title)\n",
    "#plt.yscale('log')\n",
    "#plt.loglog()\n",
    "sns.despine()"
   ]
  },
  {
   "cell_type": "code",
   "execution_count": 50,
   "id": "2925994d",
   "metadata": {},
   "outputs": [
    {
     "data": {
      "text/html": [
       "<div>\n",
       "<style scoped>\n",
       "    .dataframe tbody tr th:only-of-type {\n",
       "        vertical-align: middle;\n",
       "    }\n",
       "\n",
       "    .dataframe tbody tr th {\n",
       "        vertical-align: top;\n",
       "    }\n",
       "\n",
       "    .dataframe thead th {\n",
       "        text-align: right;\n",
       "    }\n",
       "</style>\n",
       "<table border=\"1\" class=\"dataframe\">\n",
       "  <thead>\n",
       "    <tr style=\"text-align: right;\">\n",
       "      <th></th>\n",
       "      <th>cuma</th>\n",
       "      <th>ara</th>\n",
       "      <th>ecf</th>\n",
       "      <th>intein</th>\n",
       "      <th>rbs-c</th>\n",
       "      <th>prediction</th>\n",
       "    </tr>\n",
       "  </thead>\n",
       "  <tbody>\n",
       "    <tr>\n",
       "      <th>0</th>\n",
       "      <td>0.0</td>\n",
       "      <td>0.406250</td>\n",
       "      <td>e15</td>\n",
       "      <td>NpuSspS2</td>\n",
       "      <td>32</td>\n",
       "      <td>-0.113323</td>\n",
       "    </tr>\n",
       "    <tr>\n",
       "      <th>1</th>\n",
       "      <td>0.0</td>\n",
       "      <td>0.407662</td>\n",
       "      <td>e15</td>\n",
       "      <td>NpuSspS2</td>\n",
       "      <td>32</td>\n",
       "      <td>-0.113197</td>\n",
       "    </tr>\n",
       "    <tr>\n",
       "      <th>2</th>\n",
       "      <td>0.0</td>\n",
       "      <td>0.409079</td>\n",
       "      <td>e15</td>\n",
       "      <td>NpuSspS2</td>\n",
       "      <td>32</td>\n",
       "      <td>-0.113070</td>\n",
       "    </tr>\n",
       "    <tr>\n",
       "      <th>3</th>\n",
       "      <td>0.0</td>\n",
       "      <td>0.410500</td>\n",
       "      <td>e15</td>\n",
       "      <td>NpuSspS2</td>\n",
       "      <td>32</td>\n",
       "      <td>-0.112943</td>\n",
       "    </tr>\n",
       "    <tr>\n",
       "      <th>4</th>\n",
       "      <td>0.0</td>\n",
       "      <td>0.411927</td>\n",
       "      <td>e15</td>\n",
       "      <td>NpuSspS2</td>\n",
       "      <td>32</td>\n",
       "      <td>-0.112815</td>\n",
       "    </tr>\n",
       "    <tr>\n",
       "      <th>...</th>\n",
       "      <td>...</td>\n",
       "      <td>...</td>\n",
       "      <td>...</td>\n",
       "      <td>...</td>\n",
       "      <td>...</td>\n",
       "      <td>...</td>\n",
       "    </tr>\n",
       "    <tr>\n",
       "      <th>5995</th>\n",
       "      <td>100.0</td>\n",
       "      <td>12.820847</td>\n",
       "      <td>e15</td>\n",
       "      <td>NpuSspS2</td>\n",
       "      <td>32</td>\n",
       "      <td>0.937842</td>\n",
       "    </tr>\n",
       "    <tr>\n",
       "      <th>5996</th>\n",
       "      <td>100.0</td>\n",
       "      <td>12.865403</td>\n",
       "      <td>e15</td>\n",
       "      <td>NpuSspS2</td>\n",
       "      <td>32</td>\n",
       "      <td>0.936296</td>\n",
       "    </tr>\n",
       "    <tr>\n",
       "      <th>5997</th>\n",
       "      <td>100.0</td>\n",
       "      <td>12.910113</td>\n",
       "      <td>e15</td>\n",
       "      <td>NpuSspS2</td>\n",
       "      <td>32</td>\n",
       "      <td>0.934715</td>\n",
       "    </tr>\n",
       "    <tr>\n",
       "      <th>5998</th>\n",
       "      <td>100.0</td>\n",
       "      <td>12.954978</td>\n",
       "      <td>e15</td>\n",
       "      <td>NpuSspS2</td>\n",
       "      <td>32</td>\n",
       "      <td>0.933095</td>\n",
       "    </tr>\n",
       "    <tr>\n",
       "      <th>5999</th>\n",
       "      <td>100.0</td>\n",
       "      <td>13.000000</td>\n",
       "      <td>e15</td>\n",
       "      <td>NpuSspS2</td>\n",
       "      <td>32</td>\n",
       "      <td>0.931435</td>\n",
       "    </tr>\n",
       "  </tbody>\n",
       "</table>\n",
       "<p>6000 rows × 6 columns</p>\n",
       "</div>"
      ],
      "text/plain": [
       "       cuma        ara  ecf    intein rbs-c  prediction\n",
       "0       0.0   0.406250  e15  NpuSspS2    32   -0.113323\n",
       "1       0.0   0.407662  e15  NpuSspS2    32   -0.113197\n",
       "2       0.0   0.409079  e15  NpuSspS2    32   -0.113070\n",
       "3       0.0   0.410500  e15  NpuSspS2    32   -0.112943\n",
       "4       0.0   0.411927  e15  NpuSspS2    32   -0.112815\n",
       "...     ...        ...  ...       ...   ...         ...\n",
       "5995  100.0  12.820847  e15  NpuSspS2    32    0.937842\n",
       "5996  100.0  12.865403  e15  NpuSspS2    32    0.936296\n",
       "5997  100.0  12.910113  e15  NpuSspS2    32    0.934715\n",
       "5998  100.0  12.954978  e15  NpuSspS2    32    0.933095\n",
       "5999  100.0  13.000000  e15  NpuSspS2    32    0.931435\n",
       "\n",
       "[6000 rows x 6 columns]"
      ]
     },
     "execution_count": 50,
     "metadata": {},
     "output_type": "execute_result"
    }
   ],
   "source": [
    "pred_data"
   ]
  },
  {
   "cell_type": "code",
   "execution_count": null,
   "id": "51cf4a0d",
   "metadata": {},
   "outputs": [],
   "source": []
  },
  {
   "cell_type": "code",
   "execution_count": null,
   "id": "4985dcb9",
   "metadata": {},
   "outputs": [],
   "source": []
  },
  {
   "cell_type": "code",
   "execution_count": null,
   "id": "a318453c",
   "metadata": {},
   "outputs": [],
   "source": []
  },
  {
   "cell_type": "code",
   "execution_count": 154,
   "id": "3a87198b",
   "metadata": {},
   "outputs": [
    {
     "data": {
      "text/plain": [
       "(array([0.01071519, 1.01613432, 2.99829925, 5.57718054, 6.99365484,\n",
       "        7.43778024]),\n",
       " array([0.00158489, 0.00244454, 0.00886886, 0.06103166, 0.3751241 ,\n",
       "        0.98556622]))"
      ]
     },
     "execution_count": 154,
     "metadata": {},
     "output_type": "execute_result"
    }
   ],
   "source": [
    "aras = hill_activation_single(np.array(ara), *hill_params['ara'])\n",
    "cumas = hill_activation_single(np.array(cuma), *hill_params['cuma'])\n",
    "aras, cumas"
   ]
  },
  {
   "cell_type": "code",
   "execution_count": 155,
   "id": "3fbd6cbe",
   "metadata": {},
   "outputs": [
    {
     "name": "stderr",
     "output_type": "stream",
     "text": [
      " 33%|███████████████                              | 2/6 [00:00<00:00, 11.96it/s]"
     ]
    },
    {
     "name": "stdout",
     "output_type": "stream",
     "text": [
      "[('A', 'sample'), ('A', 'positive'), ('B', 'positive')]\n",
      "[('A', 'sample'), ('A', 'positive'), ('B', 'positive')]\n",
      "[('A', 'sample'), ('A', 'positive'), ('B', 'positive')]\n"
     ]
    },
    {
     "name": "stderr",
     "output_type": "stream",
     "text": [
      "100%|█████████████████████████████████████████████| 6/6 [00:00<00:00, 14.25it/s]"
     ]
    },
    {
     "name": "stdout",
     "output_type": "stream",
     "text": [
      "[('A', 'sample'), ('A', 'positive'), ('B', 'positive')]\n",
      "[('A', 'sample'), ('A', 'positive'), ('B', 'positive')]\n",
      "[('A', 'sample'), ('B', 'positive')]\n"
     ]
    },
    {
     "name": "stderr",
     "output_type": "stream",
     "text": [
      "\n"
     ]
    }
   ],
   "source": [
    "actual_heatmaps = []\n",
    "predicted_heatmaps = []\n",
    "responses = []\n",
    "for i in tqdm(range(1, 7)):\n",
    "    ctrl_map = [(0, 2)] if i!=6 else [(0, 1)]\n",
    "    samples_t = generate_data_at_t(folder, 'induction_matrix/plate{}'.format(i),\n",
    "                                   '/induction_matrix/plate{}_map'.format(i),\n",
    "                                   kind='2-input induction matrix', pos_ctrl_map=ctrl_map)[0]\n",
    "    \n",
    "    for gate in sorted(list(set(samples_t.index.str[:-3].tolist()))):\n",
    "        \n",
    "        fluo_t = samples_t[filter(lambda x: x.startswith(gate), samples_t.index)].reset_index()\n",
    "        fluo_t['cuma'] = fluo_t['name'].str[-2].astype(int)\n",
    "        fluo_t['cuma'] = fluo_t['cuma'].apply(lambda x: cumas[x])\n",
    "        fluo_t['ara'] = fluo_t['name'].str[-1].astype(int)\n",
    "        fluo_t['ara'] = fluo_t['ara'].apply(lambda x: aras[x])\n",
    "        \n",
    "        fluo_t = fluo_t.rename(columns={'8 h ': 'actual'})\n",
    "        \n",
    "        actual = fluo_t[['actual', 'cuma', 'ara']].pivot('cuma', 'ara')\n",
    "        actual.index = [np.round(cm, 3) for cm in cumas]\n",
    "        actual.columns = [np.round(ar, 3) for ar in aras]\n",
    "        actual_heatmaps.append((gate, actual, fluo_t))"
   ]
  },
  {
   "cell_type": "code",
   "execution_count": 156,
   "id": "91ad1a0a",
   "metadata": {},
   "outputs": [
    {
     "name": "stderr",
     "output_type": "stream",
     "text": [
      "100%|███████████████████████████████████████████| 55/55 [00:02<00:00, 23.03it/s]\n"
     ]
    }
   ],
   "source": [
    "gates_list = pd.read_csv('datasets/experiment/{}/plate_map.csv'.format(folder))\n",
    "\n",
    "for i in tqdm(range(len(gates_list))):\n",
    "    \n",
    "    P1, P2 = gates_list.iloc[i].tolist()\n",
    "    a, b = str(i*2+1).zfill(3), str(i*2+2).zfill(3)\n",
    "    \n",
    "    samples_t = generate_data_at_t_2(folder, '{}-{}'.format(a, b),\n",
    "                                   build_plate_map(P1, P2),\n",
    "                                   kind='2-input induction matrix', pos_ctrl_map=[(0, 1)],\n",
    "                                   single_timepoint=True)[0]\n",
    "    \n",
    "    for gate in sorted(list(set(samples_t.index.str[:-3].tolist()))):\n",
    "        \n",
    "        fluo_t = samples_t[filter(lambda x: x.startswith(gate), samples_t.index)].reset_index()\n",
    "        fluo_t['cuma'] = fluo_t['name'].str[-2].astype(int)\n",
    "        fluo_t['cuma'] = fluo_t['cuma'].apply(lambda x: cumas[x])\n",
    "        fluo_t['ara'] = fluo_t['name'].str[-1].astype(int)\n",
    "        fluo_t['ara'] = fluo_t['ara'].apply(lambda x: aras[x])\n",
    "        \n",
    "        fluo_t = fluo_t.rename(columns={0: 'actual'})\n",
    "        \n",
    "        actual = fluo_t[['actual', 'cuma', 'ara']].pivot('cuma', 'ara')\n",
    "        actual.index = [np.round(cm, 3) for cm in cumas]\n",
    "        actual.columns = [np.round(ar, 3) for ar in aras]\n",
    "        actual_heatmaps.append((gate, actual, fluo_t))"
   ]
  },
  {
   "cell_type": "code",
   "execution_count": 157,
   "id": "8925bb17",
   "metadata": {},
   "outputs": [
    {
     "data": {
      "text/plain": [
       "121"
      ]
     },
     "execution_count": 157,
     "metadata": {},
     "output_type": "execute_result"
    }
   ],
   "source": [
    "len(actual_heatmaps)"
   ]
  },
  {
   "cell_type": "markdown",
   "id": "d5e2fc7a",
   "metadata": {},
   "source": [
    "### Feature Engineering"
   ]
  },
  {
   "cell_type": "code",
   "execution_count": 158,
   "id": "2772f109",
   "metadata": {},
   "outputs": [
    {
     "data": {
      "text/plain": [
       "(121, 121)"
      ]
     },
     "execution_count": 158,
     "metadata": {},
     "output_type": "execute_result"
    }
   ],
   "source": [
    "pop = [i[0] for i in actual_heatmaps]\n",
    "np.random.shuffle(pop)\n",
    "test_size = 0.03\n",
    "test_pop = pop[:int(len(pop)*test_size)]\n",
    "train_pop = pop[len(test_pop):]\n",
    "len(pop), len(train_pop)+len(test_pop)"
   ]
  },
  {
   "cell_type": "code",
   "execution_count": 159,
   "id": "a2a290f7",
   "metadata": {},
   "outputs": [
    {
     "data": {
      "text/plain": [
       "4356"
      ]
     },
     "execution_count": 159,
     "metadata": {},
     "output_type": "execute_result"
    }
   ],
   "source": [
    "samples = pd.concat([i[2] for i in actual_heatmaps], axis=0)\n",
    "samples['ecf'] = samples['name'].apply(lambda x: str(x[:3]))\n",
    "samples['intein'] = samples['name'].apply(lambda x: str(x[6:-3]))\n",
    "samples['rbs-c'] = samples['name'].apply(lambda x: str(x[4:6]))\n",
    "samples.drop('name', axis=1, inplace=True)\n",
    "len(samples)"
   ]
  },
  {
   "cell_type": "code",
   "execution_count": 160,
   "id": "f821304f",
   "metadata": {},
   "outputs": [
    {
     "data": {
      "text/plain": [
       "4248"
      ]
     },
     "execution_count": 160,
     "metadata": {},
     "output_type": "execute_result"
    }
   ],
   "source": [
    "samples_train = pd.concat([i[2] for i in actual_heatmaps if i[0] in train_pop], axis=0)\n",
    "samples_train['ecf'] = samples_train['name'].apply(lambda x: str(x[:3]))\n",
    "samples_train['intein'] = samples_train['name'].apply(lambda x: str(x[6:-3]))\n",
    "samples_train['rbs-c'] = samples_train['name'].apply(lambda x: str(x[4:6]))\n",
    "samples_train.drop('name', axis=1, inplace=True)\n",
    "len(samples_train)"
   ]
  },
  {
   "cell_type": "code",
   "execution_count": 161,
   "id": "2113ab8b",
   "metadata": {},
   "outputs": [
    {
     "data": {
      "text/plain": [
       "108"
      ]
     },
     "execution_count": 161,
     "metadata": {},
     "output_type": "execute_result"
    }
   ],
   "source": [
    "samples_test = pd.concat([i[2] for i in actual_heatmaps if i[0] in test_pop], axis=0)\n",
    "samples_test['ecf'] = samples_test['name'].apply(lambda x: str(x[:3]))\n",
    "samples_test['intein'] = samples_test['name'].apply(lambda x: str(x[6:-3]))\n",
    "samples_test['rbs-c'] = samples_test['name'].apply(lambda x: str(x[4:6]))\n",
    "samples_test.drop('name', axis=1, inplace=True)\n",
    "len(samples_test)"
   ]
  },
  {
   "cell_type": "code",
   "execution_count": 162,
   "id": "ba11c413",
   "metadata": {},
   "outputs": [],
   "source": [
    "#y = samples['actual']\n",
    "#X = samples.drop('actual', axis=1)\n",
    "#X_train, X_test, y_train, y_test = train_test_split(X, y, test_size=0.2)"
   ]
  },
  {
   "cell_type": "code",
   "execution_count": 163,
   "id": "e17703e9",
   "metadata": {},
   "outputs": [],
   "source": [
    "X_train = samples_train.drop('actual', axis=1)\n",
    "y_train = samples_train['actual']\n",
    "X_test = samples_test.drop('actual', axis=1)\n",
    "y_test = samples_test['actual']"
   ]
  },
  {
   "cell_type": "code",
   "execution_count": 164,
   "id": "2c56a4f5",
   "metadata": {},
   "outputs": [],
   "source": [
    "ohe = OneHotEncoder(handle_unknown='ignore').fit(X_train.drop(['cuma', 'ara'], axis=1))\n",
    "ohe_train = pd.DataFrame(ohe.transform(X_train.drop(['cuma', 'ara'], axis=1)).toarray())\n",
    "ohe_test = pd.DataFrame(ohe.transform(X_test.drop(['cuma', 'ara'], axis=1)).toarray())\n",
    "\n",
    "X_train_transformed = pd.concat([X_train[['cuma', 'ara']].reset_index(drop=True),\n",
    "                                 ohe_train.reset_index(drop=True)], axis=1)\n",
    "X_test_transformed = pd.concat([X_test[['cuma', 'ara']].reset_index(drop=True),\n",
    "                                ohe_test.reset_index(drop=True)], axis=1)"
   ]
  },
  {
   "cell_type": "code",
   "execution_count": 167,
   "id": "486bf530",
   "metadata": {},
   "outputs": [
    {
     "data": {
      "text/html": [
       "<style>#sk-container-id-16 {color: black;background-color: white;}#sk-container-id-16 pre{padding: 0;}#sk-container-id-16 div.sk-toggleable {background-color: white;}#sk-container-id-16 label.sk-toggleable__label {cursor: pointer;display: block;width: 100%;margin-bottom: 0;padding: 0.3em;box-sizing: border-box;text-align: center;}#sk-container-id-16 label.sk-toggleable__label-arrow:before {content: \"▸\";float: left;margin-right: 0.25em;color: #696969;}#sk-container-id-16 label.sk-toggleable__label-arrow:hover:before {color: black;}#sk-container-id-16 div.sk-estimator:hover label.sk-toggleable__label-arrow:before {color: black;}#sk-container-id-16 div.sk-toggleable__content {max-height: 0;max-width: 0;overflow: hidden;text-align: left;background-color: #f0f8ff;}#sk-container-id-16 div.sk-toggleable__content pre {margin: 0.2em;color: black;border-radius: 0.25em;background-color: #f0f8ff;}#sk-container-id-16 input.sk-toggleable__control:checked~div.sk-toggleable__content {max-height: 200px;max-width: 100%;overflow: auto;}#sk-container-id-16 input.sk-toggleable__control:checked~label.sk-toggleable__label-arrow:before {content: \"▾\";}#sk-container-id-16 div.sk-estimator input.sk-toggleable__control:checked~label.sk-toggleable__label {background-color: #d4ebff;}#sk-container-id-16 div.sk-label input.sk-toggleable__control:checked~label.sk-toggleable__label {background-color: #d4ebff;}#sk-container-id-16 input.sk-hidden--visually {border: 0;clip: rect(1px 1px 1px 1px);clip: rect(1px, 1px, 1px, 1px);height: 1px;margin: -1px;overflow: hidden;padding: 0;position: absolute;width: 1px;}#sk-container-id-16 div.sk-estimator {font-family: monospace;background-color: #f0f8ff;border: 1px dotted black;border-radius: 0.25em;box-sizing: border-box;margin-bottom: 0.5em;}#sk-container-id-16 div.sk-estimator:hover {background-color: #d4ebff;}#sk-container-id-16 div.sk-parallel-item::after {content: \"\";width: 100%;border-bottom: 1px solid gray;flex-grow: 1;}#sk-container-id-16 div.sk-label:hover label.sk-toggleable__label {background-color: #d4ebff;}#sk-container-id-16 div.sk-serial::before {content: \"\";position: absolute;border-left: 1px solid gray;box-sizing: border-box;top: 0;bottom: 0;left: 50%;z-index: 0;}#sk-container-id-16 div.sk-serial {display: flex;flex-direction: column;align-items: center;background-color: white;padding-right: 0.2em;padding-left: 0.2em;position: relative;}#sk-container-id-16 div.sk-item {position: relative;z-index: 1;}#sk-container-id-16 div.sk-parallel {display: flex;align-items: stretch;justify-content: center;background-color: white;position: relative;}#sk-container-id-16 div.sk-item::before, #sk-container-id-16 div.sk-parallel-item::before {content: \"\";position: absolute;border-left: 1px solid gray;box-sizing: border-box;top: 0;bottom: 0;left: 50%;z-index: -1;}#sk-container-id-16 div.sk-parallel-item {display: flex;flex-direction: column;z-index: 1;position: relative;background-color: white;}#sk-container-id-16 div.sk-parallel-item:first-child::after {align-self: flex-end;width: 50%;}#sk-container-id-16 div.sk-parallel-item:last-child::after {align-self: flex-start;width: 50%;}#sk-container-id-16 div.sk-parallel-item:only-child::after {width: 0;}#sk-container-id-16 div.sk-dashed-wrapped {border: 1px dashed gray;margin: 0 0.4em 0.5em 0.4em;box-sizing: border-box;padding-bottom: 0.4em;background-color: white;}#sk-container-id-16 div.sk-label label {font-family: monospace;font-weight: bold;display: inline-block;line-height: 1.2em;}#sk-container-id-16 div.sk-label-container {text-align: center;}#sk-container-id-16 div.sk-container {/* jupyter's `normalize.less` sets `[hidden] { display: none; }` but bootstrap.min.css set `[hidden] { display: none !important; }` so we also need the `!important` here to be able to override the default hidden behavior on the sphinx rendered scikit-learn.org. See: https://github.com/scikit-learn/scikit-learn/issues/21755 */display: inline-block !important;position: relative;}#sk-container-id-16 div.sk-text-repr-fallback {display: none;}</style><div id=\"sk-container-id-16\" class=\"sk-top-container\"><div class=\"sk-text-repr-fallback\"><pre>RandomForestRegressor(n_estimators=1000)</pre><b>In a Jupyter environment, please rerun this cell to show the HTML representation or trust the notebook. <br />On GitHub, the HTML representation is unable to render, please try loading this page with nbviewer.org.</b></div><div class=\"sk-container\" hidden><div class=\"sk-item\"><div class=\"sk-estimator sk-toggleable\"><input class=\"sk-toggleable__control sk-hidden--visually\" id=\"sk-estimator-id-16\" type=\"checkbox\" checked><label for=\"sk-estimator-id-16\" class=\"sk-toggleable__label sk-toggleable__label-arrow\">RandomForestRegressor</label><div class=\"sk-toggleable__content\"><pre>RandomForestRegressor(n_estimators=1000)</pre></div></div></div></div></div>"
      ],
      "text/plain": [
       "RandomForestRegressor(n_estimators=1000)"
      ]
     },
     "execution_count": 167,
     "metadata": {},
     "output_type": "execute_result"
    }
   ],
   "source": [
    "regr = RandomForestRegressor(n_estimators=1000)\n",
    "regr.fit(X_train_transformed[['cuma', 'ara']], y_train)"
   ]
  },
  {
   "cell_type": "code",
   "execution_count": 168,
   "id": "d4d2fd43",
   "metadata": {},
   "outputs": [
    {
     "data": {
      "image/png": "[encoded data removed]",
      "text/plain": [
       "<Figure size 640x480 with 1 Axes>"
      ]
     },
     "metadata": {},
     "output_type": "display_data"
    }
   ],
   "source": [
    "y_pred = regr.predict(X_test_transformed[['cuma', 'ara']])\n",
    "mape = 100 - mean_absolute_percentage_error(y_test, y_pred)\n",
    "r = r2_score(y_test, y_pred)\n",
    "sns.regplot(y_test, y_pred, label='mape:{}, r2:{}'.format(mape, r))\n",
    "plt.legend()\n",
    "sns.despine()"
   ]
  },
  {
   "cell_type": "code",
   "execution_count": null,
   "id": "88e06e3d",
   "metadata": {},
   "outputs": [],
   "source": [
    "#kernel = gp.kernels.ConstantKernel(1.0, (1e-1, 1e3)) * gp.kernels.RBF(10.0, (1e-3, 1e3))\n",
    "model = gp.GaussianProcessRegressor()\n",
    "model.fit(X_train_transformed, y_train)"
   ]
  },
  {
   "cell_type": "code",
   "execution_count": null,
   "id": "0e85c661",
   "metadata": {},
   "outputs": [],
   "source": [
    "y_pred = model.predict(X_test_transformed)\n",
    "mape = 100 - mean_absolute_percentage_error(y_test, y_pred)\n",
    "r = r2_score(y_test, y_pred)\n",
    "sns.regplot(y_test, y_pred, label='mape:{}, r2:{}'.format(mape, r))\n",
    "plt.legend()\n",
    "sns.despine()"
   ]
  },
  {
   "cell_type": "code",
   "execution_count": 18,
   "id": "e1950af3",
   "metadata": {},
   "outputs": [],
   "source": [
    "poly = PolynomialFeatures(degree=2, include_bias=False).fit(X_train_transformed)\n",
    "poly_train = poly.transform(X_train_transformed)"
   ]
  },
  {
   "cell_type": "code",
   "execution_count": 19,
   "id": "39ff4329",
   "metadata": {},
   "outputs": [
    {
     "data": {
      "text/html": [
       "<style>#sk-container-id-3 {color: black;background-color: white;}#sk-container-id-3 pre{padding: 0;}#sk-container-id-3 div.sk-toggleable {background-color: white;}#sk-container-id-3 label.sk-toggleable__label {cursor: pointer;display: block;width: 100%;margin-bottom: 0;padding: 0.3em;box-sizing: border-box;text-align: center;}#sk-container-id-3 label.sk-toggleable__label-arrow:before {content: \"▸\";float: left;margin-right: 0.25em;color: #696969;}#sk-container-id-3 label.sk-toggleable__label-arrow:hover:before {color: black;}#sk-container-id-3 div.sk-estimator:hover label.sk-toggleable__label-arrow:before {color: black;}#sk-container-id-3 div.sk-toggleable__content {max-height: 0;max-width: 0;overflow: hidden;text-align: left;background-color: #f0f8ff;}#sk-container-id-3 div.sk-toggleable__content pre {margin: 0.2em;color: black;border-radius: 0.25em;background-color: #f0f8ff;}#sk-container-id-3 input.sk-toggleable__control:checked~div.sk-toggleable__content {max-height: 200px;max-width: 100%;overflow: auto;}#sk-container-id-3 input.sk-toggleable__control:checked~label.sk-toggleable__label-arrow:before {content: \"▾\";}#sk-container-id-3 div.sk-estimator input.sk-toggleable__control:checked~label.sk-toggleable__label {background-color: #d4ebff;}#sk-container-id-3 div.sk-label input.sk-toggleable__control:checked~label.sk-toggleable__label {background-color: #d4ebff;}#sk-container-id-3 input.sk-hidden--visually {border: 0;clip: rect(1px 1px 1px 1px);clip: rect(1px, 1px, 1px, 1px);height: 1px;margin: -1px;overflow: hidden;padding: 0;position: absolute;width: 1px;}#sk-container-id-3 div.sk-estimator {font-family: monospace;background-color: #f0f8ff;border: 1px dotted black;border-radius: 0.25em;box-sizing: border-box;margin-bottom: 0.5em;}#sk-container-id-3 div.sk-estimator:hover {background-color: #d4ebff;}#sk-container-id-3 div.sk-parallel-item::after {content: \"\";width: 100%;border-bottom: 1px solid gray;flex-grow: 1;}#sk-container-id-3 div.sk-label:hover label.sk-toggleable__label {background-color: #d4ebff;}#sk-container-id-3 div.sk-serial::before {content: \"\";position: absolute;border-left: 1px solid gray;box-sizing: border-box;top: 0;bottom: 0;left: 50%;z-index: 0;}#sk-container-id-3 div.sk-serial {display: flex;flex-direction: column;align-items: center;background-color: white;padding-right: 0.2em;padding-left: 0.2em;position: relative;}#sk-container-id-3 div.sk-item {position: relative;z-index: 1;}#sk-container-id-3 div.sk-parallel {display: flex;align-items: stretch;justify-content: center;background-color: white;position: relative;}#sk-container-id-3 div.sk-item::before, #sk-container-id-3 div.sk-parallel-item::before {content: \"\";position: absolute;border-left: 1px solid gray;box-sizing: border-box;top: 0;bottom: 0;left: 50%;z-index: -1;}#sk-container-id-3 div.sk-parallel-item {display: flex;flex-direction: column;z-index: 1;position: relative;background-color: white;}#sk-container-id-3 div.sk-parallel-item:first-child::after {align-self: flex-end;width: 50%;}#sk-container-id-3 div.sk-parallel-item:last-child::after {align-self: flex-start;width: 50%;}#sk-container-id-3 div.sk-parallel-item:only-child::after {width: 0;}#sk-container-id-3 div.sk-dashed-wrapped {border: 1px dashed gray;margin: 0 0.4em 0.5em 0.4em;box-sizing: border-box;padding-bottom: 0.4em;background-color: white;}#sk-container-id-3 div.sk-label label {font-family: monospace;font-weight: bold;display: inline-block;line-height: 1.2em;}#sk-container-id-3 div.sk-label-container {text-align: center;}#sk-container-id-3 div.sk-container {/* jupyter's `normalize.less` sets `[hidden] { display: none; }` but bootstrap.min.css set `[hidden] { display: none !important; }` so we also need the `!important` here to be able to override the default hidden behavior on the sphinx rendered scikit-learn.org. See: https://github.com/scikit-learn/scikit-learn/issues/21755 */display: inline-block !important;position: relative;}#sk-container-id-3 div.sk-text-repr-fallback {display: none;}</style><div id=\"sk-container-id-3\" class=\"sk-top-container\"><div class=\"sk-text-repr-fallback\"><pre>LinearRegression()</pre><b>In a Jupyter environment, please rerun this cell to show the HTML representation or trust the notebook. <br />On GitHub, the HTML representation is unable to render, please try loading this page with nbviewer.org.</b></div><div class=\"sk-container\" hidden><div class=\"sk-item\"><div class=\"sk-estimator sk-toggleable\"><input class=\"sk-toggleable__control sk-hidden--visually\" id=\"sk-estimator-id-3\" type=\"checkbox\" checked><label for=\"sk-estimator-id-3\" class=\"sk-toggleable__label sk-toggleable__label-arrow\">LinearRegression</label><div class=\"sk-toggleable__content\"><pre>LinearRegression()</pre></div></div></div></div></div>"
      ],
      "text/plain": [
       "LinearRegression()"
      ]
     },
     "execution_count": 19,
     "metadata": {},
     "output_type": "execute_result"
    }
   ],
   "source": [
    "linreg = LinearRegression()\n",
    "linreg.fit(poly_train, y_train)"
   ]
  },
  {
   "cell_type": "code",
   "execution_count": 20,
   "id": "b8668719",
   "metadata": {},
   "outputs": [],
   "source": [
    "poly_test = poly.transform(X_test_transformed)"
   ]
  },
  {
   "cell_type": "code",
   "execution_count": null,
   "id": "50f3a12a",
   "metadata": {},
   "outputs": [],
   "source": [
    "y_pred = linreg.predict(poly_test)\n",
    "mape = 100 - mean_absolute_percentage_error(y_test, y_pred)\n",
    "r = r2_score(y_test, y_pred)\n",
    "sns.regplot(y_test, y_pred, label='mape:{}, r2:{}'.format(mape, r))\n",
    "plt.legend()\n",
    "sns.despine()"
   ]
  },
  {
   "cell_type": "markdown",
   "id": "efb08b18",
   "metadata": {},
   "source": [
    "### All data"
   ]
  },
  {
   "cell_type": "code",
   "execution_count": 12,
   "id": "3dbd710d",
   "metadata": {},
   "outputs": [
    {
     "data": {
      "text/html": [
       "<style>#sk-container-id-2 {color: black;background-color: white;}#sk-container-id-2 pre{padding: 0;}#sk-container-id-2 div.sk-toggleable {background-color: white;}#sk-container-id-2 label.sk-toggleable__label {cursor: pointer;display: block;width: 100%;margin-bottom: 0;padding: 0.3em;box-sizing: border-box;text-align: center;}#sk-container-id-2 label.sk-toggleable__label-arrow:before {content: \"▸\";float: left;margin-right: 0.25em;color: #696969;}#sk-container-id-2 label.sk-toggleable__label-arrow:hover:before {color: black;}#sk-container-id-2 div.sk-estimator:hover label.sk-toggleable__label-arrow:before {color: black;}#sk-container-id-2 div.sk-toggleable__content {max-height: 0;max-width: 0;overflow: hidden;text-align: left;background-color: #f0f8ff;}#sk-container-id-2 div.sk-toggleable__content pre {margin: 0.2em;color: black;border-radius: 0.25em;background-color: #f0f8ff;}#sk-container-id-2 input.sk-toggleable__control:checked~div.sk-toggleable__content {max-height: 200px;max-width: 100%;overflow: auto;}#sk-container-id-2 input.sk-toggleable__control:checked~label.sk-toggleable__label-arrow:before {content: \"▾\";}#sk-container-id-2 div.sk-estimator input.sk-toggleable__control:checked~label.sk-toggleable__label {background-color: #d4ebff;}#sk-container-id-2 div.sk-label input.sk-toggleable__control:checked~label.sk-toggleable__label {background-color: #d4ebff;}#sk-container-id-2 input.sk-hidden--visually {border: 0;clip: rect(1px 1px 1px 1px);clip: rect(1px, 1px, 1px, 1px);height: 1px;margin: -1px;overflow: hidden;padding: 0;position: absolute;width: 1px;}#sk-container-id-2 div.sk-estimator {font-family: monospace;background-color: #f0f8ff;border: 1px dotted black;border-radius: 0.25em;box-sizing: border-box;margin-bottom: 0.5em;}#sk-container-id-2 div.sk-estimator:hover {background-color: #d4ebff;}#sk-container-id-2 div.sk-parallel-item::after {content: \"\";width: 100%;border-bottom: 1px solid gray;flex-grow: 1;}#sk-container-id-2 div.sk-label:hover label.sk-toggleable__label {background-color: #d4ebff;}#sk-container-id-2 div.sk-serial::before {content: \"\";position: absolute;border-left: 1px solid gray;box-sizing: border-box;top: 0;bottom: 0;left: 50%;z-index: 0;}#sk-container-id-2 div.sk-serial {display: flex;flex-direction: column;align-items: center;background-color: white;padding-right: 0.2em;padding-left: 0.2em;position: relative;}#sk-container-id-2 div.sk-item {position: relative;z-index: 1;}#sk-container-id-2 div.sk-parallel {display: flex;align-items: stretch;justify-content: center;background-color: white;position: relative;}#sk-container-id-2 div.sk-item::before, #sk-container-id-2 div.sk-parallel-item::before {content: \"\";position: absolute;border-left: 1px solid gray;box-sizing: border-box;top: 0;bottom: 0;left: 50%;z-index: -1;}#sk-container-id-2 div.sk-parallel-item {display: flex;flex-direction: column;z-index: 1;position: relative;background-color: white;}#sk-container-id-2 div.sk-parallel-item:first-child::after {align-self: flex-end;width: 50%;}#sk-container-id-2 div.sk-parallel-item:last-child::after {align-self: flex-start;width: 50%;}#sk-container-id-2 div.sk-parallel-item:only-child::after {width: 0;}#sk-container-id-2 div.sk-dashed-wrapped {border: 1px dashed gray;margin: 0 0.4em 0.5em 0.4em;box-sizing: border-box;padding-bottom: 0.4em;background-color: white;}#sk-container-id-2 div.sk-label label {font-family: monospace;font-weight: bold;display: inline-block;line-height: 1.2em;}#sk-container-id-2 div.sk-label-container {text-align: center;}#sk-container-id-2 div.sk-container {/* jupyter's `normalize.less` sets `[hidden] { display: none; }` but bootstrap.min.css set `[hidden] { display: none !important; }` so we also need the `!important` here to be able to override the default hidden behavior on the sphinx rendered scikit-learn.org. See: https://github.com/scikit-learn/scikit-learn/issues/21755 */display: inline-block !important;position: relative;}#sk-container-id-2 div.sk-text-repr-fallback {display: none;}</style><div id=\"sk-container-id-2\" class=\"sk-top-container\"><div class=\"sk-text-repr-fallback\"><pre>RandomForestRegressor(n_estimators=1000)</pre><b>In a Jupyter environment, please rerun this cell to show the HTML representation or trust the notebook. <br />On GitHub, the HTML representation is unable to render, please try loading this page with nbviewer.org.</b></div><div class=\"sk-container\" hidden><div class=\"sk-item\"><div class=\"sk-estimator sk-toggleable\"><input class=\"sk-toggleable__control sk-hidden--visually\" id=\"sk-estimator-id-2\" type=\"checkbox\" checked><label for=\"sk-estimator-id-2\" class=\"sk-toggleable__label sk-toggleable__label-arrow\">RandomForestRegressor</label><div class=\"sk-toggleable__content\"><pre>RandomForestRegressor(n_estimators=1000)</pre></div></div></div></div></div>"
      ],
      "text/plain": [
       "RandomForestRegressor(n_estimators=1000)"
      ]
     },
     "execution_count": 12,
     "metadata": {},
     "output_type": "execute_result"
    }
   ],
   "source": [
    "ohe = OneHotEncoder(handle_unknown='ignore').fit(X.drop(['cuma', 'ara'], axis=1))\n",
    "ohe_ = pd.DataFrame(ohe.transform(X.drop(['cuma', 'ara'], axis=1)).toarray())\n",
    "\n",
    "X_ = pd.concat([X[['cuma', 'ara']].reset_index(drop=True), ohe_.reset_index(drop=True)], axis=1)\n",
    "regr2 = RandomForestRegressor(n_estimators=1000)\n",
    "regr2.fit(X_, y)"
   ]
  },
  {
   "cell_type": "code",
   "execution_count": 13,
   "id": "f91bf3a4",
   "metadata": {},
   "outputs": [],
   "source": [
    "y_ = regr2.predict(X_)"
   ]
  },
  {
   "cell_type": "code",
   "execution_count": 14,
   "id": "ec3c451a",
   "metadata": {},
   "outputs": [
    {
     "data": {
      "image/png": "[encoded data removed]",
      "text/plain": [
       "<Figure size 640x480 with 1 Axes>"
      ]
     },
     "metadata": {},
     "output_type": "display_data"
    }
   ],
   "source": [
    "mape = 100 - mean_absolute_percentage_error(y, y_)\n",
    "r = r2_score(y, y_)\n",
    "sns.regplot(y, y_, label='mape:{}, r2:{}'.format(mape, r))\n",
    "plt.legend()\n",
    "sns.despine()"
   ]
  },
  {
   "cell_type": "code",
   "execution_count": null,
   "id": "b77d0009",
   "metadata": {},
   "outputs": [],
   "source": [
    "model = gp.GaussianProcessRegressor()\n",
    "model.fit(X_, y)"
   ]
  },
  {
   "cell_type": "code",
   "execution_count": null,
   "id": "7b80e180",
   "metadata": {},
   "outputs": [],
   "source": [
    "y_ = model.predict(X_)\n",
    "mape = 100 - mean_absolute_percentage_error(y, y_)\n",
    "r = r2_score(y, y_)\n",
    "sns.regplot(y, y_, label='mape:{}, r2:{}'.format(mape, r))\n",
    "plt.legend()\n",
    "sns.despine()"
   ]
  },
  {
   "cell_type": "code",
   "execution_count": null,
   "id": "a9485689",
   "metadata": {},
   "outputs": [],
   "source": [
    "linreg = LinearRegression()\n",
    "linreg.fit(X_, y)"
   ]
  },
  {
   "cell_type": "code",
   "execution_count": null,
   "id": "fe666c2c",
   "metadata": {},
   "outputs": [],
   "source": [
    "y_ = linreg.predict(X_)"
   ]
  },
  {
   "cell_type": "markdown",
   "id": "7413a61c",
   "metadata": {},
   "source": [
    "### Visualization breakdown"
   ]
  },
  {
   "cell_type": "code",
   "execution_count": 21,
   "id": "92031c55",
   "metadata": {},
   "outputs": [],
   "source": [
    "cuma_lim = np.log10(min(cumas)), np.log10(max(cumas))\n",
    "ara_lim = np.log10(min(aras)), np.log10(max(aras))\n",
    "ind1 = np.logspace(*cuma_lim, 1000)\n",
    "ind2 = np.logspace(*ara_lim, 1000)"
   ]
  },
  {
   "cell_type": "code",
   "execution_count": 22,
   "id": "7bd3928c",
   "metadata": {},
   "outputs": [
    {
     "data": {
      "text/plain": [
       "119"
      ]
     },
     "execution_count": 22,
     "metadata": {},
     "output_type": "execute_result"
    }
   ],
   "source": [
    "actual_df = X.copy()\n",
    "actual_df['gate'] = actual_df['ecf'] + 'x' + actual_df['rbs-c'] + actual_df['intein']\n",
    "actual_df['actual'] = y\n",
    "gates = actual_df['gate'].unique()\n",
    "len(gates)"
   ]
  },
  {
   "cell_type": "code",
   "execution_count": 23,
   "id": "8cae1036",
   "metadata": {},
   "outputs": [
    {
     "data": {
      "image/png": "[encoded data removed]",
      "text/plain": [
       "<Figure size 400x300 with 1 Axes>"
      ]
     },
     "metadata": {},
     "output_type": "display_data"
    }
   ],
   "source": [
    "fig = plt.figure(figsize=[4, 3])\n",
    "gate = gates[5]\n",
    "title = gate\n",
    "\n",
    "act_data = actual_df[actual_df['gate']==title]\n",
    "inducers = [cumas, ind2]\n",
    "pred_data = pd.DataFrame(itertools.product(*inducers))\n",
    "pred_data.columns = ['cuma', 'ara']\n",
    "pred_data['ecf'] = gate[:3]\n",
    "pred_data['intein'] = gate[6:]\n",
    "pred_data['rbs-c'] = gate[4:6]\n",
    "\n",
    "ohe_pred = pd.DataFrame(ohe.transform(pred_data.drop(['cuma', 'ara'], axis=1)).toarray())\n",
    "X_gated = pd.concat([pred_data[['cuma', 'ara']].reset_index(drop=True), ohe_pred.reset_index(drop=True)], axis=1)\n",
    "X_poly = poly.transform(X_gated)\n",
    "pred_data['prediction'] = linreg.predict(X_poly)\n",
    "\n",
    "fixed = 'cuma'\n",
    "varied = 'ara'\n",
    "\n",
    "for i in act_data[fixed].unique():\n",
    "    act = act_data[act_data[fixed]==i]\n",
    "    pred = pred_data[pred_data[fixed]==i]\n",
    "    plt.scatter(act[varied], act['actual'])\n",
    "    plt.plot(pred[varied], pred['prediction'])\n",
    "    plt.title(title)\n",
    "#plt.yscale('log')\n",
    "#plt.loglog()\n",
    "sns.despine()"
   ]
  },
  {
   "cell_type": "markdown",
   "id": "a9caf938",
   "metadata": {},
   "source": [
    "#### Prediction One Gate"
   ]
  },
  {
   "cell_type": "code",
   "execution_count": 173,
   "id": "8b271035",
   "metadata": {},
   "outputs": [],
   "source": [
    "X1 = actual_heatmaps[0][2][['cuma', 'ara']]\n",
    "y1 = actual_heatmaps[0][2]['actual']"
   ]
  },
  {
   "cell_type": "code",
   "execution_count": null,
   "id": "adc571b6",
   "metadata": {},
   "outputs": [],
   "source": []
  },
  {
   "cell_type": "code",
   "execution_count": 225,
   "id": "4ac36362",
   "metadata": {},
   "outputs": [
    {
     "data": {
      "text/html": [
       "<style>#sk-container-id-27 {color: black;background-color: white;}#sk-container-id-27 pre{padding: 0;}#sk-container-id-27 div.sk-toggleable {background-color: white;}#sk-container-id-27 label.sk-toggleable__label {cursor: pointer;display: block;width: 100%;margin-bottom: 0;padding: 0.3em;box-sizing: border-box;text-align: center;}#sk-container-id-27 label.sk-toggleable__label-arrow:before {content: \"▸\";float: left;margin-right: 0.25em;color: #696969;}#sk-container-id-27 label.sk-toggleable__label-arrow:hover:before {color: black;}#sk-container-id-27 div.sk-estimator:hover label.sk-toggleable__label-arrow:before {color: black;}#sk-container-id-27 div.sk-toggleable__content {max-height: 0;max-width: 0;overflow: hidden;text-align: left;background-color: #f0f8ff;}#sk-container-id-27 div.sk-toggleable__content pre {margin: 0.2em;color: black;border-radius: 0.25em;background-color: #f0f8ff;}#sk-container-id-27 input.sk-toggleable__control:checked~div.sk-toggleable__content {max-height: 200px;max-width: 100%;overflow: auto;}#sk-container-id-27 input.sk-toggleable__control:checked~label.sk-toggleable__label-arrow:before {content: \"▾\";}#sk-container-id-27 div.sk-estimator input.sk-toggleable__control:checked~label.sk-toggleable__label {background-color: #d4ebff;}#sk-container-id-27 div.sk-label input.sk-toggleable__control:checked~label.sk-toggleable__label {background-color: #d4ebff;}#sk-container-id-27 input.sk-hidden--visually {border: 0;clip: rect(1px 1px 1px 1px);clip: rect(1px, 1px, 1px, 1px);height: 1px;margin: -1px;overflow: hidden;padding: 0;position: absolute;width: 1px;}#sk-container-id-27 div.sk-estimator {font-family: monospace;background-color: #f0f8ff;border: 1px dotted black;border-radius: 0.25em;box-sizing: border-box;margin-bottom: 0.5em;}#sk-container-id-27 div.sk-estimator:hover {background-color: #d4ebff;}#sk-container-id-27 div.sk-parallel-item::after {content: \"\";width: 100%;border-bottom: 1px solid gray;flex-grow: 1;}#sk-container-id-27 div.sk-label:hover label.sk-toggleable__label {background-color: #d4ebff;}#sk-container-id-27 div.sk-serial::before {content: \"\";position: absolute;border-left: 1px solid gray;box-sizing: border-box;top: 0;bottom: 0;left: 50%;z-index: 0;}#sk-container-id-27 div.sk-serial {display: flex;flex-direction: column;align-items: center;background-color: white;padding-right: 0.2em;padding-left: 0.2em;position: relative;}#sk-container-id-27 div.sk-item {position: relative;z-index: 1;}#sk-container-id-27 div.sk-parallel {display: flex;align-items: stretch;justify-content: center;background-color: white;position: relative;}#sk-container-id-27 div.sk-item::before, #sk-container-id-27 div.sk-parallel-item::before {content: \"\";position: absolute;border-left: 1px solid gray;box-sizing: border-box;top: 0;bottom: 0;left: 50%;z-index: -1;}#sk-container-id-27 div.sk-parallel-item {display: flex;flex-direction: column;z-index: 1;position: relative;background-color: white;}#sk-container-id-27 div.sk-parallel-item:first-child::after {align-self: flex-end;width: 50%;}#sk-container-id-27 div.sk-parallel-item:last-child::after {align-self: flex-start;width: 50%;}#sk-container-id-27 div.sk-parallel-item:only-child::after {width: 0;}#sk-container-id-27 div.sk-dashed-wrapped {border: 1px dashed gray;margin: 0 0.4em 0.5em 0.4em;box-sizing: border-box;padding-bottom: 0.4em;background-color: white;}#sk-container-id-27 div.sk-label label {font-family: monospace;font-weight: bold;display: inline-block;line-height: 1.2em;}#sk-container-id-27 div.sk-label-container {text-align: center;}#sk-container-id-27 div.sk-container {/* jupyter's `normalize.less` sets `[hidden] { display: none; }` but bootstrap.min.css set `[hidden] { display: none !important; }` so we also need the `!important` here to be able to override the default hidden behavior on the sphinx rendered scikit-learn.org. See: https://github.com/scikit-learn/scikit-learn/issues/21755 */display: inline-block !important;position: relative;}#sk-container-id-27 div.sk-text-repr-fallback {display: none;}</style><div id=\"sk-container-id-27\" class=\"sk-top-container\"><div class=\"sk-text-repr-fallback\"><pre>GaussianProcessRegressor()</pre><b>In a Jupyter environment, please rerun this cell to show the HTML representation or trust the notebook. <br />On GitHub, the HTML representation is unable to render, please try loading this page with nbviewer.org.</b></div><div class=\"sk-container\" hidden><div class=\"sk-item\"><div class=\"sk-estimator sk-toggleable\"><input class=\"sk-toggleable__control sk-hidden--visually\" id=\"sk-estimator-id-27\" type=\"checkbox\" checked><label for=\"sk-estimator-id-27\" class=\"sk-toggleable__label sk-toggleable__label-arrow\">GaussianProcessRegressor</label><div class=\"sk-toggleable__content\"><pre>GaussianProcessRegressor()</pre></div></div></div></div></div>"
      ],
      "text/plain": [
       "GaussianProcessRegressor()"
      ]
     },
     "execution_count": 225,
     "metadata": {},
     "output_type": "execute_result"
    }
   ],
   "source": [
    "poly = PolynomialFeatures(degree=2, include_bias=False).fit(X1)\n",
    "#X1_poly = poly.transform(X1)\n",
    "regr = gp.GaussianProcessRegressor()#RandomForestRegressor(n_estimators=1000)\n",
    "regr.fit(X1, y1)"
   ]
  },
  {
   "cell_type": "code",
   "execution_count": 418,
   "id": "6ca0eb59",
   "metadata": {},
   "outputs": [
    {
     "data": {
      "text/html": [
       "<style>#sk-container-id-66 {color: black;background-color: white;}#sk-container-id-66 pre{padding: 0;}#sk-container-id-66 div.sk-toggleable {background-color: white;}#sk-container-id-66 label.sk-toggleable__label {cursor: pointer;display: block;width: 100%;margin-bottom: 0;padding: 0.3em;box-sizing: border-box;text-align: center;}#sk-container-id-66 label.sk-toggleable__label-arrow:before {content: \"▸\";float: left;margin-right: 0.25em;color: #696969;}#sk-container-id-66 label.sk-toggleable__label-arrow:hover:before {color: black;}#sk-container-id-66 div.sk-estimator:hover label.sk-toggleable__label-arrow:before {color: black;}#sk-container-id-66 div.sk-toggleable__content {max-height: 0;max-width: 0;overflow: hidden;text-align: left;background-color: #f0f8ff;}#sk-container-id-66 div.sk-toggleable__content pre {margin: 0.2em;color: black;border-radius: 0.25em;background-color: #f0f8ff;}#sk-container-id-66 input.sk-toggleable__control:checked~div.sk-toggleable__content {max-height: 200px;max-width: 100%;overflow: auto;}#sk-container-id-66 input.sk-toggleable__control:checked~label.sk-toggleable__label-arrow:before {content: \"▾\";}#sk-container-id-66 div.sk-estimator input.sk-toggleable__control:checked~label.sk-toggleable__label {background-color: #d4ebff;}#sk-container-id-66 div.sk-label input.sk-toggleable__control:checked~label.sk-toggleable__label {background-color: #d4ebff;}#sk-container-id-66 input.sk-hidden--visually {border: 0;clip: rect(1px 1px 1px 1px);clip: rect(1px, 1px, 1px, 1px);height: 1px;margin: -1px;overflow: hidden;padding: 0;position: absolute;width: 1px;}#sk-container-id-66 div.sk-estimator {font-family: monospace;background-color: #f0f8ff;border: 1px dotted black;border-radius: 0.25em;box-sizing: border-box;margin-bottom: 0.5em;}#sk-container-id-66 div.sk-estimator:hover {background-color: #d4ebff;}#sk-container-id-66 div.sk-parallel-item::after {content: \"\";width: 100%;border-bottom: 1px solid gray;flex-grow: 1;}#sk-container-id-66 div.sk-label:hover label.sk-toggleable__label {background-color: #d4ebff;}#sk-container-id-66 div.sk-serial::before {content: \"\";position: absolute;border-left: 1px solid gray;box-sizing: border-box;top: 0;bottom: 0;left: 50%;z-index: 0;}#sk-container-id-66 div.sk-serial {display: flex;flex-direction: column;align-items: center;background-color: white;padding-right: 0.2em;padding-left: 0.2em;position: relative;}#sk-container-id-66 div.sk-item {position: relative;z-index: 1;}#sk-container-id-66 div.sk-parallel {display: flex;align-items: stretch;justify-content: center;background-color: white;position: relative;}#sk-container-id-66 div.sk-item::before, #sk-container-id-66 div.sk-parallel-item::before {content: \"\";position: absolute;border-left: 1px solid gray;box-sizing: border-box;top: 0;bottom: 0;left: 50%;z-index: -1;}#sk-container-id-66 div.sk-parallel-item {display: flex;flex-direction: column;z-index: 1;position: relative;background-color: white;}#sk-container-id-66 div.sk-parallel-item:first-child::after {align-self: flex-end;width: 50%;}#sk-container-id-66 div.sk-parallel-item:last-child::after {align-self: flex-start;width: 50%;}#sk-container-id-66 div.sk-parallel-item:only-child::after {width: 0;}#sk-container-id-66 div.sk-dashed-wrapped {border: 1px dashed gray;margin: 0 0.4em 0.5em 0.4em;box-sizing: border-box;padding-bottom: 0.4em;background-color: white;}#sk-container-id-66 div.sk-label label {font-family: monospace;font-weight: bold;display: inline-block;line-height: 1.2em;}#sk-container-id-66 div.sk-label-container {text-align: center;}#sk-container-id-66 div.sk-container {/* jupyter's `normalize.less` sets `[hidden] { display: none; }` but bootstrap.min.css set `[hidden] { display: none !important; }` so we also need the `!important` here to be able to override the default hidden behavior on the sphinx rendered scikit-learn.org. See: https://github.com/scikit-learn/scikit-learn/issues/21755 */display: inline-block !important;position: relative;}#sk-container-id-66 div.sk-text-repr-fallback {display: none;}</style><div id=\"sk-container-id-66\" class=\"sk-top-container\"><div class=\"sk-text-repr-fallback\"><pre>GaussianProcessRegressor(kernel=3.16**2 * RBF(length_scale=10))</pre><b>In a Jupyter environment, please rerun this cell to show the HTML representation or trust the notebook. <br />On GitHub, the HTML representation is unable to render, please try loading this page with nbviewer.org.</b></div><div class=\"sk-container\" hidden><div class=\"sk-item\"><div class=\"sk-estimator sk-toggleable\"><input class=\"sk-toggleable__control sk-hidden--visually\" id=\"sk-estimator-id-66\" type=\"checkbox\" checked><label for=\"sk-estimator-id-66\" class=\"sk-toggleable__label sk-toggleable__label-arrow\">GaussianProcessRegressor</label><div class=\"sk-toggleable__content\"><pre>GaussianProcessRegressor(kernel=3.16**2 * RBF(length_scale=10))</pre></div></div></div></div></div>"
      ],
      "text/plain": [
       "GaussianProcessRegressor(kernel=3.16**2 * RBF(length_scale=10))"
      ]
     },
     "execution_count": 418,
     "metadata": {},
     "output_type": "execute_result"
    }
   ],
   "source": [
    "kernel = gp.kernels.ConstantKernel(10, constant_value_bounds=\"fixed\") * gp.kernels.RBF(10, length_scale_bounds=\"fixed\")\n",
    "model = gp.GaussianProcessRegressor(kernel=kernel)\n",
    "model.fit(X1, y1)"
   ]
  },
  {
   "cell_type": "code",
   "execution_count": 419,
   "id": "153b79c8",
   "metadata": {},
   "outputs": [
    {
     "data": {
      "image/png": "[encoded data removed]",
      "text/plain": [
       "<Figure size 640x480 with 1 Axes>"
      ]
     },
     "metadata": {},
     "output_type": "display_data"
    }
   ],
   "source": [
    "y1_ = model.predict(X1)\n",
    "mape = 100 - mean_absolute_percentage_error(y1, y1_)\n",
    "r = r2_score(y1, y1_)\n",
    "sns.regplot(y1, y1_, label='mape:{}, r2:{}'.format(mape, r))\n",
    "plt.legend()\n",
    "sns.despine()"
   ]
  },
  {
   "cell_type": "code",
   "execution_count": 420,
   "id": "03e7167e",
   "metadata": {},
   "outputs": [],
   "source": [
    "cuma_lim = np.log10(0.001585), np.log10(0.985566)\n",
    "ara_lim = np.log10(0.010715), np.log10(7.437780)\n",
    "ind1 = np.logspace(*cuma_lim, 1000)\n",
    "ind2 = np.logspace(*ara_lim, 1000)"
   ]
  },
  {
   "cell_type": "code",
   "execution_count": 421,
   "id": "54ca1fe8",
   "metadata": {},
   "outputs": [],
   "source": [
    "cumas = actual_heatmaps[0][2]['cuma'].unique()"
   ]
  },
  {
   "cell_type": "code",
   "execution_count": 422,
   "id": "19c897e4",
   "metadata": {},
   "outputs": [
    {
     "data": {
      "image/png": "[encoded data removed]",
      "text/plain": [
       "<Figure size 400x300 with 1 Axes>"
      ]
     },
     "metadata": {},
     "output_type": "display_data"
    }
   ],
   "source": [
    "fig = plt.figure(figsize=[4, 3])\n",
    "#gate = gates[5]\n",
    "#title = gate\n",
    "\n",
    "#act_data = actual_df[actual_df['gate']==title]\n",
    "act_data = actual_heatmaps[0][2]\n",
    "inducers = [cumas, ind2]\n",
    "pred_data = pd.DataFrame(itertools.product(*inducers))\n",
    "pred_data.columns = ['cuma', 'ara']\n",
    "#pred_data['ecf'] = gate[:3]\n",
    "#pred_data['intein'] = gate[6:]\n",
    "#pred_data['rbs-c'] = gate[4:6]\n",
    "\n",
    "#ohe_pred = pd.DataFrame(ohe.transform(pred_data.drop(['cuma', 'ara'], axis=1)).toarray())\n",
    "#X_gated = pd.concat([pred_data[['cuma', 'ara']].reset_index(drop=True), ohe_pred.reset_index(drop=True)], axis=1)\n",
    "#X_poly = poly.transform(X_gated)\n",
    "#pred_data_poly = poly.transform(pred_data)\n",
    "pred_data['prediction'] = model.predict(pred_data)\n",
    "\n",
    "fixed = 'cuma'\n",
    "varied = 'ara'\n",
    "\n",
    "for i in act_data[fixed].unique():\n",
    "    act = act_data[act_data[fixed]==i]\n",
    "    pred = pred_data[pred_data[fixed]==i]\n",
    "    plt.scatter(act[varied], act['actual'], label=i)\n",
    "    plt.plot(pred[varied], pred['prediction'])\n",
    "plt.title(title)\n",
    "#plt.legend()\n",
    "#plt.yscale('log')\n",
    "#plt.loglog()\n",
    "sns.despine()"
   ]
  },
  {
   "cell_type": "code",
   "execution_count": 377,
   "id": "6470fb27",
   "metadata": {},
   "outputs": [
    {
     "data": {
      "image/png": "[encoded data removed]",
      "text/plain": [
       "<Figure size 400x300 with 1 Axes>"
      ]
     },
     "metadata": {},
     "output_type": "display_data"
    }
   ],
   "source": [
    "fig = plt.figure(figsize=[4, 3])\n",
    "#gate = gates[5]\n",
    "#title = gate\n",
    "\n",
    "#act_data = actual_df[actual_df['gate']==title]\n",
    "act_data = actual_heatmaps[0][2]\n",
    "inducers = [cumas, ind2]\n",
    "pred_data = pd.DataFrame(itertools.product(*inducers))\n",
    "pred_data.columns = ['cuma', 'ara']\n",
    "#pred_data['ecf'] = gate[:3]\n",
    "#pred_data['intein'] = gate[6:]\n",
    "#pred_data['rbs-c'] = gate[4:6]\n",
    "\n",
    "#ohe_pred = pd.DataFrame(ohe.transform(pred_data.drop(['cuma', 'ara'], axis=1)).toarray())\n",
    "#X_gated = pd.concat([pred_data[['cuma', 'ara']].reset_index(drop=True), ohe_pred.reset_index(drop=True)], axis=1)\n",
    "#X_poly = poly.transform(X_gated)\n",
    "#pred_data_poly = poly.transform(pred_data)\n",
    "pred_data['prediction'] = model.predict(pred_data)\n",
    "\n",
    "fixed = 'cuma'\n",
    "varied = 'ara'\n",
    "\n",
    "for i in act_data[fixed].unique():\n",
    "    act = act_data[act_data[fixed]==i]\n",
    "    pred = pred_data[pred_data[fixed]==i]\n",
    "    plt.scatter(act[varied], act['actual'], label=i)\n",
    "    plt.plot(pred[varied], pred['prediction'])\n",
    "plt.title(title)\n",
    "#plt.legend()\n",
    "#plt.yscale('log')\n",
    "#plt.loglog()\n",
    "sns.despine()"
   ]
  },
  {
   "cell_type": "code",
   "execution_count": 336,
   "id": "197775e0",
   "metadata": {},
   "outputs": [
    {
     "data": {
      "text/html": [
       "<div>\n",
       "<style scoped>\n",
       "    .dataframe tbody tr th:only-of-type {\n",
       "        vertical-align: middle;\n",
       "    }\n",
       "\n",
       "    .dataframe tbody tr th {\n",
       "        vertical-align: top;\n",
       "    }\n",
       "\n",
       "    .dataframe thead th {\n",
       "        text-align: right;\n",
       "    }\n",
       "</style>\n",
       "<table border=\"1\" class=\"dataframe\">\n",
       "  <thead>\n",
       "    <tr style=\"text-align: right;\">\n",
       "      <th></th>\n",
       "      <th>name</th>\n",
       "      <th>actual</th>\n",
       "      <th>cuma</th>\n",
       "      <th>ara</th>\n",
       "    </tr>\n",
       "  </thead>\n",
       "  <tbody>\n",
       "    <tr>\n",
       "      <th>0</th>\n",
       "      <td>e11x32STPhoRadA_00</td>\n",
       "      <td>0.001785</td>\n",
       "      <td>0.001585</td>\n",
       "      <td>0.010715</td>\n",
       "    </tr>\n",
       "    <tr>\n",
       "      <th>1</th>\n",
       "      <td>e11x32STPhoRadA_01</td>\n",
       "      <td>0.003042</td>\n",
       "      <td>0.001585</td>\n",
       "      <td>1.016134</td>\n",
       "    </tr>\n",
       "    <tr>\n",
       "      <th>2</th>\n",
       "      <td>e11x32STPhoRadA_02</td>\n",
       "      <td>0.001504</td>\n",
       "      <td>0.001585</td>\n",
       "      <td>2.998299</td>\n",
       "    </tr>\n",
       "    <tr>\n",
       "      <th>3</th>\n",
       "      <td>e11x32STPhoRadA_03</td>\n",
       "      <td>0.001901</td>\n",
       "      <td>0.001585</td>\n",
       "      <td>5.577181</td>\n",
       "    </tr>\n",
       "    <tr>\n",
       "      <th>4</th>\n",
       "      <td>e11x32STPhoRadA_04</td>\n",
       "      <td>0.002020</td>\n",
       "      <td>0.001585</td>\n",
       "      <td>6.993655</td>\n",
       "    </tr>\n",
       "    <tr>\n",
       "      <th>5</th>\n",
       "      <td>e11x32STPhoRadA_05</td>\n",
       "      <td>0.003990</td>\n",
       "      <td>0.001585</td>\n",
       "      <td>7.437780</td>\n",
       "    </tr>\n",
       "    <tr>\n",
       "      <th>6</th>\n",
       "      <td>e11x32STPhoRadA_10</td>\n",
       "      <td>0.001196</td>\n",
       "      <td>0.002445</td>\n",
       "      <td>0.010715</td>\n",
       "    </tr>\n",
       "    <tr>\n",
       "      <th>7</th>\n",
       "      <td>e11x32STPhoRadA_11</td>\n",
       "      <td>0.192623</td>\n",
       "      <td>0.002445</td>\n",
       "      <td>1.016134</td>\n",
       "    </tr>\n",
       "    <tr>\n",
       "      <th>8</th>\n",
       "      <td>e11x32STPhoRadA_12</td>\n",
       "      <td>0.762740</td>\n",
       "      <td>0.002445</td>\n",
       "      <td>2.998299</td>\n",
       "    </tr>\n",
       "    <tr>\n",
       "      <th>9</th>\n",
       "      <td>e11x32STPhoRadA_13</td>\n",
       "      <td>0.939117</td>\n",
       "      <td>0.002445</td>\n",
       "      <td>5.577181</td>\n",
       "    </tr>\n",
       "    <tr>\n",
       "      <th>10</th>\n",
       "      <td>e11x32STPhoRadA_14</td>\n",
       "      <td>0.920626</td>\n",
       "      <td>0.002445</td>\n",
       "      <td>6.993655</td>\n",
       "    </tr>\n",
       "    <tr>\n",
       "      <th>11</th>\n",
       "      <td>e11x32STPhoRadA_15</td>\n",
       "      <td>0.782661</td>\n",
       "      <td>0.002445</td>\n",
       "      <td>7.437780</td>\n",
       "    </tr>\n",
       "    <tr>\n",
       "      <th>12</th>\n",
       "      <td>e11x32STPhoRadA_20</td>\n",
       "      <td>0.006693</td>\n",
       "      <td>0.008869</td>\n",
       "      <td>0.010715</td>\n",
       "    </tr>\n",
       "    <tr>\n",
       "      <th>13</th>\n",
       "      <td>e11x32STPhoRadA_21</td>\n",
       "      <td>0.550379</td>\n",
       "      <td>0.008869</td>\n",
       "      <td>1.016134</td>\n",
       "    </tr>\n",
       "    <tr>\n",
       "      <th>14</th>\n",
       "      <td>e11x32STPhoRadA_22</td>\n",
       "      <td>2.786494</td>\n",
       "      <td>0.008869</td>\n",
       "      <td>2.998299</td>\n",
       "    </tr>\n",
       "    <tr>\n",
       "      <th>15</th>\n",
       "      <td>e11x32STPhoRadA_23</td>\n",
       "      <td>2.980325</td>\n",
       "      <td>0.008869</td>\n",
       "      <td>5.577181</td>\n",
       "    </tr>\n",
       "    <tr>\n",
       "      <th>16</th>\n",
       "      <td>e11x32STPhoRadA_24</td>\n",
       "      <td>2.641366</td>\n",
       "      <td>0.008869</td>\n",
       "      <td>6.993655</td>\n",
       "    </tr>\n",
       "    <tr>\n",
       "      <th>17</th>\n",
       "      <td>e11x32STPhoRadA_25</td>\n",
       "      <td>2.241688</td>\n",
       "      <td>0.008869</td>\n",
       "      <td>7.437780</td>\n",
       "    </tr>\n",
       "    <tr>\n",
       "      <th>18</th>\n",
       "      <td>e11x32STPhoRadA_30</td>\n",
       "      <td>0.008641</td>\n",
       "      <td>0.061032</td>\n",
       "      <td>0.010715</td>\n",
       "    </tr>\n",
       "    <tr>\n",
       "      <th>19</th>\n",
       "      <td>e11x32STPhoRadA_31</td>\n",
       "      <td>0.821241</td>\n",
       "      <td>0.061032</td>\n",
       "      <td>1.016134</td>\n",
       "    </tr>\n",
       "    <tr>\n",
       "      <th>20</th>\n",
       "      <td>e11x32STPhoRadA_32</td>\n",
       "      <td>4.073717</td>\n",
       "      <td>0.061032</td>\n",
       "      <td>2.998299</td>\n",
       "    </tr>\n",
       "    <tr>\n",
       "      <th>21</th>\n",
       "      <td>e11x32STPhoRadA_33</td>\n",
       "      <td>4.363827</td>\n",
       "      <td>0.061032</td>\n",
       "      <td>5.577181</td>\n",
       "    </tr>\n",
       "    <tr>\n",
       "      <th>22</th>\n",
       "      <td>e11x32STPhoRadA_34</td>\n",
       "      <td>3.714766</td>\n",
       "      <td>0.061032</td>\n",
       "      <td>6.993655</td>\n",
       "    </tr>\n",
       "    <tr>\n",
       "      <th>23</th>\n",
       "      <td>e11x32STPhoRadA_35</td>\n",
       "      <td>3.156893</td>\n",
       "      <td>0.061032</td>\n",
       "      <td>7.437780</td>\n",
       "    </tr>\n",
       "    <tr>\n",
       "      <th>24</th>\n",
       "      <td>e11x32STPhoRadA_40</td>\n",
       "      <td>0.008996</td>\n",
       "      <td>0.375124</td>\n",
       "      <td>0.010715</td>\n",
       "    </tr>\n",
       "    <tr>\n",
       "      <th>25</th>\n",
       "      <td>e11x32STPhoRadA_41</td>\n",
       "      <td>0.528348</td>\n",
       "      <td>0.375124</td>\n",
       "      <td>1.016134</td>\n",
       "    </tr>\n",
       "    <tr>\n",
       "      <th>26</th>\n",
       "      <td>e11x32STPhoRadA_42</td>\n",
       "      <td>4.174015</td>\n",
       "      <td>0.375124</td>\n",
       "      <td>2.998299</td>\n",
       "    </tr>\n",
       "    <tr>\n",
       "      <th>27</th>\n",
       "      <td>e11x32STPhoRadA_43</td>\n",
       "      <td>4.518671</td>\n",
       "      <td>0.375124</td>\n",
       "      <td>5.577181</td>\n",
       "    </tr>\n",
       "    <tr>\n",
       "      <th>28</th>\n",
       "      <td>e11x32STPhoRadA_44</td>\n",
       "      <td>4.249636</td>\n",
       "      <td>0.375124</td>\n",
       "      <td>6.993655</td>\n",
       "    </tr>\n",
       "    <tr>\n",
       "      <th>29</th>\n",
       "      <td>e11x32STPhoRadA_45</td>\n",
       "      <td>3.447126</td>\n",
       "      <td>0.375124</td>\n",
       "      <td>7.437780</td>\n",
       "    </tr>\n",
       "    <tr>\n",
       "      <th>30</th>\n",
       "      <td>e11x32STPhoRadA_50</td>\n",
       "      <td>0.012196</td>\n",
       "      <td>0.985566</td>\n",
       "      <td>0.010715</td>\n",
       "    </tr>\n",
       "    <tr>\n",
       "      <th>31</th>\n",
       "      <td>e11x32STPhoRadA_51</td>\n",
       "      <td>0.715109</td>\n",
       "      <td>0.985566</td>\n",
       "      <td>1.016134</td>\n",
       "    </tr>\n",
       "    <tr>\n",
       "      <th>32</th>\n",
       "      <td>e11x32STPhoRadA_52</td>\n",
       "      <td>4.826374</td>\n",
       "      <td>0.985566</td>\n",
       "      <td>2.998299</td>\n",
       "    </tr>\n",
       "    <tr>\n",
       "      <th>33</th>\n",
       "      <td>e11x32STPhoRadA_53</td>\n",
       "      <td>4.421256</td>\n",
       "      <td>0.985566</td>\n",
       "      <td>5.577181</td>\n",
       "    </tr>\n",
       "    <tr>\n",
       "      <th>34</th>\n",
       "      <td>e11x32STPhoRadA_54</td>\n",
       "      <td>4.051960</td>\n",
       "      <td>0.985566</td>\n",
       "      <td>6.993655</td>\n",
       "    </tr>\n",
       "    <tr>\n",
       "      <th>35</th>\n",
       "      <td>e11x32STPhoRadA_55</td>\n",
       "      <td>3.432154</td>\n",
       "      <td>0.985566</td>\n",
       "      <td>7.437780</td>\n",
       "    </tr>\n",
       "  </tbody>\n",
       "</table>\n",
       "</div>"
      ],
      "text/plain": [
       "                  name    actual      cuma       ara\n",
       "0   e11x32STPhoRadA_00  0.001785  0.001585  0.010715\n",
       "1   e11x32STPhoRadA_01  0.003042  0.001585  1.016134\n",
       "2   e11x32STPhoRadA_02  0.001504  0.001585  2.998299\n",
       "3   e11x32STPhoRadA_03  0.001901  0.001585  5.577181\n",
       "4   e11x32STPhoRadA_04  0.002020  0.001585  6.993655\n",
       "5   e11x32STPhoRadA_05  0.003990  0.001585  7.437780\n",
       "6   e11x32STPhoRadA_10  0.001196  0.002445  0.010715\n",
       "7   e11x32STPhoRadA_11  0.192623  0.002445  1.016134\n",
       "8   e11x32STPhoRadA_12  0.762740  0.002445  2.998299\n",
       "9   e11x32STPhoRadA_13  0.939117  0.002445  5.577181\n",
       "10  e11x32STPhoRadA_14  0.920626  0.002445  6.993655\n",
       "11  e11x32STPhoRadA_15  0.782661  0.002445  7.437780\n",
       "12  e11x32STPhoRadA_20  0.006693  0.008869  0.010715\n",
       "13  e11x32STPhoRadA_21  0.550379  0.008869  1.016134\n",
       "14  e11x32STPhoRadA_22  2.786494  0.008869  2.998299\n",
       "15  e11x32STPhoRadA_23  2.980325  0.008869  5.577181\n",
       "16  e11x32STPhoRadA_24  2.641366  0.008869  6.993655\n",
       "17  e11x32STPhoRadA_25  2.241688  0.008869  7.437780\n",
       "18  e11x32STPhoRadA_30  0.008641  0.061032  0.010715\n",
       "19  e11x32STPhoRadA_31  0.821241  0.061032  1.016134\n",
       "20  e11x32STPhoRadA_32  4.073717  0.061032  2.998299\n",
       "21  e11x32STPhoRadA_33  4.363827  0.061032  5.577181\n",
       "22  e11x32STPhoRadA_34  3.714766  0.061032  6.993655\n",
       "23  e11x32STPhoRadA_35  3.156893  0.061032  7.437780\n",
       "24  e11x32STPhoRadA_40  0.008996  0.375124  0.010715\n",
       "25  e11x32STPhoRadA_41  0.528348  0.375124  1.016134\n",
       "26  e11x32STPhoRadA_42  4.174015  0.375124  2.998299\n",
       "27  e11x32STPhoRadA_43  4.518671  0.375124  5.577181\n",
       "28  e11x32STPhoRadA_44  4.249636  0.375124  6.993655\n",
       "29  e11x32STPhoRadA_45  3.447126  0.375124  7.437780\n",
       "30  e11x32STPhoRadA_50  0.012196  0.985566  0.010715\n",
       "31  e11x32STPhoRadA_51  0.715109  0.985566  1.016134\n",
       "32  e11x32STPhoRadA_52  4.826374  0.985566  2.998299\n",
       "33  e11x32STPhoRadA_53  4.421256  0.985566  5.577181\n",
       "34  e11x32STPhoRadA_54  4.051960  0.985566  6.993655\n",
       "35  e11x32STPhoRadA_55  3.432154  0.985566  7.437780"
      ]
     },
     "execution_count": 336,
     "metadata": {},
     "output_type": "execute_result"
    }
   ],
   "source": [
    "act_data"
   ]
  },
  {
   "cell_type": "code",
   "execution_count": 335,
   "id": "c0e3f830",
   "metadata": {
    "scrolled": true
   },
   "outputs": [
    {
     "data": {
      "text/html": [
       "<div>\n",
       "<style scoped>\n",
       "    .dataframe tbody tr th:only-of-type {\n",
       "        vertical-align: middle;\n",
       "    }\n",
       "\n",
       "    .dataframe tbody tr th {\n",
       "        vertical-align: top;\n",
       "    }\n",
       "\n",
       "    .dataframe thead th {\n",
       "        text-align: right;\n",
       "    }\n",
       "</style>\n",
       "<table border=\"1\" class=\"dataframe\">\n",
       "  <thead>\n",
       "    <tr style=\"text-align: right;\">\n",
       "      <th></th>\n",
       "      <th>cuma</th>\n",
       "      <th>ara</th>\n",
       "      <th>prediction</th>\n",
       "    </tr>\n",
       "  </thead>\n",
       "  <tbody>\n",
       "    <tr>\n",
       "      <th>0</th>\n",
       "      <td>0.001585</td>\n",
       "      <td>0.010715</td>\n",
       "      <td>1.784803e-03</td>\n",
       "    </tr>\n",
       "    <tr>\n",
       "      <th>1</th>\n",
       "      <td>0.001585</td>\n",
       "      <td>0.010785</td>\n",
       "      <td>3.522305e-14</td>\n",
       "    </tr>\n",
       "    <tr>\n",
       "      <th>2</th>\n",
       "      <td>0.001585</td>\n",
       "      <td>0.010856</td>\n",
       "      <td>1.075224e-46</td>\n",
       "    </tr>\n",
       "    <tr>\n",
       "      <th>3</th>\n",
       "      <td>0.001585</td>\n",
       "      <td>0.010928</td>\n",
       "      <td>1.886504e-101</td>\n",
       "    </tr>\n",
       "    <tr>\n",
       "      <th>4</th>\n",
       "      <td>0.001585</td>\n",
       "      <td>0.010999</td>\n",
       "      <td>6.962281e-179</td>\n",
       "    </tr>\n",
       "    <tr>\n",
       "      <th>...</th>\n",
       "      <td>...</td>\n",
       "      <td>...</td>\n",
       "      <td>...</td>\n",
       "    </tr>\n",
       "    <tr>\n",
       "      <th>5995</th>\n",
       "      <td>0.985566</td>\n",
       "      <td>7.245463</td>\n",
       "      <td>0.000000e+00</td>\n",
       "    </tr>\n",
       "    <tr>\n",
       "      <th>5996</th>\n",
       "      <td>0.985566</td>\n",
       "      <td>7.293071</td>\n",
       "      <td>0.000000e+00</td>\n",
       "    </tr>\n",
       "    <tr>\n",
       "      <th>5997</th>\n",
       "      <td>0.985566</td>\n",
       "      <td>7.340992</td>\n",
       "      <td>0.000000e+00</td>\n",
       "    </tr>\n",
       "    <tr>\n",
       "      <th>5998</th>\n",
       "      <td>0.985566</td>\n",
       "      <td>7.389227</td>\n",
       "      <td>0.000000e+00</td>\n",
       "    </tr>\n",
       "    <tr>\n",
       "      <th>5999</th>\n",
       "      <td>0.985566</td>\n",
       "      <td>7.437780</td>\n",
       "      <td>3.431139e+00</td>\n",
       "    </tr>\n",
       "  </tbody>\n",
       "</table>\n",
       "<p>6000 rows × 3 columns</p>\n",
       "</div>"
      ],
      "text/plain": [
       "          cuma       ara     prediction\n",
       "0     0.001585  0.010715   1.784803e-03\n",
       "1     0.001585  0.010785   3.522305e-14\n",
       "2     0.001585  0.010856   1.075224e-46\n",
       "3     0.001585  0.010928  1.886504e-101\n",
       "4     0.001585  0.010999  6.962281e-179\n",
       "...        ...       ...            ...\n",
       "5995  0.985566  7.245463   0.000000e+00\n",
       "5996  0.985566  7.293071   0.000000e+00\n",
       "5997  0.985566  7.340992   0.000000e+00\n",
       "5998  0.985566  7.389227   0.000000e+00\n",
       "5999  0.985566  7.437780   3.431139e+00\n",
       "\n",
       "[6000 rows x 3 columns]"
      ]
     },
     "execution_count": 335,
     "metadata": {},
     "output_type": "execute_result"
    }
   ],
   "source": [
    "pred_data"
   ]
  },
  {
   "cell_type": "code",
   "execution_count": null,
   "id": "7c024464",
   "metadata": {},
   "outputs": [],
   "source": []
  },
  {
   "cell_type": "code",
   "execution_count": null,
   "id": "1a3a2c75",
   "metadata": {},
   "outputs": [],
   "source": [
    "fig = plt.figure(figsize=[4, 3])\n",
    "for i in act_data[fixed].unique():\n",
    "    act = act_data[act_data[fixed]==i]\n",
    "    pred = pred_data[pred_data[fixed]==i]\n",
    "    plt.scatter(act[varied], act['actual'])\n",
    "    plt.plot(pred[varied], pred['prediction'])\n",
    "    plt.title(title)\n",
    "plt.yscale('log')\n",
    "plt.loglog()\n",
    "sns.despine()"
   ]
  },
  {
   "cell_type": "code",
   "execution_count": null,
   "id": "c6084d7d",
   "metadata": {},
   "outputs": [],
   "source": [
    "for i in act_data[fixed].unique():\n",
    "    act = act_data[act_data[fixed]==i]\n",
    "    pred = pred_data[pred_data[fixed]==i]\n",
    "    plt.scatter(act[varied], act['actual'])\n",
    "    plt.plot(pred[varied], pred['prediction'])\n",
    "    plt.title(title)\n",
    "#plt.yscale('log')\n",
    "plt.loglog()\n",
    "sns.despine()"
   ]
  },
  {
   "cell_type": "code",
   "execution_count": null,
   "id": "e1e600bd",
   "metadata": {},
   "outputs": [],
   "source": []
  },
  {
   "cell_type": "code",
   "execution_count": null,
   "id": "bcea4c4b",
   "metadata": {},
   "outputs": [],
   "source": [
    "inducers = [cumas, ind2]\n",
    "data = pd.DataFrame(itertools.product(*inducers))\n",
    "df.columns = ['cuma', 'ara']\n",
    "df['ecf'] = 'e11'\n",
    "df['intein'] = 'STPhoRadA'\n",
    "df['rbs-c'] = '32'\n",
    "df"
   ]
  },
  {
   "cell_type": "code",
   "execution_count": null,
   "id": "c099934f",
   "metadata": {},
   "outputs": [],
   "source": [
    "data = df[df['']]"
   ]
  },
  {
   "cell_type": "code",
   "execution_count": null,
   "id": "0d99abd2",
   "metadata": {},
   "outputs": [],
   "source": [
    "inducers = [cumas, ind2]\n",
    "df = pd.DataFrame(itertools.product(*inducers))\n",
    "df.columns = ['cuma', 'ara']\n",
    "df['ecf'] = 'e11'\n",
    "df['intein'] = 'STPhoRadA'\n",
    "df['rbs-c'] = '32'\n",
    "df"
   ]
  },
  {
   "cell_type": "code",
   "execution_count": null,
   "id": "875c9107",
   "metadata": {},
   "outputs": [],
   "source": [
    "inducers = [cumas, ind2]\n",
    "df = pd.DataFrame(itertools.product(*inducers))\n",
    "df.columns = ['cuma', 'ara']\n",
    "df['ecf'] = 'e11'\n",
    "df['intein'] = 'STPhoRadA'\n",
    "df['rbs-c'] = '32'\n",
    "\n",
    "\n",
    "\n",
    "ohe_gated = pd.DataFrame(ohe.transform(df.drop(['cuma', 'ara'], axis=1)).toarray())\n",
    "X_gated = pd.concat([df[['cuma', 'ara']].reset_index(drop=True), ohe_gated.reset_index(drop=True)], axis=1)\n",
    "df['prediction'] = regr2.predict(X_gated)\n",
    "df['cuma'] = df['cuma'].apply(lambda x: 3.125 if x==0 else x)\n",
    "df['ara'] = df['ara'].apply(lambda x: 0.203125 if x==0 else x)"
   ]
  },
  {
   "cell_type": "code",
   "execution_count": null,
   "id": "fdde3616",
   "metadata": {},
   "outputs": [],
   "source": [
    "fig = plt.figure(figsize=[4, 3])\n",
    "title = 'e11x32STPhoRadA'\n",
    "X2 = X.copy()\n",
    "X2['actual'] = y\n",
    "X2['prediction'] = y_\n",
    "X2['gate'] = X2['ecf'] + 'x' + X2['rbs-c'] + X2['intein']\n",
    "#X2 = X2.drop(['ecf', 'rbs-c', 'intein'], axis=1)\n",
    "gated = X2[X2['gate']==title]\n",
    "gated['cuma'] = gated['cuma'].apply(lambda x: 3.125 if x==0 else x)\n",
    "gated['ara'] = gated['ara'].apply(lambda x: 0.203125 if x==0 else x)\n",
    "for i in gated['ara'].unique():\n",
    "    data = gated[gated['ara']==i]\n",
    "    data2 = df[df['ara']==i]\n",
    "    plt.scatter(data['cuma'], data['actual'])\n",
    "    #plt.plot(data['ara'], data['prediction'])\n",
    "    plt.plot(data2['cuma'], data2['prediction'])\n",
    "    plt.title(title)\n",
    "plt.loglog()\n",
    "sns.despine()"
   ]
  },
  {
   "cell_type": "code",
   "execution_count": null,
   "id": "0921224d",
   "metadata": {},
   "outputs": [],
   "source": [
    "data2 = df[df['cuma']==0]\n",
    "data2"
   ]
  },
  {
   "cell_type": "code",
   "execution_count": null,
   "id": "647afdff",
   "metadata": {},
   "outputs": [],
   "source": [
    "data2"
   ]
  },
  {
   "cell_type": "code",
   "execution_count": null,
   "id": "15fc3785",
   "metadata": {},
   "outputs": [],
   "source": [
    "std = np.std([tree.feature_importances_ for tree in regr.estimators_], axis=0)\n",
    "forest_importances = pd.Series(regr.feature_importances_, index=['cuma', 'ara'] + [i.split('_')[1] for i in ohe.get_feature_names().tolist()])\n",
    "fig, ax = plt.subplots()\n",
    "forest_importances.plot.bar(yerr=std, ax=ax)\n",
    "ax.set_title(\"Feature importances using MDI\")\n",
    "ax.set_ylabel(\"Mean decrease in impurity\")\n",
    "fig.tight_layout()"
   ]
  },
  {
   "cell_type": "code",
   "execution_count": null,
   "id": "9b98b333",
   "metadata": {},
   "outputs": [],
   "source": []
  },
  {
   "cell_type": "code",
   "execution_count": null,
   "id": "fd8c8632",
   "metadata": {},
   "outputs": [],
   "source": []
  },
  {
   "cell_type": "code",
   "execution_count": null,
   "id": "3bd2d228",
   "metadata": {},
   "outputs": [],
   "source": [
    "all_scores = []\n",
    "for i in tqdm(range(20)):\n",
    "    scores = cross_validate(RandomForestRegressor(), X_train_transformed, y_train,\n",
    "                            cv=10, scoring=('r2', 'neg_mean_absolute_error'), return_train_score=True)\n",
    "    all_scores.append([-i for i in scores['test_neg_mean_absolute_error']])"
   ]
  },
  {
   "cell_type": "code",
   "execution_count": null,
   "id": "a1cff814",
   "metadata": {},
   "outputs": [],
   "source": [
    "sns.kdeplot(np.array(all_scores).flatten())\n",
    "sns.despine()"
   ]
  },
  {
   "cell_type": "code",
   "execution_count": null,
   "id": "c9cc8c85",
   "metadata": {},
   "outputs": [],
   "source": [
    "np.mean([-i for i in scores['test_neg_mean_absolute_error']])"
   ]
  },
  {
   "cell_type": "code",
   "execution_count": null,
   "id": "8fee8a43",
   "metadata": {},
   "outputs": [],
   "source": [
    "all_scores = []\n",
    "for i in tqdm(range(1)):\n",
    "    scores = cross_validate(RandomForestRegressor(), X_train_transformed, y_train,\n",
    "                            cv=10, scoring=('r2_score', 'neg_mean_absolute_error'), return_train_score=True)\n",
    "    all_scores.append([-i for i in scores['test_r2']])"
   ]
  },
  {
   "cell_type": "code",
   "execution_count": null,
   "id": "6a378ddb",
   "metadata": {},
   "outputs": [],
   "source": [
    "sns.kdeplot(np.array(all_scores).flatten())\n",
    "sns.despine()"
   ]
  },
  {
   "cell_type": "markdown",
   "id": "afdf1f31",
   "metadata": {},
   "source": [
    "### Hyperparameter Optimization"
   ]
  },
  {
   "cell_type": "code",
   "execution_count": null,
   "id": "de664dde",
   "metadata": {},
   "outputs": [],
   "source": [
    "# Number of trees in random forest\n",
    "n_estimators = [100, 1000]\n",
    "# Number of features to consider at every split\n",
    "# max_features = ['auto', 'sqrt']\n",
    "# Maximum number of levels in tree\n",
    "max_depth = [10, 100]\n",
    "# max_depth.append(None)\n",
    "# Minimum number of samples required to split a node\n",
    "min_samples_split = [2, 10]\n",
    "# Minimum number of samples required at each leaf node\n",
    "min_samples_leaf = [1, 4]\n",
    "# Method of selecting samples for training each tree\n",
    "bootstrap = [True, False]\n",
    "# Create the random grid\n",
    "random_grid = {'n_estimators': n_estimators,\n",
    "               #'max_features': max_features,\n",
    "               'max_depth': max_depth,\n",
    "               #'min_samples_split': min_samples_split,\n",
    "               #'min_samples_leaf': min_samples_leaf,\n",
    "               #'bootstrap': bootstrap\n",
    "              }"
   ]
  },
  {
   "cell_type": "code",
   "execution_count": null,
   "id": "b4c4d7e1",
   "metadata": {},
   "outputs": [],
   "source": [
    "ohe = OneHotEncoder(handle_unknown='ignore').fit_transform(X).toarray()\n",
    "X_transformed = pd.concat([X[['cuma', 'ara']].reset_index(drop=True), pd.DataFrame(ohe).reset_index(drop=True)], axis=1)"
   ]
  },
  {
   "cell_type": "code",
   "execution_count": null,
   "id": "9af1afef",
   "metadata": {},
   "outputs": [],
   "source": [
    "# import warnings filter\n",
    "from warnings import simplefilter\n",
    "# ignore all future warnings\n",
    "simplefilter(action='ignore', category=FutureWarning)\n",
    "\n",
    "# Use the random grid to search for best hyperparameters\n",
    "# First create the base model to tune\n",
    "rf = RandomForestRegressor()\n",
    "# Random search of parameters, using 3 fold cross validation, \n",
    "# search across 100 different combinations, and use all available cores\n",
    "rf_random = RandomizedSearchCV(estimator=rf, param_distributions=random_grid,\n",
    "                               n_iter=100, cv=5, verbose=2, random_state=42, n_jobs=-1)\n",
    "# Fit the random search model\n",
    "rf_random.fit(X_transformed, y)"
   ]
  },
  {
   "cell_type": "code",
   "execution_count": null,
   "id": "75091d3b",
   "metadata": {},
   "outputs": [],
   "source": [
    "rf_random.best_params_"
   ]
  },
  {
   "cell_type": "code",
   "execution_count": null,
   "id": "21212f85",
   "metadata": {},
   "outputs": [],
   "source": [
    "df = pd.read_csv('datasets/data-driven-121.csv').append(pd.read_csv('datasets/data-driven-121_syn.csv'))\n",
    "df"
   ]
  },
  {
   "cell_type": "code",
   "execution_count": null,
   "id": "1f9450dc",
   "metadata": {},
   "outputs": [],
   "source": [
    "y = df['actual']\n",
    "X = df.drop('actual', axis=1)"
   ]
  },
  {
   "cell_type": "code",
   "execution_count": null,
   "id": "b6bf3163",
   "metadata": {},
   "outputs": [],
   "source": [
    "X_train, X_test, y_train, y_test = train_test_split(X, y, test_size=0.2)\n",
    "\n",
    "ohe = OneHotEncoder(handle_unknown='ignore').fit(X_train.drop(['cuma', 'ara'], axis=1))\n",
    "ohe_train = pd.DataFrame(ohe.transform(X_train.drop(['cuma', 'ara'], axis=1)).toarray())\n",
    "ohe_test = pd.DataFrame(ohe.transform(X_test.drop(['cuma', 'ara'], axis=1)).toarray())\n",
    "\n",
    "X_train_transformed = pd.concat([X_train[['cuma', 'ara']].reset_index(drop=True), ohe_train.reset_index(drop=True)], axis=1)\n",
    "X_test_transformed = pd.concat([X_test[['cuma', 'ara']].reset_index(drop=True), ohe_test.reset_index(drop=True)], axis=1)\n",
    "\n",
    "regr = RandomForestRegressor(n_estimators=100)\n",
    "regr.fit(X_train_transformed, y_train)"
   ]
  },
  {
   "cell_type": "code",
   "execution_count": null,
   "id": "da137825",
   "metadata": {},
   "outputs": [],
   "source": [
    "y_pred = regr.predict(X_test_transformed)\n",
    "100 - mean_absolute_percentage_error(y_test, y_pred)"
   ]
  },
  {
   "cell_type": "code",
   "execution_count": null,
   "id": "3ffb6096",
   "metadata": {},
   "outputs": [],
   "source": [
    "mean_absolute_error(y_test, y_pred)"
   ]
  },
  {
   "cell_type": "code",
   "execution_count": null,
   "id": "92a0d278",
   "metadata": {},
   "outputs": [],
   "source": [
    "sns.regplot(y_test, y_pred)\n",
    "sns.despine()"
   ]
  },
  {
   "cell_type": "code",
   "execution_count": null,
   "id": "ea445dc9",
   "metadata": {},
   "outputs": [],
   "source": []
  }
 ],
 "metadata": {
  "kernelspec": {
   "display_name": "Python 3 (ipykernel)",
   "language": "python",
   "name": "python3"
  },
  "language_info": {
   "codemirror_mode": {
    "name": "ipython",
    "version": 3
   },
   "file_extension": ".py",
   "mimetype": "text/x-python",
   "name": "python",
   "nbconvert_exporter": "python",
   "pygments_lexer": "ipython3",
   "version": "3.9.12"
  }
 },
 "nbformat": 4,
 "nbformat_minor": 5
}
